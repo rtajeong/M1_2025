{
  "nbformat": 4,
  "nbformat_minor": 0,
  "metadata": {
    "colab": {
      "provenance": [],
      "toc_visible": true,
      "authorship_tag": "ABX9TyO8nJqqC3Z2yU0jWAUmVEHl",
      "include_colab_link": true
    },
    "kernelspec": {
      "name": "python3",
      "display_name": "Python 3"
    },
    "language_info": {
      "name": "python"
    }
  },
  "cells": [
    {
      "cell_type": "markdown",
      "metadata": {
        "id": "view-in-github",
        "colab_type": "text"
      },
      "source": [
        "<a href=\"https://colab.research.google.com/github/rtajeong/M1_2025/blob/main/Ch0_Math.ipynb\" target=\"_parent\"><img src=\"https://colab.research.google.com/assets/colab-badge.svg\" alt=\"Open In Colab\"/></a>"
      ]
    },
    {
      "cell_type": "markdown",
      "source": [
        "# Statistics"
      ],
      "metadata": {
        "id": "FthBpEjdsceL"
      }
    },
    {
      "cell_type": "markdown",
      "source": [
        "## 기술 통계 (descriptive statistics)\n",
        "- 기술통계(descriptive statistics*는 수치 데이터의 특징을 요약하고 설명하는 통계 방법\n",
        "- 복잡한 데이터를 간단한 수치(평균, 중앙값, 최빈값 등)나 그래프(히스토그램, 상자 그림 등)로 변환하여 데이터의 분포, 중심 경향, 산포도 등을 쉽게 이해할 수 있도록 돕는다.\n",
        "- 중심 경향성 측정치(Measures of central tendency):\n",
        "  - 평균(Mean)\n",
        "  - 중앙값(Median): 데이터를 크기 순서대로 나열했을 때 가장 가운데에 위치하는 값.\n",
        "  - 최빈값(Mode): 데이터에서 가장 자주 나타나는 값.\n",
        "- 산포도 측정치(Measures of variability): 데이터가 얼마나 흩어져 있는지를 나타낸다.\n",
        "  - 범위(Range): 최댓값과 최솟값의 차이.\n",
        "  - 분산(Variance): 데이터가 평균으로부터 얼마나 떨어져 있는지 나타내는 값.\n",
        "  - 표준편차(Standard deviation): 분산의 제곱근으로, 분산과 동일한 단위를 갖는다.\n",
        "- 분포 측정치(Measures of distribution): 데이터의 모양과 대칭성을 나타낸다.\n",
        "  - 왜도(Skewness): 분포가 한쪽으로 치우쳐 있는 정도.\n",
        "  - 첨도(Kurtosis): 분포의 뾰족한 정도."
      ],
      "metadata": {
        "id": "DSuPUH7esfBq"
      }
    },
    {
      "cell_type": "markdown",
      "source": [
        "- 추론통계와의 차이점:\n",
        "  - 기술통계는 데이터 자체의 특징을 요약하는 반면, **추론통계(inferential statistics)**는 표본 데이터를 바탕으로 모집단의 특성을 추론하는 데 사용된다. 예를 들어, 특정 학급 학생들의 시험 점수 평균을 계산하는 것은 기술통계이고, 이 학급의 점수 평균을 바탕으로 전체 학교 학생들의 평균을 예측하는 것은 추론통계에 속한다."
      ],
      "metadata": {
        "id": "701OAWQUtmaS"
      }
    },
    {
      "cell_type": "code",
      "execution_count": null,
      "metadata": {
        "colab": {
          "base_uri": "https://localhost:8080/"
        },
        "id": "z2AWXZlLsPfu",
        "outputId": "7274cf3b-34dc-4db8-d132-9ab1b2805bda"
      },
      "outputs": [
        {
          "output_type": "stream",
          "name": "stdout",
          "text": [
            "기술 통계량:\n",
            "             age        salary\n",
            "count   8.000000      8.000000\n",
            "mean   35.000000   7125.000000\n",
            "std     9.258201   1747.447118\n",
            "min    25.000000   5000.000000\n",
            "25%    28.750000   5875.000000\n",
            "50%    32.500000   6750.000000\n",
            "75%    41.250000   8250.000000\n",
            "max    50.000000  10000.000000\n"
          ]
        }
      ],
      "source": [
        "import pandas as pd\n",
        "import numpy as np\n",
        "\n",
        "# 가상 데이터 생성\n",
        "data = {'age': [25, 30, 35, 40, 25, 30, 45, 50],\n",
        "        'salary': [5000, 6000, 7000, 8000, 5500, 6500, 9000, 10000]}\n",
        "df = pd.DataFrame(data)\n",
        "\n",
        "# 기술 통계량 계산\n",
        "print(\"기술 통계량:\")\n",
        "print(df.describe())"
      ]
    },
    {
      "cell_type": "code",
      "source": [
        "df"
      ],
      "metadata": {
        "colab": {
          "base_uri": "https://localhost:8080/",
          "height": 300
        },
        "id": "9-MaajrDsm7x",
        "outputId": "d7c84ffa-8df7-4be0-bd39-4b75d6da0df5"
      },
      "execution_count": null,
      "outputs": [
        {
          "output_type": "execute_result",
          "data": {
            "text/plain": [
              "   age  salary\n",
              "0   25    5000\n",
              "1   30    6000\n",
              "2   35    7000\n",
              "3   40    8000\n",
              "4   25    5500\n",
              "5   30    6500\n",
              "6   45    9000\n",
              "7   50   10000"
            ],
            "text/html": [
              "\n",
              "  <div id=\"df-84622873-9dd0-4ab9-8e87-c8d9b430ea51\" class=\"colab-df-container\">\n",
              "    <div>\n",
              "<style scoped>\n",
              "    .dataframe tbody tr th:only-of-type {\n",
              "        vertical-align: middle;\n",
              "    }\n",
              "\n",
              "    .dataframe tbody tr th {\n",
              "        vertical-align: top;\n",
              "    }\n",
              "\n",
              "    .dataframe thead th {\n",
              "        text-align: right;\n",
              "    }\n",
              "</style>\n",
              "<table border=\"1\" class=\"dataframe\">\n",
              "  <thead>\n",
              "    <tr style=\"text-align: right;\">\n",
              "      <th></th>\n",
              "      <th>age</th>\n",
              "      <th>salary</th>\n",
              "    </tr>\n",
              "  </thead>\n",
              "  <tbody>\n",
              "    <tr>\n",
              "      <th>0</th>\n",
              "      <td>25</td>\n",
              "      <td>5000</td>\n",
              "    </tr>\n",
              "    <tr>\n",
              "      <th>1</th>\n",
              "      <td>30</td>\n",
              "      <td>6000</td>\n",
              "    </tr>\n",
              "    <tr>\n",
              "      <th>2</th>\n",
              "      <td>35</td>\n",
              "      <td>7000</td>\n",
              "    </tr>\n",
              "    <tr>\n",
              "      <th>3</th>\n",
              "      <td>40</td>\n",
              "      <td>8000</td>\n",
              "    </tr>\n",
              "    <tr>\n",
              "      <th>4</th>\n",
              "      <td>25</td>\n",
              "      <td>5500</td>\n",
              "    </tr>\n",
              "    <tr>\n",
              "      <th>5</th>\n",
              "      <td>30</td>\n",
              "      <td>6500</td>\n",
              "    </tr>\n",
              "    <tr>\n",
              "      <th>6</th>\n",
              "      <td>45</td>\n",
              "      <td>9000</td>\n",
              "    </tr>\n",
              "    <tr>\n",
              "      <th>7</th>\n",
              "      <td>50</td>\n",
              "      <td>10000</td>\n",
              "    </tr>\n",
              "  </tbody>\n",
              "</table>\n",
              "</div>\n",
              "    <div class=\"colab-df-buttons\">\n",
              "\n",
              "  <div class=\"colab-df-container\">\n",
              "    <button class=\"colab-df-convert\" onclick=\"convertToInteractive('df-84622873-9dd0-4ab9-8e87-c8d9b430ea51')\"\n",
              "            title=\"Convert this dataframe to an interactive table.\"\n",
              "            style=\"display:none;\">\n",
              "\n",
              "  <svg xmlns=\"http://www.w3.org/2000/svg\" height=\"24px\" viewBox=\"0 -960 960 960\">\n",
              "    <path d=\"M120-120v-720h720v720H120Zm60-500h600v-160H180v160Zm220 220h160v-160H400v160Zm0 220h160v-160H400v160ZM180-400h160v-160H180v160Zm440 0h160v-160H620v160ZM180-180h160v-160H180v160Zm440 0h160v-160H620v160Z\"/>\n",
              "  </svg>\n",
              "    </button>\n",
              "\n",
              "  <style>\n",
              "    .colab-df-container {\n",
              "      display:flex;\n",
              "      gap: 12px;\n",
              "    }\n",
              "\n",
              "    .colab-df-convert {\n",
              "      background-color: #E8F0FE;\n",
              "      border: none;\n",
              "      border-radius: 50%;\n",
              "      cursor: pointer;\n",
              "      display: none;\n",
              "      fill: #1967D2;\n",
              "      height: 32px;\n",
              "      padding: 0 0 0 0;\n",
              "      width: 32px;\n",
              "    }\n",
              "\n",
              "    .colab-df-convert:hover {\n",
              "      background-color: #E2EBFA;\n",
              "      box-shadow: 0px 1px 2px rgba(60, 64, 67, 0.3), 0px 1px 3px 1px rgba(60, 64, 67, 0.15);\n",
              "      fill: #174EA6;\n",
              "    }\n",
              "\n",
              "    .colab-df-buttons div {\n",
              "      margin-bottom: 4px;\n",
              "    }\n",
              "\n",
              "    [theme=dark] .colab-df-convert {\n",
              "      background-color: #3B4455;\n",
              "      fill: #D2E3FC;\n",
              "    }\n",
              "\n",
              "    [theme=dark] .colab-df-convert:hover {\n",
              "      background-color: #434B5C;\n",
              "      box-shadow: 0px 1px 3px 1px rgba(0, 0, 0, 0.15);\n",
              "      filter: drop-shadow(0px 1px 2px rgba(0, 0, 0, 0.3));\n",
              "      fill: #FFFFFF;\n",
              "    }\n",
              "  </style>\n",
              "\n",
              "    <script>\n",
              "      const buttonEl =\n",
              "        document.querySelector('#df-84622873-9dd0-4ab9-8e87-c8d9b430ea51 button.colab-df-convert');\n",
              "      buttonEl.style.display =\n",
              "        google.colab.kernel.accessAllowed ? 'block' : 'none';\n",
              "\n",
              "      async function convertToInteractive(key) {\n",
              "        const element = document.querySelector('#df-84622873-9dd0-4ab9-8e87-c8d9b430ea51');\n",
              "        const dataTable =\n",
              "          await google.colab.kernel.invokeFunction('convertToInteractive',\n",
              "                                                    [key], {});\n",
              "        if (!dataTable) return;\n",
              "\n",
              "        const docLinkHtml = 'Like what you see? Visit the ' +\n",
              "          '<a target=\"_blank\" href=https://colab.research.google.com/notebooks/data_table.ipynb>data table notebook</a>'\n",
              "          + ' to learn more about interactive tables.';\n",
              "        element.innerHTML = '';\n",
              "        dataTable['output_type'] = 'display_data';\n",
              "        await google.colab.output.renderOutput(dataTable, element);\n",
              "        const docLink = document.createElement('div');\n",
              "        docLink.innerHTML = docLinkHtml;\n",
              "        element.appendChild(docLink);\n",
              "      }\n",
              "    </script>\n",
              "  </div>\n",
              "\n",
              "\n",
              "    <div id=\"df-c05bd580-5716-422f-8827-7e7f65e355a8\">\n",
              "      <button class=\"colab-df-quickchart\" onclick=\"quickchart('df-c05bd580-5716-422f-8827-7e7f65e355a8')\"\n",
              "                title=\"Suggest charts\"\n",
              "                style=\"display:none;\">\n",
              "\n",
              "<svg xmlns=\"http://www.w3.org/2000/svg\" height=\"24px\"viewBox=\"0 0 24 24\"\n",
              "     width=\"24px\">\n",
              "    <g>\n",
              "        <path d=\"M19 3H5c-1.1 0-2 .9-2 2v14c0 1.1.9 2 2 2h14c1.1 0 2-.9 2-2V5c0-1.1-.9-2-2-2zM9 17H7v-7h2v7zm4 0h-2V7h2v10zm4 0h-2v-4h2v4z\"/>\n",
              "    </g>\n",
              "</svg>\n",
              "      </button>\n",
              "\n",
              "<style>\n",
              "  .colab-df-quickchart {\n",
              "      --bg-color: #E8F0FE;\n",
              "      --fill-color: #1967D2;\n",
              "      --hover-bg-color: #E2EBFA;\n",
              "      --hover-fill-color: #174EA6;\n",
              "      --disabled-fill-color: #AAA;\n",
              "      --disabled-bg-color: #DDD;\n",
              "  }\n",
              "\n",
              "  [theme=dark] .colab-df-quickchart {\n",
              "      --bg-color: #3B4455;\n",
              "      --fill-color: #D2E3FC;\n",
              "      --hover-bg-color: #434B5C;\n",
              "      --hover-fill-color: #FFFFFF;\n",
              "      --disabled-bg-color: #3B4455;\n",
              "      --disabled-fill-color: #666;\n",
              "  }\n",
              "\n",
              "  .colab-df-quickchart {\n",
              "    background-color: var(--bg-color);\n",
              "    border: none;\n",
              "    border-radius: 50%;\n",
              "    cursor: pointer;\n",
              "    display: none;\n",
              "    fill: var(--fill-color);\n",
              "    height: 32px;\n",
              "    padding: 0;\n",
              "    width: 32px;\n",
              "  }\n",
              "\n",
              "  .colab-df-quickchart:hover {\n",
              "    background-color: var(--hover-bg-color);\n",
              "    box-shadow: 0 1px 2px rgba(60, 64, 67, 0.3), 0 1px 3px 1px rgba(60, 64, 67, 0.15);\n",
              "    fill: var(--button-hover-fill-color);\n",
              "  }\n",
              "\n",
              "  .colab-df-quickchart-complete:disabled,\n",
              "  .colab-df-quickchart-complete:disabled:hover {\n",
              "    background-color: var(--disabled-bg-color);\n",
              "    fill: var(--disabled-fill-color);\n",
              "    box-shadow: none;\n",
              "  }\n",
              "\n",
              "  .colab-df-spinner {\n",
              "    border: 2px solid var(--fill-color);\n",
              "    border-color: transparent;\n",
              "    border-bottom-color: var(--fill-color);\n",
              "    animation:\n",
              "      spin 1s steps(1) infinite;\n",
              "  }\n",
              "\n",
              "  @keyframes spin {\n",
              "    0% {\n",
              "      border-color: transparent;\n",
              "      border-bottom-color: var(--fill-color);\n",
              "      border-left-color: var(--fill-color);\n",
              "    }\n",
              "    20% {\n",
              "      border-color: transparent;\n",
              "      border-left-color: var(--fill-color);\n",
              "      border-top-color: var(--fill-color);\n",
              "    }\n",
              "    30% {\n",
              "      border-color: transparent;\n",
              "      border-left-color: var(--fill-color);\n",
              "      border-top-color: var(--fill-color);\n",
              "      border-right-color: var(--fill-color);\n",
              "    }\n",
              "    40% {\n",
              "      border-color: transparent;\n",
              "      border-right-color: var(--fill-color);\n",
              "      border-top-color: var(--fill-color);\n",
              "    }\n",
              "    60% {\n",
              "      border-color: transparent;\n",
              "      border-right-color: var(--fill-color);\n",
              "    }\n",
              "    80% {\n",
              "      border-color: transparent;\n",
              "      border-right-color: var(--fill-color);\n",
              "      border-bottom-color: var(--fill-color);\n",
              "    }\n",
              "    90% {\n",
              "      border-color: transparent;\n",
              "      border-bottom-color: var(--fill-color);\n",
              "    }\n",
              "  }\n",
              "</style>\n",
              "\n",
              "      <script>\n",
              "        async function quickchart(key) {\n",
              "          const quickchartButtonEl =\n",
              "            document.querySelector('#' + key + ' button');\n",
              "          quickchartButtonEl.disabled = true;  // To prevent multiple clicks.\n",
              "          quickchartButtonEl.classList.add('colab-df-spinner');\n",
              "          try {\n",
              "            const charts = await google.colab.kernel.invokeFunction(\n",
              "                'suggestCharts', [key], {});\n",
              "          } catch (error) {\n",
              "            console.error('Error during call to suggestCharts:', error);\n",
              "          }\n",
              "          quickchartButtonEl.classList.remove('colab-df-spinner');\n",
              "          quickchartButtonEl.classList.add('colab-df-quickchart-complete');\n",
              "        }\n",
              "        (() => {\n",
              "          let quickchartButtonEl =\n",
              "            document.querySelector('#df-c05bd580-5716-422f-8827-7e7f65e355a8 button');\n",
              "          quickchartButtonEl.style.display =\n",
              "            google.colab.kernel.accessAllowed ? 'block' : 'none';\n",
              "        })();\n",
              "      </script>\n",
              "    </div>\n",
              "\n",
              "  <div id=\"id_c00c3a25-6a22-4174-945d-8396ca846f6e\">\n",
              "    <style>\n",
              "      .colab-df-generate {\n",
              "        background-color: #E8F0FE;\n",
              "        border: none;\n",
              "        border-radius: 50%;\n",
              "        cursor: pointer;\n",
              "        display: none;\n",
              "        fill: #1967D2;\n",
              "        height: 32px;\n",
              "        padding: 0 0 0 0;\n",
              "        width: 32px;\n",
              "      }\n",
              "\n",
              "      .colab-df-generate:hover {\n",
              "        background-color: #E2EBFA;\n",
              "        box-shadow: 0px 1px 2px rgba(60, 64, 67, 0.3), 0px 1px 3px 1px rgba(60, 64, 67, 0.15);\n",
              "        fill: #174EA6;\n",
              "      }\n",
              "\n",
              "      [theme=dark] .colab-df-generate {\n",
              "        background-color: #3B4455;\n",
              "        fill: #D2E3FC;\n",
              "      }\n",
              "\n",
              "      [theme=dark] .colab-df-generate:hover {\n",
              "        background-color: #434B5C;\n",
              "        box-shadow: 0px 1px 3px 1px rgba(0, 0, 0, 0.15);\n",
              "        filter: drop-shadow(0px 1px 2px rgba(0, 0, 0, 0.3));\n",
              "        fill: #FFFFFF;\n",
              "      }\n",
              "    </style>\n",
              "    <button class=\"colab-df-generate\" onclick=\"generateWithVariable('df')\"\n",
              "            title=\"Generate code using this dataframe.\"\n",
              "            style=\"display:none;\">\n",
              "\n",
              "  <svg xmlns=\"http://www.w3.org/2000/svg\" height=\"24px\"viewBox=\"0 0 24 24\"\n",
              "       width=\"24px\">\n",
              "    <path d=\"M7,19H8.4L18.45,9,17,7.55,7,17.6ZM5,21V16.75L18.45,3.32a2,2,0,0,1,2.83,0l1.4,1.43a1.91,1.91,0,0,1,.58,1.4,1.91,1.91,0,0,1-.58,1.4L9.25,21ZM18.45,9,17,7.55Zm-12,3A5.31,5.31,0,0,0,4.9,8.1,5.31,5.31,0,0,0,1,6.5,5.31,5.31,0,0,0,4.9,4.9,5.31,5.31,0,0,0,6.5,1,5.31,5.31,0,0,0,8.1,4.9,5.31,5.31,0,0,0,12,6.5,5.46,5.46,0,0,0,6.5,12Z\"/>\n",
              "  </svg>\n",
              "    </button>\n",
              "    <script>\n",
              "      (() => {\n",
              "      const buttonEl =\n",
              "        document.querySelector('#id_c00c3a25-6a22-4174-945d-8396ca846f6e button.colab-df-generate');\n",
              "      buttonEl.style.display =\n",
              "        google.colab.kernel.accessAllowed ? 'block' : 'none';\n",
              "\n",
              "      buttonEl.onclick = () => {\n",
              "        google.colab.notebook.generateWithVariable('df');\n",
              "      }\n",
              "      })();\n",
              "    </script>\n",
              "  </div>\n",
              "\n",
              "    </div>\n",
              "  </div>\n"
            ],
            "application/vnd.google.colaboratory.intrinsic+json": {
              "type": "dataframe",
              "variable_name": "df",
              "summary": "{\n  \"name\": \"df\",\n  \"rows\": 8,\n  \"fields\": [\n    {\n      \"column\": \"age\",\n      \"properties\": {\n        \"dtype\": \"number\",\n        \"std\": 9,\n        \"min\": 25,\n        \"max\": 50,\n        \"num_unique_values\": 6,\n        \"samples\": [\n          25,\n          30,\n          50\n        ],\n        \"semantic_type\": \"\",\n        \"description\": \"\"\n      }\n    },\n    {\n      \"column\": \"salary\",\n      \"properties\": {\n        \"dtype\": \"number\",\n        \"std\": 1747,\n        \"min\": 5000,\n        \"max\": 10000,\n        \"num_unique_values\": 8,\n        \"samples\": [\n          6000,\n          6500,\n          5000\n        ],\n        \"semantic_type\": \"\",\n        \"description\": \"\"\n      }\n    }\n  ]\n}"
            }
          },
          "metadata": {},
          "execution_count": 2
        }
      ]
    },
    {
      "cell_type": "markdown",
      "source": [
        "## 추론 통계 (Inferential Statistics)\n",
        "- 가설 검정(Hypothesis Testing): 모집단에 대한 특정 주장이 맞는지 틀렸는지를 통계적으로 판단한다.\n",
        "- 추정(Estimation): 표본 데이터를 이용해 **모집단 모수(parameter)**의 값을 예측한다.\n",
        "- 예를 들어, \"우리 학교 학생들의 평균 키가 175cm일까?\"라고 묻고 답하는 것은 가설 검정에 해당한다. 반면에 \"표본 학생 100명의 평균 키가 174cm였으니, 전체 학생들의 평균 키는 173cm에서 175cm 사이일 것으로 95% 확신한다\"고 말하는 것은 추정에 해당한다."
      ],
      "metadata": {
        "id": "R7xd642Ut6Ip"
      }
    },
    {
      "cell_type": "markdown",
      "source": [
        "### P-values\n",
        "- 가설 검정(Hypothesis Testing)은 표본 데이터를 통해 모집단에 대한 가설을 통계적으로 검증하는 과정이다. 이 과정은 마치 법정의 재판과 같다. 피고인(귀무 가설)은 무죄(참)라는 전제 하에 시작하고, 유죄(대립 가설)를 증명하기 위한 증거(데이터)를 제시한다.\n",
        "- 가설 검정의 핵심 개념\n",
        "  - 귀무 가설(H0): \"효과가 없다\" 또는 \"차이가 없다\"는 기본 가설이다. 법정의 \"무죄 추정의 원칙\"과 같다. 예를 들어, \"새로운 약은 기존 약과 효과가 동일하다\"와 같이 설정한다.\n",
        "  - 대립 가설(H1): 귀무 가설과 반대되는 주장으로, 우리가 증명하고 싶은 가설이다. 예를 들어, \"새로운 약이 기존 약보다 효과가 좋다\"와 같이 설정한다.\n",
        "  - 유의 수준(Significance level, α): 귀무 가설이 참인데도 불구하고 우리가 실수로 귀무 가설을 기각할 확률의 최댓값이다. 보통 0.05(5%)를 사용한다. 이는 '5%의 위험을 감수하고 결론을 내리겠다'는 의미다.\n",
        "- P-값 (P-value): P-값은 가설 검정에서 데이터가 귀무 가설(H0)을 얼마나 지지하는지를 나타내는 값이다. 정확하게는 \"귀무 가설이 참이라는 가정 하에, 현재 관찰된 데이터보다 극단적인 결과가 나타날 확률\"이다.\n",
        "-P-값은 0과 1 사이의 값을 가지며, 그 의미는 다음과 같다.\n",
        "  - P-값이 작을수록 (유의 수준 α보다 작을 때): 현재의 데이터는 귀무 가설이 참일 때 매우 드물게 나타나는 결과다. 따라서 \"귀무 가설이 틀렸을 가능성이 높다\"고 판단하고 귀무 가설을 **기각(reject)**한다. 이는 대립 가설이 옳다고 주장할 만한 통계적 증거가 있다는 의미다.\n",
        "  - P-값이 클수록 (유의 수준 α보다 클 때): 현재의 데이터는 귀무 가설이 참일 때도 흔히 나타날 수 있는 결과다. 따라서 귀무 가설을 기각할 만한 충분한 증거가 없다고 판단하고 귀무 가설을 **채택(fail to reject)**한다. (귀무 가설이 참이라고 증명된 것은 아니다.)"
      ],
      "metadata": {
        "id": "IyLVt6u6FJ5T"
      }
    },
    {
      "cell_type": "code",
      "source": [
        "# example: dice game\n",
        "import numpy as np\n",
        "from scipy import stats\n",
        "\n",
        "# 가설: 주사위는 공정하다. (6이 나올 확률은 1/6)\n",
        "# 귀무 가설 (H0): p = 1/6\n",
        "# 대립 가설 (Ha): p > 1/6 (6이 비정상적으로 잘 나온다)\n",
        "\n",
        "# 실험 설정\n",
        "num_rolls = 10                  # 주사위를 굴린 횟수\n",
        "p_success_null = 1/6            # 귀무 가설 하에서 6이 나올 확률\n",
        "observed_successes = 8          # 10번 중 6이 나온 횟수 (극단적인 결과)\n",
        "\n",
        "# p-값 계산\n",
        "# '10번 중 8번 이상 6이 나올 확률'은 '1 - (7번 이하 6이 나올 확률)'과 같다.\n",
        "# scipy.stats.binom.sf(k, n, p)는 k회 초과 성공 확률을 계산하므로,\n",
        "# observed_successes-1을 인자로 넣어 k회 이상 성공 확률을 구한다.\n",
        "p_value = stats.binom.sf(observed_successes - 1, n=num_rolls, p=p_success_null)\n",
        "\n",
        "# 유의 수준 설정 (일반적으로 0.05 사용)\n",
        "alpha = 0.05\n",
        "\n",
        "print(f\"**주사위 가설 검정 실험 결과**\")\n",
        "print(f\"--------------------------------------------------\")\n",
        "print(f\"총 주사위 굴린 횟수: {num_rolls}회\")\n",
        "print(f\"관찰된 6이 나온 횟수: {observed_successes}회\")\n",
        "print(f\"--------------------------------------------------\")\n",
        "print(f\"P-값: {p_value:.6f}\")\n",
        "print(f\"유의 수준 (alpha): {alpha:.2f}\")\n",
        "print(f\"--------------------------------------------------\")\n",
        "\n",
        "# 결과 해석\n",
        "if p_value < alpha:\n",
        "    print(f\"P-값({p_value:.6f})이 유의 수준({alpha})보다 작으므로 귀무 가설을 기각한다.\")\n",
        "    print(f\"결론: 주사위는 공정하지 않다. (6이 나올 확률이 1/6보다 크다고 볼 수 있다.)\")\n",
        "else:\n",
        "    print(f\"P-값({p_value:.6f})이 유의 수준({alpha})보다 크므로 귀무 가설을 기각할 수 없다.\")\n",
        "    print(f\"결론: 주사위가 공정하다는 것을 반박할 충분한 증거가 없다.\")"
      ],
      "metadata": {
        "colab": {
          "base_uri": "https://localhost:8080/"
        },
        "id": "NIT8iVplHr0M",
        "outputId": "e794c671-255b-4559-e4c1-6539eaff6449"
      },
      "execution_count": 1,
      "outputs": [
        {
          "output_type": "stream",
          "name": "stdout",
          "text": [
            "**주사위 가설 검정 실험 결과**\n",
            "--------------------------------------------------\n",
            "총 주사위 굴린 횟수: 10회\n",
            "관찰된 6이 나온 횟수: 8회\n",
            "--------------------------------------------------\n",
            "P-값: 0.000019\n",
            "유의 수준 (alpha): 0.05\n",
            "--------------------------------------------------\n",
            "P-값(0.000019)이 유의 수준(0.05)보다 작으므로 귀무 가설을 기각한다.\n",
            "결론: 주사위는 공정하지 않다. (6이 나올 확률이 1/6보다 크다고 볼 수 있다.)\n"
          ]
        }
      ]
    },
    {
      "cell_type": "code",
      "source": [
        "# manual 계산: p-값은 \"관측된 결과(k=8)만큼 극단적이거나, 그보다 더 극단적인 결과(k=9,10)가\n",
        "# 발생할 확률\"을 의미\n",
        "import math\n",
        "\n",
        "p_8 = (1/6)**8 * (5/6)**2 * math.comb(10, 8)\n",
        "p_9 = (1/6)**9 * (5/6)**1 * math.comb(10, 9)\n",
        "p_10 = (1/6)**10 * math.comb(10, 10)\n",
        "pval = p_8 + p_9 + p_10\n",
        "print (pval)"
      ],
      "metadata": {
        "colab": {
          "base_uri": "https://localhost:8080/"
        },
        "id": "PbZwjZuoJHop",
        "outputId": "783275a0-d878-4e02-c67b-6dd39678c9a8"
      },
      "execution_count": null,
      "outputs": [
        {
          "output_type": "stream",
          "name": "stdout",
          "text": [
            "1.9448889904994147e-05\n"
          ]
        }
      ]
    },
    {
      "cell_type": "markdown",
      "source": [
        "### 가설 검정 (Hypothesis Testing)\n",
        "가설 검정은 표본 데이터를 이용해 모집단에 대한 가설을 검증하는 방법이다. 다음은 scipy 라이브러리를 사용한 t-검정 예시다."
      ],
      "metadata": {
        "id": "opDuLCT_zjor"
      }
    },
    {
      "cell_type": "code",
      "source": [
        "from scipy import stats\n",
        "\n",
        "# 두 집단의 가상 데이터\n",
        "group1_scores = [85, 90, 78, 92, 88]\n",
        "group2_scores = [75, 82, 80, 85, 79]\n",
        "\n",
        "# 독립 표본 t-검정 수행\n",
        "t_statistic, p_value = stats.ttest_ind(group1_scores, group2_scores)\n",
        "\n",
        "print(f\"t-통계량: {t_statistic:.2f}\")\n",
        "print(f\"p-값: {p_value:.4f}\")\n",
        "\n",
        "# p-값 해석\n",
        "if p_value < 0.05:\n",
        "    print(\"p-값이 0.05보다 작으므로, 두 집단의 평균에 통계적으로 유의미한 차이가 있다.\")\n",
        "else:\n",
        "    print(\"p-값이 0.05보다 크므로, 두 집단의 평균에 통계적으로 유의미한 차이가 없다.\")"
      ],
      "metadata": {
        "colab": {
          "base_uri": "https://localhost:8080/"
        },
        "id": "HXH1NVFXsoJO",
        "outputId": "84362f78-2fc3-4423-c042-930810b7b141"
      },
      "execution_count": 2,
      "outputs": [
        {
          "output_type": "stream",
          "name": "stdout",
          "text": [
            "t-통계량: 2.17\n",
            "p-값: 0.0618\n",
            "p-값이 0.05보다 크므로, 두 집단의 평균에 통계적으로 유의미한 차이가 없다.\n"
          ]
        }
      ]
    },
    {
      "cell_type": "markdown",
      "source": [
        "- 이 코드는 두 집단의 평균 점수 차이가 우연에 의한 것인지, 아니면 통계적으로 유의미한 차이인지 검증한다."
      ],
      "metadata": {
        "id": "PnfsX_1zuPbK"
      }
    },
    {
      "cell_type": "markdown",
      "source": [
        "### 추정 (Estimation)\n",
        "- 점 추정(Point Estimation): 표본 데이터를 계산하여 모집단 모수의 값을 하나의 숫자로 예측하는 방법이다. 예를 들어, 표본의 평균을 계산하여 이를 모집단 평균으로 추정하는 것이다.\n",
        "- 구간 추정(Interval Estimation): 모집단 모수가 존재할 것으로 예상되는 일정 범위(구간)를 제시하는 방법이다. **신뢰 구간(Confidence Interval)**이라고도 한다. 이 방법은 추정값의 불확실성을 포함하여 보여주기 때문에 점 추정보다 더 많은 정보를 제공한다."
      ],
      "metadata": {
        "id": "4K03j3-iz4xH"
      }
    },
    {
      "cell_type": "code",
      "source": [
        "# 점 추정 (Point Estimation): 모집단 모수를 하나의 값으로 예측하는 과정이다.\n",
        "# 가장 흔한 예시는 표본 평균을 계산하여 이를 모집단 평균의 추정치로 사용하는 것이다.\n",
        "\n",
        "import numpy as np\n",
        "\n",
        "# 가상의 표본 데이터 (1000명의 키 데이터)\n",
        "sample_data = np.random.normal(loc=175, scale=5, size=1000)\n",
        "\n",
        "# 표본 평균 계산 (점 추정치)\n",
        "point_estimate_mean = np.mean(sample_data)\n",
        "\n",
        "print(f\"표본 평균(점 추정치): {point_estimate_mean:.2f} cm\")"
      ],
      "metadata": {
        "id": "23hqgw492uWe",
        "colab": {
          "base_uri": "https://localhost:8080/"
        },
        "outputId": "b243a18f-ff76-4035-97b1-f31c28c6f48e"
      },
      "execution_count": null,
      "outputs": [
        {
          "output_type": "stream",
          "name": "stdout",
          "text": [
            "표본 평균(점 추정치): 174.78 cm\n"
          ]
        }
      ]
    },
    {
      "cell_type": "code",
      "source": [
        "# 구간 추정 (Interval Estimation): 모집단 모수가 존재할 것으로 예상되는 일정 범위(신뢰 구간)를\n",
        "# 계산하는 과정이다. 이는 점 추정의 불확실성을 보완해 준다.\n",
        "\n",
        "import numpy as np\n",
        "from scipy import stats\n",
        "\n",
        "# 가상의 표본 데이터 (위와 동일)\n",
        "sample_data = np.random.normal(loc=175, scale=5, size=1000)\n",
        "\n",
        "# 표본 통계량 계산\n",
        "sample_mean = np.mean(sample_data)\n",
        "sample_std = np.std(sample_data, ddof=1) # 표본 표준편차 (ddof=1)\n",
        "sample_size = len(sample_data)\n",
        "\n",
        "# 95% 신뢰 구간 계산\n",
        "confidence_interval = stats.t.interval(\n",
        "    confidence=0.95,                        # 신뢰 수준 (95%)\n",
        "    df=sample_size - 1,                     # 자유도\n",
        "    loc=sample_mean,                        # 표본 평균\n",
        "    scale=sample_std / np.sqrt(sample_size) # 표준 오차 (평균의 표준오차)\n",
        ")\n",
        "\n",
        "print(f\"표본 평균: {sample_mean:.2f} cm\")\n",
        "print(f\"95% 신뢰 구간: {confidence_interval}\")"
      ],
      "metadata": {
        "colab": {
          "base_uri": "https://localhost:8080/"
        },
        "id": "x9Ywa9uS3Hzu",
        "outputId": "e055dc82-6b20-4ba1-c768-30f1aebeb4ef"
      },
      "execution_count": 3,
      "outputs": [
        {
          "output_type": "stream",
          "name": "stdout",
          "text": [
            "표본 평균: 174.75 cm\n",
            "95% 신뢰 구간: (np.float64(174.44072239451035), np.float64(175.05148334105675))\n"
          ]
        }
      ]
    },
    {
      "cell_type": "markdown",
      "source": [
        "- ddof=1: 데이터를 표본으로 간주하고, 이를 통해 모집단의 표준편차를 추정한다. 이 공식은 표본의 평균을 사용하기 때문에 자유도가 1 감소하여 데이터 개수(N−1)로 나눈다.\n",
        "  - 우리가 통계적 추론을 할 때는 대부분 표본 데이터를 사용해 모집단의 특성을 추정한다. 그런데 표본의 표준편차를 구할 때 N으로 나누면, 실제 모집단의 표준편차보다 값이 체계적으로 더 작게 나오는 경향이 있다. N−1로 나누는 것은 이러한 **편향(bias)**을 보정하여 모집단 표준편차에 대한 더 정확한(비편향) 추정치를 얻기 위함이다.\n",
        "\n",
        "- 우리가 신뢰 구간을 계산했던 코드에서 ddof=1을 사용한 이유도 바로 이 때문이다. 우리는 표본 데이터를 사용해 전체 모집단의 평균을 추정하고 있었으므로, 모집단 표준편차를 비편향적으로 추정하기 위해 ddof=1이 반드시 필요했다."
      ],
      "metadata": {
        "id": "Sorz3r5Y4foA"
      }
    },
    {
      "cell_type": "code",
      "source": [
        "import numpy as np\n",
        "\n",
        "# 1. 가상의 모집단 생성 (분산과 평균을 미리 알고 있는 집단)\n",
        "np.random.seed(0)  # 재현성을 위해 시드 설정\n",
        "population_size = 100000\n",
        "population_mean = 100\n",
        "population_std = 10\n",
        "population_variance = population_std**2\n",
        "\n",
        "population = np.random.normal(loc=population_mean, scale=population_std, size=population_size)\n",
        "\n",
        "# 2. 모집단에서 작은 표본을 여러 번 추출하여 두 가지 방식으로 분산 계산\n",
        "sample_size = 10\n",
        "num_experiments = 5000\n",
        "\n",
        "# 분산 값을 저장할 리스트\n",
        "biased_variances = []    # N으로 나눈 분산\n",
        "unbiased_variances = []  # N-1로 나눈 분산\n",
        "\n",
        "for _ in range(num_experiments):\n",
        "    # 모집단에서 무작위로 표본 추출\n",
        "    sample = np.random.choice(population, size=sample_size, replace=False)\n",
        "\n",
        "    # N으로 나누어 분산 계산 (편향된 추정량)\n",
        "    biased_var = np.var(sample, ddof=0)\n",
        "    biased_variances.append(biased_var)\n",
        "\n",
        "    # N-1로 나누어 분산 계산 (비편향된 추정량)\n",
        "    unbiased_var = np.var(sample, ddof=1)\n",
        "    unbiased_variances.append(unbiased_var)\n",
        "\n",
        "# 3. 각 방법으로 계산한 분산의 평균을 구하고 모집단 분산과 비교\n",
        "avg_biased_var = np.mean(biased_variances)\n",
        "avg_unbiased_var = np.mean(unbiased_variances)\n",
        "\n",
        "print(f\"**실험 결과**\")\n",
        "print(f\"--------------------------------------------------\")\n",
        "print(f\"모집단의 실제 분산: {population_variance:.2f}\")\n",
        "print(f\"--------------------------------------------------\")\n",
        "print(f\"N으로 나눈 표본 분산의 평균 (편향된 추정량): {avg_biased_var:.2f}\")\n",
        "print(f\"N-1로 나눈 표본 분산의 평균 (비편향된 추정량): {avg_unbiased_var:.2f}\")\n",
        "print(f\"--------------------------------------------------\")"
      ],
      "metadata": {
        "colab": {
          "base_uri": "https://localhost:8080/"
        },
        "id": "rMEGPzLDDYJL",
        "outputId": "052ce5a9-d07a-46f4-e008-d1fa63de3794"
      },
      "execution_count": 4,
      "outputs": [
        {
          "output_type": "stream",
          "name": "stdout",
          "text": [
            "**실험 결과**\n",
            "--------------------------------------------------\n",
            "모집단의 실제 분산: 100.00\n",
            "--------------------------------------------------\n",
            "N으로 나눈 표본 분산의 평균 (편향된 추정량): 89.50\n",
            "N-1로 나눈 표본 분산의 평균 (비편향된 추정량): 99.45\n",
            "--------------------------------------------------\n"
          ]
        }
      ]
    },
    {
      "cell_type": "markdown",
      "source": [
        "### Estimation (추정) and Prediction (예측)\n",
        "- 추정: 추정은 표본 데이터를 바탕으로 모집단의 모수(parameter), 즉 전체 집단의 특성을 나타내는 고정된 값을 근사하는 과정이다. 예를 들어, 선형 회귀 모델을 만들 때, 최적의 기울기와 절편을 찾는 것이 바로 모수를 추정하는 것이다. 추정의 목표는 미지의 모수 값을 가장 잘 설명하는 하나의 값(점 추정)이나 범위(구간 추정)를 찾는 것이다.\n",
        "- 예측: 예측은 추정을 통해 얻은 모수(기울기, 절편 등)를 가진 모델을 사용하여 새로운 데이터 포인트의 값을 맞히는 과정이다. 예를 들어, 위에서 추정한 기울기와 절편을 사용해 아직 보지 못한 새로운 데이터의 결과값을 계산하는 것이 예측이다. 예측의 목표는 알려지지 않은 미래의 결과를 가장 정확하게 추측하는 것이다.\n",
        "- 즉, 머신러닝 모델의 **모수(parameters)**를 찾는 과정을 **추정(estimation)**이라고 하고, 그 추정된 모수를 사용하여 새로운 데이터의 값을 예측하는 과정을 **예측(prediction)**이라고 한다."
      ],
      "metadata": {
        "id": "3bV21Gk61p7n"
      }
    },
    {
      "cell_type": "markdown",
      "source": [
        "## 선형 회귀\n",
        "선형 회귀는 독립 변수와 종속 변수 사이의 선형 관계를 모델링하는 데 사용된다."
      ],
      "metadata": {
        "id": "mtb3Q-cpuwHg"
      }
    },
    {
      "cell_type": "code",
      "source": [
        "import numpy as np\n",
        "import matplotlib.pyplot as plt\n",
        "from sklearn.linear_model import LinearRegression\n",
        "\n",
        "# 가상 데이터 생성\n",
        "X = np.array([1, 2, 3, 4, 5, 6, 7, 8, 9]).reshape(-1, 1) # 독립 변수\n",
        "y = np.array([2, 4, 5, 4, 6, 7, 8, 9, 10])               # 종속 변수\n",
        "\n",
        "# 선형 회귀 모델 생성 및 학습\n",
        "model = LinearRegression()\n",
        "model.fit(X, y)\n",
        "\n",
        "# 예측\n",
        "y_pred = model.predict(X)\n",
        "\n",
        "print(f\"회귀 계수 (기울기): {model.coef_[0]:.2f}\")\n",
        "print(f\"절편: {model.intercept_:.2f}\")\n",
        "\n",
        "# 시각화\n",
        "plt.scatter(X, y, color='blue', label='real data')\n",
        "plt.plot(X, y_pred, color='red', linewidth=2, label='regression line')\n",
        "plt.title('Linear Regression')\n",
        "plt.xlabel('X')\n",
        "plt.ylabel('y')\n",
        "plt.legend()\n",
        "plt.show()"
      ],
      "metadata": {
        "colab": {
          "base_uri": "https://localhost:8080/",
          "height": 507
        },
        "id": "uuSLTU8du0Ao",
        "outputId": "8c5e7fc1-7ed4-4f11-8724-17502b9ae7fe"
      },
      "execution_count": null,
      "outputs": [
        {
          "output_type": "stream",
          "name": "stdout",
          "text": [
            "회귀 계수 (기울기): 0.93\n",
            "절편: 1.44\n"
          ]
        },
        {
          "output_type": "display_data",
          "data": {
            "text/plain": [
              "<Figure size 640x480 with 1 Axes>"
            ],
            "image/png": "[encoded data removed]"
          },
          "metadata": {}
        }
      ]
    },
    {
      "cell_type": "markdown",
      "source": [
        "- 이 코드는 y=b + w*x 형태의 선형 모델을 학습하고 시각화한다."
      ],
      "metadata": {
        "id": "LbRIyBptvWjK"
      }
    },
    {
      "cell_type": "markdown",
      "source": [
        "# Linear Algebra"
      ],
      "metadata": {
        "id": "pQjbCbS3vlLA"
      }
    },
    {
      "cell_type": "markdown",
      "source": [
        " ## 벡터와 행렬 연산\n",
        " - 데이터는 종종 벡터와 행렬로 표현된다. (머신러닝 모델의 핵심 연산)"
      ],
      "metadata": {
        "id": "Da2l9PxBvoxq"
      }
    },
    {
      "cell_type": "code",
      "source": [
        "import numpy as np\n",
        "\n",
        "# 벡터와 행렬 생성\n",
        "v = np.array([1, 2, 3])\n",
        "M = np.array([[1, 2, 3],\n",
        "              [4, 5, 6],\n",
        "              [7, 8, 9]])\n",
        "\n",
        "print(\"벡터 v:\\n\", v)\n",
        "print(\"행렬 M:\\n\", M)\n",
        "\n",
        "# 벡터 내적\n",
        "print(\"\\n벡터 v의 내적 (dot product):\", np.dot(v, v))\n",
        "\n",
        "# 행렬 곱셈\n",
        "M_product = np.dot(M, v)\n",
        "print(\"\\n행렬 M과 벡터 v의 곱:\\n\", M_product)"
      ],
      "metadata": {
        "colab": {
          "base_uri": "https://localhost:8080/"
        },
        "id": "Mhuu1zdmvv_w",
        "outputId": "7cd277e4-8219-49f1-e506-d600b4f4d659"
      },
      "execution_count": null,
      "outputs": [
        {
          "output_type": "stream",
          "name": "stdout",
          "text": [
            "벡터 v:\n",
            " [1 2 3]\n",
            "행렬 M:\n",
            " [[1 2 3]\n",
            " [4 5 6]\n",
            " [7 8 9]]\n",
            "\n",
            "벡터 v의 내적 (dot product): 14\n",
            "\n",
            "행렬 M과 벡터 v의 곱:\n",
            " [14 32 50]\n"
          ]
        }
      ]
    },
    {
      "cell_type": "markdown",
      "source": [
        "## 고유값과 고유 벡터\n",
        "- 고유값과 고유 벡터는 PCA 같은 차원 축소 기법의 기반이다."
      ],
      "metadata": {
        "id": "bn664hFXwOGZ"
      }
    },
    {
      "cell_type": "code",
      "source": [
        "import numpy as np\n",
        "\n",
        "# 대칭 행렬 생성\n",
        "A = np.array([[6, 1],\n",
        "              [1, 5]])\n",
        "\n",
        "# 고유값과 고유 벡터 계산\n",
        "eigenvalues, eigenvectors = np.linalg.eig(A)\n",
        "\n",
        "print(\"고유값:\\n\", eigenvalues)\n",
        "print(\"\\n고유 벡터:\\n\", eigenvectors)\n",
        "\n",
        "# 고유값과 고유 벡터의 속성 확인 (A * v = lambda * v)\n",
        "# 첫 번째 고유 벡터와 고유값으로 확인\n",
        "v1 = eigenvectors[:, 0]\n",
        "lambda1 = eigenvalues[0]\n",
        "\n",
        "print(\"\\n고유 벡터 속성 확인:\")\n",
        "print(\"A * v1:\\n\", np.dot(A, v1))\n",
        "print(\"lambda1 * v1:\\n\", lambda1 * v1)"
      ],
      "metadata": {
        "colab": {
          "base_uri": "https://localhost:8080/"
        },
        "id": "XQB_v11IwVJh",
        "outputId": "89404aeb-ac41-461c-a383-3424d556c20c"
      },
      "execution_count": null,
      "outputs": [
        {
          "output_type": "stream",
          "name": "stdout",
          "text": [
            "고유값:\n",
            " [6.61803399 4.38196601]\n",
            "\n",
            "고유 벡터:\n",
            " [[ 0.85065081 -0.52573111]\n",
            " [ 0.52573111  0.85065081]]\n",
            "\n",
            "고유 벡터 속성 확인:\n",
            "A * v1:\n",
            " [5.62963596 3.47930637]\n",
            "lambda1 * v1:\n",
            " [5.62963596 3.47930637]\n"
          ]
        }
      ]
    },
    {
      "cell_type": "markdown",
      "source": [
        "- 이 코드는 행렬이 벡터에 작용할 때 방향을 바꾸지 않는 특별한 벡터(고유 벡터)와 그 크기 변화 비율(고유값)을 계산한다."
      ],
      "metadata": {
        "id": "_8kwKCtQwyXp"
      }
    },
    {
      "cell_type": "markdown",
      "source": [
        "## 특이값 분해 (SVD)\n",
        "- SVD는 행렬을 세 개의 행렬로 분해하는 강력한 기법이다. 추천 시스템, 이미지 압축 등에 활용된다."
      ],
      "metadata": {
        "id": "qLLDMFpiw9Uv"
      }
    },
    {
      "cell_type": "code",
      "source": [
        "import numpy as np\n",
        "\n",
        "# 행렬 생성\n",
        "A = np.array([[1, 1, 1],\n",
        "              [0, 1, 1]])\n",
        "\n",
        "# SVD 수행\n",
        "U, s, Vt = np.linalg.svd(A)\n",
        "\n",
        "# 특이값 확인 (s)\n",
        "print(\"특이값:\\n\", s)\n",
        "\n",
        "# 분해된 행렬 U, s, Vt의 형태\n",
        "print(\"\\nU 행렬:\\n\", U)\n",
        "print(\"\\ns 행렬 (대각 행렬 형태로 복원):\\n\", np.diag(s))\n",
        "print(\"\\nVt 행렬:\\n\", Vt)\n",
        "\n",
        "# 원래 행렬 A 복원 (U * S * Vt)\n",
        "Sigma = np.zeros(A.shape)\n",
        "Sigma[:A.shape[0], :A.shape[0]] = np.diag(s)\n",
        "A_restored = np.dot(U, np.dot(Sigma, Vt))\n",
        "\n",
        "print(\"\\n복원된 A 행렬:\\n\", np.round(A_restored, 6)) # 소수점 6자리까지 반올림"
      ],
      "metadata": {
        "colab": {
          "base_uri": "https://localhost:8080/"
        },
        "id": "FuG2NBLCxBmY",
        "outputId": "62cdca96-e5b7-4753-b2b0-2d826f62642f"
      },
      "execution_count": null,
      "outputs": [
        {
          "output_type": "stream",
          "name": "stdout",
          "text": [
            "특이값:\n",
            " [2.13577921 0.66215345]\n",
            "\n",
            "U 행렬:\n",
            " [[-0.78820544 -0.61541221]\n",
            " [-0.61541221  0.78820544]]\n",
            "\n",
            "s 행렬 (대각 행렬 형태로 복원):\n",
            " [[2.13577921 0.        ]\n",
            " [0.         0.66215345]]\n",
            "\n",
            "Vt 행렬:\n",
            " [[-3.69048184e-01 -6.57192300e-01 -6.57192300e-01]\n",
            " [-9.29410263e-01  2.60956474e-01  2.60956474e-01]\n",
            " [-8.75605293e-17 -7.07106781e-01  7.07106781e-01]]\n",
            "\n",
            "복원된 A 행렬:\n",
            " [[1. 1. 1.]\n",
            " [0. 1. 1.]]\n"
          ]
        }
      ]
    },
    {
      "cell_type": "markdown",
      "source": [
        "# SQL"
      ],
      "metadata": {
        "id": "lzJ5avI7MfAB"
      }
    },
    {
      "cell_type": "markdown",
      "source": [
        "- 데이터베이스는 Pandas 데이터프레임으로 변환해서 다루는 것과 SQL 쿼리를 직접 사용하는 것 두 방법이 있으며 이 둘은 서로 보완적인 관계다.\n",
        "  - SQL을 사용하여 데이터베이스에서 필요한 데이터만 효율적으로 추출하고 수정한다.\n",
        "  - 추출한 데이터를 Pandas로 가져와 복잡한 분석, 통계, 시각화 등의 작업을 수행한다.\n",
        "- 따라서 데이터 과학 프로젝트에서는 보통 두 가지를 함께 사용하는 경우가 많다. 먼저 SQL로 필요한 데이터를 정제하고 필터링한 후, Pandas로 가져와서 본격적인 데이터 분석을 진행하는 방식이 일반적이다."
      ],
      "metadata": {
        "id": "YhZQAyUSOz_g"
      }
    },
    {
      "cell_type": "markdown",
      "source": [
        "- 1. 데이터베이스 설정 및 데이터 삽입"
      ],
      "metadata": {
        "id": "0zKwLXBKPm_i"
      }
    },
    {
      "cell_type": "code",
      "source": [
        "import pandas as pd\n",
        "import sqlite3\n",
        "\n",
        "# 메모리상에 데이터베이스 생성\n",
        "# conn = sqlite3.connect('test_db.db')  # 디스크에 저장되는 DB\n",
        "conn = sqlite3.connect(':memory:')      # RAM 에서만 존재하는 임시 DB\n",
        "\n",
        "# cursor 생성 (SQL 문장을 실행할 때는 항상 커서를 통해 실행) - DB 와 대화하는 통역사 역할\n",
        "cursor = conn.cursor()\n",
        "\n",
        "# 테이블 생성\n",
        "cursor.execute('''\n",
        "    CREATE TABLE employees (\n",
        "        employee_id INTEGER PRIMARY KEY,\n",
        "        first_name TEXT NOT NULL,\n",
        "        last_name TEXT NOT NULL,\n",
        "        department_id INTEGER,\n",
        "        salary REAL NOT NULL\n",
        "    )\n",
        "''')\n",
        "\n",
        "cursor.execute('''\n",
        "    CREATE TABLE departments (\n",
        "        department_id INTEGER PRIMARY KEY,\n",
        "        department_name TEXT NOT NULL\n",
        "    )\n",
        "''')\n",
        "\n",
        "# 데이터 삽입\n",
        "cursor.execute('''\n",
        "    INSERT INTO employees (employee_id, first_name, last_name, department_id, salary) VALUES\n",
        "    (1, 'John', 'Doe', 1, 60000),\n",
        "    (2, 'Jane', 'Smith', 2, 75000),\n",
        "    (3, 'Peter', 'Jones', 1, 65000),\n",
        "    (4, 'Mary', 'Williams', 3, 90000),\n",
        "    (5, 'David', 'Brown', 2, 80000),\n",
        "    (6, 'Emily', 'Davis', 1, 70000)\n",
        "''')\n",
        "\n",
        "conn.execute('''\n",
        "    INSERT INTO departments (department_id, department_name) VALUES\n",
        "    (1, 'Sales'),\n",
        "    (2, 'Marketing'),\n",
        "    (3, 'Engineering')\n",
        "''')\n",
        "\n",
        "conn.commit()  # 반드시 저장해야 DB에 반영됨"
      ],
      "metadata": {
        "id": "Fcevu5oFPVLg"
      },
      "execution_count": null,
      "outputs": []
    },
    {
      "cell_type": "markdown",
      "source": [
        "2. SQL로 필요한 데이터 추출하기\n",
        "- d.read_sql_query() 함수는 SQL 쿼리를 실행하고 결과를 바로 pandas 데이터프레임으로 가져오는 편리한 방법이다.\n",
        "- 이 예제에서는 부서별 평균 급여를 계산하고, 부서 이름을 함께 가져오기 위해 두 테이블을 **JOIN**한다."
      ],
      "metadata": {
        "id": "8MVsZABIP8ng"
      }
    },
    {
      "cell_type": "code",
      "source": [
        "# SQL 쿼리를 사용하여 부서별 평균 급여를 계산하고 데이터프레임으로 가져오기\n",
        "sql_query = \"\"\"\n",
        "    SELECT\n",
        "        d.department_name,\n",
        "        AVG(e.salary) AS average_salary\n",
        "    FROM\n",
        "        employees AS e\n",
        "    JOIN\n",
        "        departments AS d ON e.department_id = d.department_id\n",
        "    GROUP BY\n",
        "        d.department_name\n",
        "    ORDER BY\n",
        "        average_salary DESC;\n",
        "\"\"\"\n",
        "\n",
        "# SQL 쿼리를 실행하고 결과를 Pandas DataFrame으로 변환\n",
        "average_salary_df = pd.read_sql_query(sql_query, conn)\n",
        "\n",
        "print(\"SQL 쿼리 결과 (부서별 평균 급여):\")\n",
        "print(average_salary_df)"
      ],
      "metadata": {
        "colab": {
          "base_uri": "https://localhost:8080/"
        },
        "id": "W2k4TrJYP9iA",
        "outputId": "5a1bd76d-452e-475a-dbaa-aa6b3d199789"
      },
      "execution_count": null,
      "outputs": [
        {
          "output_type": "stream",
          "name": "stdout",
          "text": [
            "SQL 쿼리 결과 (부서별 평균 급여):\n",
            "  department_name  average_salary\n",
            "0     Engineering         90000.0\n",
            "1       Marketing         77500.0\n",
            "2           Sales         65000.0\n"
          ]
        }
      ]
    },
    {
      "cell_type": "markdown",
      "source": [
        "3. Pandas로 추가 분석하기\n",
        "- SQL로 가져온 데이터프레임(average_salary_df)을 사용하여 Pandas의 강력한 분석 기능을 활용한다.\n",
        "- 이 예제에서는 평균 급여가 70,000 이상인 부서만 필터링한다."
      ],
      "metadata": {
        "id": "hhWqNB2Ie-GH"
      }
    },
    {
      "cell_type": "code",
      "source": [
        "# Pandas를 사용하여 평균 급여가 70000 이상인 부서만 필터링\n",
        "high_earning_depts = average_salary_df[average_salary_df['average_salary'] >= 70000]\n",
        "\n",
        "print(\"\\nPandas로 분석한 결과 (평균 급여 70,000 이상인 부서):\")\n",
        "print(high_earning_depts)\n",
        "\n",
        "# 데이터베이스 연결 종료\n",
        "conn.close()"
      ],
      "metadata": {
        "colab": {
          "base_uri": "https://localhost:8080/"
        },
        "id": "7BO1UH0qe9z5",
        "outputId": "89f116d3-b3fd-4d4e-92b6-f07b34e53049"
      },
      "execution_count": null,
      "outputs": [
        {
          "output_type": "stream",
          "name": "stdout",
          "text": [
            "\n",
            "Pandas로 분석한 결과 (평균 급여 70,000 이상인 부서):\n",
            "  department_name  average_salary\n",
            "0     Engineering         90000.0\n",
            "1       Marketing         77500.0\n"
          ]
        }
      ]
    },
    {
      "cell_type": "markdown",
      "source": [
        "# Regression Analysis\n",
        "-  계수(컬럼)의 유의성: 회귀 모델에서 각 독립 변수(컬럼)가 종속 변수에 미치는 영향이 통계적으로 의미 있는지를 뜻한다.\n",
        "  - p-값(p-value)으로 판단한다. 일반적으로 p-값이 0.05보다 작으면 해당 변수가 통계적으로 유의미하다고 본다.\n",
        "  - 이는 해당 변수의 계수(coefficient)가 0이 아니라고 신뢰할 수 있다는 의미로, 변수와 종속 변수 사이에 의미 있는 관계가 있다고 해석한다.\n",
        "\n",
        "- R^2 의 신뢰성: 이는 모델의 설명력이 얼마나 믿을 만한지를 나타낸다.\n",
        "  - R^2: 모델이 종속 변수 분산의 몇 퍼센트를 설명하는지 나타낸다.\n",
        "  - 수정된 R^2 (Adjusted R^2): 변수가 여러 개인 다중 회귀 모델에서는 R^2 가 변수의 개수에 따라 증가하는 경향이 있으므로, 이 한계를 보정한 **수정된 R^2\n",
        " **를 사용하여 모델의 설명력을 더 신뢰성 있게 평가한다."
      ],
      "metadata": {
        "id": "RP4a-7F7iKL9"
      }
    },
    {
      "cell_type": "code",
      "source": [
        "import numpy as np\n",
        "import pandas as pd\n",
        "import statsmodels.api as sm\n",
        "\n",
        "# 이전 예제와 동일한 가상 데이터 생성\n",
        "np.random.seed(0)\n",
        "X = 2 * np.random.rand(100, 1)\n",
        "y = 5 + 2 * X.flatten() + np.random.randn(100)\n",
        "\n",
        "# statsmodels를 위해 X에 상수항(intercept) 추가\n",
        "X_with_const = sm.add_constant(X)"
      ],
      "metadata": {
        "id": "ayCElBi6fGl5"
      },
      "execution_count": null,
      "outputs": []
    },
    {
      "cell_type": "code",
      "source": [
        "# OLS 모델 생성 및 훈련\n",
        "model = sm.OLS(y, X_with_const).fit()\n",
        "\n",
        "# 모델 요약 결과 출력\n",
        "print(model.summary())"
      ],
      "metadata": {
        "colab": {
          "base_uri": "https://localhost:8080/"
        },
        "id": "6FI-bhzvfGez",
        "outputId": "f4542cc4-3e96-48ab-9e2a-76d86a8032a5"
      },
      "execution_count": null,
      "outputs": [
        {
          "output_type": "stream",
          "name": "stdout",
          "text": [
            "                            OLS Regression Results                            \n",
            "==============================================================================\n",
            "Dep. Variable:                      y   R-squared:                       0.565\n",
            "Model:                            OLS   Adj. R-squared:                  0.560\n",
            "Method:                 Least Squares   F-statistic:                     127.2\n",
            "Date:                Tue, 12 Aug 2025   Prob (F-statistic):           2.08e-19\n",
            "Time:                        04:32:16   Log-Likelihood:                -141.51\n",
            "No. Observations:                 100   AIC:                             287.0\n",
            "Df Residuals:                      98   BIC:                             292.2\n",
            "Df Model:                           1                                         \n",
            "Covariance Type:            nonrobust                                         \n",
            "==============================================================================\n",
            "                 coef    std err          t      P>|t|      [0.025      0.975]\n",
            "------------------------------------------------------------------------------\n",
            "const          5.2222      0.193     27.017      0.000       4.839       5.606\n",
            "x1             1.9685      0.175     11.279      0.000       1.622       2.315\n",
            "==============================================================================\n",
            "Omnibus:                       11.746   Durbin-Watson:                   2.083\n",
            "Prob(Omnibus):                  0.003   Jarque-Bera (JB):                4.097\n",
            "Skew:                           0.138   Prob(JB):                        0.129\n",
            "Kurtosis:                       2.047   Cond. No.                         3.58\n",
            "==============================================================================\n",
            "\n",
            "Notes:\n",
            "[1] Standard Errors assume that the covariance matrix of the errors is correctly specified.\n"
          ]
        }
      ]
    },
    {
      "cell_type": "markdown",
      "source": [
        "------------------------- END -----------------------------"
      ],
      "metadata": {
        "id": "OshzsPKjk0Xy"
      }
    }
  ]
}