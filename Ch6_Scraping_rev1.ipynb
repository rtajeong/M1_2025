{
  "nbformat": 4,
  "nbformat_minor": 0,
  "metadata": {
    "colab": {
      "provenance": [],
      "toc_visible": true,
      "include_colab_link": true
    },
    "kernelspec": {
      "name": "python3",
      "display_name": "Python 3"
    },
    "language_info": {
      "name": "python"
    }
  },
  "cells": [
    {
      "cell_type": "markdown",
      "metadata": {
        "id": "view-in-github",
        "colab_type": "text"
      },
      "source": [
        "<a href=\"https://colab.research.google.com/github/rtajeong/M1_2025/blob/main/Ch6_Scraping_rev1.ipynb\" target=\"_parent\"><img src=\"https://colab.research.google.com/assets/colab-badge.svg\" alt=\"Open In Colab\"/></a>"
      ]
    },
    {
      "cell_type": "markdown",
      "source": [
        "# 크롤링 예제"
      ],
      "metadata": {
        "id": "6mBv03ZBzuRo"
      }
    },
    {
      "cell_type": "code",
      "source": [
        "import requests\n",
        "from bs4 import BeautifulSoup\n",
        "\n",
        "def simple_crawler(url):\n",
        "    response = requests.get(url)\n",
        "    response.raise_for_status()  # http error 발생시 예외 발생\n",
        "\n",
        "    soup = BeautifulSoup(response.text, 'html.parser')\n",
        "\n",
        "    links = soup.find_all('a')   # 모든 <a> 태그(링크) 찾기\n",
        "\n",
        "    if links:\n",
        "        for link in links:\n",
        "            href = link.get('href')  # 링크의 'href' 속성 값 가져오기\n",
        "            if href:\n",
        "                print(href)\n",
        "\n",
        "start_url = \"https://www.google.com\" # 크롤링 시작 웹페이지 URL(예: 구글 홈, 네이버 홈)\n",
        "simple_crawler(start_url)"
      ],
      "metadata": {
        "colab": {
          "base_uri": "https://localhost:8080/"
        },
        "id": "pylQtjmz1hyt",
        "outputId": "d41810a7-e955-41d1-d86f-ffef5692c398"
      },
      "execution_count": null,
      "outputs": [
        {
          "output_type": "stream",
          "name": "stdout",
          "text": [
            "https://www.google.com/imghp?hl=en&tab=wi\n",
            "https://maps.google.com/maps?hl=en&tab=wl\n",
            "https://play.google.com/?hl=en&tab=w8\n",
            "https://www.youtube.com/?tab=w1\n",
            "https://news.google.com/?tab=wn\n",
            "https://mail.google.com/mail/?tab=wm\n",
            "https://drive.google.com/?tab=wo\n",
            "https://www.google.com/intl/en/about/products?tab=wh\n",
            "http://www.google.com/history/optout?hl=en\n",
            "/preferences?hl=en\n",
            "https://accounts.google.com/ServiceLogin?hl=en&passive=true&continue=https://www.google.com/&ec=GAZAAQ\n",
            "/advanced_search?hl=en&authuser=0\n",
            "/intl/en/ads/\n",
            "/services/\n",
            "/intl/en/about.html\n",
            "/intl/en/policies/privacy/\n",
            "/intl/en/policies/terms/\n"
          ]
        }
      ]
    },
    {
      "cell_type": "markdown",
      "source": [
        "#  Scraping: 정적 페이지에서 명언 정보 추출"
      ],
      "metadata": {
        "id": "pTcqJEXiqe_U"
      }
    },
    {
      "cell_type": "code",
      "source": [
        "import requests\n",
        "from bs4 import BeautifulSoup\n",
        "\n",
        "url = \"http://quotes.toscrape.com/\"\n",
        "response = requests.get(url)\n",
        "soup = BeautifulSoup(response.text, 'html.parser')\n",
        "\n",
        "quotes = soup.select(\"div .quote\")  # class=\"quote\"\n",
        "print (f\"There are {len(quotes)} quotes on the page.\")\n",
        "\n",
        "for num, quote in enumerate(quotes, 1):\n",
        "    text = quote.select_one(\".text\").text\n",
        "    author = quote.select_one(\".author\").text\n",
        "    print(f\"{num}. {text} - {author}\")\n"
      ],
      "metadata": {
        "colab": {
          "base_uri": "https://localhost:8080/"
        },
        "id": "gAWCJgJNUSTJ",
        "outputId": "6f497dfc-7fc6-45ab-e0fe-ea17ff4ebb2b"
      },
      "execution_count": 4,
      "outputs": [
        {
          "output_type": "stream",
          "name": "stdout",
          "text": [
            "There are 10 quotes on the page.\n",
            "1. “The world as we have created it is a process of our thinking. It cannot be changed without changing our thinking.” - Albert Einstein\n",
            "2. “It is our choices, Harry, that show what we truly are, far more than our abilities.” - J.K. Rowling\n",
            "3. “There are only two ways to live your life. One is as though nothing is a miracle. The other is as though everything is a miracle.” - Albert Einstein\n",
            "4. “The person, be it gentleman or lady, who has not pleasure in a good novel, must be intolerably stupid.” - Jane Austen\n",
            "5. “Imperfection is beauty, madness is genius and it's better to be absolutely ridiculous than absolutely boring.” - Marilyn Monroe\n",
            "6. “Try not to become a man of success. Rather become a man of value.” - Albert Einstein\n",
            "7. “It is better to be hated for what you are than to be loved for what you are not.” - André Gide\n",
            "8. “I have not failed. I've just found 10,000 ways that won't work.” - Thomas A. Edison\n",
            "9. “A woman is like a tea bag; you never know how strong it is until it's in hot water.” - Eleanor Roosevelt\n",
            "10. “A day without sunshine is like, you know, night.” - Steve Martin\n"
          ]
        }
      ]
    },
    {
      "cell_type": "markdown",
      "source": [
        "# 오픈 API (기상청 단기 예보)\n",
        "- 많은 공공기관 또는 민간 서비스는 오픈 API를 통해 구조화된 데이터를 제공한다. HTML을 분석하지 않아도 되므로 안정적이고 정확하게 원하는 정보를 얻을 수 있다는 장점이 있다. 특히 공공데이터 포털, 기상청, 뉴스, 금융 등의 분야에서 매우 유용하게 활용되고 있다.\n",
        "- 오픈 API는 일반 사용자에게 공개된 API로, 보통 인증키 발급을 통해 사용할 수 있다.\n",
        "- 대부분의 오픈 API는 JSON 또는 XML 형식으로 데이터를 제공한다."
      ],
      "metadata": {
        "id": "6KAzcUxBTsom"
      }
    },
    {
      "cell_type": "markdown",
      "source": [
        "## 공공데이터 포털(https://www.data.go.kr) 에서 인증키 발급받기\n",
        "1. 공공데이터 포털 회원가입 및 로그인 후 인증키를 발급받는다.\n",
        "2. 원하는 공공데이터 검색 및 활용 신청\n",
        "   - 데이터 검색: 포털의 검색창을 통해 원하는 공공데이터를 검색한다. 예를 들어, \"날씨\", \"미세먼지\", \"버스\", \"지하철\" 등으로 검색\n",
        "   - 검색 결과 중 Open API 탭에서 원하는 데이터셋을 찾아 클릭.\n",
        "   - 선택한 API 상세 페이지에서 \"활용 신청\" 버튼을 클릭\n",
        "3. 인증키(Service Key) 발급 및 확인\n",
        "   - 활용 신청이 완료되면 마이페이지에서 \"API 키 발급/관리\" 또는 \"인증키 발급 현황\" 메뉴에서 발급된 인증키를 확인 가능\n",
        "   - 인증키는 일반적으로 인코딩된(Encoded) 버전과 디코딩된(Decoded) 버전이 제공되는데, API 호출 시 (특별히 지정되어 있지 않으면) 인코딩된 키를 주로 사용한다.\n",
        "4. API 명세 확인 및 테스트\n",
        "   - 각 Open API 상세 페이지에는 해당 API를 호출하는 데 필요한 요청 변수(Request Parameters), 응답 형식(Response Format), 샘플 URL 등이 됨.\n",
        "   - 샘플 URL 제공됨."
      ],
      "metadata": {
        "id": "5Znq-2KQ7Ttj"
      }
    },
    {
      "cell_type": "markdown",
      "source": [
        "## params 딕셔너리를 이용한 API 호출\n",
        "- 이 방식은 API 요청의 파라미터들을 딕셔너리 형태로 관리하며 requests 라이브러리가 URL을 구성하게 하는 일반적인 방법 (키의 숨겨진 공백 문제를 해결하기 위해 my_key.strip()을 적용)\n",
        "- 특정 환경이나, 서비스 키 문자열에 눈에 보이지 않는 미세한 공백 또는 특수 문자가 포함되어 있을 경우, 파이썬 코드에서는 키가 유효하지 않다고 인식되어 SERVICE_KEY_IS_NOT_REGISTERED_ERROR 오류 메시지를 받을 수 있다.\n",
        "- (주의) 이 사이트는 하루 정보만을 제공하기 때문에 실행 전 날짜 정보 (base_date)를 고쳐 주어야 한다."
      ],
      "metadata": {
        "id": "skGZImOXjF-5"
      }
    },
    {
      "cell_type": "code",
      "source": [
        "import requests\n",
        "import pandas as pd\n",
        "\n",
        "# 1. API 호출 정보 설정\n",
        "# 주의: 복사-붙여넣기 시 앞뒤 공백이 포함되지 않도록 .strip()을 사용한다.\n",
        "my_key=\"UrcOXfOckvYo8hX%2F8AmlgQ8nIUSgSPH1u%2BuX7Z%2BkObecxxvDE8dHnkY3LQH2%2FPfOy8%2FM4LBA7dwd4eVpRTyQ4g%3D%3D\".strip()\n",
        "# my_key = \"UrcOXfOckvYo8hX%2F8AmlgQ8nIUSgSPH1u%2BuX7Z%2BkObecxxvDE8dHnkY3LQH2%2FPfOy8%2FM4LBA7dwd4eVpRTyQ4g%3D%3D\".strip()\n",
        "base_url = \"http://apis.data.go.kr/1360000/VilageFcstInfoService_2.0/getUltraSrtNcst\"\n",
        "\n",
        "# API 요청에 필요한 파라미터들을 딕셔너리 형태로 정의한다 (해당 사이트의 샘플 코드 참고)\n",
        "params = {\n",
        "    'serviceKey': my_key,\n",
        "    'pageNo': '1',\n",
        "    'numOfRows': '10',\n",
        "    'dataType': 'JSON',\n",
        "    'base_date': '20250710', # 예시 날짜 (API 명세에 맞는 형식)\n",
        "    'base_time': '0600',    # 예시 시간 (API 명세에 맞는 형식)\n",
        "    'nx': '55', # 예시 지점의 X좌표 (기상청 격자 좌표)\n",
        "    'ny': '127' # 예시 지점의 Y좌표 (기상청 격자 좌표)\n",
        "}\n",
        "\n",
        "# 2. API 요청 및 응답 처리\n",
        "# requests 라이브러리가 base_url과 params 딕셔너리를 조합하여 최종 URL을 구성하고 요청한다.\n",
        "response = requests.get(base_url, params=params)\n",
        "\n",
        "# 3. HTTP 상태 코드 확인 및 데이터 파싱\n",
        "if response.status_code == 200:\n",
        "    # 응답이 성공이면 파싱\n",
        "    json_data = response.json()\n",
        "    # 필요한 데이터는 'response' > 'body' > 'items' > 'item' 경로에 있다.\n",
        "    items = json_data['response']['body']['items']['item']\n",
        "    # Pandas DataFrame으로 변환하여 데이터를 표 형태로 정리한다.\n",
        "    df = pd.DataFrame(items)\n",
        "    print(\"API 호출 성공 및 DataFrame 생성 완료\")\n",
        "    print(df)\n",
        "else:\n",
        "    # 응답이 실패(200이 아님)한 경우 상태 코드를 출력한다.\n",
        "    print(f\"API 요청 실패: HTTP 상태 코드 {response.status_code}\")\n",
        "    print(f\"서버 응답 내용: \\n{response.text}\") # 실패 시 서버가 보낸 메시지 확인"
      ],
      "metadata": {
        "colab": {
          "base_uri": "https://localhost:8080/"
        },
        "id": "-paxEOjBqRTb",
        "outputId": "78d25ef1-e026-4810-9059-46a5553b8621",
        "collapsed": true
      },
      "execution_count": null,
      "outputs": [
        {
          "output_type": "stream",
          "name": "stdout",
          "text": [
            "API 요청 실패: HTTP 상태 코드 404\n",
            "서버 응답 내용: \n",
            "<!DOCTYPE html>\n",
            "<html><head><meta http-equiv=\"Content-Type\" content=\"text/html; charset=UTF-8\">\n",
            "<title>ìì¤í ì ê²</title>\n",
            "<meta http-equiv=\"X-UA-Compatible\" content=\"IE=edge\">\n",
            "<meta name=\"viewport\" content=\"width=device-width, initial-scale=1, maximum-scale=1, user-scalable=no\">\n",
            "<meta name=\"author\" content=\"êµ­ê°ì ë³´ììê´ë¦¬ì\">\n",
            "<!-- <link rel=\"shortcut icon\" href=\"/favicon.ico\"> -->\n",
            "<style>\n",
            "html,body { width:100%; height:100%; margin:0; padding:0; font-size:1em; line-height:1.5; color:#666; font-family: \"Noto Sans\", \"Malgun Gothic\", \"ë§ìê³ ë\", \"ëì\" }\n",
            ".wrapper { width:100%; height:100%; position:relative; }\n",
            "\n",
            "\n",
            ".PZwindow {\n",
            "\tborder:1px solid #ddd;\n",
            "\tbackground-color:#fff;\n",
            "    position:absolute;\n",
            "\t/*position:fixed !important;*/\n",
            "    z-index:99999;\n",
            "}\n",
            ".PZwindow * { \n",
            "\tfont-family: \"NotoKR\", \"Noto Sans\", \"Malgun Gothic\", \"ë§ìê³ ë\", \"ëì\" !important;\n",
            "\tfont-size:1em; \n",
            "\tline-height:1.5; \n",
            "\tcolor:#2e2e38;\n",
            "\tletter-spacing:-0.05em; \n",
            "}\n",
            ".PZwindow .PZwrap { \n",
            "\t/*min-width:373px; border-top:1px solid #ddd; border-right:1px solid #ddd; border-left:1px solid #ddd;*/\n",
            "\toverflow:hidden; \n",
            "}\n",
            ".PZwindow .nomoreOpen { border-right:1px solid #333; overflow:hidden; }\n",
            ".PZwindow .nomoreOpen form label { font-size:14px; color:#fff; }\n",
            ".PZwindow .nomoreOpen form a.PZwindowClose { margin-top:5px; }\n",
            ".reptxt,.longdesc { width:0; height:0; font-size:0; line-height:0; text-indent:-9999em; overflow:hidden; }\n",
            ".btn { padding:10px 20px; display:inline-block; font-weight:bold; color:#fff !important; text-decoration:none; background:url('/base/images/button_type_02.png') left top repeat; }\n",
            "\n",
            ".compop-wrap { \n",
            "\tmax-width:400px;\n",
            "\tbackground:url('/base/images/popup_background_img.jpg') top center no-repeat; \n",
            "\t/*min-height:calc(420px - 35px);*/\n",
            "\toverflow:hidden; \n",
            "}\n",
            ".compop-wrap .pop-head { margin:20px 0; text-align:center; overflow:hidden;  }\n",
            ".compop-wrap .pop-head h1 { font-size:1.2em; margin-bottom:10px; color:#666; font-weight:bold; }\n",
            ".compop-wrap .pop-head h1 span { padding-top:5px; display:block; color:#333; overflow:hidden; text-align:center; }\n",
            ".compop-wrap .pop-head .copytxt { font-size:1em; text-align:center; }\n",
            ".compop-wrap .pop-head .copytxt .bold { margin-bottom:10px; font-weight:bold; color:#333;font-size: 15px; }\n",
            ".compop-wrap .pop-head .copytxt span { border-bottom:1px solid #339; color:#339; font-weight:bold }\n",
            ".compop-wrap .pop-body { padding:0; overflow:hidden; }\n",
            ".compop-wrap .pop-body .pop-box { color:#fff; padding:0px 20px 0px 20px; font-size:0.87em; border-top-left-radius:5px; border-top-right-radius:5px;border-bottom-left-radius:5px; border-bottom-right-radius:5px; background:url('/base/images/popup_text_img.png') top center no-repeat; overflow:hidden; }\n",
            ".compop-wrap .pop-body .pop-box dl.list { margin-bottom:10px; list-style:none; overflow:hidden; position:relative; }\n",
            ".compop-wrap .pop-body .pop-box dl.list dt, .pop-body .pop-box dl.list dd { text-align:left; line-height:1.5; color:#fff; }\n",
            ".compop-wrap .pop-body .pop-box dl.list dt { width:30px; padding-left:9px; font-weight:bold; position:absolute; }\n",
            ".compop-wrap .pop-body .pop-box dl.list dt span { width:5px; height:2px; background-color:#fc0; position:absolute; top:10px; left:0; }\n",
            ".compop-wrap .pop-body .pop-box dl.list dd { width:calc(100% - 45px); margin-left:45px; padding-bottom:2px; }\n",
            ".compop-wrap .pop-body .pop-box dl.list dd span { color:#fc0; border-bottom:1px solid #fc0; font-weight:bold; }\n",
            ".compop-wrap .pop-body .pop-box p { margin-top:15px; font-size:12px; color:#ddd; position:relative; }\n",
            ".compop-wrap .pop-body .pop-box p::before { position:absolute; top:-1px; left:0; }\n",
            ".compop-wrap .pop-body .pop-box .pop-btn { text-align: center; }\n",
            "\n",
            "@media only screen and (min-width:768px) {\n",
            "\t.PZwindow {position:absolute; left:50%; top:50%; margin-top:-340px; margin-left:-245px;}\n",
            "\t.compop-wrap { min-width:calc(375px - 60px); /*max-width:calc(420px - 60px);*/ padding:10px 30px 0 30px; }\n",
            "}\n",
            "\n",
            "@media only screen and (max-width:737px) {\n",
            "\t.PZwindow { position:relative !important; left:0; top:0; }\n",
            "\t.compop-wrap { max-width:auto; padding:35px 10px 0 10px; }\n",
            "\t.compop-wrap .pop-body .pop-box { margin:0 15px; }\t\n",
            "}\n",
            "\n",
            ".lawpop-wrap { \n",
            "\tmax-width:490px;\n",
            "\tbackground:url('/base/images/popup_background_lawimg.png') top left no-repeat; \n",
            "\tmin-height:calc(420px - 35px);\n",
            "\toverflow:hidden; \n",
            "\t/*border:1px solid #ddd;*/\n",
            "}\n",
            ".lawpop-wrap .pop-head { min-height:140px; margin:10px 0; text-align:center; overflow:hidden;  }\n",
            ".lawpop-wrap .pop-head h1 { font-size:1.2em; color:#e7e7e7; font-weight:bold; }\n",
            ".lawpop-wrap .pop-head h1 span { padding-top:5px; display:block; color:#333; overflow:hidden; text-align:center; }\n",
            ".lawpop-wrap .pop-head .copytxt { font-size:1em; text-align:center; }\n",
            ".lawpop-wrap .pop-head .copytxt .bold { margin-bottom:10px; font-weight:bold; color:#333; }\n",
            ".lawpop-wrap .pop-head .copytxt span { border-bottom:1px solid #339; color:#339; font-weight:bold }\n",
            ".lawpop-wrap .pop-body { padding:0 25px; overflow:hidden; }\n",
            ".lawpop-wrap .pop-body ul.list { margin:0; padding:0; list-style:none; overflow:hidden; }\n",
            ".lawpop-wrap .pop-body ul.list li { margin-bottom:15px; padding:0 0 0 10px; font-size:13px; position:relative; text-align:justify; letter-spacing:-0.05em; }\n",
            ".lawpop-wrap .pop-body ul.list li::before { content:''; width:5px; height:2px; background-color:#930; position:absolute; top:6px; left:0; }\n",
            ".lawpop-wrap .pop-body ul.list li span { font-weight:bold; color:#fff; }\n",
            ".lawpop-wrap .pop-body ul.list ul.ul_2 { margin:5px 0 0 0; padding:0; list-style:none; overflow:hidden; }\n",
            ".lawpop-wrap .pop-body ul.list ul.ul_2 > li { padding:0 0 0 7px; }\n",
            ".lawpop-wrap .pop-body ul.list ul.ul_2 > li::before { content:''; width:3px; height:3px; background-color:#666; position:absolute; top:7px; left:0; }\n",
            ".lawpop-wrap .pop-body ul.list ul.ul_2 > li:last-child { margin:0 }\n",
            ".lawpop-wrap .pop-foot { padding:1em 0 2em 0; text-align:center; overflow:hidden; }\n",
            "\n",
            "/** ì ê·ëª¨ë°ì¼ì± **/\n",
            ".compop-wrap .app-store { list-style:none; overflow: hidden; }\n",
            ".compop-wrap .app-store li { float:left; width:50%; }\n",
            ".compop-wrap .app-store .btn-appDown { float:left; width:90px; height:130px; margin:0 auto; display:block; }\n",
            "\n",
            "/** ì´ë¯¸ì§ íì(ë¤ì´ë¡ë ë§í¬) **/\n",
            ".imgpop-wrap { \n",
            "\t/*width:375px;*/\n",
            "\tmin-height:420px;\n",
            "\tmargin:0 auto; \n",
            "\toverflow:hidden; \n",
            "}\n",
            ".imgpop-wrap .pop-body { padding:0; overflow:hidden; position:relative; }\n",
            ".imgpop-wrap .pop-body .pop-bg { position:relative; z-index:10; }\n",
            ".imgpop-wrap .pop-btn-down { width:265px; list-style:none; overflow:hidden; position:absolute; left:35px; bottom:10px; z-index:50; }\n",
            ".imgpop-wrap .pop-btn-down dd { float:left; width:33.3%; margin:0; padding:0; text-align:center; }\n",
            "</style>\n",
            "</head>\n",
            "\n",
            "<body>\n",
            "<div class=\"wrapper\">\n",
            "<div class=\"PZwindow\">\n",
            "<div class=\"PZwrap\">\n",
            "<div class=\"compop-wrap\"> \n",
            "<!-- <div id=\"logo\" style=\"padding-left:-20px; \"><img alt=\"logo\" src=\"/base/images/logo.png\" style=\"vertical-align: middle\">&nbsp;<b>ì¸êµë¶</b>&nbsp;&nbsp;&nbsp;</div> -->\n",
            "<div class=\"pop-head\">\n",
            "<div class=\"copytxt\"> \n",
            "<div id=\"logo\" style=\"padding-left:0px; \"><img alt=\"logo\" src=\"/base/images/logo.png\" height=\"16.5px\" style=\"vertical-align: middle\">&nbsp;<b style=\"vertical-align: middle\">íì ìì ë¶</b><br><br></div>\n",
            "<div id=\"logo\" style=\"font-size:20px; font-family: 'Malgun Gothic'\"><b>ìì¤í ì ê²</b></div>\n",
            "<p class=\"bold\">ìì¤í ì¥ì ë¡ ê³µê³µë°ì´í°í¬í¸ ìë¹ì¤ë¥¼ ì´ì©íì¤ ì ììµëë¤.<br />\r\n",
            "<br />\r\n",
            "íì¬ ì¥ì  ë³µêµ¬ ì¡°ì¹ ì¤ì´ë©° ë¹ ë¥¸ ìê° ë´ì ë³µêµ¬íëë¡ íê² ìµëë¤.<br />\r\n",
            "<br />\r\n",
            "ê³µê³µë°ì´í° ì ê³µ ëì²´ ì¬ì´í¸ë íë¨ì ë§í¬ë¥¼ í´ë¦­íì¬ íì¸í´ ì£¼ìê¸° ë°ëëë¤.<br />\r\n",
            "<br />\r\n",
            "ë§í¬ì£¼ì(NIA ê³µì§ì¬í­ ê²ìê¸)<br />\r\n",
            " - (<a href=\"https://www.nia.or.kr/site/nia_kor/ex/bbs/View.do?cbIdx=99835&bcIdx=28626&parentSeq=28626\">https://www.nia.or.kr/site/nia_kor/ex/bbs/View.do?cbIdx=99835&bcIdx=28626&parentSeq=28626</a>)</p> \n",
            "</div> </div> \n",
            "<div class=\"pop-body\"> \n",
            "<div class=\"pop-box\">\n",
            "<dl class=\"list\"> \n",
            "   <dt><span></span>ëì</dt> \n",
            "   <dd> <span>ì¤ìí API ëë©ì¸</span></dd>\n",
            "</dl> \n",
            "<dl class=\"list\"> \n",
            "  <dt><span></span>ì¼ì </dt> \n",
            "  <dd><span></span></dd> \n",
            "</dl>\n",
            "<p class=\"ps\"></p>\n",
            "</div> \n",
            "</div>\n",
            "\n",
            "\n",
            "<p class=\"bold\" style=\"text-align:right;font-size:12px; color:#333333;font-family: 'Malgun Gothic';vertical-align: middle\">&nbsp;</p>\n",
            "\n",
            "\n",
            " </div>\n",
            "</div>\n",
            "</div>\n",
            "</div>\n",
            "</body>\n",
            "</html>\n",
            "\n"
          ]
        }
      ]
    },
    {
      "cell_type": "markdown",
      "source": [
        "## full_url을 이용한 API 호출\n",
        "- 브라우저에서 직접 테스트하여 완벽하게 작동하는 전체 URL 문자열을 직접 사용한다."
      ],
      "metadata": {
        "id": "EZV5_ZGwj6-o"
      }
    },
    {
      "cell_type": "code",
      "source": [
        "import requests\n",
        "import pandas as pd\n",
        "\n",
        "# 1. API 호출 정보 설정 (예시 날짜/시간 고정 :2025년7월10일 06:00 시)\n",
        "my_key = \"UrcOXfOckvYo8hX%2F8AmlgQ8nIUSgSPH1u%2BuX7Z%2BkObecxxvDE8dHnkY3LQH2%2FPfOy8%2FM4LBA7dwd4eVpRTyQ4g%3D%3D\".strip()\n",
        "base_url = \"http://apis.data.go.kr/1360000/VilageFcstInfoService_2.0/getUltraSrtNcst\"\n",
        "\n",
        "# 모든 파라미터가 포함된 완전한 URL\n",
        "full_api_url = base_url + \\\n",
        "    \"?serviceKey=\" + my_key + \\\n",
        "    \"&pageNo=1&numOfRows=10&dataType=JSON\" + \\\n",
        "    \"&base_date=20250711&base_time=0600\" + \\\n",
        "    \"&nx=55&ny=127\"\n",
        "\n",
        "# 2. API 요청 및 응답 처리\n",
        "response = requests.get(full_api_url)\n",
        "\n",
        "# 3. 상태 코드 확인 및 DataFrame으로 변환\n",
        "if response.status_code == 200:\n",
        "    json_data = response.json()\n",
        "    # 'response' -> 'body' -> 'items' -> 'item' 경로로 실제 데이터 접근\n",
        "    items = json_data['response']['body']['items']['item']\n",
        "    df = pd.DataFrame(items)\n",
        "    print(\"API 호출 성공 및 DataFrame 생성 완료 (full_url 방식):\")\n",
        "    print(df)\n",
        "else:\n",
        "    print(f\"API 요청 실패: HTTP 상태 코드 {response.status_code}\")"
      ],
      "metadata": {
        "colab": {
          "base_uri": "https://localhost:8080/"
        },
        "id": "nzwWlW6YnQjs",
        "outputId": "1b9f0bcf-7d46-4fbd-e9c5-39b662e0921d"
      },
      "execution_count": null,
      "outputs": [
        {
          "output_type": "stream",
          "name": "stdout",
          "text": [
            "API 요청 실패: HTTP 상태 코드 404\n"
          ]
        }
      ]
    },
    {
      "cell_type": "code",
      "source": [
        "json_data"
      ],
      "metadata": {
        "id": "VZxMV6Ugongj"
      },
      "execution_count": null,
      "outputs": []
    },
    {
      "cell_type": "markdown",
      "source": [
        "# 동적 스크래핑"
      ],
      "metadata": {
        "id": "YGdKJC2UEaLQ"
      }
    },
    {
      "cell_type": "markdown",
      "source": [
        "동적인 웹페이지는 크게 두 가지 경로로 \"새로운 데이터나 화면 변화\"가 발생할 수 있다. 즉, DOM 이 바뀌게 된다.\n",
        "- DOM (Document Object Model) 은 HTML이나 XML 문서를 브라우저가 객체(트리 구조)로 표현한 것. (즉, F12 로 보이는 문서 모델)\n",
        "\n",
        "(1) AJAX 요청을 통한 서버 통신:\n",
        "  - 브라우저에서 JavaScript가 비동기 요청(AJAX, fetch, axios 등) 을 서버로 보냄\n",
        "  - 서버가 JSON, XML, HTML 조각 등을 응답 → 클라이언트가 DOM 일부를 갱신\n",
        "  - 예: 무한 스크롤 뉴스 피드, 댓글 새로고침 없이 추가\n",
        "  - scraping: 원본 소스 API 를 찾아 직접 가져오는 방법 이용.\n",
        "\n",
        "(2) 클라이언트 측 스크립트 실행만으로 변화\n",
        "  - 서버와 통신하지 않고, 이미 로드된 데이터나 DOM을 조작해서 화면이 바뀌는 경우\n",
        "  - 브라우저 안에서 JavaScript가 직접 DOM을 수정\n",
        "  - scraping: 실행 후 DOM 이 변한 후 scraping. (DOM 에 직접 반영이 안되는 경우는 다른 방법 필요)"
      ],
      "metadata": {
        "id": "uaIF_Xw2YGR-"
      }
    },
    {
      "cell_type": "markdown",
      "source": [
        "## Requests 라이브러리로 시도하기: 한계점"
      ],
      "metadata": {
        "id": "BLKLf1OKfH50"
      }
    },
    {
      "cell_type": "code",
      "source": [
        "import requests\n",
        "from bs4 import BeautifulSoup\n",
        "import pandas as pd\n",
        "\n",
        "url = \"http://quotes.toscrape.com/scroll\"\n",
        "\n",
        "response = requests.get(url)\n",
        "if response.status_code != 200:\n",
        "    print(f\"Error: Failed to fetch the page. Status code: {response.status_code}\")\n",
        "    exit()\n",
        "\n",
        "soup = BeautifulSoup(response.text, 'html.parser')\n",
        "\n",
        "# Find all 'div' tags with the class 'quote'.\n",
        "# In this specific dynamic page's initial HTML, these might not be present.\n",
        "extracted_data = []\n",
        "quotes = soup.find_all('div', class_='quote')\n",
        "\n",
        "if quotes:\n",
        "    print(f\"Found {len(quotes)} quotes (requests - initial load):\")\n",
        "    for quote_div in quotes:\n",
        "        # Find the quote text (span tag with class='text') within each quote div.\n",
        "        text_element = quote_div.find('span', class_='text')\n",
        "        text = text_element.get_text(strip=True) if text_element else 'N/A'\n",
        "\n",
        "        # Find the author's name (small tag with class='author') within each quote div.\n",
        "        author_element = quote_div.find('small', class_='author')\n",
        "        author = author_element.get_text(strip=True) if author_element else 'N/A'\n",
        "\n",
        "        extracted_data.append({'Quote': text, 'Author': author})\n",
        "        print(f\"- {text[:50]}... (by {author})\") # Print example output\n",
        "else:\n",
        "    print(\"Error: Could not find quote elements (div class='quote') in the HTML.\")\n",
        "    print(\"This confirms the content is dynamically loaded by JavaScript.\")\n",
        "\n",
        "if extracted_data:\n",
        "    df_requests = pd.DataFrame(extracted_data)\n",
        "    print(\"\\nQuotes data fetched by requests (DataFrame, first 5 rows):\")\n",
        "    print(df_requests.head())\n",
        "    print(f\"\\nTotal quotes fetched by requests: {len(df_requests)}.\")\n",
        "else:\n",
        "    print(\"No data extracted by requests.\")"
      ],
      "metadata": {
        "colab": {
          "base_uri": "https://localhost:8080/"
        },
        "id": "sBYbaQnuo0yD",
        "outputId": "f45655f5-742e-430f-a89d-af0afcfdca78"
      },
      "execution_count": 5,
      "outputs": [
        {
          "output_type": "stream",
          "name": "stdout",
          "text": [
            "Error: Could not find quote elements (div class='quote') in the HTML.\n",
            "This confirms the content is dynamically loaded by JavaScript.\n",
            "No data extracted by requests.\n"
          ]
        }
      ]
    },
    {
      "cell_type": "markdown",
      "source": [
        "- request 가 실패하는 이유:\n",
        "  - 이 스크립트가 로드되는 최초 HTML(requests가 받아오는 내용)에는 <div class=\"quote\">와 같은 명언 태그가 거의 없다. (또는 아주 초기 몇 개만 있을 수 있다. quotes.toscrape.com/scroll의 경우, 이 스크립트가 첫 10개의 명언도 API로 가져와 append 한다. 즉, 'requests'가 받은 HTML에는 명언 태그가 하나도 없다.)\n",
        "  - requests는 단순히 response.text에 담긴 HTML 문자열과 JavaScript 코드 자체만 가져올 뿐이고, 브라우저처럼 이 JavaScript 코드를 실행시키지 않는다. 따라서 JavaScript가 API를 호출하고 HTML을 동적으로 생성하여 append하는 과정이 requests에게는 보이지 않는다.\n",
        "  - response.text에 script 코드가 보이고 명언 태그가 보이지 않는다는 것이 정확히 이 동적 페이지의 특징이며, requests의 한계를 명확하게 보여주는 증거이다."
      ],
      "metadata": {
        "id": "Sr79Cs9rlOol"
      }
    },
    {
      "cell_type": "markdown",
      "source": [
        "## 네트워크 트래픽 분석을 통한 원본 데이터(API) 스크래핑"
      ],
      "metadata": {
        "id": "F-Ua2j6UEhLG"
      }
    },
    {
      "cell_type": "markdown",
      "source": [
        "- Network 탭에서 Fetch/XHR 필터(또는 XHR 필터)를 적용한다. 이 필터는 JavaScript가 비동기적으로 데이터를 가져오는 요청들(API 호출)만 걸러준다.\n",
        "- 나타난 요청들을 클릭해 보면서 Headers 탭에서 요청 URL을 확인하고, Preview 탭이나 Response 탭에서 어떤 데이터가 오는지 확인한다. JSON 또는 XML 형태로 깔끔하게 정돈된 데이터가 보인다면 그 요청이 바로 원본 데이터 소스일 가능성이 높다.\n",
        "- 특히 URL에 api, data, list, search 등의 키워드가 포함되어 있거나, .json, .xml 확장자를 가진 요청을 찾아본다."
      ],
      "metadata": {
        "id": "q22nc1atDLo7"
      }
    },
    {
      "cell_type": "markdown",
      "source": [
        "```\n",
        "Network tab analysis 를 통해 찾은 url: http://quotes.toscrape.com/api/quotes?page=1\n",
        "```"
      ],
      "metadata": {
        "id": "7d4ACI0mi9rT"
      }
    },
    {
      "cell_type": "code",
      "source": [
        "import requests\n",
        "import pandas as pd\n",
        "\n",
        "# The API URL discovered through network tab analysis\n",
        "# base_api_url = \"http://quotes.toscrape.com/api/quotes?page=1\"\n",
        "base_api_url = \"http://quotes.toscrape.com/api/quotes\"\n",
        "\n",
        "all_quotes_data_api = [] # List to store all fetched quote data\n",
        "page_num = 1             # Starting page number for the API\n",
        "\n",
        "while True:\n",
        "    print(f\"Fetching API page {page_num} data...\")\n",
        "    params = {\n",
        "        'page': page_num\n",
        "    }\n",
        "\n",
        "    response = requests.get(base_api_url, params=params)\n",
        "\n",
        "    # Check if the HTTP status code is not 200 (OK).\n",
        "    if response.status_code != 200:\n",
        "        print(f\"Error during API request: Status code {response.status_code}\")\n",
        "        break # Exit loop if API request fails\n",
        "\n",
        "    json_data = response.json()\n",
        "\n",
        "    # Check the API response structure: quotes list is under the 'quotes' key\n",
        "    quotes_on_page = json_data.get('quotes', [])\n",
        "\n",
        "    if not quotes_on_page: # If no more quotes, break the loop\n",
        "        print(f\"No more quotes found on API page {page_num}. Ending crawl.\")\n",
        "        break\n",
        "\n",
        "    for quote_info in quotes_on_page:\n",
        "        quote_text = quote_info.get('text')\n",
        "        author_name = quote_info.get('author', {}).get('name')\n",
        "        all_quotes_data_api.append({'Quote': quote_text, 'Author': author_name})\n",
        "\n",
        "    page_num += 1 # Move to the next page\n",
        "\n",
        "print(f\"Total quotes fetched from API: {len(all_quotes_data_api)}\")\n",
        "\n",
        "if all_quotes_data_api:\n",
        "    df_api = pd.DataFrame(all_quotes_data_api)\n",
        "    print(\"\\nQuotes data fetched by direct API call (DataFrame, first 20 rows):\")\n",
        "    print(df_api.head(20))\n",
        "    print(f\"\\nTotal quotes fetched: {len(df_api)}.\")\n",
        "else:\n",
        "    print(\"No quotes data fetched from API.\")"
      ],
      "metadata": {
        "colab": {
          "base_uri": "https://localhost:8080/"
        },
        "id": "lhgYPegxEuCa",
        "outputId": "387aef73-ffef-4a20-9a71-3d5d9d65fc32"
      },
      "execution_count": 6,
      "outputs": [
        {
          "output_type": "stream",
          "name": "stdout",
          "text": [
            "Fetching API page 1 data...\n",
            "Fetching API page 2 data...\n",
            "Fetching API page 3 data...\n",
            "Fetching API page 4 data...\n",
            "Fetching API page 5 data...\n",
            "Fetching API page 6 data...\n",
            "Fetching API page 7 data...\n",
            "Fetching API page 8 data...\n",
            "Fetching API page 9 data...\n",
            "Fetching API page 10 data...\n",
            "Fetching API page 11 data...\n",
            "No more quotes found on API page 11. Ending crawl.\n",
            "Total quotes fetched from API: 100\n",
            "\n",
            "Quotes data fetched by direct API call (DataFrame, first 20 rows):\n",
            "                                                Quote               Author\n",
            "0   “The world as we have created it is a process ...      Albert Einstein\n",
            "1   “It is our choices, Harry, that show what we t...         J.K. Rowling\n",
            "2   “There are only two ways to live your life. On...      Albert Einstein\n",
            "3   “The person, be it gentleman or lady, who has ...          Jane Austen\n",
            "4   “Imperfection is beauty, madness is genius and...       Marilyn Monroe\n",
            "5   “Try not to become a man of success. Rather be...      Albert Einstein\n",
            "6   “It is better to be hated for what you are tha...           André Gide\n",
            "7   “I have not failed. I've just found 10,000 way...     Thomas A. Edison\n",
            "8   “A woman is like a tea bag; you never know how...    Eleanor Roosevelt\n",
            "9   “A day without sunshine is like, you know, nig...         Steve Martin\n",
            "10  “This life is what you make it. No matter what...       Marilyn Monroe\n",
            "11  “It takes a great deal of bravery to stand up ...         J.K. Rowling\n",
            "12  “If you can't explain it to a six year old, yo...      Albert Einstein\n",
            "13  “You may not be her first, her last, or her on...           Bob Marley\n",
            "14  “I like nonsense, it wakes up the brain cells....            Dr. Seuss\n",
            "15  “I may not have gone where I intended to go, b...        Douglas Adams\n",
            "16  “The opposite of love is not hate, it's indiff...          Elie Wiesel\n",
            "17  “It is not a lack of love, but a lack of frien...  Friedrich Nietzsche\n",
            "18  “Good friends, good books, and a sleepy consci...           Mark Twain\n",
            "19  “Life is what happens to us while we are makin...       Allen Saunders\n",
            "\n",
            "Total quotes fetched: 100.\n"
          ]
        }
      ]
    },
    {
      "cell_type": "markdown",
      "source": [
        "- to see how it worked. (let's get information of the pge 10)"
      ],
      "metadata": {
        "id": "r8WWm2EdHBgG"
      }
    },
    {
      "cell_type": "code",
      "source": [
        "params = \"page: 10\"\n",
        "response = requests.get(base_api_url, params=params)"
      ],
      "metadata": {
        "id": "aWIvMg3eGbH3"
      },
      "execution_count": 7,
      "outputs": []
    },
    {
      "cell_type": "code",
      "source": [
        "len(response.json())"
      ],
      "metadata": {
        "colab": {
          "base_uri": "https://localhost:8080/"
        },
        "id": "oJfJiD5jF4lc",
        "outputId": "6c2563f7-bca7-4e02-b7c8-0cf1c162694d"
      },
      "execution_count": 12,
      "outputs": [
        {
          "output_type": "execute_result",
          "data": {
            "text/plain": [
              "5"
            ]
          },
          "metadata": {},
          "execution_count": 12
        }
      ]
    },
    {
      "cell_type": "code",
      "source": [
        "response.json().keys()"
      ],
      "metadata": {
        "colab": {
          "base_uri": "https://localhost:8080/"
        },
        "id": "dRxODtS5HsKl",
        "outputId": "fd6dcfc1-516f-4c19-fdea-ae317bc3ba1d"
      },
      "execution_count": 9,
      "outputs": [
        {
          "output_type": "execute_result",
          "data": {
            "text/plain": [
              "dict_keys(['has_next', 'page', 'quotes', 'tag', 'top_ten_tags'])"
            ]
          },
          "metadata": {},
          "execution_count": 9
        }
      ]
    },
    {
      "cell_type": "code",
      "source": [
        "response.json()['quotes']  #.get('quotes') 와 동일"
      ],
      "metadata": {
        "colab": {
          "base_uri": "https://localhost:8080/"
        },
        "id": "T1gR6DliIOY9",
        "outputId": "582f3e15-d1da-41c1-e4c3-f137f7ce5c7f"
      },
      "execution_count": 13,
      "outputs": [
        {
          "output_type": "execute_result",
          "data": {
            "text/plain": [
              "[{'author': {'goodreads_link': '/author/show/9810.Albert_Einstein',\n",
              "   'name': 'Albert Einstein',\n",
              "   'slug': 'Albert-Einstein'},\n",
              "  'tags': ['change', 'deep-thoughts', 'thinking', 'world'],\n",
              "  'text': '“The world as we have created it is a process of our thinking. It cannot be changed without changing our thinking.”'},\n",
              " {'author': {'goodreads_link': '/author/show/1077326.J_K_Rowling',\n",
              "   'name': 'J.K. Rowling',\n",
              "   'slug': 'J-K-Rowling'},\n",
              "  'tags': ['abilities', 'choices'],\n",
              "  'text': '“It is our choices, Harry, that show what we truly are, far more than our abilities.”'},\n",
              " {'author': {'goodreads_link': '/author/show/9810.Albert_Einstein',\n",
              "   'name': 'Albert Einstein',\n",
              "   'slug': 'Albert-Einstein'},\n",
              "  'tags': ['inspirational', 'life', 'live', 'miracle', 'miracles'],\n",
              "  'text': '“There are only two ways to live your life. One is as though nothing is a miracle. The other is as though everything is a miracle.”'},\n",
              " {'author': {'goodreads_link': '/author/show/1265.Jane_Austen',\n",
              "   'name': 'Jane Austen',\n",
              "   'slug': 'Jane-Austen'},\n",
              "  'tags': ['aliteracy', 'books', 'classic', 'humor'],\n",
              "  'text': '“The person, be it gentleman or lady, who has not pleasure in a good novel, must be intolerably stupid.”'},\n",
              " {'author': {'goodreads_link': '/author/show/82952.Marilyn_Monroe',\n",
              "   'name': 'Marilyn Monroe',\n",
              "   'slug': 'Marilyn-Monroe'},\n",
              "  'tags': ['be-yourself', 'inspirational'],\n",
              "  'text': \"“Imperfection is beauty, madness is genius and it's better to be absolutely ridiculous than absolutely boring.”\"},\n",
              " {'author': {'goodreads_link': '/author/show/9810.Albert_Einstein',\n",
              "   'name': 'Albert Einstein',\n",
              "   'slug': 'Albert-Einstein'},\n",
              "  'tags': ['adulthood', 'success', 'value'],\n",
              "  'text': '“Try not to become a man of success. Rather become a man of value.”'},\n",
              " {'author': {'goodreads_link': '/author/show/7617.Andr_Gide',\n",
              "   'name': 'André Gide',\n",
              "   'slug': 'Andre-Gide'},\n",
              "  'tags': ['life', 'love'],\n",
              "  'text': '“It is better to be hated for what you are than to be loved for what you are not.”'},\n",
              " {'author': {'goodreads_link': '/author/show/3091287.Thomas_A_Edison',\n",
              "   'name': 'Thomas A. Edison',\n",
              "   'slug': 'Thomas-A-Edison'},\n",
              "  'tags': ['edison', 'failure', 'inspirational', 'paraphrased'],\n",
              "  'text': \"“I have not failed. I've just found 10,000 ways that won't work.”\"},\n",
              " {'author': {'goodreads_link': '/author/show/44566.Eleanor_Roosevelt',\n",
              "   'name': 'Eleanor Roosevelt',\n",
              "   'slug': 'Eleanor-Roosevelt'},\n",
              "  'tags': ['misattributed-eleanor-roosevelt'],\n",
              "  'text': \"“A woman is like a tea bag; you never know how strong it is until it's in hot water.”\"},\n",
              " {'author': {'goodreads_link': '/author/show/7103.Steve_Martin',\n",
              "   'name': 'Steve Martin',\n",
              "   'slug': 'Steve-Martin'},\n",
              "  'tags': ['humor', 'obvious', 'simile'],\n",
              "  'text': '“A day without sunshine is like, you know, night.”'}]"
            ]
          },
          "metadata": {},
          "execution_count": 13
        }
      ]
    },
    {
      "cell_type": "code",
      "source": [
        "response.json()['quotes'][0]"
      ],
      "metadata": {
        "colab": {
          "base_uri": "https://localhost:8080/"
        },
        "id": "ebXDyM-JIxXF",
        "outputId": "48eb834b-d4e2-44fc-cb1a-19c78061a50d"
      },
      "execution_count": 14,
      "outputs": [
        {
          "output_type": "execute_result",
          "data": {
            "text/plain": [
              "{'author': {'goodreads_link': '/author/show/9810.Albert_Einstein',\n",
              "  'name': 'Albert Einstein',\n",
              "  'slug': 'Albert-Einstein'},\n",
              " 'tags': ['change', 'deep-thoughts', 'thinking', 'world'],\n",
              " 'text': '“The world as we have created it is a process of our thinking. It cannot be changed without changing our thinking.”'}"
            ]
          },
          "metadata": {},
          "execution_count": 14
        }
      ]
    },
    {
      "cell_type": "code",
      "source": [
        "response.json()['quotes'][0].get('author', [])  # []: 찾고자 하는 키가 없을 때 대신 반환하는 기본값"
      ],
      "metadata": {
        "colab": {
          "base_uri": "https://localhost:8080/"
        },
        "id": "T0RLT-eaJJsu",
        "outputId": "1c947a9f-a5be-4fc0-f6c1-4186712cad24"
      },
      "execution_count": 15,
      "outputs": [
        {
          "output_type": "execute_result",
          "data": {
            "text/plain": [
              "{'goodreads_link': '/author/show/9810.Albert_Einstein',\n",
              " 'name': 'Albert Einstein',\n",
              " 'slug': 'Albert-Einstein'}"
            ]
          },
          "metadata": {},
          "execution_count": 15
        }
      ]
    },
    {
      "cell_type": "code",
      "source": [
        "response.json()['quotes'][0].get('author', []).get('name')"
      ],
      "metadata": {
        "colab": {
          "base_uri": "https://localhost:8080/",
          "height": 36
        },
        "id": "M_uPCYIBJZdD",
        "outputId": "013907da-7398-44d7-e7c0-572c79a3b982"
      },
      "execution_count": 16,
      "outputs": [
        {
          "output_type": "execute_result",
          "data": {
            "text/plain": [
              "'Albert Einstein'"
            ],
            "application/vnd.google.colaboratory.intrinsic+json": {
              "type": "string"
            }
          },
          "metadata": {},
          "execution_count": 16
        }
      ]
    },
    {
      "cell_type": "code",
      "source": [
        "response.json()['quotes'][0].get('text')"
      ],
      "metadata": {
        "colab": {
          "base_uri": "https://localhost:8080/",
          "height": 36
        },
        "id": "CSZhQRv9JhMM",
        "outputId": "0cd5594e-0530-45dc-aa81-b339557d3483"
      },
      "execution_count": 17,
      "outputs": [
        {
          "output_type": "execute_result",
          "data": {
            "text/plain": [
              "'“The world as we have created it is a process of our thinking. It cannot be changed without changing our thinking.”'"
            ],
            "application/vnd.google.colaboratory.intrinsic+json": {
              "type": "string"
            }
          },
          "metadata": {},
          "execution_count": 17
        }
      ]
    }
  ]
}