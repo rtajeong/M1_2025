{
  "nbformat": 4,
  "nbformat_minor": 0,
  "metadata": {
    "colab": {
      "provenance": [],
      "toc_visible": true,
      "authorship_tag": "ABX9TyNzz5WbTKrDse1kaH62xgzw",
      "include_colab_link": true
    },
    "kernelspec": {
      "name": "python3",
      "display_name": "Python 3"
    },
    "language_info": {
      "name": "python"
    }
  },
  "cells": [
    {
      "cell_type": "markdown",
      "metadata": {
        "id": "view-in-github",
        "colab_type": "text"
      },
      "source": [
        "<a href=\"https://colab.research.google.com/github/rtajeong/M1_2025/blob/main/Ch1_Intro.ipynb\" target=\"_parent\"><img src=\"https://colab.research.google.com/assets/colab-badge.svg\" alt=\"Open In Colab\"/></a>"
      ]
    },
    {
      "cell_type": "markdown",
      "source": [
        "# 데이터사이언스 예제"
      ],
      "metadata": {
        "id": "rwpcYwbA6NjP"
      }
    },
    {
      "cell_type": "markdown",
      "source": [
        "- 데이터로 답을 찾는다는 것(어떤 과일이 가장 많이 팔렸을까?\"라는 질문에 답하는 예시)"
      ],
      "metadata": {
        "id": "kI4ddBah6lO_"
      }
    },
    {
      "cell_type": "code",
      "source": [
        "import pandas as pd\n",
        "\n",
        "data = {'과일': ['사과', '바나나', '사과', '오렌지', '바나나', '바나나'],\n",
        "        '수량': [10, 15, 8, 7, 20, 12]}\n",
        "sales_df = pd.DataFrame(data)\n",
        "\n",
        "fruit_counts = sales_df.groupby('과일')['수량'].sum()\n",
        "\n",
        "print(\"\\n--- 과일별 총 판매량 ---\\n\", fruit_counts)\n",
        "\n",
        "print(f\"\\n가장 많이 팔린 과일은? -> {fruit_counts.idxmax()}\")"
      ],
      "metadata": {
        "colab": {
          "base_uri": "https://localhost:8080/"
        },
        "id": "gh5QzSu76M1X",
        "outputId": "5fb96bdc-d3f5-452f-bf77-5034be6b3d21"
      },
      "execution_count": 1,
      "outputs": [
        {
          "output_type": "stream",
          "name": "stdout",
          "text": [
            "\n",
            "--- 과일별 총 판매량 ---\n",
            " 과일\n",
            "바나나    47\n",
            "사과     18\n",
            "오렌지     7\n",
            "Name: 수량, dtype: int64\n",
            "\n",
            "가장 많이 팔린 과일은? -> 바나나\n"
          ]
        }
      ]
    },
    {
      "cell_type": "markdown",
      "source": [
        "- 생성형 AI는 어떻게 문장을 만들까?"
      ],
      "metadata": {
        "id": "qxMuI37u7ZBe"
      }
    },
    {
      "cell_type": "code",
      "source": [
        "import random\n",
        "word_map = {\"데이터\": [\"분석은\", \"과학은\", \"처리는\"],\n",
        "            \"분석은\": [\"중요하다\", \"어렵다\"],\n",
        "            \"과학은\": [\"미래다\", \"재미있다\"],\n",
        "            \"처리는\": [\"매우 중요하다\", \"매우 어렵다\"],\n",
        "            \"미래다\": [\"!\", \".\", \"?\"]\n",
        "            }\n",
        "\n",
        "def generate_sentence(start_word=\"데이터\", length=4):\n",
        "    sentence = [start_word]\n",
        "    current_word = start_word\n",
        "\n",
        "    for _ in range(length - 1):\n",
        "        # 다음 단어 후보가 없으면 멈춤\n",
        "        if current_word not in word_map:\n",
        "            break\n",
        "\n",
        "        # 학습된 단어들 중에서 다음 단어를 무작위로 선택\n",
        "        next_word = random.choice(word_map[current_word])\n",
        "        sentence.append(next_word)\n",
        "        current_word = next_word\n",
        "\n",
        "    return \" \".join(sentence)\n",
        "\n",
        "print(f\"AI가 생성한 문장: {generate_sentence()}\")"
      ],
      "metadata": {
        "colab": {
          "base_uri": "https://localhost:8080/"
        },
        "id": "tq6KaUxv7bjR",
        "outputId": "68e18a8b-ecda-4c32-8daa-6eacbc67891b"
      },
      "execution_count": 2,
      "outputs": [
        {
          "output_type": "stream",
          "name": "stdout",
          "text": [
            "AI가 생성한 문장: 데이터 분석은 중요하다\n"
          ]
        }
      ]
    },
    {
      "cell_type": "markdown",
      "source": [
        "- 데이터 편향성이 만드는 차별"
      ],
      "metadata": {
        "id": "5MSQtss4_-yt"
      }
    },
    {
      "cell_type": "code",
      "source": [
        "# 데이터 윤리의 중요성을 보여주는 개념적 예시\n",
        "# 편향된 학습 데이터: '개발자'는 모두 남성이라고 학습함\n",
        "\n",
        "biased_knowledge = {'개발자': '남성'}\n",
        "\n",
        "def simple_ai_recruiter(applicant_profile):\n",
        "    # AI는 학습한 지식(편향)에 따라 판단\n",
        "    if applicant_profile['직무'] == '개발자':\n",
        "        if applicant_profile['성별'] == biased_knowledge['개발자']:\n",
        "            return \"채용 검토 대상입니다.\"\n",
        "        else:\n",
        "            return \"이 직무와 관련성이 낮아 보입니다.\"\n",
        "\n",
        "# 지원자 1: 남성 개발자\n",
        "applicant_1 = {'직무': '개발자', '성별': '남성'}\n",
        "print(f\"지원자 1 결과: {simple_ai_recruiter(applicant_1)}\")\n",
        "\n",
        "# 지원자 2: 여성 개발자\n",
        "applicant_2 = {'직무': '개발자', '성별': '여성'}\n",
        "print(f\"지원자 2 결과: {simple_ai_recruiter(applicant_2)}\")"
      ],
      "metadata": {
        "colab": {
          "base_uri": "https://localhost:8080/"
        },
        "id": "mNqbUGgsAFzU",
        "outputId": "802fdc2d-8b71-4e8c-fcb6-45c418e5a491"
      },
      "execution_count": 3,
      "outputs": [
        {
          "output_type": "stream",
          "name": "stdout",
          "text": [
            "지원자 1 결과: 채용 검토 대상입니다.\n",
            "지원자 2 결과: 이 직무와 관련성이 낮아 보입니다.\n"
          ]
        }
      ]
    }
  ]
}