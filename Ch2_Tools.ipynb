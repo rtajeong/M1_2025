{
  "nbformat": 4,
  "nbformat_minor": 0,
  "metadata": {
    "colab": {
      "provenance": [],
      "authorship_tag": "ABX9TyOJTo/uBTIsI0eGj4Z2gIaC",
      "include_colab_link": true
    },
    "kernelspec": {
      "name": "python3",
      "display_name": "Python 3"
    },
    "language_info": {
      "name": "python"
    }
  },
  "cells": [
    {
      "cell_type": "markdown",
      "metadata": {
        "id": "view-in-github",
        "colab_type": "text"
      },
      "source": [
        "<a href=\"https://colab.research.google.com/github/rtajeong/M1_2025/blob/main/Ch2_Tools.ipynb\" target=\"_parent\"><img src=\"https://colab.research.google.com/assets/colab-badge.svg\" alt=\"Open In Colab\"/></a>"
      ]
    },
    {
      "cell_type": "markdown",
      "source": [
        "# Colab 에서 Git/GitHub 사용하기\n",
        "- git: 분산형 버전 관리 시스템 (local PC 에 설치, .git 폴더에 모든 정보 저장)\n",
        "- github: Git 저장소를 온라인에서 호스팅해주는 플랫폼/서비스 (웹 가입)"
      ],
      "metadata": {
        "id": "h8aSoBRb-_T2"
      }
    },
    {
      "cell_type": "markdown",
      "source": [
        "[Note] 예제를 실행하기 전에 github/my_first_project 에 가서 .py 파일을 지운다."
      ],
      "metadata": {
        "id": "NtDfoQ9gqMYO"
      }
    },
    {
      "cell_type": "markdown",
      "source": [
        "- 1. GitHub 저장소 복제 (Clone)\n",
        "  - 실행 후 왼쪽 파일 탐색기를 열어보면, 내 저장소 폴더가 생긴 것을 볼 수 있다."
      ],
      "metadata": {
        "id": "JuVynglE_hOu"
      }
    },
    {
      "cell_type": "code",
      "source": [
        "!git clone https://github.com/rtajeong/my_first_project.git"
      ],
      "metadata": {
        "id": "C8W16Pdto4Du",
        "colab": {
          "base_uri": "https://localhost:8080/"
        },
        "outputId": "6f07e94a-967d-4ee0-f818-ee1267aa3f78"
      },
      "execution_count": 1,
      "outputs": [
        {
          "output_type": "stream",
          "name": "stdout",
          "text": [
            "Cloning into 'my_first_project'...\n",
            "remote: Enumerating objects: 15, done.\u001b[K\n",
            "remote: Counting objects: 100% (15/15), done.\u001b[K\n",
            "remote: Compressing objects: 100% (11/11), done.\u001b[K\n",
            "remote: Total 15 (delta 1), reused 9 (delta 0), pack-reused 0 (from 0)\u001b[K\n",
            "Receiving objects: 100% (15/15), done.\n",
            "Resolving deltas: 100% (1/1), done.\n"
          ]
        }
      ]
    },
    {
      "cell_type": "markdown",
      "source": [
        "- 2. 파일 수정 또는 생성\n",
        "  - Colab에서 데이터를 분석하거나, 코드를 실행하여 새로운 결과 파일을 만든다."
      ],
      "metadata": {
        "id": "qBqZZUEA__yz"
      }
    },
    {
      "cell_type": "code",
      "source": [
        "%%writefile my_first_project/hello.py\n",
        "print(\"Hello Everybody. Welcome to the Data Science World.\")"
      ],
      "metadata": {
        "colab": {
          "base_uri": "https://localhost:8080/"
        },
        "id": "3aSxCJYvA0_r",
        "outputId": "45f02e43-5df2-49d8-da78-d13b75fb0089"
      },
      "execution_count": 2,
      "outputs": [
        {
          "output_type": "stream",
          "name": "stdout",
          "text": [
            "Writing my_first_project/hello.py\n"
          ]
        }
      ]
    },
    {
      "cell_type": "code",
      "source": [
        "!python my_first_project/hello.py"
      ],
      "metadata": {
        "colab": {
          "base_uri": "https://localhost:8080/"
        },
        "id": "t1M2d89bA_YD",
        "outputId": "77081d15-9d2a-4e5a-95f5-afe6cd1c01c7"
      },
      "execution_count": 3,
      "outputs": [
        {
          "output_type": "stream",
          "name": "stdout",
          "text": [
            "Hello Everybody. Welcome to the Data Science World.\n"
          ]
        }
      ]
    },
    {
      "cell_type": "markdown",
      "source": [
        "- 3. 변경 내용 기록 (Add & Commit)\n",
        "  - 변경된 내용을 Git에 기록한다. 내 이름과 이메일을 먼저 설정해 주어야 한다."
      ],
      "metadata": {
        "id": "IHkAiqSdAYAE"
      }
    },
    {
      "cell_type": "code",
      "source": [
        "# Git에 내 정보 등록 (최초 한 번만)\n",
        "!git config --global user.name \"rtajeong\"\n",
        "!git config --global user.email \"rtajeong@gmail.com\"\n",
        "\n",
        "# 저장소가 있는 폴더로 이동\n",
        "%cd my_first_project\n",
        "\n",
        "# 모든 변경사항을 기록 준비(add) 및 확정(commit)\n",
        "!git add .\n",
        "!git commit -m \"Colab에서 Hello Python 코드 추가\""
      ],
      "metadata": {
        "colab": {
          "base_uri": "https://localhost:8080/"
        },
        "id": "wX7A4xCTAhu7",
        "outputId": "835fcf64-24d4-46a5-bb33-00eaa7e9993b"
      },
      "execution_count": 4,
      "outputs": [
        {
          "output_type": "stream",
          "name": "stdout",
          "text": [
            "/content/my_first_project\n",
            "[main 4a62db9] Colab에서 Hello Python 코드 추가\n",
            " 1 file changed, 1 insertion(+)\n",
            " create mode 100644 hello.py\n"
          ]
        }
      ]
    },
    {
      "cell_type": "markdown",
      "source": [
        "- 4. GitHub에 업로드 (Push)\n",
        "  - 이 단계가 조금 번거롭다. Colab은 내 GitHub 비밀번호를 모르기 때문에, '개인용 액세스 토큰(Personal Access Token, PAT)'이라는 일회용 비밀번호를 사용해야 한다.\n",
        "  - 일회용 코드는 웹사이트(https://github.com/settings/tokens) 에서 받을 수 있으며 Generate new token -> Generate new token (classic)을 선택한다. 이때 ’Select scopes(권한 선택)‘ 단계에서, ’repo‘라고 적힌 메인 체크박스를 반드시 클릭하여 그 안의 모든 하위 항목들이 선택되도록 해야 그 저장소에 코드를 쓰고(push) 수정할 수 있다."
      ],
      "metadata": {
        "id": "9kMBj16tBQ8j"
      }
    },
    {
      "cell_type": "code",
      "source": [
        "# GitHub에서 발급받은 개인용 액세스 토큰을 준비\n",
        "from google.colab import drive\n",
        "drive.mount('/content/drive')\n",
        "\n",
        "github_token_key_file = '/content/drive/My Drive/Colab Notebooks/github_token_key.txt'\n",
        "\n",
        "with open(github_token_key_file, 'r') as f:\n",
        "    token = f.read().strip()\n",
        "\n",
        "username = 'rtajeong'\n",
        "repo = 'my_first_project'\n",
        "\n",
        "# 토큰을 이용해 GitHub에 push\n",
        "!git push https://{token}@github.com/{username}/{repo}.git"
      ],
      "metadata": {
        "colab": {
          "base_uri": "https://localhost:8080/"
        },
        "id": "9SJ7wnibY4__",
        "outputId": "d6e06ba2-8819-4684-ea35-80ac499edc48"
      },
      "execution_count": 5,
      "outputs": [
        {
          "output_type": "stream",
          "name": "stdout",
          "text": [
            "Mounted at /content/drive\n",
            "Enumerating objects: 4, done.\n",
            "Counting objects: 100% (4/4), done.\n",
            "Delta compression using up to 2 threads\n",
            "Compressing objects: 100% (3/3), done.\n",
            "Writing objects: 100% (3/3), 373 bytes | 373.00 KiB/s, done.\n",
            "Total 3 (delta 0), reused 2 (delta 0), pack-reused 0\n",
            "To https://github.com/rtajeong/my_first_project.git\n",
            "   d765280..4a62db9  main -> main\n"
          ]
        }
      ]
    },
    {
      "cell_type": "markdown",
      "source": [
        "- 위의 예제에서 github 에 연결하여 폴더를 복제한 후 파일을 추가하여 update 했다. 이것은 github 사이트에 가서 직접 수행이 가능하다. 차이점은,\n",
        "\n",
        "  - GitHub 웹사이트에서 직접 관리: 간단히 파일 몇 개 올리거나 수정할 때 편리 → 하지만 대량 파일 관리나 복잡한 버전 제어에는 불편\n",
        "  - Colab에서 git 사용: 코드 실행 환경에서 바로 git clone, git push 등으로 동기화 → 자동화·반복작업에 유리\n",
        "  - local PC 에서 사용: PC에 Git 설치 필요, 환경 설정을 직접 해야 함. 개발 도구(IDE, VS Code 등)와 밀접하게 연동 가능."
      ],
      "metadata": {
        "id": "YaC-miQWtagT"
      }
    },
    {
      "cell_type": "markdown",
      "source": [
        "# Exercise"
      ],
      "metadata": {
        "id": "ndpxWrYdpS1t"
      }
    },
    {
      "cell_type": "code",
      "source": [
        "%pwd"
      ],
      "metadata": {
        "colab": {
          "base_uri": "https://localhost:8080/",
          "height": 36
        },
        "id": "7K2ASmeFe0a-",
        "outputId": "106b8f71-3425-4bf0-d359-4b76fe980c63"
      },
      "execution_count": 6,
      "outputs": [
        {
          "output_type": "execute_result",
          "data": {
            "text/plain": [
              "'/content/my_first_project'"
            ],
            "application/vnd.google.colaboratory.intrinsic+json": {
              "type": "string"
            }
          },
          "metadata": {},
          "execution_count": 6
        }
      ]
    },
    {
      "cell_type": "code",
      "source": [
        "%ls -l"
      ],
      "metadata": {
        "id": "FXvQdztke4iV",
        "outputId": "d4f12b54-9307-4803-faca-1a7fbdf5393b",
        "colab": {
          "base_uri": "https://localhost:8080/"
        }
      },
      "execution_count": null,
      "outputs": [
        {
          "output_type": "stream",
          "name": "stdout",
          "text": [
            "total 8\n",
            "-rw-r--r-- 1 root root 61 Jul 22 04:52 hello.py\n",
            "-rw-r--r-- 1 root root 90 Jul 22 04:51 README.md\n"
          ]
        }
      ]
    },
    {
      "cell_type": "code",
      "source": [
        "!pwd"
      ],
      "metadata": {
        "colab": {
          "base_uri": "https://localhost:8080/"
        },
        "id": "aIJKKlTio0rf",
        "outputId": "0cec61de-6ea1-4ce6-927a-b6167e2755eb"
      },
      "execution_count": 8,
      "outputs": [
        {
          "output_type": "stream",
          "name": "stdout",
          "text": [
            "/content/my_first_project\n"
          ]
        }
      ]
    },
    {
      "cell_type": "code",
      "source": [
        "# 원격 연결 끊을 때\n",
        "!git remote remove origin"
      ],
      "metadata": {
        "id": "PBLEyX6jof7H",
        "colab": {
          "base_uri": "https://localhost:8080/"
        },
        "outputId": "860afd27-3077-4ebb-d1b2-4a148ba54bb0"
      },
      "execution_count": 10,
      "outputs": [
        {
          "output_type": "stream",
          "name": "stdout",
          "text": [
            "error: No such remote: 'origin'\n"
          ]
        }
      ]
    },
    {
      "cell_type": "code",
      "source": [
        "# 폴더 삭제\n",
        "!rm -rf my_first_project"
      ],
      "metadata": {
        "id": "O2nVQLg0o_ID"
      },
      "execution_count": 11,
      "outputs": []
    },
    {
      "cell_type": "code",
      "source": [
        "%cd .."
      ],
      "metadata": {
        "colab": {
          "base_uri": "https://localhost:8080/"
        },
        "id": "LenCvysVpHbe",
        "outputId": "a116de60-00e3-4a3a-ee9c-e558211f667f"
      },
      "execution_count": 12,
      "outputs": [
        {
          "output_type": "stream",
          "name": "stdout",
          "text": [
            "/content\n"
          ]
        }
      ]
    },
    {
      "cell_type": "code",
      "source": [],
      "metadata": {
        "id": "_ECOq0UQpLrb"
      },
      "execution_count": null,
      "outputs": []
    }
  ]
}