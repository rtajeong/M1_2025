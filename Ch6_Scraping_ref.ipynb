{
  "cells": [
    {
      "cell_type": "markdown",
      "metadata": {
        "id": "view-in-github",
        "colab_type": "text"
      },
      "source": [
        "<a href=\"https://colab.research.google.com/github/rtajeong/M1_2025/blob/main/Ch6_Scraping_ref.ipynb\" target=\"_parent\"><img src=\"https://colab.research.google.com/assets/colab-badge.svg\" alt=\"Open In Colab\"/></a>"
      ]
    },
    {
      "cell_type": "markdown",
      "metadata": {
        "id": "XVUFUml_uyub"
      },
      "source": [
        "# Web Scraping\n",
        "\n",
        "- 웹 실행 과정:\n",
        "  - 클라이언트(웹 브라우저)가 서버에 HTTP 요청을 보냄\n",
        "  - 서버는 HTML 파일 및 관련 자원(CSS, JS 등)을 응답으로 클라이언트에 보뇀\n",
        "  - 클라이언트는 이 파일을 받아 웹 페이지를 렌더링하여 화면에 표시"
      ]
    },
    {
      "cell_type": "markdown",
      "metadata": {
        "id": "9Eas7Ig8CVxD"
      },
      "source": [
        "# Crawling and Scraping\n",
        "- crawling: 웹 페이지를 자동으로 탐색하는 과정으로, 주로 웹 사이트의 링크 구조를 따라가면서 페이지를 방문하고 데이터를 수집\n",
        "- scraping: 특정 웹 페이지에서 원하는 정보를 추출하는 데 집중된 방법. 페이지의 HTML 구조를 분석해 필요한 데이터(예: 텍스트, 이미지, 표)를 가져오는 작업.\n",
        "- Crawling focuses on discovering and indexing web pages, while scraping targets specific data extraction from those pages"
      ]
    },
    {
      "cell_type": "markdown",
      "metadata": {
        "id": "M70WK3Bb5wGQ"
      },
      "source": [
        "# JSON format\n",
        "- json: JavaScript Object Notation (자바 스크립트 객체 표기법)\n",
        "- 데이터를 쉽게 '교환' 하고 '저장' 하기 위한 텍스트 기반의 데이터 교환 표준"
      ]
    },
    {
      "cell_type": "markdown",
      "source": [
        "## encode/decode"
      ],
      "metadata": {
        "id": "cPRYYZi8iiTY"
      }
    },
    {
      "cell_type": "code",
      "execution_count": null,
      "metadata": {
        "id": "0gnIXL3r5wGU"
      },
      "outputs": [],
      "source": [
        "import numpy as np\n",
        "import pandas as pd\n",
        "import matplotlib.pyplot as plt\n",
        "%matplotlib inline\n",
        "import json\n",
        "from bs4 import BeautifulSoup"
      ]
    },
    {
      "cell_type": "code",
      "execution_count": null,
      "metadata": {
        "id": "_jP_W4fR5wGX"
      },
      "outputs": [],
      "source": [
        "# exercise 1 : a simple json format\n",
        "obj = \"\"\"\n",
        "{\n",
        "    \"name\": \"Kim\",\n",
        "    \"places_lived\": [\"Seoul\", \"Korea\"],\n",
        "    \"pet\": null,\n",
        "    \"siblings\": [{\"name\": \"Scott\", \"age\":25, \"pet\":\"Zuko\"}]\n",
        "}\n",
        "\"\"\""
      ]
    },
    {
      "cell_type": "code",
      "execution_count": null,
      "metadata": {
        "colab": {
          "base_uri": "https://localhost:8080/"
        },
        "id": "O5_FM8I75wGY",
        "outputId": "000a8b82-13a8-49e4-822a-f8fac41153a0"
      },
      "outputs": [
        {
          "output_type": "execute_result",
          "data": {
            "text/plain": [
              "str"
            ]
          },
          "metadata": {},
          "execution_count": 3
        }
      ],
      "source": [
        "type(obj)"
      ]
    },
    {
      "cell_type": "code",
      "execution_count": null,
      "metadata": {
        "colab": {
          "base_uri": "https://localhost:8080/"
        },
        "id": "KiOmxQht5wGa",
        "outputId": "c9ef978e-1573-4665-f720-86ff27fe17df"
      },
      "outputs": [
        {
          "output_type": "stream",
          "name": "stdout",
          "text": [
            "{'name': 'Kim', 'places_lived': ['Seoul', 'Korea'], 'pet': None, 'siblings': [{'name': 'Scott', 'age': 25, 'pet': 'Zuko'}]}\n"
          ]
        },
        {
          "output_type": "execute_result",
          "data": {
            "text/plain": [
              "dict"
            ]
          },
          "metadata": {},
          "execution_count": 4
        }
      ],
      "source": [
        "r = json.loads(obj)   # decoding (json --> dict)\n",
        "print(r)\n",
        "type(r)"
      ]
    },
    {
      "cell_type": "code",
      "execution_count": null,
      "metadata": {
        "colab": {
          "base_uri": "https://localhost:8080/",
          "height": 35
        },
        "id": "5dQdz9_o5wGb",
        "outputId": "cc0d253e-a011-4c57-aafb-ba7979b9b320"
      },
      "outputs": [
        {
          "output_type": "execute_result",
          "data": {
            "text/plain": [
              "'{\"name\": \"Kim\", \"places_lived\": [\"Seoul\", \"Korea\"], \"pet\": null, \"siblings\": [{\"name\": \"Scott\", \"age\": 25, \"pet\": \"Zuko\"}]}'"
            ],
            "application/vnd.google.colaboratory.intrinsic+json": {
              "type": "string"
            }
          },
          "metadata": {},
          "execution_count": 5
        }
      ],
      "source": [
        "json.dumps(r)    # encoding (dict --> json)"
      ]
    },
    {
      "cell_type": "code",
      "execution_count": null,
      "metadata": {
        "id": "x6ubpQora7XA"
      },
      "outputs": [],
      "source": [
        "# Exercise 2 (from https://rfriend.tistory.com/474)\n",
        "data_dict = {\n",
        "\n",
        "    \"1.FirstName\": \"Gildong\",\n",
        "    \"2.LastName\": \"Hong\",\n",
        "    \"3.Age\": 20,\n",
        "    \"4.University\": \"Hangook University\",\n",
        "    \"5.Courses\": [\n",
        "        {\n",
        "            \"Classes\": [\n",
        "                \"Probability\",\n",
        "                \"Generalized Linear Model\",\n",
        "                \"Categorical Data Analysis\"\n",
        "            ],\n",
        "            \"Major\": \"Statistics\"\n",
        "        },\n",
        "        {\n",
        "            \"Classes\": [\n",
        "                \"Data Structure\",\n",
        "                \"Programming\",\n",
        "                \"Algorithms\"\n",
        "            ],\n",
        "            \"Minor\": \"ComputerScience\"\n",
        "        }\n",
        "    ]\n",
        "}"
      ]
    },
    {
      "cell_type": "code",
      "source": [
        "type(data_dict)"
      ],
      "metadata": {
        "colab": {
          "base_uri": "https://localhost:8080/"
        },
        "id": "YHIwYDr2ekn6",
        "outputId": "d780adfc-334a-4a2b-e0dc-30659d2f4abd"
      },
      "execution_count": null,
      "outputs": [
        {
          "output_type": "execute_result",
          "data": {
            "text/plain": [
              "dict"
            ]
          },
          "metadata": {},
          "execution_count": 7
        }
      ]
    },
    {
      "cell_type": "code",
      "source": [
        "pd.DataFrame(data_dict)"
      ],
      "metadata": {
        "colab": {
          "base_uri": "https://localhost:8080/",
          "height": 112
        },
        "id": "17JlxqAVsOs1",
        "outputId": "48d2918d-e698-4531-dd68-c961167c6ddd"
      },
      "execution_count": null,
      "outputs": [
        {
          "output_type": "execute_result",
          "data": {
            "text/plain": [
              "  1.FirstName 2.LastName  3.Age        4.University  \\\n",
              "0     Gildong       Hong     20  Hangook University   \n",
              "1     Gildong       Hong     20  Hangook University   \n",
              "\n",
              "                                           5.Courses  \n",
              "0  {'Classes': ['Probability', 'Generalized Linea...  \n",
              "1  {'Classes': ['Data Structure', 'Programming', ...  "
            ],
            "text/html": [
              "\n",
              "  <div id=\"df-6bb6ab02-7230-480c-84ce-ae9affe95bd0\" class=\"colab-df-container\">\n",
              "    <div>\n",
              "<style scoped>\n",
              "    .dataframe tbody tr th:only-of-type {\n",
              "        vertical-align: middle;\n",
              "    }\n",
              "\n",
              "    .dataframe tbody tr th {\n",
              "        vertical-align: top;\n",
              "    }\n",
              "\n",
              "    .dataframe thead th {\n",
              "        text-align: right;\n",
              "    }\n",
              "</style>\n",
              "<table border=\"1\" class=\"dataframe\">\n",
              "  <thead>\n",
              "    <tr style=\"text-align: right;\">\n",
              "      <th></th>\n",
              "      <th>1.FirstName</th>\n",
              "      <th>2.LastName</th>\n",
              "      <th>3.Age</th>\n",
              "      <th>4.University</th>\n",
              "      <th>5.Courses</th>\n",
              "    </tr>\n",
              "  </thead>\n",
              "  <tbody>\n",
              "    <tr>\n",
              "      <th>0</th>\n",
              "      <td>Gildong</td>\n",
              "      <td>Hong</td>\n",
              "      <td>20</td>\n",
              "      <td>Hangook University</td>\n",
              "      <td>{'Classes': ['Probability', 'Generalized Linea...</td>\n",
              "    </tr>\n",
              "    <tr>\n",
              "      <th>1</th>\n",
              "      <td>Gildong</td>\n",
              "      <td>Hong</td>\n",
              "      <td>20</td>\n",
              "      <td>Hangook University</td>\n",
              "      <td>{'Classes': ['Data Structure', 'Programming', ...</td>\n",
              "    </tr>\n",
              "  </tbody>\n",
              "</table>\n",
              "</div>\n",
              "    <div class=\"colab-df-buttons\">\n",
              "\n",
              "  <div class=\"colab-df-container\">\n",
              "    <button class=\"colab-df-convert\" onclick=\"convertToInteractive('df-6bb6ab02-7230-480c-84ce-ae9affe95bd0')\"\n",
              "            title=\"Convert this dataframe to an interactive table.\"\n",
              "            style=\"display:none;\">\n",
              "\n",
              "  <svg xmlns=\"http://www.w3.org/2000/svg\" height=\"24px\" viewBox=\"0 -960 960 960\">\n",
              "    <path d=\"M120-120v-720h720v720H120Zm60-500h600v-160H180v160Zm220 220h160v-160H400v160Zm0 220h160v-160H400v160ZM180-400h160v-160H180v160Zm440 0h160v-160H620v160ZM180-180h160v-160H180v160Zm440 0h160v-160H620v160Z\"/>\n",
              "  </svg>\n",
              "    </button>\n",
              "\n",
              "  <style>\n",
              "    .colab-df-container {\n",
              "      display:flex;\n",
              "      gap: 12px;\n",
              "    }\n",
              "\n",
              "    .colab-df-convert {\n",
              "      background-color: #E8F0FE;\n",
              "      border: none;\n",
              "      border-radius: 50%;\n",
              "      cursor: pointer;\n",
              "      display: none;\n",
              "      fill: #1967D2;\n",
              "      height: 32px;\n",
              "      padding: 0 0 0 0;\n",
              "      width: 32px;\n",
              "    }\n",
              "\n",
              "    .colab-df-convert:hover {\n",
              "      background-color: #E2EBFA;\n",
              "      box-shadow: 0px 1px 2px rgba(60, 64, 67, 0.3), 0px 1px 3px 1px rgba(60, 64, 67, 0.15);\n",
              "      fill: #174EA6;\n",
              "    }\n",
              "\n",
              "    .colab-df-buttons div {\n",
              "      margin-bottom: 4px;\n",
              "    }\n",
              "\n",
              "    [theme=dark] .colab-df-convert {\n",
              "      background-color: #3B4455;\n",
              "      fill: #D2E3FC;\n",
              "    }\n",
              "\n",
              "    [theme=dark] .colab-df-convert:hover {\n",
              "      background-color: #434B5C;\n",
              "      box-shadow: 0px 1px 3px 1px rgba(0, 0, 0, 0.15);\n",
              "      filter: drop-shadow(0px 1px 2px rgba(0, 0, 0, 0.3));\n",
              "      fill: #FFFFFF;\n",
              "    }\n",
              "  </style>\n",
              "\n",
              "    <script>\n",
              "      const buttonEl =\n",
              "        document.querySelector('#df-6bb6ab02-7230-480c-84ce-ae9affe95bd0 button.colab-df-convert');\n",
              "      buttonEl.style.display =\n",
              "        google.colab.kernel.accessAllowed ? 'block' : 'none';\n",
              "\n",
              "      async function convertToInteractive(key) {\n",
              "        const element = document.querySelector('#df-6bb6ab02-7230-480c-84ce-ae9affe95bd0');\n",
              "        const dataTable =\n",
              "          await google.colab.kernel.invokeFunction('convertToInteractive',\n",
              "                                                    [key], {});\n",
              "        if (!dataTable) return;\n",
              "\n",
              "        const docLinkHtml = 'Like what you see? Visit the ' +\n",
              "          '<a target=\"_blank\" href=https://colab.research.google.com/notebooks/data_table.ipynb>data table notebook</a>'\n",
              "          + ' to learn more about interactive tables.';\n",
              "        element.innerHTML = '';\n",
              "        dataTable['output_type'] = 'display_data';\n",
              "        await google.colab.output.renderOutput(dataTable, element);\n",
              "        const docLink = document.createElement('div');\n",
              "        docLink.innerHTML = docLinkHtml;\n",
              "        element.appendChild(docLink);\n",
              "      }\n",
              "    </script>\n",
              "  </div>\n",
              "\n",
              "\n",
              "    <div id=\"df-d76e6c67-df87-45c2-96a8-0a4659790bae\">\n",
              "      <button class=\"colab-df-quickchart\" onclick=\"quickchart('df-d76e6c67-df87-45c2-96a8-0a4659790bae')\"\n",
              "                title=\"Suggest charts\"\n",
              "                style=\"display:none;\">\n",
              "\n",
              "<svg xmlns=\"http://www.w3.org/2000/svg\" height=\"24px\"viewBox=\"0 0 24 24\"\n",
              "     width=\"24px\">\n",
              "    <g>\n",
              "        <path d=\"M19 3H5c-1.1 0-2 .9-2 2v14c0 1.1.9 2 2 2h14c1.1 0 2-.9 2-2V5c0-1.1-.9-2-2-2zM9 17H7v-7h2v7zm4 0h-2V7h2v10zm4 0h-2v-4h2v4z\"/>\n",
              "    </g>\n",
              "</svg>\n",
              "      </button>\n",
              "\n",
              "<style>\n",
              "  .colab-df-quickchart {\n",
              "      --bg-color: #E8F0FE;\n",
              "      --fill-color: #1967D2;\n",
              "      --hover-bg-color: #E2EBFA;\n",
              "      --hover-fill-color: #174EA6;\n",
              "      --disabled-fill-color: #AAA;\n",
              "      --disabled-bg-color: #DDD;\n",
              "  }\n",
              "\n",
              "  [theme=dark] .colab-df-quickchart {\n",
              "      --bg-color: #3B4455;\n",
              "      --fill-color: #D2E3FC;\n",
              "      --hover-bg-color: #434B5C;\n",
              "      --hover-fill-color: #FFFFFF;\n",
              "      --disabled-bg-color: #3B4455;\n",
              "      --disabled-fill-color: #666;\n",
              "  }\n",
              "\n",
              "  .colab-df-quickchart {\n",
              "    background-color: var(--bg-color);\n",
              "    border: none;\n",
              "    border-radius: 50%;\n",
              "    cursor: pointer;\n",
              "    display: none;\n",
              "    fill: var(--fill-color);\n",
              "    height: 32px;\n",
              "    padding: 0;\n",
              "    width: 32px;\n",
              "  }\n",
              "\n",
              "  .colab-df-quickchart:hover {\n",
              "    background-color: var(--hover-bg-color);\n",
              "    box-shadow: 0 1px 2px rgba(60, 64, 67, 0.3), 0 1px 3px 1px rgba(60, 64, 67, 0.15);\n",
              "    fill: var(--button-hover-fill-color);\n",
              "  }\n",
              "\n",
              "  .colab-df-quickchart-complete:disabled,\n",
              "  .colab-df-quickchart-complete:disabled:hover {\n",
              "    background-color: var(--disabled-bg-color);\n",
              "    fill: var(--disabled-fill-color);\n",
              "    box-shadow: none;\n",
              "  }\n",
              "\n",
              "  .colab-df-spinner {\n",
              "    border: 2px solid var(--fill-color);\n",
              "    border-color: transparent;\n",
              "    border-bottom-color: var(--fill-color);\n",
              "    animation:\n",
              "      spin 1s steps(1) infinite;\n",
              "  }\n",
              "\n",
              "  @keyframes spin {\n",
              "    0% {\n",
              "      border-color: transparent;\n",
              "      border-bottom-color: var(--fill-color);\n",
              "      border-left-color: var(--fill-color);\n",
              "    }\n",
              "    20% {\n",
              "      border-color: transparent;\n",
              "      border-left-color: var(--fill-color);\n",
              "      border-top-color: var(--fill-color);\n",
              "    }\n",
              "    30% {\n",
              "      border-color: transparent;\n",
              "      border-left-color: var(--fill-color);\n",
              "      border-top-color: var(--fill-color);\n",
              "      border-right-color: var(--fill-color);\n",
              "    }\n",
              "    40% {\n",
              "      border-color: transparent;\n",
              "      border-right-color: var(--fill-color);\n",
              "      border-top-color: var(--fill-color);\n",
              "    }\n",
              "    60% {\n",
              "      border-color: transparent;\n",
              "      border-right-color: var(--fill-color);\n",
              "    }\n",
              "    80% {\n",
              "      border-color: transparent;\n",
              "      border-right-color: var(--fill-color);\n",
              "      border-bottom-color: var(--fill-color);\n",
              "    }\n",
              "    90% {\n",
              "      border-color: transparent;\n",
              "      border-bottom-color: var(--fill-color);\n",
              "    }\n",
              "  }\n",
              "</style>\n",
              "\n",
              "      <script>\n",
              "        async function quickchart(key) {\n",
              "          const quickchartButtonEl =\n",
              "            document.querySelector('#' + key + ' button');\n",
              "          quickchartButtonEl.disabled = true;  // To prevent multiple clicks.\n",
              "          quickchartButtonEl.classList.add('colab-df-spinner');\n",
              "          try {\n",
              "            const charts = await google.colab.kernel.invokeFunction(\n",
              "                'suggestCharts', [key], {});\n",
              "          } catch (error) {\n",
              "            console.error('Error during call to suggestCharts:', error);\n",
              "          }\n",
              "          quickchartButtonEl.classList.remove('colab-df-spinner');\n",
              "          quickchartButtonEl.classList.add('colab-df-quickchart-complete');\n",
              "        }\n",
              "        (() => {\n",
              "          let quickchartButtonEl =\n",
              "            document.querySelector('#df-d76e6c67-df87-45c2-96a8-0a4659790bae button');\n",
              "          quickchartButtonEl.style.display =\n",
              "            google.colab.kernel.accessAllowed ? 'block' : 'none';\n",
              "        })();\n",
              "      </script>\n",
              "    </div>\n",
              "\n",
              "    </div>\n",
              "  </div>\n"
            ],
            "application/vnd.google.colaboratory.intrinsic+json": {
              "type": "dataframe",
              "summary": "{\n  \"name\": \"pd\",\n  \"rows\": 2,\n  \"fields\": [\n    {\n      \"column\": \"1.FirstName\",\n      \"properties\": {\n        \"dtype\": \"string\",\n        \"num_unique_values\": 1,\n        \"samples\": [\n          \"Gildong\"\n        ],\n        \"semantic_type\": \"\",\n        \"description\": \"\"\n      }\n    },\n    {\n      \"column\": \"2.LastName\",\n      \"properties\": {\n        \"dtype\": \"string\",\n        \"num_unique_values\": 1,\n        \"samples\": [\n          \"Hong\"\n        ],\n        \"semantic_type\": \"\",\n        \"description\": \"\"\n      }\n    },\n    {\n      \"column\": \"3.Age\",\n      \"properties\": {\n        \"dtype\": \"number\",\n        \"std\": 0,\n        \"min\": 20,\n        \"max\": 20,\n        \"num_unique_values\": 1,\n        \"samples\": [\n          20\n        ],\n        \"semantic_type\": \"\",\n        \"description\": \"\"\n      }\n    },\n    {\n      \"column\": \"4.University\",\n      \"properties\": {\n        \"dtype\": \"string\",\n        \"num_unique_values\": 1,\n        \"samples\": [\n          \"Hangook University\"\n        ],\n        \"semantic_type\": \"\",\n        \"description\": \"\"\n      }\n    },\n    {\n      \"column\": \"5.Courses\",\n      \"properties\": {\n        \"dtype\": \"object\",\n        \"semantic_type\": \"\",\n        \"description\": \"\"\n      }\n    }\n  ]\n}"
            }
          },
          "metadata": {},
          "execution_count": 8
        }
      ]
    },
    {
      "cell_type": "code",
      "execution_count": null,
      "metadata": {
        "colab": {
          "base_uri": "https://localhost:8080/"
        },
        "id": "FXTH2Y-lJYpC",
        "outputId": "3cecfb8b-45b7-4d98-d236-273e95ce4b36"
      },
      "outputs": [
        {
          "output_type": "execute_result",
          "data": {
            "text/plain": [
              "dict_keys(['1.FirstName', '2.LastName', '3.Age', '4.University', '5.Courses'])"
            ]
          },
          "metadata": {},
          "execution_count": 9
        }
      ],
      "source": [
        "data_dict.keys()"
      ]
    },
    {
      "cell_type": "code",
      "execution_count": null,
      "metadata": {
        "colab": {
          "base_uri": "https://localhost:8080/"
        },
        "id": "V3Clc8rSsZGl",
        "outputId": "8ed5ce7a-8913-4d4c-c473-26e2e6b558f8"
      },
      "outputs": [
        {
          "output_type": "execute_result",
          "data": {
            "text/plain": [
              "dict_values(['Gildong', 'Hong', 20, 'Hangook University', [{'Classes': ['Probability', 'Generalized Linear Model', 'Categorical Data Analysis'], 'Major': 'Statistics'}, {'Classes': ['Data Structure', 'Programming', 'Algorithms'], 'Minor': 'ComputerScience'}]])"
            ]
          },
          "metadata": {},
          "execution_count": 10
        }
      ],
      "source": [
        "data_dict.values()"
      ]
    },
    {
      "cell_type": "code",
      "execution_count": null,
      "metadata": {
        "colab": {
          "base_uri": "https://localhost:8080/"
        },
        "id": "hDMeOckYccar",
        "outputId": "e8c4b9b7-6fee-4a55-8a75-5bf0ac5403a6"
      },
      "outputs": [
        {
          "output_type": "execute_result",
          "data": {
            "text/plain": [
              "dict_items([('1.FirstName', 'Gildong'), ('2.LastName', 'Hong'), ('3.Age', 20), ('4.University', 'Hangook University'), ('5.Courses', [{'Classes': ['Probability', 'Generalized Linear Model', 'Categorical Data Analysis'], 'Major': 'Statistics'}, {'Classes': ['Data Structure', 'Programming', 'Algorithms'], 'Minor': 'ComputerScience'}])])"
            ]
          },
          "metadata": {},
          "execution_count": 11
        }
      ],
      "source": [
        "data_dict.items()"
      ]
    },
    {
      "cell_type": "code",
      "execution_count": null,
      "metadata": {
        "colab": {
          "base_uri": "https://localhost:8080/"
        },
        "id": "nRKMzO1sJm9D",
        "outputId": "9852dc12-78c6-41ea-fd4d-467876d3390a"
      },
      "outputs": [
        {
          "output_type": "execute_result",
          "data": {
            "text/plain": [
              "[{'Classes': ['Probability',\n",
              "   'Generalized Linear Model',\n",
              "   'Categorical Data Analysis'],\n",
              "  'Major': 'Statistics'},\n",
              " {'Classes': ['Data Structure', 'Programming', 'Algorithms'],\n",
              "  'Minor': 'ComputerScience'}]"
            ]
          },
          "metadata": {},
          "execution_count": 12
        }
      ],
      "source": [
        "data_dict['5.Courses']"
      ]
    },
    {
      "cell_type": "code",
      "execution_count": null,
      "metadata": {
        "colab": {
          "base_uri": "https://localhost:8080/"
        },
        "id": "gKOZMI6vehyV",
        "outputId": "c97c7f62-23fa-4ce2-ad01-06a60010cca4"
      },
      "outputs": [
        {
          "output_type": "stream",
          "name": "stdout",
          "text": [
            "{\"1.FirstName\": \"Gildong\", \"2.LastName\": \"Hong\", \"3.Age\": 20, \"4.University\": \"Hangook University\", \"5.Courses\": [{\"Classes\": [\"Probability\", \"Generalized Linear Model\", \"Categorical Data Analysis\"], \"Major\": \"Statistics\"}, {\"Classes\": [\"Data Structure\", \"Programming\", \"Algorithms\"], \"Minor\": \"ComputerScience\"}]}\n"
          ]
        },
        {
          "output_type": "execute_result",
          "data": {
            "text/plain": [
              "str"
            ]
          },
          "metadata": {},
          "execution_count": 13
        }
      ],
      "source": [
        "import json\n",
        "data_json = json.dumps(data_dict)\n",
        "print(data_json)\n",
        "type(data_json)"
      ]
    },
    {
      "cell_type": "code",
      "execution_count": null,
      "metadata": {
        "colab": {
          "base_uri": "https://localhost:8080/",
          "height": 241
        },
        "id": "IW4S96m5GA6Q",
        "outputId": "210632a0-1072-4ab0-ef11-5006d4406d5d"
      },
      "outputs": [
        {
          "output_type": "execute_result",
          "data": {
            "text/plain": [
              "1.FirstName                                               Gildong\n",
              "2.LastName                                                   Hong\n",
              "3.Age                                                          20\n",
              "4.University                                   Hangook University\n",
              "5.Courses       [{'Classes': ['Probability', 'Generalized Line...\n",
              "dtype: object"
            ],
            "text/html": [
              "<div>\n",
              "<style scoped>\n",
              "    .dataframe tbody tr th:only-of-type {\n",
              "        vertical-align: middle;\n",
              "    }\n",
              "\n",
              "    .dataframe tbody tr th {\n",
              "        vertical-align: top;\n",
              "    }\n",
              "\n",
              "    .dataframe thead th {\n",
              "        text-align: right;\n",
              "    }\n",
              "</style>\n",
              "<table border=\"1\" class=\"dataframe\">\n",
              "  <thead>\n",
              "    <tr style=\"text-align: right;\">\n",
              "      <th></th>\n",
              "      <th>0</th>\n",
              "    </tr>\n",
              "  </thead>\n",
              "  <tbody>\n",
              "    <tr>\n",
              "      <th>1.FirstName</th>\n",
              "      <td>Gildong</td>\n",
              "    </tr>\n",
              "    <tr>\n",
              "      <th>2.LastName</th>\n",
              "      <td>Hong</td>\n",
              "    </tr>\n",
              "    <tr>\n",
              "      <th>3.Age</th>\n",
              "      <td>20</td>\n",
              "    </tr>\n",
              "    <tr>\n",
              "      <th>4.University</th>\n",
              "      <td>Hangook University</td>\n",
              "    </tr>\n",
              "    <tr>\n",
              "      <th>5.Courses</th>\n",
              "      <td>[{'Classes': ['Probability', 'Generalized Line...</td>\n",
              "    </tr>\n",
              "  </tbody>\n",
              "</table>\n",
              "</div><br><label><b>dtype:</b> object</label>"
            ]
          },
          "metadata": {},
          "execution_count": 14
        }
      ],
      "source": [
        "pd.Series(data_dict)"
      ]
    },
    {
      "cell_type": "code",
      "execution_count": null,
      "metadata": {
        "colab": {
          "base_uri": "https://localhost:8080/",
          "height": 112
        },
        "id": "UznEzTNsKGeO",
        "outputId": "db64c2bb-1231-4dd7-a1e2-0af222ac62b5"
      },
      "outputs": [
        {
          "output_type": "execute_result",
          "data": {
            "text/plain": [
              "  1.FirstName 2.LastName  3.Age        4.University  \\\n",
              "0     Gildong       Hong     20  Hangook University   \n",
              "1     Gildong       Hong     20  Hangook University   \n",
              "\n",
              "                                           5.Courses  \n",
              "0  {'Classes': ['Probability', 'Generalized Linea...  \n",
              "1  {'Classes': ['Data Structure', 'Programming', ...  "
            ],
            "text/html": [
              "\n",
              "  <div id=\"df-ecb686f8-19df-4f59-9eb2-4095904c6969\" class=\"colab-df-container\">\n",
              "    <div>\n",
              "<style scoped>\n",
              "    .dataframe tbody tr th:only-of-type {\n",
              "        vertical-align: middle;\n",
              "    }\n",
              "\n",
              "    .dataframe tbody tr th {\n",
              "        vertical-align: top;\n",
              "    }\n",
              "\n",
              "    .dataframe thead th {\n",
              "        text-align: right;\n",
              "    }\n",
              "</style>\n",
              "<table border=\"1\" class=\"dataframe\">\n",
              "  <thead>\n",
              "    <tr style=\"text-align: right;\">\n",
              "      <th></th>\n",
              "      <th>1.FirstName</th>\n",
              "      <th>2.LastName</th>\n",
              "      <th>3.Age</th>\n",
              "      <th>4.University</th>\n",
              "      <th>5.Courses</th>\n",
              "    </tr>\n",
              "  </thead>\n",
              "  <tbody>\n",
              "    <tr>\n",
              "      <th>0</th>\n",
              "      <td>Gildong</td>\n",
              "      <td>Hong</td>\n",
              "      <td>20</td>\n",
              "      <td>Hangook University</td>\n",
              "      <td>{'Classes': ['Probability', 'Generalized Linea...</td>\n",
              "    </tr>\n",
              "    <tr>\n",
              "      <th>1</th>\n",
              "      <td>Gildong</td>\n",
              "      <td>Hong</td>\n",
              "      <td>20</td>\n",
              "      <td>Hangook University</td>\n",
              "      <td>{'Classes': ['Data Structure', 'Programming', ...</td>\n",
              "    </tr>\n",
              "  </tbody>\n",
              "</table>\n",
              "</div>\n",
              "    <div class=\"colab-df-buttons\">\n",
              "\n",
              "  <div class=\"colab-df-container\">\n",
              "    <button class=\"colab-df-convert\" onclick=\"convertToInteractive('df-ecb686f8-19df-4f59-9eb2-4095904c6969')\"\n",
              "            title=\"Convert this dataframe to an interactive table.\"\n",
              "            style=\"display:none;\">\n",
              "\n",
              "  <svg xmlns=\"http://www.w3.org/2000/svg\" height=\"24px\" viewBox=\"0 -960 960 960\">\n",
              "    <path d=\"M120-120v-720h720v720H120Zm60-500h600v-160H180v160Zm220 220h160v-160H400v160Zm0 220h160v-160H400v160ZM180-400h160v-160H180v160Zm440 0h160v-160H620v160ZM180-180h160v-160H180v160Zm440 0h160v-160H620v160Z\"/>\n",
              "  </svg>\n",
              "    </button>\n",
              "\n",
              "  <style>\n",
              "    .colab-df-container {\n",
              "      display:flex;\n",
              "      gap: 12px;\n",
              "    }\n",
              "\n",
              "    .colab-df-convert {\n",
              "      background-color: #E8F0FE;\n",
              "      border: none;\n",
              "      border-radius: 50%;\n",
              "      cursor: pointer;\n",
              "      display: none;\n",
              "      fill: #1967D2;\n",
              "      height: 32px;\n",
              "      padding: 0 0 0 0;\n",
              "      width: 32px;\n",
              "    }\n",
              "\n",
              "    .colab-df-convert:hover {\n",
              "      background-color: #E2EBFA;\n",
              "      box-shadow: 0px 1px 2px rgba(60, 64, 67, 0.3), 0px 1px 3px 1px rgba(60, 64, 67, 0.15);\n",
              "      fill: #174EA6;\n",
              "    }\n",
              "\n",
              "    .colab-df-buttons div {\n",
              "      margin-bottom: 4px;\n",
              "    }\n",
              "\n",
              "    [theme=dark] .colab-df-convert {\n",
              "      background-color: #3B4455;\n",
              "      fill: #D2E3FC;\n",
              "    }\n",
              "\n",
              "    [theme=dark] .colab-df-convert:hover {\n",
              "      background-color: #434B5C;\n",
              "      box-shadow: 0px 1px 3px 1px rgba(0, 0, 0, 0.15);\n",
              "      filter: drop-shadow(0px 1px 2px rgba(0, 0, 0, 0.3));\n",
              "      fill: #FFFFFF;\n",
              "    }\n",
              "  </style>\n",
              "\n",
              "    <script>\n",
              "      const buttonEl =\n",
              "        document.querySelector('#df-ecb686f8-19df-4f59-9eb2-4095904c6969 button.colab-df-convert');\n",
              "      buttonEl.style.display =\n",
              "        google.colab.kernel.accessAllowed ? 'block' : 'none';\n",
              "\n",
              "      async function convertToInteractive(key) {\n",
              "        const element = document.querySelector('#df-ecb686f8-19df-4f59-9eb2-4095904c6969');\n",
              "        const dataTable =\n",
              "          await google.colab.kernel.invokeFunction('convertToInteractive',\n",
              "                                                    [key], {});\n",
              "        if (!dataTable) return;\n",
              "\n",
              "        const docLinkHtml = 'Like what you see? Visit the ' +\n",
              "          '<a target=\"_blank\" href=https://colab.research.google.com/notebooks/data_table.ipynb>data table notebook</a>'\n",
              "          + ' to learn more about interactive tables.';\n",
              "        element.innerHTML = '';\n",
              "        dataTable['output_type'] = 'display_data';\n",
              "        await google.colab.output.renderOutput(dataTable, element);\n",
              "        const docLink = document.createElement('div');\n",
              "        docLink.innerHTML = docLinkHtml;\n",
              "        element.appendChild(docLink);\n",
              "      }\n",
              "    </script>\n",
              "  </div>\n",
              "\n",
              "\n",
              "    <div id=\"df-397a8532-cb94-4965-9be6-a0950536e8f3\">\n",
              "      <button class=\"colab-df-quickchart\" onclick=\"quickchart('df-397a8532-cb94-4965-9be6-a0950536e8f3')\"\n",
              "                title=\"Suggest charts\"\n",
              "                style=\"display:none;\">\n",
              "\n",
              "<svg xmlns=\"http://www.w3.org/2000/svg\" height=\"24px\"viewBox=\"0 0 24 24\"\n",
              "     width=\"24px\">\n",
              "    <g>\n",
              "        <path d=\"M19 3H5c-1.1 0-2 .9-2 2v14c0 1.1.9 2 2 2h14c1.1 0 2-.9 2-2V5c0-1.1-.9-2-2-2zM9 17H7v-7h2v7zm4 0h-2V7h2v10zm4 0h-2v-4h2v4z\"/>\n",
              "    </g>\n",
              "</svg>\n",
              "      </button>\n",
              "\n",
              "<style>\n",
              "  .colab-df-quickchart {\n",
              "      --bg-color: #E8F0FE;\n",
              "      --fill-color: #1967D2;\n",
              "      --hover-bg-color: #E2EBFA;\n",
              "      --hover-fill-color: #174EA6;\n",
              "      --disabled-fill-color: #AAA;\n",
              "      --disabled-bg-color: #DDD;\n",
              "  }\n",
              "\n",
              "  [theme=dark] .colab-df-quickchart {\n",
              "      --bg-color: #3B4455;\n",
              "      --fill-color: #D2E3FC;\n",
              "      --hover-bg-color: #434B5C;\n",
              "      --hover-fill-color: #FFFFFF;\n",
              "      --disabled-bg-color: #3B4455;\n",
              "      --disabled-fill-color: #666;\n",
              "  }\n",
              "\n",
              "  .colab-df-quickchart {\n",
              "    background-color: var(--bg-color);\n",
              "    border: none;\n",
              "    border-radius: 50%;\n",
              "    cursor: pointer;\n",
              "    display: none;\n",
              "    fill: var(--fill-color);\n",
              "    height: 32px;\n",
              "    padding: 0;\n",
              "    width: 32px;\n",
              "  }\n",
              "\n",
              "  .colab-df-quickchart:hover {\n",
              "    background-color: var(--hover-bg-color);\n",
              "    box-shadow: 0 1px 2px rgba(60, 64, 67, 0.3), 0 1px 3px 1px rgba(60, 64, 67, 0.15);\n",
              "    fill: var(--button-hover-fill-color);\n",
              "  }\n",
              "\n",
              "  .colab-df-quickchart-complete:disabled,\n",
              "  .colab-df-quickchart-complete:disabled:hover {\n",
              "    background-color: var(--disabled-bg-color);\n",
              "    fill: var(--disabled-fill-color);\n",
              "    box-shadow: none;\n",
              "  }\n",
              "\n",
              "  .colab-df-spinner {\n",
              "    border: 2px solid var(--fill-color);\n",
              "    border-color: transparent;\n",
              "    border-bottom-color: var(--fill-color);\n",
              "    animation:\n",
              "      spin 1s steps(1) infinite;\n",
              "  }\n",
              "\n",
              "  @keyframes spin {\n",
              "    0% {\n",
              "      border-color: transparent;\n",
              "      border-bottom-color: var(--fill-color);\n",
              "      border-left-color: var(--fill-color);\n",
              "    }\n",
              "    20% {\n",
              "      border-color: transparent;\n",
              "      border-left-color: var(--fill-color);\n",
              "      border-top-color: var(--fill-color);\n",
              "    }\n",
              "    30% {\n",
              "      border-color: transparent;\n",
              "      border-left-color: var(--fill-color);\n",
              "      border-top-color: var(--fill-color);\n",
              "      border-right-color: var(--fill-color);\n",
              "    }\n",
              "    40% {\n",
              "      border-color: transparent;\n",
              "      border-right-color: var(--fill-color);\n",
              "      border-top-color: var(--fill-color);\n",
              "    }\n",
              "    60% {\n",
              "      border-color: transparent;\n",
              "      border-right-color: var(--fill-color);\n",
              "    }\n",
              "    80% {\n",
              "      border-color: transparent;\n",
              "      border-right-color: var(--fill-color);\n",
              "      border-bottom-color: var(--fill-color);\n",
              "    }\n",
              "    90% {\n",
              "      border-color: transparent;\n",
              "      border-bottom-color: var(--fill-color);\n",
              "    }\n",
              "  }\n",
              "</style>\n",
              "\n",
              "      <script>\n",
              "        async function quickchart(key) {\n",
              "          const quickchartButtonEl =\n",
              "            document.querySelector('#' + key + ' button');\n",
              "          quickchartButtonEl.disabled = true;  // To prevent multiple clicks.\n",
              "          quickchartButtonEl.classList.add('colab-df-spinner');\n",
              "          try {\n",
              "            const charts = await google.colab.kernel.invokeFunction(\n",
              "                'suggestCharts', [key], {});\n",
              "          } catch (error) {\n",
              "            console.error('Error during call to suggestCharts:', error);\n",
              "          }\n",
              "          quickchartButtonEl.classList.remove('colab-df-spinner');\n",
              "          quickchartButtonEl.classList.add('colab-df-quickchart-complete');\n",
              "        }\n",
              "        (() => {\n",
              "          let quickchartButtonEl =\n",
              "            document.querySelector('#df-397a8532-cb94-4965-9be6-a0950536e8f3 button');\n",
              "          quickchartButtonEl.style.display =\n",
              "            google.colab.kernel.accessAllowed ? 'block' : 'none';\n",
              "        })();\n",
              "      </script>\n",
              "    </div>\n",
              "\n",
              "    </div>\n",
              "  </div>\n"
            ],
            "application/vnd.google.colaboratory.intrinsic+json": {
              "type": "dataframe",
              "summary": "{\n  \"name\": \"pd\",\n  \"rows\": 2,\n  \"fields\": [\n    {\n      \"column\": \"1.FirstName\",\n      \"properties\": {\n        \"dtype\": \"string\",\n        \"num_unique_values\": 1,\n        \"samples\": [\n          \"Gildong\"\n        ],\n        \"semantic_type\": \"\",\n        \"description\": \"\"\n      }\n    },\n    {\n      \"column\": \"2.LastName\",\n      \"properties\": {\n        \"dtype\": \"string\",\n        \"num_unique_values\": 1,\n        \"samples\": [\n          \"Hong\"\n        ],\n        \"semantic_type\": \"\",\n        \"description\": \"\"\n      }\n    },\n    {\n      \"column\": \"3.Age\",\n      \"properties\": {\n        \"dtype\": \"number\",\n        \"std\": 0,\n        \"min\": 20,\n        \"max\": 20,\n        \"num_unique_values\": 1,\n        \"samples\": [\n          20\n        ],\n        \"semantic_type\": \"\",\n        \"description\": \"\"\n      }\n    },\n    {\n      \"column\": \"4.University\",\n      \"properties\": {\n        \"dtype\": \"string\",\n        \"num_unique_values\": 1,\n        \"samples\": [\n          \"Hangook University\"\n        ],\n        \"semantic_type\": \"\",\n        \"description\": \"\"\n      }\n    },\n    {\n      \"column\": \"5.Courses\",\n      \"properties\": {\n        \"dtype\": \"object\",\n        \"semantic_type\": \"\",\n        \"description\": \"\"\n      }\n    }\n  ]\n}"
            }
          },
          "metadata": {},
          "execution_count": 15
        }
      ],
      "source": [
        "pd.DataFrame(data_dict)"
      ]
    },
    {
      "cell_type": "code",
      "execution_count": null,
      "metadata": {
        "colab": {
          "base_uri": "https://localhost:8080/",
          "height": 147
        },
        "id": "s4CqofO2inah",
        "outputId": "2dcde0ac-8252-47b1-c6b0-198b68b3176b"
      },
      "outputs": [
        {
          "output_type": "execute_result",
          "data": {
            "text/plain": [
              "0    {'Classes': ['Probability', 'Generalized Linea...\n",
              "1    {'Classes': ['Data Structure', 'Programming', ...\n",
              "Name: 5.Courses, dtype: object"
            ],
            "text/html": [
              "<div>\n",
              "<style scoped>\n",
              "    .dataframe tbody tr th:only-of-type {\n",
              "        vertical-align: middle;\n",
              "    }\n",
              "\n",
              "    .dataframe tbody tr th {\n",
              "        vertical-align: top;\n",
              "    }\n",
              "\n",
              "    .dataframe thead th {\n",
              "        text-align: right;\n",
              "    }\n",
              "</style>\n",
              "<table border=\"1\" class=\"dataframe\">\n",
              "  <thead>\n",
              "    <tr style=\"text-align: right;\">\n",
              "      <th></th>\n",
              "      <th>5.Courses</th>\n",
              "    </tr>\n",
              "  </thead>\n",
              "  <tbody>\n",
              "    <tr>\n",
              "      <th>0</th>\n",
              "      <td>{'Classes': ['Probability', 'Generalized Linea...</td>\n",
              "    </tr>\n",
              "    <tr>\n",
              "      <th>1</th>\n",
              "      <td>{'Classes': ['Data Structure', 'Programming', ...</td>\n",
              "    </tr>\n",
              "  </tbody>\n",
              "</table>\n",
              "</div><br><label><b>dtype:</b> object</label>"
            ]
          },
          "metadata": {},
          "execution_count": 16
        }
      ],
      "source": [
        "pd.DataFrame(data_dict).iloc[:,-1]"
      ]
    },
    {
      "cell_type": "code",
      "execution_count": null,
      "metadata": {
        "colab": {
          "base_uri": "https://localhost:8080/",
          "height": 112
        },
        "id": "dcRqkEUFKwh_",
        "outputId": "0fd03fbd-e9d7-4aa7-e48e-a0d3d0307a74"
      },
      "outputs": [
        {
          "output_type": "execute_result",
          "data": {
            "text/plain": [
              "  1.FirstName 2.LastName  3.Age        4.University  \\\n",
              "0     Gildong       Hong     20  Hangook University   \n",
              "1     Gildong       Hong     20  Hangook University   \n",
              "\n",
              "                                           5.Courses  \n",
              "0  {'Classes': ['Probability', 'Generalized Linea...  \n",
              "1  {'Classes': ['Data Structure', 'Programming', ...  "
            ],
            "text/html": [
              "\n",
              "  <div id=\"df-4ae82ace-4ae7-448a-a62f-79c0a7ed232a\" class=\"colab-df-container\">\n",
              "    <div>\n",
              "<style scoped>\n",
              "    .dataframe tbody tr th:only-of-type {\n",
              "        vertical-align: middle;\n",
              "    }\n",
              "\n",
              "    .dataframe tbody tr th {\n",
              "        vertical-align: top;\n",
              "    }\n",
              "\n",
              "    .dataframe thead th {\n",
              "        text-align: right;\n",
              "    }\n",
              "</style>\n",
              "<table border=\"1\" class=\"dataframe\">\n",
              "  <thead>\n",
              "    <tr style=\"text-align: right;\">\n",
              "      <th></th>\n",
              "      <th>1.FirstName</th>\n",
              "      <th>2.LastName</th>\n",
              "      <th>3.Age</th>\n",
              "      <th>4.University</th>\n",
              "      <th>5.Courses</th>\n",
              "    </tr>\n",
              "  </thead>\n",
              "  <tbody>\n",
              "    <tr>\n",
              "      <th>0</th>\n",
              "      <td>Gildong</td>\n",
              "      <td>Hong</td>\n",
              "      <td>20</td>\n",
              "      <td>Hangook University</td>\n",
              "      <td>{'Classes': ['Probability', 'Generalized Linea...</td>\n",
              "    </tr>\n",
              "    <tr>\n",
              "      <th>1</th>\n",
              "      <td>Gildong</td>\n",
              "      <td>Hong</td>\n",
              "      <td>20</td>\n",
              "      <td>Hangook University</td>\n",
              "      <td>{'Classes': ['Data Structure', 'Programming', ...</td>\n",
              "    </tr>\n",
              "  </tbody>\n",
              "</table>\n",
              "</div>\n",
              "    <div class=\"colab-df-buttons\">\n",
              "\n",
              "  <div class=\"colab-df-container\">\n",
              "    <button class=\"colab-df-convert\" onclick=\"convertToInteractive('df-4ae82ace-4ae7-448a-a62f-79c0a7ed232a')\"\n",
              "            title=\"Convert this dataframe to an interactive table.\"\n",
              "            style=\"display:none;\">\n",
              "\n",
              "  <svg xmlns=\"http://www.w3.org/2000/svg\" height=\"24px\" viewBox=\"0 -960 960 960\">\n",
              "    <path d=\"M120-120v-720h720v720H120Zm60-500h600v-160H180v160Zm220 220h160v-160H400v160Zm0 220h160v-160H400v160ZM180-400h160v-160H180v160Zm440 0h160v-160H620v160ZM180-180h160v-160H180v160Zm440 0h160v-160H620v160Z\"/>\n",
              "  </svg>\n",
              "    </button>\n",
              "\n",
              "  <style>\n",
              "    .colab-df-container {\n",
              "      display:flex;\n",
              "      gap: 12px;\n",
              "    }\n",
              "\n",
              "    .colab-df-convert {\n",
              "      background-color: #E8F0FE;\n",
              "      border: none;\n",
              "      border-radius: 50%;\n",
              "      cursor: pointer;\n",
              "      display: none;\n",
              "      fill: #1967D2;\n",
              "      height: 32px;\n",
              "      padding: 0 0 0 0;\n",
              "      width: 32px;\n",
              "    }\n",
              "\n",
              "    .colab-df-convert:hover {\n",
              "      background-color: #E2EBFA;\n",
              "      box-shadow: 0px 1px 2px rgba(60, 64, 67, 0.3), 0px 1px 3px 1px rgba(60, 64, 67, 0.15);\n",
              "      fill: #174EA6;\n",
              "    }\n",
              "\n",
              "    .colab-df-buttons div {\n",
              "      margin-bottom: 4px;\n",
              "    }\n",
              "\n",
              "    [theme=dark] .colab-df-convert {\n",
              "      background-color: #3B4455;\n",
              "      fill: #D2E3FC;\n",
              "    }\n",
              "\n",
              "    [theme=dark] .colab-df-convert:hover {\n",
              "      background-color: #434B5C;\n",
              "      box-shadow: 0px 1px 3px 1px rgba(0, 0, 0, 0.15);\n",
              "      filter: drop-shadow(0px 1px 2px rgba(0, 0, 0, 0.3));\n",
              "      fill: #FFFFFF;\n",
              "    }\n",
              "  </style>\n",
              "\n",
              "    <script>\n",
              "      const buttonEl =\n",
              "        document.querySelector('#df-4ae82ace-4ae7-448a-a62f-79c0a7ed232a button.colab-df-convert');\n",
              "      buttonEl.style.display =\n",
              "        google.colab.kernel.accessAllowed ? 'block' : 'none';\n",
              "\n",
              "      async function convertToInteractive(key) {\n",
              "        const element = document.querySelector('#df-4ae82ace-4ae7-448a-a62f-79c0a7ed232a');\n",
              "        const dataTable =\n",
              "          await google.colab.kernel.invokeFunction('convertToInteractive',\n",
              "                                                    [key], {});\n",
              "        if (!dataTable) return;\n",
              "\n",
              "        const docLinkHtml = 'Like what you see? Visit the ' +\n",
              "          '<a target=\"_blank\" href=https://colab.research.google.com/notebooks/data_table.ipynb>data table notebook</a>'\n",
              "          + ' to learn more about interactive tables.';\n",
              "        element.innerHTML = '';\n",
              "        dataTable['output_type'] = 'display_data';\n",
              "        await google.colab.output.renderOutput(dataTable, element);\n",
              "        const docLink = document.createElement('div');\n",
              "        docLink.innerHTML = docLinkHtml;\n",
              "        element.appendChild(docLink);\n",
              "      }\n",
              "    </script>\n",
              "  </div>\n",
              "\n",
              "\n",
              "    <div id=\"df-83486f67-1546-4373-85fe-62eaa4bbf1eb\">\n",
              "      <button class=\"colab-df-quickchart\" onclick=\"quickchart('df-83486f67-1546-4373-85fe-62eaa4bbf1eb')\"\n",
              "                title=\"Suggest charts\"\n",
              "                style=\"display:none;\">\n",
              "\n",
              "<svg xmlns=\"http://www.w3.org/2000/svg\" height=\"24px\"viewBox=\"0 0 24 24\"\n",
              "     width=\"24px\">\n",
              "    <g>\n",
              "        <path d=\"M19 3H5c-1.1 0-2 .9-2 2v14c0 1.1.9 2 2 2h14c1.1 0 2-.9 2-2V5c0-1.1-.9-2-2-2zM9 17H7v-7h2v7zm4 0h-2V7h2v10zm4 0h-2v-4h2v4z\"/>\n",
              "    </g>\n",
              "</svg>\n",
              "      </button>\n",
              "\n",
              "<style>\n",
              "  .colab-df-quickchart {\n",
              "      --bg-color: #E8F0FE;\n",
              "      --fill-color: #1967D2;\n",
              "      --hover-bg-color: #E2EBFA;\n",
              "      --hover-fill-color: #174EA6;\n",
              "      --disabled-fill-color: #AAA;\n",
              "      --disabled-bg-color: #DDD;\n",
              "  }\n",
              "\n",
              "  [theme=dark] .colab-df-quickchart {\n",
              "      --bg-color: #3B4455;\n",
              "      --fill-color: #D2E3FC;\n",
              "      --hover-bg-color: #434B5C;\n",
              "      --hover-fill-color: #FFFFFF;\n",
              "      --disabled-bg-color: #3B4455;\n",
              "      --disabled-fill-color: #666;\n",
              "  }\n",
              "\n",
              "  .colab-df-quickchart {\n",
              "    background-color: var(--bg-color);\n",
              "    border: none;\n",
              "    border-radius: 50%;\n",
              "    cursor: pointer;\n",
              "    display: none;\n",
              "    fill: var(--fill-color);\n",
              "    height: 32px;\n",
              "    padding: 0;\n",
              "    width: 32px;\n",
              "  }\n",
              "\n",
              "  .colab-df-quickchart:hover {\n",
              "    background-color: var(--hover-bg-color);\n",
              "    box-shadow: 0 1px 2px rgba(60, 64, 67, 0.3), 0 1px 3px 1px rgba(60, 64, 67, 0.15);\n",
              "    fill: var(--button-hover-fill-color);\n",
              "  }\n",
              "\n",
              "  .colab-df-quickchart-complete:disabled,\n",
              "  .colab-df-quickchart-complete:disabled:hover {\n",
              "    background-color: var(--disabled-bg-color);\n",
              "    fill: var(--disabled-fill-color);\n",
              "    box-shadow: none;\n",
              "  }\n",
              "\n",
              "  .colab-df-spinner {\n",
              "    border: 2px solid var(--fill-color);\n",
              "    border-color: transparent;\n",
              "    border-bottom-color: var(--fill-color);\n",
              "    animation:\n",
              "      spin 1s steps(1) infinite;\n",
              "  }\n",
              "\n",
              "  @keyframes spin {\n",
              "    0% {\n",
              "      border-color: transparent;\n",
              "      border-bottom-color: var(--fill-color);\n",
              "      border-left-color: var(--fill-color);\n",
              "    }\n",
              "    20% {\n",
              "      border-color: transparent;\n",
              "      border-left-color: var(--fill-color);\n",
              "      border-top-color: var(--fill-color);\n",
              "    }\n",
              "    30% {\n",
              "      border-color: transparent;\n",
              "      border-left-color: var(--fill-color);\n",
              "      border-top-color: var(--fill-color);\n",
              "      border-right-color: var(--fill-color);\n",
              "    }\n",
              "    40% {\n",
              "      border-color: transparent;\n",
              "      border-right-color: var(--fill-color);\n",
              "      border-top-color: var(--fill-color);\n",
              "    }\n",
              "    60% {\n",
              "      border-color: transparent;\n",
              "      border-right-color: var(--fill-color);\n",
              "    }\n",
              "    80% {\n",
              "      border-color: transparent;\n",
              "      border-right-color: var(--fill-color);\n",
              "      border-bottom-color: var(--fill-color);\n",
              "    }\n",
              "    90% {\n",
              "      border-color: transparent;\n",
              "      border-bottom-color: var(--fill-color);\n",
              "    }\n",
              "  }\n",
              "</style>\n",
              "\n",
              "      <script>\n",
              "        async function quickchart(key) {\n",
              "          const quickchartButtonEl =\n",
              "            document.querySelector('#' + key + ' button');\n",
              "          quickchartButtonEl.disabled = true;  // To prevent multiple clicks.\n",
              "          quickchartButtonEl.classList.add('colab-df-spinner');\n",
              "          try {\n",
              "            const charts = await google.colab.kernel.invokeFunction(\n",
              "                'suggestCharts', [key], {});\n",
              "          } catch (error) {\n",
              "            console.error('Error during call to suggestCharts:', error);\n",
              "          }\n",
              "          quickchartButtonEl.classList.remove('colab-df-spinner');\n",
              "          quickchartButtonEl.classList.add('colab-df-quickchart-complete');\n",
              "        }\n",
              "        (() => {\n",
              "          let quickchartButtonEl =\n",
              "            document.querySelector('#df-83486f67-1546-4373-85fe-62eaa4bbf1eb button');\n",
              "          quickchartButtonEl.style.display =\n",
              "            google.colab.kernel.accessAllowed ? 'block' : 'none';\n",
              "        })();\n",
              "      </script>\n",
              "    </div>\n",
              "\n",
              "    </div>\n",
              "  </div>\n"
            ],
            "application/vnd.google.colaboratory.intrinsic+json": {
              "type": "dataframe",
              "summary": "{\n  \"name\": \"pd\",\n  \"rows\": 2,\n  \"fields\": [\n    {\n      \"column\": \"1.FirstName\",\n      \"properties\": {\n        \"dtype\": \"string\",\n        \"num_unique_values\": 1,\n        \"samples\": [\n          \"Gildong\"\n        ],\n        \"semantic_type\": \"\",\n        \"description\": \"\"\n      }\n    },\n    {\n      \"column\": \"2.LastName\",\n      \"properties\": {\n        \"dtype\": \"string\",\n        \"num_unique_values\": 1,\n        \"samples\": [\n          \"Hong\"\n        ],\n        \"semantic_type\": \"\",\n        \"description\": \"\"\n      }\n    },\n    {\n      \"column\": \"3.Age\",\n      \"properties\": {\n        \"dtype\": \"number\",\n        \"std\": 0,\n        \"min\": 20,\n        \"max\": 20,\n        \"num_unique_values\": 1,\n        \"samples\": [\n          20\n        ],\n        \"semantic_type\": \"\",\n        \"description\": \"\"\n      }\n    },\n    {\n      \"column\": \"4.University\",\n      \"properties\": {\n        \"dtype\": \"string\",\n        \"num_unique_values\": 1,\n        \"samples\": [\n          \"Hangook University\"\n        ],\n        \"semantic_type\": \"\",\n        \"description\": \"\"\n      }\n    },\n    {\n      \"column\": \"5.Courses\",\n      \"properties\": {\n        \"dtype\": \"object\",\n        \"semantic_type\": \"\",\n        \"description\": \"\"\n      }\n    }\n  ]\n}"
            }
          },
          "metadata": {},
          "execution_count": 17
        }
      ],
      "source": [
        "pd.DataFrame.from_dict(data_dict)  # create a dataframe from a dict (more flexible, more options)"
      ]
    },
    {
      "cell_type": "code",
      "execution_count": null,
      "metadata": {
        "colab": {
          "base_uri": "https://localhost:8080/",
          "height": 81
        },
        "id": "B6Oy0RABbmN2",
        "outputId": "49a786e6-8973-419e-f32f-3836b896efad"
      },
      "outputs": [
        {
          "output_type": "execute_result",
          "data": {
            "text/plain": [
              "  1.FirstName 2.LastName  3.Age        4.University  \\\n",
              "0     Gildong       Hong     20  Hangook University   \n",
              "\n",
              "                                           5.Courses  \n",
              "0  [{'Classes': ['Probability', 'Generalized Line...  "
            ],
            "text/html": [
              "\n",
              "  <div id=\"df-a1ded1b0-53d4-4561-906b-60bf8b171ff4\" class=\"colab-df-container\">\n",
              "    <div>\n",
              "<style scoped>\n",
              "    .dataframe tbody tr th:only-of-type {\n",
              "        vertical-align: middle;\n",
              "    }\n",
              "\n",
              "    .dataframe tbody tr th {\n",
              "        vertical-align: top;\n",
              "    }\n",
              "\n",
              "    .dataframe thead th {\n",
              "        text-align: right;\n",
              "    }\n",
              "</style>\n",
              "<table border=\"1\" class=\"dataframe\">\n",
              "  <thead>\n",
              "    <tr style=\"text-align: right;\">\n",
              "      <th></th>\n",
              "      <th>1.FirstName</th>\n",
              "      <th>2.LastName</th>\n",
              "      <th>3.Age</th>\n",
              "      <th>4.University</th>\n",
              "      <th>5.Courses</th>\n",
              "    </tr>\n",
              "  </thead>\n",
              "  <tbody>\n",
              "    <tr>\n",
              "      <th>0</th>\n",
              "      <td>Gildong</td>\n",
              "      <td>Hong</td>\n",
              "      <td>20</td>\n",
              "      <td>Hangook University</td>\n",
              "      <td>[{'Classes': ['Probability', 'Generalized Line...</td>\n",
              "    </tr>\n",
              "  </tbody>\n",
              "</table>\n",
              "</div>\n",
              "    <div class=\"colab-df-buttons\">\n",
              "\n",
              "  <div class=\"colab-df-container\">\n",
              "    <button class=\"colab-df-convert\" onclick=\"convertToInteractive('df-a1ded1b0-53d4-4561-906b-60bf8b171ff4')\"\n",
              "            title=\"Convert this dataframe to an interactive table.\"\n",
              "            style=\"display:none;\">\n",
              "\n",
              "  <svg xmlns=\"http://www.w3.org/2000/svg\" height=\"24px\" viewBox=\"0 -960 960 960\">\n",
              "    <path d=\"M120-120v-720h720v720H120Zm60-500h600v-160H180v160Zm220 220h160v-160H400v160Zm0 220h160v-160H400v160ZM180-400h160v-160H180v160Zm440 0h160v-160H620v160ZM180-180h160v-160H180v160Zm440 0h160v-160H620v160Z\"/>\n",
              "  </svg>\n",
              "    </button>\n",
              "\n",
              "  <style>\n",
              "    .colab-df-container {\n",
              "      display:flex;\n",
              "      gap: 12px;\n",
              "    }\n",
              "\n",
              "    .colab-df-convert {\n",
              "      background-color: #E8F0FE;\n",
              "      border: none;\n",
              "      border-radius: 50%;\n",
              "      cursor: pointer;\n",
              "      display: none;\n",
              "      fill: #1967D2;\n",
              "      height: 32px;\n",
              "      padding: 0 0 0 0;\n",
              "      width: 32px;\n",
              "    }\n",
              "\n",
              "    .colab-df-convert:hover {\n",
              "      background-color: #E2EBFA;\n",
              "      box-shadow: 0px 1px 2px rgba(60, 64, 67, 0.3), 0px 1px 3px 1px rgba(60, 64, 67, 0.15);\n",
              "      fill: #174EA6;\n",
              "    }\n",
              "\n",
              "    .colab-df-buttons div {\n",
              "      margin-bottom: 4px;\n",
              "    }\n",
              "\n",
              "    [theme=dark] .colab-df-convert {\n",
              "      background-color: #3B4455;\n",
              "      fill: #D2E3FC;\n",
              "    }\n",
              "\n",
              "    [theme=dark] .colab-df-convert:hover {\n",
              "      background-color: #434B5C;\n",
              "      box-shadow: 0px 1px 3px 1px rgba(0, 0, 0, 0.15);\n",
              "      filter: drop-shadow(0px 1px 2px rgba(0, 0, 0, 0.3));\n",
              "      fill: #FFFFFF;\n",
              "    }\n",
              "  </style>\n",
              "\n",
              "    <script>\n",
              "      const buttonEl =\n",
              "        document.querySelector('#df-a1ded1b0-53d4-4561-906b-60bf8b171ff4 button.colab-df-convert');\n",
              "      buttonEl.style.display =\n",
              "        google.colab.kernel.accessAllowed ? 'block' : 'none';\n",
              "\n",
              "      async function convertToInteractive(key) {\n",
              "        const element = document.querySelector('#df-a1ded1b0-53d4-4561-906b-60bf8b171ff4');\n",
              "        const dataTable =\n",
              "          await google.colab.kernel.invokeFunction('convertToInteractive',\n",
              "                                                    [key], {});\n",
              "        if (!dataTable) return;\n",
              "\n",
              "        const docLinkHtml = 'Like what you see? Visit the ' +\n",
              "          '<a target=\"_blank\" href=https://colab.research.google.com/notebooks/data_table.ipynb>data table notebook</a>'\n",
              "          + ' to learn more about interactive tables.';\n",
              "        element.innerHTML = '';\n",
              "        dataTable['output_type'] = 'display_data';\n",
              "        await google.colab.output.renderOutput(dataTable, element);\n",
              "        const docLink = document.createElement('div');\n",
              "        docLink.innerHTML = docLinkHtml;\n",
              "        element.appendChild(docLink);\n",
              "      }\n",
              "    </script>\n",
              "  </div>\n",
              "\n",
              "\n",
              "    </div>\n",
              "  </div>\n"
            ],
            "application/vnd.google.colaboratory.intrinsic+json": {
              "type": "dataframe",
              "summary": "{\n  \"name\": \"pd\",\n  \"rows\": 1,\n  \"fields\": [\n    {\n      \"column\": \"1.FirstName\",\n      \"properties\": {\n        \"dtype\": \"string\",\n        \"num_unique_values\": 1,\n        \"samples\": [\n          \"Gildong\"\n        ],\n        \"semantic_type\": \"\",\n        \"description\": \"\"\n      }\n    },\n    {\n      \"column\": \"2.LastName\",\n      \"properties\": {\n        \"dtype\": \"string\",\n        \"num_unique_values\": 1,\n        \"samples\": [\n          \"Hong\"\n        ],\n        \"semantic_type\": \"\",\n        \"description\": \"\"\n      }\n    },\n    {\n      \"column\": \"3.Age\",\n      \"properties\": {\n        \"dtype\": \"number\",\n        \"std\": null,\n        \"min\": 20,\n        \"max\": 20,\n        \"num_unique_values\": 1,\n        \"samples\": [\n          20\n        ],\n        \"semantic_type\": \"\",\n        \"description\": \"\"\n      }\n    },\n    {\n      \"column\": \"4.University\",\n      \"properties\": {\n        \"dtype\": \"string\",\n        \"num_unique_values\": 1,\n        \"samples\": [\n          \"Hangook University\"\n        ],\n        \"semantic_type\": \"\",\n        \"description\": \"\"\n      }\n    },\n    {\n      \"column\": \"5.Courses\",\n      \"properties\": {\n        \"dtype\": \"object\",\n        \"semantic_type\": \"\",\n        \"description\": \"\"\n      }\n    }\n  ]\n}"
            }
          },
          "metadata": {},
          "execution_count": 18
        }
      ],
      "source": [
        "pd.json_normalize(data_dict)  # transforms a complex nested data structures to a flat dataframe"
      ]
    },
    {
      "cell_type": "code",
      "execution_count": null,
      "metadata": {
        "colab": {
          "base_uri": "https://localhost:8080/"
        },
        "id": "hwk_jZT7GbQy",
        "outputId": "873cf382-c03a-40e3-ae5a-655b99b2e82e"
      },
      "outputs": [
        {
          "output_type": "execute_result",
          "data": {
            "text/plain": [
              "[{'Classes': ['Probability',\n",
              "   'Generalized Linear Model',\n",
              "   'Categorical Data Analysis'],\n",
              "  'Major': 'Statistics'},\n",
              " {'Classes': ['Data Structure', 'Programming', 'Algorithms'],\n",
              "  'Minor': 'ComputerScience'}]"
            ]
          },
          "metadata": {},
          "execution_count": 19
        }
      ],
      "source": [
        "data_dict['5.Courses']"
      ]
    },
    {
      "cell_type": "code",
      "execution_count": null,
      "metadata": {
        "colab": {
          "base_uri": "https://localhost:8080/",
          "height": 112
        },
        "id": "Jmxsz5YsenV3",
        "outputId": "8b59db3e-8f5b-4de7-bf01-e202e0ea02b5"
      },
      "outputs": [
        {
          "output_type": "execute_result",
          "data": {
            "text/plain": [
              "                                             Classes       Major  \\\n",
              "0  [Probability, Generalized Linear Model, Catego...  Statistics   \n",
              "1          [Data Structure, Programming, Algorithms]         NaN   \n",
              "\n",
              "             Minor  \n",
              "0              NaN  \n",
              "1  ComputerScience  "
            ],
            "text/html": [
              "\n",
              "  <div id=\"df-5cb41551-e43c-42f1-adf6-415de0a5d3a1\" class=\"colab-df-container\">\n",
              "    <div>\n",
              "<style scoped>\n",
              "    .dataframe tbody tr th:only-of-type {\n",
              "        vertical-align: middle;\n",
              "    }\n",
              "\n",
              "    .dataframe tbody tr th {\n",
              "        vertical-align: top;\n",
              "    }\n",
              "\n",
              "    .dataframe thead th {\n",
              "        text-align: right;\n",
              "    }\n",
              "</style>\n",
              "<table border=\"1\" class=\"dataframe\">\n",
              "  <thead>\n",
              "    <tr style=\"text-align: right;\">\n",
              "      <th></th>\n",
              "      <th>Classes</th>\n",
              "      <th>Major</th>\n",
              "      <th>Minor</th>\n",
              "    </tr>\n",
              "  </thead>\n",
              "  <tbody>\n",
              "    <tr>\n",
              "      <th>0</th>\n",
              "      <td>[Probability, Generalized Linear Model, Catego...</td>\n",
              "      <td>Statistics</td>\n",
              "      <td>NaN</td>\n",
              "    </tr>\n",
              "    <tr>\n",
              "      <th>1</th>\n",
              "      <td>[Data Structure, Programming, Algorithms]</td>\n",
              "      <td>NaN</td>\n",
              "      <td>ComputerScience</td>\n",
              "    </tr>\n",
              "  </tbody>\n",
              "</table>\n",
              "</div>\n",
              "    <div class=\"colab-df-buttons\">\n",
              "\n",
              "  <div class=\"colab-df-container\">\n",
              "    <button class=\"colab-df-convert\" onclick=\"convertToInteractive('df-5cb41551-e43c-42f1-adf6-415de0a5d3a1')\"\n",
              "            title=\"Convert this dataframe to an interactive table.\"\n",
              "            style=\"display:none;\">\n",
              "\n",
              "  <svg xmlns=\"http://www.w3.org/2000/svg\" height=\"24px\" viewBox=\"0 -960 960 960\">\n",
              "    <path d=\"M120-120v-720h720v720H120Zm60-500h600v-160H180v160Zm220 220h160v-160H400v160Zm0 220h160v-160H400v160ZM180-400h160v-160H180v160Zm440 0h160v-160H620v160ZM180-180h160v-160H180v160Zm440 0h160v-160H620v160Z\"/>\n",
              "  </svg>\n",
              "    </button>\n",
              "\n",
              "  <style>\n",
              "    .colab-df-container {\n",
              "      display:flex;\n",
              "      gap: 12px;\n",
              "    }\n",
              "\n",
              "    .colab-df-convert {\n",
              "      background-color: #E8F0FE;\n",
              "      border: none;\n",
              "      border-radius: 50%;\n",
              "      cursor: pointer;\n",
              "      display: none;\n",
              "      fill: #1967D2;\n",
              "      height: 32px;\n",
              "      padding: 0 0 0 0;\n",
              "      width: 32px;\n",
              "    }\n",
              "\n",
              "    .colab-df-convert:hover {\n",
              "      background-color: #E2EBFA;\n",
              "      box-shadow: 0px 1px 2px rgba(60, 64, 67, 0.3), 0px 1px 3px 1px rgba(60, 64, 67, 0.15);\n",
              "      fill: #174EA6;\n",
              "    }\n",
              "\n",
              "    .colab-df-buttons div {\n",
              "      margin-bottom: 4px;\n",
              "    }\n",
              "\n",
              "    [theme=dark] .colab-df-convert {\n",
              "      background-color: #3B4455;\n",
              "      fill: #D2E3FC;\n",
              "    }\n",
              "\n",
              "    [theme=dark] .colab-df-convert:hover {\n",
              "      background-color: #434B5C;\n",
              "      box-shadow: 0px 1px 3px 1px rgba(0, 0, 0, 0.15);\n",
              "      filter: drop-shadow(0px 1px 2px rgba(0, 0, 0, 0.3));\n",
              "      fill: #FFFFFF;\n",
              "    }\n",
              "  </style>\n",
              "\n",
              "    <script>\n",
              "      const buttonEl =\n",
              "        document.querySelector('#df-5cb41551-e43c-42f1-adf6-415de0a5d3a1 button.colab-df-convert');\n",
              "      buttonEl.style.display =\n",
              "        google.colab.kernel.accessAllowed ? 'block' : 'none';\n",
              "\n",
              "      async function convertToInteractive(key) {\n",
              "        const element = document.querySelector('#df-5cb41551-e43c-42f1-adf6-415de0a5d3a1');\n",
              "        const dataTable =\n",
              "          await google.colab.kernel.invokeFunction('convertToInteractive',\n",
              "                                                    [key], {});\n",
              "        if (!dataTable) return;\n",
              "\n",
              "        const docLinkHtml = 'Like what you see? Visit the ' +\n",
              "          '<a target=\"_blank\" href=https://colab.research.google.com/notebooks/data_table.ipynb>data table notebook</a>'\n",
              "          + ' to learn more about interactive tables.';\n",
              "        element.innerHTML = '';\n",
              "        dataTable['output_type'] = 'display_data';\n",
              "        await google.colab.output.renderOutput(dataTable, element);\n",
              "        const docLink = document.createElement('div');\n",
              "        docLink.innerHTML = docLinkHtml;\n",
              "        element.appendChild(docLink);\n",
              "      }\n",
              "    </script>\n",
              "  </div>\n",
              "\n",
              "\n",
              "    <div id=\"df-8382d47d-4e93-4ca5-98db-e33a5fb48480\">\n",
              "      <button class=\"colab-df-quickchart\" onclick=\"quickchart('df-8382d47d-4e93-4ca5-98db-e33a5fb48480')\"\n",
              "                title=\"Suggest charts\"\n",
              "                style=\"display:none;\">\n",
              "\n",
              "<svg xmlns=\"http://www.w3.org/2000/svg\" height=\"24px\"viewBox=\"0 0 24 24\"\n",
              "     width=\"24px\">\n",
              "    <g>\n",
              "        <path d=\"M19 3H5c-1.1 0-2 .9-2 2v14c0 1.1.9 2 2 2h14c1.1 0 2-.9 2-2V5c0-1.1-.9-2-2-2zM9 17H7v-7h2v7zm4 0h-2V7h2v10zm4 0h-2v-4h2v4z\"/>\n",
              "    </g>\n",
              "</svg>\n",
              "      </button>\n",
              "\n",
              "<style>\n",
              "  .colab-df-quickchart {\n",
              "      --bg-color: #E8F0FE;\n",
              "      --fill-color: #1967D2;\n",
              "      --hover-bg-color: #E2EBFA;\n",
              "      --hover-fill-color: #174EA6;\n",
              "      --disabled-fill-color: #AAA;\n",
              "      --disabled-bg-color: #DDD;\n",
              "  }\n",
              "\n",
              "  [theme=dark] .colab-df-quickchart {\n",
              "      --bg-color: #3B4455;\n",
              "      --fill-color: #D2E3FC;\n",
              "      --hover-bg-color: #434B5C;\n",
              "      --hover-fill-color: #FFFFFF;\n",
              "      --disabled-bg-color: #3B4455;\n",
              "      --disabled-fill-color: #666;\n",
              "  }\n",
              "\n",
              "  .colab-df-quickchart {\n",
              "    background-color: var(--bg-color);\n",
              "    border: none;\n",
              "    border-radius: 50%;\n",
              "    cursor: pointer;\n",
              "    display: none;\n",
              "    fill: var(--fill-color);\n",
              "    height: 32px;\n",
              "    padding: 0;\n",
              "    width: 32px;\n",
              "  }\n",
              "\n",
              "  .colab-df-quickchart:hover {\n",
              "    background-color: var(--hover-bg-color);\n",
              "    box-shadow: 0 1px 2px rgba(60, 64, 67, 0.3), 0 1px 3px 1px rgba(60, 64, 67, 0.15);\n",
              "    fill: var(--button-hover-fill-color);\n",
              "  }\n",
              "\n",
              "  .colab-df-quickchart-complete:disabled,\n",
              "  .colab-df-quickchart-complete:disabled:hover {\n",
              "    background-color: var(--disabled-bg-color);\n",
              "    fill: var(--disabled-fill-color);\n",
              "    box-shadow: none;\n",
              "  }\n",
              "\n",
              "  .colab-df-spinner {\n",
              "    border: 2px solid var(--fill-color);\n",
              "    border-color: transparent;\n",
              "    border-bottom-color: var(--fill-color);\n",
              "    animation:\n",
              "      spin 1s steps(1) infinite;\n",
              "  }\n",
              "\n",
              "  @keyframes spin {\n",
              "    0% {\n",
              "      border-color: transparent;\n",
              "      border-bottom-color: var(--fill-color);\n",
              "      border-left-color: var(--fill-color);\n",
              "    }\n",
              "    20% {\n",
              "      border-color: transparent;\n",
              "      border-left-color: var(--fill-color);\n",
              "      border-top-color: var(--fill-color);\n",
              "    }\n",
              "    30% {\n",
              "      border-color: transparent;\n",
              "      border-left-color: var(--fill-color);\n",
              "      border-top-color: var(--fill-color);\n",
              "      border-right-color: var(--fill-color);\n",
              "    }\n",
              "    40% {\n",
              "      border-color: transparent;\n",
              "      border-right-color: var(--fill-color);\n",
              "      border-top-color: var(--fill-color);\n",
              "    }\n",
              "    60% {\n",
              "      border-color: transparent;\n",
              "      border-right-color: var(--fill-color);\n",
              "    }\n",
              "    80% {\n",
              "      border-color: transparent;\n",
              "      border-right-color: var(--fill-color);\n",
              "      border-bottom-color: var(--fill-color);\n",
              "    }\n",
              "    90% {\n",
              "      border-color: transparent;\n",
              "      border-bottom-color: var(--fill-color);\n",
              "    }\n",
              "  }\n",
              "</style>\n",
              "\n",
              "      <script>\n",
              "        async function quickchart(key) {\n",
              "          const quickchartButtonEl =\n",
              "            document.querySelector('#' + key + ' button');\n",
              "          quickchartButtonEl.disabled = true;  // To prevent multiple clicks.\n",
              "          quickchartButtonEl.classList.add('colab-df-spinner');\n",
              "          try {\n",
              "            const charts = await google.colab.kernel.invokeFunction(\n",
              "                'suggestCharts', [key], {});\n",
              "          } catch (error) {\n",
              "            console.error('Error during call to suggestCharts:', error);\n",
              "          }\n",
              "          quickchartButtonEl.classList.remove('colab-df-spinner');\n",
              "          quickchartButtonEl.classList.add('colab-df-quickchart-complete');\n",
              "        }\n",
              "        (() => {\n",
              "          let quickchartButtonEl =\n",
              "            document.querySelector('#df-8382d47d-4e93-4ca5-98db-e33a5fb48480 button');\n",
              "          quickchartButtonEl.style.display =\n",
              "            google.colab.kernel.accessAllowed ? 'block' : 'none';\n",
              "        })();\n",
              "      </script>\n",
              "    </div>\n",
              "\n",
              "    </div>\n",
              "  </div>\n"
            ],
            "application/vnd.google.colaboratory.intrinsic+json": {
              "type": "dataframe",
              "summary": "{\n  \"name\": \"pd\",\n  \"rows\": 2,\n  \"fields\": [\n    {\n      \"column\": \"Classes\",\n      \"properties\": {\n        \"dtype\": \"object\",\n        \"semantic_type\": \"\",\n        \"description\": \"\"\n      }\n    },\n    {\n      \"column\": \"Major\",\n      \"properties\": {\n        \"dtype\": \"string\",\n        \"num_unique_values\": 1,\n        \"samples\": [\n          \"Statistics\"\n        ],\n        \"semantic_type\": \"\",\n        \"description\": \"\"\n      }\n    },\n    {\n      \"column\": \"Minor\",\n      \"properties\": {\n        \"dtype\": \"string\",\n        \"num_unique_values\": 1,\n        \"samples\": [\n          \"ComputerScience\"\n        ],\n        \"semantic_type\": \"\",\n        \"description\": \"\"\n      }\n    }\n  ]\n}"
            }
          },
          "metadata": {},
          "execution_count": 20
        }
      ],
      "source": [
        "pd.json_normalize(data_dict, \"5.Courses\")"
      ]
    },
    {
      "cell_type": "code",
      "execution_count": null,
      "metadata": {
        "colab": {
          "base_uri": "https://localhost:8080/",
          "height": 112
        },
        "id": "sRF63GHdNcKx",
        "outputId": "cda51600-c604-4c50-826a-a93035b2b4df"
      },
      "outputs": [
        {
          "output_type": "execute_result",
          "data": {
            "text/plain": [
              "                                             Classes       Major  \\\n",
              "0  [Probability, Generalized Linear Model, Catego...  Statistics   \n",
              "1          [Data Structure, Programming, Algorithms]         NaN   \n",
              "\n",
              "             Minor 3.Age  \n",
              "0              NaN    20  \n",
              "1  ComputerScience    20  "
            ],
            "text/html": [
              "\n",
              "  <div id=\"df-215ef0bc-94b8-4c8e-8bbf-0f1bb7dc1bea\" class=\"colab-df-container\">\n",
              "    <div>\n",
              "<style scoped>\n",
              "    .dataframe tbody tr th:only-of-type {\n",
              "        vertical-align: middle;\n",
              "    }\n",
              "\n",
              "    .dataframe tbody tr th {\n",
              "        vertical-align: top;\n",
              "    }\n",
              "\n",
              "    .dataframe thead th {\n",
              "        text-align: right;\n",
              "    }\n",
              "</style>\n",
              "<table border=\"1\" class=\"dataframe\">\n",
              "  <thead>\n",
              "    <tr style=\"text-align: right;\">\n",
              "      <th></th>\n",
              "      <th>Classes</th>\n",
              "      <th>Major</th>\n",
              "      <th>Minor</th>\n",
              "      <th>3.Age</th>\n",
              "    </tr>\n",
              "  </thead>\n",
              "  <tbody>\n",
              "    <tr>\n",
              "      <th>0</th>\n",
              "      <td>[Probability, Generalized Linear Model, Catego...</td>\n",
              "      <td>Statistics</td>\n",
              "      <td>NaN</td>\n",
              "      <td>20</td>\n",
              "    </tr>\n",
              "    <tr>\n",
              "      <th>1</th>\n",
              "      <td>[Data Structure, Programming, Algorithms]</td>\n",
              "      <td>NaN</td>\n",
              "      <td>ComputerScience</td>\n",
              "      <td>20</td>\n",
              "    </tr>\n",
              "  </tbody>\n",
              "</table>\n",
              "</div>\n",
              "    <div class=\"colab-df-buttons\">\n",
              "\n",
              "  <div class=\"colab-df-container\">\n",
              "    <button class=\"colab-df-convert\" onclick=\"convertToInteractive('df-215ef0bc-94b8-4c8e-8bbf-0f1bb7dc1bea')\"\n",
              "            title=\"Convert this dataframe to an interactive table.\"\n",
              "            style=\"display:none;\">\n",
              "\n",
              "  <svg xmlns=\"http://www.w3.org/2000/svg\" height=\"24px\" viewBox=\"0 -960 960 960\">\n",
              "    <path d=\"M120-120v-720h720v720H120Zm60-500h600v-160H180v160Zm220 220h160v-160H400v160Zm0 220h160v-160H400v160ZM180-400h160v-160H180v160Zm440 0h160v-160H620v160ZM180-180h160v-160H180v160Zm440 0h160v-160H620v160Z\"/>\n",
              "  </svg>\n",
              "    </button>\n",
              "\n",
              "  <style>\n",
              "    .colab-df-container {\n",
              "      display:flex;\n",
              "      gap: 12px;\n",
              "    }\n",
              "\n",
              "    .colab-df-convert {\n",
              "      background-color: #E8F0FE;\n",
              "      border: none;\n",
              "      border-radius: 50%;\n",
              "      cursor: pointer;\n",
              "      display: none;\n",
              "      fill: #1967D2;\n",
              "      height: 32px;\n",
              "      padding: 0 0 0 0;\n",
              "      width: 32px;\n",
              "    }\n",
              "\n",
              "    .colab-df-convert:hover {\n",
              "      background-color: #E2EBFA;\n",
              "      box-shadow: 0px 1px 2px rgba(60, 64, 67, 0.3), 0px 1px 3px 1px rgba(60, 64, 67, 0.15);\n",
              "      fill: #174EA6;\n",
              "    }\n",
              "\n",
              "    .colab-df-buttons div {\n",
              "      margin-bottom: 4px;\n",
              "    }\n",
              "\n",
              "    [theme=dark] .colab-df-convert {\n",
              "      background-color: #3B4455;\n",
              "      fill: #D2E3FC;\n",
              "    }\n",
              "\n",
              "    [theme=dark] .colab-df-convert:hover {\n",
              "      background-color: #434B5C;\n",
              "      box-shadow: 0px 1px 3px 1px rgba(0, 0, 0, 0.15);\n",
              "      filter: drop-shadow(0px 1px 2px rgba(0, 0, 0, 0.3));\n",
              "      fill: #FFFFFF;\n",
              "    }\n",
              "  </style>\n",
              "\n",
              "    <script>\n",
              "      const buttonEl =\n",
              "        document.querySelector('#df-215ef0bc-94b8-4c8e-8bbf-0f1bb7dc1bea button.colab-df-convert');\n",
              "      buttonEl.style.display =\n",
              "        google.colab.kernel.accessAllowed ? 'block' : 'none';\n",
              "\n",
              "      async function convertToInteractive(key) {\n",
              "        const element = document.querySelector('#df-215ef0bc-94b8-4c8e-8bbf-0f1bb7dc1bea');\n",
              "        const dataTable =\n",
              "          await google.colab.kernel.invokeFunction('convertToInteractive',\n",
              "                                                    [key], {});\n",
              "        if (!dataTable) return;\n",
              "\n",
              "        const docLinkHtml = 'Like what you see? Visit the ' +\n",
              "          '<a target=\"_blank\" href=https://colab.research.google.com/notebooks/data_table.ipynb>data table notebook</a>'\n",
              "          + ' to learn more about interactive tables.';\n",
              "        element.innerHTML = '';\n",
              "        dataTable['output_type'] = 'display_data';\n",
              "        await google.colab.output.renderOutput(dataTable, element);\n",
              "        const docLink = document.createElement('div');\n",
              "        docLink.innerHTML = docLinkHtml;\n",
              "        element.appendChild(docLink);\n",
              "      }\n",
              "    </script>\n",
              "  </div>\n",
              "\n",
              "\n",
              "    <div id=\"df-3bc48763-450d-45ce-9ad0-69e65a61eed1\">\n",
              "      <button class=\"colab-df-quickchart\" onclick=\"quickchart('df-3bc48763-450d-45ce-9ad0-69e65a61eed1')\"\n",
              "                title=\"Suggest charts\"\n",
              "                style=\"display:none;\">\n",
              "\n",
              "<svg xmlns=\"http://www.w3.org/2000/svg\" height=\"24px\"viewBox=\"0 0 24 24\"\n",
              "     width=\"24px\">\n",
              "    <g>\n",
              "        <path d=\"M19 3H5c-1.1 0-2 .9-2 2v14c0 1.1.9 2 2 2h14c1.1 0 2-.9 2-2V5c0-1.1-.9-2-2-2zM9 17H7v-7h2v7zm4 0h-2V7h2v10zm4 0h-2v-4h2v4z\"/>\n",
              "    </g>\n",
              "</svg>\n",
              "      </button>\n",
              "\n",
              "<style>\n",
              "  .colab-df-quickchart {\n",
              "      --bg-color: #E8F0FE;\n",
              "      --fill-color: #1967D2;\n",
              "      --hover-bg-color: #E2EBFA;\n",
              "      --hover-fill-color: #174EA6;\n",
              "      --disabled-fill-color: #AAA;\n",
              "      --disabled-bg-color: #DDD;\n",
              "  }\n",
              "\n",
              "  [theme=dark] .colab-df-quickchart {\n",
              "      --bg-color: #3B4455;\n",
              "      --fill-color: #D2E3FC;\n",
              "      --hover-bg-color: #434B5C;\n",
              "      --hover-fill-color: #FFFFFF;\n",
              "      --disabled-bg-color: #3B4455;\n",
              "      --disabled-fill-color: #666;\n",
              "  }\n",
              "\n",
              "  .colab-df-quickchart {\n",
              "    background-color: var(--bg-color);\n",
              "    border: none;\n",
              "    border-radius: 50%;\n",
              "    cursor: pointer;\n",
              "    display: none;\n",
              "    fill: var(--fill-color);\n",
              "    height: 32px;\n",
              "    padding: 0;\n",
              "    width: 32px;\n",
              "  }\n",
              "\n",
              "  .colab-df-quickchart:hover {\n",
              "    background-color: var(--hover-bg-color);\n",
              "    box-shadow: 0 1px 2px rgba(60, 64, 67, 0.3), 0 1px 3px 1px rgba(60, 64, 67, 0.15);\n",
              "    fill: var(--button-hover-fill-color);\n",
              "  }\n",
              "\n",
              "  .colab-df-quickchart-complete:disabled,\n",
              "  .colab-df-quickchart-complete:disabled:hover {\n",
              "    background-color: var(--disabled-bg-color);\n",
              "    fill: var(--disabled-fill-color);\n",
              "    box-shadow: none;\n",
              "  }\n",
              "\n",
              "  .colab-df-spinner {\n",
              "    border: 2px solid var(--fill-color);\n",
              "    border-color: transparent;\n",
              "    border-bottom-color: var(--fill-color);\n",
              "    animation:\n",
              "      spin 1s steps(1) infinite;\n",
              "  }\n",
              "\n",
              "  @keyframes spin {\n",
              "    0% {\n",
              "      border-color: transparent;\n",
              "      border-bottom-color: var(--fill-color);\n",
              "      border-left-color: var(--fill-color);\n",
              "    }\n",
              "    20% {\n",
              "      border-color: transparent;\n",
              "      border-left-color: var(--fill-color);\n",
              "      border-top-color: var(--fill-color);\n",
              "    }\n",
              "    30% {\n",
              "      border-color: transparent;\n",
              "      border-left-color: var(--fill-color);\n",
              "      border-top-color: var(--fill-color);\n",
              "      border-right-color: var(--fill-color);\n",
              "    }\n",
              "    40% {\n",
              "      border-color: transparent;\n",
              "      border-right-color: var(--fill-color);\n",
              "      border-top-color: var(--fill-color);\n",
              "    }\n",
              "    60% {\n",
              "      border-color: transparent;\n",
              "      border-right-color: var(--fill-color);\n",
              "    }\n",
              "    80% {\n",
              "      border-color: transparent;\n",
              "      border-right-color: var(--fill-color);\n",
              "      border-bottom-color: var(--fill-color);\n",
              "    }\n",
              "    90% {\n",
              "      border-color: transparent;\n",
              "      border-bottom-color: var(--fill-color);\n",
              "    }\n",
              "  }\n",
              "</style>\n",
              "\n",
              "      <script>\n",
              "        async function quickchart(key) {\n",
              "          const quickchartButtonEl =\n",
              "            document.querySelector('#' + key + ' button');\n",
              "          quickchartButtonEl.disabled = true;  // To prevent multiple clicks.\n",
              "          quickchartButtonEl.classList.add('colab-df-spinner');\n",
              "          try {\n",
              "            const charts = await google.colab.kernel.invokeFunction(\n",
              "                'suggestCharts', [key], {});\n",
              "          } catch (error) {\n",
              "            console.error('Error during call to suggestCharts:', error);\n",
              "          }\n",
              "          quickchartButtonEl.classList.remove('colab-df-spinner');\n",
              "          quickchartButtonEl.classList.add('colab-df-quickchart-complete');\n",
              "        }\n",
              "        (() => {\n",
              "          let quickchartButtonEl =\n",
              "            document.querySelector('#df-3bc48763-450d-45ce-9ad0-69e65a61eed1 button');\n",
              "          quickchartButtonEl.style.display =\n",
              "            google.colab.kernel.accessAllowed ? 'block' : 'none';\n",
              "        })();\n",
              "      </script>\n",
              "    </div>\n",
              "\n",
              "    </div>\n",
              "  </div>\n"
            ],
            "application/vnd.google.colaboratory.intrinsic+json": {
              "type": "dataframe",
              "summary": "{\n  \"name\": \"                  meta = ['3\",\n  \"rows\": 2,\n  \"fields\": [\n    {\n      \"column\": \"Classes\",\n      \"properties\": {\n        \"dtype\": \"object\",\n        \"semantic_type\": \"\",\n        \"description\": \"\"\n      }\n    },\n    {\n      \"column\": \"Major\",\n      \"properties\": {\n        \"dtype\": \"string\",\n        \"num_unique_values\": 1,\n        \"samples\": [\n          \"Statistics\"\n        ],\n        \"semantic_type\": \"\",\n        \"description\": \"\"\n      }\n    },\n    {\n      \"column\": \"Minor\",\n      \"properties\": {\n        \"dtype\": \"string\",\n        \"num_unique_values\": 1,\n        \"samples\": [\n          \"ComputerScience\"\n        ],\n        \"semantic_type\": \"\",\n        \"description\": \"\"\n      }\n    },\n    {\n      \"column\": \"3.Age\",\n      \"properties\": {\n        \"dtype\": \"date\",\n        \"min\": 20,\n        \"max\": 20,\n        \"num_unique_values\": 1,\n        \"samples\": [\n          20\n        ],\n        \"semantic_type\": \"\",\n        \"description\": \"\"\n      }\n    }\n  ]\n}"
            }
          },
          "metadata": {},
          "execution_count": 21
        }
      ],
      "source": [
        "pd.json_normalize(data_dict,\n",
        "                  record_path = \"5.Courses\",\n",
        "                  meta = ['3.Age'])"
      ]
    },
    {
      "cell_type": "markdown",
      "metadata": {
        "id": "-_EbwtxkDIBT"
      },
      "source": [
        "## json_normalize (data, record_path, meta, ...)\n",
        "- flatten nested structures\n",
        "- data: dict or list of dict\n",
        "- record_path : decode 해줘야할 열 지정 [{}, {}, {} ....]\n",
        "- meta : decode 하는 열과 동일 차원에 존재하는 열들 중 데이터 프레임에 포함시킬 열 선택"
      ]
    },
    {
      "cell_type": "code",
      "execution_count": null,
      "metadata": {
        "id": "67mNVQ8DglQM"
      },
      "outputs": [],
      "source": [
        "# JSON exercise3\n",
        "# from https://pandas.pydata.org/pandas-docs/stable/reference/api/\\\n",
        "#              pandas.io.json.json_normalize.html\n",
        "\n",
        "data = [{'state': 'Florida',\n",
        "         'shortname': 'FL',\n",
        "         'info': {'governor': 'Rick Scott'},\n",
        "         'counties': [{'name': 'Dade', 'population': 12345},\n",
        "                      {'name': 'Broward', 'population': 40000},\n",
        "                      {'name': 'Palm Beach', 'population': 60000}]},\n",
        "        {'state': 'Ohio',\n",
        "         'shortname': 'OH',\n",
        "         'info': {'governor': 'John Kasich'},\n",
        "         'counties': [{'name': 'Summit', 'population': 1234},\n",
        "                      {'name': 'Cuyahoga', 'population': 1337}]}]"
      ]
    },
    {
      "cell_type": "code",
      "execution_count": null,
      "metadata": {
        "colab": {
          "base_uri": "https://localhost:8080/"
        },
        "id": "g3JEFxt6g3Xt",
        "outputId": "c618d105-cf37-448b-fb4b-353839594a27"
      },
      "outputs": [
        {
          "output_type": "execute_result",
          "data": {
            "text/plain": [
              "(list, 2)"
            ]
          },
          "metadata": {},
          "execution_count": 23
        }
      ],
      "source": [
        "type(data), len(data)"
      ]
    },
    {
      "cell_type": "code",
      "execution_count": null,
      "metadata": {
        "colab": {
          "base_uri": "https://localhost:8080/",
          "height": 112
        },
        "id": "jIe0oFnLhGOL",
        "outputId": "dfe35c1e-f819-464f-b8bb-9aa3f09443c1"
      },
      "outputs": [
        {
          "output_type": "execute_result",
          "data": {
            "text/plain": [
              "     state shortname                                           counties  \\\n",
              "0  Florida        FL  [{'name': 'Dade', 'population': 12345}, {'name...   \n",
              "1     Ohio        OH  [{'name': 'Summit', 'population': 1234}, {'nam...   \n",
              "\n",
              "  info.governor  \n",
              "0    Rick Scott  \n",
              "1   John Kasich  "
            ],
            "text/html": [
              "\n",
              "  <div id=\"df-f2bbe868-efd8-416c-8896-99df1656fe5f\" class=\"colab-df-container\">\n",
              "    <div>\n",
              "<style scoped>\n",
              "    .dataframe tbody tr th:only-of-type {\n",
              "        vertical-align: middle;\n",
              "    }\n",
              "\n",
              "    .dataframe tbody tr th {\n",
              "        vertical-align: top;\n",
              "    }\n",
              "\n",
              "    .dataframe thead th {\n",
              "        text-align: right;\n",
              "    }\n",
              "</style>\n",
              "<table border=\"1\" class=\"dataframe\">\n",
              "  <thead>\n",
              "    <tr style=\"text-align: right;\">\n",
              "      <th></th>\n",
              "      <th>state</th>\n",
              "      <th>shortname</th>\n",
              "      <th>counties</th>\n",
              "      <th>info.governor</th>\n",
              "    </tr>\n",
              "  </thead>\n",
              "  <tbody>\n",
              "    <tr>\n",
              "      <th>0</th>\n",
              "      <td>Florida</td>\n",
              "      <td>FL</td>\n",
              "      <td>[{'name': 'Dade', 'population': 12345}, {'name...</td>\n",
              "      <td>Rick Scott</td>\n",
              "    </tr>\n",
              "    <tr>\n",
              "      <th>1</th>\n",
              "      <td>Ohio</td>\n",
              "      <td>OH</td>\n",
              "      <td>[{'name': 'Summit', 'population': 1234}, {'nam...</td>\n",
              "      <td>John Kasich</td>\n",
              "    </tr>\n",
              "  </tbody>\n",
              "</table>\n",
              "</div>\n",
              "    <div class=\"colab-df-buttons\">\n",
              "\n",
              "  <div class=\"colab-df-container\">\n",
              "    <button class=\"colab-df-convert\" onclick=\"convertToInteractive('df-f2bbe868-efd8-416c-8896-99df1656fe5f')\"\n",
              "            title=\"Convert this dataframe to an interactive table.\"\n",
              "            style=\"display:none;\">\n",
              "\n",
              "  <svg xmlns=\"http://www.w3.org/2000/svg\" height=\"24px\" viewBox=\"0 -960 960 960\">\n",
              "    <path d=\"M120-120v-720h720v720H120Zm60-500h600v-160H180v160Zm220 220h160v-160H400v160Zm0 220h160v-160H400v160ZM180-400h160v-160H180v160Zm440 0h160v-160H620v160ZM180-180h160v-160H180v160Zm440 0h160v-160H620v160Z\"/>\n",
              "  </svg>\n",
              "    </button>\n",
              "\n",
              "  <style>\n",
              "    .colab-df-container {\n",
              "      display:flex;\n",
              "      gap: 12px;\n",
              "    }\n",
              "\n",
              "    .colab-df-convert {\n",
              "      background-color: #E8F0FE;\n",
              "      border: none;\n",
              "      border-radius: 50%;\n",
              "      cursor: pointer;\n",
              "      display: none;\n",
              "      fill: #1967D2;\n",
              "      height: 32px;\n",
              "      padding: 0 0 0 0;\n",
              "      width: 32px;\n",
              "    }\n",
              "\n",
              "    .colab-df-convert:hover {\n",
              "      background-color: #E2EBFA;\n",
              "      box-shadow: 0px 1px 2px rgba(60, 64, 67, 0.3), 0px 1px 3px 1px rgba(60, 64, 67, 0.15);\n",
              "      fill: #174EA6;\n",
              "    }\n",
              "\n",
              "    .colab-df-buttons div {\n",
              "      margin-bottom: 4px;\n",
              "    }\n",
              "\n",
              "    [theme=dark] .colab-df-convert {\n",
              "      background-color: #3B4455;\n",
              "      fill: #D2E3FC;\n",
              "    }\n",
              "\n",
              "    [theme=dark] .colab-df-convert:hover {\n",
              "      background-color: #434B5C;\n",
              "      box-shadow: 0px 1px 3px 1px rgba(0, 0, 0, 0.15);\n",
              "      filter: drop-shadow(0px 1px 2px rgba(0, 0, 0, 0.3));\n",
              "      fill: #FFFFFF;\n",
              "    }\n",
              "  </style>\n",
              "\n",
              "    <script>\n",
              "      const buttonEl =\n",
              "        document.querySelector('#df-f2bbe868-efd8-416c-8896-99df1656fe5f button.colab-df-convert');\n",
              "      buttonEl.style.display =\n",
              "        google.colab.kernel.accessAllowed ? 'block' : 'none';\n",
              "\n",
              "      async function convertToInteractive(key) {\n",
              "        const element = document.querySelector('#df-f2bbe868-efd8-416c-8896-99df1656fe5f');\n",
              "        const dataTable =\n",
              "          await google.colab.kernel.invokeFunction('convertToInteractive',\n",
              "                                                    [key], {});\n",
              "        if (!dataTable) return;\n",
              "\n",
              "        const docLinkHtml = 'Like what you see? Visit the ' +\n",
              "          '<a target=\"_blank\" href=https://colab.research.google.com/notebooks/data_table.ipynb>data table notebook</a>'\n",
              "          + ' to learn more about interactive tables.';\n",
              "        element.innerHTML = '';\n",
              "        dataTable['output_type'] = 'display_data';\n",
              "        await google.colab.output.renderOutput(dataTable, element);\n",
              "        const docLink = document.createElement('div');\n",
              "        docLink.innerHTML = docLinkHtml;\n",
              "        element.appendChild(docLink);\n",
              "      }\n",
              "    </script>\n",
              "  </div>\n",
              "\n",
              "\n",
              "    <div id=\"df-27526d35-88d4-4739-a1a1-a5ec222fe93d\">\n",
              "      <button class=\"colab-df-quickchart\" onclick=\"quickchart('df-27526d35-88d4-4739-a1a1-a5ec222fe93d')\"\n",
              "                title=\"Suggest charts\"\n",
              "                style=\"display:none;\">\n",
              "\n",
              "<svg xmlns=\"http://www.w3.org/2000/svg\" height=\"24px\"viewBox=\"0 0 24 24\"\n",
              "     width=\"24px\">\n",
              "    <g>\n",
              "        <path d=\"M19 3H5c-1.1 0-2 .9-2 2v14c0 1.1.9 2 2 2h14c1.1 0 2-.9 2-2V5c0-1.1-.9-2-2-2zM9 17H7v-7h2v7zm4 0h-2V7h2v10zm4 0h-2v-4h2v4z\"/>\n",
              "    </g>\n",
              "</svg>\n",
              "      </button>\n",
              "\n",
              "<style>\n",
              "  .colab-df-quickchart {\n",
              "      --bg-color: #E8F0FE;\n",
              "      --fill-color: #1967D2;\n",
              "      --hover-bg-color: #E2EBFA;\n",
              "      --hover-fill-color: #174EA6;\n",
              "      --disabled-fill-color: #AAA;\n",
              "      --disabled-bg-color: #DDD;\n",
              "  }\n",
              "\n",
              "  [theme=dark] .colab-df-quickchart {\n",
              "      --bg-color: #3B4455;\n",
              "      --fill-color: #D2E3FC;\n",
              "      --hover-bg-color: #434B5C;\n",
              "      --hover-fill-color: #FFFFFF;\n",
              "      --disabled-bg-color: #3B4455;\n",
              "      --disabled-fill-color: #666;\n",
              "  }\n",
              "\n",
              "  .colab-df-quickchart {\n",
              "    background-color: var(--bg-color);\n",
              "    border: none;\n",
              "    border-radius: 50%;\n",
              "    cursor: pointer;\n",
              "    display: none;\n",
              "    fill: var(--fill-color);\n",
              "    height: 32px;\n",
              "    padding: 0;\n",
              "    width: 32px;\n",
              "  }\n",
              "\n",
              "  .colab-df-quickchart:hover {\n",
              "    background-color: var(--hover-bg-color);\n",
              "    box-shadow: 0 1px 2px rgba(60, 64, 67, 0.3), 0 1px 3px 1px rgba(60, 64, 67, 0.15);\n",
              "    fill: var(--button-hover-fill-color);\n",
              "  }\n",
              "\n",
              "  .colab-df-quickchart-complete:disabled,\n",
              "  .colab-df-quickchart-complete:disabled:hover {\n",
              "    background-color: var(--disabled-bg-color);\n",
              "    fill: var(--disabled-fill-color);\n",
              "    box-shadow: none;\n",
              "  }\n",
              "\n",
              "  .colab-df-spinner {\n",
              "    border: 2px solid var(--fill-color);\n",
              "    border-color: transparent;\n",
              "    border-bottom-color: var(--fill-color);\n",
              "    animation:\n",
              "      spin 1s steps(1) infinite;\n",
              "  }\n",
              "\n",
              "  @keyframes spin {\n",
              "    0% {\n",
              "      border-color: transparent;\n",
              "      border-bottom-color: var(--fill-color);\n",
              "      border-left-color: var(--fill-color);\n",
              "    }\n",
              "    20% {\n",
              "      border-color: transparent;\n",
              "      border-left-color: var(--fill-color);\n",
              "      border-top-color: var(--fill-color);\n",
              "    }\n",
              "    30% {\n",
              "      border-color: transparent;\n",
              "      border-left-color: var(--fill-color);\n",
              "      border-top-color: var(--fill-color);\n",
              "      border-right-color: var(--fill-color);\n",
              "    }\n",
              "    40% {\n",
              "      border-color: transparent;\n",
              "      border-right-color: var(--fill-color);\n",
              "      border-top-color: var(--fill-color);\n",
              "    }\n",
              "    60% {\n",
              "      border-color: transparent;\n",
              "      border-right-color: var(--fill-color);\n",
              "    }\n",
              "    80% {\n",
              "      border-color: transparent;\n",
              "      border-right-color: var(--fill-color);\n",
              "      border-bottom-color: var(--fill-color);\n",
              "    }\n",
              "    90% {\n",
              "      border-color: transparent;\n",
              "      border-bottom-color: var(--fill-color);\n",
              "    }\n",
              "  }\n",
              "</style>\n",
              "\n",
              "      <script>\n",
              "        async function quickchart(key) {\n",
              "          const quickchartButtonEl =\n",
              "            document.querySelector('#' + key + ' button');\n",
              "          quickchartButtonEl.disabled = true;  // To prevent multiple clicks.\n",
              "          quickchartButtonEl.classList.add('colab-df-spinner');\n",
              "          try {\n",
              "            const charts = await google.colab.kernel.invokeFunction(\n",
              "                'suggestCharts', [key], {});\n",
              "          } catch (error) {\n",
              "            console.error('Error during call to suggestCharts:', error);\n",
              "          }\n",
              "          quickchartButtonEl.classList.remove('colab-df-spinner');\n",
              "          quickchartButtonEl.classList.add('colab-df-quickchart-complete');\n",
              "        }\n",
              "        (() => {\n",
              "          let quickchartButtonEl =\n",
              "            document.querySelector('#df-27526d35-88d4-4739-a1a1-a5ec222fe93d button');\n",
              "          quickchartButtonEl.style.display =\n",
              "            google.colab.kernel.accessAllowed ? 'block' : 'none';\n",
              "        })();\n",
              "      </script>\n",
              "    </div>\n",
              "\n",
              "    </div>\n",
              "  </div>\n"
            ],
            "application/vnd.google.colaboratory.intrinsic+json": {
              "type": "dataframe",
              "summary": "{\n  \"name\": \"pd\",\n  \"rows\": 2,\n  \"fields\": [\n    {\n      \"column\": \"state\",\n      \"properties\": {\n        \"dtype\": \"string\",\n        \"num_unique_values\": 2,\n        \"samples\": [\n          \"Ohio\",\n          \"Florida\"\n        ],\n        \"semantic_type\": \"\",\n        \"description\": \"\"\n      }\n    },\n    {\n      \"column\": \"shortname\",\n      \"properties\": {\n        \"dtype\": \"string\",\n        \"num_unique_values\": 2,\n        \"samples\": [\n          \"OH\",\n          \"FL\"\n        ],\n        \"semantic_type\": \"\",\n        \"description\": \"\"\n      }\n    },\n    {\n      \"column\": \"counties\",\n      \"properties\": {\n        \"dtype\": \"object\",\n        \"semantic_type\": \"\",\n        \"description\": \"\"\n      }\n    },\n    {\n      \"column\": \"info.governor\",\n      \"properties\": {\n        \"dtype\": \"string\",\n        \"num_unique_values\": 2,\n        \"samples\": [\n          \"John Kasich\",\n          \"Rick Scott\"\n        ],\n        \"semantic_type\": \"\",\n        \"description\": \"\"\n      }\n    }\n  ]\n}"
            }
          },
          "metadata": {},
          "execution_count": 24
        }
      ],
      "source": [
        "pd.json_normalize(data)"
      ]
    },
    {
      "cell_type": "code",
      "execution_count": null,
      "metadata": {
        "colab": {
          "base_uri": "https://localhost:8080/",
          "height": 206
        },
        "id": "KXMHDs2IhRCU",
        "outputId": "8e1c58e8-adf9-46fd-e267-1904ec094f33"
      },
      "outputs": [
        {
          "output_type": "execute_result",
          "data": {
            "text/plain": [
              "         name  population\n",
              "0        Dade       12345\n",
              "1     Broward       40000\n",
              "2  Palm Beach       60000\n",
              "3      Summit        1234\n",
              "4    Cuyahoga        1337"
            ],
            "text/html": [
              "\n",
              "  <div id=\"df-95b0edc2-2ce4-45a5-b78b-9f00caba8d3e\" class=\"colab-df-container\">\n",
              "    <div>\n",
              "<style scoped>\n",
              "    .dataframe tbody tr th:only-of-type {\n",
              "        vertical-align: middle;\n",
              "    }\n",
              "\n",
              "    .dataframe tbody tr th {\n",
              "        vertical-align: top;\n",
              "    }\n",
              "\n",
              "    .dataframe thead th {\n",
              "        text-align: right;\n",
              "    }\n",
              "</style>\n",
              "<table border=\"1\" class=\"dataframe\">\n",
              "  <thead>\n",
              "    <tr style=\"text-align: right;\">\n",
              "      <th></th>\n",
              "      <th>name</th>\n",
              "      <th>population</th>\n",
              "    </tr>\n",
              "  </thead>\n",
              "  <tbody>\n",
              "    <tr>\n",
              "      <th>0</th>\n",
              "      <td>Dade</td>\n",
              "      <td>12345</td>\n",
              "    </tr>\n",
              "    <tr>\n",
              "      <th>1</th>\n",
              "      <td>Broward</td>\n",
              "      <td>40000</td>\n",
              "    </tr>\n",
              "    <tr>\n",
              "      <th>2</th>\n",
              "      <td>Palm Beach</td>\n",
              "      <td>60000</td>\n",
              "    </tr>\n",
              "    <tr>\n",
              "      <th>3</th>\n",
              "      <td>Summit</td>\n",
              "      <td>1234</td>\n",
              "    </tr>\n",
              "    <tr>\n",
              "      <th>4</th>\n",
              "      <td>Cuyahoga</td>\n",
              "      <td>1337</td>\n",
              "    </tr>\n",
              "  </tbody>\n",
              "</table>\n",
              "</div>\n",
              "    <div class=\"colab-df-buttons\">\n",
              "\n",
              "  <div class=\"colab-df-container\">\n",
              "    <button class=\"colab-df-convert\" onclick=\"convertToInteractive('df-95b0edc2-2ce4-45a5-b78b-9f00caba8d3e')\"\n",
              "            title=\"Convert this dataframe to an interactive table.\"\n",
              "            style=\"display:none;\">\n",
              "\n",
              "  <svg xmlns=\"http://www.w3.org/2000/svg\" height=\"24px\" viewBox=\"0 -960 960 960\">\n",
              "    <path d=\"M120-120v-720h720v720H120Zm60-500h600v-160H180v160Zm220 220h160v-160H400v160Zm0 220h160v-160H400v160ZM180-400h160v-160H180v160Zm440 0h160v-160H620v160ZM180-180h160v-160H180v160Zm440 0h160v-160H620v160Z\"/>\n",
              "  </svg>\n",
              "    </button>\n",
              "\n",
              "  <style>\n",
              "    .colab-df-container {\n",
              "      display:flex;\n",
              "      gap: 12px;\n",
              "    }\n",
              "\n",
              "    .colab-df-convert {\n",
              "      background-color: #E8F0FE;\n",
              "      border: none;\n",
              "      border-radius: 50%;\n",
              "      cursor: pointer;\n",
              "      display: none;\n",
              "      fill: #1967D2;\n",
              "      height: 32px;\n",
              "      padding: 0 0 0 0;\n",
              "      width: 32px;\n",
              "    }\n",
              "\n",
              "    .colab-df-convert:hover {\n",
              "      background-color: #E2EBFA;\n",
              "      box-shadow: 0px 1px 2px rgba(60, 64, 67, 0.3), 0px 1px 3px 1px rgba(60, 64, 67, 0.15);\n",
              "      fill: #174EA6;\n",
              "    }\n",
              "\n",
              "    .colab-df-buttons div {\n",
              "      margin-bottom: 4px;\n",
              "    }\n",
              "\n",
              "    [theme=dark] .colab-df-convert {\n",
              "      background-color: #3B4455;\n",
              "      fill: #D2E3FC;\n",
              "    }\n",
              "\n",
              "    [theme=dark] .colab-df-convert:hover {\n",
              "      background-color: #434B5C;\n",
              "      box-shadow: 0px 1px 3px 1px rgba(0, 0, 0, 0.15);\n",
              "      filter: drop-shadow(0px 1px 2px rgba(0, 0, 0, 0.3));\n",
              "      fill: #FFFFFF;\n",
              "    }\n",
              "  </style>\n",
              "\n",
              "    <script>\n",
              "      const buttonEl =\n",
              "        document.querySelector('#df-95b0edc2-2ce4-45a5-b78b-9f00caba8d3e button.colab-df-convert');\n",
              "      buttonEl.style.display =\n",
              "        google.colab.kernel.accessAllowed ? 'block' : 'none';\n",
              "\n",
              "      async function convertToInteractive(key) {\n",
              "        const element = document.querySelector('#df-95b0edc2-2ce4-45a5-b78b-9f00caba8d3e');\n",
              "        const dataTable =\n",
              "          await google.colab.kernel.invokeFunction('convertToInteractive',\n",
              "                                                    [key], {});\n",
              "        if (!dataTable) return;\n",
              "\n",
              "        const docLinkHtml = 'Like what you see? Visit the ' +\n",
              "          '<a target=\"_blank\" href=https://colab.research.google.com/notebooks/data_table.ipynb>data table notebook</a>'\n",
              "          + ' to learn more about interactive tables.';\n",
              "        element.innerHTML = '';\n",
              "        dataTable['output_type'] = 'display_data';\n",
              "        await google.colab.output.renderOutput(dataTable, element);\n",
              "        const docLink = document.createElement('div');\n",
              "        docLink.innerHTML = docLinkHtml;\n",
              "        element.appendChild(docLink);\n",
              "      }\n",
              "    </script>\n",
              "  </div>\n",
              "\n",
              "\n",
              "    <div id=\"df-21bee66c-eeb1-446d-b50e-0d5aea5a4861\">\n",
              "      <button class=\"colab-df-quickchart\" onclick=\"quickchart('df-21bee66c-eeb1-446d-b50e-0d5aea5a4861')\"\n",
              "                title=\"Suggest charts\"\n",
              "                style=\"display:none;\">\n",
              "\n",
              "<svg xmlns=\"http://www.w3.org/2000/svg\" height=\"24px\"viewBox=\"0 0 24 24\"\n",
              "     width=\"24px\">\n",
              "    <g>\n",
              "        <path d=\"M19 3H5c-1.1 0-2 .9-2 2v14c0 1.1.9 2 2 2h14c1.1 0 2-.9 2-2V5c0-1.1-.9-2-2-2zM9 17H7v-7h2v7zm4 0h-2V7h2v10zm4 0h-2v-4h2v4z\"/>\n",
              "    </g>\n",
              "</svg>\n",
              "      </button>\n",
              "\n",
              "<style>\n",
              "  .colab-df-quickchart {\n",
              "      --bg-color: #E8F0FE;\n",
              "      --fill-color: #1967D2;\n",
              "      --hover-bg-color: #E2EBFA;\n",
              "      --hover-fill-color: #174EA6;\n",
              "      --disabled-fill-color: #AAA;\n",
              "      --disabled-bg-color: #DDD;\n",
              "  }\n",
              "\n",
              "  [theme=dark] .colab-df-quickchart {\n",
              "      --bg-color: #3B4455;\n",
              "      --fill-color: #D2E3FC;\n",
              "      --hover-bg-color: #434B5C;\n",
              "      --hover-fill-color: #FFFFFF;\n",
              "      --disabled-bg-color: #3B4455;\n",
              "      --disabled-fill-color: #666;\n",
              "  }\n",
              "\n",
              "  .colab-df-quickchart {\n",
              "    background-color: var(--bg-color);\n",
              "    border: none;\n",
              "    border-radius: 50%;\n",
              "    cursor: pointer;\n",
              "    display: none;\n",
              "    fill: var(--fill-color);\n",
              "    height: 32px;\n",
              "    padding: 0;\n",
              "    width: 32px;\n",
              "  }\n",
              "\n",
              "  .colab-df-quickchart:hover {\n",
              "    background-color: var(--hover-bg-color);\n",
              "    box-shadow: 0 1px 2px rgba(60, 64, 67, 0.3), 0 1px 3px 1px rgba(60, 64, 67, 0.15);\n",
              "    fill: var(--button-hover-fill-color);\n",
              "  }\n",
              "\n",
              "  .colab-df-quickchart-complete:disabled,\n",
              "  .colab-df-quickchart-complete:disabled:hover {\n",
              "    background-color: var(--disabled-bg-color);\n",
              "    fill: var(--disabled-fill-color);\n",
              "    box-shadow: none;\n",
              "  }\n",
              "\n",
              "  .colab-df-spinner {\n",
              "    border: 2px solid var(--fill-color);\n",
              "    border-color: transparent;\n",
              "    border-bottom-color: var(--fill-color);\n",
              "    animation:\n",
              "      spin 1s steps(1) infinite;\n",
              "  }\n",
              "\n",
              "  @keyframes spin {\n",
              "    0% {\n",
              "      border-color: transparent;\n",
              "      border-bottom-color: var(--fill-color);\n",
              "      border-left-color: var(--fill-color);\n",
              "    }\n",
              "    20% {\n",
              "      border-color: transparent;\n",
              "      border-left-color: var(--fill-color);\n",
              "      border-top-color: var(--fill-color);\n",
              "    }\n",
              "    30% {\n",
              "      border-color: transparent;\n",
              "      border-left-color: var(--fill-color);\n",
              "      border-top-color: var(--fill-color);\n",
              "      border-right-color: var(--fill-color);\n",
              "    }\n",
              "    40% {\n",
              "      border-color: transparent;\n",
              "      border-right-color: var(--fill-color);\n",
              "      border-top-color: var(--fill-color);\n",
              "    }\n",
              "    60% {\n",
              "      border-color: transparent;\n",
              "      border-right-color: var(--fill-color);\n",
              "    }\n",
              "    80% {\n",
              "      border-color: transparent;\n",
              "      border-right-color: var(--fill-color);\n",
              "      border-bottom-color: var(--fill-color);\n",
              "    }\n",
              "    90% {\n",
              "      border-color: transparent;\n",
              "      border-bottom-color: var(--fill-color);\n",
              "    }\n",
              "  }\n",
              "</style>\n",
              "\n",
              "      <script>\n",
              "        async function quickchart(key) {\n",
              "          const quickchartButtonEl =\n",
              "            document.querySelector('#' + key + ' button');\n",
              "          quickchartButtonEl.disabled = true;  // To prevent multiple clicks.\n",
              "          quickchartButtonEl.classList.add('colab-df-spinner');\n",
              "          try {\n",
              "            const charts = await google.colab.kernel.invokeFunction(\n",
              "                'suggestCharts', [key], {});\n",
              "          } catch (error) {\n",
              "            console.error('Error during call to suggestCharts:', error);\n",
              "          }\n",
              "          quickchartButtonEl.classList.remove('colab-df-spinner');\n",
              "          quickchartButtonEl.classList.add('colab-df-quickchart-complete');\n",
              "        }\n",
              "        (() => {\n",
              "          let quickchartButtonEl =\n",
              "            document.querySelector('#df-21bee66c-eeb1-446d-b50e-0d5aea5a4861 button');\n",
              "          quickchartButtonEl.style.display =\n",
              "            google.colab.kernel.accessAllowed ? 'block' : 'none';\n",
              "        })();\n",
              "      </script>\n",
              "    </div>\n",
              "\n",
              "    </div>\n",
              "  </div>\n"
            ],
            "application/vnd.google.colaboratory.intrinsic+json": {
              "type": "dataframe",
              "summary": "{\n  \"name\": \"pd\",\n  \"rows\": 5,\n  \"fields\": [\n    {\n      \"column\": \"name\",\n      \"properties\": {\n        \"dtype\": \"string\",\n        \"num_unique_values\": 5,\n        \"samples\": [\n          \"Broward\",\n          \"Cuyahoga\",\n          \"Palm Beach\"\n        ],\n        \"semantic_type\": \"\",\n        \"description\": \"\"\n      }\n    },\n    {\n      \"column\": \"population\",\n      \"properties\": {\n        \"dtype\": \"number\",\n        \"std\": 26050,\n        \"min\": 1234,\n        \"max\": 60000,\n        \"num_unique_values\": 5,\n        \"samples\": [\n          40000,\n          1337,\n          60000\n        ],\n        \"semantic_type\": \"\",\n        \"description\": \"\"\n      }\n    }\n  ]\n}"
            }
          },
          "metadata": {},
          "execution_count": 25
        }
      ],
      "source": [
        "pd.json_normalize(data, 'counties')"
      ]
    },
    {
      "cell_type": "code",
      "execution_count": null,
      "metadata": {
        "colab": {
          "base_uri": "https://localhost:8080/",
          "height": 206
        },
        "id": "FoFHbEpWhESk",
        "outputId": "a9ab318d-47a5-4c81-fdac-7faca3cdb40f"
      },
      "outputs": [
        {
          "output_type": "execute_result",
          "data": {
            "text/plain": [
              "         name  population    state shortname info.governor\n",
              "0        Dade       12345  Florida        FL    Rick Scott\n",
              "1     Broward       40000  Florida        FL    Rick Scott\n",
              "2  Palm Beach       60000  Florida        FL    Rick Scott\n",
              "3      Summit        1234     Ohio        OH   John Kasich\n",
              "4    Cuyahoga        1337     Ohio        OH   John Kasich"
            ],
            "text/html": [
              "\n",
              "  <div id=\"df-add61e5c-d72c-44bc-9097-d864319625d5\" class=\"colab-df-container\">\n",
              "    <div>\n",
              "<style scoped>\n",
              "    .dataframe tbody tr th:only-of-type {\n",
              "        vertical-align: middle;\n",
              "    }\n",
              "\n",
              "    .dataframe tbody tr th {\n",
              "        vertical-align: top;\n",
              "    }\n",
              "\n",
              "    .dataframe thead th {\n",
              "        text-align: right;\n",
              "    }\n",
              "</style>\n",
              "<table border=\"1\" class=\"dataframe\">\n",
              "  <thead>\n",
              "    <tr style=\"text-align: right;\">\n",
              "      <th></th>\n",
              "      <th>name</th>\n",
              "      <th>population</th>\n",
              "      <th>state</th>\n",
              "      <th>shortname</th>\n",
              "      <th>info.governor</th>\n",
              "    </tr>\n",
              "  </thead>\n",
              "  <tbody>\n",
              "    <tr>\n",
              "      <th>0</th>\n",
              "      <td>Dade</td>\n",
              "      <td>12345</td>\n",
              "      <td>Florida</td>\n",
              "      <td>FL</td>\n",
              "      <td>Rick Scott</td>\n",
              "    </tr>\n",
              "    <tr>\n",
              "      <th>1</th>\n",
              "      <td>Broward</td>\n",
              "      <td>40000</td>\n",
              "      <td>Florida</td>\n",
              "      <td>FL</td>\n",
              "      <td>Rick Scott</td>\n",
              "    </tr>\n",
              "    <tr>\n",
              "      <th>2</th>\n",
              "      <td>Palm Beach</td>\n",
              "      <td>60000</td>\n",
              "      <td>Florida</td>\n",
              "      <td>FL</td>\n",
              "      <td>Rick Scott</td>\n",
              "    </tr>\n",
              "    <tr>\n",
              "      <th>3</th>\n",
              "      <td>Summit</td>\n",
              "      <td>1234</td>\n",
              "      <td>Ohio</td>\n",
              "      <td>OH</td>\n",
              "      <td>John Kasich</td>\n",
              "    </tr>\n",
              "    <tr>\n",
              "      <th>4</th>\n",
              "      <td>Cuyahoga</td>\n",
              "      <td>1337</td>\n",
              "      <td>Ohio</td>\n",
              "      <td>OH</td>\n",
              "      <td>John Kasich</td>\n",
              "    </tr>\n",
              "  </tbody>\n",
              "</table>\n",
              "</div>\n",
              "    <div class=\"colab-df-buttons\">\n",
              "\n",
              "  <div class=\"colab-df-container\">\n",
              "    <button class=\"colab-df-convert\" onclick=\"convertToInteractive('df-add61e5c-d72c-44bc-9097-d864319625d5')\"\n",
              "            title=\"Convert this dataframe to an interactive table.\"\n",
              "            style=\"display:none;\">\n",
              "\n",
              "  <svg xmlns=\"http://www.w3.org/2000/svg\" height=\"24px\" viewBox=\"0 -960 960 960\">\n",
              "    <path d=\"M120-120v-720h720v720H120Zm60-500h600v-160H180v160Zm220 220h160v-160H400v160Zm0 220h160v-160H400v160ZM180-400h160v-160H180v160Zm440 0h160v-160H620v160ZM180-180h160v-160H180v160Zm440 0h160v-160H620v160Z\"/>\n",
              "  </svg>\n",
              "    </button>\n",
              "\n",
              "  <style>\n",
              "    .colab-df-container {\n",
              "      display:flex;\n",
              "      gap: 12px;\n",
              "    }\n",
              "\n",
              "    .colab-df-convert {\n",
              "      background-color: #E8F0FE;\n",
              "      border: none;\n",
              "      border-radius: 50%;\n",
              "      cursor: pointer;\n",
              "      display: none;\n",
              "      fill: #1967D2;\n",
              "      height: 32px;\n",
              "      padding: 0 0 0 0;\n",
              "      width: 32px;\n",
              "    }\n",
              "\n",
              "    .colab-df-convert:hover {\n",
              "      background-color: #E2EBFA;\n",
              "      box-shadow: 0px 1px 2px rgba(60, 64, 67, 0.3), 0px 1px 3px 1px rgba(60, 64, 67, 0.15);\n",
              "      fill: #174EA6;\n",
              "    }\n",
              "\n",
              "    .colab-df-buttons div {\n",
              "      margin-bottom: 4px;\n",
              "    }\n",
              "\n",
              "    [theme=dark] .colab-df-convert {\n",
              "      background-color: #3B4455;\n",
              "      fill: #D2E3FC;\n",
              "    }\n",
              "\n",
              "    [theme=dark] .colab-df-convert:hover {\n",
              "      background-color: #434B5C;\n",
              "      box-shadow: 0px 1px 3px 1px rgba(0, 0, 0, 0.15);\n",
              "      filter: drop-shadow(0px 1px 2px rgba(0, 0, 0, 0.3));\n",
              "      fill: #FFFFFF;\n",
              "    }\n",
              "  </style>\n",
              "\n",
              "    <script>\n",
              "      const buttonEl =\n",
              "        document.querySelector('#df-add61e5c-d72c-44bc-9097-d864319625d5 button.colab-df-convert');\n",
              "      buttonEl.style.display =\n",
              "        google.colab.kernel.accessAllowed ? 'block' : 'none';\n",
              "\n",
              "      async function convertToInteractive(key) {\n",
              "        const element = document.querySelector('#df-add61e5c-d72c-44bc-9097-d864319625d5');\n",
              "        const dataTable =\n",
              "          await google.colab.kernel.invokeFunction('convertToInteractive',\n",
              "                                                    [key], {});\n",
              "        if (!dataTable) return;\n",
              "\n",
              "        const docLinkHtml = 'Like what you see? Visit the ' +\n",
              "          '<a target=\"_blank\" href=https://colab.research.google.com/notebooks/data_table.ipynb>data table notebook</a>'\n",
              "          + ' to learn more about interactive tables.';\n",
              "        element.innerHTML = '';\n",
              "        dataTable['output_type'] = 'display_data';\n",
              "        await google.colab.output.renderOutput(dataTable, element);\n",
              "        const docLink = document.createElement('div');\n",
              "        docLink.innerHTML = docLinkHtml;\n",
              "        element.appendChild(docLink);\n",
              "      }\n",
              "    </script>\n",
              "  </div>\n",
              "\n",
              "\n",
              "    <div id=\"df-e4d64f46-f1ac-4eb9-a999-3e8855392280\">\n",
              "      <button class=\"colab-df-quickchart\" onclick=\"quickchart('df-e4d64f46-f1ac-4eb9-a999-3e8855392280')\"\n",
              "                title=\"Suggest charts\"\n",
              "                style=\"display:none;\">\n",
              "\n",
              "<svg xmlns=\"http://www.w3.org/2000/svg\" height=\"24px\"viewBox=\"0 0 24 24\"\n",
              "     width=\"24px\">\n",
              "    <g>\n",
              "        <path d=\"M19 3H5c-1.1 0-2 .9-2 2v14c0 1.1.9 2 2 2h14c1.1 0 2-.9 2-2V5c0-1.1-.9-2-2-2zM9 17H7v-7h2v7zm4 0h-2V7h2v10zm4 0h-2v-4h2v4z\"/>\n",
              "    </g>\n",
              "</svg>\n",
              "      </button>\n",
              "\n",
              "<style>\n",
              "  .colab-df-quickchart {\n",
              "      --bg-color: #E8F0FE;\n",
              "      --fill-color: #1967D2;\n",
              "      --hover-bg-color: #E2EBFA;\n",
              "      --hover-fill-color: #174EA6;\n",
              "      --disabled-fill-color: #AAA;\n",
              "      --disabled-bg-color: #DDD;\n",
              "  }\n",
              "\n",
              "  [theme=dark] .colab-df-quickchart {\n",
              "      --bg-color: #3B4455;\n",
              "      --fill-color: #D2E3FC;\n",
              "      --hover-bg-color: #434B5C;\n",
              "      --hover-fill-color: #FFFFFF;\n",
              "      --disabled-bg-color: #3B4455;\n",
              "      --disabled-fill-color: #666;\n",
              "  }\n",
              "\n",
              "  .colab-df-quickchart {\n",
              "    background-color: var(--bg-color);\n",
              "    border: none;\n",
              "    border-radius: 50%;\n",
              "    cursor: pointer;\n",
              "    display: none;\n",
              "    fill: var(--fill-color);\n",
              "    height: 32px;\n",
              "    padding: 0;\n",
              "    width: 32px;\n",
              "  }\n",
              "\n",
              "  .colab-df-quickchart:hover {\n",
              "    background-color: var(--hover-bg-color);\n",
              "    box-shadow: 0 1px 2px rgba(60, 64, 67, 0.3), 0 1px 3px 1px rgba(60, 64, 67, 0.15);\n",
              "    fill: var(--button-hover-fill-color);\n",
              "  }\n",
              "\n",
              "  .colab-df-quickchart-complete:disabled,\n",
              "  .colab-df-quickchart-complete:disabled:hover {\n",
              "    background-color: var(--disabled-bg-color);\n",
              "    fill: var(--disabled-fill-color);\n",
              "    box-shadow: none;\n",
              "  }\n",
              "\n",
              "  .colab-df-spinner {\n",
              "    border: 2px solid var(--fill-color);\n",
              "    border-color: transparent;\n",
              "    border-bottom-color: var(--fill-color);\n",
              "    animation:\n",
              "      spin 1s steps(1) infinite;\n",
              "  }\n",
              "\n",
              "  @keyframes spin {\n",
              "    0% {\n",
              "      border-color: transparent;\n",
              "      border-bottom-color: var(--fill-color);\n",
              "      border-left-color: var(--fill-color);\n",
              "    }\n",
              "    20% {\n",
              "      border-color: transparent;\n",
              "      border-left-color: var(--fill-color);\n",
              "      border-top-color: var(--fill-color);\n",
              "    }\n",
              "    30% {\n",
              "      border-color: transparent;\n",
              "      border-left-color: var(--fill-color);\n",
              "      border-top-color: var(--fill-color);\n",
              "      border-right-color: var(--fill-color);\n",
              "    }\n",
              "    40% {\n",
              "      border-color: transparent;\n",
              "      border-right-color: var(--fill-color);\n",
              "      border-top-color: var(--fill-color);\n",
              "    }\n",
              "    60% {\n",
              "      border-color: transparent;\n",
              "      border-right-color: var(--fill-color);\n",
              "    }\n",
              "    80% {\n",
              "      border-color: transparent;\n",
              "      border-right-color: var(--fill-color);\n",
              "      border-bottom-color: var(--fill-color);\n",
              "    }\n",
              "    90% {\n",
              "      border-color: transparent;\n",
              "      border-bottom-color: var(--fill-color);\n",
              "    }\n",
              "  }\n",
              "</style>\n",
              "\n",
              "      <script>\n",
              "        async function quickchart(key) {\n",
              "          const quickchartButtonEl =\n",
              "            document.querySelector('#' + key + ' button');\n",
              "          quickchartButtonEl.disabled = true;  // To prevent multiple clicks.\n",
              "          quickchartButtonEl.classList.add('colab-df-spinner');\n",
              "          try {\n",
              "            const charts = await google.colab.kernel.invokeFunction(\n",
              "                'suggestCharts', [key], {});\n",
              "          } catch (error) {\n",
              "            console.error('Error during call to suggestCharts:', error);\n",
              "          }\n",
              "          quickchartButtonEl.classList.remove('colab-df-spinner');\n",
              "          quickchartButtonEl.classList.add('colab-df-quickchart-complete');\n",
              "        }\n",
              "        (() => {\n",
              "          let quickchartButtonEl =\n",
              "            document.querySelector('#df-e4d64f46-f1ac-4eb9-a999-3e8855392280 button');\n",
              "          quickchartButtonEl.style.display =\n",
              "            google.colab.kernel.accessAllowed ? 'block' : 'none';\n",
              "        })();\n",
              "      </script>\n",
              "    </div>\n",
              "\n",
              "    </div>\n",
              "  </div>\n"
            ],
            "application/vnd.google.colaboratory.intrinsic+json": {
              "type": "dataframe",
              "summary": "{\n  \"name\": \"pd\",\n  \"rows\": 5,\n  \"fields\": [\n    {\n      \"column\": \"name\",\n      \"properties\": {\n        \"dtype\": \"string\",\n        \"num_unique_values\": 5,\n        \"samples\": [\n          \"Broward\",\n          \"Cuyahoga\",\n          \"Palm Beach\"\n        ],\n        \"semantic_type\": \"\",\n        \"description\": \"\"\n      }\n    },\n    {\n      \"column\": \"population\",\n      \"properties\": {\n        \"dtype\": \"number\",\n        \"std\": 26050,\n        \"min\": 1234,\n        \"max\": 60000,\n        \"num_unique_values\": 5,\n        \"samples\": [\n          40000,\n          1337,\n          60000\n        ],\n        \"semantic_type\": \"\",\n        \"description\": \"\"\n      }\n    },\n    {\n      \"column\": \"state\",\n      \"properties\": {\n        \"dtype\": \"category\",\n        \"num_unique_values\": 2,\n        \"samples\": [\n          \"Ohio\",\n          \"Florida\"\n        ],\n        \"semantic_type\": \"\",\n        \"description\": \"\"\n      }\n    },\n    {\n      \"column\": \"shortname\",\n      \"properties\": {\n        \"dtype\": \"category\",\n        \"num_unique_values\": 2,\n        \"samples\": [\n          \"OH\",\n          \"FL\"\n        ],\n        \"semantic_type\": \"\",\n        \"description\": \"\"\n      }\n    },\n    {\n      \"column\": \"info.governor\",\n      \"properties\": {\n        \"dtype\": \"category\",\n        \"num_unique_values\": 2,\n        \"samples\": [\n          \"John Kasich\",\n          \"Rick Scott\"\n        ],\n        \"semantic_type\": \"\",\n        \"description\": \"\"\n      }\n    }\n  ]\n}"
            }
          },
          "metadata": {},
          "execution_count": 26
        }
      ],
      "source": [
        "pd.json_normalize(data, 'counties', ['state', 'shortname', ['info', 'governor']])"
      ]
    },
    {
      "cell_type": "markdown",
      "metadata": {
        "id": "U2ITUXYU_Wye"
      },
      "source": [
        "# YAML parsing\n",
        "- YAML (short for \"YAML Ain't Markup Language\") is a human-readable data serialization format that is commonly used for configuration files, data exchange, and other structured data.\n",
        "- an alternative to more complex formats like XML and JSON.\n",
        "- pyyaml: Python library that enables parsing and serialization of data in YAML format (parsing and conversion)"
      ]
    },
    {
      "cell_type": "markdown",
      "source": [
        "- example 1"
      ],
      "metadata": {
        "id": "W-q_dR2LE9f3"
      }
    },
    {
      "cell_type": "code",
      "source": [
        "!pip install pyyaml"
      ],
      "metadata": {
        "id": "He_UZQeaFMkX",
        "colab": {
          "base_uri": "https://localhost:8080/"
        },
        "outputId": "718b962f-b352-417b-df8b-51801b888e6e"
      },
      "execution_count": null,
      "outputs": [
        {
          "output_type": "stream",
          "name": "stdout",
          "text": [
            "Requirement already satisfied: pyyaml in /usr/local/lib/python3.12/dist-packages (6.0.3)\n"
          ]
        }
      ]
    },
    {
      "cell_type": "code",
      "source": [
        "import yaml\n",
        "\n",
        "yaml_data = \"\"\"\n",
        "name: John Doe\n",
        "age: 30\n",
        "hobbies:\n",
        "  - reading\n",
        "  - hiking\n",
        "  - cooking\n",
        "\"\"\"\n",
        "\n",
        "# Convert YAML to a Python dictionary\n",
        "data = yaml.safe_load(yaml_data)\n",
        "print(data)"
      ],
      "metadata": {
        "colab": {
          "base_uri": "https://localhost:8080/"
        },
        "id": "N0Jt1ySRE6gG",
        "outputId": "5be23273-d4f3-4014-a951-943ae51a9e2c"
      },
      "execution_count": null,
      "outputs": [
        {
          "output_type": "stream",
          "name": "stdout",
          "text": [
            "{'name': 'John Doe', 'age': 30, 'hobbies': ['reading', 'hiking', 'cooking']}\n"
          ]
        }
      ]
    },
    {
      "cell_type": "markdown",
      "source": [
        "- example 2"
      ],
      "metadata": {
        "id": "fl1lsiZjE7_Q"
      }
    },
    {
      "cell_type": "code",
      "execution_count": null,
      "metadata": {
        "colab": {
          "base_uri": "https://localhost:8080/"
        },
        "id": "tg2-43Ki_o8p",
        "outputId": "ad129de7-755b-4b43-80bb-025bef5af205"
      },
      "outputs": [
        {
          "output_type": "stream",
          "name": "stdout",
          "text": [
            "Writing config.yaml\n"
          ]
        }
      ],
      "source": [
        "%%writefile config.yaml\n",
        "# sample YAML configuration file (generateed by ChatGPT)\n",
        "\n",
        "server:\n",
        "  host: localhost\n",
        "  port: 8080\n",
        "\n",
        "database:\n",
        "  host: localhost\n",
        "  port: 5432\n",
        "  user: myuser\n",
        "  password: mypassword"
      ]
    },
    {
      "cell_type": "code",
      "execution_count": null,
      "metadata": {
        "colab": {
          "base_uri": "https://localhost:8080/"
        },
        "id": "VRPh72nY_7Nd",
        "outputId": "bdb2e6f8-0d2c-414d-a83b-78006e51f344"
      },
      "outputs": [
        {
          "output_type": "stream",
          "name": "stdout",
          "text": [
            "# sample YAML configuration file (generateed by ChatGPT)\n",
            "\n",
            "server:\n",
            "  host: localhost\n",
            "  port: 8080\n",
            "\n",
            "database:\n",
            "  host: localhost\n",
            "  port: 5432\n",
            "  user: myuser\n",
            "  password: mypassword\n"
          ]
        }
      ],
      "source": [
        "!cat config.yaml"
      ]
    },
    {
      "cell_type": "code",
      "execution_count": null,
      "metadata": {
        "colab": {
          "base_uri": "https://localhost:8080/"
        },
        "id": "16oUzC32AQUO",
        "outputId": "ed0aa8fc-165f-4cfa-a003-9a227516e45c"
      },
      "outputs": [
        {
          "output_type": "stream",
          "name": "stdout",
          "text": [
            "{'server': {'host': 'localhost', 'port': 8080}, 'database': {'host': 'localhost', 'port': 5432, 'user': 'myuser', 'password': 'mypassword'}}\n",
            "<class 'dict'>\n"
          ]
        }
      ],
      "source": [
        "import yaml\n",
        "\n",
        "with open('config.yaml', 'r') as f:\n",
        "    config = yaml.safe_load(f)\n",
        "    # config = yaml.load(f)        # for more complex types\n",
        "print(config)\n",
        "print(type(config))"
      ]
    },
    {
      "cell_type": "code",
      "source": [
        "print(config['server'])\n",
        "print(config['server']['host'])    # Output: localhost\n",
        "print(config['database']['user'])  # Output: myuser"
      ],
      "metadata": {
        "colab": {
          "base_uri": "https://localhost:8080/"
        },
        "id": "XcJql90RAJcw",
        "outputId": "c59ef37c-19ba-4d5b-8b9e-5ed898479069"
      },
      "execution_count": null,
      "outputs": [
        {
          "output_type": "stream",
          "name": "stdout",
          "text": [
            "{'host': 'localhost', 'port': 8080}\n",
            "localhost\n",
            "myuser\n"
          ]
        }
      ]
    },
    {
      "cell_type": "markdown",
      "metadata": {
        "id": "1aeiqjD05wGg"
      },
      "source": [
        "# HTML Parsing\n",
        "- before you do this example, try to see and run some example HTML files which are in this directory"
      ]
    },
    {
      "cell_type": "markdown",
      "source": [
        "- \\<div> :\"division\"의 줄임말로, 문서 안에서 블록(block)을 구분할 때 사용,\n",
        "  - 기본적으로 한 줄 전체를 차지하는 블록 요소\n",
        "- \\<class> : 태그가 아니라 속성(attribute)으로 div, p, span 등 모든 HTML 태그에 붙일 수 있음\n",
        "  - 스타일이나 동작을 그룹화 (tag 에 붙이는 \"라벨\" 같은 것)\n",
        "  - 같은 class 이름을 여러 요소에 붙일 수 있어서, 여러 요소를 그룹화하는 데 유용\n",
        "- (예시)"
      ],
      "metadata": {
        "id": "C9E3BoO4NASj"
      }
    },
    {
      "cell_type": "markdown",
      "source": [
        "```\n",
        "  <div>이건 하나의 블록입니다</div>\n",
        "  <div>이건 또 다른 블록입니다</div>\n",
        "```\n",
        "```\n",
        "  <div class=\"box\">첫 번째 박스</div>\n",
        "  <div class=\"box\">두 번째 박스</div>\n",
        "  <p class=\"box\">문단도 같은 클래스 적용 가능</p>\n",
        "\n",
        "```\n"
      ],
      "metadata": {
        "id": "QyzshhIyNxVu"
      }
    },
    {
      "cell_type": "markdown",
      "source": [
        "```\n",
        "<div class=\"notice\">\n",
        "  <h2 class=\"title\">공지사항</h2>\n",
        "  <p class=\"content\">오늘은 휴무입니다.</p>\n",
        "</div>\n",
        "```"
      ],
      "metadata": {
        "id": "0RMPKaykzodP"
      }
    },
    {
      "cell_type": "code",
      "execution_count": null,
      "metadata": {
        "id": "L1pc5PFA5wGi"
      },
      "outputs": [],
      "source": [
        "from bs4 import BeautifulSoup"
      ]
    },
    {
      "cell_type": "code",
      "execution_count": null,
      "metadata": {
        "id": "l9nZUy1d5wGj"
      },
      "outputs": [],
      "source": [
        "html_text = \"\"\"\n",
        "<html>\n",
        "<body>\n",
        "  <h1> reading web page with python </h1>\n",
        "     <p> page analysis </p>\n",
        "     <p> page alignment </p>\n",
        "     <td>some text</td><td></td><td><p>more text</p></td><td>even <p>more text</p></td>\n",
        "</body>\n",
        "</html>\n",
        "\"\"\""
      ]
    },
    {
      "cell_type": "code",
      "execution_count": null,
      "metadata": {
        "colab": {
          "base_uri": "https://localhost:8080/"
        },
        "id": "T7eceX_I5wGk",
        "outputId": "ba28a205-1553-47df-fc36-78d4e2185c5c"
      },
      "outputs": [
        {
          "output_type": "execute_result",
          "data": {
            "text/plain": [
              "\n",
              "<html>\n",
              "<body>\n",
              "<h1> reading web page with python </h1>\n",
              "<p> page analysis </p>\n",
              "<p> page alignment </p>\n",
              "<td>some text</td><td></td><td><p>more text</p></td><td>even <p>more text</p></td>\n",
              "</body>\n",
              "</html>"
            ]
          },
          "metadata": {},
          "execution_count": 35
        }
      ],
      "source": [
        "soup = BeautifulSoup(html_text, 'html.parser')\n",
        "soup"
      ]
    },
    {
      "cell_type": "code",
      "execution_count": null,
      "metadata": {
        "colab": {
          "base_uri": "https://localhost:8080/",
          "height": 221
        },
        "id": "MNH7h6Y7gmtu",
        "outputId": "278967da-1f99-40bc-885d-a895951c429b",
        "collapsed": true
      },
      "outputs": [
        {
          "output_type": "execute_result",
          "data": {
            "text/plain": [
              "bs4.BeautifulSoup"
            ],
            "text/html": [
              "<div style=\"max-width:800px; border: 1px solid var(--colab-border-color);\"><style>\n",
              "      pre.function-repr-contents {\n",
              "        overflow-x: auto;\n",
              "        padding: 8px 12px;\n",
              "        max-height: 500px;\n",
              "      }\n",
              "\n",
              "      pre.function-repr-contents.function-repr-contents-collapsed {\n",
              "        cursor: pointer;\n",
              "        max-height: 100px;\n",
              "      }\n",
              "    </style>\n",
              "    <pre style=\"white-space: initial; background:\n",
              "         var(--colab-secondary-surface-color); padding: 8px 12px;\n",
              "         border-bottom: 1px solid var(--colab-border-color);\"><b>bs4.BeautifulSoup</b><br/>def __call__(name: Optional[_StrainableElement]=None, attrs: _StrainableAttributes={}, recursive: bool=True, string: Optional[_StrainableString]=None, limit: Optional[int]=None, _stacklevel: int=2, **kwargs: _StrainableAttribute) -&gt; _QueryResults</pre><pre class=\"function-repr-contents function-repr-contents-collapsed\" style=\"\"><a class=\"filepath\" style=\"display:none\" href=\"#\">/usr/local/lib/python3.12/dist-packages/bs4/__init__.py</a>A data structure representing a parsed HTML or XML document.\n",
              "\n",
              "Most of the methods you&#x27;ll call on a BeautifulSoup object are inherited from\n",
              "PageElement or Tag.\n",
              "\n",
              "Internally, this class defines the basic interface called by the\n",
              "tree builders when converting an HTML/XML document into a data\n",
              "structure. The interface abstracts away the differences between\n",
              "parsers. To write a new tree builder, you&#x27;ll need to understand\n",
              "these methods as a whole.\n",
              "\n",
              "These methods will be called by the BeautifulSoup constructor:\n",
              "  * reset()\n",
              "  * feed(markup)\n",
              "\n",
              "The tree builder may call these methods from its feed() implementation:\n",
              "  * handle_starttag(name, attrs) # See note about return value\n",
              "  * handle_endtag(name)\n",
              "  * handle_data(data) # Appends to the current data node\n",
              "  * endData(containerClass) # Ends the current data node\n",
              "\n",
              "No matter how complicated the underlying parser is, you should be\n",
              "able to build a tree using &#x27;start tag&#x27; events, &#x27;end tag&#x27; events,\n",
              "&#x27;data&#x27; events, and &quot;done with data&quot; events.\n",
              "\n",
              "If you encounter an empty-element tag (aka a self-closing tag,\n",
              "like HTML&#x27;s &lt;br&gt; tag), call handle_starttag and then\n",
              "handle_endtag.</pre>\n",
              "      <script>\n",
              "      if (google.colab.kernel.accessAllowed && google.colab.files && google.colab.files.view) {\n",
              "        for (const element of document.querySelectorAll('.filepath')) {\n",
              "          element.style.display = 'block'\n",
              "          element.onclick = (event) => {\n",
              "            event.preventDefault();\n",
              "            event.stopPropagation();\n",
              "            google.colab.files.view(element.textContent, 135);\n",
              "          };\n",
              "        }\n",
              "      }\n",
              "      for (const element of document.querySelectorAll('.function-repr-contents')) {\n",
              "        element.onclick = (event) => {\n",
              "          event.preventDefault();\n",
              "          event.stopPropagation();\n",
              "          element.classList.toggle('function-repr-contents-collapsed');\n",
              "        };\n",
              "      }\n",
              "      </script>\n",
              "      </div>"
            ]
          },
          "metadata": {},
          "execution_count": 36
        }
      ],
      "source": [
        "type(soup)"
      ]
    },
    {
      "cell_type": "code",
      "execution_count": null,
      "metadata": {
        "colab": {
          "base_uri": "https://localhost:8080/"
        },
        "id": "ehEPCzhKzBZS",
        "outputId": "17fc44f0-4550-442b-dc8e-071d9b1a51f7"
      },
      "outputs": [
        {
          "output_type": "execute_result",
          "data": {
            "text/plain": [
              "<h1> reading web page with python </h1>"
            ]
          },
          "metadata": {},
          "execution_count": 37
        }
      ],
      "source": [
        "soup.h1"
      ]
    },
    {
      "cell_type": "code",
      "execution_count": null,
      "metadata": {
        "colab": {
          "base_uri": "https://localhost:8080/",
          "height": 35
        },
        "id": "zErQ7nI85wGl",
        "outputId": "87c51e98-217a-4507-eb53-e839447c983a"
      },
      "outputs": [
        {
          "output_type": "execute_result",
          "data": {
            "text/plain": [
              "'reading web page with python'"
            ],
            "application/vnd.google.colaboratory.intrinsic+json": {
              "type": "string"
            }
          },
          "metadata": {},
          "execution_count": 38
        }
      ],
      "source": [
        "soup.h1.text.strip()"
      ]
    },
    {
      "cell_type": "code",
      "execution_count": null,
      "metadata": {
        "colab": {
          "base_uri": "https://localhost:8080/"
        },
        "id": "vLfnDeHv5wGl",
        "outputId": "27625a7f-2b2f-4496-cf5c-cd7b73e60c9a"
      },
      "outputs": [
        {
          "output_type": "execute_result",
          "data": {
            "text/plain": [
              "<p> page analysis </p>"
            ]
          },
          "metadata": {},
          "execution_count": 39
        }
      ],
      "source": [
        "soup.p"
      ]
    },
    {
      "cell_type": "code",
      "execution_count": null,
      "metadata": {
        "colab": {
          "base_uri": "https://localhost:8080/"
        },
        "id": "7ISR9s02llOk",
        "outputId": "b5572503-1211-4b49-9215-d710436d5805"
      },
      "outputs": [
        {
          "output_type": "execute_result",
          "data": {
            "text/plain": [
              "<p> page alignment </p>"
            ]
          },
          "metadata": {},
          "execution_count": 40
        }
      ],
      "source": [
        "soup.p.next_sibling.next_sibling"
      ]
    },
    {
      "cell_type": "code",
      "execution_count": null,
      "metadata": {
        "colab": {
          "base_uri": "https://localhost:8080/"
        },
        "id": "Zq81MwKrll5n",
        "outputId": "51ec0fc5-4a3d-4e14-8b3b-56d893b71b6a"
      },
      "outputs": [
        {
          "output_type": "execute_result",
          "data": {
            "text/plain": [
              "<td><p>more text</p></td>"
            ]
          },
          "metadata": {},
          "execution_count": 41
        }
      ],
      "source": [
        "soup.td.next_sibling.next_sibling"
      ]
    },
    {
      "cell_type": "code",
      "execution_count": null,
      "metadata": {
        "colab": {
          "base_uri": "https://localhost:8080/"
        },
        "id": "7AHUShTblmqf",
        "outputId": "022c09d3-0292-4708-863c-5fd830d9a6b2"
      },
      "outputs": [
        {
          "output_type": "stream",
          "name": "stdout",
          "text": [
            "<td></td> \n"
          ]
        }
      ],
      "source": [
        "print(soup.td.next_sibling, soup.td.next_sibling.text)"
      ]
    },
    {
      "cell_type": "code",
      "execution_count": null,
      "metadata": {
        "id": "SsFJFr6B5wGm"
      },
      "outputs": [],
      "source": [
        "html_text2 = \"\"\"\n",
        "<html>\n",
        "<body>\n",
        "  <h1 id=\"title\"> reading web page with python </h1>\n",
        "     <p id=\"body\"> page analysis </p>\n",
        "     <p> page alignment </p>\n",
        "     <td>some text</td><td></td><td><p>more text</p></td><td>even <p>more text</p></td>\n",
        "     <ul>\n",
        "         <li><a href = \"http://www.naver.com\"> naver</a></li>\n",
        "         <li><a href = \"http://www.daum.net\"> daum</a></li>\n",
        "     </ul>\n",
        "  <div id=\"xxx\">\n",
        "    <h1> Wiki-books store </h1>\n",
        "    <ul class=\"item all\">\n",
        "      <li> introduction to game design </li>\n",
        "      <li> introduction to python </li>\n",
        "      <li> introduction to web design </li>\n",
        "    </ul>\n",
        "  </div>\n",
        "</body>\n",
        "</html>\n",
        "\"\"\""
      ]
    },
    {
      "cell_type": "code",
      "execution_count": null,
      "metadata": {
        "id": "Q8QtB1ih5wGm"
      },
      "outputs": [],
      "source": [
        "soup = BeautifulSoup(html_text2, 'html.parser')"
      ]
    },
    {
      "cell_type": "code",
      "execution_count": null,
      "metadata": {
        "colab": {
          "base_uri": "https://localhost:8080/"
        },
        "id": "8YrObZQ8gTWS",
        "outputId": "527a6627-578d-4740-915f-9a5c5da3020a"
      },
      "outputs": [
        {
          "output_type": "execute_result",
          "data": {
            "text/plain": [
              "\n",
              "<html>\n",
              "<body>\n",
              "<h1 id=\"title\"> reading web page with python </h1>\n",
              "<p id=\"body\"> page analysis </p>\n",
              "<p> page alignment </p>\n",
              "<td>some text</td><td></td><td><p>more text</p></td><td>even <p>more text</p></td>\n",
              "<ul>\n",
              "<li><a href=\"http://www.naver.com\"> naver</a></li>\n",
              "<li><a href=\"http://www.daum.net\"> daum</a></li>\n",
              "</ul>\n",
              "<div id=\"xxx\">\n",
              "<h1> Wiki-books store </h1>\n",
              "<ul class=\"item all\">\n",
              "<li> introduction to game design </li>\n",
              "<li> introduction to python </li>\n",
              "<li> introduction to web design </li>\n",
              "</ul>\n",
              "</div>\n",
              "</body>\n",
              "</html>"
            ]
          },
          "metadata": {},
          "execution_count": 45
        }
      ],
      "source": [
        "soup"
      ]
    },
    {
      "cell_type": "code",
      "source": [
        "soup.h1.text.strip()"
      ],
      "metadata": {
        "colab": {
          "base_uri": "https://localhost:8080/",
          "height": 35
        },
        "id": "-qnbf6HdNFgq",
        "outputId": "0a1367c6-5490-4771-a247-aa367c4f1563"
      },
      "execution_count": null,
      "outputs": [
        {
          "output_type": "execute_result",
          "data": {
            "text/plain": [
              "'reading web page with python'"
            ],
            "application/vnd.google.colaboratory.intrinsic+json": {
              "type": "string"
            }
          },
          "metadata": {},
          "execution_count": 46
        }
      ]
    },
    {
      "cell_type": "markdown",
      "metadata": {
        "id": "aIEg2UPN5wGn"
      },
      "source": [
        "## access by tags"
      ]
    },
    {
      "cell_type": "code",
      "source": [
        "soup"
      ],
      "metadata": {
        "colab": {
          "base_uri": "https://localhost:8080/"
        },
        "id": "98-P3QGpN0EW",
        "outputId": "945e7b1a-0c39-409d-8235-af1dd5e22384"
      },
      "execution_count": null,
      "outputs": [
        {
          "output_type": "execute_result",
          "data": {
            "text/plain": [
              "\n",
              "<html>\n",
              "<body>\n",
              "<h1 id=\"title\"> reading web page with python </h1>\n",
              "<p id=\"body\"> page analysis </p>\n",
              "<p> page alignment </p>\n",
              "<td>some text</td><td></td><td><p>more text</p></td><td>even <p>more text</p></td>\n",
              "<ul>\n",
              "<li><a href=\"http://www.naver.com\"> naver</a></li>\n",
              "<li><a href=\"http://www.daum.net\"> daum</a></li>\n",
              "</ul>\n",
              "<div id=\"xxx\">\n",
              "<h1> Wiki-books store </h1>\n",
              "<ul class=\"item all\">\n",
              "<li> introduction to game design </li>\n",
              "<li> introduction to python </li>\n",
              "<li> introduction to web design </li>\n",
              "</ul>\n",
              "</div>\n",
              "</body>\n",
              "</html>"
            ]
          },
          "metadata": {},
          "execution_count": 47
        }
      ]
    },
    {
      "cell_type": "code",
      "execution_count": null,
      "metadata": {
        "colab": {
          "base_uri": "https://localhost:8080/"
        },
        "id": "fJc8yV0_5wGn",
        "outputId": "91a47024-f59a-4ba0-949e-fe1cb32c78a6"
      },
      "outputs": [
        {
          "output_type": "execute_result",
          "data": {
            "text/plain": [
              "<h1 id=\"title\"> reading web page with python </h1>"
            ]
          },
          "metadata": {},
          "execution_count": 48
        }
      ],
      "source": [
        "soup.find(id='title')"
      ]
    },
    {
      "cell_type": "code",
      "execution_count": null,
      "metadata": {
        "colab": {
          "base_uri": "https://localhost:8080/",
          "height": 35
        },
        "id": "qSauNhKj5wGo",
        "outputId": "42e91824-9d40-4931-db25-2d7d3a302809"
      },
      "outputs": [
        {
          "output_type": "execute_result",
          "data": {
            "text/plain": [
              "' page analysis '"
            ],
            "application/vnd.google.colaboratory.intrinsic+json": {
              "type": "string"
            }
          },
          "metadata": {},
          "execution_count": 49
        }
      ],
      "source": [
        "soup.find(id='body').text"
      ]
    },
    {
      "cell_type": "code",
      "execution_count": null,
      "metadata": {
        "colab": {
          "base_uri": "https://localhost:8080/"
        },
        "id": "O691EPRX5wGo",
        "outputId": "1eb5b492-f5fd-4fb3-939d-12e4f42d53c3"
      },
      "outputs": [
        {
          "output_type": "execute_result",
          "data": {
            "text/plain": [
              "[<p id=\"body\"> page analysis </p>,\n",
              " <p> page alignment </p>,\n",
              " <p>more text</p>,\n",
              " <p>more text</p>]"
            ]
          },
          "metadata": {},
          "execution_count": 50
        }
      ],
      "source": [
        "soup.find_all('p')"
      ]
    },
    {
      "cell_type": "code",
      "execution_count": null,
      "metadata": {
        "colab": {
          "base_uri": "https://localhost:8080/"
        },
        "id": "tUZVc6W6MG__",
        "outputId": "e9aa1a25-7665-4945-c408-c271167315d2"
      },
      "outputs": [
        {
          "output_type": "execute_result",
          "data": {
            "text/plain": [
              "[<li><a href=\"http://www.naver.com\"> naver</a></li>,\n",
              " <li><a href=\"http://www.daum.net\"> daum</a></li>,\n",
              " <li> introduction to game design </li>,\n",
              " <li> introduction to python </li>,\n",
              " <li> introduction to web design </li>]"
            ]
          },
          "metadata": {},
          "execution_count": 51
        }
      ],
      "source": [
        "soup.find_all('li')"
      ]
    },
    {
      "cell_type": "code",
      "execution_count": null,
      "metadata": {
        "colab": {
          "base_uri": "https://localhost:8080/"
        },
        "id": "zdPbDZCS5wGp",
        "outputId": "7501720f-2cb4-4083-f26f-037e32d7ac5b"
      },
      "outputs": [
        {
          "output_type": "execute_result",
          "data": {
            "text/plain": [
              "<li><a href=\"http://www.naver.com\"> naver</a></li>"
            ]
          },
          "metadata": {},
          "execution_count": 52
        }
      ],
      "source": [
        "soup.find_all('li')[0]"
      ]
    },
    {
      "cell_type": "code",
      "execution_count": null,
      "metadata": {
        "colab": {
          "base_uri": "https://localhost:8080/"
        },
        "id": "cDVoMV5s5wGq",
        "outputId": "b5e5f9fa-3d60-4476-bd28-b55da580fc7b"
      },
      "outputs": [
        {
          "output_type": "execute_result",
          "data": {
            "text/plain": [
              "(' naver', {})"
            ]
          },
          "metadata": {},
          "execution_count": 53
        }
      ],
      "source": [
        "soup.find_all('li')[0].text, soup.find_all('li')[0].attrs"
      ]
    },
    {
      "cell_type": "code",
      "execution_count": null,
      "metadata": {
        "colab": {
          "base_uri": "https://localhost:8080/"
        },
        "id": "_EvoKIaB5wGq",
        "outputId": "b03a71d8-5756-4bed-e0c0-4fefa76f5a75"
      },
      "outputs": [
        {
          "output_type": "execute_result",
          "data": {
            "text/plain": [
              "[<a href=\"http://www.naver.com\"> naver</a>,\n",
              " <a href=\"http://www.daum.net\"> daum</a>]"
            ]
          },
          "metadata": {},
          "execution_count": 54
        }
      ],
      "source": [
        "soup.find_all('a')"
      ]
    },
    {
      "cell_type": "code",
      "execution_count": null,
      "metadata": {
        "colab": {
          "base_uri": "https://localhost:8080/"
        },
        "id": "_1pJfJ3Z5wGr",
        "outputId": "df9cd8c0-9689-475a-e15a-722a72eac770"
      },
      "outputs": [
        {
          "output_type": "execute_result",
          "data": {
            "text/plain": [
              "(' naver', {'href': 'http://www.naver.com'})"
            ]
          },
          "metadata": {},
          "execution_count": 55
        }
      ],
      "source": [
        "soup.find_all('a')[0].text, soup.find_all('a')[0].attrs"
      ]
    },
    {
      "cell_type": "code",
      "execution_count": null,
      "metadata": {
        "colab": {
          "base_uri": "https://localhost:8080/"
        },
        "id": "apyLHwaP5wGr",
        "outputId": "7fe64bec-dd20-4f65-ac5b-e640873b3da4"
      },
      "outputs": [
        {
          "output_type": "stream",
          "name": "stdout",
          "text": [
            " naver --> http://www.naver.com\n",
            " daum --> http://www.daum.net\n"
          ]
        }
      ],
      "source": [
        "for aa in soup.find_all('a'):\n",
        "    href = aa.attrs['href']\n",
        "    text = aa.text\n",
        "    print (text, \"-->\", href)"
      ]
    },
    {
      "cell_type": "markdown",
      "metadata": {
        "id": "qTwAdY9S5wGr"
      },
      "source": [
        "## access by regular expression"
      ]
    },
    {
      "cell_type": "code",
      "execution_count": null,
      "metadata": {
        "colab": {
          "base_uri": "https://localhost:8080/"
        },
        "id": "eLMhbYg9KUWD",
        "outputId": "4d5f572f-4f15-47b1-b528-2c338e4d647e"
      },
      "outputs": [
        {
          "output_type": "execute_result",
          "data": {
            "text/plain": [
              "\n",
              "<html>\n",
              "<body>\n",
              "<h1 id=\"title\"> reading web page with python </h1>\n",
              "<p id=\"body\"> page analysis </p>\n",
              "<p> page alignment </p>\n",
              "<td>some text</td><td></td><td><p>more text</p></td><td>even <p>more text</p></td>\n",
              "<ul>\n",
              "<li><a href=\"http://www.naver.com\"> naver</a></li>\n",
              "<li><a href=\"http://www.daum.net\"> daum</a></li>\n",
              "</ul>\n",
              "<div id=\"xxx\">\n",
              "<h1> Wiki-books store </h1>\n",
              "<ul class=\"item all\">\n",
              "<li> introduction to game design </li>\n",
              "<li> introduction to python </li>\n",
              "<li> introduction to web design </li>\n",
              "</ul>\n",
              "</div>\n",
              "</body>\n",
              "</html>"
            ]
          },
          "metadata": {},
          "execution_count": 57
        }
      ],
      "source": [
        "soup"
      ]
    },
    {
      "cell_type": "code",
      "execution_count": null,
      "metadata": {
        "colab": {
          "base_uri": "https://localhost:8080/"
        },
        "id": "aN5DfvWq5wGs",
        "outputId": "6f830cd1-3fa9-46b2-8e71-69adfa9cbb6a"
      },
      "outputs": [
        {
          "output_type": "execute_result",
          "data": {
            "text/plain": [
              "[<p id=\"body\"> page analysis </p>,\n",
              " <p> page alignment </p>,\n",
              " <p>more text</p>,\n",
              " <p>more text</p>]"
            ]
          },
          "metadata": {},
          "execution_count": 58
        }
      ],
      "source": [
        "import re\n",
        "soup.find_all(re.compile(\"^p\"))   # tags starting with a character 'p'"
      ]
    },
    {
      "cell_type": "code",
      "execution_count": null,
      "metadata": {
        "colab": {
          "base_uri": "https://localhost:8080/"
        },
        "id": "4AL2y0xb5wGs",
        "outputId": "76ee25e2-fa65-48df-ea55-46ff37dba261"
      },
      "outputs": [
        {
          "output_type": "execute_result",
          "data": {
            "text/plain": [
              "[<div id=\"xxx\">\n",
              " <h1> Wiki-books store </h1>\n",
              " <ul class=\"item all\">\n",
              " <li> introduction to game design </li>\n",
              " <li> introduction to python </li>\n",
              " <li> introduction to web design </li>\n",
              " </ul>\n",
              " </div>]"
            ]
          },
          "metadata": {},
          "execution_count": 59
        }
      ],
      "source": [
        "soup.find_all(re.compile(\"div\" ))"
      ]
    },
    {
      "cell_type": "code",
      "execution_count": null,
      "metadata": {
        "colab": {
          "base_uri": "https://localhost:8080/"
        },
        "id": "eNS3YQsZ5wGs",
        "outputId": "a1d94de5-1ff4-446b-fd68-14574c1cadec"
      },
      "outputs": [
        {
          "output_type": "execute_result",
          "data": {
            "text/plain": [
              "[<a href=\"http://www.naver.com\"> naver</a>,\n",
              " <a href=\"http://www.daum.net\"> daum</a>]"
            ]
          },
          "metadata": {},
          "execution_count": 60
        }
      ],
      "source": [
        "soup.find_all(href=re.compile(\"^http://\"))"
      ]
    },
    {
      "cell_type": "markdown",
      "metadata": {
        "id": "TpJpZ3S35wGt"
      },
      "source": [
        "## access by css (Cascading Style Sheets) selector"
      ]
    },
    {
      "cell_type": "code",
      "execution_count": null,
      "metadata": {
        "colab": {
          "base_uri": "https://localhost:8080/"
        },
        "id": "4yXwItSr5wGt",
        "outputId": "154e2505-5dd1-4cef-f398-79d0c5dc1275"
      },
      "outputs": [
        {
          "output_type": "execute_result",
          "data": {
            "text/plain": [
              "[<h1 id=\"title\"> reading web page with python </h1>,\n",
              " <h1> Wiki-books store </h1>]"
            ]
          },
          "metadata": {},
          "execution_count": 61
        }
      ],
      "source": [
        "soup.select('h1')    # by tags"
      ]
    },
    {
      "cell_type": "code",
      "execution_count": null,
      "metadata": {
        "colab": {
          "base_uri": "https://localhost:8080/"
        },
        "id": "_0BR8KaH5wGt",
        "outputId": "df1c47f9-5869-4317-9ec5-85b0212b0ed4"
      },
      "outputs": [
        {
          "output_type": "execute_result",
          "data": {
            "text/plain": [
              "[<div id=\"xxx\">\n",
              " <h1> Wiki-books store </h1>\n",
              " <ul class=\"item all\">\n",
              " <li> introduction to game design </li>\n",
              " <li> introduction to python </li>\n",
              " <li> introduction to web design </li>\n",
              " </ul>\n",
              " </div>]"
            ]
          },
          "metadata": {},
          "execution_count": 62
        }
      ],
      "source": [
        "soup.select('#xxx')  # by id"
      ]
    },
    {
      "cell_type": "code",
      "execution_count": null,
      "metadata": {
        "colab": {
          "base_uri": "https://localhost:8080/"
        },
        "id": "FiWRVVTh5wGt",
        "outputId": "6ca1f7b5-5111-42a1-c30b-8a449cc6b094",
        "scrolled": true
      },
      "outputs": [
        {
          "output_type": "execute_result",
          "data": {
            "text/plain": [
              "[<ul class=\"item all\">\n",
              " <li> introduction to game design </li>\n",
              " <li> introduction to python </li>\n",
              " <li> introduction to web design </li>\n",
              " </ul>]"
            ]
          },
          "metadata": {},
          "execution_count": 63
        }
      ],
      "source": [
        "soup.select('.item') # by class name"
      ]
    },
    {
      "cell_type": "code",
      "execution_count": null,
      "metadata": {
        "colab": {
          "base_uri": "https://localhost:8080/"
        },
        "id": "0rsqikqD5wGt",
        "outputId": "ce772719-90a6-4d57-f828-0894be05adb6"
      },
      "outputs": [
        {
          "output_type": "execute_result",
          "data": {
            "text/plain": [
              "[<ul class=\"item all\">\n",
              " <li> introduction to game design </li>\n",
              " <li> introduction to python </li>\n",
              " <li> introduction to web design </li>\n",
              " </ul>]"
            ]
          },
          "metadata": {},
          "execution_count": 64
        }
      ],
      "source": [
        "soup.select('div .item')  # multi-components(tag=div, class=item)"
      ]
    },
    {
      "cell_type": "code",
      "execution_count": null,
      "metadata": {
        "colab": {
          "base_uri": "https://localhost:8080/"
        },
        "id": "waPMFRCT5wGu",
        "outputId": "f9fcca5e-aed9-4ae8-ff37-29892488fc89"
      },
      "outputs": [
        {
          "output_type": "execute_result",
          "data": {
            "text/plain": [
              "[<li> introduction to game design </li>,\n",
              " <li> introduction to python </li>,\n",
              " <li> introduction to web design </li>]"
            ]
          },
          "metadata": {},
          "execution_count": 65
        }
      ],
      "source": [
        "soup.select(\"#xxx > ul > li\")  # hierarchy (child)"
      ]
    },
    {
      "cell_type": "code",
      "execution_count": null,
      "metadata": {
        "colab": {
          "base_uri": "https://localhost:8080/"
        },
        "id": "6aBQ71pvLFCj",
        "outputId": "ee99a768-a957-4e6a-c379-10a18d209366"
      },
      "outputs": [
        {
          "output_type": "execute_result",
          "data": {
            "text/plain": [
              "<li> introduction to game design </li>"
            ]
          },
          "metadata": {},
          "execution_count": 66
        }
      ],
      "source": [
        "soup.select_one(\"#xxx > ul > li\")  # hierarchy (child)"
      ]
    },
    {
      "cell_type": "code",
      "execution_count": null,
      "metadata": {
        "colab": {
          "base_uri": "https://localhost:8080/"
        },
        "id": "Ze7cX5cjhfkV",
        "outputId": "ee077071-7f10-4776-bafd-5762f078824b"
      },
      "outputs": [
        {
          "output_type": "execute_result",
          "data": {
            "text/plain": [
              "[<div id=\"xxx\">\n",
              " <h1> Wiki-books store </h1>\n",
              " <ul class=\"item all\">\n",
              " <li> introduction to game design </li>\n",
              " <li> introduction to python </li>\n",
              " <li> introduction to web design </li>\n",
              " </ul>\n",
              " </div>]"
            ]
          },
          "metadata": {},
          "execution_count": 67
        }
      ],
      "source": [
        "soup.select(\"div\")"
      ]
    },
    {
      "cell_type": "code",
      "execution_count": null,
      "metadata": {
        "colab": {
          "base_uri": "https://localhost:8080/"
        },
        "id": "1_--qC3L5wGu",
        "outputId": "30e060e9-0e1c-4083-a838-bfa58f74f0cd"
      },
      "outputs": [
        {
          "output_type": "execute_result",
          "data": {
            "text/plain": [
              "[<ul class=\"item all\">\n",
              " <li> introduction to game design </li>\n",
              " <li> introduction to python </li>\n",
              " <li> introduction to web design </li>\n",
              " </ul>]"
            ]
          },
          "metadata": {},
          "execution_count": 68
        }
      ],
      "source": [
        "soup.select(\"div ul\")   # hierarchy (div tag >>> ul tag) (descendants)"
      ]
    },
    {
      "cell_type": "code",
      "source": [
        "soup.select(\"div li\")"
      ],
      "metadata": {
        "colab": {
          "base_uri": "https://localhost:8080/"
        },
        "id": "MvOEYVlEopaT",
        "outputId": "b762f22f-a8ac-4bbe-de0b-f148cb559480"
      },
      "execution_count": null,
      "outputs": [
        {
          "output_type": "execute_result",
          "data": {
            "text/plain": [
              "[<li> introduction to game design </li>,\n",
              " <li> introduction to python </li>,\n",
              " <li> introduction to web design </li>]"
            ]
          },
          "metadata": {},
          "execution_count": 69
        }
      ]
    },
    {
      "cell_type": "markdown",
      "metadata": {
        "id": "fxTzADFhLkES"
      },
      "source": [
        "- find with classes"
      ]
    },
    {
      "cell_type": "code",
      "execution_count": null,
      "metadata": {
        "colab": {
          "base_uri": "https://localhost:8080/"
        },
        "id": "dKMGq5Ao5wGu",
        "outputId": "d686eba9-2893-40d8-a876-b128d4f2ec5b"
      },
      "outputs": [
        {
          "output_type": "execute_result",
          "data": {
            "text/plain": [
              "[<p class=\"body strikeout\"></p>]"
            ]
          },
          "metadata": {},
          "execution_count": 70
        }
      ],
      "source": [
        "text = '<p class=\"body strikeout\"></p>'\n",
        "\n",
        "soup = BeautifulSoup(text, 'html.parser')\n",
        "soup.find_all(\"p\", class_=\"strikeout\")  # <p> 태그 중에서 class=\"strikeout\" 속성을 가진 것\n",
        "                                        # class 속성은 공백으로 구분된 여러 개의 클래스 이름을 가질 수 있음."
      ]
    },
    {
      "cell_type": "code",
      "execution_count": null,
      "metadata": {
        "colab": {
          "base_uri": "https://localhost:8080/"
        },
        "id": "OzvMQ6lc5wGu",
        "outputId": "a43c81ae-ecf4-4696-c72a-b46a0e37c8e5"
      },
      "outputs": [
        {
          "output_type": "execute_result",
          "data": {
            "text/plain": [
              "[<p class=\"body strikeout\"></p>]"
            ]
          },
          "metadata": {},
          "execution_count": 71
        }
      ],
      "source": [
        "soup.find_all(\"p\", class_=\"body\")"
      ]
    },
    {
      "cell_type": "code",
      "execution_count": null,
      "metadata": {
        "colab": {
          "base_uri": "https://localhost:8080/"
        },
        "id": "tlbTXmUO5wGu",
        "outputId": "b0a56f49-0b43-4637-b1c4-f44e0c8e20b8"
      },
      "outputs": [
        {
          "output_type": "execute_result",
          "data": {
            "text/plain": [
              "[<p class=\"body strikeout\"></p>]"
            ]
          },
          "metadata": {},
          "execution_count": 74
        }
      ],
      "source": [
        "# If you want to search for tags that match two or more CSS classes,\n",
        "# you should use a CSS selector:\n",
        "\n",
        "soup.select(\"p.body.strikeout\")"
      ]
    },
    {
      "cell_type": "code",
      "execution_count": null,
      "metadata": {
        "colab": {
          "base_uri": "https://localhost:8080/"
        },
        "id": "DaSoDjy_L6Ok",
        "outputId": "789ab2bf-cafa-4fc9-c79d-e633a2e35ca6"
      },
      "outputs": [
        {
          "output_type": "execute_result",
          "data": {
            "text/plain": [
              "[<p class=\"body strikeout\"></p>]"
            ]
          },
          "metadata": {},
          "execution_count": 75
        }
      ],
      "source": [
        "soup.select(\"p.strikeout\")"
      ]
    },
    {
      "cell_type": "markdown",
      "metadata": {
        "id": "ZgbOWw_x5wGv"
      },
      "source": [
        "# Example from JOBKOREA (Homework)\n",
        "- confirmed on 2025.10.1\n",
        "- search for 'data scientist', 'seoul' in JobKorea\n",
        "- Remember that web pages are changing upon refreshing."
      ]
    },
    {
      "cell_type": "code",
      "execution_count": null,
      "metadata": {
        "id": "rEJST_5ejFRc"
      },
      "outputs": [],
      "source": [
        "import requests\n",
        "from bs4 import BeautifulSoup\n",
        "import pandas as pd\n",
        "import numpy as np\n",
        "\n",
        "# search for 'data scientist', 'seoul' in JobaKorea\n",
        "url = 'https://www.jobkorea.co.kr/Search/?stext=data%20scientist&local=I000'\n",
        "# url = 'https://www.jobkorea.co.kr/Search/?stext=datascience&local=I000'\n",
        "response = requests.get(url)\n",
        "response.encoding = 'utf-8'\n",
        "soup = BeautifulSoup(response.text, 'html.parser')"
      ]
    },
    {
      "cell_type": "code",
      "source": [
        "response"
      ],
      "metadata": {
        "colab": {
          "base_uri": "https://localhost:8080/"
        },
        "id": "MbebDVZIbuch",
        "outputId": "799c2a8a-97af-4ba4-b6e9-cbd35e3a50e7"
      },
      "execution_count": null,
      "outputs": [
        {
          "output_type": "execute_result",
          "data": {
            "text/plain": [
              "<Response [200]>"
            ]
          },
          "metadata": {},
          "execution_count": 77
        }
      ]
    },
    {
      "cell_type": "code",
      "execution_count": null,
      "metadata": {
        "colab": {
          "base_uri": "https://localhost:8080/",
          "height": 122
        },
        "id": "Yb749hh5ngd8",
        "outputId": "a0218d17-76c8-4a21-f3c5-cf52bd92c7ec"
      },
      "outputs": [
        {
          "output_type": "execute_result",
          "data": {
            "text/plain": [
              "'<!DOCTYPE html><html lang=\"ko\"><head><meta charset=\"utf-8\" /><meta http-equiv=\"X-UA-Compatible\" content=\"IE=edge\" /><title>보안정책</title><style> *{margin:0;padding:0;box-sizing:border-box}body{font-family:\\'NanumGothic\\',\\'나눔고딕\\',\\'Malgun Gothic\\',\\'맑은 고딕\\',sans-serif;background-color:#f8f9fa;line-height:1.6;color:#333;min-height:100vh;display:flex;flex-direction:column}.container{max-width:800px;margin:50px auto;padding:40px 20px;background-color:#fff;box-shadow:0 2px 10px rgba(0,0,0,0.1);border-radius:8px}.header{text-align:center;margin-bottom:40px;padding-bottom:20px;border-bottom:2px solid #e9ecef}.header h1{font-size:28px;font-weight:700;color:#2c3e50;margin:0 0 10px 0}.content{margin-bottom:40px}.content p{font-size:15px;color:#4a5568;margin-bottom:25px;text-align:justify;line-height:1.7;font-weight:400}.content p:last-child{margin-bottom:35px}.contact-info{background:#f7fafc;padding:35px;border-radius:16px;margin-bottom:40px;border:1px solid rgba(102,126,234,0.1);position:relative;overflow:hidden}.contact-info h3{font-size:20px;font-weight:700;color:#2d3748;margin:0 0 25px 0;display:flex;align-items:center;gap:10px}.contact-info h3::before{content:\\'📞\\';font-size:18px}.contact-list{display:flex;flex-direction:column;gap:15px}.contact-item{display:flex;align-items:center}.contact-text strong{color:#2c3e50}.contact-text a{color:#667eea;text-decoration:none;margin-left:8px;font-weight:600;transition:all 0.3s ease;position:relative}.contact-text a:hover{color:#764ba2;text-decoration:none}.contact-text a::after{content:\\'\\';position:absolute;bottom:-2px;left:0;width:0;height:2px;background:#667eea;transition:width 0.3s ease}.contact-text a:hover::after{width:100%}.operating-hours{margin-top:20px;padding-top:20px;border-top:1px solid rgba(102,126,234,0.2)}.operating-hours p{font-size:15px;color:#718096;margin:0;font-weight:500}.footer-message{text-align:center}.footer-message p{font-size:14px;color:#4a5568;font-weight:600}#footer{text-align:center;padding:15px 0;margin-top:auto;border-top:1px solid rgba(102,126,234,0.1);background:rgba(102,126,234,0.03)}#footer .copy{font-size:11px;color:#a0aec0;font-weight:400;letter-spacing:0.3px}</style></head><body><div class=\"container\"><div class=\"header\"><h1>서비스 이용 안내</h1></div><div class=\"content\"><p> 현재 보안 정책에 따라 고객님의 접속이 일시적으로 제한되었습니다. </p><p> 차단은 다음과 같은 경우에 발생할 수 있습니다. 해외 특정 지역(중국 등)에서 접속할 때, 해외에서 짧은 시간 안에 과도하게 접속할 때, 보안업체에서 위험 IP로 분류했을 때, 또는 해킹 시도로 보이는 비정상적인 접속 패턴이 감지될 때입니다. </p><p> 정상적인 이용 중인데도 같은 문제가 반복된다면 고객센터로 연락해 주시기 바랍니다. 확인 후 처리해 드리겠습니다. </p></div><div class=\"contact-info\"><h3>고객센터 연락처</h3><div class=\"contact-list\"><div class=\"contact-item\"><div class=\"contact-text\"><strong>이메일:</strong><a href=\"mailto:helpdesk@albamon.com\">helpdesk@albamon.com</a></div></div><div class=\"contact-item\"><div class=\"contact-text\"><strong>고객센터:</strong><a href=\"tel:1588-9351\">1588-9351</a></div></div><div class=\"operating-hours\"><p><strong>운영시간:</strong> 월~금 09:00~19:00 / 토 09:00~15:00 </p></div></div></div><div class=\"footer-message\"><p> 안전하고 편리한 서비스를 위해 최선을 다하겠습니다. </p><p> 불편을 끼쳐 드려 죄송합니다. </p></div></div><footer id=\"footer\"><div class=\"copy\">ⓒ JOBKOREA LLC. All Rights Reserved.</div></footer></body></html>'"
            ],
            "application/vnd.google.colaboratory.intrinsic+json": {
              "type": "string"
            }
          },
          "metadata": {},
          "execution_count": 78
        }
      ],
      "source": [
        "response.text"
      ]
    },
    {
      "cell_type": "markdown",
      "metadata": {
        "id": "4PLBusx3qMEN"
      },
      "source": [
        "- it seems that the direct access (automatic scraping) to this web page is not allowed.\n",
        "- we can modify our request to include headers that mimic a browser request.\n",
        "  - Added User-Agent Header: We added a User-Agent header to the request. This header is used by web browsers to identify themselves when making requests to web servers.\n",
        "  - By setting a User-Agent that mimics a popular browser (e.g., Google Chrome), **we made our request appear as though it was coming from a real user rather than an automated script.** This helps to avoid being blocked by websites that restrict automated access."
      ]
    },
    {
      "cell_type": "code",
      "execution_count": null,
      "metadata": {
        "id": "NQujp30nqtVw"
      },
      "outputs": [],
      "source": [
        "headers = {\n",
        "    'User-Agent': 'Mozilla/5.0 (Windows NT 10.0; Win64; x64) AppleWebKit/537.36 (KHTML, like Gecko) Chrome/91.0.4472.124 Safari/537.36'\n",
        "}\n",
        "\n",
        "# Fetch the HTML content from the URL with headers\n",
        "response = requests.get(url, headers=headers)\n",
        "response.encoding = 'utf-8'\n",
        "soup = BeautifulSoup(response.text, 'html.parser')"
      ]
    },
    {
      "cell_type": "code",
      "source": [
        "response.text"
      ],
      "metadata": {
        "colab": {
          "base_uri": "https://localhost:8080/",
          "height": 122
        },
        "id": "qlvIk6UJq4Bq",
        "outputId": "f0c1ffb9-c824-494b-9af1-45a95ac5bd5c"
      },
      "execution_count": null,
      "outputs": [
        {
          "output_type": "execute_result",
          "data": {
            "text/plain": [
              "'<!DOCTYPE html><html lang=\"ko\" data-sentry-component=\"RootLayout\" data-sentry-source-file=\"layout.tsx\"><head translate=\"no\"><meta charSet=\"utf-8\"/><meta name=\"viewport\" content=\"width=device-width, initial-scale=1, maximum-scale=1, user-scalable=no\"/><link rel=\"stylesheet\" href=\"https://frontend-app-cdn.jobkorea.co.kr/jobs/_next/static/css/5951755f53fa0018.css\" data-precedence=\"next\"/><link rel=\"stylesheet\" href=\"https://frontend-app-cdn.jobkorea.co.kr/jobs/_next/static/css/f6f733f3ff2e5e6a.css\" data-precedence=\"next\"/><link rel=\"stylesheet\" href=\"https://frontend-app-cdn.jobkorea.co.kr/jobs/_next/static/css/3babffbf2801c6f2.css\" data-precedence=\"next\"/><link rel=\"stylesheet\" href=\"https://frontend-app-cdn.jobkorea.co.kr/jobs/_next/static/css/74063ccf83b6f3f1.css\" data-precedence=\"next\"/><link rel=\"stylesheet\" href=\"https://frontend-app-cdn.jobkorea.co.kr/jobs/_next/static/css/c85e9e7485838538.css\" data-precedence=\"next\"/><link rel=\"stylesheet\" href=\"https://frontend-app-cdn.jobkorea.co.kr/jobs/_next/static/css/a7eb2f650fbf951a.css\" data-precedence=\"next\"/><link rel=\"stylesheet\" href=\"https://frontend-app-cdn.jobkorea.co.kr/jobs/_next/static/css/28218dd05acbf175.css\" data-precedence=\"next\"/><link rel=\"stylesheet\" href=\"https://frontend-app-cdn.jobkorea.co.kr/jobs/_next/static/css/282edd4f84dd2cb3.css\" data-precedence=\"next\"/><link rel=\"stylesheet\" href=\"https://frontend-app-cdn.jobkorea.co.kr/jobs/_next/static/css/26d6b72acf7816c5.css\" data-precedence=\"next\"/><link rel=\"stylesheet\" href=\"https://frontend-app-cdn.jobkorea.co.kr/jobs/_next/static/css/268f2d7e4350720f.css\" data-precedence=\"next\"/><link rel=\"stylesheet\" href=\"https://frontend-app-cdn.jobkorea.co.kr/jobs/_next/static/css/cb1fad432cf81848.css\" data-precedence=\"next\"/><link rel=\"stylesheet\" href=\"https://frontend-app-cdn.jobkorea.co.kr/jobs/_next/static/css/786ae5a5e5af2e04.css\" data-precedence=\"next\"/><link rel=\"stylesheet\" href=\"https://frontend-app-cdn.jobkorea.co.kr/jobs/_next/static/css/a81b5bbee9c41536.css\" data-precedence=\"next\"/><link rel=\"preload\" as=\"script\" fetchPriority=\"low\" href=\"https://frontend-app-cdn.jobkorea.co.kr/jobs/_next/static/chunks/webpack-cdbe501aeb017398.js\"/><script src=\"https://frontend-app-cdn.jobkorea.co.kr/jobs/_next/static/chunks/dd7bd936-e94e46895830ce90.js\" async=\"\"></script><script src=\"https://frontend-app-cdn.jobkorea.co.kr/jobs/_next/static/chunks/3305-72fcdf77f98b5709.js\" async=\"\"></script><script src=\"https://frontend-app-cdn.jobkorea.co.kr/jobs/_next/static/chunks/main-app-2b44863ca70dae8e.js\" async=\"\"></script><script src=\"https://frontend-app-cdn.jobkorea.co.kr/jobs/_next/static/chunks/app/global-error-1c481b0c8bb827ab.js\" async=\"\"></script><script src=\"https://frontend-app-cdn.jobkorea.co.kr/jobs/_next/static/chunks/9687-97741b7e8053c0d8.js\" async=\"\"></script><script src=\"https://frontend-app-cdn.jobkorea.co.kr/jobs/_next/static/chunks/9190-6f8022e2f2894042.js\" async=\"\"></script><script src=\"https://frontend-app-cdn.jobkorea.co.kr/jobs/_next/static/chunks/3957-b8d310888e9915c6.js\" async=\"\"></script><script src=\"https://frontend-app-cdn.jobkorea.co.kr/jobs/_next/static/chunks/5096-7cbddbb09a0d2eaa.js\" async=\"\"></script><script src=\"https://frontend-app-cdn.jobkorea.co.kr/jobs/_next/static/chunks/app/layout-80a1aa68d0daa2e0.js\" async=\"\"></script><script src=\"https://frontend-app-cdn.jobkorea.co.kr/jobs/_next/static/chunks/5849-11654964af4623e7.js\" async=\"\"></script><script src=\"https://frontend-app-cdn.jobkorea.co.kr/jobs/_next/static/chunks/2054-4bbfe28b77f704be.js\" async=\"\"></script><script src=\"https://frontend-app-cdn.jobkorea.co.kr/jobs/_next/static/chunks/6768-2d893325a1130269.js\" async=\"\"></script><script src=\"https://frontend-app-cdn.jobkorea.co.kr/jobs/_next/static/chunks/1260-498a2e8e6218b41f.js\" async=\"\"></script><script src=\"https://frontend-app-cdn.jobkorea.co.kr/jobs/_next/static/chunks/773-5951fff8e76120c6.js\" async=\"\"></script><script src=\"https://frontend-app-cdn.jobkorea.co.kr/jobs/_next/static/chunks/2773-af22dfd0a858e606.js\" async=\"\"></script><script src=\"https://frontend-app-cdn.jobkorea.co.kr/jobs/_next/static/chunks/535-707e6778721971d7.js\" async=\"\"></script><script src=\"https://frontend-app-cdn.jobkorea.co.kr/jobs/_next/static/chunks/870-a745c1813d874972.js\" async=\"\"></script><script src=\"https://frontend-app-cdn.jobkorea.co.kr/jobs/_next/static/chunks/app/Search/%40filter/page-6e7c249c33c31fc6.js\" async=\"\"></script><script src=\"https://frontend-app-cdn.jobkorea.co.kr/jobs/_next/static/chunks/7304-a24ea9b1ab76090e.js\" async=\"\"></script><script src=\"https://frontend-app-cdn.jobkorea.co.kr/jobs/_next/static/chunks/8340-f468737cebbeaa23.js\" async=\"\"></script><script src=\"https://frontend-app-cdn.jobkorea.co.kr/jobs/_next/static/chunks/app/Search/%40mySearch/page-f93ce4602568c056.js\" async=\"\"></script><script src=\"https://frontend-app-cdn.jobkorea.co.kr/jobs/_next/static/chunks/5649-c553d06c10483f80.js\" async=\"\"></script><script src=\"https://frontend-app-cdn.jobkorea.co.kr/jobs/_next/static/chunks/app/Search/%40autoComplete/page-c3a2353024d38999.js\" async=\"\"></script><script src=\"https://frontend-app-cdn.jobkorea.co.kr/jobs/_next/static/chunks/1860-401ad57e11df8e75.js\" async=\"\"></script><script src=\"https://frontend-app-cdn.jobkorea.co.kr/jobs/_next/static/chunks/7725-5743a1fc7d1c75d9.js\" async=\"\"></script><script src=\"https://frontend-app-cdn.jobkorea.co.kr/jobs/_next/static/chunks/app/error-779348ad9bdbbe36.js\" async=\"\"></script><script src=\"https://frontend-app-cdn.jobkorea.co.kr/jobs/_next/static/chunks/7716-e89daaa5e83533f1.js\" async=\"\"></script><script src=\"https://frontend-app-cdn.jobkorea.co.kr/jobs/_next/static/chunks/app/Search/%40keywordBanner/page-4b8383a57926127b.js\" async=\"\"></script><script src=\"https://frontend-app-cdn.jobkorea.co.kr/jobs/_next/static/chunks/app/not-found-cf0e31fa5b0669cc.js\" async=\"\"></script><script src=\"https://frontend-app-cdn.jobkorea.co.kr/jobs/_next/static/chunks/1444-f22663a449629f69.js\" async=\"\"></script><script src=\"https://frontend-app-cdn.jobkorea.co.kr/jobs/_next/static/chunks/1035-f83c44f8912df683.js\" async=\"\"></script><script src=\"https://frontend-app-cdn.jobkorea.co.kr/jobs/_next/static/chunks/app/Search/page-58ba16635c459222.js\" async=\"\"></script><script src=\"https://frontend-app-cdn.jobkorea.co.kr/jobs/_next/static/chunks/2615-0566baa5b78fa285.js\" async=\"\"></script><script src=\"https://frontend-app-cdn.jobkorea.co.kr/jobs/_next/static/chunks/app/Search/layout-fab3d252416d6380.js\" async=\"\"></script><script src=\"https://frontend-app-cdn.jobkorea.co.kr/jobs/_next/static/chunks/4079-f37a394cf2180956.js\" async=\"\"></script><script src=\"https://frontend-app-cdn.jobkorea.co.kr/jobs/_next/static/chunks/app/Search/%40popularList/page-2c9aea10e0064dd5.js\" async=\"\"></script><script src=\"https://frontend-app-cdn.jobkorea.co.kr/jobs/_next/static/chunks/9338-37d82827a592addc.js\" async=\"\"></script><script src=\"https://frontend-app-cdn.jobkorea.co.kr/jobs/_next/static/chunks/app/Search/%40quickMenu/page-d3cfa46bb7ffde20.js\" async=\"\"></script><link rel=\"preload\" href=\"https://ssl.pstatic.net/adimg3.search/adpost/js/adpost_show_ads_v2.min.js\" as=\"script\"/><link rel=\"preload\" href=\"https://www.googletagmanager.com/gtag/js?id=G-GQWHSF87P4\" as=\"script\"/><meta content=\"upgrade-insecure-requests\" http-equiv=\"Content-Security-Policy\" data-sentry-element=\"meta\" data-sentry-source-file=\"layout.tsx\"/><script src=\"https://frontend-app-cdn.jobkorea.co.kr/jobs/__ENV__ac270c78bdcf81fcc1344a8ae35da5c103883f6d.js\"></script><title>&#x27;data scientist&#x27; 관련 📢 채용공고 | 총 266건의 검색결과</title><meta name=\"description\" content=\"&#x27;data scientist&#x27; 검색결과 총 266건- 2025 data scientist 채용정보가 더 알고 싶다면? 기업정보, 취업정보를 No.1 커리어 플랫폼 잡코리아에서 확인해보세요.\"/><meta name=\"author\" content=\"잡코리아\"/><meta name=\"robots\" content=\"index, nofollow\"/><link rel=\"canonical\" href=\"https://www.jobkorea.co.kr/Search/?stext=data scientist\"/><link rel=\"alternate\" media=\"only screen and (max-width: 640px)\" href=\"https://m.jobkorea.co.kr/Search/Adv?Keyword=data scientist\"/><meta property=\"og:title\" content=\"통합검색 | 잡코리아\"/><meta property=\"og:description\" content=\"잡코리아 통합검색으로 채용정보를 쉽고 빠르게 검색해보세요.\"/><meta property=\"og:url\" content=\"https://www.jobkorea.co.kr/Search?stext=data scientist\"/><meta property=\"og:site_name\" content=\"잡코리아\"/><meta property=\"og:locale\" content=\"ko_KR\"/><meta property=\"og:image\" content=\"https://file1.jobkorea.co.kr/banner/share/share_img_01.png\"/><meta property=\"og:image:width\" content=\"200\"/><meta property=\"og:image:height\" content=\"200\"/><meta property=\"og:type\" content=\"website\"/><meta name=\"twitter:card\" content=\"summary_large_image\"/><meta name=\"twitter:title\" content=\"통합검색 | 잡코리아\"/><meta name=\"twitter:description\" content=\"잡코리아 통합검색으로 채용정보를 쉽고 빠르게 검색해보세요.\"/><meta name=\"twitter:image\" content=\"https://file1.jobkorea.co.kr/banner/share/share_img_01.png\"/><meta name=\"twitter:image:width\" content=\"200\"/><meta name=\"twitter:image:height\" content=\"200\"/><link rel=\"alternate\" href=\"ios-app://569092652/https/m.jobkorea.co.kr/Search/Adv?Keyword=data scientist\"/><link rel=\"alternate\" href=\"android-app://com.jobkorea.android/https/m.jobkorea.co.kr/Search/Adv?Keyword=data scientist\"/><script>document.querySelectorAll(\\'body link[rel=\"icon\"], body link[rel=\"apple-touch-icon\"]\\').forEach(el => document.head.appendChild(el))</script><meta name=\"sentry-trace\" content=\"67b640b7c64dc44390f26462ff3bdd53-c4b786f06ed14c50-1\"/><meta name=\"baggage\" content=\"sentry-environment=PRD,sentry-release=ac270c78bdcf81fcc1344a8ae35da5c103883f6d,sentry-public_key=f3275fbc52db1bdf116fc53fd779179d,sentry-trace_id=67b640b7c64dc44390f26462ff3bdd53,sentry-transaction=GET%20%2FSearch,sentry-sampled=true,sentry-sample_rand=0.6413446422205273,sentry-sample_rate=1\"/><script src=\"https://frontend-app-cdn.jobkorea.co.kr/jobs/_next/static/chunks/polyfills-42372ed130431b0a.js\" noModule=\"\"></script></head><body><script>((e,t)=>{let n=e||(null==document?void 0:document.documentElement);try{n.setAttribute(\"data-jds-theme\",t)}catch{}})(null,\"jobkorea\")</script><div class=\"styles_position_relative__dk46tsa5\" data-sentry-element=\"Block\" data-sentry-component=\"SkipNavigation\" data-sentry-source-file=\"index.tsx\" style=\"width:100%\"><a class=\"wzdv1x0\" href=\"#main\"><span data-accent-color=\"gray700\" data-sentry-element=\"Typography\" data-sentry-source-file=\"index.tsx\" class=\"Typography_variant_size16__344nw26 Typography_weight_regular__344nw2e Typography_color_gray700__344nw2o\">Skip to main content</span></a></div><div style=\"background-color:#F9F9FB;min-width:1280px\"><div class=\"styles_position_sticky__dk46tsa8 Shadow_root_list__bm2zcc6\" data-sentry-element=\"Block\" data-sentry-source-file=\"index.tsx\" style=\"left:0;right:0;top:0;background-color:var(--jds-color-base-white);z-index:1;min-width:1280px\"><header class=\"jvtm3g0\"><div data-sentry-element=\"Flex\" data-sentry-source-file=\"index.tsx\" style=\"width:1280px\" class=\"Flex_display_flex__i0l0hl2 Flex_justify_space-between__i0l0hlf jvtm3g1\"><div data-sentry-element=\"Flex\" data-sentry-source-file=\"index.tsx\" class=\"Flex_display_flex__i0l0hl2 Flex_direction_column__i0l0hl4\"><div data-sentry-element=\"Flex\" data-sentry-source-file=\"index.tsx\" class=\"Flex_display_flex__i0l0hl2\"><div data-sentry-element=\"Flex\" data-sentry-source-file=\"index.tsx\" style=\"height:70px;width:144px\" class=\"Flex_display_flex__i0l0hl2 Flex_align_center__i0l0hl8\"><a href=\"https://www.jobkorea.co.kr\" data-sentry-element=\"BaseLink\" data-sentry-source-file=\"index.tsx\" class=\"\" style=\"width:144px\"><img alt=\"JOBKOREA\" data-sentry-element=\"NextImage\" data-sentry-source-file=\"index.tsx\" data-sentry-component=\"Image\" loading=\"lazy\" width=\"144\" height=\"70\" decoding=\"async\" data-nimg=\"1\" style=\"color:transparent\" src=\"https://frontend-app-cdn.jobkorea.co.kr/jobs/images/JK-PC.gif\"/></a></div><div data-sentry-element=\"Flex\" data-sentry-component=\"Search\" data-sentry-source-file=\"index.tsx\" class=\"Flex_display_flex__i0l0hl2 Flex_direction_column__i0l0hl4 Flex_align_center__i0l0hl8 Flex_justify_center__i0l0hld styles_position_relative__dk46tsa5 styles_ml_space20__dk46ts2i _1wctqlj0\"><div class=\"styles_position_relative__dk46tsa5\" style=\"width:100%\"><div tabindex=\"-1\" data-sentry-element=\"AutoComplete.Root\" data-sentry-source-file=\"index.tsx\" class=\"\" style=\"width:440px\" cmdk-root=\"\"><label cmdk-label=\"\" for=\"radix-«Rfe9dqdbH2»\" id=\"radix-«Rfe9dqdbH1»\" style=\"position:absolute;width:1px;height:1px;padding:0;margin:-1px;overflow:hidden;clip:rect(0, 0, 0, 0);white-space:nowrap;border-width:0\">검색어를 입력해 주세요.</label><div style=\"width:100%\" class=\"Flex_display_flex__i0l0hl2 Flex_align_center__i0l0hl8\"><div style=\"height:44px\" class=\"Flex_display_flex__i0l0hl2 Flex_gap_space8__i0l0hlv Flex_align_center__i0l0hl8 TextField_root__f0fwwz0 TextField_size_small__f0fwwz7 TextField_variant_default__f0fwwz2 _1nivn7a0 _1nivn7a1\"><div style=\"height:100%;width:100%\" class=\"Flex_display_flex__i0l0hl2 Flex_align_center__i0l0hl8\"><input spellCheck=\"false\" maxLength=\"30\" data-auto-complete=\"true\" placeholder=\"검색어를 입력해주세요.\" cmdk-input=\"\" autoComplete=\"off\" autoCorrect=\"off\" aria-autocomplete=\"list\" role=\"combobox\" aria-expanded=\"true\" aria-controls=\"radix-«Rfe9dqdb»\" aria-labelledby=\"radix-«Rfe9dqdbH1»\" id=\"radix-«Rfe9dqdbH2»\" type=\"text\" class=\"TextField_input__f0fwwz1 TextField_align_left__f0fwwz4\" value=\"data scientist\"/></div><div data-position=\"right\" class=\"Flex_display_flex__i0l0hl2 Flex_gapX_space8__i0l0hlw \"><button type=\"button\" data-sentry-component=\"BaseButton\" data-sentry-source-file=\"index.tsx\"><i class=\"jds-icon jds-icon--system_search Icon_root__1516qwb0 Icon_color_primary__1516qwb7 Icon_size_24__1516qwbm _1nivn7a2\" title=\"검색\"></i></button></div></div></div><div class=\"_1wctqlj1\" data-sentry-element=\"Block\" data-sentry-source-file=\"index.tsx\"><div style=\"z-index:1\"><div data-sentry-element=\"AutoComplete.List\" data-sentry-source-file=\"index.tsx\" cmdk-list=\"\" role=\"listbox\" tabindex=\"-1\" aria-label=\"Suggestions\" id=\"radix-«Rfe9dqdb»\"><div cmdk-list-sizer=\"\"></div></div></div></div></div></div></div><div data-sentry-element=\"Flex\" data-sentry-component=\"Popular\" data-sentry-source-file=\"index.tsx\" class=\"Flex_display_flex__i0l0hl2 Flex_align_center__i0l0hl8 Flex_justify_center__i0l0hld styles_ml_space32__dk46ts5m _1f942491\"><div class=\"\" data-sentry-element=\"Block\" data-sentry-source-file=\"index.tsx\"><span data-accent-color=\"gray900\" data-sentry-element=\"Typography\" data-sentry-source-file=\"index.tsx\" class=\"Typography_variant_size16__344nw26 Typography_weight_medium__344nw2d Typography_color_gray900__344nw2m _1f942490\">인기검색어</span><div class=\"swiper _1f942492\" data-sentry-element=\"Swiper\" data-sentry-source-file=\"index.tsx\"><div class=\"swiper-wrapper\"><div class=\"swiper-slide _1f942493\"><div class=\"Flex_display_flex__i0l0hl2\"><span class=\"_1f942494 _1f942495\"><span data-accent-color=\"white\" class=\"Typography_variant_size14__344nw27 Typography_weight_medium__344nw2d Typography_color_white__344nw2r\">1</span></span><span data-accent-color=\"gray900\" class=\"Typography_variant_size14__344nw27 Typography_weight_regular__344nw2e Typography_color_gray900__344nw2m Typography_truncate__344nw2y\">사무</span></div></div><div class=\"swiper-slide _1f942493\"><div class=\"Flex_display_flex__i0l0hl2\"><span class=\"_1f942494 _1f942495\"><span data-accent-color=\"white\" class=\"Typography_variant_size14__344nw27 Typography_weight_medium__344nw2d Typography_color_white__344nw2r\">2</span></span><span data-accent-color=\"gray900\" class=\"Typography_variant_size14__344nw27 Typography_weight_regular__344nw2e Typography_color_gray900__344nw2m Typography_truncate__344nw2y\">영업관리</span></div></div><div class=\"swiper-slide _1f942493\"><div class=\"Flex_display_flex__i0l0hl2\"><span class=\"_1f942494 _1f942495\"><span data-accent-color=\"white\" class=\"Typography_variant_size14__344nw27 Typography_weight_medium__344nw2d Typography_color_white__344nw2r\">3</span></span><span data-accent-color=\"gray900\" class=\"Typography_variant_size14__344nw27 Typography_weight_regular__344nw2e Typography_color_gray900__344nw2m Typography_truncate__344nw2y\">회계</span></div></div><div class=\"swiper-slide _1f942493\"><div class=\"Flex_display_flex__i0l0hl2\"><span class=\"_1f942494 \"><span data-accent-color=\"white\" class=\"Typography_variant_size14__344nw27 Typography_weight_medium__344nw2d Typography_color_white__344nw2r\">4</span></span><span data-accent-color=\"gray900\" class=\"Typography_variant_size14__344nw27 Typography_weight_regular__344nw2e Typography_color_gray900__344nw2m Typography_truncate__344nw2y\">디자인</span></div></div><div class=\"swiper-slide _1f942493\"><div class=\"Flex_display_flex__i0l0hl2\"><span class=\"_1f942494 \"><span data-accent-color=\"white\" class=\"Typography_variant_size14__344nw27 Typography_weight_medium__344nw2d Typography_color_white__344nw2r\">5</span></span><span data-accent-color=\"gray900\" class=\"Typography_variant_size14__344nw27 Typography_weight_regular__344nw2e Typography_color_gray900__344nw2m Typography_truncate__344nw2y\">마케팅</span></div></div><div class=\"swiper-slide _1f942493\"><div class=\"Flex_display_flex__i0l0hl2\"><span class=\"_1f942494 \"><span data-accent-color=\"white\" class=\"Typography_variant_size14__344nw27 Typography_weight_medium__344nw2d Typography_color_white__344nw2r\">6</span></span><span data-accent-color=\"gray900\" class=\"Typography_variant_size14__344nw27 Typography_weight_regular__344nw2e Typography_color_gray900__344nw2m Typography_truncate__344nw2y\">java</span></div></div><div class=\"swiper-slide _1f942493\"><div class=\"Flex_display_flex__i0l0hl2\"><span class=\"_1f942494 \"><span data-accent-color=\"white\" class=\"Typography_variant_size14__344nw27 Typography_weight_medium__344nw2d Typography_color_white__344nw2r\">7</span></span><span data-accent-color=\"gray900\" class=\"Typography_variant_size14__344nw27 Typography_weight_regular__344nw2e Typography_color_gray900__344nw2m Typography_truncate__344nw2y\">영업지원</span></div></div><div class=\"swiper-slide _1f942493\"><div class=\"Flex_display_flex__i0l0hl2\"><span class=\"_1f942494 \"><span data-accent-color=\"white\" class=\"Typography_variant_size14__344nw27 Typography_weight_medium__344nw2d Typography_color_white__344nw2r\">8</span></span><span data-accent-color=\"gray900\" class=\"Typography_variant_size14__344nw27 Typography_weight_regular__344nw2e Typography_color_gray900__344nw2m Typography_truncate__344nw2y\">안전관리자</span></div></div><div class=\"swiper-slide _1f942493\"><div class=\"Flex_display_flex__i0l0hl2\"><span class=\"_1f942494 \"><span data-accent-color=\"white\" class=\"Typography_variant_size14__344nw27 Typography_weight_medium__344nw2d Typography_color_white__344nw2r\">9</span></span><span data-accent-color=\"gray900\" class=\"Typography_variant_size14__344nw27 Typography_weight_regular__344nw2e Typography_color_gray900__344nw2m Typography_truncate__344nw2y\">총무</span></div></div><div class=\"swiper-slide _1f942493\"><div class=\"Flex_display_flex__i0l0hl2\"><span class=\"_1f942494 \"><span data-accent-color=\"white\" class=\"Typography_variant_size14__344nw27 Typography_weight_medium__344nw2d Typography_color_white__344nw2r\">10</span></span><span data-accent-color=\"gray900\" class=\"Typography_variant_size14__344nw27 Typography_weight_regular__344nw2e Typography_color_gray900__344nw2m Typography_truncate__344nw2y\">전기기사</span></div></div></div></div></div></div></div></div><div data-sentry-element=\"Flex\" data-sentry-source-file=\"index.tsx\" style=\"width:1280px\" class=\"Flex_display_flex__i0l0hl2 Flex_gap_space20__i0l0hl11 Flex_align_center__i0l0hl8 Flex_justify_flex-end__i0l0hle\"><div data-sentry-element=\"Flex\" data-sentry-source-file=\"index.tsx\" class=\"Flex_display_flex__i0l0hl2 Flex_gap_space20__i0l0hl11 Flex_align_center__i0l0hl8\"><a href=\"https://www.jobkorea.co.kr/Login/Login_Tot.asp?re_url=%2FSearch%3Fstext%3Ddata%2520scientist%26local%3DI000\" data-sentry-element=\"BaseLink\" data-sentry-component=\"Login\" data-sentry-source-file=\"index.tsx\">로그인</a><a href=\"https://www.jobkorea.co.kr/Join/M_Regist\" data-sentry-element=\"BaseLink\" data-sentry-component=\"Join\" data-sentry-source-file=\"index.tsx\">회원가입</a></div><button type=\"button\" data-sentry-element=\"BaseButton\" data-sentry-source-file=\"index.tsx\" data-sentry-component=\"BaseButton\" class=\"Flex_display_flex__i0l0hl2 Flex_gap_space4__i0l0hly Flex_align_center__i0l0hl8\"><i class=\"jds-icon jds-icon--system_menu Icon_root__1516qwb0 Icon_color_gray900__1516qwb1 Icon_size_24__1516qwbm\" data-sentry-element=\"Icon\" data-sentry-source-file=\"index.tsx\"></i><span style=\"position:absolute;border:0;width:1px;height:1px;padding:0;margin:-1px;overflow:hidden;clip:rect(0, 0, 0, 0);white-space:nowrap;word-wrap:normal\">전체메뉴</span><span data-accent-color=\"gray900\" data-sentry-element=\"Typography\" data-sentry-source-file=\"index.tsx\" class=\"Typography_variant_size16__344nw26 Typography_weight_regular__344nw2e Typography_color_gray900__344nw2m\">전체메뉴</span></button></div></div></header><div data-sentry-component=\"TotalMenu\" data-sentry-source-file=\"index.tsx\"></div><div class=\"jvtm3g5\" data-is-top=\"true\" data-sentry-element=\"Block\" data-sentry-source-file=\"index.tsx\" style=\"width:1280px\"><div data-orientation=\"horizontal\" dir=\"ltr\" data-sentry-element=\"Tabs.Root\" data-sentry-component=\"Tab\" data-sentry-source-file=\"index.tsx\" class=\"Tabs_root__1cw1bss0\"><div aria-orientation=\"horizontal\" role=\"tablist\" data-sentry-element=\"Tabs.List\" data-sentry-source-file=\"index.tsx\" data-orientation=\"horizontal\" tabindex=\"-1\" style=\"outline:none\" class=\"Flex_display_flex__i0l0hl2 Flex_gap_space20__i0l0hl11 Tabs_list_blackline__1cw1bss5\"><button aria-controls=\"jk-«R3dqdb»-content-recruit\" aria-selected=\"true\" data-state=\"active\" id=\"jk-«R3dqdb»-trigger-recruit\" role=\"tab\" type=\"button\" data-sentry-element=\"Tabs.Trigger\" data-sentry-source-file=\"index.tsx\" class=\"Tabs_triggerBase__1cw1bss7 Tabs_trigger_blackline__1cw1bssc\" style=\"flex:none;width:84px\" data-orientation=\"horizontal\" tabindex=\"-1\" data-collection-item=\"\"><span data-accent-color=\"gray700\" data-sentry-element=\"Tabs.TriggerText\" data-sentry-source-file=\"index.tsx\" class=\"Typography_variant_size16__344nw26 Typography_weight_regular__344nw2e Typography_color_gray700__344nw2o Tabs_triggerText_blackline__1cw1bssi\">채용정보</span></button><button aria-controls=\"jk-«R3dqdb»-content-corp\" aria-selected=\"false\" data-state=\"inactive\" id=\"jk-«R3dqdb»-trigger-corp\" role=\"tab\" type=\"button\" data-sentry-element=\"Tabs.Trigger\" data-sentry-source-file=\"index.tsx\" class=\"Tabs_triggerBase__1cw1bss7 Tabs_trigger_blackline__1cw1bssc\" style=\"flex:none;width:84px\" data-orientation=\"horizontal\" tabindex=\"-1\" data-collection-item=\"\"><span data-accent-color=\"gray700\" data-sentry-element=\"Tabs.TriggerText\" data-sentry-source-file=\"index.tsx\" class=\"Typography_variant_size16__344nw26 Typography_weight_regular__344nw2e Typography_color_gray700__344nw2o Tabs_triggerText_blackline__1cw1bssi\">기업정보</span></button></div></div></div><div class=\"jvtm3g7\" data-sentry-element=\"Block\" data-sentry-source-file=\"index.tsx\"><div class=\"styles_py_space12__dk46ts1f jvtm3g4\" data-sentry-element=\"Block\" data-sentry-source-file=\"index.tsx\"><div data-sentry-element=\"Flex\" data-sentry-source-file=\"index.tsx\" style=\"width:1280px\" class=\"Flex_display_flex__i0l0hl2 Flex_gap_space6__i0l0hl1g Flex_justify_space-between__i0l0hlf jvtm3g3\"><div data-sentry-element=\"Flex\" data-sentry-component=\"FilterList\" data-sentry-source-file=\"index.tsx\" class=\"Flex_display_flex__i0l0hl2 Flex_gap_space6__i0l0hl1g\"><button type=\"button\" class=\"_15oh4073\" data-sentry-component=\"BaseButton\" data-sentry-source-file=\"index.tsx\"><i class=\"jds-icon jds-icon--system_redo Icon_root__1516qwb0 Icon_color_gray900__1516qwb1 Icon_size_20__1516qwbl\"></i></button><button type=\"button\" class=\"_15oh4071\" data-sentry-element=\"BaseButton\" data-sentry-source-file=\"index.tsx\" aria-controls=\"jk-«R13rcdqdb»\" aria-expanded=\"false\" aria-haspopup=\"dialog\" data-state=\"closed\" data-sentry-component=\"BaseButton\"><p data-accent-color=\"gray900\" data-sentry-element=\"Typography\" data-sentry-source-file=\"index.tsx\" class=\"Typography_variant_size14__344nw27 Typography_weight_regular__344nw2e Typography_color_gray900__344nw2m Typography_truncate__344nw2y Flex_display_flex__i0l0hl2 Flex_gap_space2__i0l0hl1j\">직무</p><i class=\"jds-icon jds-icon--system_arrow_down Icon_root__1516qwb0 Icon_color_gray500__1516qwb6 Icon_size_16__1516qwbk\" data-sentry-element=\"Icon\" data-sentry-source-file=\"index.tsx\"></i></button><button type=\"button\" class=\"_15oh4071 _15oh4072\" data-sentry-element=\"BaseButton\" data-sentry-source-file=\"index.tsx\" aria-controls=\"jk-«R1jrcdqdb»\" aria-expanded=\"false\" aria-haspopup=\"dialog\" data-state=\"closed\" data-sentry-component=\"BaseButton\"><p data-accent-color=\"gray900\" data-sentry-element=\"Typography\" data-sentry-source-file=\"index.tsx\" class=\"Typography_variant_size14__344nw27 Typography_weight_regular__344nw2e Typography_color_gray900__344nw2m Typography_truncate__344nw2y Flex_display_flex__i0l0hl2 Flex_gap_space2__i0l0hl1j\">지역<span data-accent-color=\"theme-primary\" class=\"Typography_variant_size14__344nw27 Typography_weight_medium__344nw2d Typography_color_theme-primary__344nw2f\">1</span></p><i class=\"jds-icon jds-icon--system_arrow_down Icon_root__1516qwb0 Icon_color_gray900__1516qwb1 Icon_size_16__1516qwbk\" data-sentry-element=\"Icon\" data-sentry-source-file=\"index.tsx\"></i></button><button type=\"button\" class=\"_15oh4071\" data-sentry-element=\"BaseButton\" data-sentry-source-file=\"index.tsx\" aria-controls=\"jk-«R23rcdqdb»\" aria-expanded=\"false\" aria-haspopup=\"dialog\" data-state=\"closed\" data-sentry-component=\"BaseButton\"><p data-accent-color=\"gray900\" data-sentry-element=\"Typography\" data-sentry-source-file=\"index.tsx\" class=\"Typography_variant_size14__344nw27 Typography_weight_regular__344nw2e Typography_color_gray900__344nw2m Typography_truncate__344nw2y Flex_display_flex__i0l0hl2 Flex_gap_space2__i0l0hl1j\">경력</p><i class=\"jds-icon jds-icon--system_arrow_down Icon_root__1516qwb0 Icon_color_gray500__1516qwb6 Icon_size_16__1516qwbk\" data-sentry-element=\"Icon\" data-sentry-source-file=\"index.tsx\"></i></button><button type=\"button\" class=\"_15oh4071\" data-sentry-element=\"BaseButton\" data-sentry-source-file=\"index.tsx\" aria-controls=\"jk-«R2jrcdqdb»\" aria-expanded=\"false\" aria-haspopup=\"dialog\" data-state=\"closed\" data-sentry-component=\"BaseButton\"><p data-accent-color=\"gray900\" data-sentry-element=\"Typography\" data-sentry-source-file=\"index.tsx\" class=\"Typography_variant_size14__344nw27 Typography_weight_regular__344nw2e Typography_color_gray900__344nw2m Typography_truncate__344nw2y Flex_display_flex__i0l0hl2 Flex_gap_space2__i0l0hl1j\">기업형태</p><i class=\"jds-icon jds-icon--system_arrow_down Icon_root__1516qwb0 Icon_color_gray500__1516qwb6 Icon_size_16__1516qwbk\" data-sentry-element=\"Icon\" data-sentry-source-file=\"index.tsx\"></i></button><button type=\"button\" class=\"_15oh4071\" data-sentry-element=\"BaseButton\" data-sentry-source-file=\"index.tsx\" aria-controls=\"jk-«R33rcdqdb»\" aria-expanded=\"false\" aria-haspopup=\"dialog\" data-state=\"closed\" data-sentry-component=\"BaseButton\"><p data-accent-color=\"gray900\" data-sentry-element=\"Typography\" data-sentry-source-file=\"index.tsx\" class=\"Typography_variant_size14__344nw27 Typography_weight_regular__344nw2e Typography_color_gray900__344nw2m Typography_truncate__344nw2y Flex_display_flex__i0l0hl2 Flex_gap_space2__i0l0hl1j\">학력</p><i class=\"jds-icon jds-icon--system_arrow_down Icon_root__1516qwb0 Icon_color_gray500__1516qwb6 Icon_size_16__1516qwbk\" data-sentry-element=\"Icon\" data-sentry-source-file=\"index.tsx\"></i></button><button type=\"button\" class=\"_15oh4071\" data-sentry-element=\"BaseButton\" data-sentry-source-file=\"index.tsx\" aria-controls=\"jk-«R3jrcdqdb»\" aria-expanded=\"false\" aria-haspopup=\"dialog\" data-state=\"closed\" data-sentry-component=\"BaseButton\"><p data-accent-color=\"gray900\" data-sentry-element=\"Typography\" data-sentry-source-file=\"index.tsx\" class=\"Typography_variant_size14__344nw27 Typography_weight_regular__344nw2e Typography_color_gray900__344nw2m Typography_truncate__344nw2y Flex_display_flex__i0l0hl2 Flex_gap_space2__i0l0hl1j\">고용형태</p><i class=\"jds-icon jds-icon--system_arrow_down Icon_root__1516qwb0 Icon_color_gray500__1516qwb6 Icon_size_16__1516qwbk\" data-sentry-element=\"Icon\" data-sentry-source-file=\"index.tsx\"></i></button><button type=\"button\" class=\"_15oh4071\" data-sentry-element=\"BaseButton\" data-sentry-source-file=\"index.tsx\" data-sentry-component=\"BaseButton\"><div data-sentry-element=\"Flex\" data-sentry-source-file=\"index.tsx\" class=\"Flex_display_flex__i0l0hl2 Flex_gap_space4__i0l0hly Flex_align_center__i0l0hl8\"><i class=\"jds-icon jds-icon--system_filter Icon_root__1516qwb0 Icon_color_gray900__1516qwb1 Icon_size_16__1516qwbk\" data-sentry-element=\"Icon\" data-sentry-source-file=\"index.tsx\"></i><p data-accent-color=\"gray900\" data-sentry-element=\"Typography\" data-sentry-source-file=\"index.tsx\" class=\"Typography_variant_size14__344nw27 Typography_weight_regular__344nw2e Typography_color_gray900__344nw2m Typography_truncate__344nw2y Flex_display_flex__i0l0hl2 Flex_gap_space2__i0l0hl1j\">조건추가</p></div></button></div><button data-accent-color=\"black\" data-disabled=\"false\" type=\"button\" data-react-aria-pressable=\"true\" data-sentry-element=\"Button\" data-sentry-component=\"MySearchButton\" data-sentry-source-file=\"index.tsx\" style=\"width:101px\" class=\"Button_root__1c0cohd0 Button_variantColor_outlined-black__1c0cohdb Button_size_40__1c0cohd3 _104dbb80\"><span data-accent-color=\"gray900\" class=\"Typography_variant_size14__344nw27 Typography_weight_regular__344nw2e Typography_color_gray900__344nw2m Flex_display_inline-flex__i0l0hl1 Flex_align_center__i0l0hl8\"><span data-sentry-element=\"Flex\" data-sentry-source-file=\"index.tsx\" style=\"width:100%\" class=\"Flex_display_flex__i0l0hl2 Flex_gap_space4__i0l0hly Flex_align_center__i0l0hl8\"><i class=\"jds-icon jds-icon--system_setting Icon_root__1516qwb0 Icon_color_gray900__1516qwb1 Icon_size_16__1516qwbk\" data-sentry-element=\"Icon\" data-sentry-source-file=\"index.tsx\"></i><span data-accent-color=\"gray900\" data-sentry-element=\"Typography\" data-sentry-source-file=\"index.tsx\" class=\"Typography_variant_size14__344nw27 Typography_weight_regular__344nw2e Typography_color_gray900__344nw2m\">My 검색</span></span></span></button></div></div></div></div><div data-sentry-element=\"Flex\" data-sentry-source-file=\"index.tsx\" style=\"width:1280px;margin:0 auto\" class=\"Flex_display_flex__i0l0hl2 Flex_direction_column__i0l0hl4\"><div data-sentry-element=\"Flex\" data-sentry-source-file=\"index.tsx\" class=\"Flex_display_flex__i0l0hl2 Flex_gap_space40__i0l0hl14 styles_mt_space40__dk46ts2t\"><main id=\"main\" class=\"styles_flex_none__dk46tsah\" data-sentry-element=\"Block\" data-sentry-source-file=\"index.tsx\" style=\"width:920px\"><script type=\"application/ld+json\" data-sentry-component=\"JsonLdScript\" data-sentry-source-file=\"index.tsx\">{\"@context\":\"https://schema.org\",\"@type\":\"BreadcrumbList\",\"itemListElement\":[{\"@type\":\"ListItem\",\"position\":1,\"name\":\"채용 검색\",\"item\":\"https://www.jobkorea.co.kr/Search\"},{\"@type\":\"ListItem\",\"position\":2,\"name\":\"data scientist\",\"item\":\"https://www.jobkorea.co.kr/Search?stext=data scientist\"}]}</script><div data-sentry-element=\"Flex\" data-sentry-source-file=\"page.tsx\" class=\"Flex_display_flex__i0l0hl2 Flex_gap_space40__i0l0hl14 Flex_direction_column__i0l0hl4\"><div data-sentry-element=\"Flex\" data-sentry-source-file=\"client.tsx\" class=\"Flex_display_flex__i0l0hl2 Flex_gap_space40__i0l0hl14 Flex_direction_column__i0l0hl4 styles_flex_none__dk46tsah\"><div data-orientation=\"horizontal\" dir=\"ltr\" data-sentry-element=\"Tabs.Root\" data-sentry-source-file=\"client.tsx\" class=\"Tabs_root__1cw1bss0\"><div aria-labelledby=\"jk-«R1h7alqdb»-trigger-recruit\" data-orientation=\"horizontal\" data-state=\"active\" id=\"jk-«R1h7alqdb»-content-recruit\" role=\"tabpanel\" tabindex=\"0\" data-sentry-element=\"Tabs.Content\" data-sentry-source-file=\"client.tsx\" class=\"Tabs_content__1cw1bssl\" style=\"animation-duration:0s\"><div data-sentry-element=\"Flex\" data-sentry-source-file=\"client.tsx\" class=\"Flex_display_flex__i0l0hl2 Flex_gap_space40__i0l0hl14 Flex_direction_column__i0l0hl4\"><div class=\"\" data-sentry-element=\"Block\" data-sentry-component=\"JobList\" data-sentry-source-file=\"index.tsx\"><div data-sentry-element=\"Flex\" data-sentry-source-file=\"index.tsx\" style=\"width:100%\" class=\"Flex_display_flex__i0l0hl2 Flex_align_center__i0l0hl8 Flex_justify_space-between__i0l0hlf styles_mb_space16__dk46ts5 styles_px_space8__dk46ts1s\"><span data-accent-color=\"gray900\" data-sentry-element=\"Typography\" data-sentry-source-file=\"index.tsx\" class=\"Typography_variant_size14__344nw27 Typography_weight_regular__344nw2e Typography_color_gray900__344nw2m\">총<!-- --> <span data-accent-color=\"gray900\" data-sentry-element=\"Typography\" data-sentry-source-file=\"index.tsx\" class=\"Typography_variant_size14__344nw27 Typography_weight_bold__344nw2c Typography_color_gray900__344nw2m\">266</span>건</span><div data-sentry-element=\"Flex\" data-sentry-source-file=\"index.tsx\" class=\"Flex_display_flex__i0l0hl2 Flex_gap_space16__i0l0hlj Flex_align_center__i0l0hl8\"><button type=\"button\" data-sentry-element=\"BaseButton\" data-sentry-source-file=\"index.tsx\" class=\"Flex_display_flex__i0l0hl2 Flex_gap_space4__i0l0hly Flex_align_center__i0l0hl8\" data-sentry-component=\"BaseButton\"><i class=\"jds-icon jds-icon--line_check Icon_root__1516qwb0 Icon_color_gray300__1516qwbb Icon_size_20__1516qwbl\" data-sentry-element=\"Icon\" data-sentry-source-file=\"index.tsx\"></i><span data-accent-color=\"gray700\" data-sentry-element=\"Typography\" data-sentry-source-file=\"index.tsx\" class=\"Typography_variant_size14__344nw27 Typography_weight_regular__344nw2e Typography_color_gray700__344nw2o\">합격축하금만 보기</span></button><span data-sentry-element=\"Separator\" data-sentry-source-file=\"index.tsx\" style=\"height:12px\" class=\"Separator_root__n822r90 Separator_orientation_vertical__n822r91 Separator_color_gray300__n822r95\"></span><div class=\"\"><button aria-autocomplete=\"none\" aria-controls=\"jk-«Re6dh7alqdb»\" aria-expanded=\"false\" data-state=\"closed\" dir=\"ltr\" role=\"combobox\" type=\"button\" class=\"SelectBoxText_triggerRoot__17xdomc0\" title=\"정렬\" data-sentry-element=\"SelectBoxText.Trigger\" data-sentry-source-file=\"index.tsx\" name=\"정렬\"><span class=\"Flex_display_flex__i0l0hl2 Flex_gapX_space2__i0l0hl1k Flex_align_center__i0l0hl8\" style=\"min-width:0\"><span data-accent-color=\"gray700\" class=\"Typography_variant_size14__344nw27 Typography_weight_regular__344nw2e Typography_color_gray700__344nw2o Typography_truncate__344nw2y SelectBoxText_triggerText__17xdomc5\" style=\"pointer-events:none\"></span><i class=\"jds-icon jds-icon--system_arrow_down Icon_root__1516qwb0 Icon_color_gray500__1516qwb6 Icon_size_16__1516qwbk\" aria-hidden=\"true\"></i></span></button><select tabindex=\"-1\" aria-hidden=\"true\" style=\"position:absolute;border:0;width:1px;height:1px;padding:0;margin:-1px;overflow:hidden;clip:rect(0, 0, 0, 0);white-space:nowrap;word-wrap:normal\"></select></div></div></div><div class=\"Flex_display_flex__i0l0hl2 Flex_gap_space16__i0l0hlj Flex_direction_column__i0l0hl4\"><div class=\"Box_bgColor_white__1wwr54u0 Box_borderColor_default__1wwr54u5 Box_borderSize_1__1wwr54ud styles_p_space0__dk46ts61 styles_radius_radius16__dk46ts9d Shadow_root_list__bm2zcc6 fdhuk40\" data-sentry-element=\"Box\" data-sentry-source-file=\"index.tsx\" data-sentry-component=\"CardJob\" style=\"width:100%;cursor:pointer\"><div data-sentry-element=\"Flex\" data-sentry-source-file=\"index.tsx\" class=\"Flex_display_flex__i0l0hl2 Flex_direction_column__i0l0hl4\"><div data-sentry-element=\"Flex\" data-sentry-source-file=\"index.tsx\" class=\"Flex_display_flex__i0l0hl2 Flex_gap_space20__i0l0hl11 styles_p_space28__dk46ts8d fdhuk42\"><a href=\"https://www.jobkorea.co.kr/Recruit/GI_Read/47797902?Oem_Code=C1&amp;logpath=1&amp;stext=data+scientist&amp;listno=1&amp;sc=630\" rel=\"noopener noreferrer\" target=\"_blank\" data-interactive=\"true\" style=\"width:76px;height:76px\" data-sentry-element=\"BaseLink\" data-sentry-component=\"CompanyLogo\" data-sentry-source-file=\"index.tsx\"><div class=\"Box_bgColor_white__1wwr54u0 Box_borderColor_gray200__1wwr54u6 Box_borderSize_1__1wwr54ud styles_px_space6__dk46ts4i styles_radius_radius8__dk46ts9g Flex_display_flex__i0l0hl2 Flex_align_center__i0l0hl8 Flex_justify_center__i0l0hld styles_flex-shrink_0__dk46tsa9 styles_overflow_hidden__dk46ts9s styles_position_relative__dk46tsa5\" data-sentry-element=\"Box\" data-sentry-source-file=\"index.tsx\" style=\"height:76px;width:76px;border-radius:99px\"><img alt=\"핀다 로고\" data-sentry-element=\"NextImage\" data-sentry-source-file=\"index.tsx\" data-sentry-component=\"Image\" loading=\"lazy\" width=\"0\" height=\"0\" decoding=\"async\" data-nimg=\"1\" style=\"color:transparent;width:auto;height:auto;max-width:100%;max-height:100%\" src=\"https://imgs.jobkorea.co.kr//Images/Logo/128/f/i/2973g00grcjpnkgukfe_3020abfaidqgrolkg2ga.gif?p=y&amp;hash=c\"/></div></a><div class=\"\" data-sentry-element=\"Block\" data-sentry-source-file=\"index.tsx\" style=\"width:100%\"><div data-sentry-element=\"Flex\" data-sentry-source-file=\"index.tsx\" class=\"Flex_display_flex__i0l0hl2 Flex_align_center__i0l0hl8 Flex_justify_space-between__i0l0hlf styles_position_relative__dk46tsa5 styles_mb_space6__dk46ts4f\"><div data-sentry-element=\"Flex\" data-sentry-component=\"BadgeItem\" data-sentry-source-file=\"index.tsx\" class=\"Flex_display_flex__i0l0hl2 Flex_gap_space4__i0l0hly Flex_align_center__i0l0hl8\"><div class=\"emoji--basicemoji-money\" style=\"width:16px;height:16px;background-size:16px;background-position:center;background-repeat:no-repeat\"></div><span data-accent-color=\"yellow\" data-sentry-element=\"Typography\" data-sentry-source-file=\"index.tsx\" class=\"Typography_variant_size13__344nw28 Typography_weight_medium__344nw2d Typography_color_yellow__344nw2t\">합격축하금 50만원</span></div><div class=\"styles_position_absolute__dk46tsa6\" style=\"right:0;top:0\"><button type=\"button\" data-interactive=\"true\" data-sentry-component=\"BaseButton\" data-sentry-source-file=\"index.tsx\"><i class=\"jds-icon jds-icon--system_scrap Icon_root__1516qwb0 Icon_color_gray300__1516qwbb Icon_size_28__1516qwbn\"></i><span style=\"position:absolute;border:0;width:1px;height:1px;padding:0;margin:-1px;overflow:hidden;clip:rect(0, 0, 0, 0);white-space:nowrap;word-wrap:normal\">스크랩</span></button></div></div><div class=\"styles_mb_space2__dk46ts4t\" data-sentry-element=\"Block\" data-sentry-source-file=\"index.tsx\"><a href=\"https://www.jobkorea.co.kr/Recruit/GI_Read/47797902?Oem_Code=C1&amp;logpath=1&amp;stext=data+scientist&amp;listno=1&amp;sc=630\" rel=\"noopener noreferrer\" target=\"_blank\" data-interactive=\"true\" data-sentry-element=\"BaseLink\" data-sentry-source-file=\"index.tsx\" style=\"max-width:700px\" class=\"Flex_display_flex__i0l0hl2 Flex_gap_space6__i0l0hl1g Flex_align_center__i0l0hl8 styles_mb_space2__dk46ts4t\"><span data-accent-color=\"gray900\" data-sentry-element=\"Typography\" data-sentry-source-file=\"index.tsx\" class=\"Typography_variant_size18__344nw25 Typography_weight_medium__344nw2d Typography_color_gray900__344nw2m Typography_truncate__344nw2y\">데이터 사이언티스트</span></a></div><a href=\"https://www.jobkorea.co.kr/Recruit/GI_Read/47797902?Oem_Code=C1&amp;logpath=1&amp;stext=data+scientist&amp;listno=1&amp;sc=630\" rel=\"noopener noreferrer\" target=\"_blank\" data-interactive=\"true\" data-sentry-element=\"BaseLink\" data-sentry-source-file=\"index.tsx\" class=\"Flex_display_inline-flex__i0l0hl1 Flex_gap_space6__i0l0hl1g Flex_align_center__i0l0hl8 styles_mb_space20__dk46ts2h\"><span data-accent-color=\"gray700\" data-sentry-element=\"Typography\" data-sentry-source-file=\"index.tsx\" class=\"Typography_variant_size16__344nw26 Typography_weight_regular__344nw2e Typography_color_gray700__344nw2o Typography_truncate__344nw2y\">핀다</span><span data-accent-color=\"gray500\" data-sentry-element=\"Typography\" data-sentry-source-file=\"index.tsx\" class=\"Typography_variant_size11__344nw2a Typography_weight_regular__344nw2e Typography_color_gray500__344nw2p styles_flex-shrink_0__dk46tsa9\"></span></a><div data-sentry-element=\"Flex\" data-sentry-source-file=\"index.tsx\" class=\"Flex_display_flex__i0l0hl2 Flex_gap_space10__i0l0hlm Flex_direction_column__i0l0hl4\"><div data-sentry-element=\"Flex\" data-sentry-source-file=\"index.tsx\" class=\"Flex_display_flex__i0l0hl2 Flex_justify_space-between__i0l0hlf\"><div data-sentry-element=\"Flex\" data-sentry-source-file=\"index.tsx\" style=\"max-width:643px\" class=\"Flex_display_flex__i0l0hl2 Flex_gap_space8__i0l0hlv\"><div data-sentry-element=\"Flex\" data-sentry-component=\"GrayChip\" data-sentry-source-file=\"index.tsx\" style=\"height:30px;min-width:auto\" class=\"Flex_display_flex__i0l0hl2 Flex_gap_space4__i0l0hly Flex_align_center__i0l0hl8 styles_flex-shrink_0__dk46tsa9 styles_px_space10__dk46tsm vvrp1p0\"><div class=\"styles_flex-shrink_0__dk46tsa9\" data-sentry-element=\"Block\" data-sentry-source-file=\"index.tsx\" style=\"width:16px\"><div class=\"emoji--basicemoji-place2\" style=\"width:16px;height:16px;background-size:16px;background-position:center;background-repeat:no-repeat\"></div></div><span data-accent-color=\"gray900\" data-sentry-element=\"Typography\" data-sentry-source-file=\"index.tsx\" class=\"Typography_variant_size14__344nw27 Typography_weight_regular__344nw2e Typography_color_gray900__344nw2m Typography_truncate__344nw2y\">서울 강남구</span></div><div data-sentry-element=\"Flex\" data-sentry-component=\"GrayChip\" data-sentry-source-file=\"index.tsx\" style=\"height:30px;min-width:0\" class=\"Flex_display_flex__i0l0hl2 Flex_gap_space4__i0l0hly Flex_align_center__i0l0hl8 styles_flex-shrink_1__dk46tsaa styles_px_space10__dk46tsm vvrp1p0\"><div class=\"styles_flex-shrink_0__dk46tsa9\" data-sentry-element=\"Block\" data-sentry-source-file=\"index.tsx\" style=\"width:16px\"><div class=\"emoji--basicemoji-briefcase\" style=\"width:16px;height:16px;background-size:16px;background-position:center;background-repeat:no-repeat\"></div></div><span data-accent-color=\"gray900\" data-sentry-element=\"Typography\" data-sentry-source-file=\"index.tsx\" class=\"Typography_variant_size14__344nw27 Typography_weight_regular__344nw2e Typography_color_gray900__344nw2m Typography_truncate__344nw2y\">은행·금융, 데이터사이언티스트</span></div></div><div class=\"\" data-interactive=\"true\"><button type=\"button\" class=\"Flex_display_flex__i0l0hl2 Flex_align_center__i0l0hl8 Flex_justify_center__i0l0hld styles_flex-shrink_0__dk46tsa9 styles_px_space10__dk46tsm yt9jy31 yt9jy30\" style=\"height:32px;width:90px\" data-sentry-element=\"BaseButton\" data-sentry-source-file=\"index.tsx\" data-sentry-component=\"BaseButton\"><span data-accent-color=\"theme-primary\" data-sentry-element=\"Typography\" data-sentry-source-file=\"index.tsx\" class=\"Typography_variant_size12__344nw29 Typography_weight_medium__344nw2d Typography_color_theme-primary__344nw2f\">즉시 지원</span></button></div></div><div data-sentry-element=\"Flex\" data-sentry-source-file=\"index.tsx\" class=\"Flex_display_flex__i0l0hl2 Flex_align_center__i0l0hl8 Flex_justify_space-between__i0l0hlf\"><div data-sentry-element=\"Flex\" data-sentry-source-file=\"index.tsx\" style=\"max-width:565px\" class=\"Flex_display_flex__i0l0hl2 Flex_gap_space2__i0l0hl1j Flex_align_center__i0l0hl8\"><span data-accent-color=\"gray700\" data-sentry-element=\"Typography\" data-sentry-source-file=\"index.tsx\" class=\"Typography_variant_size13__344nw28 Typography_weight_regular__344nw2e Typography_color_gray700__344nw2o styles_flex-shrink_0__dk46tsa9\">경력7년↑</span><span data-accent-color=\"gray700\" class=\"Typography_variant_size13__344nw28 Typography_weight_regular__344nw2e Typography_color_gray700__344nw2o Typography_truncate__344nw2y\">•</span><span data-accent-color=\"gray700\" class=\"Typography_variant_size13__344nw28 Typography_weight_regular__344nw2e Typography_color_gray700__344nw2o Typography_truncate__344nw2y\">성과급<!-- -->, <!-- -->워케이션</span></div><div data-sentry-element=\"Flex\" data-sentry-source-file=\"index.tsx\" class=\"Flex_display_flex__i0l0hl2 Flex_gap_space2__i0l0hl1j styles_flex-shrink_0__dk46tsa9\"><span data-accent-color=\"gray700\" class=\"Typography_variant_size13__344nw28 Typography_weight_regular__344nw2e Typography_color_gray700__344nw2o\">10/01(수) 등록</span><span data-accent-color=\"gray700\" class=\"Typography_variant_size13__344nw28 Typography_weight_regular__344nw2e Typography_color_gray700__344nw2o\">•</span><span data-accent-color=\"gray700\" class=\"Typography_variant_size13__344nw28 Typography_weight_regular__344nw2e Typography_color_gray700__344nw2o\">10/31(금) 마감</span></div></div></div></div></div></div></div><div class=\"Box_bgColor_white__1wwr54u0 Box_borderColor_default__1wwr54u5 Box_borderSize_1__1wwr54ud styles_p_space0__dk46ts61 styles_radius_radius16__dk46ts9d Shadow_root_list__bm2zcc6 fdhuk40\" data-sentry-element=\"Box\" data-sentry-source-file=\"index.tsx\" data-sentry-component=\"CardJob\" style=\"width:100%;cursor:pointer\"><div data-sentry-element=\"Flex\" data-sentry-source-file=\"index.tsx\" class=\"Flex_display_flex__i0l0hl2 Flex_direction_column__i0l0hl4\"><div data-sentry-element=\"Flex\" data-sentry-source-file=\"index.tsx\" class=\"Flex_display_flex__i0l0hl2 Flex_gap_space20__i0l0hl11 styles_p_space28__dk46ts8d fdhuk42\"><a href=\"https://www.jobkorea.co.kr/Recruit/GI_Read/47839083?Oem_Code=C1&amp;logpath=1&amp;stext=data+scientist&amp;listno=2&amp;sc=630\" rel=\"noopener noreferrer\" target=\"_blank\" data-interactive=\"true\" style=\"width:76px;height:76px\" data-sentry-element=\"BaseLink\" data-sentry-component=\"CompanyLogo\" data-sentry-source-file=\"index.tsx\"><div class=\"Box_bgColor_white__1wwr54u0 Box_borderColor_gray200__1wwr54u6 Box_borderSize_1__1wwr54ud styles_px_space6__dk46ts4i styles_radius_radius8__dk46ts9g Flex_display_flex__i0l0hl2 Flex_align_center__i0l0hl8 Flex_justify_center__i0l0hld styles_flex-shrink_0__dk46tsa9 styles_overflow_hidden__dk46ts9s styles_position_relative__dk46tsa5\" data-sentry-element=\"Box\" data-sentry-source-file=\"index.tsx\" style=\"height:76px;width:76px;border-radius:99px\"><img alt=\"㈜이자(eZar Inc.) 로고\" data-sentry-element=\"NextImage\" data-sentry-source-file=\"index.tsx\" data-sentry-component=\"Image\" loading=\"lazy\" width=\"0\" height=\"0\" decoding=\"async\" data-nimg=\"1\" style=\"color:transparent;width:auto;height:auto;max-width:100%;max-height:100%\" src=\"https://imgs.jobkorea.co.kr///img1/_whitebg/200X80/Co_Logo/Logo/2023/9/08/JK_CO_maeagc23090815423223.png?v=202510231303\"/></div></a><div class=\"\" data-sentry-element=\"Block\" data-sentry-source-file=\"index.tsx\" style=\"width:100%\"><div data-sentry-element=\"Flex\" data-sentry-source-file=\"index.tsx\" class=\"Flex_display_flex__i0l0hl2 Flex_align_center__i0l0hl8 Flex_justify_space-between__i0l0hlf styles_position_relative__dk46tsa5 styles_mb_space6__dk46ts4f\"><div data-sentry-element=\"Flex\" data-sentry-component=\"BadgeItem\" data-sentry-source-file=\"index.tsx\" class=\"Flex_display_flex__i0l0hl2 Flex_gap_space4__i0l0hly Flex_align_center__i0l0hl8\"><span data-accent-color=\"theme-secondary2\" data-sentry-element=\"Typography\" data-sentry-source-file=\"index.tsx\" class=\"Typography_variant_size13__344nw28 Typography_weight_medium__344nw2d Typography_color_theme-secondary2__344nw2h\">재택/원격근무 가능</span></div><div class=\"styles_position_absolute__dk46tsa6\" style=\"right:0;top:0\"><button type=\"button\" data-interactive=\"true\" data-sentry-component=\"BaseButton\" data-sentry-source-file=\"index.tsx\"><i class=\"jds-icon jds-icon--system_scrap Icon_root__1516qwb0 Icon_color_gray300__1516qwbb Icon_size_28__1516qwbn\"></i><span style=\"position:absolute;border:0;width:1px;height:1px;padding:0;margin:-1px;overflow:hidden;clip:rect(0, 0, 0, 0);white-space:nowrap;word-wrap:normal\">스크랩</span></button></div></div><div class=\"styles_mb_space2__dk46ts4t\" data-sentry-element=\"Block\" data-sentry-source-file=\"index.tsx\"><a href=\"https://www.jobkorea.co.kr/Recruit/GI_Read/47839083?Oem_Code=C1&amp;logpath=1&amp;stext=data+scientist&amp;listno=2&amp;sc=630\" rel=\"noopener noreferrer\" target=\"_blank\" data-interactive=\"true\" data-sentry-element=\"BaseLink\" data-sentry-source-file=\"index.tsx\" style=\"max-width:700px\" class=\"Flex_display_flex__i0l0hl2 Flex_gap_space6__i0l0hl1g Flex_align_center__i0l0hl8 styles_mb_space2__dk46ts4t\"><span data-accent-color=\"gray900\" data-sentry-element=\"Typography\" data-sentry-source-file=\"index.tsx\" class=\"Typography_variant_size18__344nw25 Typography_weight_medium__344nw2d Typography_color_gray900__344nw2m Typography_truncate__344nw2y\">LLM &amp; RAG 데이터 사이언티스트</span></a></div><a href=\"https://www.jobkorea.co.kr/Recruit/GI_Read/47839083?Oem_Code=C1&amp;logpath=1&amp;stext=data+scientist&amp;listno=2&amp;sc=630\" rel=\"noopener noreferrer\" target=\"_blank\" data-interactive=\"true\" data-sentry-element=\"BaseLink\" data-sentry-source-file=\"index.tsx\" class=\"Flex_display_inline-flex__i0l0hl1 Flex_gap_space6__i0l0hl1g Flex_align_center__i0l0hl8 styles_mb_space20__dk46ts2h\"><span data-accent-color=\"gray700\" data-sentry-element=\"Typography\" data-sentry-source-file=\"index.tsx\" class=\"Typography_variant_size16__344nw26 Typography_weight_regular__344nw2e Typography_color_gray700__344nw2o Typography_truncate__344nw2y\">㈜이자(eZar Inc.)</span><span data-accent-color=\"gray500\" data-sentry-element=\"Typography\" data-sentry-source-file=\"index.tsx\" class=\"Typography_variant_size11__344nw2a Typography_weight_regular__344nw2e Typography_color_gray500__344nw2p styles_flex-shrink_0__dk46tsa9\"></span></a><div data-sentry-element=\"Flex\" data-sentry-source-file=\"index.tsx\" class=\"Flex_display_flex__i0l0hl2 Flex_gap_space10__i0l0hlm Flex_direction_column__i0l0hl4\"><div data-sentry-element=\"Flex\" data-sentry-source-file=\"index.tsx\" class=\"Flex_display_flex__i0l0hl2 Flex_justify_space-between__i0l0hlf\"><div data-sentry-element=\"Flex\" data-sentry-source-file=\"index.tsx\" style=\"max-width:643px\" class=\"Flex_display_flex__i0l0hl2 Flex_gap_space8__i0l0hlv\"><div data-sentry-element=\"Flex\" data-sentry-component=\"GrayChip\" data-sentry-source-file=\"index.tsx\" style=\"height:30px;min-width:auto\" class=\"Flex_display_flex__i0l0hl2 Flex_gap_space4__i0l0hly Flex_align_center__i0l0hl8 styles_flex-shrink_0__dk46tsa9 styles_px_space10__dk46tsm vvrp1p0\"><div class=\"styles_flex-shrink_0__dk46tsa9\" data-sentry-element=\"Block\" data-sentry-source-file=\"index.tsx\" style=\"width:16px\"><div class=\"emoji--basicemoji-place2\" style=\"width:16px;height:16px;background-size:16px;background-position:center;background-repeat:no-repeat\"></div></div><span data-accent-color=\"gray900\" data-sentry-element=\"Typography\" data-sentry-source-file=\"index.tsx\" class=\"Typography_variant_size14__344nw27 Typography_weight_regular__344nw2e Typography_color_gray900__344nw2m Typography_truncate__344nw2y\">서울 영등포구</span></div><div data-sentry-element=\"Flex\" data-sentry-component=\"GrayChip\" data-sentry-source-file=\"index.tsx\" style=\"height:30px;min-width:0\" class=\"Flex_display_flex__i0l0hl2 Flex_gap_space4__i0l0hly Flex_align_center__i0l0hl8 styles_flex-shrink_1__dk46tsaa styles_px_space10__dk46tsm vvrp1p0\"><div class=\"styles_flex-shrink_0__dk46tsa9\" data-sentry-element=\"Block\" data-sentry-source-file=\"index.tsx\" style=\"width:16px\"><div class=\"emoji--basicemoji-briefcase\" style=\"width:16px;height:16px;background-size:16px;background-position:center;background-repeat:no-repeat\"></div></div><span data-accent-color=\"gray900\" data-sentry-element=\"Typography\" data-sentry-source-file=\"index.tsx\" class=\"Typography_variant_size14__344nw27 Typography_weight_regular__344nw2e Typography_color_gray900__344nw2m Typography_truncate__344nw2y\">솔루션·SI·CRM·ERP, 데이터사이언티스트</span></div></div><div class=\"\" data-interactive=\"true\"><button type=\"button\" class=\"Flex_display_flex__i0l0hl2 Flex_align_center__i0l0hl8 Flex_justify_center__i0l0hld styles_flex-shrink_0__dk46tsa9 styles_px_space10__dk46tsm yt9jy31 yt9jy30\" style=\"height:32px;width:90px\" data-sentry-element=\"BaseButton\" data-sentry-source-file=\"index.tsx\" data-sentry-component=\"BaseButton\"><span data-accent-color=\"theme-primary\" data-sentry-element=\"Typography\" data-sentry-source-file=\"index.tsx\" class=\"Typography_variant_size12__344nw29 Typography_weight_medium__344nw2d Typography_color_theme-primary__344nw2f\">즉시 지원</span></button></div></div><div data-sentry-element=\"Flex\" data-sentry-source-file=\"index.tsx\" class=\"Flex_display_flex__i0l0hl2 Flex_align_center__i0l0hl8 Flex_justify_space-between__i0l0hlf\"><div data-sentry-element=\"Flex\" data-sentry-source-file=\"index.tsx\" style=\"max-width:565px\" class=\"Flex_display_flex__i0l0hl2 Flex_gap_space2__i0l0hl1j Flex_align_center__i0l0hl8\"><span data-accent-color=\"gray700\" data-sentry-element=\"Typography\" data-sentry-source-file=\"index.tsx\" class=\"Typography_variant_size13__344nw28 Typography_weight_regular__344nw2e Typography_color_gray700__344nw2o styles_flex-shrink_0__dk46tsa9\">경력2년↑</span><span data-accent-color=\"gray700\" class=\"Typography_variant_size13__344nw28 Typography_weight_regular__344nw2e Typography_color_gray700__344nw2o Typography_truncate__344nw2y\">•</span><span data-accent-color=\"gray700\" class=\"Typography_variant_size13__344nw28 Typography_weight_regular__344nw2e Typography_color_gray700__344nw2o Typography_truncate__344nw2y\">재택근무</span></div><div data-sentry-element=\"Flex\" data-sentry-source-file=\"index.tsx\" class=\"Flex_display_flex__i0l0hl2 Flex_gap_space2__i0l0hl1j styles_flex-shrink_0__dk46tsa9\"><span data-accent-color=\"gray700\" class=\"Typography_variant_size13__344nw28 Typography_weight_regular__344nw2e Typography_color_gray700__344nw2o\">10/13(월) 등록</span><span data-accent-color=\"gray700\" class=\"Typography_variant_size13__344nw28 Typography_weight_regular__344nw2e Typography_color_gray700__344nw2o\">•</span><span data-accent-color=\"gray700\" class=\"Typography_variant_size13__344nw28 Typography_weight_regular__344nw2e Typography_color_gray700__344nw2o\">12/12(금) 마감</span></div></div></div></div></div></div></div><div class=\"Box_bgColor_white__1wwr54u0 Box_borderColor_default__1wwr54u5 Box_borderSize_1__1wwr54ud styles_p_space0__dk46ts61 styles_radius_radius16__dk46ts9d Shadow_root_list__bm2zcc6 fdhuk40\" data-sentry-element=\"Box\" data-sentry-source-file=\"index.tsx\" data-sentry-component=\"CardJob\" style=\"width:100%;cursor:pointer\"><div data-sentry-element=\"Flex\" data-sentry-source-file=\"index.tsx\" class=\"Flex_display_flex__i0l0hl2 Flex_direction_column__i0l0hl4\"><div data-sentry-element=\"Flex\" data-sentry-source-file=\"index.tsx\" class=\"Flex_display_flex__i0l0hl2 Flex_gap_space20__i0l0hl11 styles_p_space28__dk46ts8d fdhuk42\"><a href=\"https://www.jobkorea.co.kr/Recruit/GI_Read/47870425?Oem_Code=C1&amp;logpath=1&amp;stext=data+scientist&amp;listno=3&amp;sc=630\" rel=\"noopener noreferrer\" target=\"_blank\" data-interactive=\"true\" style=\"width:76px;height:76px\" data-sentry-element=\"BaseLink\" data-sentry-component=\"CompanyLogo\" data-sentry-source-file=\"index.tsx\"><div class=\"Box_bgColor_white__1wwr54u0 Box_borderColor_gray200__1wwr54u6 Box_borderSize_1__1wwr54ud styles_px_space6__dk46ts4i styles_radius_radius8__dk46ts9g Flex_display_flex__i0l0hl2 Flex_align_center__i0l0hl8 Flex_justify_center__i0l0hld styles_flex-shrink_0__dk46tsa9 styles_overflow_hidden__dk46ts9s styles_position_relative__dk46tsa5\" data-sentry-element=\"Box\" data-sentry-source-file=\"index.tsx\" style=\"height:76px;width:76px;border-radius:99px\"><img alt=\"㈜미래엔 로고\" data-sentry-element=\"NextImage\" data-sentry-source-file=\"index.tsx\" data-sentry-component=\"Image\" loading=\"lazy\" width=\"0\" height=\"0\" decoding=\"async\" data-nimg=\"1\" style=\"color:transparent;width:auto;height:auto;max-width:100%;max-height:100%\" src=\"https://imgs.jobkorea.co.kr//Images/Logo/128/d/h/2453q00qjtltl_2520m59mvjd2qm.gif?p=y&amp;hash=c\"/></div></a><div class=\"\" data-sentry-element=\"Block\" data-sentry-source-file=\"index.tsx\" style=\"width:100%\"><div data-sentry-element=\"Flex\" data-sentry-source-file=\"index.tsx\" class=\"Flex_display_flex__i0l0hl2 Flex_align_center__i0l0hl8 Flex_justify_space-between__i0l0hlf styles_position_relative__dk46tsa5 styles_mb_space6__dk46ts4f\"><div data-sentry-element=\"Flex\" data-sentry-component=\"BadgeItem\" data-sentry-source-file=\"index.tsx\" class=\"Flex_display_flex__i0l0hl2 Flex_gap_space4__i0l0hly Flex_align_center__i0l0hl8\"><span data-accent-color=\"theme-primary\" data-sentry-element=\"Typography\" data-sentry-source-file=\"index.tsx\" class=\"Typography_variant_size13__344nw28 Typography_weight_medium__344nw2d Typography_color_theme-primary__344nw2f\">탄탄한 중견기업</span></div><div class=\"styles_position_absolute__dk46tsa6\" style=\"right:0;top:0\"><button type=\"button\" data-interactive=\"true\" data-sentry-component=\"BaseButton\" data-sentry-source-file=\"index.tsx\"><i class=\"jds-icon jds-icon--system_scrap Icon_root__1516qwb0 Icon_color_gray300__1516qwbb Icon_size_28__1516qwbn\"></i><span style=\"position:absolute;border:0;width:1px;height:1px;padding:0;margin:-1px;overflow:hidden;clip:rect(0, 0, 0, 0);white-space:nowrap;word-wrap:normal\">스크랩</span></button></div></div><div class=\"styles_mb_space2__dk46ts4t\" data-sentry-element=\"Block\" data-sentry-source-file=\"index.tsx\"><a href=\"https://www.jobkorea.co.kr/Recruit/GI_Read/47870425?Oem_Code=C1&amp;logpath=1&amp;stext=data+scientist&amp;listno=3&amp;sc=630\" rel=\"noopener noreferrer\" target=\"_blank\" data-interactive=\"true\" data-sentry-element=\"BaseLink\" data-sentry-source-file=\"index.tsx\" style=\"max-width:700px\" class=\"Flex_display_flex__i0l0hl2 Flex_gap_space6__i0l0hl1g Flex_align_center__i0l0hl8 styles_mb_space2__dk46ts4t\"><span data-accent-color=\"gray900\" data-sentry-element=\"Typography\" data-sentry-source-file=\"index.tsx\" class=\"Typography_variant_size18__344nw25 Typography_weight_medium__344nw2d Typography_color_gray900__344nw2m Typography_truncate__344nw2y\">(주)미래엔 데이터 사이언티스트 채용</span></a></div><a href=\"https://www.jobkorea.co.kr/Recruit/GI_Read/47870425?Oem_Code=C1&amp;logpath=1&amp;stext=data+scientist&amp;listno=3&amp;sc=630\" rel=\"noopener noreferrer\" target=\"_blank\" data-interactive=\"true\" data-sentry-element=\"BaseLink\" data-sentry-source-file=\"index.tsx\" class=\"Flex_display_inline-flex__i0l0hl1 Flex_gap_space6__i0l0hl1g Flex_align_center__i0l0hl8 styles_mb_space20__dk46ts2h\"><span data-accent-color=\"gray700\" data-sentry-element=\"Typography\" data-sentry-source-file=\"index.tsx\" class=\"Typography_variant_size16__344nw26 Typography_weight_regular__344nw2e Typography_color_gray700__344nw2o Typography_truncate__344nw2y\">㈜미래엔</span><span data-accent-color=\"gray500\" data-sentry-element=\"Typography\" data-sentry-source-file=\"index.tsx\" class=\"Typography_variant_size11__344nw2a Typography_weight_regular__344nw2e Typography_color_gray500__344nw2p styles_flex-shrink_0__dk46tsa9\"></span></a><div data-sentry-element=\"Flex\" data-sentry-source-file=\"index.tsx\" class=\"Flex_display_flex__i0l0hl2 Flex_gap_space10__i0l0hlm Flex_direction_column__i0l0hl4\"><div data-sentry-element=\"Flex\" data-sentry-source-file=\"index.tsx\" class=\"Flex_display_flex__i0l0hl2 Flex_justify_space-between__i0l0hlf\"><div data-sentry-element=\"Flex\" data-sentry-source-file=\"index.tsx\" style=\"max-width:643px\" class=\"Flex_display_flex__i0l0hl2 Flex_gap_space8__i0l0hlv\"><div data-sentry-element=\"Flex\" data-sentry-component=\"GrayChip\" data-sentry-source-file=\"index.tsx\" style=\"height:30px;min-width:auto\" class=\"Flex_display_flex__i0l0hl2 Flex_gap_space4__i0l0hly Flex_align_center__i0l0hl8 styles_flex-shrink_0__dk46tsa9 styles_px_space10__dk46tsm vvrp1p0\"><div class=\"styles_flex-shrink_0__dk46tsa9\" data-sentry-element=\"Block\" data-sentry-source-file=\"index.tsx\" style=\"width:16px\"><div class=\"emoji--basicemoji-place2\" style=\"width:16px;height:16px;background-size:16px;background-position:center;background-repeat:no-repeat\"></div></div><span data-accent-color=\"gray900\" data-sentry-element=\"Typography\" data-sentry-source-file=\"index.tsx\" class=\"Typography_variant_size14__344nw27 Typography_weight_regular__344nw2e Typography_color_gray900__344nw2m Typography_truncate__344nw2y\">서울 서초구</span></div><div data-sentry-element=\"Flex\" data-sentry-component=\"GrayChip\" data-sentry-source-file=\"index.tsx\" style=\"height:30px;min-width:0\" class=\"Flex_display_flex__i0l0hl2 Flex_gap_space4__i0l0hly Flex_align_center__i0l0hl8 styles_flex-shrink_1__dk46tsaa styles_px_space10__dk46tsm vvrp1p0\"><div class=\"styles_flex-shrink_0__dk46tsa9\" data-sentry-element=\"Block\" data-sentry-source-file=\"index.tsx\" style=\"width:16px\"><div class=\"emoji--basicemoji-briefcase\" style=\"width:16px;height:16px;background-size:16px;background-position:center;background-repeat:no-repeat\"></div></div><span data-accent-color=\"gray900\" data-sentry-element=\"Typography\" data-sentry-source-file=\"index.tsx\" class=\"Typography_variant_size14__344nw27 Typography_weight_regular__344nw2e Typography_color_gray900__344nw2m Typography_truncate__344nw2y\">출판·인쇄·사진, 데이터사이언티스트</span></div></div><div class=\"\" data-interactive=\"true\"><button type=\"button\" class=\"Flex_display_flex__i0l0hl2 Flex_align_center__i0l0hl8 Flex_justify_center__i0l0hld styles_flex-shrink_0__dk46tsa9 styles_px_space10__dk46tsm yt9jy32 yt9jy30\" style=\"height:32px;width:90px\" data-sentry-element=\"BaseButton\" data-sentry-source-file=\"index.tsx\" data-sentry-component=\"BaseButton\"><span data-accent-color=\"gray900\" data-sentry-element=\"Typography\" data-sentry-source-file=\"index.tsx\" class=\"Typography_variant_size12__344nw29 Typography_weight_medium__344nw2d Typography_color_gray900__344nw2m\">홈페이지 지원</span></button></div></div><div data-sentry-element=\"Flex\" data-sentry-source-file=\"index.tsx\" class=\"Flex_display_flex__i0l0hl2 Flex_align_center__i0l0hl8 Flex_justify_space-between__i0l0hlf\"><div data-sentry-element=\"Flex\" data-sentry-source-file=\"index.tsx\" style=\"max-width:565px\" class=\"Flex_display_flex__i0l0hl2 Flex_gap_space2__i0l0hl1j Flex_align_center__i0l0hl8\"><span data-accent-color=\"gray700\" data-sentry-element=\"Typography\" data-sentry-source-file=\"index.tsx\" class=\"Typography_variant_size13__344nw28 Typography_weight_regular__344nw2e Typography_color_gray700__344nw2o styles_flex-shrink_0__dk46tsa9\">경력8년↑</span></div><div data-sentry-element=\"Flex\" data-sentry-source-file=\"index.tsx\" class=\"Flex_display_flex__i0l0hl2 Flex_gap_space2__i0l0hl1j styles_flex-shrink_0__dk46tsa9\"><span data-accent-color=\"gray700\" class=\"Typography_variant_size13__344nw28 Typography_weight_regular__344nw2e Typography_color_gray700__344nw2o\">10/17(금) 등록</span><span data-accent-color=\"gray700\" class=\"Typography_variant_size13__344nw28 Typography_weight_regular__344nw2e Typography_color_gray700__344nw2o\">•</span><span data-accent-color=\"gray700\" class=\"Typography_variant_size13__344nw28 Typography_weight_regular__344nw2e Typography_color_gray700__344nw2o\">11/16(일) 마감</span></div></div></div></div></div></div></div><div class=\"Box_bgColor_white__1wwr54u0 Box_borderColor_default__1wwr54u5 Box_borderSize_1__1wwr54ud styles_p_space0__dk46ts61 styles_radius_radius16__dk46ts9d Shadow_root_list__bm2zcc6 fdhuk40\" data-sentry-element=\"Box\" data-sentry-source-file=\"index.tsx\" data-sentry-component=\"CardJob\" style=\"width:100%;cursor:pointer\"><div data-sentry-element=\"Flex\" data-sentry-source-file=\"index.tsx\" class=\"Flex_display_flex__i0l0hl2 Flex_direction_column__i0l0hl4\"><div data-sentry-element=\"Flex\" data-sentry-source-file=\"index.tsx\" class=\"Flex_display_flex__i0l0hl2 Flex_gap_space20__i0l0hl11 styles_p_space28__dk46ts8d fdhuk42\"><a href=\"https://www.jobkorea.co.kr/Recruit/GI_Read/47876727?Oem_Code=C1&amp;logpath=1&amp;stext=data+scientist&amp;listno=4&amp;sc=630\" rel=\"noopener noreferrer\" target=\"_blank\" data-interactive=\"true\" style=\"width:76px;height:76px\" data-sentry-element=\"BaseLink\" data-sentry-component=\"CompanyLogo\" data-sentry-source-file=\"index.tsx\"><div class=\"Box_bgColor_white__1wwr54u0 Box_borderColor_gray200__1wwr54u6 Box_borderSize_1__1wwr54ud styles_px_space6__dk46ts4i styles_radius_radius8__dk46ts9g Flex_display_flex__i0l0hl2 Flex_align_center__i0l0hl8 Flex_justify_center__i0l0hld styles_flex-shrink_0__dk46tsa9 styles_overflow_hidden__dk46ts9s styles_position_relative__dk46tsa5\" data-sentry-element=\"Box\" data-sentry-source-file=\"index.tsx\" style=\"height:76px;width:76px;border-radius:99px\"><img alt=\"㈜하이브 로고\" data-sentry-element=\"NextImage\" data-sentry-source-file=\"index.tsx\" data-sentry-component=\"Image\" loading=\"lazy\" width=\"0\" height=\"0\" decoding=\"async\" data-nimg=\"1\" style=\"color:transparent;width:auto;height:auto;max-width:100%;max-height:100%\" src=\"https://imgs.jobkorea.co.kr///img1/_whitebg/200X80/Co_Logo/Logo/2021/4/12/2a3vf008Rr_aXkejbv3s2qr0efYvUr_aa2fr.png?v=202510231303&amp;hash=r\"/></div></a><div class=\"\" data-sentry-element=\"Block\" data-sentry-source-file=\"index.tsx\" style=\"width:100%\"><div data-sentry-element=\"Flex\" data-sentry-source-file=\"index.tsx\" class=\"Flex_display_flex__i0l0hl2 Flex_align_center__i0l0hl8 Flex_justify_space-between__i0l0hlf styles_position_relative__dk46tsa5 styles_mb_space6__dk46ts4f\"><div data-sentry-element=\"Flex\" data-sentry-component=\"BadgeItem\" data-sentry-source-file=\"index.tsx\" class=\"Flex_display_flex__i0l0hl2 Flex_gap_space4__i0l0hly Flex_align_center__i0l0hl8\"><span data-accent-color=\"theme-primary\" data-sentry-element=\"Typography\" data-sentry-source-file=\"index.tsx\" class=\"Typography_variant_size13__344nw28 Typography_weight_medium__344nw2d Typography_color_theme-primary__344nw2f\">믿고보는 대기업</span></div><div class=\"styles_position_absolute__dk46tsa6\" style=\"right:0;top:0\"><button type=\"button\" data-interactive=\"true\" data-sentry-component=\"BaseButton\" data-sentry-source-file=\"index.tsx\"><i class=\"jds-icon jds-icon--system_scrap Icon_root__1516qwb0 Icon_color_gray300__1516qwbb Icon_size_28__1516qwbn\"></i><span style=\"position:absolute;border:0;width:1px;height:1px;padding:0;margin:-1px;overflow:hidden;clip:rect(0, 0, 0, 0);white-space:nowrap;word-wrap:normal\">스크랩</span></button></div></div><div class=\"styles_mb_space2__dk46ts4t\" data-sentry-element=\"Block\" data-sentry-source-file=\"index.tsx\"><a href=\"https://www.jobkorea.co.kr/Recruit/GI_Read/47876727?Oem_Code=C1&amp;logpath=1&amp;stext=data+scientist&amp;listno=4&amp;sc=630\" rel=\"noopener noreferrer\" target=\"_blank\" data-interactive=\"true\" data-sentry-element=\"BaseLink\" data-sentry-source-file=\"index.tsx\" style=\"max-width:700px\" class=\"Flex_display_flex__i0l0hl2 Flex_gap_space6__i0l0hl1g Flex_align_center__i0l0hl8 styles_mb_space2__dk46ts4t\"><span data-accent-color=\"gray900\" data-sentry-element=\"Typography\" data-sentry-source-file=\"index.tsx\" class=\"Typography_variant_size18__344nw25 Typography_weight_medium__344nw2d Typography_color_gray900__344nw2m Typography_truncate__344nw2y\">[HYBE] 데이터 사이언티스트 (Data Scientist)</span></a></div><a href=\"https://www.jobkorea.co.kr/Recruit/GI_Read/47876727?Oem_Code=C1&amp;logpath=1&amp;stext=data+scientist&amp;listno=4&amp;sc=630\" rel=\"noopener noreferrer\" target=\"_blank\" data-interactive=\"true\" data-sentry-element=\"BaseLink\" data-sentry-source-file=\"index.tsx\" class=\"Flex_display_inline-flex__i0l0hl1 Flex_gap_space6__i0l0hl1g Flex_align_center__i0l0hl8 styles_mb_space20__dk46ts2h\"><span data-accent-color=\"gray700\" data-sentry-element=\"Typography\" data-sentry-source-file=\"index.tsx\" class=\"Typography_variant_size16__344nw26 Typography_weight_regular__344nw2e Typography_color_gray700__344nw2o Typography_truncate__344nw2y\">㈜하이브</span><span data-accent-color=\"gray500\" data-sentry-element=\"Typography\" data-sentry-source-file=\"index.tsx\" class=\"Typography_variant_size11__344nw2a Typography_weight_regular__344nw2e Typography_color_gray500__344nw2p styles_flex-shrink_0__dk46tsa9\"></span></a><div data-sentry-element=\"Flex\" data-sentry-source-file=\"index.tsx\" class=\"Flex_display_flex__i0l0hl2 Flex_gap_space10__i0l0hlm Flex_direction_column__i0l0hl4\"><div data-sentry-element=\"Flex\" data-sentry-source-file=\"index.tsx\" class=\"Flex_display_flex__i0l0hl2 Flex_justify_space-between__i0l0hlf\"><div data-sentry-element=\"Flex\" data-sentry-source-file=\"index.tsx\" style=\"max-width:643px\" class=\"Flex_display_flex__i0l0hl2 Flex_gap_space8__i0l0hlv\"><div data-sentry-element=\"Flex\" data-sentry-component=\"GrayChip\" data-sentry-source-file=\"index.tsx\" style=\"height:30px;min-width:auto\" class=\"Flex_display_flex__i0l0hl2 Flex_gap_space4__i0l0hly Flex_align_center__i0l0hl8 styles_flex-shrink_0__dk46tsa9 styles_px_space10__dk46tsm vvrp1p0\"><div class=\"styles_flex-shrink_0__dk46tsa9\" data-sentry-element=\"Block\" data-sentry-source-file=\"index.tsx\" style=\"width:16px\"><div class=\"emoji--basicemoji-place2\" style=\"width:16px;height:16px;background-size:16px;background-position:center;background-repeat:no-repeat\"></div></div><span data-accent-color=\"gray900\" data-sentry-element=\"Typography\" data-sentry-source-file=\"index.tsx\" class=\"Typography_variant_size14__344nw27 Typography_weight_regular__344nw2e Typography_color_gray900__344nw2m Typography_truncate__344nw2y\">서울 용산구</span></div><div data-sentry-element=\"Flex\" data-sentry-component=\"GrayChip\" data-sentry-source-file=\"index.tsx\" style=\"height:30px;min-width:0\" class=\"Flex_display_flex__i0l0hl2 Flex_gap_space4__i0l0hly Flex_align_center__i0l0hl8 styles_flex-shrink_1__dk46tsaa styles_px_space10__dk46tsm vvrp1p0\"><div class=\"styles_flex-shrink_0__dk46tsa9\" data-sentry-element=\"Block\" data-sentry-source-file=\"index.tsx\" style=\"width:16px\"><div class=\"emoji--basicemoji-briefcase\" style=\"width:16px;height:16px;background-size:16px;background-position:center;background-repeat:no-repeat\"></div></div><span data-accent-color=\"gray900\" data-sentry-element=\"Typography\" data-sentry-source-file=\"index.tsx\" class=\"Typography_variant_size14__344nw27 Typography_weight_regular__344nw2e Typography_color_gray900__344nw2m Typography_truncate__344nw2y\">연예·엔터테인먼트, 데이터사이언티스트</span></div></div><div class=\"\" data-interactive=\"true\"><button type=\"button\" class=\"Flex_display_flex__i0l0hl2 Flex_align_center__i0l0hl8 Flex_justify_center__i0l0hld styles_flex-shrink_0__dk46tsa9 styles_px_space10__dk46tsm yt9jy32 yt9jy30\" style=\"height:32px;width:90px\" data-sentry-element=\"BaseButton\" data-sentry-source-file=\"index.tsx\" data-sentry-component=\"BaseButton\"><span data-accent-color=\"gray900\" data-sentry-element=\"Typography\" data-sentry-source-file=\"index.tsx\" class=\"Typography_variant_size12__344nw29 Typography_weight_medium__344nw2d Typography_color_gray900__344nw2m\">홈페이지 지원</span></button></div></div><div data-sentry-element=\"Flex\" data-sentry-source-file=\"index.tsx\" class=\"Flex_display_flex__i0l0hl2 Flex_align_center__i0l0hl8 Flex_justify_space-between__i0l0hlf\"><div data-sentry-element=\"Flex\" data-sentry-source-file=\"index.tsx\" style=\"max-width:565px\" class=\"Flex_display_flex__i0l0hl2 Flex_gap_space2__i0l0hl1j Flex_align_center__i0l0hl8\"><span data-accent-color=\"gray700\" data-sentry-element=\"Typography\" data-sentry-source-file=\"index.tsx\" class=\"Typography_variant_size13__344nw28 Typography_weight_regular__344nw2e Typography_color_gray700__344nw2o styles_flex-shrink_0__dk46tsa9\">경력3년↑</span></div><div data-sentry-element=\"Flex\" data-sentry-source-file=\"index.tsx\" class=\"Flex_display_flex__i0l0hl2 Flex_gap_space2__i0l0hl1j styles_flex-shrink_0__dk46tsa9\"><span data-accent-color=\"gray700\" class=\"Typography_variant_size13__344nw28 Typography_weight_regular__344nw2e Typography_color_gray700__344nw2o\">10/17(금) 등록</span><span data-accent-color=\"gray700\" class=\"Typography_variant_size13__344nw28 Typography_weight_regular__344nw2e Typography_color_gray700__344nw2o\">•</span><span data-accent-color=\"gray700\" class=\"Typography_variant_size13__344nw28 Typography_weight_regular__344nw2e Typography_color_gray700__344nw2o\">상시채용</span></div></div></div></div></div></div></div><div class=\"Box_bgColor_white__1wwr54u0 Box_borderColor_default__1wwr54u5 Box_borderSize_1__1wwr54ud styles_p_space0__dk46ts61 styles_radius_radius16__dk46ts9d Shadow_root_list__bm2zcc6 fdhuk40\" data-sentry-element=\"Box\" data-sentry-source-file=\"index.tsx\" data-sentry-component=\"CardJob\" style=\"width:100%;cursor:pointer\"><div data-sentry-element=\"Flex\" data-sentry-source-file=\"index.tsx\" class=\"Flex_display_flex__i0l0hl2 Flex_direction_column__i0l0hl4\"><div data-sentry-element=\"Flex\" data-sentry-source-file=\"index.tsx\" class=\"Flex_display_flex__i0l0hl2 Flex_gap_space20__i0l0hl11 styles_p_space28__dk46ts8d fdhuk42\"><a href=\"https://www.jobkorea.co.kr/Recruit/GI_Read/47683570?Oem_Code=C1&amp;logpath=1&amp;stext=data+scientist&amp;listno=5&amp;sc=630\" rel=\"noopener noreferrer\" target=\"_blank\" data-interactive=\"true\" style=\"width:76px;height:76px\" data-sentry-element=\"BaseLink\" data-sentry-component=\"CompanyLogo\" data-sentry-source-file=\"index.tsx\"><div class=\"Box_bgColor_white__1wwr54u0 Box_borderColor_gray200__1wwr54u6 Box_borderSize_1__1wwr54ud styles_px_space6__dk46ts4i styles_radius_radius8__dk46ts9g Flex_display_flex__i0l0hl2 Flex_align_center__i0l0hl8 Flex_justify_center__i0l0hld styles_flex-shrink_0__dk46tsa9 styles_overflow_hidden__dk46ts9s styles_position_relative__dk46tsa5\" data-sentry-element=\"Box\" data-sentry-source-file=\"index.tsx\" style=\"height:76px;width:76px;border-radius:99px\"><img alt=\"㈜위대한상상 로고\" data-sentry-element=\"NextImage\" data-sentry-source-file=\"index.tsx\" data-sentry-component=\"Image\" loading=\"lazy\" width=\"0\" height=\"0\" decoding=\"async\" data-nimg=\"1\" style=\"color:transparent;width:auto;height:auto;max-width:100%;max-height:100%\" src=\"https://imgs.jobkorea.co.kr//Images/Logo/128/r/g/2331q00qjlexwcd59_3920b9dbvymqjwq2qb.gif?p=y&amp;hash=c\"/></div></a><div class=\"\" data-sentry-element=\"Block\" data-sentry-source-file=\"index.tsx\" style=\"width:100%\"><div data-sentry-element=\"Flex\" data-sentry-source-file=\"index.tsx\" class=\"Flex_display_flex__i0l0hl2 Flex_align_center__i0l0hl8 Flex_justify_space-between__i0l0hlf styles_position_relative__dk46tsa5 styles_mb_space6__dk46ts4f\"><div data-sentry-element=\"Flex\" data-sentry-component=\"BadgeItem\" data-sentry-source-file=\"index.tsx\" class=\"Flex_display_flex__i0l0hl2 Flex_gap_space4__i0l0hly Flex_align_center__i0l0hl8\"><span data-accent-color=\"theme-primary\" data-sentry-element=\"Typography\" data-sentry-source-file=\"index.tsx\" class=\"Typography_variant_size13__344nw28 Typography_weight_medium__344nw2d Typography_color_theme-primary__344nw2f\">탄탄한 중견기업</span></div><div class=\"styles_position_absolute__dk46tsa6\" style=\"right:0;top:0\"><button type=\"button\" data-interactive=\"true\" data-sentry-component=\"BaseButton\" data-sentry-source-file=\"index.tsx\"><i class=\"jds-icon jds-icon--system_scrap Icon_root__1516qwb0 Icon_color_gray300__1516qwbb Icon_size_28__1516qwbn\"></i><span style=\"position:absolute;border:0;width:1px;height:1px;padding:0;margin:-1px;overflow:hidden;clip:rect(0, 0, 0, 0);white-space:nowrap;word-wrap:normal\">스크랩</span></button></div></div><div class=\"styles_mb_space2__dk46ts4t\" data-sentry-element=\"Block\" data-sentry-source-file=\"index.tsx\"><a href=\"https://www.jobkorea.co.kr/Recruit/GI_Read/47683570?Oem_Code=C1&amp;logpath=1&amp;stext=data+scientist&amp;listno=5&amp;sc=630\" rel=\"noopener noreferrer\" target=\"_blank\" data-interactive=\"true\" data-sentry-element=\"BaseLink\" data-sentry-source-file=\"index.tsx\" style=\"max-width:700px\" class=\"Flex_display_flex__i0l0hl2 Flex_gap_space6__i0l0hl1g Flex_align_center__i0l0hl8 styles_mb_space2__dk46ts4t\"><span data-accent-color=\"gray900\" data-sentry-element=\"Typography\" data-sentry-source-file=\"index.tsx\" class=\"Typography_variant_size18__344nw25 Typography_weight_medium__344nw2d Typography_color_gray900__344nw2m Typography_truncate__344nw2y\"> [Tech] Data Scientist (추천 모델링, 7년 이상)</span></a></div><a href=\"https://www.jobkorea.co.kr/Recruit/GI_Read/47683570?Oem_Code=C1&amp;logpath=1&amp;stext=data+scientist&amp;listno=5&amp;sc=630\" rel=\"noopener noreferrer\" target=\"_blank\" data-interactive=\"true\" data-sentry-element=\"BaseLink\" data-sentry-source-file=\"index.tsx\" class=\"Flex_display_inline-flex__i0l0hl1 Flex_gap_space6__i0l0hl1g Flex_align_center__i0l0hl8 styles_mb_space20__dk46ts2h\"><span data-accent-color=\"gray700\" data-sentry-element=\"Typography\" data-sentry-source-file=\"index.tsx\" class=\"Typography_variant_size16__344nw26 Typography_weight_regular__344nw2e Typography_color_gray700__344nw2o Typography_truncate__344nw2y\">㈜위대한상상</span><span data-accent-color=\"gray500\" data-sentry-element=\"Typography\" data-sentry-source-file=\"index.tsx\" class=\"Typography_variant_size11__344nw2a Typography_weight_regular__344nw2e Typography_color_gray500__344nw2p styles_flex-shrink_0__dk46tsa9\"></span></a><div data-sentry-element=\"Flex\" data-sentry-source-file=\"index.tsx\" class=\"Flex_display_flex__i0l0hl2 Flex_gap_space10__i0l0hlm Flex_direction_column__i0l0hl4\"><div data-sentry-element=\"Flex\" data-sentry-source-file=\"index.tsx\" class=\"Flex_display_flex__i0l0hl2 Flex_justify_space-between__i0l0hlf\"><div data-sentry-element=\"Flex\" data-sentry-source-file=\"index.tsx\" style=\"max-width:643px\" class=\"Flex_display_flex__i0l0hl2 Flex_gap_space8__i0l0hlv\"><div data-sentry-element=\"Flex\" data-sentry-component=\"GrayChip\" data-sentry-source-file=\"index.tsx\" style=\"height:30px;min-width:auto\" class=\"Flex_display_flex__i0l0hl2 Flex_gap_space4__i0l0hly Flex_align_center__i0l0hl8 styles_flex-shrink_0__dk46tsa9 styles_px_space10__dk46tsm vvrp1p0\"><div class=\"styles_flex-shrink_0__dk46tsa9\" data-sentry-element=\"Block\" data-sentry-source-file=\"index.tsx\" style=\"width:16px\"><div class=\"emoji--basicemoji-place2\" style=\"width:16px;height:16px;background-size:16px;background-position:center;background-repeat:no-repeat\"></div></div><span data-accent-color=\"gray900\" data-sentry-element=\"Typography\" data-sentry-source-file=\"index.tsx\" class=\"Typography_variant_size14__344nw27 Typography_weight_regular__344nw2e Typography_color_gray900__344nw2m Typography_truncate__344nw2y\">서울 강남구</span></div><div data-sentry-element=\"Flex\" data-sentry-component=\"GrayChip\" data-sentry-source-file=\"index.tsx\" style=\"height:30px;min-width:0\" class=\"Flex_display_flex__i0l0hl2 Flex_gap_space4__i0l0hly Flex_align_center__i0l0hl8 styles_flex-shrink_1__dk46tsaa styles_px_space10__dk46tsm vvrp1p0\"><div class=\"styles_flex-shrink_0__dk46tsa9\" data-sentry-element=\"Block\" data-sentry-source-file=\"index.tsx\" style=\"width:16px\"><div class=\"emoji--basicemoji-briefcase\" style=\"width:16px;height:16px;background-size:16px;background-position:center;background-repeat:no-repeat\"></div></div><span data-accent-color=\"gray900\" data-sentry-element=\"Typography\" data-sentry-source-file=\"index.tsx\" class=\"Typography_variant_size14__344nw27 Typography_weight_regular__344nw2e Typography_color_gray900__344nw2m Typography_truncate__344nw2y\">쇼핑몰·오픈마켓·소셜커머스, 데이터사이언티스트</span></div></div><div class=\"\" data-interactive=\"true\"><button type=\"button\" class=\"Flex_display_flex__i0l0hl2 Flex_align_center__i0l0hl8 Flex_justify_center__i0l0hld styles_flex-shrink_0__dk46tsa9 styles_px_space10__dk46tsm yt9jy32 yt9jy30\" style=\"height:32px;width:90px\" data-sentry-element=\"BaseButton\" data-sentry-source-file=\"index.tsx\" data-sentry-component=\"BaseButton\"><span data-accent-color=\"gray900\" data-sentry-element=\"Typography\" data-sentry-source-file=\"index.tsx\" class=\"Typography_variant_size12__344nw29 Typography_weight_medium__344nw2d Typography_color_gray900__344nw2m\">홈페이지 지원</span></button></div></div><div data-sentry-element=\"Flex\" data-sentry-source-file=\"index.tsx\" class=\"Flex_display_flex__i0l0hl2 Flex_align_center__i0l0hl8 Flex_justify_space-between__i0l0hlf\"><div data-sentry-element=\"Flex\" data-sentry-source-file=\"index.tsx\" style=\"max-width:565px\" class=\"Flex_display_flex__i0l0hl2 Flex_gap_space2__i0l0hl1j Flex_align_center__i0l0hl8\"><span data-accent-color=\"gray700\" data-sentry-element=\"Typography\" data-sentry-source-file=\"index.tsx\" class=\"Typography_variant_size13__344nw28 Typography_weight_regular__344nw2e Typography_color_gray700__344nw2o styles_flex-shrink_0__dk46tsa9\">경력7년↑</span></div><div data-sentry-element=\"Flex\" data-sentry-source-file=\"index.tsx\" class=\"Flex_display_flex__i0l0hl2 Flex_gap_space2__i0l0hl1j styles_flex-shrink_0__dk46tsa9\"><span data-accent-color=\"gray700\" class=\"Typography_variant_size13__344nw28 Typography_weight_regular__344nw2e Typography_color_gray700__344nw2o\">10/05(일) 등록</span><span data-accent-color=\"gray700\" class=\"Typography_variant_size13__344nw28 Typography_weight_regular__344nw2e Typography_color_gray700__344nw2o\">•</span><span data-accent-color=\"gray700\" class=\"Typography_variant_size13__344nw28 Typography_weight_regular__344nw2e Typography_color_gray700__344nw2o\">11/10(월) 마감</span></div></div></div></div></div></div></div><div class=\"Box_bgColor_white__1wwr54u0 Box_borderColor_default__1wwr54u5 Box_borderSize_1__1wwr54ud styles_p_space0__dk46ts61 styles_radius_radius16__dk46ts9d Shadow_root_list__bm2zcc6 fdhuk40\" data-sentry-element=\"Box\" data-sentry-source-file=\"index.tsx\" data-sentry-component=\"CardJob\" style=\"width:100%;cursor:pointer\"><div data-sentry-element=\"Flex\" data-sentry-source-file=\"index.tsx\" class=\"Flex_display_flex__i0l0hl2 Flex_direction_column__i0l0hl4\"><div data-sentry-element=\"Flex\" data-sentry-source-file=\"index.tsx\" class=\"Flex_display_flex__i0l0hl2 Flex_gap_space20__i0l0hl11 styles_p_space28__dk46ts8d fdhuk42\"><a href=\"https://www.jobkorea.co.kr/Recruit/GI_Read/47800093?Oem_Code=C1&amp;logpath=1&amp;stext=data+scientist&amp;listno=6&amp;sc=630\" rel=\"noopener noreferrer\" target=\"_blank\" data-interactive=\"true\" style=\"width:76px;height:76px\" data-sentry-element=\"BaseLink\" data-sentry-component=\"CompanyLogo\" data-sentry-source-file=\"index.tsx\"><div class=\"Box_bgColor_white__1wwr54u0 Box_borderColor_gray200__1wwr54u6 Box_borderSize_1__1wwr54ud styles_px_space6__dk46ts4i styles_radius_radius8__dk46ts9g Flex_display_flex__i0l0hl2 Flex_align_center__i0l0hl8 Flex_justify_center__i0l0hld styles_flex-shrink_0__dk46tsa9 styles_overflow_hidden__dk46ts9s styles_position_relative__dk46tsa5\" data-sentry-element=\"Box\" data-sentry-source-file=\"index.tsx\" style=\"height:76px;width:76px;border-radius:99px\"><img alt=\"㈜애드이피션시 로고\" data-sentry-element=\"NextImage\" data-sentry-source-file=\"index.tsx\" data-sentry-component=\"Image\" loading=\"lazy\" width=\"0\" height=\"0\" decoding=\"async\" data-nimg=\"1\" style=\"color:transparent;width:auto;height:auto;max-width:100%;max-height:100%\" src=\"https://imgs.jobkorea.co.kr//Images/Logo/128/a/d/2617q00qqdm98432_3820z8czpxf8517qz.gif?p=y&amp;hash=c\"/></div></a><div class=\"\" data-sentry-element=\"Block\" data-sentry-source-file=\"index.tsx\" style=\"width:100%\"><div data-sentry-element=\"Flex\" data-sentry-source-file=\"index.tsx\" class=\"Flex_display_flex__i0l0hl2 Flex_align_center__i0l0hl8 Flex_justify_space-between__i0l0hlf styles_position_relative__dk46tsa5 styles_mb_space6__dk46ts4f\"><div data-sentry-element=\"Flex\" data-sentry-component=\"BadgeItem\" data-sentry-source-file=\"index.tsx\" class=\"Flex_display_flex__i0l0hl2 Flex_gap_space4__i0l0hly Flex_align_center__i0l0hl8\"><span data-accent-color=\"theme-primary\" data-sentry-element=\"Typography\" data-sentry-source-file=\"index.tsx\" class=\"Typography_variant_size13__344nw28 Typography_weight_medium__344nw2d Typography_color_theme-primary__344nw2f\">탄탄한 중견기업</span></div><div class=\"styles_position_absolute__dk46tsa6\" style=\"right:0;top:0\"><button type=\"button\" data-interactive=\"true\" data-sentry-component=\"BaseButton\" data-sentry-source-file=\"index.tsx\"><i class=\"jds-icon jds-icon--system_scrap Icon_root__1516qwb0 Icon_color_gray300__1516qwbb Icon_size_28__1516qwbn\"></i><span style=\"position:absolute;border:0;width:1px;height:1px;padding:0;margin:-1px;overflow:hidden;clip:rect(0, 0, 0, 0);white-space:nowrap;word-wrap:normal\">스크랩</span></button></div></div><div class=\"styles_mb_space2__dk46ts4t\" data-sentry-element=\"Block\" data-sentry-source-file=\"index.tsx\"><a href=\"https://www.jobkorea.co.kr/Recruit/GI_Read/47800093?Oem_Code=C1&amp;logpath=1&amp;stext=data+scientist&amp;listno=6&amp;sc=630\" rel=\"noopener noreferrer\" target=\"_blank\" data-interactive=\"true\" data-sentry-element=\"BaseLink\" data-sentry-source-file=\"index.tsx\" style=\"max-width:700px\" class=\"Flex_display_flex__i0l0hl2 Flex_gap_space6__i0l0hl1g Flex_align_center__i0l0hl8 styles_mb_space2__dk46ts4t\"><span data-accent-color=\"gray900\" data-sentry-element=\"Typography\" data-sentry-source-file=\"index.tsx\" class=\"Typography_variant_size18__344nw25 Typography_weight_medium__344nw2d Typography_color_gray900__344nw2m Typography_truncate__344nw2y\">데이터 사이언티스트 특별 채용 [경력-1년이상 모집]</span></a></div><a href=\"https://www.jobkorea.co.kr/Recruit/GI_Read/47800093?Oem_Code=C1&amp;logpath=1&amp;stext=data+scientist&amp;listno=6&amp;sc=630\" rel=\"noopener noreferrer\" target=\"_blank\" data-interactive=\"true\" data-sentry-element=\"BaseLink\" data-sentry-source-file=\"index.tsx\" class=\"Flex_display_inline-flex__i0l0hl1 Flex_gap_space6__i0l0hl1g Flex_align_center__i0l0hl8 styles_mb_space20__dk46ts2h\"><span data-accent-color=\"gray700\" data-sentry-element=\"Typography\" data-sentry-source-file=\"index.tsx\" class=\"Typography_variant_size16__344nw26 Typography_weight_regular__344nw2e Typography_color_gray700__344nw2o Typography_truncate__344nw2y\">㈜애드이피션시</span><span data-accent-color=\"gray500\" data-sentry-element=\"Typography\" data-sentry-source-file=\"index.tsx\" class=\"Typography_variant_size11__344nw2a Typography_weight_regular__344nw2e Typography_color_gray500__344nw2p styles_flex-shrink_0__dk46tsa9\"></span></a><div data-sentry-element=\"Flex\" data-sentry-source-file=\"index.tsx\" class=\"Flex_display_flex__i0l0hl2 Flex_gap_space10__i0l0hlm Flex_direction_column__i0l0hl4\"><div data-sentry-element=\"Flex\" data-sentry-source-file=\"index.tsx\" class=\"Flex_display_flex__i0l0hl2 Flex_justify_space-between__i0l0hlf\"><div data-sentry-element=\"Flex\" data-sentry-source-file=\"index.tsx\" style=\"max-width:643px\" class=\"Flex_display_flex__i0l0hl2 Flex_gap_space8__i0l0hlv\"><div data-sentry-element=\"Flex\" data-sentry-component=\"GrayChip\" data-sentry-source-file=\"index.tsx\" style=\"height:30px;min-width:auto\" class=\"Flex_display_flex__i0l0hl2 Flex_gap_space4__i0l0hly Flex_align_center__i0l0hl8 styles_flex-shrink_0__dk46tsa9 styles_px_space10__dk46tsm vvrp1p0\"><div class=\"styles_flex-shrink_0__dk46tsa9\" data-sentry-element=\"Block\" data-sentry-source-file=\"index.tsx\" style=\"width:16px\"><div class=\"emoji--basicemoji-place2\" style=\"width:16px;height:16px;background-size:16px;background-position:center;background-repeat:no-repeat\"></div></div><span data-accent-color=\"gray900\" data-sentry-element=\"Typography\" data-sentry-source-file=\"index.tsx\" class=\"Typography_variant_size14__344nw27 Typography_weight_regular__344nw2e Typography_color_gray900__344nw2m Typography_truncate__344nw2y\">서울 서초구</span></div><div data-sentry-element=\"Flex\" data-sentry-component=\"GrayChip\" data-sentry-source-file=\"index.tsx\" style=\"height:30px;min-width:0\" class=\"Flex_display_flex__i0l0hl2 Flex_gap_space4__i0l0hly Flex_align_center__i0l0hl8 styles_flex-shrink_1__dk46tsaa styles_px_space10__dk46tsm vvrp1p0\"><div class=\"styles_flex-shrink_0__dk46tsa9\" data-sentry-element=\"Block\" data-sentry-source-file=\"index.tsx\" style=\"width:16px\"><div class=\"emoji--basicemoji-briefcase\" style=\"width:16px;height:16px;background-size:16px;background-position:center;background-repeat:no-repeat\"></div></div><span data-accent-color=\"gray900\" data-sentry-element=\"Typography\" data-sentry-source-file=\"index.tsx\" class=\"Typography_variant_size14__344nw27 Typography_weight_regular__344nw2e Typography_color_gray900__344nw2m Typography_truncate__344nw2y\">광고·홍보·전시, 데이터사이언티스트</span></div></div><div class=\"\" data-interactive=\"true\"><button type=\"button\" class=\"Flex_display_flex__i0l0hl2 Flex_align_center__i0l0hl8 Flex_justify_center__i0l0hld styles_flex-shrink_0__dk46tsa9 styles_px_space10__dk46tsm yt9jy31 yt9jy30\" style=\"height:32px;width:90px\" data-sentry-element=\"BaseButton\" data-sentry-source-file=\"index.tsx\" data-sentry-component=\"BaseButton\"><span data-accent-color=\"theme-primary\" data-sentry-element=\"Typography\" data-sentry-source-file=\"index.tsx\" class=\"Typography_variant_size12__344nw29 Typography_weight_medium__344nw2d Typography_color_theme-primary__344nw2f\">즉시 지원</span></button></div></div><div data-sentry-element=\"Flex\" data-sentry-source-file=\"index.tsx\" class=\"Flex_display_flex__i0l0hl2 Flex_align_center__i0l0hl8 Flex_justify_space-between__i0l0hlf\"><div data-sentry-element=\"Flex\" data-sentry-source-file=\"index.tsx\" style=\"max-width:565px\" class=\"Flex_display_flex__i0l0hl2 Flex_gap_space2__i0l0hl1j Flex_align_center__i0l0hl8\"><span data-accent-color=\"gray700\" data-sentry-element=\"Typography\" data-sentry-source-file=\"index.tsx\" class=\"Typography_variant_size13__344nw28 Typography_weight_regular__344nw2e Typography_color_gray700__344nw2o styles_flex-shrink_0__dk46tsa9\">경력2년↑</span></div><div data-sentry-element=\"Flex\" data-sentry-source-file=\"index.tsx\" class=\"Flex_display_flex__i0l0hl2 Flex_gap_space2__i0l0hl1j styles_flex-shrink_0__dk46tsa9\"><span data-accent-color=\"gray700\" class=\"Typography_variant_size13__344nw28 Typography_weight_regular__344nw2e Typography_color_gray700__344nw2o\">10/01(수) 등록</span><span data-accent-color=\"gray700\" class=\"Typography_variant_size13__344nw28 Typography_weight_regular__344nw2e Typography_color_gray700__344nw2o\">•</span><span data-accent-color=\"gray700\" class=\"Typography_variant_size13__344nw28 Typography_weight_regular__344nw2e Typography_color_gray700__344nw2o\">10/31(금) 마감</span></div></div></div></div></div></div></div><div class=\"Box_bgColor_white__1wwr54u0 Box_borderColor_default__1wwr54u5 Box_borderSize_1__1wwr54ud styles_p_space0__dk46ts61 styles_radius_radius16__dk46ts9d Shadow_root_list__bm2zcc6 fdhuk40\" data-sentry-element=\"Box\" data-sentry-source-file=\"index.tsx\" data-sentry-component=\"CardJob\" style=\"width:100%;cursor:pointer\"><div data-sentry-element=\"Flex\" data-sentry-source-file=\"index.tsx\" class=\"Flex_display_flex__i0l0hl2 Flex_direction_column__i0l0hl4\"><div data-sentry-element=\"Flex\" data-sentry-source-file=\"index.tsx\" class=\"Flex_display_flex__i0l0hl2 Flex_gap_space20__i0l0hl11 styles_p_space28__dk46ts8d fdhuk42\"><a href=\"https://www.jobkorea.co.kr/Recruit/GI_Read/47846951?Oem_Code=C1&amp;logpath=1&amp;stext=data+scientist&amp;listno=7&amp;sc=630\" rel=\"noopener noreferrer\" target=\"_blank\" data-interactive=\"true\" style=\"width:76px;height:76px\" data-sentry-element=\"BaseLink\" data-sentry-component=\"CompanyLogo\" data-sentry-source-file=\"index.tsx\"><div class=\"Box_bgColor_white__1wwr54u0 Box_borderColor_gray200__1wwr54u6 Box_borderSize_1__1wwr54ud styles_px_space6__dk46ts4i styles_radius_radius8__dk46ts9g Flex_display_flex__i0l0hl2 Flex_align_center__i0l0hl8 Flex_justify_center__i0l0hld styles_flex-shrink_0__dk46tsa9 styles_overflow_hidden__dk46ts9s styles_position_relative__dk46tsa5\" data-sentry-element=\"Box\" data-sentry-source-file=\"index.tsx\" style=\"height:76px;width:76px;border-radius:99px\"><img alt=\"GS리테일 로고\" data-sentry-element=\"NextImage\" data-sentry-source-file=\"index.tsx\" data-sentry-component=\"Image\" loading=\"lazy\" width=\"0\" height=\"0\" decoding=\"async\" data-nimg=\"1\" style=\"color:transparent;width:auto;height:auto;max-width:100%;max-height:100%\" src=\"https://imgs.jobkorea.co.kr//Images/Logo/128/l/g/2973l00lswzol2_2020t6atppnvvlt.gif?p=y&amp;hash=c\"/></div></a><div class=\"\" data-sentry-element=\"Block\" data-sentry-source-file=\"index.tsx\" style=\"width:100%\"><div data-sentry-element=\"Flex\" data-sentry-source-file=\"index.tsx\" class=\"Flex_display_flex__i0l0hl2 Flex_align_center__i0l0hl8 Flex_justify_space-between__i0l0hlf styles_position_relative__dk46tsa5 styles_mb_space6__dk46ts4f\"><div data-sentry-element=\"Flex\" data-sentry-component=\"BadgeItem\" data-sentry-source-file=\"index.tsx\" class=\"Flex_display_flex__i0l0hl2 Flex_gap_space4__i0l0hly Flex_align_center__i0l0hl8\"><span data-accent-color=\"theme-secondary2\" data-sentry-element=\"Typography\" data-sentry-source-file=\"index.tsx\" class=\"Typography_variant_size13__344nw28 Typography_weight_medium__344nw2d Typography_color_theme-secondary2__344nw2h\">유연근무제 시행중</span></div><div class=\"styles_position_absolute__dk46tsa6\" style=\"right:0;top:0\"><button type=\"button\" data-interactive=\"true\" data-sentry-component=\"BaseButton\" data-sentry-source-file=\"index.tsx\"><i class=\"jds-icon jds-icon--system_scrap Icon_root__1516qwb0 Icon_color_gray300__1516qwbb Icon_size_28__1516qwbn\"></i><span style=\"position:absolute;border:0;width:1px;height:1px;padding:0;margin:-1px;overflow:hidden;clip:rect(0, 0, 0, 0);white-space:nowrap;word-wrap:normal\">스크랩</span></button></div></div><div class=\"styles_mb_space2__dk46ts4t\" data-sentry-element=\"Block\" data-sentry-source-file=\"index.tsx\"><a href=\"https://www.jobkorea.co.kr/Recruit/GI_Read/47846951?Oem_Code=C1&amp;logpath=1&amp;stext=data+scientist&amp;listno=7&amp;sc=630\" rel=\"noopener noreferrer\" target=\"_blank\" data-interactive=\"true\" data-sentry-element=\"BaseLink\" data-sentry-source-file=\"index.tsx\" style=\"max-width:700px\" class=\"Flex_display_flex__i0l0hl2 Flex_gap_space6__i0l0hl1g Flex_align_center__i0l0hl8 styles_mb_space2__dk46ts4t\"><span data-accent-color=\"gray900\" data-sentry-element=\"Typography\" data-sentry-source-file=\"index.tsx\" class=\"Typography_variant_size18__344nw25 Typography_weight_medium__344nw2d Typography_color_gray900__344nw2m Typography_truncate__344nw2y\">[GS리테일] DX본부 플랫폼데이터분석팀/홈쇼핑데이터분석팀 데이터 사이언티스트 채용</span></a></div><a href=\"https://www.jobkorea.co.kr/Recruit/GI_Read/47846951?Oem_Code=C1&amp;logpath=1&amp;stext=data+scientist&amp;listno=7&amp;sc=630\" rel=\"noopener noreferrer\" target=\"_blank\" data-interactive=\"true\" data-sentry-element=\"BaseLink\" data-sentry-source-file=\"index.tsx\" class=\"Flex_display_inline-flex__i0l0hl1 Flex_gap_space6__i0l0hl1g Flex_align_center__i0l0hl8 styles_mb_space20__dk46ts2h\"><span data-accent-color=\"gray700\" data-sentry-element=\"Typography\" data-sentry-source-file=\"index.tsx\" class=\"Typography_variant_size16__344nw26 Typography_weight_regular__344nw2e Typography_color_gray700__344nw2o Typography_truncate__344nw2y\">GS리테일</span><span data-accent-color=\"gray500\" data-sentry-element=\"Typography\" data-sentry-source-file=\"index.tsx\" class=\"Typography_variant_size11__344nw2a Typography_weight_regular__344nw2e Typography_color_gray500__344nw2p styles_flex-shrink_0__dk46tsa9\">GS그룹</span></a><div data-sentry-element=\"Flex\" data-sentry-source-file=\"index.tsx\" class=\"Flex_display_flex__i0l0hl2 Flex_gap_space10__i0l0hlm Flex_direction_column__i0l0hl4\"><div data-sentry-element=\"Flex\" data-sentry-source-file=\"index.tsx\" class=\"Flex_display_flex__i0l0hl2 Flex_justify_space-between__i0l0hlf\"><div data-sentry-element=\"Flex\" data-sentry-source-file=\"index.tsx\" style=\"max-width:643px\" class=\"Flex_display_flex__i0l0hl2 Flex_gap_space8__i0l0hlv\"><div data-sentry-element=\"Flex\" data-sentry-component=\"GrayChip\" data-sentry-source-file=\"index.tsx\" style=\"height:30px;min-width:auto\" class=\"Flex_display_flex__i0l0hl2 Flex_gap_space4__i0l0hly Flex_align_center__i0l0hl8 styles_flex-shrink_0__dk46tsa9 styles_px_space10__dk46tsm vvrp1p0\"><div class=\"styles_flex-shrink_0__dk46tsa9\" data-sentry-element=\"Block\" data-sentry-source-file=\"index.tsx\" style=\"width:16px\"><div class=\"emoji--basicemoji-place2\" style=\"width:16px;height:16px;background-size:16px;background-position:center;background-repeat:no-repeat\"></div></div><span data-accent-color=\"gray900\" data-sentry-element=\"Typography\" data-sentry-source-file=\"index.tsx\" class=\"Typography_variant_size14__344nw27 Typography_weight_regular__344nw2e Typography_color_gray900__344nw2m Typography_truncate__344nw2y\">서울 외 6</span></div><div data-sentry-element=\"Flex\" data-sentry-component=\"GrayChip\" data-sentry-source-file=\"index.tsx\" style=\"height:30px;min-width:0\" class=\"Flex_display_flex__i0l0hl2 Flex_gap_space4__i0l0hly Flex_align_center__i0l0hl8 styles_flex-shrink_1__dk46tsaa styles_px_space10__dk46tsm vvrp1p0\"><div class=\"styles_flex-shrink_0__dk46tsa9\" data-sentry-element=\"Block\" data-sentry-source-file=\"index.tsx\" style=\"width:16px\"><div class=\"emoji--basicemoji-briefcase\" style=\"width:16px;height:16px;background-size:16px;background-position:center;background-repeat:no-repeat\"></div></div><span data-accent-color=\"gray900\" data-sentry-element=\"Typography\" data-sentry-source-file=\"index.tsx\" class=\"Typography_variant_size14__344nw27 Typography_weight_regular__344nw2e Typography_color_gray900__344nw2m Typography_truncate__344nw2y\">백화점·유통·도소매, 백엔드개발자, 데이터엔지니어, 데이터사이언티스트</span></div></div><div class=\"\" data-interactive=\"true\"><button type=\"button\" class=\"Flex_display_flex__i0l0hl2 Flex_align_center__i0l0hl8 Flex_justify_center__i0l0hld styles_flex-shrink_0__dk46tsa9 styles_px_space10__dk46tsm yt9jy32 yt9jy30\" style=\"height:32px;width:90px\" data-sentry-element=\"BaseButton\" data-sentry-source-file=\"index.tsx\" data-sentry-component=\"BaseButton\"><span data-accent-color=\"gray900\" data-sentry-element=\"Typography\" data-sentry-source-file=\"index.tsx\" class=\"Typography_variant_size12__344nw29 Typography_weight_medium__344nw2d Typography_color_gray900__344nw2m\">홈페이지 지원</span></button></div></div><div data-sentry-element=\"Flex\" data-sentry-source-file=\"index.tsx\" class=\"Flex_display_flex__i0l0hl2 Flex_align_center__i0l0hl8 Flex_justify_space-between__i0l0hlf\"><div data-sentry-element=\"Flex\" data-sentry-source-file=\"index.tsx\" style=\"max-width:565px\" class=\"Flex_display_flex__i0l0hl2 Flex_gap_space2__i0l0hl1j Flex_align_center__i0l0hl8\"><span data-accent-color=\"gray700\" data-sentry-element=\"Typography\" data-sentry-source-file=\"index.tsx\" class=\"Typography_variant_size13__344nw28 Typography_weight_regular__344nw2e Typography_color_gray700__344nw2o styles_flex-shrink_0__dk46tsa9\">경력</span><span data-accent-color=\"gray700\" class=\"Typography_variant_size13__344nw28 Typography_weight_regular__344nw2e Typography_color_gray700__344nw2o Typography_truncate__344nw2y\">•</span><span data-accent-color=\"gray700\" class=\"Typography_variant_size13__344nw28 Typography_weight_regular__344nw2e Typography_color_gray700__344nw2o Typography_truncate__344nw2y\">경조사 지원<!-- -->, <!-- -->유연근무<!-- -->, <!-- -->임직원 할인<!-- -->, <!-- -->각종 교육비 지원<!-- -->, <!-- -->휴양시설 지원<!-- -->, <!-- -->의료비 지원<!-- -->, <!-- -->사내 어린이집<!-- -->, <!-- -->업무활동비 지원</span></div><div data-sentry-element=\"Flex\" data-sentry-source-file=\"index.tsx\" class=\"Flex_display_flex__i0l0hl2 Flex_gap_space2__i0l0hl1j styles_flex-shrink_0__dk46tsa9\"><span data-accent-color=\"gray700\" class=\"Typography_variant_size13__344nw28 Typography_weight_regular__344nw2e Typography_color_gray700__344nw2o\">10/14(화) 등록</span><span data-accent-color=\"gray700\" class=\"Typography_variant_size13__344nw28 Typography_weight_regular__344nw2e Typography_color_gray700__344nw2o\">•</span><span data-accent-color=\"gray700\" class=\"Typography_variant_size13__344nw28 Typography_weight_regular__344nw2e Typography_color_gray700__344nw2o\">내일마감</span></div></div></div></div></div></div></div><div class=\"Box_bgColor_white__1wwr54u0 Box_borderColor_default__1wwr54u5 Box_borderSize_1__1wwr54ud styles_p_space0__dk46ts61 styles_radius_radius16__dk46ts9d Shadow_root_list__bm2zcc6 fdhuk40\" data-sentry-element=\"Box\" data-sentry-source-file=\"index.tsx\" data-sentry-component=\"CardJob\" style=\"width:100%;cursor:pointer\"><div data-sentry-element=\"Flex\" data-sentry-source-file=\"index.tsx\" class=\"Flex_display_flex__i0l0hl2 Flex_direction_column__i0l0hl4\"><div data-sentry-element=\"Flex\" data-sentry-source-file=\"index.tsx\" class=\"Flex_display_flex__i0l0hl2 Flex_gap_space20__i0l0hl11 styles_p_space28__dk46ts8d fdhuk42\"><a href=\"https://www.jobkorea.co.kr/Recruit/GI_Read/47864720?Oem_Code=C1&amp;logpath=1&amp;stext=data+scientist&amp;listno=8&amp;sc=630\" rel=\"noopener noreferrer\" target=\"_blank\" data-interactive=\"true\" style=\"width:76px;height:76px\" data-sentry-element=\"BaseLink\" data-sentry-component=\"CompanyLogo\" data-sentry-source-file=\"index.tsx\"><div class=\"Box_bgColor_white__1wwr54u0 Box_borderColor_gray200__1wwr54u6 Box_borderSize_1__1wwr54ud styles_px_space6__dk46ts4i styles_radius_radius8__dk46ts9g Flex_display_flex__i0l0hl2 Flex_align_center__i0l0hl8 Flex_justify_center__i0l0hld styles_flex-shrink_0__dk46tsa9 styles_overflow_hidden__dk46ts9s styles_position_relative__dk46tsa5\" data-sentry-element=\"Box\" data-sentry-source-file=\"index.tsx\" style=\"height:76px;width:76px;border-radius:99px\"><img alt=\"렉스소프트㈜ 로고\" data-sentry-element=\"NextImage\" data-sentry-source-file=\"index.tsx\" data-sentry-component=\"Image\" loading=\"lazy\" width=\"0\" height=\"0\" decoding=\"async\" data-nimg=\"1\" style=\"color:transparent;width:auto;height:auto;max-width:100%;max-height:100%\" src=\"https://imgs.jobkorea.co.kr//Images/Logo/128/w/o/2453w00wmjdnwxfez2_3520gaegxsghejd94wg.gif?p=y&amp;hash=c\"/></div></a><div class=\"\" data-sentry-element=\"Block\" data-sentry-source-file=\"index.tsx\" style=\"width:100%\"><div data-sentry-element=\"Flex\" data-sentry-source-file=\"index.tsx\" class=\"Flex_display_flex__i0l0hl2 Flex_align_center__i0l0hl8 Flex_justify_space-between__i0l0hlf styles_position_relative__dk46tsa5 styles_mb_space6__dk46ts4f\"><div data-sentry-element=\"Flex\" data-sentry-component=\"BadgeItem\" data-sentry-source-file=\"index.tsx\" class=\"Flex_display_flex__i0l0hl2 Flex_gap_space4__i0l0hly Flex_align_center__i0l0hl8\"><span data-accent-color=\"pink\" data-sentry-element=\"Typography\" data-sentry-source-file=\"index.tsx\" class=\"Typography_variant_size13__344nw28 Typography_weight_medium__344nw2d Typography_color_pink__344nw2x\">신입 지원 가능</span></div><div class=\"styles_position_absolute__dk46tsa6\" style=\"right:0;top:0\"><button type=\"button\" data-interactive=\"true\" data-sentry-component=\"BaseButton\" data-sentry-source-file=\"index.tsx\"><i class=\"jds-icon jds-icon--system_scrap Icon_root__1516qwb0 Icon_color_gray300__1516qwbb Icon_size_28__1516qwbn\"></i><span style=\"position:absolute;border:0;width:1px;height:1px;padding:0;margin:-1px;overflow:hidden;clip:rect(0, 0, 0, 0);white-space:nowrap;word-wrap:normal\">스크랩</span></button></div></div><div class=\"styles_mb_space2__dk46ts4t\" data-sentry-element=\"Block\" data-sentry-source-file=\"index.tsx\"><a href=\"https://www.jobkorea.co.kr/Recruit/GI_Read/47864720?Oem_Code=C1&amp;logpath=1&amp;stext=data+scientist&amp;listno=8&amp;sc=630\" rel=\"noopener noreferrer\" target=\"_blank\" data-interactive=\"true\" data-sentry-element=\"BaseLink\" data-sentry-source-file=\"index.tsx\" style=\"max-width:700px\" class=\"Flex_display_flex__i0l0hl2 Flex_gap_space6__i0l0hl1g Flex_align_center__i0l0hl8 styles_mb_space2__dk46ts4t\"><span data-accent-color=\"gray900\" data-sentry-element=\"Typography\" data-sentry-source-file=\"index.tsx\" class=\"Typography_variant_size18__344nw25 Typography_weight_medium__344nw2d Typography_color_gray900__344nw2m Typography_truncate__344nw2y\">디지털 헬스케어 / 데이터 사이언티스트</span></a></div><a href=\"https://www.jobkorea.co.kr/Recruit/GI_Read/47864720?Oem_Code=C1&amp;logpath=1&amp;stext=data+scientist&amp;listno=8&amp;sc=630\" rel=\"noopener noreferrer\" target=\"_blank\" data-interactive=\"true\" data-sentry-element=\"BaseLink\" data-sentry-source-file=\"index.tsx\" class=\"Flex_display_inline-flex__i0l0hl1 Flex_gap_space6__i0l0hl1g Flex_align_center__i0l0hl8 styles_mb_space20__dk46ts2h\"><span data-accent-color=\"gray700\" data-sentry-element=\"Typography\" data-sentry-source-file=\"index.tsx\" class=\"Typography_variant_size16__344nw26 Typography_weight_regular__344nw2e Typography_color_gray700__344nw2o Typography_truncate__344nw2y\">렉스소프트㈜</span><span data-accent-color=\"gray500\" data-sentry-element=\"Typography\" data-sentry-source-file=\"index.tsx\" class=\"Typography_variant_size11__344nw2a Typography_weight_regular__344nw2e Typography_color_gray500__344nw2p styles_flex-shrink_0__dk46tsa9\"></span></a><div data-sentry-element=\"Flex\" data-sentry-source-file=\"index.tsx\" class=\"Flex_display_flex__i0l0hl2 Flex_gap_space10__i0l0hlm Flex_direction_column__i0l0hl4\"><div data-sentry-element=\"Flex\" data-sentry-source-file=\"index.tsx\" class=\"Flex_display_flex__i0l0hl2 Flex_justify_space-between__i0l0hlf\"><div data-sentry-element=\"Flex\" data-sentry-source-file=\"index.tsx\" style=\"max-width:643px\" class=\"Flex_display_flex__i0l0hl2 Flex_gap_space8__i0l0hlv\"><div data-sentry-element=\"Flex\" data-sentry-component=\"GrayChip\" data-sentry-source-file=\"index.tsx\" style=\"height:30px;min-width:auto\" class=\"Flex_display_flex__i0l0hl2 Flex_gap_space4__i0l0hly Flex_align_center__i0l0hl8 styles_flex-shrink_0__dk46tsa9 styles_px_space10__dk46tsm vvrp1p0\"><div class=\"styles_flex-shrink_0__dk46tsa9\" data-sentry-element=\"Block\" data-sentry-source-file=\"index.tsx\" style=\"width:16px\"><div class=\"emoji--basicemoji-place2\" style=\"width:16px;height:16px;background-size:16px;background-position:center;background-repeat:no-repeat\"></div></div><span data-accent-color=\"gray900\" data-sentry-element=\"Typography\" data-sentry-source-file=\"index.tsx\" class=\"Typography_variant_size14__344nw27 Typography_weight_regular__344nw2e Typography_color_gray900__344nw2m Typography_truncate__344nw2y\">서울 관악구</span></div><div data-sentry-element=\"Flex\" data-sentry-component=\"GrayChip\" data-sentry-source-file=\"index.tsx\" style=\"height:30px;min-width:0\" class=\"Flex_display_flex__i0l0hl2 Flex_gap_space4__i0l0hly Flex_align_center__i0l0hl8 styles_flex-shrink_1__dk46tsaa styles_px_space10__dk46tsm vvrp1p0\"><div class=\"styles_flex-shrink_0__dk46tsa9\" data-sentry-element=\"Block\" data-sentry-source-file=\"index.tsx\" style=\"width:16px\"><div class=\"emoji--basicemoji-briefcase\" style=\"width:16px;height:16px;background-size:16px;background-position:center;background-repeat:no-repeat\"></div></div><span data-accent-color=\"gray900\" data-sentry-element=\"Typography\" data-sentry-source-file=\"index.tsx\" class=\"Typography_variant_size14__344nw27 Typography_weight_regular__344nw2e Typography_color_gray900__344nw2m Typography_truncate__344nw2y\">솔루션·SI·CRM·ERP, 데이터엔지니어, 데이터사이언티스트, R&amp;D·연구원</span></div></div><div class=\"\" data-interactive=\"true\"><button type=\"button\" class=\"Flex_display_flex__i0l0hl2 Flex_align_center__i0l0hl8 Flex_justify_center__i0l0hld styles_flex-shrink_0__dk46tsa9 styles_px_space10__dk46tsm yt9jy31 yt9jy30\" style=\"height:32px;width:90px\" data-sentry-element=\"BaseButton\" data-sentry-source-file=\"index.tsx\" data-sentry-component=\"BaseButton\"><span data-accent-color=\"theme-primary\" data-sentry-element=\"Typography\" data-sentry-source-file=\"index.tsx\" class=\"Typography_variant_size12__344nw29 Typography_weight_medium__344nw2d Typography_color_theme-primary__344nw2f\">즉시 지원</span></button></div></div><div data-sentry-element=\"Flex\" data-sentry-source-file=\"index.tsx\" class=\"Flex_display_flex__i0l0hl2 Flex_align_center__i0l0hl8 Flex_justify_space-between__i0l0hlf\"><div data-sentry-element=\"Flex\" data-sentry-source-file=\"index.tsx\" style=\"max-width:565px\" class=\"Flex_display_flex__i0l0hl2 Flex_gap_space2__i0l0hl1j Flex_align_center__i0l0hl8\"><span data-accent-color=\"gray700\" data-sentry-element=\"Typography\" data-sentry-source-file=\"index.tsx\" class=\"Typography_variant_size13__344nw28 Typography_weight_regular__344nw2e Typography_color_gray700__344nw2o styles_flex-shrink_0__dk46tsa9\">신입·경력2년↑</span><span data-accent-color=\"gray700\" class=\"Typography_variant_size13__344nw28 Typography_weight_regular__344nw2e Typography_color_gray700__344nw2o Typography_truncate__344nw2y\">•</span><span data-accent-color=\"gray700\" class=\"Typography_variant_size13__344nw28 Typography_weight_regular__344nw2e Typography_color_gray700__344nw2o Typography_truncate__344nw2y\">건강보험</span></div><div data-sentry-element=\"Flex\" data-sentry-source-file=\"index.tsx\" class=\"Flex_display_flex__i0l0hl2 Flex_gap_space2__i0l0hl1j styles_flex-shrink_0__dk46tsa9\"><span data-accent-color=\"gray700\" class=\"Typography_variant_size13__344nw28 Typography_weight_regular__344nw2e Typography_color_gray700__344nw2o\">10/16(목) 등록</span><span data-accent-color=\"gray700\" class=\"Typography_variant_size13__344nw28 Typography_weight_regular__344nw2e Typography_color_gray700__344nw2o\">•</span><span data-accent-color=\"gray700\" class=\"Typography_variant_size13__344nw28 Typography_weight_regular__344nw2e Typography_color_gray700__344nw2o\">11/15(토) 마감</span></div></div></div></div></div></div></div><div class=\"Box_bgColor_white__1wwr54u0 Box_borderColor_default__1wwr54u5 Box_borderSize_1__1wwr54ud styles_p_space0__dk46ts61 styles_radius_radius16__dk46ts9d Shadow_root_list__bm2zcc6 fdhuk40\" data-sentry-element=\"Box\" data-sentry-source-file=\"index.tsx\" data-sentry-component=\"CardJob\" style=\"width:100%;cursor:pointer\"><div data-sentry-element=\"Flex\" data-sentry-source-file=\"index.tsx\" class=\"Flex_display_flex__i0l0hl2 Flex_direction_column__i0l0hl4\"><div data-sentry-element=\"Flex\" data-sentry-source-file=\"index.tsx\" class=\"Flex_display_flex__i0l0hl2 Flex_gap_space20__i0l0hl11 styles_p_space28__dk46ts8d fdhuk42\"><a href=\"https://www.jobkorea.co.kr/Recruit/GI_Read/47855747?Oem_Code=C1&amp;logpath=1&amp;stext=data+scientist&amp;listno=9&amp;sc=630\" rel=\"noopener noreferrer\" target=\"_blank\" data-interactive=\"true\" style=\"width:76px;height:76px\" data-sentry-element=\"BaseLink\" data-sentry-component=\"CompanyLogo\" data-sentry-source-file=\"index.tsx\"><div class=\"Box_bgColor_white__1wwr54u0 Box_borderColor_gray200__1wwr54u6 Box_borderSize_1__1wwr54ud styles_px_space6__dk46ts4i styles_radius_radius8__dk46ts9g Flex_display_flex__i0l0hl2 Flex_align_center__i0l0hl8 Flex_justify_center__i0l0hld styles_flex-shrink_0__dk46tsa9 styles_overflow_hidden__dk46ts9s styles_position_relative__dk46tsa5\" data-sentry-element=\"Box\" data-sentry-source-file=\"index.tsx\" style=\"height:76px;width:76px;border-radius:99px\"><img alt=\"㈜아이티아이즈 로고\" data-sentry-element=\"NextImage\" data-sentry-source-file=\"index.tsx\" data-sentry-component=\"Image\" loading=\"lazy\" width=\"0\" height=\"0\" decoding=\"async\" data-nimg=\"1\" style=\"color:transparent;width:auto;height:auto;max-width:100%;max-height:100%\" src=\"https://imgs.jobkorea.co.kr///img1/_whitebg/200X80/Co_Logo/Logo/2023/10/11/JK_CO_yPHnEtf23101115493123.png?v=202510231303\"/></div></a><div class=\"\" data-sentry-element=\"Block\" data-sentry-source-file=\"index.tsx\" style=\"width:100%\"><div data-sentry-element=\"Flex\" data-sentry-source-file=\"index.tsx\" class=\"Flex_display_flex__i0l0hl2 Flex_align_center__i0l0hl8 Flex_justify_space-between__i0l0hlf styles_position_relative__dk46tsa5 styles_mb_space6__dk46ts4f\"><div class=\"styles_position_absolute__dk46tsa6\" style=\"right:0;top:0\"><button type=\"button\" data-interactive=\"true\" data-sentry-component=\"BaseButton\" data-sentry-source-file=\"index.tsx\"><i class=\"jds-icon jds-icon--system_scrap Icon_root__1516qwb0 Icon_color_gray300__1516qwbb Icon_size_28__1516qwbn\"></i><span style=\"position:absolute;border:0;width:1px;height:1px;padding:0;margin:-1px;overflow:hidden;clip:rect(0, 0, 0, 0);white-space:nowrap;word-wrap:normal\">스크랩</span></button></div></div><div class=\"styles_mb_space2__dk46ts4t\" data-sentry-element=\"Block\" data-sentry-source-file=\"index.tsx\"><a href=\"https://www.jobkorea.co.kr/Recruit/GI_Read/47855747?Oem_Code=C1&amp;logpath=1&amp;stext=data+scientist&amp;listno=9&amp;sc=630\" rel=\"noopener noreferrer\" target=\"_blank\" data-interactive=\"true\" data-sentry-element=\"BaseLink\" data-sentry-source-file=\"index.tsx\" style=\"max-width:700px\" class=\"Flex_display_flex__i0l0hl2 Flex_gap_space6__i0l0hl1g Flex_align_center__i0l0hl8 styles_mb_space2__dk46ts4t\"><span data-accent-color=\"gray900\" data-sentry-element=\"Typography\" data-sentry-source-file=\"index.tsx\" class=\"Typography_variant_size18__344nw25 Typography_weight_medium__344nw2d Typography_color_gray900__344nw2m Typography_truncate__344nw2y\">데이터 사이언티스트 영입</span></a></div><a href=\"https://www.jobkorea.co.kr/Recruit/GI_Read/47855747?Oem_Code=C1&amp;logpath=1&amp;stext=data+scientist&amp;listno=9&amp;sc=630\" rel=\"noopener noreferrer\" target=\"_blank\" data-interactive=\"true\" data-sentry-element=\"BaseLink\" data-sentry-source-file=\"index.tsx\" class=\"Flex_display_inline-flex__i0l0hl1 Flex_gap_space6__i0l0hl1g Flex_align_center__i0l0hl8 styles_mb_space20__dk46ts2h\"><span data-accent-color=\"gray700\" data-sentry-element=\"Typography\" data-sentry-source-file=\"index.tsx\" class=\"Typography_variant_size16__344nw26 Typography_weight_regular__344nw2e Typography_color_gray700__344nw2o Typography_truncate__344nw2y\">㈜아이티아이즈</span><span data-accent-color=\"gray500\" data-sentry-element=\"Typography\" data-sentry-source-file=\"index.tsx\" class=\"Typography_variant_size11__344nw2a Typography_weight_regular__344nw2e Typography_color_gray500__344nw2p styles_flex-shrink_0__dk46tsa9\"></span></a><div data-sentry-element=\"Flex\" data-sentry-source-file=\"index.tsx\" class=\"Flex_display_flex__i0l0hl2 Flex_gap_space10__i0l0hlm Flex_direction_column__i0l0hl4\"><div data-sentry-element=\"Flex\" data-sentry-source-file=\"index.tsx\" class=\"Flex_display_flex__i0l0hl2 Flex_justify_space-between__i0l0hlf\"><div data-sentry-element=\"Flex\" data-sentry-source-file=\"index.tsx\" style=\"max-width:643px\" class=\"Flex_display_flex__i0l0hl2 Flex_gap_space8__i0l0hlv\"><div data-sentry-element=\"Flex\" data-sentry-component=\"GrayChip\" data-sentry-source-file=\"index.tsx\" style=\"height:30px;min-width:auto\" class=\"Flex_display_flex__i0l0hl2 Flex_gap_space4__i0l0hly Flex_align_center__i0l0hl8 styles_flex-shrink_0__dk46tsa9 styles_px_space10__dk46tsm vvrp1p0\"><div class=\"styles_flex-shrink_0__dk46tsa9\" data-sentry-element=\"Block\" data-sentry-source-file=\"index.tsx\" style=\"width:16px\"><div class=\"emoji--basicemoji-place2\" style=\"width:16px;height:16px;background-size:16px;background-position:center;background-repeat:no-repeat\"></div></div><span data-accent-color=\"gray900\" data-sentry-element=\"Typography\" data-sentry-source-file=\"index.tsx\" class=\"Typography_variant_size14__344nw27 Typography_weight_regular__344nw2e Typography_color_gray900__344nw2m Typography_truncate__344nw2y\">서울 영등포구</span></div><div data-sentry-element=\"Flex\" data-sentry-component=\"GrayChip\" data-sentry-source-file=\"index.tsx\" style=\"height:30px;min-width:0\" class=\"Flex_display_flex__i0l0hl2 Flex_gap_space4__i0l0hly Flex_align_center__i0l0hl8 styles_flex-shrink_1__dk46tsaa styles_px_space10__dk46tsm vvrp1p0\"><div class=\"styles_flex-shrink_0__dk46tsa9\" data-sentry-element=\"Block\" data-sentry-source-file=\"index.tsx\" style=\"width:16px\"><div class=\"emoji--basicemoji-briefcase\" style=\"width:16px;height:16px;background-size:16px;background-position:center;background-repeat:no-repeat\"></div></div><span data-accent-color=\"gray900\" data-sentry-element=\"Typography\" data-sentry-source-file=\"index.tsx\" class=\"Typography_variant_size14__344nw27 Typography_weight_regular__344nw2e Typography_color_gray900__344nw2m Typography_truncate__344nw2y\">솔루션·SI·CRM·ERP, PL·PM·PO, 소프트웨어개발자</span></div></div><div class=\"\" data-interactive=\"true\"><button type=\"button\" class=\"Flex_display_flex__i0l0hl2 Flex_align_center__i0l0hl8 Flex_justify_center__i0l0hld styles_flex-shrink_0__dk46tsa9 styles_px_space10__dk46tsm yt9jy31 yt9jy30\" style=\"height:32px;width:90px\" data-sentry-element=\"BaseButton\" data-sentry-source-file=\"index.tsx\" data-sentry-component=\"BaseButton\"><span data-accent-color=\"theme-primary\" data-sentry-element=\"Typography\" data-sentry-source-file=\"index.tsx\" class=\"Typography_variant_size12__344nw29 Typography_weight_medium__344nw2d Typography_color_theme-primary__344nw2f\">즉시 지원</span></button></div></div><div data-sentry-element=\"Flex\" data-sentry-source-file=\"index.tsx\" class=\"Flex_display_flex__i0l0hl2 Flex_align_center__i0l0hl8 Flex_justify_space-between__i0l0hlf\"><div data-sentry-element=\"Flex\" data-sentry-source-file=\"index.tsx\" style=\"max-width:565px\" class=\"Flex_display_flex__i0l0hl2 Flex_gap_space2__i0l0hl1j Flex_align_center__i0l0hl8\"><span data-accent-color=\"gray700\" data-sentry-element=\"Typography\" data-sentry-source-file=\"index.tsx\" class=\"Typography_variant_size13__344nw28 Typography_weight_regular__344nw2e Typography_color_gray700__344nw2o styles_flex-shrink_0__dk46tsa9\">경력</span></div><div data-sentry-element=\"Flex\" data-sentry-source-file=\"index.tsx\" class=\"Flex_display_flex__i0l0hl2 Flex_gap_space2__i0l0hl1j styles_flex-shrink_0__dk46tsa9\"><span data-accent-color=\"gray700\" class=\"Typography_variant_size13__344nw28 Typography_weight_regular__344nw2e Typography_color_gray700__344nw2o\">10/15(수) 등록</span><span data-accent-color=\"gray700\" class=\"Typography_variant_size13__344nw28 Typography_weight_regular__344nw2e Typography_color_gray700__344nw2o\">•</span><span data-accent-color=\"gray700\" class=\"Typography_variant_size13__344nw28 Typography_weight_regular__344nw2e Typography_color_gray700__344nw2o\">상시채용</span></div></div></div></div></div></div></div><div class=\"Box_bgColor_white__1wwr54u0 Box_borderColor_default__1wwr54u5 Box_borderSize_1__1wwr54ud styles_p_space0__dk46ts61 styles_radius_radius16__dk46ts9d Shadow_root_list__bm2zcc6 fdhuk40\" data-sentry-element=\"Box\" data-sentry-source-file=\"index.tsx\" data-sentry-component=\"CardJob\" style=\"width:100%;cursor:pointer\"><div data-sentry-element=\"Flex\" data-sentry-source-file=\"index.tsx\" class=\"Flex_display_flex__i0l0hl2 Flex_direction_column__i0l0hl4\"><div data-sentry-element=\"Flex\" data-sentry-source-file=\"index.tsx\" class=\"Flex_display_flex__i0l0hl2 Flex_gap_space20__i0l0hl11 styles_p_space28__dk46ts8d fdhuk42\"><a href=\"https://www.jobkorea.co.kr/Recruit/GI_Read/47845534?Oem_Code=C1&amp;logpath=1&amp;stext=data+scientist&amp;listno=10&amp;sc=630\" rel=\"noopener noreferrer\" target=\"_blank\" data-interactive=\"true\" style=\"width:76px;height:76px\" data-sentry-element=\"BaseLink\" data-sentry-component=\"CompanyLogo\" data-sentry-source-file=\"index.tsx\"><div class=\"Box_bgColor_white__1wwr54u0 Box_borderColor_gray200__1wwr54u6 Box_borderSize_1__1wwr54ud styles_px_space6__dk46ts4i styles_radius_radius8__dk46ts9g Flex_display_flex__i0l0hl2 Flex_align_center__i0l0hl8 Flex_justify_center__i0l0hld styles_flex-shrink_0__dk46tsa9 styles_overflow_hidden__dk46ts9s styles_position_relative__dk46tsa5\" data-sentry-element=\"Box\" data-sentry-source-file=\"index.tsx\" style=\"height:76px;width:76px;border-radius:99px\"><img alt=\"㈜세스코 로고\" data-sentry-element=\"NextImage\" data-sentry-source-file=\"index.tsx\" data-sentry-component=\"Image\" loading=\"lazy\" width=\"0\" height=\"0\" decoding=\"async\" data-nimg=\"1\" style=\"color:transparent;width:auto;height:auto;max-width:100%;max-height:100%\" src=\"https://imgs.jobkorea.co.kr//Images/Logo/128/k/i/2973y00yfwzyf2_2020a6aaixxukya.gif?p=y&amp;hash=c\"/></div></a><div class=\"\" data-sentry-element=\"Block\" data-sentry-source-file=\"index.tsx\" style=\"width:100%\"><div data-sentry-element=\"Flex\" data-sentry-source-file=\"index.tsx\" class=\"Flex_display_flex__i0l0hl2 Flex_align_center__i0l0hl8 Flex_justify_space-between__i0l0hlf styles_position_relative__dk46tsa5 styles_mb_space6__dk46ts4f\"><div data-sentry-element=\"Flex\" data-sentry-component=\"BadgeItem\" data-sentry-source-file=\"index.tsx\" class=\"Flex_display_flex__i0l0hl2 Flex_gap_space4__i0l0hly Flex_align_center__i0l0hl8\"><span data-accent-color=\"theme-primary\" data-sentry-element=\"Typography\" data-sentry-source-file=\"index.tsx\" class=\"Typography_variant_size13__344nw28 Typography_weight_medium__344nw2d Typography_color_theme-primary__344nw2f\">탄탄한 중견기업</span></div><div class=\"styles_position_absolute__dk46tsa6\" style=\"right:0;top:0\"><button type=\"button\" data-interactive=\"true\" data-sentry-component=\"BaseButton\" data-sentry-source-file=\"index.tsx\"><i class=\"jds-icon jds-icon--system_scrap Icon_root__1516qwb0 Icon_color_gray300__1516qwbb Icon_size_28__1516qwbn\"></i><span style=\"position:absolute;border:0;width:1px;height:1px;padding:0;margin:-1px;overflow:hidden;clip:rect(0, 0, 0, 0);white-space:nowrap;word-wrap:normal\">스크랩</span></button></div></div><div class=\"styles_mb_space2__dk46ts4t\" data-sentry-element=\"Block\" data-sentry-source-file=\"index.tsx\"><a href=\"https://www.jobkorea.co.kr/Recruit/GI_Read/47845534?Oem_Code=C1&amp;logpath=1&amp;stext=data+scientist&amp;listno=10&amp;sc=630\" rel=\"noopener noreferrer\" target=\"_blank\" data-interactive=\"true\" data-sentry-element=\"BaseLink\" data-sentry-source-file=\"index.tsx\" style=\"max-width:700px\" class=\"Flex_display_flex__i0l0hl2 Flex_gap_space6__i0l0hl1g Flex_align_center__i0l0hl8 styles_mb_space2__dk46ts4t\"><span data-accent-color=\"gray900\" data-sentry-element=\"Typography\" data-sentry-source-file=\"index.tsx\" class=\"Typography_variant_size18__344nw25 Typography_weight_medium__344nw2d Typography_color_gray900__344nw2m Typography_truncate__344nw2y\">(주)세스코 DS(Data Scientist) 모집</span></a></div><a href=\"https://www.jobkorea.co.kr/Recruit/GI_Read/47845534?Oem_Code=C1&amp;logpath=1&amp;stext=data+scientist&amp;listno=10&amp;sc=630\" rel=\"noopener noreferrer\" target=\"_blank\" data-interactive=\"true\" data-sentry-element=\"BaseLink\" data-sentry-source-file=\"index.tsx\" class=\"Flex_display_inline-flex__i0l0hl1 Flex_gap_space6__i0l0hl1g Flex_align_center__i0l0hl8 styles_mb_space20__dk46ts2h\"><span data-accent-color=\"gray700\" data-sentry-element=\"Typography\" data-sentry-source-file=\"index.tsx\" class=\"Typography_variant_size16__344nw26 Typography_weight_regular__344nw2e Typography_color_gray700__344nw2o Typography_truncate__344nw2y\">㈜세스코</span><span data-accent-color=\"gray500\" data-sentry-element=\"Typography\" data-sentry-source-file=\"index.tsx\" class=\"Typography_variant_size11__344nw2a Typography_weight_regular__344nw2e Typography_color_gray500__344nw2p styles_flex-shrink_0__dk46tsa9\"></span></a><div data-sentry-element=\"Flex\" data-sentry-source-file=\"index.tsx\" class=\"Flex_display_flex__i0l0hl2 Flex_gap_space10__i0l0hlm Flex_direction_column__i0l0hl4\"><div data-sentry-element=\"Flex\" data-sentry-source-file=\"index.tsx\" class=\"Flex_display_flex__i0l0hl2 Flex_justify_space-between__i0l0hlf\"><div data-sentry-element=\"Flex\" data-sentry-source-file=\"index.tsx\" style=\"max-width:643px\" class=\"Flex_display_flex__i0l0hl2 Flex_gap_space8__i0l0hlv\"><div data-sentry-element=\"Flex\" data-sentry-component=\"GrayChip\" data-sentry-source-file=\"index.tsx\" style=\"height:30px;min-width:auto\" class=\"Flex_display_flex__i0l0hl2 Flex_gap_space4__i0l0hly Flex_align_center__i0l0hl8 styles_flex-shrink_0__dk46tsa9 styles_px_space10__dk46tsm vvrp1p0\"><div class=\"styles_flex-shrink_0__dk46tsa9\" data-sentry-element=\"Block\" data-sentry-source-file=\"index.tsx\" style=\"width:16px\"><div class=\"emoji--basicemoji-place2\" style=\"width:16px;height:16px;background-size:16px;background-position:center;background-repeat:no-repeat\"></div></div><span data-accent-color=\"gray900\" data-sentry-element=\"Typography\" data-sentry-source-file=\"index.tsx\" class=\"Typography_variant_size14__344nw27 Typography_weight_regular__344nw2e Typography_color_gray900__344nw2m Typography_truncate__344nw2y\">서울 강동구</span></div><div data-sentry-element=\"Flex\" data-sentry-component=\"GrayChip\" data-sentry-source-file=\"index.tsx\" style=\"height:30px;min-width:0\" class=\"Flex_display_flex__i0l0hl2 Flex_gap_space4__i0l0hly Flex_align_center__i0l0hl8 styles_flex-shrink_1__dk46tsaa styles_px_space10__dk46tsm vvrp1p0\"><div class=\"styles_flex-shrink_0__dk46tsa9\" data-sentry-element=\"Block\" data-sentry-source-file=\"index.tsx\" style=\"width:16px\"><div class=\"emoji--basicemoji-briefcase\" style=\"width:16px;height:16px;background-size:16px;background-position:center;background-repeat:no-repeat\"></div></div><span data-accent-color=\"gray900\" data-sentry-element=\"Typography\" data-sentry-source-file=\"index.tsx\" class=\"Typography_variant_size14__344nw27 Typography_weight_regular__344nw2e Typography_color_gray900__344nw2m Typography_truncate__344nw2y\">제약·보건·바이오, DBA, 데이터엔지니어, 데이터사이언티스트</span></div></div><div class=\"\" data-interactive=\"true\"><button type=\"button\" class=\"Flex_display_flex__i0l0hl2 Flex_align_center__i0l0hl8 Flex_justify_center__i0l0hld styles_flex-shrink_0__dk46tsa9 styles_px_space10__dk46tsm yt9jy32 yt9jy30\" style=\"height:32px;width:90px\" data-sentry-element=\"BaseButton\" data-sentry-source-file=\"index.tsx\" data-sentry-component=\"BaseButton\"><span data-accent-color=\"gray900\" data-sentry-element=\"Typography\" data-sentry-source-file=\"index.tsx\" class=\"Typography_variant_size12__344nw29 Typography_weight_medium__344nw2d Typography_color_gray900__344nw2m\">홈페이지 지원</span></button></div></div><div data-sentry-element=\"Flex\" data-sentry-source-file=\"index.tsx\" class=\"Flex_display_flex__i0l0hl2 Flex_align_center__i0l0hl8 Flex_justify_space-between__i0l0hlf\"><div data-sentry-element=\"Flex\" data-sentry-source-file=\"index.tsx\" style=\"max-width:565px\" class=\"Flex_display_flex__i0l0hl2 Flex_gap_space2__i0l0hl1j Flex_align_center__i0l0hl8\"><span data-accent-color=\"gray700\" data-sentry-element=\"Typography\" data-sentry-source-file=\"index.tsx\" class=\"Typography_variant_size13__344nw28 Typography_weight_regular__344nw2e Typography_color_gray700__344nw2o styles_flex-shrink_0__dk46tsa9\">경력10년↑</span><span data-accent-color=\"gray700\" class=\"Typography_variant_size13__344nw28 Typography_weight_regular__344nw2e Typography_color_gray700__344nw2o Typography_truncate__344nw2y\">•</span><span data-accent-color=\"gray700\" class=\"Typography_variant_size13__344nw28 Typography_weight_regular__344nw2e Typography_color_gray700__344nw2o Typography_truncate__344nw2y\">임직원 할인<!-- -->, <!-- -->자녀 교육비 지원<!-- -->, <!-- -->저녁 식사 지원<!-- -->, <!-- -->휴양시설 지원<!-- -->, <!-- -->4대보험<!-- -->, <!-- -->카페테리아</span></div><div data-sentry-element=\"Flex\" data-sentry-source-file=\"index.tsx\" class=\"Flex_display_flex__i0l0hl2 Flex_gap_space2__i0l0hl1j styles_flex-shrink_0__dk46tsa9\"><span data-accent-color=\"gray700\" class=\"Typography_variant_size13__344nw28 Typography_weight_regular__344nw2e Typography_color_gray700__344nw2o\">10/14(화) 등록</span><span data-accent-color=\"gray700\" class=\"Typography_variant_size13__344nw28 Typography_weight_regular__344nw2e Typography_color_gray700__344nw2o\">•</span><span data-accent-color=\"gray700\" class=\"Typography_variant_size13__344nw28 Typography_weight_regular__344nw2e Typography_color_gray700__344nw2o\">10/28(화) 마감</span></div></div></div></div></div></div></div><div class=\"Box_bgColor_white__1wwr54u0 Box_borderColor_default__1wwr54u5 Box_borderSize_1__1wwr54ud styles_p_space0__dk46ts61 styles_radius_radius16__dk46ts9d Shadow_root_list__bm2zcc6 fdhuk40\" data-sentry-element=\"Box\" data-sentry-source-file=\"index.tsx\" data-sentry-component=\"CardJob\" style=\"width:100%;cursor:pointer\"><div data-sentry-element=\"Flex\" data-sentry-source-file=\"index.tsx\" class=\"Flex_display_flex__i0l0hl2 Flex_direction_column__i0l0hl4\"><div data-sentry-element=\"Flex\" data-sentry-source-file=\"index.tsx\" class=\"Flex_display_flex__i0l0hl2 Flex_gap_space20__i0l0hl11 styles_p_space28__dk46ts8d fdhuk42\"><a href=\"https://www.jobkorea.co.kr/Recruit/GI_Read/47841788?Oem_Code=C1&amp;logpath=1&amp;stext=data+scientist&amp;listno=11&amp;sc=630\" rel=\"noopener noreferrer\" target=\"_blank\" data-interactive=\"true\" style=\"width:76px;height:76px\" data-sentry-element=\"BaseLink\" data-sentry-component=\"CompanyLogo\" data-sentry-source-file=\"index.tsx\"><div class=\"Box_bgColor_white__1wwr54u0 Box_borderColor_gray200__1wwr54u6 Box_borderSize_1__1wwr54ud styles_px_space6__dk46ts4i styles_radius_radius8__dk46ts9g Flex_display_flex__i0l0hl2 Flex_align_center__i0l0hl8 Flex_justify_center__i0l0hld styles_flex-shrink_0__dk46tsa9 styles_overflow_hidden__dk46ts9s styles_position_relative__dk46tsa5\" data-sentry-element=\"Box\" data-sentry-source-file=\"index.tsx\" style=\"height:76px;width:76px;border-radius:99px\"><img alt=\"㈜에이아이스타 로고\" data-sentry-element=\"NextImage\" data-sentry-source-file=\"index.tsx\" data-sentry-component=\"Image\" loading=\"lazy\" width=\"0\" height=\"0\" decoding=\"async\" data-nimg=\"1\" style=\"color:transparent;width:auto;height:auto;max-width:100%;max-height:100%\" src=\"https://imgs.jobkorea.co.kr///img1/_whitebg/200X80/Co_Logo/Logo/2025/4/24/JK_CO_ZhASimw25042409305604.jpg?v=202510231303\"/></div></a><div class=\"\" data-sentry-element=\"Block\" data-sentry-source-file=\"index.tsx\" style=\"width:100%\"><div data-sentry-element=\"Flex\" data-sentry-source-file=\"index.tsx\" class=\"Flex_display_flex__i0l0hl2 Flex_align_center__i0l0hl8 Flex_justify_space-between__i0l0hlf styles_position_relative__dk46tsa5 styles_mb_space6__dk46ts4f\"><div data-sentry-element=\"Flex\" data-sentry-component=\"BadgeItem\" data-sentry-source-file=\"index.tsx\" class=\"Flex_display_flex__i0l0hl2 Flex_gap_space4__i0l0hly Flex_align_center__i0l0hl8\"><span data-accent-color=\"theme-secondary2\" data-sentry-element=\"Typography\" data-sentry-source-file=\"index.tsx\" class=\"Typography_variant_size13__344nw28 Typography_weight_medium__344nw2d Typography_color_theme-secondary2__344nw2h\">유연근무제 시행중</span></div><div class=\"styles_position_absolute__dk46tsa6\" style=\"right:0;top:0\"><button type=\"button\" data-interactive=\"true\" data-sentry-component=\"BaseButton\" data-sentry-source-file=\"index.tsx\"><i class=\"jds-icon jds-icon--system_scrap Icon_root__1516qwb0 Icon_color_gray300__1516qwbb Icon_size_28__1516qwbn\"></i><span style=\"position:absolute;border:0;width:1px;height:1px;padding:0;margin:-1px;overflow:hidden;clip:rect(0, 0, 0, 0);white-space:nowrap;word-wrap:normal\">스크랩</span></button></div></div><div class=\"styles_mb_space2__dk46ts4t\" data-sentry-element=\"Block\" data-sentry-source-file=\"index.tsx\"><a href=\"https://www.jobkorea.co.kr/Recruit/GI_Read/47841788?Oem_Code=C1&amp;logpath=1&amp;stext=data+scientist&amp;listno=11&amp;sc=630\" rel=\"noopener noreferrer\" target=\"_blank\" data-interactive=\"true\" data-sentry-element=\"BaseLink\" data-sentry-source-file=\"index.tsx\" style=\"max-width:700px\" class=\"Flex_display_flex__i0l0hl2 Flex_gap_space6__i0l0hl1g Flex_align_center__i0l0hl8 styles_mb_space2__dk46ts4t\"><span data-accent-color=\"gray900\" data-sentry-element=\"Typography\" data-sentry-source-file=\"index.tsx\" class=\"Typography_variant_size18__344nw25 Typography_weight_medium__344nw2d Typography_color_gray900__344nw2m Typography_truncate__344nw2y\">AI 소재 데이터사이언티스트 (AI Materials Data Scientist)</span></a></div><a href=\"https://www.jobkorea.co.kr/Recruit/GI_Read/47841788?Oem_Code=C1&amp;logpath=1&amp;stext=data+scientist&amp;listno=11&amp;sc=630\" rel=\"noopener noreferrer\" target=\"_blank\" data-interactive=\"true\" data-sentry-element=\"BaseLink\" data-sentry-source-file=\"index.tsx\" class=\"Flex_display_inline-flex__i0l0hl1 Flex_gap_space6__i0l0hl1g Flex_align_center__i0l0hl8 styles_mb_space20__dk46ts2h\"><span data-accent-color=\"gray700\" data-sentry-element=\"Typography\" data-sentry-source-file=\"index.tsx\" class=\"Typography_variant_size16__344nw26 Typography_weight_regular__344nw2e Typography_color_gray700__344nw2o Typography_truncate__344nw2y\">㈜에이아이스타</span><span data-accent-color=\"gray500\" data-sentry-element=\"Typography\" data-sentry-source-file=\"index.tsx\" class=\"Typography_variant_size11__344nw2a Typography_weight_regular__344nw2e Typography_color_gray500__344nw2p styles_flex-shrink_0__dk46tsa9\"></span></a><div data-sentry-element=\"Flex\" data-sentry-source-file=\"index.tsx\" class=\"Flex_display_flex__i0l0hl2 Flex_gap_space10__i0l0hlm Flex_direction_column__i0l0hl4\"><div data-sentry-element=\"Flex\" data-sentry-source-file=\"index.tsx\" class=\"Flex_display_flex__i0l0hl2 Flex_justify_space-between__i0l0hlf\"><div data-sentry-element=\"Flex\" data-sentry-source-file=\"index.tsx\" style=\"max-width:643px\" class=\"Flex_display_flex__i0l0hl2 Flex_gap_space8__i0l0hlv\"><div data-sentry-element=\"Flex\" data-sentry-component=\"GrayChip\" data-sentry-source-file=\"index.tsx\" style=\"height:30px;min-width:auto\" class=\"Flex_display_flex__i0l0hl2 Flex_gap_space4__i0l0hly Flex_align_center__i0l0hl8 styles_flex-shrink_0__dk46tsa9 styles_px_space10__dk46tsm vvrp1p0\"><div class=\"styles_flex-shrink_0__dk46tsa9\" data-sentry-element=\"Block\" data-sentry-source-file=\"index.tsx\" style=\"width:16px\"><div class=\"emoji--basicemoji-place2\" style=\"width:16px;height:16px;background-size:16px;background-position:center;background-repeat:no-repeat\"></div></div><span data-accent-color=\"gray900\" data-sentry-element=\"Typography\" data-sentry-source-file=\"index.tsx\" class=\"Typography_variant_size14__344nw27 Typography_weight_regular__344nw2e Typography_color_gray900__344nw2m Typography_truncate__344nw2y\">서울 서초구</span></div><div data-sentry-element=\"Flex\" data-sentry-component=\"GrayChip\" data-sentry-source-file=\"index.tsx\" style=\"height:30px;min-width:0\" class=\"Flex_display_flex__i0l0hl2 Flex_gap_space4__i0l0hly Flex_align_center__i0l0hl8 styles_flex-shrink_1__dk46tsaa styles_px_space10__dk46tsm vvrp1p0\"><div class=\"styles_flex-shrink_0__dk46tsa9\" data-sentry-element=\"Block\" data-sentry-source-file=\"index.tsx\" style=\"width:16px\"><div class=\"emoji--basicemoji-briefcase\" style=\"width:16px;height:16px;background-size:16px;background-position:center;background-repeat:no-repeat\"></div></div><span data-accent-color=\"gray900\" data-sentry-element=\"Typography\" data-sentry-source-file=\"index.tsx\" class=\"Typography_variant_size14__344nw27 Typography_weight_regular__344nw2e Typography_color_gray900__344nw2m Typography_truncate__344nw2y\">솔루션·SI·CRM·ERP, AI/ML엔지니어</span></div></div><div class=\"\" data-interactive=\"true\"><button type=\"button\" class=\"Flex_display_flex__i0l0hl2 Flex_align_center__i0l0hl8 Flex_justify_center__i0l0hld styles_flex-shrink_0__dk46tsa9 styles_px_space10__dk46tsm yt9jy31 yt9jy30\" style=\"height:32px;width:90px\" data-sentry-element=\"BaseButton\" data-sentry-source-file=\"index.tsx\" data-sentry-component=\"BaseButton\"><span data-accent-color=\"theme-primary\" data-sentry-element=\"Typography\" data-sentry-source-file=\"index.tsx\" class=\"Typography_variant_size12__344nw29 Typography_weight_medium__344nw2d Typography_color_theme-primary__344nw2f\">즉시 지원</span></button></div></div><div data-sentry-element=\"Flex\" data-sentry-source-file=\"index.tsx\" class=\"Flex_display_flex__i0l0hl2 Flex_align_center__i0l0hl8 Flex_justify_space-between__i0l0hlf\"><div data-sentry-element=\"Flex\" data-sentry-source-file=\"index.tsx\" style=\"max-width:565px\" class=\"Flex_display_flex__i0l0hl2 Flex_gap_space2__i0l0hl1j Flex_align_center__i0l0hl8\"><span data-accent-color=\"gray700\" data-sentry-element=\"Typography\" data-sentry-source-file=\"index.tsx\" class=\"Typography_variant_size13__344nw28 Typography_weight_regular__344nw2e Typography_color_gray700__344nw2o styles_flex-shrink_0__dk46tsa9\">경력2년↑</span><span data-accent-color=\"gray700\" class=\"Typography_variant_size13__344nw28 Typography_weight_regular__344nw2e Typography_color_gray700__344nw2o Typography_truncate__344nw2y\">•</span><span data-accent-color=\"gray700\" class=\"Typography_variant_size13__344nw28 Typography_weight_regular__344nw2e Typography_color_gray700__344nw2o Typography_truncate__344nw2y\">유연근무<!-- -->, <!-- -->교육/세미나/스터디</span></div><div data-sentry-element=\"Flex\" data-sentry-source-file=\"index.tsx\" class=\"Flex_display_flex__i0l0hl2 Flex_gap_space2__i0l0hl1j styles_flex-shrink_0__dk46tsa9\"><span data-accent-color=\"gray700\" class=\"Typography_variant_size13__344nw28 Typography_weight_regular__344nw2e Typography_color_gray700__344nw2o\">10/13(월) 등록</span><span data-accent-color=\"gray700\" class=\"Typography_variant_size13__344nw28 Typography_weight_regular__344nw2e Typography_color_gray700__344nw2o\">•</span><span data-accent-color=\"gray700\" class=\"Typography_variant_size13__344nw28 Typography_weight_regular__344nw2e Typography_color_gray700__344nw2o\">12/12(금) 마감</span></div></div></div></div></div></div></div><div class=\"Box_bgColor_white__1wwr54u0 Box_borderColor_default__1wwr54u5 Box_borderSize_1__1wwr54ud styles_p_space0__dk46ts61 styles_radius_radius16__dk46ts9d Shadow_root_list__bm2zcc6 fdhuk40\" data-sentry-element=\"Box\" data-sentry-source-file=\"index.tsx\" data-sentry-component=\"CardJob\" style=\"width:100%;cursor:pointer\"><div data-sentry-element=\"Flex\" data-sentry-source-file=\"index.tsx\" class=\"Flex_display_flex__i0l0hl2 Flex_direction_column__i0l0hl4\"><div data-sentry-element=\"Flex\" data-sentry-source-file=\"index.tsx\" class=\"Flex_display_flex__i0l0hl2 Flex_gap_space20__i0l0hl11 styles_p_space28__dk46ts8d fdhuk42\"><a href=\"https://www.jobkorea.co.kr/Recruit/GI_Read/47886371?Oem_Code=C1&amp;logpath=1&amp;stext=data+scientist&amp;listno=12&amp;sc=630\" rel=\"noopener noreferrer\" target=\"_blank\" data-interactive=\"true\" style=\"width:76px;height:76px\" data-sentry-element=\"BaseLink\" data-sentry-component=\"CompanyLogo\" data-sentry-source-file=\"index.tsx\"><div class=\"Box_bgColor_white__1wwr54u0 Box_borderColor_gray200__1wwr54u6 Box_borderSize_1__1wwr54ud styles_px_space6__dk46ts4i styles_radius_radius8__dk46ts9g Flex_display_flex__i0l0hl2 Flex_align_center__i0l0hl8 Flex_justify_center__i0l0hld styles_flex-shrink_0__dk46tsa9 styles_overflow_hidden__dk46ts9s styles_position_relative__dk46tsa5\" data-sentry-element=\"Box\" data-sentry-source-file=\"index.tsx\" style=\"height:76px;width:76px;border-radius:99px\"><img alt=\"렉스소프트㈜ 로고\" data-sentry-element=\"NextImage\" data-sentry-source-file=\"index.tsx\" data-sentry-component=\"Image\" loading=\"lazy\" width=\"0\" height=\"0\" decoding=\"async\" data-nimg=\"1\" style=\"color:transparent;width:auto;height:auto;max-width:100%;max-height:100%\" src=\"https://imgs.jobkorea.co.kr//Images/Logo/128/w/o/2453w00wmjdnwxfez2_3520gaegxsghejd94wg.gif?p=y&amp;hash=c\"/></div></a><div class=\"\" data-sentry-element=\"Block\" data-sentry-source-file=\"index.tsx\" style=\"width:100%\"><div data-sentry-element=\"Flex\" data-sentry-source-file=\"index.tsx\" class=\"Flex_display_flex__i0l0hl2 Flex_align_center__i0l0hl8 Flex_justify_space-between__i0l0hlf styles_position_relative__dk46tsa5 styles_mb_space6__dk46ts4f\"><div data-sentry-element=\"Flex\" data-sentry-component=\"BadgeItem\" data-sentry-source-file=\"index.tsx\" class=\"Flex_display_flex__i0l0hl2 Flex_gap_space4__i0l0hly Flex_align_center__i0l0hl8\"><div class=\"emoji--basicemoji-money\" style=\"width:16px;height:16px;background-size:16px;background-position:center;background-repeat:no-repeat\"></div><span data-accent-color=\"yellow\" data-sentry-element=\"Typography\" data-sentry-source-file=\"index.tsx\" class=\"Typography_variant_size13__344nw28 Typography_weight_medium__344nw2d Typography_color_yellow__344nw2t\">합격축하금 100만원</span></div><div class=\"styles_position_absolute__dk46tsa6\" style=\"right:0;top:0\"><button type=\"button\" data-interactive=\"true\" data-sentry-component=\"BaseButton\" data-sentry-source-file=\"index.tsx\"><i class=\"jds-icon jds-icon--system_scrap Icon_root__1516qwb0 Icon_color_gray300__1516qwbb Icon_size_28__1516qwbn\"></i><span style=\"position:absolute;border:0;width:1px;height:1px;padding:0;margin:-1px;overflow:hidden;clip:rect(0, 0, 0, 0);white-space:nowrap;word-wrap:normal\">스크랩</span></button></div></div><div class=\"styles_mb_space2__dk46ts4t\" data-sentry-element=\"Block\" data-sentry-source-file=\"index.tsx\"><a href=\"https://www.jobkorea.co.kr/Recruit/GI_Read/47886371?Oem_Code=C1&amp;logpath=1&amp;stext=data+scientist&amp;listno=12&amp;sc=630\" rel=\"noopener noreferrer\" target=\"_blank\" data-interactive=\"true\" data-sentry-element=\"BaseLink\" data-sentry-source-file=\"index.tsx\" style=\"max-width:700px\" class=\"Flex_display_flex__i0l0hl2 Flex_gap_space6__i0l0hl1g Flex_align_center__i0l0hl8 styles_mb_space2__dk46ts4t\"><span data-accent-color=\"gray900\" data-sentry-element=\"Typography\" data-sentry-source-file=\"index.tsx\" class=\"Typography_variant_size18__344nw25 Typography_weight_medium__344nw2d Typography_color_gray900__344nw2m Typography_truncate__344nw2y\">디지털 헬스케어/데이터 사이언티스트</span></a></div><a href=\"https://www.jobkorea.co.kr/Recruit/GI_Read/47886371?Oem_Code=C1&amp;logpath=1&amp;stext=data+scientist&amp;listno=12&amp;sc=630\" rel=\"noopener noreferrer\" target=\"_blank\" data-interactive=\"true\" data-sentry-element=\"BaseLink\" data-sentry-source-file=\"index.tsx\" class=\"Flex_display_inline-flex__i0l0hl1 Flex_gap_space6__i0l0hl1g Flex_align_center__i0l0hl8 styles_mb_space20__dk46ts2h\"><span data-accent-color=\"gray700\" data-sentry-element=\"Typography\" data-sentry-source-file=\"index.tsx\" class=\"Typography_variant_size16__344nw26 Typography_weight_regular__344nw2e Typography_color_gray700__344nw2o Typography_truncate__344nw2y\">렉스소프트㈜</span><span data-accent-color=\"gray500\" data-sentry-element=\"Typography\" data-sentry-source-file=\"index.tsx\" class=\"Typography_variant_size11__344nw2a Typography_weight_regular__344nw2e Typography_color_gray500__344nw2p styles_flex-shrink_0__dk46tsa9\"></span></a><div data-sentry-element=\"Flex\" data-sentry-source-file=\"index.tsx\" class=\"Flex_display_flex__i0l0hl2 Flex_gap_space10__i0l0hlm Flex_direction_column__i0l0hl4\"><div data-sentry-element=\"Flex\" data-sentry-source-file=\"index.tsx\" class=\"Flex_display_flex__i0l0hl2 Flex_justify_space-between__i0l0hlf\"><div data-sentry-element=\"Flex\" data-sentry-source-file=\"index.tsx\" style=\"max-width:643px\" class=\"Flex_display_flex__i0l0hl2 Flex_gap_space8__i0l0hlv\"><div data-sentry-element=\"Flex\" data-sentry-component=\"GrayChip\" data-sentry-source-file=\"index.tsx\" style=\"height:30px;min-width:auto\" class=\"Flex_display_flex__i0l0hl2 Flex_gap_space4__i0l0hly Flex_align_center__i0l0hl8 styles_flex-shrink_0__dk46tsa9 styles_px_space10__dk46tsm vvrp1p0\"><div class=\"styles_flex-shrink_0__dk46tsa9\" data-sentry-element=\"Block\" data-sentry-source-file=\"index.tsx\" style=\"width:16px\"><div class=\"emoji--basicemoji-place2\" style=\"width:16px;height:16px;background-size:16px;background-position:center;background-repeat:no-repeat\"></div></div><span data-accent-color=\"gray900\" data-sentry-element=\"Typography\" data-sentry-source-file=\"index.tsx\" class=\"Typography_variant_size14__344nw27 Typography_weight_regular__344nw2e Typography_color_gray900__344nw2m Typography_truncate__344nw2y\">서울 관악구</span></div><div data-sentry-element=\"Flex\" data-sentry-component=\"GrayChip\" data-sentry-source-file=\"index.tsx\" style=\"height:30px;min-width:0\" class=\"Flex_display_flex__i0l0hl2 Flex_gap_space4__i0l0hly Flex_align_center__i0l0hl8 styles_flex-shrink_1__dk46tsaa styles_px_space10__dk46tsm vvrp1p0\"><div class=\"styles_flex-shrink_0__dk46tsa9\" data-sentry-element=\"Block\" data-sentry-source-file=\"index.tsx\" style=\"width:16px\"><div class=\"emoji--basicemoji-briefcase\" style=\"width:16px;height:16px;background-size:16px;background-position:center;background-repeat:no-repeat\"></div></div><span data-accent-color=\"gray900\" data-sentry-element=\"Typography\" data-sentry-source-file=\"index.tsx\" class=\"Typography_variant_size14__344nw27 Typography_weight_regular__344nw2e Typography_color_gray900__344nw2m Typography_truncate__344nw2y\">솔루션·SI·CRM·ERP, 데이터사이언티스트</span></div></div><div class=\"\" data-interactive=\"true\"><button type=\"button\" class=\"Flex_display_flex__i0l0hl2 Flex_align_center__i0l0hl8 Flex_justify_center__i0l0hld styles_flex-shrink_0__dk46tsa9 styles_px_space10__dk46tsm yt9jy31 yt9jy30\" style=\"height:32px;width:90px\" data-sentry-element=\"BaseButton\" data-sentry-source-file=\"index.tsx\" data-sentry-component=\"BaseButton\"><span data-accent-color=\"theme-primary\" data-sentry-element=\"Typography\" data-sentry-source-file=\"index.tsx\" class=\"Typography_variant_size12__344nw29 Typography_weight_medium__344nw2d Typography_color_theme-primary__344nw2f\">즉시 지원</span></button></div></div><div data-sentry-element=\"Flex\" data-sentry-source-file=\"index.tsx\" class=\"Flex_display_flex__i0l0hl2 Flex_align_center__i0l0hl8 Flex_justify_space-between__i0l0hlf\"><div data-sentry-element=\"Flex\" data-sentry-source-file=\"index.tsx\" style=\"max-width:565px\" class=\"Flex_display_flex__i0l0hl2 Flex_gap_space2__i0l0hl1j Flex_align_center__i0l0hl8\"><span data-accent-color=\"gray700\" data-sentry-element=\"Typography\" data-sentry-source-file=\"index.tsx\" class=\"Typography_variant_size13__344nw28 Typography_weight_regular__344nw2e Typography_color_gray700__344nw2o styles_flex-shrink_0__dk46tsa9\">경력</span><span data-accent-color=\"gray700\" class=\"Typography_variant_size13__344nw28 Typography_weight_regular__344nw2e Typography_color_gray700__344nw2o Typography_truncate__344nw2y\">•</span><span data-accent-color=\"gray700\" class=\"Typography_variant_size13__344nw28 Typography_weight_regular__344nw2e Typography_color_gray700__344nw2o Typography_truncate__344nw2y\">경조사 지원<!-- -->, <!-- -->명절선물/명절상여 지원<!-- -->, <!-- -->유연근무<!-- -->, <!-- -->점심 식사 지원<!-- -->, <!-- -->연차제도<!-- -->, <!-- -->4대보험<!-- -->, <!-- -->퇴직연금<!-- -->, <!-- -->자율복장<!-- -->, <!-- -->건강보험<!-- -->, <!-- -->주5일제</span></div><div data-sentry-element=\"Flex\" data-sentry-source-file=\"index.tsx\" class=\"Flex_display_flex__i0l0hl2 Flex_gap_space2__i0l0hl1j styles_flex-shrink_0__dk46tsa9\"><span data-accent-color=\"gray700\" class=\"Typography_variant_size13__344nw28 Typography_weight_regular__344nw2e Typography_color_gray700__344nw2o\">10/20(월) 등록</span><span data-accent-color=\"gray700\" class=\"Typography_variant_size13__344nw28 Typography_weight_regular__344nw2e Typography_color_gray700__344nw2o\">•</span><span data-accent-color=\"gray700\" class=\"Typography_variant_size13__344nw28 Typography_weight_regular__344nw2e Typography_color_gray700__344nw2o\">11/19(수) 마감</span></div></div></div></div></div></div></div><div class=\"Box_bgColor_white__1wwr54u0 Box_borderColor_default__1wwr54u5 Box_borderSize_1__1wwr54ud styles_p_space0__dk46ts61 styles_radius_radius16__dk46ts9d Shadow_root_list__bm2zcc6 fdhuk40\" data-sentry-element=\"Box\" data-sentry-source-file=\"index.tsx\" data-sentry-component=\"CardJob\" style=\"width:100%;cursor:pointer\"><div data-sentry-element=\"Flex\" data-sentry-source-file=\"index.tsx\" class=\"Flex_display_flex__i0l0hl2 Flex_direction_column__i0l0hl4\"><div data-sentry-element=\"Flex\" data-sentry-source-file=\"index.tsx\" class=\"Flex_display_flex__i0l0hl2 Flex_gap_space20__i0l0hl11 styles_p_space28__dk46ts8d fdhuk42\"><a href=\"https://www.jobkorea.co.kr/Recruit/GI_Read/47759722?Oem_Code=C1&amp;logpath=1&amp;stext=data+scientist&amp;listno=13&amp;sc=630\" rel=\"noopener noreferrer\" target=\"_blank\" data-interactive=\"true\" style=\"width:76px;height:76px\" data-sentry-element=\"BaseLink\" data-sentry-component=\"CompanyLogo\" data-sentry-source-file=\"index.tsx\"><div class=\"Box_bgColor_white__1wwr54u0 Box_borderColor_gray200__1wwr54u6 Box_borderSize_1__1wwr54ud styles_px_space6__dk46ts4i styles_radius_radius8__dk46ts9g Flex_display_flex__i0l0hl2 Flex_align_center__i0l0hl8 Flex_justify_center__i0l0hld styles_flex-shrink_0__dk46tsa9 styles_overflow_hidden__dk46ts9s styles_position_relative__dk46tsa5\" data-sentry-element=\"Box\" data-sentry-source-file=\"index.tsx\" style=\"height:76px;width:76px;border-radius:99px\"><img alt=\"에이드리븐㈜ 로고\" data-sentry-element=\"NextImage\" data-sentry-source-file=\"index.tsx\" data-sentry-component=\"Image\" loading=\"lazy\" width=\"0\" height=\"0\" decoding=\"async\" data-nimg=\"1\" style=\"color:transparent;width:auto;height:auto;max-width:100%;max-height:100%\" src=\"https://imgs.jobkorea.co.kr//Images/Logo/128/a/d/2290q00qploisjc_2620p7bpddamj2qp.gif?p=y&amp;hash=c\"/></div></a><div class=\"\" data-sentry-element=\"Block\" data-sentry-source-file=\"index.tsx\" style=\"width:100%\"><div data-sentry-element=\"Flex\" data-sentry-source-file=\"index.tsx\" class=\"Flex_display_flex__i0l0hl2 Flex_align_center__i0l0hl8 Flex_justify_space-between__i0l0hlf styles_position_relative__dk46tsa5 styles_mb_space6__dk46ts4f\"><div class=\"styles_position_absolute__dk46tsa6\" style=\"right:0;top:0\"><button type=\"button\" data-interactive=\"true\" data-sentry-component=\"BaseButton\" data-sentry-source-file=\"index.tsx\"><i class=\"jds-icon jds-icon--system_scrap Icon_root__1516qwb0 Icon_color_gray300__1516qwbb Icon_size_28__1516qwbn\"></i><span style=\"position:absolute;border:0;width:1px;height:1px;padding:0;margin:-1px;overflow:hidden;clip:rect(0, 0, 0, 0);white-space:nowrap;word-wrap:normal\">스크랩</span></button></div></div><div class=\"styles_mb_space2__dk46ts4t\" data-sentry-element=\"Block\" data-sentry-source-file=\"index.tsx\"><a href=\"https://www.jobkorea.co.kr/Recruit/GI_Read/47759722?Oem_Code=C1&amp;logpath=1&amp;stext=data+scientist&amp;listno=13&amp;sc=630\" rel=\"noopener noreferrer\" target=\"_blank\" data-interactive=\"true\" data-sentry-element=\"BaseLink\" data-sentry-source-file=\"index.tsx\" style=\"max-width:700px\" class=\"Flex_display_flex__i0l0hl2 Flex_gap_space6__i0l0hl1g Flex_align_center__i0l0hl8 styles_mb_space2__dk46ts4t\"><span data-accent-color=\"gray900\" data-sentry-element=\"Typography\" data-sentry-source-file=\"index.tsx\" class=\"Typography_variant_size18__344nw25 Typography_weight_medium__344nw2d Typography_color_gray900__344nw2m Typography_truncate__344nw2y\">데이터사이언티스트(실무 경력 2년 이상)</span></a></div><a href=\"https://www.jobkorea.co.kr/Recruit/GI_Read/47759722?Oem_Code=C1&amp;logpath=1&amp;stext=data+scientist&amp;listno=13&amp;sc=630\" rel=\"noopener noreferrer\" target=\"_blank\" data-interactive=\"true\" data-sentry-element=\"BaseLink\" data-sentry-source-file=\"index.tsx\" class=\"Flex_display_inline-flex__i0l0hl1 Flex_gap_space6__i0l0hl1g Flex_align_center__i0l0hl8 styles_mb_space20__dk46ts2h\"><span data-accent-color=\"gray700\" data-sentry-element=\"Typography\" data-sentry-source-file=\"index.tsx\" class=\"Typography_variant_size16__344nw26 Typography_weight_regular__344nw2e Typography_color_gray700__344nw2o Typography_truncate__344nw2y\">에이드리븐㈜</span><span data-accent-color=\"gray500\" data-sentry-element=\"Typography\" data-sentry-source-file=\"index.tsx\" class=\"Typography_variant_size11__344nw2a Typography_weight_regular__344nw2e Typography_color_gray500__344nw2p styles_flex-shrink_0__dk46tsa9\"></span></a><div data-sentry-element=\"Flex\" data-sentry-source-file=\"index.tsx\" class=\"Flex_display_flex__i0l0hl2 Flex_gap_space10__i0l0hlm Flex_direction_column__i0l0hl4\"><div data-sentry-element=\"Flex\" data-sentry-source-file=\"index.tsx\" class=\"Flex_display_flex__i0l0hl2 Flex_justify_space-between__i0l0hlf\"><div data-sentry-element=\"Flex\" data-sentry-source-file=\"index.tsx\" style=\"max-width:643px\" class=\"Flex_display_flex__i0l0hl2 Flex_gap_space8__i0l0hlv\"><div data-sentry-element=\"Flex\" data-sentry-component=\"GrayChip\" data-sentry-source-file=\"index.tsx\" style=\"height:30px;min-width:auto\" class=\"Flex_display_flex__i0l0hl2 Flex_gap_space4__i0l0hly Flex_align_center__i0l0hl8 styles_flex-shrink_0__dk46tsa9 styles_px_space10__dk46tsm vvrp1p0\"><div class=\"styles_flex-shrink_0__dk46tsa9\" data-sentry-element=\"Block\" data-sentry-source-file=\"index.tsx\" style=\"width:16px\"><div class=\"emoji--basicemoji-place2\" style=\"width:16px;height:16px;background-size:16px;background-position:center;background-repeat:no-repeat\"></div></div><span data-accent-color=\"gray900\" data-sentry-element=\"Typography\" data-sentry-source-file=\"index.tsx\" class=\"Typography_variant_size14__344nw27 Typography_weight_regular__344nw2e Typography_color_gray900__344nw2m Typography_truncate__344nw2y\">서울 강남구</span></div><div data-sentry-element=\"Flex\" data-sentry-component=\"GrayChip\" data-sentry-source-file=\"index.tsx\" style=\"height:30px;min-width:0\" class=\"Flex_display_flex__i0l0hl2 Flex_gap_space4__i0l0hly Flex_align_center__i0l0hl8 styles_flex-shrink_1__dk46tsaa styles_px_space10__dk46tsm vvrp1p0\"><div class=\"styles_flex-shrink_0__dk46tsa9\" data-sentry-element=\"Block\" data-sentry-source-file=\"index.tsx\" style=\"width:16px\"><div class=\"emoji--basicemoji-briefcase\" style=\"width:16px;height:16px;background-size:16px;background-position:center;background-repeat:no-repeat\"></div></div><span data-accent-color=\"gray900\" data-sentry-element=\"Typography\" data-sentry-source-file=\"index.tsx\" class=\"Typography_variant_size14__344nw27 Typography_weight_regular__344nw2e Typography_color_gray900__344nw2m Typography_truncate__344nw2y\">광고·홍보·전시, 데이터사이언티스트</span></div><div data-sentry-element=\"Flex\" data-sentry-component=\"GrayChip\" data-sentry-source-file=\"index.tsx\" style=\"height:30px;min-width:auto\" class=\"Flex_display_flex__i0l0hl2 Flex_gap_space4__i0l0hly Flex_align_center__i0l0hl8 styles_flex-shrink_0__dk46tsa9 styles_px_space10__dk46tsm vvrp1p0\"><div class=\"styles_flex-shrink_0__dk46tsa9\" data-sentry-element=\"Block\" data-sentry-source-file=\"index.tsx\" style=\"width:16px\"><div class=\"emoji--basicemoji-money_bill\" style=\"width:16px;height:16px;background-size:16px;background-position:center;background-repeat:no-repeat\"></div></div><span data-accent-color=\"gray900\" data-sentry-element=\"Typography\" data-sentry-source-file=\"index.tsx\" class=\"Typography_variant_size14__344nw27 Typography_weight_regular__344nw2e Typography_color_gray900__344nw2m Typography_truncate__344nw2y\">연봉 5,000~8,000만원</span></div></div><div class=\"\" data-interactive=\"true\"><button type=\"button\" class=\"Flex_display_flex__i0l0hl2 Flex_align_center__i0l0hl8 Flex_justify_center__i0l0hld styles_flex-shrink_0__dk46tsa9 styles_px_space10__dk46tsm yt9jy31 yt9jy30\" style=\"height:32px;width:90px\" data-sentry-element=\"BaseButton\" data-sentry-source-file=\"index.tsx\" data-sentry-component=\"BaseButton\"><span data-accent-color=\"theme-primary\" data-sentry-element=\"Typography\" data-sentry-source-file=\"index.tsx\" class=\"Typography_variant_size12__344nw29 Typography_weight_medium__344nw2d Typography_color_theme-primary__344nw2f\">즉시 지원</span></button></div></div><div data-sentry-element=\"Flex\" data-sentry-source-file=\"index.tsx\" class=\"Flex_display_flex__i0l0hl2 Flex_align_center__i0l0hl8 Flex_justify_space-between__i0l0hlf\"><div data-sentry-element=\"Flex\" data-sentry-source-file=\"index.tsx\" style=\"max-width:565px\" class=\"Flex_display_flex__i0l0hl2 Flex_gap_space2__i0l0hl1j Flex_align_center__i0l0hl8\"><span data-accent-color=\"gray700\" data-sentry-element=\"Typography\" data-sentry-source-file=\"index.tsx\" class=\"Typography_variant_size13__344nw28 Typography_weight_regular__344nw2e Typography_color_gray700__344nw2o styles_flex-shrink_0__dk46tsa9\">경력2년↑</span></div><div data-sentry-element=\"Flex\" data-sentry-source-file=\"index.tsx\" class=\"Flex_display_flex__i0l0hl2 Flex_gap_space2__i0l0hl1j styles_flex-shrink_0__dk46tsa9\"><span data-accent-color=\"gray700\" class=\"Typography_variant_size13__344nw28 Typography_weight_regular__344nw2e Typography_color_gray700__344nw2o\">09/24(수) 등록</span><span data-accent-color=\"gray700\" class=\"Typography_variant_size13__344nw28 Typography_weight_regular__344nw2e Typography_color_gray700__344nw2o\">•</span><span data-accent-color=\"gray700\" class=\"Typography_variant_size13__344nw28 Typography_weight_regular__344nw2e Typography_color_gray700__344nw2o\">상시채용</span></div></div></div></div></div></div></div><div class=\"Box_bgColor_white__1wwr54u0 Box_borderColor_default__1wwr54u5 Box_borderSize_1__1wwr54ud styles_p_space0__dk46ts61 styles_radius_radius16__dk46ts9d Shadow_root_list__bm2zcc6 fdhuk40\" data-sentry-element=\"Box\" data-sentry-source-file=\"index.tsx\" data-sentry-component=\"CardJob\" style=\"width:100%;cursor:pointer\"><div data-sentry-element=\"Flex\" data-sentry-source-file=\"index.tsx\" class=\"Flex_display_flex__i0l0hl2 Flex_direction_column__i0l0hl4\"><div data-sentry-element=\"Flex\" data-sentry-source-file=\"index.tsx\" class=\"Flex_display_flex__i0l0hl2 Flex_gap_space20__i0l0hl11 styles_p_space28__dk46ts8d fdhuk42\"><a href=\"https://www.jobkorea.co.kr/Recruit/GI_Read/47847896?Oem_Code=C1&amp;logpath=1&amp;stext=data+scientist&amp;listno=14&amp;sc=630\" rel=\"noopener noreferrer\" target=\"_blank\" data-interactive=\"true\" style=\"width:76px;height:76px\" data-sentry-element=\"BaseLink\" data-sentry-component=\"CompanyLogo\" data-sentry-source-file=\"index.tsx\"><div class=\"Box_bgColor_white__1wwr54u0 Box_borderColor_gray200__1wwr54u6 Box_borderSize_1__1wwr54ud styles_px_space6__dk46ts4i styles_radius_radius8__dk46ts9g Flex_display_flex__i0l0hl2 Flex_align_center__i0l0hl8 Flex_justify_center__i0l0hld styles_flex-shrink_0__dk46tsa9 styles_overflow_hidden__dk46ts9s styles_position_relative__dk46tsa5\" data-sentry-element=\"Box\" data-sentry-source-file=\"index.tsx\" style=\"height:76px;width:76px;border-radius:99px\"><img alt=\"㈜휴톰 로고\" data-sentry-element=\"NextImage\" data-sentry-source-file=\"index.tsx\" data-sentry-component=\"Image\" loading=\"lazy\" width=\"0\" height=\"0\" decoding=\"async\" data-nimg=\"1\" style=\"color:transparent;width:auto;height:auto;max-width:100%;max-height:100%\" src=\"https://imgs.jobkorea.co.kr///img1/_whitebg/200X80/Co_Logo/Logo/2022/6/21/JK_CO_gbqkjc22062115163037.png?v=202510231303\"/></div></a><div class=\"\" data-sentry-element=\"Block\" data-sentry-source-file=\"index.tsx\" style=\"width:100%\"><div data-sentry-element=\"Flex\" data-sentry-source-file=\"index.tsx\" class=\"Flex_display_flex__i0l0hl2 Flex_align_center__i0l0hl8 Flex_justify_space-between__i0l0hlf styles_position_relative__dk46tsa5 styles_mb_space6__dk46ts4f\"><div data-sentry-element=\"Flex\" data-sentry-component=\"BadgeItem\" data-sentry-source-file=\"index.tsx\" class=\"Flex_display_flex__i0l0hl2 Flex_gap_space4__i0l0hly Flex_align_center__i0l0hl8\"><div class=\"emoji--basicemoji-money\" style=\"width:16px;height:16px;background-size:16px;background-position:center;background-repeat:no-repeat\"></div><span data-accent-color=\"yellow\" data-sentry-element=\"Typography\" data-sentry-source-file=\"index.tsx\" class=\"Typography_variant_size13__344nw28 Typography_weight_medium__344nw2d Typography_color_yellow__344nw2t\">합격축하금 50만원</span></div><div class=\"styles_position_absolute__dk46tsa6\" style=\"right:0;top:0\"><button type=\"button\" data-interactive=\"true\" data-sentry-component=\"BaseButton\" data-sentry-source-file=\"index.tsx\"><i class=\"jds-icon jds-icon--system_scrap Icon_root__1516qwb0 Icon_color_gray300__1516qwbb Icon_size_28__1516qwbn\"></i><span style=\"position:absolute;border:0;width:1px;height:1px;padding:0;margin:-1px;overflow:hidden;clip:rect(0, 0, 0, 0);white-space:nowrap;word-wrap:normal\">스크랩</span></button></div></div><div class=\"styles_mb_space2__dk46ts4t\" data-sentry-element=\"Block\" data-sentry-source-file=\"index.tsx\"><a href=\"https://www.jobkorea.co.kr/Recruit/GI_Read/47847896?Oem_Code=C1&amp;logpath=1&amp;stext=data+scientist&amp;listno=14&amp;sc=630\" rel=\"noopener noreferrer\" target=\"_blank\" data-interactive=\"true\" data-sentry-element=\"BaseLink\" data-sentry-source-file=\"index.tsx\" style=\"max-width:700px\" class=\"Flex_display_flex__i0l0hl2 Flex_gap_space6__i0l0hl1g Flex_align_center__i0l0hl8 styles_mb_space2__dk46ts4t\"><span data-accent-color=\"gray900\" data-sentry-element=\"Typography\" data-sentry-source-file=\"index.tsx\" class=\"Typography_variant_size18__344nw25 Typography_weight_medium__344nw2d Typography_color_gray900__344nw2m Typography_truncate__344nw2y\">Data Scientist</span></a></div><a href=\"https://www.jobkorea.co.kr/Recruit/GI_Read/47847896?Oem_Code=C1&amp;logpath=1&amp;stext=data+scientist&amp;listno=14&amp;sc=630\" rel=\"noopener noreferrer\" target=\"_blank\" data-interactive=\"true\" data-sentry-element=\"BaseLink\" data-sentry-source-file=\"index.tsx\" class=\"Flex_display_inline-flex__i0l0hl1 Flex_gap_space6__i0l0hl1g Flex_align_center__i0l0hl8 styles_mb_space20__dk46ts2h\"><span data-accent-color=\"gray700\" data-sentry-element=\"Typography\" data-sentry-source-file=\"index.tsx\" class=\"Typography_variant_size16__344nw26 Typography_weight_regular__344nw2e Typography_color_gray700__344nw2o Typography_truncate__344nw2y\">㈜휴톰</span><span data-accent-color=\"gray500\" data-sentry-element=\"Typography\" data-sentry-source-file=\"index.tsx\" class=\"Typography_variant_size11__344nw2a Typography_weight_regular__344nw2e Typography_color_gray500__344nw2p styles_flex-shrink_0__dk46tsa9\"></span></a><div data-sentry-element=\"Flex\" data-sentry-source-file=\"index.tsx\" class=\"Flex_display_flex__i0l0hl2 Flex_gap_space10__i0l0hlm Flex_direction_column__i0l0hl4\"><div data-sentry-element=\"Flex\" data-sentry-source-file=\"index.tsx\" class=\"Flex_display_flex__i0l0hl2 Flex_justify_space-between__i0l0hlf\"><div data-sentry-element=\"Flex\" data-sentry-source-file=\"index.tsx\" style=\"max-width:643px\" class=\"Flex_display_flex__i0l0hl2 Flex_gap_space8__i0l0hlv\"><div data-sentry-element=\"Flex\" data-sentry-component=\"GrayChip\" data-sentry-source-file=\"index.tsx\" style=\"height:30px;min-width:auto\" class=\"Flex_display_flex__i0l0hl2 Flex_gap_space4__i0l0hly Flex_align_center__i0l0hl8 styles_flex-shrink_0__dk46tsa9 styles_px_space10__dk46tsm vvrp1p0\"><div class=\"styles_flex-shrink_0__dk46tsa9\" data-sentry-element=\"Block\" data-sentry-source-file=\"index.tsx\" style=\"width:16px\"><div class=\"emoji--basicemoji-place2\" style=\"width:16px;height:16px;background-size:16px;background-position:center;background-repeat:no-repeat\"></div></div><span data-accent-color=\"gray900\" data-sentry-element=\"Typography\" data-sentry-source-file=\"index.tsx\" class=\"Typography_variant_size14__344nw27 Typography_weight_regular__344nw2e Typography_color_gray900__344nw2m Typography_truncate__344nw2y\">서울 마포구</span></div><div data-sentry-element=\"Flex\" data-sentry-component=\"GrayChip\" data-sentry-source-file=\"index.tsx\" style=\"height:30px;min-width:0\" class=\"Flex_display_flex__i0l0hl2 Flex_gap_space4__i0l0hly Flex_align_center__i0l0hl8 styles_flex-shrink_1__dk46tsaa styles_px_space10__dk46tsm vvrp1p0\"><div class=\"styles_flex-shrink_0__dk46tsa9\" data-sentry-element=\"Block\" data-sentry-source-file=\"index.tsx\" style=\"width:16px\"><div class=\"emoji--basicemoji-briefcase\" style=\"width:16px;height:16px;background-size:16px;background-position:center;background-repeat:no-repeat\"></div></div><span data-accent-color=\"gray900\" data-sentry-element=\"Typography\" data-sentry-source-file=\"index.tsx\" class=\"Typography_variant_size14__344nw27 Typography_weight_regular__344nw2e Typography_color_gray900__344nw2m Typography_truncate__344nw2y\">제약·보건·바이오, 데이터사이언티스트</span></div></div><div class=\"\" data-interactive=\"true\"><button type=\"button\" class=\"Flex_display_flex__i0l0hl2 Flex_align_center__i0l0hl8 Flex_justify_center__i0l0hld styles_flex-shrink_0__dk46tsa9 styles_px_space10__dk46tsm yt9jy31 yt9jy30\" style=\"height:32px;width:90px\" data-sentry-element=\"BaseButton\" data-sentry-source-file=\"index.tsx\" data-sentry-component=\"BaseButton\"><span data-accent-color=\"theme-primary\" data-sentry-element=\"Typography\" data-sentry-source-file=\"index.tsx\" class=\"Typography_variant_size12__344nw29 Typography_weight_medium__344nw2d Typography_color_theme-primary__344nw2f\">즉시 지원</span></button></div></div><div data-sentry-element=\"Flex\" data-sentry-source-file=\"index.tsx\" class=\"Flex_display_flex__i0l0hl2 Flex_align_center__i0l0hl8 Flex_justify_space-between__i0l0hlf\"><div data-sentry-element=\"Flex\" data-sentry-source-file=\"index.tsx\" style=\"max-width:565px\" class=\"Flex_display_flex__i0l0hl2 Flex_gap_space2__i0l0hl1j Flex_align_center__i0l0hl8\"><span data-accent-color=\"gray700\" data-sentry-element=\"Typography\" data-sentry-source-file=\"index.tsx\" class=\"Typography_variant_size13__344nw28 Typography_weight_regular__344nw2e Typography_color_gray700__344nw2o styles_flex-shrink_0__dk46tsa9\">경력3년↑</span><span data-accent-color=\"gray700\" class=\"Typography_variant_size13__344nw28 Typography_weight_regular__344nw2e Typography_color_gray700__344nw2o Typography_truncate__344nw2y\">•</span><span data-accent-color=\"gray700\" class=\"Typography_variant_size13__344nw28 Typography_weight_regular__344nw2e Typography_color_gray700__344nw2o Typography_truncate__344nw2y\">명절선물/명절상여 지원<!-- -->, <!-- -->생일 이벤트<!-- -->, <!-- -->복지포인트<!-- -->, <!-- -->연차제도</span></div><div data-sentry-element=\"Flex\" data-sentry-source-file=\"index.tsx\" class=\"Flex_display_flex__i0l0hl2 Flex_gap_space2__i0l0hl1j styles_flex-shrink_0__dk46tsa9\"><span data-accent-color=\"gray700\" class=\"Typography_variant_size13__344nw28 Typography_weight_regular__344nw2e Typography_color_gray700__344nw2o\">10/14(화) 등록</span><span data-accent-color=\"gray700\" class=\"Typography_variant_size13__344nw28 Typography_weight_regular__344nw2e Typography_color_gray700__344nw2o\">•</span><span data-accent-color=\"gray700\" class=\"Typography_variant_size13__344nw28 Typography_weight_regular__344nw2e Typography_color_gray700__344nw2o\">11/13(목) 마감</span></div></div></div></div></div></div></div><div class=\"Box_bgColor_white__1wwr54u0 Box_borderColor_default__1wwr54u5 Box_borderSize_1__1wwr54ud styles_p_space0__dk46ts61 styles_radius_radius16__dk46ts9d Shadow_root_list__bm2zcc6 fdhuk40\" data-sentry-element=\"Box\" data-sentry-source-file=\"index.tsx\" data-sentry-component=\"CardJob\" style=\"width:100%;cursor:pointer\"><div data-sentry-element=\"Flex\" data-sentry-source-file=\"index.tsx\" class=\"Flex_display_flex__i0l0hl2 Flex_direction_column__i0l0hl4\"><div data-sentry-element=\"Flex\" data-sentry-source-file=\"index.tsx\" class=\"Flex_display_flex__i0l0hl2 Flex_gap_space20__i0l0hl11 styles_p_space28__dk46ts8d fdhuk42\"><a href=\"https://www.jobkorea.co.kr/Recruit/GI_Read/47838777?Oem_Code=C1&amp;logpath=1&amp;stext=data+scientist&amp;listno=15&amp;sc=630\" rel=\"noopener noreferrer\" target=\"_blank\" data-interactive=\"true\" style=\"width:76px;height:76px\" data-sentry-element=\"BaseLink\" data-sentry-component=\"CompanyLogo\" data-sentry-source-file=\"index.tsx\"><div class=\"Box_bgColor_white__1wwr54u0 Box_borderColor_gray200__1wwr54u6 Box_borderSize_1__1wwr54ud styles_px_space6__dk46ts4i styles_radius_radius8__dk46ts9g Flex_display_flex__i0l0hl2 Flex_align_center__i0l0hl8 Flex_justify_center__i0l0hld styles_flex-shrink_0__dk46tsa9 styles_overflow_hidden__dk46ts9s styles_position_relative__dk46tsa5\" data-sentry-element=\"Box\" data-sentry-source-file=\"index.tsx\" style=\"height:76px;width:76px;border-radius:99px\"><img alt=\"㈜앰버로드 로고\" data-sentry-element=\"NextImage\" data-sentry-source-file=\"index.tsx\" data-sentry-component=\"Image\" loading=\"lazy\" width=\"0\" height=\"0\" decoding=\"async\" data-nimg=\"1\" style=\"color:transparent;width:auto;height:auto;max-width:100%;max-height:100%\" src=\"https://imgs.jobkorea.co.kr//Images/Logo/128/a/m/2331w00wqefqjxwjz_3920t9dtocdqjwq2wt.gif?p=y&amp;hash=c\"/></div></a><div class=\"\" data-sentry-element=\"Block\" data-sentry-source-file=\"index.tsx\" style=\"width:100%\"><div data-sentry-element=\"Flex\" data-sentry-source-file=\"index.tsx\" class=\"Flex_display_flex__i0l0hl2 Flex_align_center__i0l0hl8 Flex_justify_space-between__i0l0hlf styles_position_relative__dk46tsa5 styles_mb_space6__dk46ts4f\"><div data-sentry-element=\"Flex\" data-sentry-component=\"BadgeItem\" data-sentry-source-file=\"index.tsx\" class=\"Flex_display_flex__i0l0hl2 Flex_gap_space4__i0l0hly Flex_align_center__i0l0hl8\"><div class=\"emoji--basicemoji-money\" style=\"width:16px;height:16px;background-size:16px;background-position:center;background-repeat:no-repeat\"></div><span data-accent-color=\"yellow\" data-sentry-element=\"Typography\" data-sentry-source-file=\"index.tsx\" class=\"Typography_variant_size13__344nw28 Typography_weight_medium__344nw2d Typography_color_yellow__344nw2t\">합격축하금 100만원</span></div><div class=\"styles_position_absolute__dk46tsa6\" style=\"right:0;top:0\"><button type=\"button\" data-interactive=\"true\" data-sentry-component=\"BaseButton\" data-sentry-source-file=\"index.tsx\"><i class=\"jds-icon jds-icon--system_scrap Icon_root__1516qwb0 Icon_color_gray300__1516qwbb Icon_size_28__1516qwbn\"></i><span style=\"position:absolute;border:0;width:1px;height:1px;padding:0;margin:-1px;overflow:hidden;clip:rect(0, 0, 0, 0);white-space:nowrap;word-wrap:normal\">스크랩</span></button></div></div><div class=\"styles_mb_space2__dk46ts4t\" data-sentry-element=\"Block\" data-sentry-source-file=\"index.tsx\"><a href=\"https://www.jobkorea.co.kr/Recruit/GI_Read/47838777?Oem_Code=C1&amp;logpath=1&amp;stext=data+scientist&amp;listno=15&amp;sc=630\" rel=\"noopener noreferrer\" target=\"_blank\" data-interactive=\"true\" data-sentry-element=\"BaseLink\" data-sentry-source-file=\"index.tsx\" style=\"max-width:700px\" class=\"Flex_display_flex__i0l0hl2 Flex_gap_space6__i0l0hl1g Flex_align_center__i0l0hl8 styles_mb_space2__dk46ts4t\"><span data-accent-color=\"gray900\" data-sentry-element=\"Typography\" data-sentry-source-file=\"index.tsx\" class=\"Typography_variant_size18__344nw25 Typography_weight_medium__344nw2d Typography_color_gray900__344nw2m Typography_truncate__344nw2y\">Data Scientist</span></a></div><a href=\"https://www.jobkorea.co.kr/Recruit/GI_Read/47838777?Oem_Code=C1&amp;logpath=1&amp;stext=data+scientist&amp;listno=15&amp;sc=630\" rel=\"noopener noreferrer\" target=\"_blank\" data-interactive=\"true\" data-sentry-element=\"BaseLink\" data-sentry-source-file=\"index.tsx\" class=\"Flex_display_inline-flex__i0l0hl1 Flex_gap_space6__i0l0hl1g Flex_align_center__i0l0hl8 styles_mb_space20__dk46ts2h\"><span data-accent-color=\"gray700\" data-sentry-element=\"Typography\" data-sentry-source-file=\"index.tsx\" class=\"Typography_variant_size16__344nw26 Typography_weight_regular__344nw2e Typography_color_gray700__344nw2o Typography_truncate__344nw2y\">㈜앰버로드</span><span data-accent-color=\"gray500\" data-sentry-element=\"Typography\" data-sentry-source-file=\"index.tsx\" class=\"Typography_variant_size11__344nw2a Typography_weight_regular__344nw2e Typography_color_gray500__344nw2p styles_flex-shrink_0__dk46tsa9\"></span></a><div data-sentry-element=\"Flex\" data-sentry-source-file=\"index.tsx\" class=\"Flex_display_flex__i0l0hl2 Flex_gap_space10__i0l0hlm Flex_direction_column__i0l0hl4\"><div data-sentry-element=\"Flex\" data-sentry-source-file=\"index.tsx\" class=\"Flex_display_flex__i0l0hl2 Flex_justify_space-between__i0l0hlf\"><div data-sentry-element=\"Flex\" data-sentry-source-file=\"index.tsx\" style=\"max-width:643px\" class=\"Flex_display_flex__i0l0hl2 Flex_gap_space8__i0l0hlv\"><div data-sentry-element=\"Flex\" data-sentry-component=\"GrayChip\" data-sentry-source-file=\"index.tsx\" style=\"height:30px;min-width:auto\" class=\"Flex_display_flex__i0l0hl2 Flex_gap_space4__i0l0hly Flex_align_center__i0l0hl8 styles_flex-shrink_0__dk46tsa9 styles_px_space10__dk46tsm vvrp1p0\"><div class=\"styles_flex-shrink_0__dk46tsa9\" data-sentry-element=\"Block\" data-sentry-source-file=\"index.tsx\" style=\"width:16px\"><div class=\"emoji--basicemoji-place2\" style=\"width:16px;height:16px;background-size:16px;background-position:center;background-repeat:no-repeat\"></div></div><span data-accent-color=\"gray900\" data-sentry-element=\"Typography\" data-sentry-source-file=\"index.tsx\" class=\"Typography_variant_size14__344nw27 Typography_weight_regular__344nw2e Typography_color_gray900__344nw2m Typography_truncate__344nw2y\">서울 외 1</span></div><div data-sentry-element=\"Flex\" data-sentry-component=\"GrayChip\" data-sentry-source-file=\"index.tsx\" style=\"height:30px;min-width:0\" class=\"Flex_display_flex__i0l0hl2 Flex_gap_space4__i0l0hly Flex_align_center__i0l0hl8 styles_flex-shrink_1__dk46tsaa styles_px_space10__dk46tsm vvrp1p0\"><div class=\"styles_flex-shrink_0__dk46tsa9\" data-sentry-element=\"Block\" data-sentry-source-file=\"index.tsx\" style=\"width:16px\"><div class=\"emoji--basicemoji-briefcase\" style=\"width:16px;height:16px;background-size:16px;background-position:center;background-repeat:no-repeat\"></div></div><span data-accent-color=\"gray900\" data-sentry-element=\"Typography\" data-sentry-source-file=\"index.tsx\" class=\"Typography_variant_size14__344nw27 Typography_weight_regular__344nw2e Typography_color_gray900__344nw2m Typography_truncate__344nw2y\">솔루션·SI·CRM·ERP, 데이터사이언티스트</span></div></div><div class=\"\" data-interactive=\"true\"><button type=\"button\" class=\"Flex_display_flex__i0l0hl2 Flex_align_center__i0l0hl8 Flex_justify_center__i0l0hld styles_flex-shrink_0__dk46tsa9 styles_px_space10__dk46tsm yt9jy31 yt9jy30\" style=\"height:32px;width:90px\" data-sentry-element=\"BaseButton\" data-sentry-source-file=\"index.tsx\" data-sentry-component=\"BaseButton\"><span data-accent-color=\"theme-primary\" data-sentry-element=\"Typography\" data-sentry-source-file=\"index.tsx\" class=\"Typography_variant_size12__344nw29 Typography_weight_medium__344nw2d Typography_color_theme-primary__344nw2f\">즉시 지원</span></button></div></div><div data-sentry-element=\"Flex\" data-sentry-source-file=\"index.tsx\" class=\"Flex_display_flex__i0l0hl2 Flex_align_center__i0l0hl8 Flex_justify_space-between__i0l0hlf\"><div data-sentry-element=\"Flex\" data-sentry-source-file=\"index.tsx\" style=\"max-width:565px\" class=\"Flex_display_flex__i0l0hl2 Flex_gap_space2__i0l0hl1j Flex_align_center__i0l0hl8\"><span data-accent-color=\"gray700\" data-sentry-element=\"Typography\" data-sentry-source-file=\"index.tsx\" class=\"Typography_variant_size13__344nw28 Typography_weight_regular__344nw2e Typography_color_gray700__344nw2o styles_flex-shrink_0__dk46tsa9\">경력2년↑</span><span data-accent-color=\"gray700\" class=\"Typography_variant_size13__344nw28 Typography_weight_regular__344nw2e Typography_color_gray700__344nw2o Typography_truncate__344nw2y\">•</span><span data-accent-color=\"gray700\" class=\"Typography_variant_size13__344nw28 Typography_weight_regular__344nw2e Typography_color_gray700__344nw2o Typography_truncate__344nw2y\">생일 이벤트<!-- -->, <!-- -->장비 지원<!-- -->, <!-- -->반반차 제도</span></div><div data-sentry-element=\"Flex\" data-sentry-source-file=\"index.tsx\" class=\"Flex_display_flex__i0l0hl2 Flex_gap_space2__i0l0hl1j styles_flex-shrink_0__dk46tsa9\"><span data-accent-color=\"gray700\" class=\"Typography_variant_size13__344nw28 Typography_weight_regular__344nw2e Typography_color_gray700__344nw2o\">10/13(월) 등록</span><span data-accent-color=\"gray700\" class=\"Typography_variant_size13__344nw28 Typography_weight_regular__344nw2e Typography_color_gray700__344nw2o\">•</span><span data-accent-color=\"gray700\" class=\"Typography_variant_size13__344nw28 Typography_weight_regular__344nw2e Typography_color_gray700__344nw2o\">11/12(수) 마감</span></div></div></div></div></div></div></div><div class=\"Box_bgColor_white__1wwr54u0 Box_borderColor_default__1wwr54u5 Box_borderSize_1__1wwr54ud styles_p_space0__dk46ts61 styles_radius_radius16__dk46ts9d Shadow_root_list__bm2zcc6 fdhuk40\" data-sentry-element=\"Box\" data-sentry-source-file=\"index.tsx\" data-sentry-component=\"CardJob\" style=\"width:100%;cursor:pointer\"><div data-sentry-element=\"Flex\" data-sentry-source-file=\"index.tsx\" class=\"Flex_display_flex__i0l0hl2 Flex_direction_column__i0l0hl4\"><div data-sentry-element=\"Flex\" data-sentry-source-file=\"index.tsx\" class=\"Flex_display_flex__i0l0hl2 Flex_gap_space20__i0l0hl11 styles_p_space28__dk46ts8d fdhuk42\"><a href=\"https://www.jobkorea.co.kr/Recruit/GI_Read/47853961?Oem_Code=C1&amp;logpath=1&amp;stext=data+scientist&amp;listno=16&amp;sc=630\" rel=\"noopener noreferrer\" target=\"_blank\" data-interactive=\"true\" style=\"width:76px;height:76px\" data-sentry-element=\"BaseLink\" data-sentry-component=\"CompanyLogo\" data-sentry-source-file=\"index.tsx\"><div class=\"Box_bgColor_white__1wwr54u0 Box_borderColor_gray200__1wwr54u6 Box_borderSize_1__1wwr54ud styles_px_space6__dk46ts4i styles_radius_radius8__dk46ts9g Flex_display_flex__i0l0hl2 Flex_align_center__i0l0hl8 Flex_justify_center__i0l0hld styles_flex-shrink_0__dk46tsa9 styles_overflow_hidden__dk46ts9s styles_position_relative__dk46tsa5\" data-sentry-element=\"Box\" data-sentry-source-file=\"index.tsx\" style=\"height:76px;width:76px;border-radius:99px\"><img alt=\"㈜페이블랩 로고\" data-sentry-element=\"NextImage\" data-sentry-source-file=\"index.tsx\" data-sentry-component=\"Image\" loading=\"lazy\" width=\"0\" height=\"0\" decoding=\"async\" data-nimg=\"1\" style=\"color:transparent;width:auto;height:auto;max-width:100%;max-height:100%\" src=\"https://imgs.jobkorea.co.kr///img1/_whitebg/200X80/Co_Logo/Logo/2024/9/02/JK_CO_Yk9SOKp24090215293617.png?v=202510231303\"/></div></a><div class=\"\" data-sentry-element=\"Block\" data-sentry-source-file=\"index.tsx\" style=\"width:100%\"><div data-sentry-element=\"Flex\" data-sentry-source-file=\"index.tsx\" class=\"Flex_display_flex__i0l0hl2 Flex_align_center__i0l0hl8 Flex_justify_space-between__i0l0hlf styles_position_relative__dk46tsa5 styles_mb_space6__dk46ts4f\"><div class=\"styles_position_absolute__dk46tsa6\" style=\"right:0;top:0\"><button type=\"button\" data-interactive=\"true\" data-sentry-component=\"BaseButton\" data-sentry-source-file=\"index.tsx\"><i class=\"jds-icon jds-icon--system_scrap Icon_root__1516qwb0 Icon_color_gray300__1516qwbb Icon_size_28__1516qwbn\"></i><span style=\"position:absolute;border:0;width:1px;height:1px;padding:0;margin:-1px;overflow:hidden;clip:rect(0, 0, 0, 0);white-space:nowrap;word-wrap:normal\">스크랩</span></button></div></div><div class=\"styles_mb_space2__dk46ts4t\" data-sentry-element=\"Block\" data-sentry-source-file=\"index.tsx\"><a href=\"https://www.jobkorea.co.kr/Recruit/GI_Read/47853961?Oem_Code=C1&amp;logpath=1&amp;stext=data+scientist&amp;listno=16&amp;sc=630\" rel=\"noopener noreferrer\" target=\"_blank\" data-interactive=\"true\" data-sentry-element=\"BaseLink\" data-sentry-source-file=\"index.tsx\" style=\"max-width:700px\" class=\"Flex_display_flex__i0l0hl2 Flex_gap_space6__i0l0hl1g Flex_align_center__i0l0hl8 styles_mb_space2__dk46ts4t\"><span data-accent-color=\"gray900\" data-sentry-element=\"Typography\" data-sentry-source-file=\"index.tsx\" class=\"Typography_variant_size18__344nw25 Typography_weight_medium__344nw2d Typography_color_gray900__344nw2m Typography_truncate__344nw2y\">[뮤직테크 스타트업] Data Scientist 채용</span></a></div><a href=\"https://www.jobkorea.co.kr/Recruit/GI_Read/47853961?Oem_Code=C1&amp;logpath=1&amp;stext=data+scientist&amp;listno=16&amp;sc=630\" rel=\"noopener noreferrer\" target=\"_blank\" data-interactive=\"true\" data-sentry-element=\"BaseLink\" data-sentry-source-file=\"index.tsx\" class=\"Flex_display_inline-flex__i0l0hl1 Flex_gap_space6__i0l0hl1g Flex_align_center__i0l0hl8 styles_mb_space20__dk46ts2h\"><span data-accent-color=\"gray700\" data-sentry-element=\"Typography\" data-sentry-source-file=\"index.tsx\" class=\"Typography_variant_size16__344nw26 Typography_weight_regular__344nw2e Typography_color_gray700__344nw2o Typography_truncate__344nw2y\">㈜페이블랩</span><span data-accent-color=\"gray500\" data-sentry-element=\"Typography\" data-sentry-source-file=\"index.tsx\" class=\"Typography_variant_size11__344nw2a Typography_weight_regular__344nw2e Typography_color_gray500__344nw2p styles_flex-shrink_0__dk46tsa9\"></span></a><div data-sentry-element=\"Flex\" data-sentry-source-file=\"index.tsx\" class=\"Flex_display_flex__i0l0hl2 Flex_gap_space10__i0l0hlm Flex_direction_column__i0l0hl4\"><div data-sentry-element=\"Flex\" data-sentry-source-file=\"index.tsx\" class=\"Flex_display_flex__i0l0hl2 Flex_justify_space-between__i0l0hlf\"><div data-sentry-element=\"Flex\" data-sentry-source-file=\"index.tsx\" style=\"max-width:643px\" class=\"Flex_display_flex__i0l0hl2 Flex_gap_space8__i0l0hlv\"><div data-sentry-element=\"Flex\" data-sentry-component=\"GrayChip\" data-sentry-source-file=\"index.tsx\" style=\"height:30px;min-width:auto\" class=\"Flex_display_flex__i0l0hl2 Flex_gap_space4__i0l0hly Flex_align_center__i0l0hl8 styles_flex-shrink_0__dk46tsa9 styles_px_space10__dk46tsm vvrp1p0\"><div class=\"styles_flex-shrink_0__dk46tsa9\" data-sentry-element=\"Block\" data-sentry-source-file=\"index.tsx\" style=\"width:16px\"><div class=\"emoji--basicemoji-place2\" style=\"width:16px;height:16px;background-size:16px;background-position:center;background-repeat:no-repeat\"></div></div><span data-accent-color=\"gray900\" data-sentry-element=\"Typography\" data-sentry-source-file=\"index.tsx\" class=\"Typography_variant_size14__344nw27 Typography_weight_regular__344nw2e Typography_color_gray900__344nw2m Typography_truncate__344nw2y\">서울 마포구</span></div><div data-sentry-element=\"Flex\" data-sentry-component=\"GrayChip\" data-sentry-source-file=\"index.tsx\" style=\"height:30px;min-width:0\" class=\"Flex_display_flex__i0l0hl2 Flex_gap_space4__i0l0hly Flex_align_center__i0l0hl8 styles_flex-shrink_1__dk46tsaa styles_px_space10__dk46tsm vvrp1p0\"><div class=\"styles_flex-shrink_0__dk46tsa9\" data-sentry-element=\"Block\" data-sentry-source-file=\"index.tsx\" style=\"width:16px\"><div class=\"emoji--basicemoji-briefcase\" style=\"width:16px;height:16px;background-size:16px;background-position:center;background-repeat:no-repeat\"></div></div><span data-accent-color=\"gray900\" data-sentry-element=\"Typography\" data-sentry-source-file=\"index.tsx\" class=\"Typography_variant_size14__344nw27 Typography_weight_regular__344nw2e Typography_color_gray900__344nw2m Typography_truncate__344nw2y\">포털·컨텐츠·커뮤니티, 데이터사이언티스트</span></div></div><div class=\"\" data-interactive=\"true\"><button type=\"button\" class=\"Flex_display_flex__i0l0hl2 Flex_align_center__i0l0hl8 Flex_justify_center__i0l0hld styles_flex-shrink_0__dk46tsa9 styles_px_space10__dk46tsm yt9jy31 yt9jy30\" style=\"height:32px;width:90px\" data-sentry-element=\"BaseButton\" data-sentry-source-file=\"index.tsx\" data-sentry-component=\"BaseButton\"><span data-accent-color=\"theme-primary\" data-sentry-element=\"Typography\" data-sentry-source-file=\"index.tsx\" class=\"Typography_variant_size12__344nw29 Typography_weight_medium__344nw2d Typography_color_theme-primary__344nw2f\">즉시 지원</span></button></div></div><div data-sentry-element=\"Flex\" data-sentry-source-file=\"index.tsx\" class=\"Flex_display_flex__i0l0hl2 Flex_align_center__i0l0hl8 Flex_justify_space-between__i0l0hlf\"><div data-sentry-element=\"Flex\" data-sentry-source-file=\"index.tsx\" style=\"max-width:565px\" class=\"Flex_display_flex__i0l0hl2 Flex_gap_space2__i0l0hl1j Flex_align_center__i0l0hl8\"><span data-accent-color=\"gray700\" data-sentry-element=\"Typography\" data-sentry-source-file=\"index.tsx\" class=\"Typography_variant_size13__344nw28 Typography_weight_regular__344nw2e Typography_color_gray700__344nw2o styles_flex-shrink_0__dk46tsa9\">경력4년↑</span></div><div data-sentry-element=\"Flex\" data-sentry-source-file=\"index.tsx\" class=\"Flex_display_flex__i0l0hl2 Flex_gap_space2__i0l0hl1j styles_flex-shrink_0__dk46tsa9\"><span data-accent-color=\"gray700\" class=\"Typography_variant_size13__344nw28 Typography_weight_regular__344nw2e Typography_color_gray700__344nw2o\">10/15(수) 등록</span><span data-accent-color=\"gray700\" class=\"Typography_variant_size13__344nw28 Typography_weight_regular__344nw2e Typography_color_gray700__344nw2o\">•</span><span data-accent-color=\"gray700\" class=\"Typography_variant_size13__344nw28 Typography_weight_regular__344nw2e Typography_color_gray700__344nw2o\">11/14(금) 마감</span></div></div></div></div></div></div></div><div class=\"Box_bgColor_white__1wwr54u0 Box_borderColor_default__1wwr54u5 Box_borderSize_1__1wwr54ud styles_p_space0__dk46ts61 styles_radius_radius16__dk46ts9d Shadow_root_list__bm2zcc6 fdhuk40\" data-sentry-element=\"Box\" data-sentry-source-file=\"index.tsx\" data-sentry-component=\"CardJob\" style=\"width:100%;cursor:pointer\"><div data-sentry-element=\"Flex\" data-sentry-source-file=\"index.tsx\" class=\"Flex_display_flex__i0l0hl2 Flex_direction_column__i0l0hl4\"><div data-sentry-element=\"Flex\" data-sentry-source-file=\"index.tsx\" class=\"Flex_display_flex__i0l0hl2 Flex_gap_space20__i0l0hl11 styles_p_space28__dk46ts8d fdhuk42\"><a href=\"https://www.jobkorea.co.kr/Recruit/GI_Read/47710823?Oem_Code=C1&amp;logpath=1&amp;stext=data+scientist&amp;listno=17&amp;sc=630\" rel=\"noopener noreferrer\" target=\"_blank\" data-interactive=\"true\" style=\"width:76px;height:76px\" data-sentry-element=\"BaseLink\" data-sentry-component=\"CompanyLogo\" data-sentry-source-file=\"index.tsx\"><div class=\"Box_bgColor_white__1wwr54u0 Box_borderColor_gray200__1wwr54u6 Box_borderSize_1__1wwr54ud styles_px_space6__dk46ts4i styles_radius_radius8__dk46ts9g Flex_display_flex__i0l0hl2 Flex_align_center__i0l0hl8 Flex_justify_center__i0l0hld styles_flex-shrink_0__dk46tsa9 styles_overflow_hidden__dk46ts9s styles_position_relative__dk46tsa5\" data-sentry-element=\"Box\" data-sentry-source-file=\"index.tsx\" style=\"height:76px;width:76px;border-radius:99px\"><img alt=\"㈜데이터마케팅코리아 로고\" data-sentry-element=\"NextImage\" data-sentry-source-file=\"index.tsx\" data-sentry-component=\"Image\" loading=\"lazy\" width=\"0\" height=\"0\" decoding=\"async\" data-nimg=\"1\" style=\"color:transparent;width:auto;height:auto;max-width:100%;max-height:100%\" src=\"https://imgs.jobkorea.co.kr//Images/Logo/128/d/a/2290p00pdhvuwhvgkmj2_3620qcgqpqpvyvyloqppq.gif?p=y&amp;hash=c\"/></div></a><div class=\"\" data-sentry-element=\"Block\" data-sentry-source-file=\"index.tsx\" style=\"width:100%\"><div data-sentry-element=\"Flex\" data-sentry-source-file=\"index.tsx\" class=\"Flex_display_flex__i0l0hl2 Flex_align_center__i0l0hl8 Flex_justify_space-between__i0l0hlf styles_position_relative__dk46tsa5 styles_mb_space6__dk46ts4f\"><div class=\"styles_position_absolute__dk46tsa6\" style=\"right:0;top:0\"><button type=\"button\" data-interactive=\"true\" data-sentry-component=\"BaseButton\" data-sentry-source-file=\"index.tsx\"><i class=\"jds-icon jds-icon--system_scrap Icon_root__1516qwb0 Icon_color_gray300__1516qwbb Icon_size_28__1516qwbn\"></i><span style=\"position:absolute;border:0;width:1px;height:1px;padding:0;margin:-1px;overflow:hidden;clip:rect(0, 0, 0, 0);white-space:nowrap;word-wrap:normal\">스크랩</span></button></div></div><div class=\"styles_mb_space2__dk46ts4t\" data-sentry-element=\"Block\" data-sentry-source-file=\"index.tsx\"><a href=\"https://www.jobkorea.co.kr/Recruit/GI_Read/47710823?Oem_Code=C1&amp;logpath=1&amp;stext=data+scientist&amp;listno=17&amp;sc=630\" rel=\"noopener noreferrer\" target=\"_blank\" data-interactive=\"true\" data-sentry-element=\"BaseLink\" data-sentry-source-file=\"index.tsx\" style=\"max-width:700px\" class=\"Flex_display_flex__i0l0hl2 Flex_gap_space6__i0l0hl1g Flex_align_center__i0l0hl8 styles_mb_space2__dk46ts4t\"><span data-accent-color=\"gray900\" data-sentry-element=\"Typography\" data-sentry-source-file=\"index.tsx\" class=\"Typography_variant_size18__344nw25 Typography_weight_medium__344nw2d Typography_color_gray900__344nw2m Typography_truncate__344nw2y\">[데이터컨설턴트] 고객 문제 정의부터 분석까지 리딩할 인재 모집</span></a></div><a href=\"https://www.jobkorea.co.kr/Recruit/GI_Read/47710823?Oem_Code=C1&amp;logpath=1&amp;stext=data+scientist&amp;listno=17&amp;sc=630\" rel=\"noopener noreferrer\" target=\"_blank\" data-interactive=\"true\" data-sentry-element=\"BaseLink\" data-sentry-source-file=\"index.tsx\" class=\"Flex_display_inline-flex__i0l0hl1 Flex_gap_space6__i0l0hl1g Flex_align_center__i0l0hl8 styles_mb_space20__dk46ts2h\"><span data-accent-color=\"gray700\" data-sentry-element=\"Typography\" data-sentry-source-file=\"index.tsx\" class=\"Typography_variant_size16__344nw26 Typography_weight_regular__344nw2e Typography_color_gray700__344nw2o Typography_truncate__344nw2y\">㈜데이터마케팅코리아</span><span data-accent-color=\"gray500\" data-sentry-element=\"Typography\" data-sentry-source-file=\"index.tsx\" class=\"Typography_variant_size11__344nw2a Typography_weight_regular__344nw2e Typography_color_gray500__344nw2p styles_flex-shrink_0__dk46tsa9\"></span></a><div data-sentry-element=\"Flex\" data-sentry-source-file=\"index.tsx\" class=\"Flex_display_flex__i0l0hl2 Flex_gap_space10__i0l0hlm Flex_direction_column__i0l0hl4\"><div data-sentry-element=\"Flex\" data-sentry-source-file=\"index.tsx\" class=\"Flex_display_flex__i0l0hl2 Flex_justify_space-between__i0l0hlf\"><div data-sentry-element=\"Flex\" data-sentry-source-file=\"index.tsx\" style=\"max-width:643px\" class=\"Flex_display_flex__i0l0hl2 Flex_gap_space8__i0l0hlv\"><div data-sentry-element=\"Flex\" data-sentry-component=\"GrayChip\" data-sentry-source-file=\"index.tsx\" style=\"height:30px;min-width:auto\" class=\"Flex_display_flex__i0l0hl2 Flex_gap_space4__i0l0hly Flex_align_center__i0l0hl8 styles_flex-shrink_0__dk46tsa9 styles_px_space10__dk46tsm vvrp1p0\"><div class=\"styles_flex-shrink_0__dk46tsa9\" data-sentry-element=\"Block\" data-sentry-source-file=\"index.tsx\" style=\"width:16px\"><div class=\"emoji--basicemoji-place2\" style=\"width:16px;height:16px;background-size:16px;background-position:center;background-repeat:no-repeat\"></div></div><span data-accent-color=\"gray900\" data-sentry-element=\"Typography\" data-sentry-source-file=\"index.tsx\" class=\"Typography_variant_size14__344nw27 Typography_weight_regular__344nw2e Typography_color_gray900__344nw2m Typography_truncate__344nw2y\">서울 강남구</span></div><div data-sentry-element=\"Flex\" data-sentry-component=\"GrayChip\" data-sentry-source-file=\"index.tsx\" style=\"height:30px;min-width:0\" class=\"Flex_display_flex__i0l0hl2 Flex_gap_space4__i0l0hly Flex_align_center__i0l0hl8 styles_flex-shrink_1__dk46tsaa styles_px_space10__dk46tsm vvrp1p0\"><div class=\"styles_flex-shrink_0__dk46tsa9\" data-sentry-element=\"Block\" data-sentry-source-file=\"index.tsx\" style=\"width:16px\"><div class=\"emoji--basicemoji-briefcase\" style=\"width:16px;height:16px;background-size:16px;background-position:center;background-repeat:no-repeat\"></div></div><span data-accent-color=\"gray900\" data-sentry-element=\"Typography\" data-sentry-source-file=\"index.tsx\" class=\"Typography_variant_size14__344nw27 Typography_weight_regular__344nw2e Typography_color_gray900__344nw2m Typography_truncate__344nw2y\">솔루션·SI·CRM·ERP, 경영·비즈니스기획, 데이터엔지니어, 데이터사이언티스트</span></div></div><div class=\"\" data-interactive=\"true\"><button type=\"button\" class=\"Flex_display_flex__i0l0hl2 Flex_align_center__i0l0hl8 Flex_justify_center__i0l0hld styles_flex-shrink_0__dk46tsa9 styles_px_space10__dk46tsm yt9jy31 yt9jy30\" style=\"height:32px;width:90px\" data-sentry-element=\"BaseButton\" data-sentry-source-file=\"index.tsx\" data-sentry-component=\"BaseButton\"><span data-accent-color=\"theme-primary\" data-sentry-element=\"Typography\" data-sentry-source-file=\"index.tsx\" class=\"Typography_variant_size12__344nw29 Typography_weight_medium__344nw2d Typography_color_theme-primary__344nw2f\">즉시 지원</span></button></div></div><div data-sentry-element=\"Flex\" data-sentry-source-file=\"index.tsx\" class=\"Flex_display_flex__i0l0hl2 Flex_align_center__i0l0hl8 Flex_justify_space-between__i0l0hlf\"><div data-sentry-element=\"Flex\" data-sentry-source-file=\"index.tsx\" style=\"max-width:565px\" class=\"Flex_display_flex__i0l0hl2 Flex_gap_space2__i0l0hl1j Flex_align_center__i0l0hl8\"><span data-accent-color=\"gray700\" data-sentry-element=\"Typography\" data-sentry-source-file=\"index.tsx\" class=\"Typography_variant_size13__344nw28 Typography_weight_regular__344nw2e Typography_color_gray700__344nw2o styles_flex-shrink_0__dk46tsa9\">경력3년↑</span></div><div data-sentry-element=\"Flex\" data-sentry-source-file=\"index.tsx\" class=\"Flex_display_flex__i0l0hl2 Flex_gap_space2__i0l0hl1j styles_flex-shrink_0__dk46tsa9\"><span data-accent-color=\"gray700\" class=\"Typography_variant_size13__344nw28 Typography_weight_regular__344nw2e Typography_color_gray700__344nw2o\">09/16(화) 등록</span><span data-accent-color=\"gray700\" class=\"Typography_variant_size13__344nw28 Typography_weight_regular__344nw2e Typography_color_gray700__344nw2o\">•</span><span data-accent-color=\"gray700\" class=\"Typography_variant_size13__344nw28 Typography_weight_regular__344nw2e Typography_color_gray700__344nw2o\">상시채용</span></div></div></div></div></div></div></div><div class=\"Box_bgColor_white__1wwr54u0 Box_borderColor_default__1wwr54u5 Box_borderSize_1__1wwr54ud styles_p_space0__dk46ts61 styles_radius_radius16__dk46ts9d Shadow_root_list__bm2zcc6 fdhuk40\" data-sentry-element=\"Box\" data-sentry-source-file=\"index.tsx\" data-sentry-component=\"CardJob\" style=\"width:100%;cursor:pointer\"><div data-sentry-element=\"Flex\" data-sentry-source-file=\"index.tsx\" class=\"Flex_display_flex__i0l0hl2 Flex_direction_column__i0l0hl4\"><div data-sentry-element=\"Flex\" data-sentry-source-file=\"index.tsx\" class=\"Flex_display_flex__i0l0hl2 Flex_gap_space20__i0l0hl11 styles_p_space28__dk46ts8d fdhuk42\"><a href=\"https://www.jobkorea.co.kr/Recruit/GI_Read/47855743?Oem_Code=C1&amp;logpath=1&amp;stext=data+scientist&amp;listno=18&amp;sc=630\" rel=\"noopener noreferrer\" target=\"_blank\" data-interactive=\"true\" style=\"width:76px;height:76px\" data-sentry-element=\"BaseLink\" data-sentry-component=\"CompanyLogo\" data-sentry-source-file=\"index.tsx\"><div class=\"Box_bgColor_white__1wwr54u0 Box_borderColor_gray200__1wwr54u6 Box_borderSize_1__1wwr54ud styles_px_space6__dk46ts4i styles_radius_radius8__dk46ts9g Flex_display_flex__i0l0hl2 Flex_align_center__i0l0hl8 Flex_justify_center__i0l0hld styles_flex-shrink_0__dk46tsa9 styles_overflow_hidden__dk46ts9s styles_position_relative__dk46tsa5\" data-sentry-element=\"Box\" data-sentry-source-file=\"index.tsx\" style=\"height:76px;width:76px;border-radius:99px\"><img alt=\"㈜에이브랩스 로고\" data-sentry-element=\"NextImage\" data-sentry-source-file=\"index.tsx\" data-sentry-component=\"Image\" loading=\"lazy\" width=\"0\" height=\"0\" decoding=\"async\" data-nimg=\"1\" style=\"color:transparent;width:auto;height:auto;max-width:100%;max-height:100%\" src=\"https://imgs.jobkorea.co.kr//Images/Logo/128/a/i/2617q00qqgihefa2_3820r8crddmqqcnqr.gif?p=y&amp;hash=c\"/></div></a><div class=\"\" data-sentry-element=\"Block\" data-sentry-source-file=\"index.tsx\" style=\"width:100%\"><div data-sentry-element=\"Flex\" data-sentry-source-file=\"index.tsx\" class=\"Flex_display_flex__i0l0hl2 Flex_align_center__i0l0hl8 Flex_justify_space-between__i0l0hlf styles_position_relative__dk46tsa5 styles_mb_space6__dk46ts4f\"><div data-sentry-element=\"Flex\" data-sentry-component=\"BadgeItem\" data-sentry-source-file=\"index.tsx\" class=\"Flex_display_flex__i0l0hl2 Flex_gap_space4__i0l0hly Flex_align_center__i0l0hl8\"><span data-accent-color=\"pink\" data-sentry-element=\"Typography\" data-sentry-source-file=\"index.tsx\" class=\"Typography_variant_size13__344nw28 Typography_weight_medium__344nw2d Typography_color_pink__344nw2x\">신입 지원 가능</span></div><div class=\"styles_position_absolute__dk46tsa6\" style=\"right:0;top:0\"><button type=\"button\" data-interactive=\"true\" data-sentry-component=\"BaseButton\" data-sentry-source-file=\"index.tsx\"><i class=\"jds-icon jds-icon--system_scrap Icon_root__1516qwb0 Icon_color_gray300__1516qwbb Icon_size_28__1516qwbn\"></i><span style=\"position:absolute;border:0;width:1px;height:1px;padding:0;margin:-1px;overflow:hidden;clip:rect(0, 0, 0, 0);white-space:nowrap;word-wrap:normal\">스크랩</span></button></div></div><div class=\"styles_mb_space2__dk46ts4t\" data-sentry-element=\"Block\" data-sentry-source-file=\"index.tsx\"><a href=\"https://www.jobkorea.co.kr/Recruit/GI_Read/47855743?Oem_Code=C1&amp;logpath=1&amp;stext=data+scientist&amp;listno=18&amp;sc=630\" rel=\"noopener noreferrer\" target=\"_blank\" data-interactive=\"true\" data-sentry-element=\"BaseLink\" data-sentry-source-file=\"index.tsx\" style=\"max-width:700px\" class=\"Flex_display_flex__i0l0hl2 Flex_gap_space6__i0l0hl1g Flex_align_center__i0l0hl8 styles_mb_space2__dk46ts4t\"><span data-accent-color=\"gray900\" data-sentry-element=\"Typography\" data-sentry-source-file=\"index.tsx\" class=\"Typography_variant_size18__344nw25 Typography_weight_medium__344nw2d Typography_color_gray900__344nw2m Typography_truncate__344nw2y\">데이터 분석 (Data Scientist) 채용</span></a></div><a href=\"https://www.jobkorea.co.kr/Recruit/GI_Read/47855743?Oem_Code=C1&amp;logpath=1&amp;stext=data+scientist&amp;listno=18&amp;sc=630\" rel=\"noopener noreferrer\" target=\"_blank\" data-interactive=\"true\" data-sentry-element=\"BaseLink\" data-sentry-source-file=\"index.tsx\" class=\"Flex_display_inline-flex__i0l0hl1 Flex_gap_space6__i0l0hl1g Flex_align_center__i0l0hl8 styles_mb_space20__dk46ts2h\"><span data-accent-color=\"gray700\" data-sentry-element=\"Typography\" data-sentry-source-file=\"index.tsx\" class=\"Typography_variant_size16__344nw26 Typography_weight_regular__344nw2e Typography_color_gray700__344nw2o Typography_truncate__344nw2y\">㈜에이브랩스</span><span data-accent-color=\"gray500\" data-sentry-element=\"Typography\" data-sentry-source-file=\"index.tsx\" class=\"Typography_variant_size11__344nw2a Typography_weight_regular__344nw2e Typography_color_gray500__344nw2p styles_flex-shrink_0__dk46tsa9\"></span></a><div data-sentry-element=\"Flex\" data-sentry-source-file=\"index.tsx\" class=\"Flex_display_flex__i0l0hl2 Flex_gap_space10__i0l0hlm Flex_direction_column__i0l0hl4\"><div data-sentry-element=\"Flex\" data-sentry-source-file=\"index.tsx\" class=\"Flex_display_flex__i0l0hl2 Flex_justify_space-between__i0l0hlf\"><div data-sentry-element=\"Flex\" data-sentry-source-file=\"index.tsx\" style=\"max-width:643px\" class=\"Flex_display_flex__i0l0hl2 Flex_gap_space8__i0l0hlv\"><div data-sentry-element=\"Flex\" data-sentry-component=\"GrayChip\" data-sentry-source-file=\"index.tsx\" style=\"height:30px;min-width:auto\" class=\"Flex_display_flex__i0l0hl2 Flex_gap_space4__i0l0hly Flex_align_center__i0l0hl8 styles_flex-shrink_0__dk46tsa9 styles_px_space10__dk46tsm vvrp1p0\"><div class=\"styles_flex-shrink_0__dk46tsa9\" data-sentry-element=\"Block\" data-sentry-source-file=\"index.tsx\" style=\"width:16px\"><div class=\"emoji--basicemoji-place2\" style=\"width:16px;height:16px;background-size:16px;background-position:center;background-repeat:no-repeat\"></div></div><span data-accent-color=\"gray900\" data-sentry-element=\"Typography\" data-sentry-source-file=\"index.tsx\" class=\"Typography_variant_size14__344nw27 Typography_weight_regular__344nw2e Typography_color_gray900__344nw2m Typography_truncate__344nw2y\">서울 용산구</span></div><div data-sentry-element=\"Flex\" data-sentry-component=\"GrayChip\" data-sentry-source-file=\"index.tsx\" style=\"height:30px;min-width:0\" class=\"Flex_display_flex__i0l0hl2 Flex_gap_space4__i0l0hly Flex_align_center__i0l0hl8 styles_flex-shrink_1__dk46tsaa styles_px_space10__dk46tsm vvrp1p0\"><div class=\"styles_flex-shrink_0__dk46tsa9\" data-sentry-element=\"Block\" data-sentry-source-file=\"index.tsx\" style=\"width:16px\"><div class=\"emoji--basicemoji-briefcase\" style=\"width:16px;height:16px;background-size:16px;background-position:center;background-repeat:no-repeat\"></div></div><span data-accent-color=\"gray900\" data-sentry-element=\"Typography\" data-sentry-source-file=\"index.tsx\" class=\"Typography_variant_size14__344nw27 Typography_weight_regular__344nw2e Typography_color_gray900__344nw2m Typography_truncate__344nw2y\">솔루션·SI·CRM·ERP, 데이터엔지니어, 데이터사이언티스트, AI/ML엔지니어</span></div><div data-sentry-element=\"Flex\" data-sentry-component=\"GrayChip\" data-sentry-source-file=\"index.tsx\" style=\"height:30px;min-width:auto\" class=\"Flex_display_flex__i0l0hl2 Flex_gap_space4__i0l0hly Flex_align_center__i0l0hl8 styles_flex-shrink_0__dk46tsa9 styles_px_space10__dk46tsm vvrp1p0\"><div class=\"styles_flex-shrink_0__dk46tsa9\" data-sentry-element=\"Block\" data-sentry-source-file=\"index.tsx\" style=\"width:16px\"><div class=\"emoji--basicemoji-money_bill\" style=\"width:16px;height:16px;background-size:16px;background-position:center;background-repeat:no-repeat\"></div></div><span data-accent-color=\"gray900\" data-sentry-element=\"Typography\" data-sentry-source-file=\"index.tsx\" class=\"Typography_variant_size14__344nw27 Typography_weight_regular__344nw2e Typography_color_gray900__344nw2m Typography_truncate__344nw2y\">연봉 3,800~9,000만원</span></div></div><div class=\"\" data-interactive=\"true\"><button type=\"button\" class=\"Flex_display_flex__i0l0hl2 Flex_align_center__i0l0hl8 Flex_justify_center__i0l0hld styles_flex-shrink_0__dk46tsa9 styles_px_space10__dk46tsm yt9jy31 yt9jy30\" style=\"height:32px;width:90px\" data-sentry-element=\"BaseButton\" data-sentry-source-file=\"index.tsx\" data-sentry-component=\"BaseButton\"><span data-accent-color=\"theme-primary\" data-sentry-element=\"Typography\" data-sentry-source-file=\"index.tsx\" class=\"Typography_variant_size12__344nw29 Typography_weight_medium__344nw2d Typography_color_theme-primary__344nw2f\">즉시 지원</span></button></div></div><div data-sentry-element=\"Flex\" data-sentry-source-file=\"index.tsx\" class=\"Flex_display_flex__i0l0hl2 Flex_align_center__i0l0hl8 Flex_justify_space-between__i0l0hlf\"><div data-sentry-element=\"Flex\" data-sentry-source-file=\"index.tsx\" style=\"max-width:565px\" class=\"Flex_display_flex__i0l0hl2 Flex_gap_space2__i0l0hl1j Flex_align_center__i0l0hl8\"><span data-accent-color=\"gray700\" data-sentry-element=\"Typography\" data-sentry-source-file=\"index.tsx\" class=\"Typography_variant_size13__344nw28 Typography_weight_regular__344nw2e Typography_color_gray700__344nw2o styles_flex-shrink_0__dk46tsa9\">신입·경력</span></div><div data-sentry-element=\"Flex\" data-sentry-source-file=\"index.tsx\" class=\"Flex_display_flex__i0l0hl2 Flex_gap_space2__i0l0hl1j styles_flex-shrink_0__dk46tsa9\"><span data-accent-color=\"gray700\" class=\"Typography_variant_size13__344nw28 Typography_weight_regular__344nw2e Typography_color_gray700__344nw2o\">10/15(수) 등록</span><span data-accent-color=\"gray700\" class=\"Typography_variant_size13__344nw28 Typography_weight_regular__344nw2e Typography_color_gray700__344nw2o\">•</span><span data-accent-color=\"gray700\" class=\"Typography_variant_size13__344nw28 Typography_weight_regular__344nw2e Typography_color_gray700__344nw2o\">12/14(일) 마감</span></div></div></div></div></div></div></div><div class=\"Box_bgColor_white__1wwr54u0 Box_borderColor_default__1wwr54u5 Box_borderSize_1__1wwr54ud styles_p_space0__dk46ts61 styles_radius_radius16__dk46ts9d Shadow_root_list__bm2zcc6 fdhuk40\" data-sentry-element=\"Box\" data-sentry-source-file=\"index.tsx\" data-sentry-component=\"CardJob\" style=\"width:100%;cursor:pointer\"><div data-sentry-element=\"Flex\" data-sentry-source-file=\"index.tsx\" class=\"Flex_display_flex__i0l0hl2 Flex_direction_column__i0l0hl4\"><div data-sentry-element=\"Flex\" data-sentry-source-file=\"index.tsx\" class=\"Flex_display_flex__i0l0hl2 Flex_gap_space20__i0l0hl11 styles_p_space28__dk46ts8d fdhuk42\"><div class=\"\" data-sentry-element=\"Block\" data-sentry-source-file=\"index.tsx\" style=\"width:100%\"><div data-sentry-element=\"Flex\" data-sentry-source-file=\"index.tsx\" class=\"Flex_display_flex__i0l0hl2 Flex_align_center__i0l0hl8 Flex_justify_space-between__i0l0hlf styles_position_relative__dk46tsa5 styles_mb_space6__dk46ts4f\"><div data-sentry-element=\"Flex\" data-sentry-component=\"BadgeItem\" data-sentry-source-file=\"index.tsx\" class=\"Flex_display_flex__i0l0hl2 Flex_gap_space4__i0l0hly Flex_align_center__i0l0hl8\"><span data-accent-color=\"pink\" data-sentry-element=\"Typography\" data-sentry-source-file=\"index.tsx\" class=\"Typography_variant_size13__344nw28 Typography_weight_medium__344nw2d Typography_color_pink__344nw2x\">신입 지원 가능</span></div><div class=\"styles_position_absolute__dk46tsa6\" style=\"right:0;top:0\"><button type=\"button\" data-interactive=\"true\" data-sentry-component=\"BaseButton\" data-sentry-source-file=\"index.tsx\"><i class=\"jds-icon jds-icon--system_scrap Icon_root__1516qwb0 Icon_color_gray300__1516qwbb Icon_size_28__1516qwbn\"></i><span style=\"position:absolute;border:0;width:1px;height:1px;padding:0;margin:-1px;overflow:hidden;clip:rect(0, 0, 0, 0);white-space:nowrap;word-wrap:normal\">스크랩</span></button></div></div><div class=\"styles_mb_space2__dk46ts4t\" data-sentry-element=\"Block\" data-sentry-source-file=\"index.tsx\"><a href=\"https://www.jobkorea.co.kr/Recruit/GI_Read/47808171?Oem_Code=C1&amp;logpath=1&amp;stext=data+scientist&amp;listno=19&amp;sc=630\" rel=\"noopener noreferrer\" target=\"_blank\" data-interactive=\"true\" data-sentry-element=\"BaseLink\" data-sentry-source-file=\"index.tsx\" style=\"max-width:700px\" class=\"Flex_display_flex__i0l0hl2 Flex_gap_space6__i0l0hl1g Flex_align_center__i0l0hl8 styles_mb_space2__dk46ts4t\"><span data-accent-color=\"gray900\" data-sentry-element=\"Typography\" data-sentry-source-file=\"index.tsx\" class=\"Typography_variant_size18__344nw25 Typography_weight_medium__344nw2d Typography_color_gray900__344nw2m Typography_truncate__344nw2y\">DATA SCIENTIST (AI 기반)</span></a></div><a href=\"https://www.jobkorea.co.kr/Recruit/GI_Read/47808171?Oem_Code=C1&amp;logpath=1&amp;stext=data+scientist&amp;listno=19&amp;sc=630\" rel=\"noopener noreferrer\" target=\"_blank\" data-interactive=\"true\" data-sentry-element=\"BaseLink\" data-sentry-source-file=\"index.tsx\" class=\"Flex_display_inline-flex__i0l0hl1 Flex_gap_space6__i0l0hl1g Flex_align_center__i0l0hl8 styles_mb_space20__dk46ts2h\"><span data-accent-color=\"gray700\" data-sentry-element=\"Typography\" data-sentry-source-file=\"index.tsx\" class=\"Typography_variant_size16__344nw26 Typography_weight_regular__344nw2e Typography_color_gray700__344nw2o Typography_truncate__344nw2y\">㈜트라이얼인포매틱스</span><span data-accent-color=\"gray500\" data-sentry-element=\"Typography\" data-sentry-source-file=\"index.tsx\" class=\"Typography_variant_size11__344nw2a Typography_weight_regular__344nw2e Typography_color_gray500__344nw2p styles_flex-shrink_0__dk46tsa9\"></span></a><div data-sentry-element=\"Flex\" data-sentry-source-file=\"index.tsx\" class=\"Flex_display_flex__i0l0hl2 Flex_gap_space10__i0l0hlm Flex_direction_column__i0l0hl4\"><div data-sentry-element=\"Flex\" data-sentry-source-file=\"index.tsx\" class=\"Flex_display_flex__i0l0hl2 Flex_justify_space-between__i0l0hlf\"><div data-sentry-element=\"Flex\" data-sentry-source-file=\"index.tsx\" style=\"max-width:643px\" class=\"Flex_display_flex__i0l0hl2 Flex_gap_space8__i0l0hlv\"><div data-sentry-element=\"Flex\" data-sentry-component=\"GrayChip\" data-sentry-source-file=\"index.tsx\" style=\"height:30px;min-width:auto\" class=\"Flex_display_flex__i0l0hl2 Flex_gap_space4__i0l0hly Flex_align_center__i0l0hl8 styles_flex-shrink_0__dk46tsa9 styles_px_space10__dk46tsm vvrp1p0\"><div class=\"styles_flex-shrink_0__dk46tsa9\" data-sentry-element=\"Block\" data-sentry-source-file=\"index.tsx\" style=\"width:16px\"><div class=\"emoji--basicemoji-place2\" style=\"width:16px;height:16px;background-size:16px;background-position:center;background-repeat:no-repeat\"></div></div><span data-accent-color=\"gray900\" data-sentry-element=\"Typography\" data-sentry-source-file=\"index.tsx\" class=\"Typography_variant_size14__344nw27 Typography_weight_regular__344nw2e Typography_color_gray900__344nw2m Typography_truncate__344nw2y\">서울 송파구</span></div><div data-sentry-element=\"Flex\" data-sentry-component=\"GrayChip\" data-sentry-source-file=\"index.tsx\" style=\"height:30px;min-width:0\" class=\"Flex_display_flex__i0l0hl2 Flex_gap_space4__i0l0hly Flex_align_center__i0l0hl8 styles_flex-shrink_1__dk46tsaa styles_px_space10__dk46tsm vvrp1p0\"><div class=\"styles_flex-shrink_0__dk46tsa9\" data-sentry-element=\"Block\" data-sentry-source-file=\"index.tsx\" style=\"width:16px\"><div class=\"emoji--basicemoji-briefcase\" style=\"width:16px;height:16px;background-size:16px;background-position:center;background-repeat:no-repeat\"></div></div><span data-accent-color=\"gray900\" data-sentry-element=\"Typography\" data-sentry-source-file=\"index.tsx\" class=\"Typography_variant_size14__344nw27 Typography_weight_regular__344nw2e Typography_color_gray900__344nw2m Typography_truncate__344nw2y\">솔루션·SI·CRM·ERP, 시스템엔지니어, 데이터사이언티스트</span></div></div><div class=\"\" data-interactive=\"true\"><button type=\"button\" class=\"Flex_display_flex__i0l0hl2 Flex_align_center__i0l0hl8 Flex_justify_center__i0l0hld styles_flex-shrink_0__dk46tsa9 styles_px_space10__dk46tsm yt9jy31 yt9jy30\" style=\"height:32px;width:90px\" data-sentry-element=\"BaseButton\" data-sentry-source-file=\"index.tsx\" data-sentry-component=\"BaseButton\"><span data-accent-color=\"theme-primary\" data-sentry-element=\"Typography\" data-sentry-source-file=\"index.tsx\" class=\"Typography_variant_size12__344nw29 Typography_weight_medium__344nw2d Typography_color_theme-primary__344nw2f\">즉시 지원</span></button></div></div><div data-sentry-element=\"Flex\" data-sentry-source-file=\"index.tsx\" class=\"Flex_display_flex__i0l0hl2 Flex_align_center__i0l0hl8 Flex_justify_space-between__i0l0hlf\"><div data-sentry-element=\"Flex\" data-sentry-source-file=\"index.tsx\" style=\"max-width:565px\" class=\"Flex_display_flex__i0l0hl2 Flex_gap_space2__i0l0hl1j Flex_align_center__i0l0hl8\"><span data-accent-color=\"gray700\" data-sentry-element=\"Typography\" data-sentry-source-file=\"index.tsx\" class=\"Typography_variant_size13__344nw28 Typography_weight_regular__344nw2e Typography_color_gray700__344nw2o styles_flex-shrink_0__dk46tsa9\">신입·경력1년↑</span><span data-accent-color=\"gray700\" class=\"Typography_variant_size13__344nw28 Typography_weight_regular__344nw2e Typography_color_gray700__344nw2o Typography_truncate__344nw2y\">•</span><span data-accent-color=\"gray700\" class=\"Typography_variant_size13__344nw28 Typography_weight_regular__344nw2e Typography_color_gray700__344nw2o Typography_truncate__344nw2y\">명절선물/명절상여 지원<!-- -->, <!-- -->유연근무<!-- -->, <!-- -->생일 이벤트<!-- -->, <!-- -->재택근무<!-- -->, <!-- -->자격증 취득 지원<!-- -->, <!-- -->퇴직연금<!-- -->, <!-- -->식사 지원<!-- -->, <!-- -->회식비 지원</span></div><div data-sentry-element=\"Flex\" data-sentry-source-file=\"index.tsx\" class=\"Flex_display_flex__i0l0hl2 Flex_gap_space2__i0l0hl1j styles_flex-shrink_0__dk46tsa9\"><span data-accent-color=\"gray700\" class=\"Typography_variant_size13__344nw28 Typography_weight_regular__344nw2e Typography_color_gray700__344nw2o\">10/02(목) 등록</span><span data-accent-color=\"gray700\" class=\"Typography_variant_size13__344nw28 Typography_weight_regular__344nw2e Typography_color_gray700__344nw2o\">•</span><span data-accent-color=\"gray700\" class=\"Typography_variant_size13__344nw28 Typography_weight_regular__344nw2e Typography_color_gray700__344nw2o\">상시채용</span></div></div></div></div></div></div></div><div class=\"Box_bgColor_white__1wwr54u0 Box_borderColor_default__1wwr54u5 Box_borderSize_1__1wwr54ud styles_p_space0__dk46ts61 styles_radius_radius16__dk46ts9d Shadow_root_list__bm2zcc6 fdhuk40\" data-sentry-element=\"Box\" data-sentry-source-file=\"index.tsx\" data-sentry-component=\"CardJob\" style=\"width:100%;cursor:pointer\"><div data-sentry-element=\"Flex\" data-sentry-source-file=\"index.tsx\" class=\"Flex_display_flex__i0l0hl2 Flex_direction_column__i0l0hl4\"><div data-sentry-element=\"Flex\" data-sentry-source-file=\"index.tsx\" class=\"Flex_display_flex__i0l0hl2 Flex_gap_space20__i0l0hl11 styles_p_space28__dk46ts8d fdhuk42\"><a href=\"https://www.jobkorea.co.kr/Recruit/GI_Read/47763585?Oem_Code=C1&amp;logpath=1&amp;stext=data+scientist&amp;listno=20&amp;sc=630\" rel=\"noopener noreferrer\" target=\"_blank\" data-interactive=\"true\" style=\"width:76px;height:76px\" data-sentry-element=\"BaseLink\" data-sentry-component=\"CompanyLogo\" data-sentry-source-file=\"index.tsx\"><div class=\"Box_bgColor_white__1wwr54u0 Box_borderColor_gray200__1wwr54u6 Box_borderSize_1__1wwr54ud styles_px_space6__dk46ts4i styles_radius_radius8__dk46ts9g Flex_display_flex__i0l0hl2 Flex_align_center__i0l0hl8 Flex_justify_center__i0l0hld styles_flex-shrink_0__dk46tsa9 styles_overflow_hidden__dk46ts9s styles_position_relative__dk46tsa5\" data-sentry-element=\"Box\" data-sentry-source-file=\"index.tsx\" style=\"height:76px;width:76px;border-radius:99px\"><img alt=\"CJ대한통운㈜\\t 로고\" data-sentry-element=\"NextImage\" data-sentry-source-file=\"index.tsx\" data-sentry-component=\"Image\" loading=\"lazy\" width=\"0\" height=\"0\" decoding=\"async\" data-nimg=\"1\" style=\"color:transparent;width:auto;height:auto;max-width:100%;max-height:100%\" src=\"https://imgs.jobkorea.co.kr//Images/Logo/128/c/etc/2617s00sr8585602_3820-8c--222274s-.gif?p=y&amp;hash=c\"/></div></a><div class=\"\" data-sentry-element=\"Block\" data-sentry-source-file=\"index.tsx\" style=\"width:100%\"><div data-sentry-element=\"Flex\" data-sentry-source-file=\"index.tsx\" class=\"Flex_display_flex__i0l0hl2 Flex_align_center__i0l0hl8 Flex_justify_space-between__i0l0hlf styles_position_relative__dk46tsa5 styles_mb_space6__dk46ts4f\"><div class=\"styles_position_absolute__dk46tsa6\" style=\"right:0;top:0\"><button type=\"button\" data-interactive=\"true\" data-sentry-component=\"BaseButton\" data-sentry-source-file=\"index.tsx\"><i class=\"jds-icon jds-icon--system_scrap Icon_root__1516qwb0 Icon_color_gray300__1516qwbb Icon_size_28__1516qwbn\"></i><span style=\"position:absolute;border:0;width:1px;height:1px;padding:0;margin:-1px;overflow:hidden;clip:rect(0, 0, 0, 0);white-space:nowrap;word-wrap:normal\">스크랩</span></button></div></div><div class=\"styles_mb_space2__dk46ts4t\" data-sentry-element=\"Block\" data-sentry-source-file=\"index.tsx\"><a href=\"https://www.jobkorea.co.kr/Recruit/GI_Read/47763585?Oem_Code=C1&amp;logpath=1&amp;stext=data+scientist&amp;listno=20&amp;sc=630\" rel=\"noopener noreferrer\" target=\"_blank\" data-interactive=\"true\" data-sentry-element=\"BaseLink\" data-sentry-source-file=\"index.tsx\" style=\"max-width:700px\" class=\"Flex_display_flex__i0l0hl2 Flex_gap_space6__i0l0hl1g Flex_align_center__i0l0hl8 styles_mb_space2__dk46ts4t\"><span data-accent-color=\"gray900\" data-sentry-element=\"Typography\" data-sentry-source-file=\"index.tsx\" class=\"Typography_variant_size18__344nw25 Typography_weight_medium__344nw2d Typography_color_gray900__344nw2m Typography_truncate__344nw2y\">[디지털플랫폼] Data Scientist 경력사원 모집</span></a></div><a href=\"https://www.jobkorea.co.kr/Recruit/GI_Read/47763585?Oem_Code=C1&amp;logpath=1&amp;stext=data+scientist&amp;listno=20&amp;sc=630\" rel=\"noopener noreferrer\" target=\"_blank\" data-interactive=\"true\" data-sentry-element=\"BaseLink\" data-sentry-source-file=\"index.tsx\" class=\"Flex_display_inline-flex__i0l0hl1 Flex_gap_space6__i0l0hl1g Flex_align_center__i0l0hl8 styles_mb_space20__dk46ts2h\"><span data-accent-color=\"gray700\" data-sentry-element=\"Typography\" data-sentry-source-file=\"index.tsx\" class=\"Typography_variant_size16__344nw26 Typography_weight_regular__344nw2e Typography_color_gray700__344nw2o Typography_truncate__344nw2y\">CJ대한통운㈜\\t</span><span data-accent-color=\"gray500\" data-sentry-element=\"Typography\" data-sentry-source-file=\"index.tsx\" class=\"Typography_variant_size11__344nw2a Typography_weight_regular__344nw2e Typography_color_gray500__344nw2p styles_flex-shrink_0__dk46tsa9\">CJ그룹</span></a><div data-sentry-element=\"Flex\" data-sentry-source-file=\"index.tsx\" class=\"Flex_display_flex__i0l0hl2 Flex_gap_space10__i0l0hlm Flex_direction_column__i0l0hl4\"><div data-sentry-element=\"Flex\" data-sentry-source-file=\"index.tsx\" class=\"Flex_display_flex__i0l0hl2 Flex_justify_space-between__i0l0hlf\"><div data-sentry-element=\"Flex\" data-sentry-source-file=\"index.tsx\" style=\"max-width:643px\" class=\"Flex_display_flex__i0l0hl2 Flex_gap_space8__i0l0hlv\"><div data-sentry-element=\"Flex\" data-sentry-component=\"GrayChip\" data-sentry-source-file=\"index.tsx\" style=\"height:30px;min-width:auto\" class=\"Flex_display_flex__i0l0hl2 Flex_gap_space4__i0l0hly Flex_align_center__i0l0hl8 styles_flex-shrink_0__dk46tsa9 styles_px_space10__dk46tsm vvrp1p0\"><div class=\"styles_flex-shrink_0__dk46tsa9\" data-sentry-element=\"Block\" data-sentry-source-file=\"index.tsx\" style=\"width:16px\"><div class=\"emoji--basicemoji-place2\" style=\"width:16px;height:16px;background-size:16px;background-position:center;background-repeat:no-repeat\"></div></div><span data-accent-color=\"gray900\" data-sentry-element=\"Typography\" data-sentry-source-file=\"index.tsx\" class=\"Typography_variant_size14__344nw27 Typography_weight_regular__344nw2e Typography_color_gray900__344nw2m Typography_truncate__344nw2y\">서울 종로구</span></div><div data-sentry-element=\"Flex\" data-sentry-component=\"GrayChip\" data-sentry-source-file=\"index.tsx\" style=\"height:30px;min-width:0\" class=\"Flex_display_flex__i0l0hl2 Flex_gap_space4__i0l0hly Flex_align_center__i0l0hl8 styles_flex-shrink_1__dk46tsaa styles_px_space10__dk46tsm vvrp1p0\"><div class=\"styles_flex-shrink_0__dk46tsa9\" data-sentry-element=\"Block\" data-sentry-source-file=\"index.tsx\" style=\"width:16px\"><div class=\"emoji--basicemoji-briefcase\" style=\"width:16px;height:16px;background-size:16px;background-position:center;background-repeat:no-repeat\"></div></div><span data-accent-color=\"gray900\" data-sentry-element=\"Typography\" data-sentry-source-file=\"index.tsx\" class=\"Typography_variant_size14__344nw27 Typography_weight_regular__344nw2e Typography_color_gray900__344nw2m Typography_truncate__344nw2y\">물류·운송·배송, 데이터엔지니어, 데이터사이언티스트</span></div></div><div class=\"\" data-interactive=\"true\"><button type=\"button\" class=\"Flex_display_flex__i0l0hl2 Flex_align_center__i0l0hl8 Flex_justify_center__i0l0hld styles_flex-shrink_0__dk46tsa9 styles_px_space10__dk46tsm yt9jy32 yt9jy30\" style=\"height:32px;width:90px\" data-sentry-element=\"BaseButton\" data-sentry-source-file=\"index.tsx\" data-sentry-component=\"BaseButton\"><span data-accent-color=\"gray900\" data-sentry-element=\"Typography\" data-sentry-source-file=\"index.tsx\" class=\"Typography_variant_size12__344nw29 Typography_weight_medium__344nw2d Typography_color_gray900__344nw2m\">홈페이지 지원</span></button></div></div><div data-sentry-element=\"Flex\" data-sentry-source-file=\"index.tsx\" class=\"Flex_display_flex__i0l0hl2 Flex_align_center__i0l0hl8 Flex_justify_space-between__i0l0hlf\"><div data-sentry-element=\"Flex\" data-sentry-source-file=\"index.tsx\" style=\"max-width:565px\" class=\"Flex_display_flex__i0l0hl2 Flex_gap_space2__i0l0hl1j Flex_align_center__i0l0hl8\"><span data-accent-color=\"gray700\" data-sentry-element=\"Typography\" data-sentry-source-file=\"index.tsx\" class=\"Typography_variant_size13__344nw28 Typography_weight_regular__344nw2e Typography_color_gray700__344nw2o styles_flex-shrink_0__dk46tsa9\">경력</span></div><div data-sentry-element=\"Flex\" data-sentry-source-file=\"index.tsx\" class=\"Flex_display_flex__i0l0hl2 Flex_gap_space2__i0l0hl1j styles_flex-shrink_0__dk46tsa9\"><span data-accent-color=\"gray700\" class=\"Typography_variant_size13__344nw28 Typography_weight_regular__344nw2e Typography_color_gray700__344nw2o\">09/25(목) 등록</span><span data-accent-color=\"gray700\" class=\"Typography_variant_size13__344nw28 Typography_weight_regular__344nw2e Typography_color_gray700__344nw2o\">•</span><span data-accent-color=\"gray700\" class=\"Typography_variant_size13__344nw28 Typography_weight_regular__344nw2e Typography_color_gray700__344nw2o\">10/25(토) 마감</span></div></div></div></div></div></div></div></div><div style=\"width:100%\" class=\"Flex_display_flex__i0l0hl2 Flex_align_center__i0l0hl8 Flex_justify_center__i0l0hld styles_mt_space40__dk46ts2t\"><nav aria-label=\"pagination\" role=\"navigation\" data-sentry-element=\"FecipePagination.Root\" data-sentry-component=\"Pagination\" data-sentry-source-file=\"index.tsx\"><ul class=\"Flex_display_flex__i0l0hl2 Flex_gap_space12__i0l0hls Flex_align_center__i0l0hl8 Flex_justify_flex-start__i0l0hlc\" data-sentry-element=\"FecipePagination.Content\" data-sentry-source-file=\"index.tsx\"><li class=\"Flex_display_flex__i0l0hl2 Flex_align_center__i0l0hl8 Flex_justify_center__i0l0hld styles_mr_space4__dk46ts22\"><a data-sentry-element=\"NextLink\" data-sentry-component=\"BaseLink\" data-sentry-source-file=\"index.tsx\" href=\"/Search?stext=data+scientist&amp;local=I000&amp;Page_No=0\"><span class=\"\"><i class=\"jds-icon jds-icon--system_arrow_left Icon_root__1516qwb0 Icon_color_gray200__1516qwb4 Icon_size_20__1516qwbl\"></i><span style=\"position:absolute;border:0;width:1px;height:1px;padding:0;margin:-1px;overflow:hidden;clip:rect(0, 0, 0, 0);white-space:nowrap;word-wrap:normal\">Prev</span></span></a></li><li class=\"Flex_display_flex__i0l0hl2 Flex_align_center__i0l0hl8 Flex_justify_center__i0l0hld\"><a data-sentry-element=\"NextLink\" data-sentry-component=\"BaseLink\" data-sentry-source-file=\"index.tsx\" href=\"/Search?stext=data+scientist&amp;local=I000&amp;Page_No=1\"><span data-accent-color=\"gray900\" class=\"Typography_variant_size14__344nw27 Typography_weight_medium__344nw2d Typography_color_gray900__344nw2m Pagination_text__vp58lf0 Pagination_textVariant_active__vp58lf3\">1</span></a></li><li class=\"Flex_display_flex__i0l0hl2 Flex_align_center__i0l0hl8 Flex_justify_center__i0l0hld\"><a data-sentry-element=\"NextLink\" data-sentry-component=\"BaseLink\" data-sentry-source-file=\"index.tsx\" href=\"/Search?stext=data+scientist&amp;local=I000&amp;Page_No=2\"><span data-accent-color=\"gray700\" class=\"Typography_variant_size14__344nw27 Typography_weight_medium__344nw2d Typography_color_gray700__344nw2o Pagination_text__vp58lf0 Pagination_textVariant_default__vp58lf1\">2</span></a></li><li class=\"Flex_display_flex__i0l0hl2 Flex_align_center__i0l0hl8 Flex_justify_center__i0l0hld\"><a data-sentry-element=\"NextLink\" data-sentry-component=\"BaseLink\" data-sentry-source-file=\"index.tsx\" href=\"/Search?stext=data+scientist&amp;local=I000&amp;Page_No=3\"><span data-accent-color=\"gray700\" class=\"Typography_variant_size14__344nw27 Typography_weight_medium__344nw2d Typography_color_gray700__344nw2o Pagination_text__vp58lf0 Pagination_textVariant_default__vp58lf1\">3</span></a></li><li class=\"Flex_display_flex__i0l0hl2 Flex_align_center__i0l0hl8 Flex_justify_center__i0l0hld\"><a data-sentry-element=\"NextLink\" data-sentry-component=\"BaseLink\" data-sentry-source-file=\"index.tsx\" href=\"/Search?stext=data+scientist&amp;local=I000&amp;Page_No=4\"><span data-accent-color=\"gray700\" class=\"Typography_variant_size14__344nw27 Typography_weight_medium__344nw2d Typography_color_gray700__344nw2o Pagination_text__vp58lf0 Pagination_textVariant_default__vp58lf1\">4</span></a></li><li class=\"Flex_display_flex__i0l0hl2 Flex_align_center__i0l0hl8 Flex_justify_center__i0l0hld\"><a data-sentry-element=\"NextLink\" data-sentry-component=\"BaseLink\" data-sentry-source-file=\"index.tsx\" href=\"/Search?stext=data+scientist&amp;local=I000&amp;Page_No=5\"><span data-accent-color=\"gray700\" class=\"Typography_variant_size14__344nw27 Typography_weight_medium__344nw2d Typography_color_gray700__344nw2o Pagination_text__vp58lf0 Pagination_textVariant_default__vp58lf1\">5</span></a></li><li class=\"Flex_display_flex__i0l0hl2 Flex_align_center__i0l0hl8 Flex_justify_center__i0l0hld\"><a data-sentry-element=\"NextLink\" data-sentry-component=\"BaseLink\" data-sentry-source-file=\"index.tsx\" href=\"/Search?stext=data+scientist&amp;local=I000&amp;Page_No=6\"><span data-accent-color=\"gray700\" class=\"Typography_variant_size14__344nw27 Typography_weight_medium__344nw2d Typography_color_gray700__344nw2o Pagination_text__vp58lf0 Pagination_textVariant_default__vp58lf1\">6</span></a></li><li class=\"Flex_display_flex__i0l0hl2 Flex_align_center__i0l0hl8 Flex_justify_center__i0l0hld\"><a data-sentry-element=\"NextLink\" data-sentry-component=\"BaseLink\" data-sentry-source-file=\"index.tsx\" href=\"/Search?stext=data+scientist&amp;local=I000&amp;Page_No=7\"><span data-accent-color=\"gray700\" class=\"Typography_variant_size14__344nw27 Typography_weight_medium__344nw2d Typography_color_gray700__344nw2o Pagination_text__vp58lf0 Pagination_textVariant_default__vp58lf1\">7</span></a></li><li class=\"Flex_display_flex__i0l0hl2 Flex_align_center__i0l0hl8 Flex_justify_center__i0l0hld\"><a data-sentry-element=\"NextLink\" data-sentry-component=\"BaseLink\" data-sentry-source-file=\"index.tsx\" href=\"/Search?stext=data+scientist&amp;local=I000&amp;Page_No=8\"><span data-accent-color=\"gray700\" class=\"Typography_variant_size14__344nw27 Typography_weight_medium__344nw2d Typography_color_gray700__344nw2o Pagination_text__vp58lf0 Pagination_textVariant_default__vp58lf1\">8</span></a></li><li class=\"Flex_display_flex__i0l0hl2 Flex_align_center__i0l0hl8 Flex_justify_center__i0l0hld\"><a data-sentry-element=\"NextLink\" data-sentry-component=\"BaseLink\" data-sentry-source-file=\"index.tsx\" href=\"/Search?stext=data+scientist&amp;local=I000&amp;Page_No=9\"><span data-accent-color=\"gray700\" class=\"Typography_variant_size14__344nw27 Typography_weight_medium__344nw2d Typography_color_gray700__344nw2o Pagination_text__vp58lf0 Pagination_textVariant_default__vp58lf1\">9</span></a></li><li class=\"Flex_display_flex__i0l0hl2 Flex_align_center__i0l0hl8 Flex_justify_center__i0l0hld\"><a data-sentry-element=\"NextLink\" data-sentry-component=\"BaseLink\" data-sentry-source-file=\"index.tsx\" href=\"/Search?stext=data+scientist&amp;local=I000&amp;Page_No=10\"><span data-accent-color=\"gray700\" class=\"Typography_variant_size14__344nw27 Typography_weight_medium__344nw2d Typography_color_gray700__344nw2o Pagination_text__vp58lf0 Pagination_textVariant_default__vp58lf1\">10</span></a></li><li class=\"Flex_display_flex__i0l0hl2 Flex_align_center__i0l0hl8 Flex_justify_center__i0l0hld styles_ml_space4__dk46ts24\"><a data-sentry-element=\"NextLink\" data-sentry-component=\"BaseLink\" data-sentry-source-file=\"index.tsx\" href=\"/Search?stext=data+scientist&amp;local=I000&amp;Page_No=11\"><span class=\"Pagination_arrowStatus_hover__vp58lf7\"><i class=\"jds-icon jds-icon--system_arrow_right Icon_root__1516qwb0 Icon_color_gray500__1516qwb6 Icon_size_20__1516qwbl\"></i><span style=\"position:absolute;border:0;width:1px;height:1px;padding:0;margin:-1px;overflow:hidden;clip:rect(0, 0, 0, 0);white-space:nowrap;word-wrap:normal\">Next</span></span></a></li></ul></nav></div></div></div></div><div aria-labelledby=\"jk-«R1h7alqdb»-trigger-corp\" data-orientation=\"horizontal\" data-state=\"inactive\" hidden=\"\" id=\"jk-«R1h7alqdb»-content-corp\" role=\"tabpanel\" tabindex=\"0\" data-sentry-element=\"Tabs.Content\" data-sentry-source-file=\"client.tsx\" class=\"Tabs_content__1cw1bssl\"></div></div></div></div><!--$--><!--/$--><!--$--><!--/$--></main><aside data-sentry-element=\"Flex\" data-sentry-source-file=\"page.tsx\" style=\"width:320px\" class=\"Flex_display_flex__i0l0hl2 Flex_gap_space20__i0l0hl11 Flex_direction_column__i0l0hl4 styles_flex_none__dk46tsah styles_mt_space40__dk46ts2t\"><div class=\"Box_bgColor_white__1wwr54u0 Box_borderColor_default__1wwr54u5 Box_borderSize_1__1wwr54ud styles_p_space0__dk46ts61 styles_radius_radius16__dk46ts9d Shadow_root_list__bm2zcc6\" data-sentry-element=\"Box\" data-sentry-source-file=\"page.tsx\" style=\"width:100%;overflow:hidden;border-width:0\"><div data-sentry-element=\"Flex\" data-sentry-component=\"ProfessionalRecruitment\" data-sentry-source-file=\"index.tsx\" style=\"width:100%\" class=\"Flex_display_flex__i0l0hl2 Flex_gap_space16__i0l0hlj Flex_direction_column__i0l0hl4 styles_py_space20__dk46ts2l styles_px_space24__dk46ts10\"><div data-sentry-element=\"Flex\" data-sentry-source-file=\"index.tsx\" style=\"width:100%\" class=\"Flex_display_flex__i0l0hl2 Flex_gap_space8__i0l0hlv Flex_align_center__i0l0hl8 Flex_justify_space-between__i0l0hlf\"><span data-accent-color=\"gray900\" data-sentry-element=\"Typography\" data-sentry-source-file=\"index.tsx\" class=\"Typography_variant_size16__344nw26 Typography_weight_medium__344nw2d Typography_color_gray900__344nw2m\">전문채용관</span><span data-sentry-element=\"TextButtonStandard\" data-sentry-source-file=\"index.tsx\" class=\"Flex_display_inline-flex__i0l0hl1 Flex_align_center__i0l0hl8\"><span data-accent-color=\"gray700\" class=\"Typography_variant_size12__344nw29 Typography_weight_regular__344nw2e Typography_color_gray700__344nw2o\"><a href=\"https://www.jobkorea.co.kr/Theme/Main\" rel=\"noopener noreferrer\" target=\"_blank\" title=\"새 창\" data-sentry-element=\"BaseLink\" data-sentry-source-file=\"index.tsx\">전체보기</a></span><i class=\"jds-icon jds-icon--system_arrow_right Icon_root__1516qwb0 Icon_color_gray500__1516qwb6 Icon_size_14__1516qwbj\"></i></span></div><a href=\"https://www.jobkorea.co.kr/Theme/Food\" rel=\"noopener noreferrer\" target=\"_blank\" style=\"display:block;width:100%;height:100%\" title=\"새 창\" data-sentry-element=\"BaseLink\" data-sentry-source-file=\"index.tsx\"><div class=\"Box_bgColor_gray100__1wwr54u2 Box_borderColor_default__1wwr54u5 Box_borderSize_1__1wwr54ud styles_p_space0__dk46ts61 styles_radius_radius8__dk46ts9g styles_overflow_hidden__dk46ts9s\" data-sentry-element=\"Box\" data-sentry-source-file=\"index.tsx\" style=\"height:109px;width:100%;border:none\"><img alt=\"외식 직무채용관\" data-sentry-element=\"NextImage\" data-sentry-source-file=\"index.tsx\" data-sentry-component=\"Image\" loading=\"lazy\" width=\"270\" height=\"109\" decoding=\"async\" data-nimg=\"1\" style=\"color:transparent;max-height:100%;object-fit:cover\" src=\"https://file1.jobkorea.co.kr/Theme/Food/Food_Service_pc.png\"/></div><div data-sentry-element=\"Flex\" data-sentry-source-file=\"index.tsx\" class=\"Flex_display_flex__i0l0hl2 Flex_gap_space2__i0l0hl1j Flex_direction_column__i0l0hl4 styles_mt_space16__dk46ts3\"><p data-accent-color=\"gray900\" data-sentry-element=\"Typography\" data-sentry-source-file=\"index.tsx\" class=\"Typography_variant_size14__344nw27 Typography_weight_medium__344nw2d Typography_color_gray900__344nw2m\">외식 직무채용관</p><p data-accent-color=\"gray900\" data-sentry-element=\"Typography\" data-sentry-source-file=\"index.tsx\" class=\"Typography_variant_size13__344nw28 Typography_weight_regular__344nw2e Typography_color_gray900__344nw2m\">외식·프랜차이즈 등 외식 전문가를 채용합니다</p></div></a></div></div></aside></div><div class=\"styles_position_fixed__dk46tsa7\" data-sentry-element=\"Block\" data-sentry-source-file=\"index.tsx\" style=\"bottom:27px;right:40px\"><button data-sentry-element=\"TopButton\" data-sentry-source-file=\"index.tsx\" class=\"Flex_display_flex__i0l0hl2 Flex_direction_column__i0l0hl4 Flex_align_center__i0l0hl8 Flex_justify_flex-start__i0l0hlc styles_pt_space4__dk46ts28 TopButton_topButton__1vhs7tr0\" style=\"height:56px;width:56px\"><i class=\"jds-icon jds-icon--system_arrow_up Icon_root__1516qwb0 Icon_color_gray900__1516qwb1 Icon_size_24__1516qwbm\"></i><span data-accent-color=\"gray900\" class=\"Typography_variant_size12__344nw29 Typography_weight_bold__344nw2c Typography_color_gray900__344nw2m\">TOP</span></button></div><div data-sentry-element=\"Flex\" data-sentry-component=\"Footer\" data-sentry-source-file=\"index.tsx\" class=\"Flex_display_flex__i0l0hl2 Flex_align_flex-start__i0l0hl7 styles_pb_space32__dk46ts5s styles_pt_space40__dk46ts30\"><div data-sentry-element=\"Flex\" data-sentry-source-file=\"index.tsx\" style=\"width:970px\" class=\"Flex_display_flex__i0l0hl2 Flex_justify_center__i0l0hld styles_flex_none__dk46tsah\"><span data-accent-color=\"gray700\" data-sentry-element=\"Typography\" data-sentry-source-file=\"index.tsx\" class=\"Typography_variant_size13__344nw28 Typography_weight_regular__344nw2e Typography_color_gray700__344nw2o\">Ⓒ JOBKOREA LLC. All rights reserved.</span></div></div></div></div><script src=\"https://frontend-app-cdn.jobkorea.co.kr/jobs/_next/static/chunks/webpack-cdbe501aeb017398.js\" async=\"\"></script><script>(self.__next_f=self.__next_f||[]).push([0])</script><script>self.__next_f.push([1,\"1:\\\\\"$Sreact.fragment\\\\\"\\\\n4:I[47225,[],\\\\\"\\\\\"]\\\\n5:I[92701,[],\\\\\"\\\\\"]\\\\n7:I[41279,[],\\\\\"OutletBoundary\\\\\"]\\\\n1a:I[41279,[],\\\\\"MetadataBoundary\\\\\"]\\\\n1e:I[4757,[],\\\\\"AsyncMetadataOutlet\\\\\"]\\\\n20:I[41279,[],\\\\\"ViewportBoundary\\\\\"]\\\\n22:I[58311,[\\\\\"4219\\\\\",\\\\\"static/chunks/app/global-error-1c481b0c8bb827ab.js\\\\\"],\\\\\"default\\\\\"]\\\\n23:\\\\\"$Sreact.suspense\\\\\"\\\\n24:I[4757,[],\\\\\"AsyncMetadata\\\\\"]\\\\n26:I[15385,[\\\\\"9687\\\\\",\\\\\"static/chunks/9687-97741b7e8053c0d8.js\\\\\",\\\\\"9190\\\\\",\\\\\"static/chunks/9190-6f8022e2f2894042.js\\\\\",\\\\\"3957\\\\\",\\\\\"static/chunks/3957-b8d310888e9915c6.js\\\\\",\\\\\"5096\\\\\",\\\\\"static/chunks/5096-7cbddbb09a0d2eaa.js\\\\\",\\\\\"7177\\\\\",\\\\\"static/chunks/app/layout-80a1aa68d0daa2e0.js\\\\\"],\\\\\"\\\\\"]\\\\n28:I[40899,[\\\\\"9687\\\\\",\\\\\"static/chunks/9687-97741b7e8053c0d8.js\\\\\",\\\\\"9190\\\\\",\\\\\"static/chunks/9190-6f8022e2f2894042.js\\\\\",\\\\\"3957\\\\\",\\\\\"static/chunks/3957-b8d310888e9915c6.js\\\\\",\\\\\"5849\\\\\",\\\\\"static/chunks/5849-11654964af4623e7.js\\\\\",\\\\\"2054\\\\\",\\\\\"static/chunks/2054-4bbfe28b77f704be.js\\\\\",\\\\\"6768\\\\\",\\\\\"static/chunks/6768-2d893325a1130269.js\\\\\",\\\\\"1260\\\\\",\\\\\"static/chunks/1260-498a2e8e6218b41f.js\\\\\",\\\\\"773\\\\\",\\\\\"static/chunks/773-5951fff8e76120c6.js\\\\\",\\\\\"2773\\\\\",\\\\\"static/chunks/2773-af22dfd0a858e606.js\\\\\",\\\\\"535\\\\\",\\\\\"static/chunks/535-707e6778721971d7.js\\\\\",\\\\\"870\\\\\",\\\\\"static/chunks/870-a745c1813d874972.js\\\\\",\\\\\"8166\\\\\",\\\\\"static/chunks/app/Search/%40filter/page-6e7c249c33c31fc6.js\\\\\"],\\\\\"default\\\\\"]\\\\n29:I[47007,[\\\\\"9687\\\\\",\\\\\"static/chunks/9687-97741b7e8053c0d8.js\\\\\",\\\\\"9190\\\\\",\\\\\"static/chunks/9190-6f8022e2f2894042.js\\\\\",\\\\\"3957\\\\\",\\\\\"static/chunks/3957-b8d310888e9915c6.js\\\\\",\\\\\"7304\\\\\",\\\\\"static/chunks/7304-a24ea9b1ab76090e.js\\\\\",\\\\\"5849\\\\\",\\\\\"static/chunks/5849-11654964af4623e7.js\\\\\",\\\\\"2054\\\\\",\\\\\"static/chunks/2054-4bbfe28b77f704be.js\\\\\",\\\\\"6768\\\\\",\\\\\"static/chunks/6768-2d893325a1130269.js\\\\\",\\\\\"1260\\\\\",\\\\\"static/chunks/1260-498a2e8e6218b41f.js\\\\\",\\\\\"773\\\\\",\\\\\"static/chunks/773-5951fff8e76120c6.js\\\\\",\\\\\"870\\\\\",\\\\\"static/chunks/870-a745c1813d874972.js\\\\\",\\\\\"8340\\\\\",\\\\\"static/chunks/8340-f468737cebbeaa23.js\\\\\",\\\\\"8130\\\\\",\\\\\"static/chunks/app/Search/%40mySearch/page-f93ce4602568c056.js\\\\\"],\\\\\"default\\\\\"]\\\\n2a:I[49585,[\\\\\"9687\\\\\",\\\\\"static/chunks/9687-97741b7e8053c0d8.js\\\\\",\\\\\"7304\\\\\",\\\\\"static/chunks/7304-a24ea9b1ab76090e.js\\\\\",\\\\\"6768\\\\\",\\\\\"static/chunks/6768-2d893325a1130269.js\\\\\",\\\\\"5649\\\\\",\\\\\"static/chunks/5649-c553d06c10483f80.js\\\\\",\\\\\"932\\\\\",\\\\\"static/chunks/\"])</script><script>self.__next_f.push([1,\"app/Search/%40autoComplete/page-c3a2353024d38999.js\\\\\"],\\\\\"default\\\\\"]\\\\n2b:I[58109,[\\\\\"9687\\\\\",\\\\\"static/chunks/9687-97741b7e8053c0d8.js\\\\\",\\\\\"9190\\\\\",\\\\\"static/chunks/9190-6f8022e2f2894042.js\\\\\",\\\\\"3957\\\\\",\\\\\"static/chunks/3957-b8d310888e9915c6.js\\\\\",\\\\\"5096\\\\\",\\\\\"static/chunks/5096-7cbddbb09a0d2eaa.js\\\\\",\\\\\"7177\\\\\",\\\\\"static/chunks/app/layout-80a1aa68d0daa2e0.js\\\\\"],\\\\\"default\\\\\"]\\\\n2c:I[55708,[\\\\\"9687\\\\\",\\\\\"static/chunks/9687-97741b7e8053c0d8.js\\\\\",\\\\\"9190\\\\\",\\\\\"static/chunks/9190-6f8022e2f2894042.js\\\\\",\\\\\"3957\\\\\",\\\\\"static/chunks/3957-b8d310888e9915c6.js\\\\\",\\\\\"5096\\\\\",\\\\\"static/chunks/5096-7cbddbb09a0d2eaa.js\\\\\",\\\\\"7177\\\\\",\\\\\"static/chunks/app/layout-80a1aa68d0daa2e0.js\\\\\"],\\\\\"default\\\\\"]\\\\n2d:I[38373,[\\\\\"9687\\\\\",\\\\\"static/chunks/9687-97741b7e8053c0d8.js\\\\\",\\\\\"9190\\\\\",\\\\\"static/chunks/9190-6f8022e2f2894042.js\\\\\",\\\\\"3957\\\\\",\\\\\"static/chunks/3957-b8d310888e9915c6.js\\\\\",\\\\\"5096\\\\\",\\\\\"static/chunks/5096-7cbddbb09a0d2eaa.js\\\\\",\\\\\"7177\\\\\",\\\\\"static/chunks/app/layout-80a1aa68d0daa2e0.js\\\\\"],\\\\\"default\\\\\"]\\\\n2e:I[95467,[\\\\\"9687\\\\\",\\\\\"static/chunks/9687-97741b7e8053c0d8.js\\\\\",\\\\\"9190\\\\\",\\\\\"static/chunks/9190-6f8022e2f2894042.js\\\\\",\\\\\"7304\\\\\",\\\\\"static/chunks/7304-a24ea9b1ab76090e.js\\\\\",\\\\\"2054\\\\\",\\\\\"static/chunks/2054-4bbfe28b77f704be.js\\\\\",\\\\\"1860\\\\\",\\\\\"static/chunks/1860-401ad57e11df8e75.js\\\\\",\\\\\"7725\\\\\",\\\\\"static/chunks/7725-5743a1fc7d1c75d9.js\\\\\",\\\\\"8039\\\\\",\\\\\"static/chunks/app/error-779348ad9bdbbe36.js\\\\\"],\\\\\"default\\\\\"]\\\\n2f:I[87626,[\\\\\"9687\\\\\",\\\\\"static/chunks/9687-97741b7e8053c0d8.js\\\\\",\\\\\"3957\\\\\",\\\\\"static/chunks/3957-b8d310888e9915c6.js\\\\\",\\\\\"7304\\\\\",\\\\\"static/chunks/7304-a24ea9b1ab76090e.js\\\\\",\\\\\"5849\\\\\",\\\\\"static/chunks/5849-11654964af4623e7.js\\\\\",\\\\\"7716\\\\\",\\\\\"static/chunks/7716-e89daaa5e83533f1.js\\\\\",\\\\\"3453\\\\\",\\\\\"static/chunks/app/Search/%40keywordBanner/page-4b8383a57926127b.js\\\\\"],\\\\\"Block\\\\\"]\\\\n30:I[87725,[\\\\\"9687\\\\\",\\\\\"static/chunks/9687-97741b7e8053c0d8.js\\\\\",\\\\\"9190\\\\\",\\\\\"static/chunks/9190-6f8022e2f2894042.js\\\\\",\\\\\"7304\\\\\",\\\\\"static/chunks/7304-a24ea9b1ab76090e.js\\\\\",\\\\\"2054\\\\\",\\\\\"static/chunks/2054-4bbfe28b77f704be.js\\\\\",\\\\\"1860\\\\\",\\\\\"static/chunks/1860-401ad57e11df8e75.js\\\\\",\\\\\"7725\\\\\",\\\\\"static/chunks/7725-5743a1fc7d1c75d9.js\\\\\",\\\\\"4345\\\\\",\\\\\"static/chunks/app/not-found-cf0e31fa5b0669cc.js\\\\\"],\\\\\"Error\\\\\"]\\\\n:HL[\\\\\"https://frontend-app-cdn.jobkorea.co.kr/jobs/_next/static/css/5951755f53fa0018.css\\\\\",\\\\\"style\\\\\"]\\\\n:HL[\\\\\"\"])</script><script>self.__next_f.push([1,\"https://frontend-app-cdn.jobkorea.co.kr/jobs/_next/static/css/f6f733f3ff2e5e6a.css\\\\\",\\\\\"style\\\\\"]\\\\n:HL[\\\\\"https://frontend-app-cdn.jobkorea.co.kr/jobs/_next/static/css/3babffbf2801c6f2.css\\\\\",\\\\\"style\\\\\"]\\\\n:HL[\\\\\"https://frontend-app-cdn.jobkorea.co.kr/jobs/_next/static/css/74063ccf83b6f3f1.css\\\\\",\\\\\"style\\\\\"]\\\\n:HL[\\\\\"https://frontend-app-cdn.jobkorea.co.kr/jobs/_next/static/css/c85e9e7485838538.css\\\\\",\\\\\"style\\\\\"]\\\\n:HL[\\\\\"https://frontend-app-cdn.jobkorea.co.kr/jobs/_next/static/css/a7eb2f650fbf951a.css\\\\\",\\\\\"style\\\\\"]\\\\n:HL[\\\\\"https://frontend-app-cdn.jobkorea.co.kr/jobs/_next/static/css/786ae5a5e5af2e04.css\\\\\",\\\\\"style\\\\\"]\\\\n:HL[\\\\\"https://frontend-app-cdn.jobkorea.co.kr/jobs/_next/static/css/a81b5bbee9c41536.css\\\\\",\\\\\"style\\\\\"]\\\\n:HL[\\\\\"https://frontend-app-cdn.jobkorea.co.kr/jobs/_next/static/css/28218dd05acbf175.css\\\\\",\\\\\"style\\\\\"]\\\\n:HL[\\\\\"https://frontend-app-cdn.jobkorea.co.kr/jobs/_next/static/css/26d6b72acf7816c5.css\\\\\",\\\\\"style\\\\\"]\\\\n:HL[\\\\\"https://frontend-app-cdn.jobkorea.co.kr/jobs/_next/static/css/268f2d7e4350720f.css\\\\\",\\\\\"style\\\\\"]\\\\n:HL[\\\\\"https://frontend-app-cdn.jobkorea.co.kr/jobs/_next/static/css/cb1fad432cf81848.css\\\\\",\\\\\"style\\\\\"]\\\\n:HL[\\\\\"https://frontend-app-cdn.jobkorea.co.kr/jobs/_next/static/css/282edd4f84dd2cb3.css\\\\\",\\\\\"style\\\\\"]\\\\n\"])</script><script>self.__next_f.push([1,\"0:{\\\\\"P\\\\\":null,\\\\\"b\\\\\":\\\\\"ac270c78bdcf81fcc1344a8ae35da5c103883f6d\\\\\",\\\\\"p\\\\\":\\\\\"https://frontend-app-cdn.jobkorea.co.kr/jobs\\\\\",\\\\\"c\\\\\":[\\\\\"\\\\\",\\\\\"Search?stext=data%20scientist\\\\u0026local=I000\\\\\"],\\\\\"i\\\\\":false,\\\\\"f\\\\\":[[[\\\\\"\\\\\",{\\\\\"children\\\\\":[\\\\\"Search\\\\\",{\\\\\"autoComplete\\\\\":[\\\\\"__PAGE__?{\\\\\\\\\\\\\"stext\\\\\\\\\\\\\":\\\\\\\\\\\\\"data scientist\\\\\\\\\\\\\",\\\\\\\\\\\\\"local\\\\\\\\\\\\\":\\\\\\\\\\\\\"I000\\\\\\\\\\\\\"}\\\\\",{\\\\\"children\\\\\":[\\\\\"__PAGE__?{\\\\\\\\\\\\\"stext\\\\\\\\\\\\\":\\\\\\\\\\\\\"data scientist\\\\\\\\\\\\\",\\\\\\\\\\\\\"local\\\\\\\\\\\\\":\\\\\\\\\\\\\"I000\\\\\\\\\\\\\"}\\\\\",{}]}],\\\\\"filter\\\\\":[\\\\\"__PAGE__?{\\\\\\\\\\\\\"stext\\\\\\\\\\\\\":\\\\\\\\\\\\\"data scientist\\\\\\\\\\\\\",\\\\\\\\\\\\\"local\\\\\\\\\\\\\":\\\\\\\\\\\\\"I000\\\\\\\\\\\\\"}\\\\\",{\\\\\"children\\\\\":[\\\\\"__PAGE__?{\\\\\\\\\\\\\"stext\\\\\\\\\\\\\":\\\\\\\\\\\\\"data scientist\\\\\\\\\\\\\",\\\\\\\\\\\\\"local\\\\\\\\\\\\\":\\\\\\\\\\\\\"I000\\\\\\\\\\\\\"}\\\\\",{}]}],\\\\\"keywordBanner\\\\\":[\\\\\"__PAGE__?{\\\\\\\\\\\\\"stext\\\\\\\\\\\\\":\\\\\\\\\\\\\"data scientist\\\\\\\\\\\\\",\\\\\\\\\\\\\"local\\\\\\\\\\\\\":\\\\\\\\\\\\\"I000\\\\\\\\\\\\\"}\\\\\",{\\\\\"children\\\\\":[\\\\\"__PAGE__?{\\\\\\\\\\\\\"stext\\\\\\\\\\\\\":\\\\\\\\\\\\\"data scientist\\\\\\\\\\\\\",\\\\\\\\\\\\\"local\\\\\\\\\\\\\":\\\\\\\\\\\\\"I000\\\\\\\\\\\\\"}\\\\\",{}]}],\\\\\"mySearch\\\\\":[\\\\\"__PAGE__?{\\\\\\\\\\\\\"stext\\\\\\\\\\\\\":\\\\\\\\\\\\\"data scientist\\\\\\\\\\\\\",\\\\\\\\\\\\\"local\\\\\\\\\\\\\":\\\\\\\\\\\\\"I000\\\\\\\\\\\\\"}\\\\\",{\\\\\"children\\\\\":[\\\\\"__PAGE__?{\\\\\\\\\\\\\"stext\\\\\\\\\\\\\":\\\\\\\\\\\\\"data scientist\\\\\\\\\\\\\",\\\\\\\\\\\\\"local\\\\\\\\\\\\\":\\\\\\\\\\\\\"I000\\\\\\\\\\\\\"}\\\\\",{}]}],\\\\\"popularList\\\\\":[\\\\\"__PAGE__?{\\\\\\\\\\\\\"stext\\\\\\\\\\\\\":\\\\\\\\\\\\\"data scientist\\\\\\\\\\\\\",\\\\\\\\\\\\\"local\\\\\\\\\\\\\":\\\\\\\\\\\\\"I000\\\\\\\\\\\\\"}\\\\\",{\\\\\"children\\\\\":[\\\\\"__PAGE__?{\\\\\\\\\\\\\"stext\\\\\\\\\\\\\":\\\\\\\\\\\\\"data scientist\\\\\\\\\\\\\",\\\\\\\\\\\\\"local\\\\\\\\\\\\\":\\\\\\\\\\\\\"I000\\\\\\\\\\\\\"}\\\\\",{}]}],\\\\\"quickMenu\\\\\":[\\\\\"__PAGE__?{\\\\\\\\\\\\\"stext\\\\\\\\\\\\\":\\\\\\\\\\\\\"data scientist\\\\\\\\\\\\\",\\\\\\\\\\\\\"local\\\\\\\\\\\\\":\\\\\\\\\\\\\"I000\\\\\\\\\\\\\"}\\\\\",{\\\\\"children\\\\\":[\\\\\"__PAGE__?{\\\\\\\\\\\\\"stext\\\\\\\\\\\\\":\\\\\\\\\\\\\"data scientist\\\\\\\\\\\\\",\\\\\\\\\\\\\"local\\\\\\\\\\\\\":\\\\\\\\\\\\\"I000\\\\\\\\\\\\\"}\\\\\",{}]}],\\\\\"children\\\\\":[\\\\\"__PAGE__?{\\\\\\\\\\\\\"stext\\\\\\\\\\\\\":\\\\\\\\\\\\\"data scientist\\\\\\\\\\\\\",\\\\\\\\\\\\\"local\\\\\\\\\\\\\":\\\\\\\\\\\\\"I000\\\\\\\\\\\\\"}\\\\\",{}]}]},\\\\\"$undefined\\\\\",\\\\\"$undefined\\\\\",true],[\\\\\"\\\\\",[\\\\\"$\\\\\",\\\\\"$1\\\\\",\\\\\"c\\\\\",{\\\\\"children\\\\\":[[[\\\\\"$\\\\\",\\\\\"link\\\\\",\\\\\"0\\\\\",{\\\\\"rel\\\\\":\\\\\"stylesheet\\\\\",\\\\\"href\\\\\":\\\\\"https://frontend-app-cdn.jobkorea.co.kr/jobs/_next/static/css/5951755f53fa0018.css\\\\\",\\\\\"precedence\\\\\":\\\\\"next\\\\\",\\\\\"crossOrigin\\\\\":\\\\\"$undefined\\\\\",\\\\\"nonce\\\\\":\\\\\"$undefined\\\\\"}],[\\\\\"$\\\\\",\\\\\"link\\\\\",\\\\\"1\\\\\",{\\\\\"rel\\\\\":\\\\\"stylesheet\\\\\",\\\\\"href\\\\\":\\\\\"https://frontend-app-cdn.jobkorea.co.kr/jobs/_next/static/css/f6f733f3ff2e5e6a.css\\\\\",\\\\\"precedence\\\\\":\\\\\"next\\\\\",\\\\\"crossOrigin\\\\\":\\\\\"$undefined\\\\\",\\\\\"nonce\\\\\":\\\\\"$undefined\\\\\"}],[\\\\\"$\\\\\",\\\\\"link\\\\\",\\\\\"2\\\\\",{\\\\\"rel\\\\\":\\\\\"stylesheet\\\\\",\\\\\"href\\\\\":\\\\\"https://frontend-app-cdn.jobkorea.co.kr/jobs/_next/static/css/3babffbf2801c6f2.css\\\\\",\\\\\"precedence\\\\\":\\\\\"next\\\\\",\\\\\"crossOrigin\\\\\":\\\\\"$undefined\\\\\",\\\\\"nonce\\\\\":\\\\\"$undefined\\\\\"}]],\\\\\"$L2\\\\\"]}],{\\\\\"children\\\\\":[\\\\\"Search\\\\\",[\\\\\"$\\\\\",\\\\\"$1\\\\\",\\\\\"c\\\\\",{\\\\\"children\\\\\":[[[\\\\\"$\\\\\",\\\\\"link\\\\\",\\\\\"0\\\\\",{\\\\\"rel\\\\\":\\\\\"stylesheet\\\\\",\\\\\"href\\\\\":\\\\\"https://frontend-app-cdn.jobkorea.co.kr/jobs/_next/static/css/74063ccf83b6f3f1.css\\\\\",\\\\\"precedence\\\\\":\\\\\"next\\\\\",\\\\\"crossOrigin\\\\\":\\\\\"$undefined\\\\\",\\\\\"nonce\\\\\":\\\\\"$undefined\\\\\"}],[\\\\\"$\\\\\",\\\\\"link\\\\\",\\\\\"1\\\\\",{\\\\\"rel\\\\\":\\\\\"stylesheet\\\\\",\\\\\"href\\\\\":\\\\\"https://frontend-app-cdn.jobkorea.co.kr/jobs/_next/static/css/c85e9e7485838538.css\\\\\",\\\\\"precedence\\\\\":\\\\\"next\\\\\",\\\\\"crossOrigin\\\\\":\\\\\"$undefined\\\\\",\\\\\"nonce\\\\\":\\\\\"$undefined\\\\\"}],[\\\\\"$\\\\\",\\\\\"link\\\\\",\\\\\"2\\\\\",{\\\\\"rel\\\\\":\\\\\"stylesheet\\\\\",\\\\\"href\\\\\":\\\\\"https://frontend-app-cdn.jobkorea.co.kr/jobs/_next/static/css/a7eb2f650fbf951a.css\\\\\",\\\\\"precedence\\\\\":\\\\\"next\\\\\",\\\\\"crossOrigin\\\\\":\\\\\"$undefined\\\\\",\\\\\"nonce\\\\\":\\\\\"$undefined\\\\\"}]],\\\\\"$L3\\\\\"]}],{\\\\\"autoComplete\\\\\":[\\\\\"__PAGE__\\\\\",[\\\\\"$\\\\\",\\\\\"$1\\\\\",\\\\\"c\\\\\",{\\\\\"children\\\\\":[null,[\\\\\"$\\\\\",\\\\\"$L4\\\\\",null,{\\\\\"parallelRouterKey\\\\\":\\\\\"children\\\\\",\\\\\"error\\\\\":\\\\\"$undefined\\\\\",\\\\\"errorStyles\\\\\":\\\\\"$undefined\\\\\",\\\\\"errorScripts\\\\\":\\\\\"$undefined\\\\\",\\\\\"template\\\\\":[\\\\\"$\\\\\",\\\\\"$L5\\\\\",null,{}],\\\\\"templateStyles\\\\\":\\\\\"$undefined\\\\\",\\\\\"templateScripts\\\\\":\\\\\"$undefined\\\\\",\\\\\"notFound\\\\\":\\\\\"$undefined\\\\\",\\\\\"forbidden\\\\\":\\\\\"$undefined\\\\\",\\\\\"unauthorized\\\\\":\\\\\"$undefined\\\\\"}]]}],{\\\\\"children\\\\\":[\\\\\"__PAGE__\\\\\",[\\\\\"$\\\\\",\\\\\"$1\\\\\",\\\\\"c\\\\\",{\\\\\"children\\\\\":[\\\\\"$L6\\\\\",\\\\\"$undefined\\\\\",[[\\\\\"$\\\\\",\\\\\"link\\\\\",\\\\\"0\\\\\",{\\\\\"rel\\\\\":\\\\\"stylesheet\\\\\",\\\\\"href\\\\\":\\\\\"https://frontend-app-cdn.jobkorea.co.kr/jobs/_next/static/css/28218dd05acbf175.css\\\\\",\\\\\"precedence\\\\\":\\\\\"next\\\\\",\\\\\"crossOrigin\\\\\":\\\\\"$undefined\\\\\",\\\\\"nonce\\\\\":\\\\\"$undefined\\\\\"}]],[\\\\\"$\\\\\",\\\\\"$L7\\\\\",null,{\\\\\"children\\\\\":[\\\\\"$L8\\\\\",\\\\\"$L9\\\\\",\\\\\"$undefined\\\\\"]}]]}],{},null,false]},null,false],\\\\\"filter\\\\\":[\\\\\"__PAGE__\\\\\",[\\\\\"$\\\\\",\\\\\"$1\\\\\",\\\\\"c\\\\\",{\\\\\"children\\\\\":[null,[\\\\\"$\\\\\",\\\\\"$L4\\\\\",null,{\\\\\"parallelRouterKey\\\\\":\\\\\"children\\\\\",\\\\\"error\\\\\":\\\\\"$undefined\\\\\",\\\\\"errorStyles\\\\\":\\\\\"$undefined\\\\\",\\\\\"errorScripts\\\\\":\\\\\"$undefined\\\\\",\\\\\"template\\\\\":[\\\\\"$\\\\\",\\\\\"$L5\\\\\",null,{}],\\\\\"templateStyles\\\\\":\\\\\"$undefined\\\\\",\\\\\"templateScripts\\\\\":\\\\\"$undefined\\\\\",\\\\\"notFound\\\\\":\\\\\"$undefined\\\\\",\\\\\"forbidden\\\\\":\\\\\"$undefined\\\\\",\\\\\"unauthorized\\\\\":\\\\\"$undefined\\\\\"}]]}],{\\\\\"children\\\\\":[\\\\\"__PAGE__\\\\\",[\\\\\"$\\\\\",\\\\\"$1\\\\\",\\\\\"c\\\\\",{\\\\\"children\\\\\":[\\\\\"$La\\\\\",\\\\\"$undefined\\\\\",[[\\\\\"$\\\\\",\\\\\"link\\\\\",\\\\\"0\\\\\",{\\\\\"rel\\\\\":\\\\\"stylesheet\\\\\",\\\\\"href\\\\\":\\\\\"https://frontend-app-cdn.jobkorea.co.kr/jobs/_next/static/css/26d6b72acf7816c5.css\\\\\",\\\\\"precedence\\\\\":\\\\\"next\\\\\",\\\\\"crossOrigin\\\\\":\\\\\"$undefined\\\\\",\\\\\"nonce\\\\\":\\\\\"$undefined\\\\\"}]],[\\\\\"$\\\\\",\\\\\"$L7\\\\\",null,{\\\\\"children\\\\\":[\\\\\"$Lb\\\\\",\\\\\"$Lc\\\\\",\\\\\"$undefined\\\\\"]}]]}],{},null,false]},null,false],\\\\\"keywordBanner\\\\\":[\\\\\"__PAGE__\\\\\",[\\\\\"$\\\\\",\\\\\"$1\\\\\",\\\\\"c\\\\\",{\\\\\"children\\\\\":[null,[\\\\\"$\\\\\",\\\\\"$L4\\\\\",null,{\\\\\"parallelRouterKey\\\\\":\\\\\"children\\\\\",\\\\\"error\\\\\":\\\\\"$undefined\\\\\",\\\\\"errorStyles\\\\\":\\\\\"$undefined\\\\\",\\\\\"errorScripts\\\\\":\\\\\"$undefined\\\\\",\\\\\"template\\\\\":[\\\\\"$\\\\\",\\\\\"$L5\\\\\",null,{}],\\\\\"templateStyles\\\\\":\\\\\"$undefined\\\\\",\\\\\"templateScripts\\\\\":\\\\\"$undefined\\\\\",\\\\\"notFound\\\\\":\\\\\"$undefined\\\\\",\\\\\"forbidden\\\\\":\\\\\"$undefined\\\\\",\\\\\"unauthorized\\\\\":\\\\\"$undefined\\\\\"}]]}],{\\\\\"children\\\\\":[\\\\\"__PAGE__\\\\\",[\\\\\"$\\\\\",\\\\\"$1\\\\\",\\\\\"c\\\\\",{\\\\\"children\\\\\":[\\\\\"$Ld\\\\\",\\\\\"$undefined\\\\\",null,[\\\\\"$\\\\\",\\\\\"$L7\\\\\",null,{\\\\\"children\\\\\":[\\\\\"$Le\\\\\",\\\\\"$Lf\\\\\",\\\\\"$undefined\\\\\"]}]]}],{},null,false]},null,false],\\\\\"mySearch\\\\\":[\\\\\"__PAGE__\\\\\",[\\\\\"$\\\\\",\\\\\"$1\\\\\",\\\\\"c\\\\\",{\\\\\"children\\\\\":[null,[\\\\\"$\\\\\",\\\\\"$L4\\\\\",null,{\\\\\"parallelRouterKey\\\\\":\\\\\"children\\\\\",\\\\\"error\\\\\":\\\\\"$undefined\\\\\",\\\\\"errorStyles\\\\\":\\\\\"$undefined\\\\\",\\\\\"errorScripts\\\\\":\\\\\"$undefined\\\\\",\\\\\"template\\\\\":[\\\\\"$\\\\\",\\\\\"$L5\\\\\",null,{}],\\\\\"templateStyles\\\\\":\\\\\"$undefined\\\\\",\\\\\"templateScripts\\\\\":\\\\\"$undefined\\\\\",\\\\\"notFound\\\\\":\\\\\"$undefined\\\\\",\\\\\"forbidden\\\\\":\\\\\"$undefined\\\\\",\\\\\"unauthorized\\\\\":\\\\\"$undefined\\\\\"}]]}],{\\\\\"children\\\\\":[\\\\\"__PAGE__\\\\\",[\\\\\"$\\\\\",\\\\\"$1\\\\\",\\\\\"c\\\\\",{\\\\\"children\\\\\":[\\\\\"$L10\\\\\",\\\\\"$undefined\\\\\",[[\\\\\"$\\\\\",\\\\\"link\\\\\",\\\\\"0\\\\\",{\\\\\"rel\\\\\":\\\\\"stylesheet\\\\\",\\\\\"href\\\\\":\\\\\"https://frontend-app-cdn.jobkorea.co.kr/jobs/_next/static/css/268f2d7e4350720f.css\\\\\",\\\\\"precedence\\\\\":\\\\\"next\\\\\",\\\\\"crossOrigin\\\\\":\\\\\"$undefined\\\\\",\\\\\"nonce\\\\\":\\\\\"$undefined\\\\\"}],[\\\\\"$\\\\\",\\\\\"link\\\\\",\\\\\"1\\\\\",{\\\\\"rel\\\\\":\\\\\"stylesheet\\\\\",\\\\\"href\\\\\":\\\\\"https://frontend-app-cdn.jobkorea.co.kr/jobs/_next/static/css/cb1fad432cf81848.css\\\\\",\\\\\"precedence\\\\\":\\\\\"next\\\\\",\\\\\"crossOrigin\\\\\":\\\\\"$undefined\\\\\",\\\\\"nonce\\\\\":\\\\\"$undefined\\\\\"}]],[\\\\\"$\\\\\",\\\\\"$L7\\\\\",null,{\\\\\"children\\\\\":[\\\\\"$L11\\\\\",\\\\\"$L12\\\\\",\\\\\"$undefined\\\\\"]}]]}],{},null,false]},null,false],\\\\\"popularList\\\\\":[\\\\\"__PAGE__\\\\\",[\\\\\"$\\\\\",\\\\\"$1\\\\\",\\\\\"c\\\\\",{\\\\\"children\\\\\":[null,[\\\\\"$\\\\\",\\\\\"$L4\\\\\",null,{\\\\\"parallelRouterKey\\\\\":\\\\\"children\\\\\",\\\\\"error\\\\\":\\\\\"$undefined\\\\\",\\\\\"errorStyles\\\\\":\\\\\"$undefined\\\\\",\\\\\"errorScripts\\\\\":\\\\\"$undefined\\\\\",\\\\\"template\\\\\":[\\\\\"$\\\\\",\\\\\"$L5\\\\\",null,{}],\\\\\"templateStyles\\\\\":\\\\\"$undefined\\\\\",\\\\\"templateScripts\\\\\":\\\\\"$undefined\\\\\",\\\\\"notFound\\\\\":\\\\\"$undefined\\\\\",\\\\\"forbidden\\\\\":\\\\\"$undefined\\\\\",\\\\\"unauthorized\\\\\":\\\\\"$undefined\\\\\"}]]}],{\\\\\"children\\\\\":[\\\\\"__PAGE__\\\\\",[\\\\\"$\\\\\",\\\\\"$1\\\\\",\\\\\"c\\\\\",{\\\\\"children\\\\\":[\\\\\"$L13\\\\\",\\\\\"$undefined\\\\\",[[\\\\\"$\\\\\",\\\\\"link\\\\\",\\\\\"0\\\\\",{\\\\\"rel\\\\\":\\\\\"stylesheet\\\\\",\\\\\"href\\\\\":\\\\\"https://frontend-app-cdn.jobkorea.co.kr/jobs/_next/static/css/282edd4f84dd2cb3.css\\\\\",\\\\\"precedence\\\\\":\\\\\"next\\\\\",\\\\\"crossOrigin\\\\\":\\\\\"$undefined\\\\\",\\\\\"nonce\\\\\":\\\\\"$undefined\\\\\"}]],[\\\\\"$\\\\\",\\\\\"$L7\\\\\",null,{\\\\\"children\\\\\":[\\\\\"$L14\\\\\",\\\\\"$L15\\\\\",\\\\\"$undefined\\\\\"]}]]}],{},null,false]},null,false],\\\\\"quickMenu\\\\\":[\\\\\"__PAGE__\\\\\",[\\\\\"$\\\\\",\\\\\"$1\\\\\",\\\\\"c\\\\\",{\\\\\"children\\\\\":[null,[\\\\\"$\\\\\",\\\\\"$L4\\\\\",null,{\\\\\"parallelRouterKey\\\\\":\\\\\"children\\\\\",\\\\\"error\\\\\":\\\\\"$undefined\\\\\",\\\\\"errorStyles\\\\\":\\\\\"$undefined\\\\\",\\\\\"errorScripts\\\\\":\\\\\"$undefined\\\\\",\\\\\"template\\\\\":[\\\\\"$\\\\\",\\\\\"$L5\\\\\",null,{}],\\\\\"templateStyles\\\\\":\\\\\"$undefined\\\\\",\\\\\"templateScripts\\\\\":\\\\\"$undefined\\\\\",\\\\\"notFound\\\\\":\\\\\"$undefined\\\\\",\\\\\"forbidden\\\\\":\\\\\"$undefined\\\\\",\\\\\"unauthorized\\\\\":\\\\\"$undefined\\\\\"}]]}],{\\\\\"children\\\\\":[\\\\\"__PAGE__\\\\\",[\\\\\"$\\\\\",\\\\\"$1\\\\\",\\\\\"c\\\\\",{\\\\\"children\\\\\":[\\\\\"$L16\\\\\",\\\\\"$undefined\\\\\",null,[\\\\\"$\\\\\",\\\\\"$L7\\\\\",null,{\\\\\"children\\\\\":[\\\\\"$L17\\\\\",\\\\\"$L18\\\\\",\\\\\"$undefined\\\\\"]}]]}],{},null,false]},null,false],\\\\\"children\\\\\":[\\\\\"__PAGE__\\\\\",[\\\\\"$\\\\\",\\\\\"$1\\\\\",\\\\\"c\\\\\",{\\\\\"children\\\\\":[\\\\\"$L19\\\\\",[\\\\\"$\\\\\",\\\\\"$L1a\\\\\",null,{\\\\\"children\\\\\":\\\\\"$L1b\\\\\"}],[[\\\\\"$\\\\\",\\\\\"link\\\\\",\\\\\"0\\\\\",{\\\\\"rel\\\\\":\\\\\"stylesheet\\\\\",\\\\\"href\\\\\":\\\\\"https://frontend-app-cdn.jobkorea.co.kr/jobs/_next/static/css/786ae5a5e5af2e04.css\\\\\",\\\\\"precedence\\\\\":\\\\\"next\\\\\",\\\\\"crossOrigin\\\\\":\\\\\"$undefined\\\\\",\\\\\"nonce\\\\\":\\\\\"$undefined\\\\\"}],[\\\\\"$\\\\\",\\\\\"link\\\\\",\\\\\"1\\\\\",{\\\\\"rel\\\\\":\\\\\"stylesheet\\\\\",\\\\\"href\\\\\":\\\\\"https://frontend-app-cdn.jobkorea.co.kr/jobs/_next/static/css/a81b5bbee9c41536.css\\\\\",\\\\\"precedence\\\\\":\\\\\"next\\\\\",\\\\\"crossOrigin\\\\\":\\\\\"$undefined\\\\\",\\\\\"nonce\\\\\":\\\\\"$undefined\\\\\"}]],[\\\\\"$\\\\\",\\\\\"$L7\\\\\",null,{\\\\\"children\\\\\":[\\\\\"$L1c\\\\\",\\\\\"$L1d\\\\\",[\\\\\"$\\\\\",\\\\\"$L1e\\\\\",null,{\\\\\"promise\\\\\":\\\\\"$@1f\\\\\"}]]}]]}],{},null,false]},null,false]},null,false],[\\\\\"$\\\\\",\\\\\"$1\\\\\",\\\\\"h\\\\\",{\\\\\"children\\\\\":[null,[\\\\\"$\\\\\",\\\\\"$1\\\\\",\\\\\"1QcliOhEW5D_F9DjMTIQk\\\\\",{\\\\\"children\\\\\":[[\\\\\"$\\\\\",\\\\\"$L20\\\\\",null,{\\\\\"children\\\\\":\\\\\"$L21\\\\\"}],null]}],null]}],false]],\\\\\"m\\\\\":\\\\\"$undefined\\\\\",\\\\\"G\\\\\":[\\\\\"$22\\\\\",[]],\\\\\"s\\\\\":false,\\\\\"S\\\\\":false}\\\\n\"])</script><script>self.__next_f.push([1,\"1b:[\\\\\"$\\\\\",\\\\\"$23\\\\\",null,{\\\\\"fallback\\\\\":null,\\\\\"children\\\\\":[\\\\\"$\\\\\",\\\\\"$L24\\\\\",null,{\\\\\"promise\\\\\":\\\\\"$@25\\\\\"}]}]\\\\n8:null\\\\n9:null\\\\nb:null\\\\nc:null\\\\ne:null\\\\nf:null\\\\n11:null\\\\n12:null\\\\n14:null\\\\n15:null\\\\n17:null\\\\n18:null\\\\n1d:null\\\\n2:[\\\\\"$\\\\\",\\\\\"html\\\\\",null,{\\\\\"lang\\\\\":\\\\\"ko\\\\\",\\\\\"suppressHydrationWarning\\\\\":true,\\\\\"data-sentry-component\\\\\":\\\\\"RootLayout\\\\\",\\\\\"data-sentry-source-file\\\\\":\\\\\"layout.tsx\\\\\",\\\\\"children\\\\\":[[\\\\\"$\\\\\",\\\\\"head\\\\\",null,{\\\\\"translate\\\\\":\\\\\"no\\\\\",\\\\\"children\\\\\":[[\\\\\"$\\\\\",\\\\\"meta\\\\\",null,{\\\\\"content\\\\\":\\\\\"upgrade-insecure-requests\\\\\",\\\\\"httpEquiv\\\\\":\\\\\"Content-Security-Policy\\\\\",\\\\\"data-sentry-element\\\\\":\\\\\"meta\\\\\",\\\\\"data-sentry-source-file\\\\\":\\\\\"layout.tsx\\\\\"}],[\\\\\"$\\\\\",\\\\\"script\\\\\",null,{\\\\\"src\\\\\":\\\\\"https://frontend-app-cdn.jobkorea.co.kr/jobs/__ENV__ac270c78bdcf81fcc1344a8ae35da5c103883f6d.js\\\\\"}],[\\\\\"$\\\\\",\\\\\"$L26\\\\\",null,{\\\\\"src\\\\\":\\\\\"https://ssl.pstatic.net/adimg3.search/adpost/js/adpost_show_ads_v2.min.js\\\\\",\\\\\"strategy\\\\\":\\\\\"afterInteractive\\\\\",\\\\\"type\\\\\":\\\\\"text/javascript\\\\\",\\\\\"async\\\\\":true,\\\\\"data-sentry-element\\\\\":\\\\\"Script\\\\\",\\\\\"data-sentry-source-file\\\\\":\\\\\"layout.tsx\\\\\"}],[\\\\\"$\\\\\",\\\\\"$L26\\\\\",null,{\\\\\"id\\\\\":\\\\\"hotjar\\\\\",\\\\\"strategy\\\\\":\\\\\"afterInteractive\\\\\",\\\\\"data-sentry-element\\\\\":\\\\\"Script\\\\\",\\\\\"data-sentry-source-file\\\\\":\\\\\"layout.tsx\\\\\",\\\\\"children\\\\\":\\\\\"\\\\\\\\n            (function(h,o,t,j,a,r){\\\\\\\\n                h.hj=h.hj||function(){(h.hj.q=h.hj.q||[]).push(arguments)};\\\\\\\\n                h._hjSettings={hjid:6384979,hjsv:6};\\\\\\\\n                a=o.getElementsByTagName(\\'head\\')[0];\\\\\\\\n                r=o.createElement(\\'script\\');r.async=1;\\\\\\\\n                r.src=t+h._hjSettings.hjid+j+h._hjSettings.hjsv;\\\\\\\\n                a.appendChild(r);\\\\\\\\n            })(window,document,\\'https://static.hotjar.com/c/hotjar-\\',\\'.js?sv=\\');\\\\\\\\n          \\\\\"}]]}],[\\\\\"$\\\\\",\\\\\"body\\\\\",null,{\\\\\"children\\\\\":\\\\\"$L27\\\\\"}]]}]\\\\na:[\\\\\"$\\\\\",\\\\\"$L28\\\\\",null,{\\\\\"data-sentry-element\\\\\":\\\\\"FilterList\\\\\",\\\\\"data-sentry-component\\\\\":\\\\\"Filter\\\\\",\\\\\"data-sentry-source-file\\\\\":\\\\\"page.tsx\\\\\"}]\\\\n10:[\\\\\"$\\\\\",\\\\\"$L29\\\\\",null,{\\\\\"data-sentry-element\\\\\":\\\\\"MySearch\\\\\",\\\\\"data-sentry-component\\\\\":\\\\\"Filter\\\\\",\\\\\"data-sentry-source-file\\\\\":\\\\\"page.tsx\\\\\"}]\\\\n6:[\\\\\"$\\\\\",\\\\\"$L2a\\\\\",null,{\\\\\"keyword\\\\\":\\\\\"data scientist\\\\\",\\\\\"data-sentry-element\\\\\":\\\\\"Search\\\\\",\\\\\"data-sentry-component\\\\\":\\\\\"AutoComplete\\\\\",\\\\\"data-sentry-source-file\\\\\":\\\\\"page.tsx\\\\\"}]\\\\nd:null\\\\n27:[\\\\\"$\\\\\",\\\\\"$L2b\\\\\",null,{\\\\\"ipAddress\\\\\":\\\\\"34.86.232.222, 121.1\"])</script><script>self.__next_f.push([1,\"89.48.37\\\\\",\\\\\"userAgent\\\\\":\\\\\"Mozilla/5.0 (Windows NT 10.0; Win64; x64) AppleWebKit/537.36 (KHTML, like Gecko) Chrome/91.0.4472.124 Safari/537.36\\\\\",\\\\\"data-sentry-element\\\\\":\\\\\"ClientSentryProvider\\\\\",\\\\\"data-sentry-component\\\\\":\\\\\"SentryProvider\\\\\",\\\\\"data-sentry-source-file\\\\\":\\\\\"index.tsx\\\\\",\\\\\"children\\\\\":[\\\\\"$\\\\\",\\\\\"$L2c\\\\\",null,{\\\\\"data-sentry-element\\\\\":\\\\\"AppProvider\\\\\",\\\\\"data-sentry-source-file\\\\\":\\\\\"layout.tsx\\\\\",\\\\\"children\\\\\":[[\\\\\"$\\\\\",\\\\\"$L2d\\\\\",null,{\\\\\"data-sentry-element\\\\\":\\\\\"SkipNavigation\\\\\",\\\\\"data-sentry-source-file\\\\\":\\\\\"layout.tsx\\\\\"}],[\\\\\"$\\\\\",\\\\\"div\\\\\",null,{\\\\\"style\\\\\":{\\\\\"backgroundColor\\\\\":\\\\\"#F9F9FB\\\\\",\\\\\"minWidth\\\\\":\\\\\"1280px\\\\\"},\\\\\"children\\\\\":[\\\\\"$\\\\\",\\\\\"$L4\\\\\",null,{\\\\\"parallelRouterKey\\\\\":\\\\\"children\\\\\",\\\\\"error\\\\\":\\\\\"$2e\\\\\",\\\\\"errorStyles\\\\\":[],\\\\\"errorScripts\\\\\":[],\\\\\"template\\\\\":[\\\\\"$\\\\\",\\\\\"$L5\\\\\",null,{}],\\\\\"templateStyles\\\\\":\\\\\"$undefined\\\\\",\\\\\"templateScripts\\\\\":\\\\\"$undefined\\\\\",\\\\\"notFound\\\\\":[[\\\\\"$\\\\\",\\\\\"$L2f\\\\\",null,{\\\\\"left\\\\\":\\\\\"50%\\\\\",\\\\\"position\\\\\":\\\\\"absolute\\\\\",\\\\\"style\\\\\":{\\\\\"transform\\\\\":\\\\\"translate(-50%, -50%)\\\\\"},\\\\\"top\\\\\":\\\\\"50%\\\\\",\\\\\"width\\\\\":600,\\\\\"data-sentry-element\\\\\":\\\\\"Block\\\\\",\\\\\"data-sentry-component\\\\\":\\\\\"NotFound\\\\\",\\\\\"data-sentry-source-file\\\\\":\\\\\"not-found.tsx\\\\\",\\\\\"children\\\\\":[\\\\\"$\\\\\",\\\\\"$L30\\\\\",null,{\\\\\"description\\\\\":\\\\\"방문하시려는 페이지 주소가 정확한지 다시 한번 확인해주세요. \\\\u003cbr /\\\\u003e 문제가 반복된다면 고객센터에 알려주세요. 빠르게 안내해드릴게요! \\\\\",\\\\\"data-sentry-element\\\\\":\\\\\"Error\\\\\",\\\\\"data-sentry-source-file\\\\\":\\\\\"not-found.tsx\\\\\"}]}],[]],\\\\\"forbidden\\\\\":\\\\\"$undefined\\\\\",\\\\\"unauthorized\\\\\":\\\\\"$undefined\\\\\"}]}]]}]}]\\\\n21:[[\\\\\"$\\\\\",\\\\\"meta\\\\\",\\\\\"0\\\\\",{\\\\\"charSet\\\\\":\\\\\"utf-8\\\\\"}],[\\\\\"$\\\\\",\\\\\"meta\\\\\",\\\\\"1\\\\\",{\\\\\"name\\\\\":\\\\\"viewport\\\\\",\\\\\"content\\\\\":\\\\\"width=device-width, initial-scale=1, maximum-scale=1, user-scalable=no\\\\\"}]]\\\\n1c:null\\\\n\"])</script><script>self.__next_f.push([1,\"31:I[38692,[\\\\\"9687\\\\\",\\\\\"static/chunks/9687-97741b7e8053c0d8.js\\\\\",\\\\\"9190\\\\\",\\\\\"static/chunks/9190-6f8022e2f2894042.js\\\\\",\\\\\"3957\\\\\",\\\\\"static/chunks/3957-b8d310888e9915c6.js\\\\\",\\\\\"7304\\\\\",\\\\\"static/chunks/7304-a24ea9b1ab76090e.js\\\\\",\\\\\"5849\\\\\",\\\\\"static/chunks/5849-11654964af4623e7.js\\\\\",\\\\\"2054\\\\\",\\\\\"static/chunks/2054-4bbfe28b77f704be.js\\\\\",\\\\\"6768\\\\\",\\\\\"static/chunks/6768-2d893325a1130269.js\\\\\",\\\\\"1860\\\\\",\\\\\"static/chunks/1860-401ad57e11df8e75.js\\\\\",\\\\\"7716\\\\\",\\\\\"static/chunks/7716-e89daaa5e83533f1.js\\\\\",\\\\\"1260\\\\\",\\\\\"static/chunks/1260-498a2e8e6218b41f.js\\\\\",\\\\\"773\\\\\",\\\\\"static/chunks/773-5951fff8e76120c6.js\\\\\",\\\\\"2773\\\\\",\\\\\"static/chunks/2773-af22dfd0a858e606.js\\\\\",\\\\\"1444\\\\\",\\\\\"static/chunks/1444-f22663a449629f69.js\\\\\",\\\\\"1035\\\\\",\\\\\"static/chunks/1035-f83c44f8912df683.js\\\\\",\\\\\"870\\\\\",\\\\\"static/chunks/870-a745c1813d874972.js\\\\\",\\\\\"8340\\\\\",\\\\\"static/chunks/8340-f468737cebbeaa23.js\\\\\",\\\\\"4335\\\\\",\\\\\"static/chunks/app/Search/page-58ba16635c459222.js\\\\\"],\\\\\"HydrationBoundary\\\\\"]\\\\n32:I[26709,[\\\\\"9687\\\\\",\\\\\"static/chunks/9687-97741b7e8053c0d8.js\\\\\",\\\\\"9190\\\\\",\\\\\"static/chunks/9190-6f8022e2f2894042.js\\\\\",\\\\\"3957\\\\\",\\\\\"static/chunks/3957-b8d310888e9915c6.js\\\\\",\\\\\"7304\\\\\",\\\\\"static/chunks/7304-a24ea9b1ab76090e.js\\\\\",\\\\\"5849\\\\\",\\\\\"static/chunks/5849-11654964af4623e7.js\\\\\",\\\\\"2054\\\\\",\\\\\"static/chunks/2054-4bbfe28b77f704be.js\\\\\",\\\\\"6768\\\\\",\\\\\"static/chunks/6768-2d893325a1130269.js\\\\\",\\\\\"1860\\\\\",\\\\\"static/chunks/1860-401ad57e11df8e75.js\\\\\",\\\\\"7716\\\\\",\\\\\"static/chunks/7716-e89daaa5e83533f1.js\\\\\",\\\\\"1260\\\\\",\\\\\"static/chunks/1260-498a2e8e6218b41f.js\\\\\",\\\\\"2773\\\\\",\\\\\"static/chunks/2773-af22dfd0a858e606.js\\\\\",\\\\\"1444\\\\\",\\\\\"static/chunks/1444-f22663a449629f69.js\\\\\",\\\\\"2615\\\\\",\\\\\"static/chunks/2615-0566baa5b78fa285.js\\\\\",\\\\\"870\\\\\",\\\\\"static/chunks/870-a745c1813d874972.js\\\\\",\\\\\"8584\\\\\",\\\\\"static/chunks/app/Search/layout-fab3d252416d6380.js\\\\\"],\\\\\"TokenUpdateProvider\\\\\"]\\\\n33:I[72347,[\\\\\"9687\\\\\",\\\\\"static/chunks/9687-97741b7e8053c0d8.js\\\\\",\\\\\"9190\\\\\",\\\\\"static/chunks/9190-6f8022e2f2894042.js\\\\\",\\\\\"3957\\\\\",\\\\\"static/chunks/3957-b8d310888e9915c6.js\\\\\",\\\\\"7304\\\\\",\\\\\"static/chunks/7304-a24ea9b1ab76090e.js\\\\\",\\\\\"5849\\\\\",\\\\\"static/chunks/5849-11654964af4623e7.js\\\\\",\\\\\"2054\\\\\",\\\\\"static/chunks/2054-4bbfe28b77f704be.js\\\\\",\\\\\"6768\\\\\",\\\\\"static/chunks/6768-2d893325a1130269.js\\\\\",\\\\\"1860\\\\\",\\\\\"static/chunks/1860-401ad57e11df8e75.js\\\\\",\\\\\"7716\\\\\",\\\\\"static/chunks/7716-e\"])</script><script>self.__next_f.push([1,\"89daaa5e83533f1.js\\\\\",\\\\\"1260\\\\\",\\\\\"static/chunks/1260-498a2e8e6218b41f.js\\\\\",\\\\\"2773\\\\\",\\\\\"static/chunks/2773-af22dfd0a858e606.js\\\\\",\\\\\"1444\\\\\",\\\\\"static/chunks/1444-f22663a449629f69.js\\\\\",\\\\\"2615\\\\\",\\\\\"static/chunks/2615-0566baa5b78fa285.js\\\\\",\\\\\"870\\\\\",\\\\\"static/chunks/870-a745c1813d874972.js\\\\\",\\\\\"8584\\\\\",\\\\\"static/chunks/app/Search/layout-fab3d252416d6380.js\\\\\"],\\\\\"default\\\\\"]\\\\n34:I[57218,[\\\\\"9687\\\\\",\\\\\"static/chunks/9687-97741b7e8053c0d8.js\\\\\",\\\\\"9190\\\\\",\\\\\"static/chunks/9190-6f8022e2f2894042.js\\\\\",\\\\\"3957\\\\\",\\\\\"static/chunks/3957-b8d310888e9915c6.js\\\\\",\\\\\"7304\\\\\",\\\\\"static/chunks/7304-a24ea9b1ab76090e.js\\\\\",\\\\\"5849\\\\\",\\\\\"static/chunks/5849-11654964af4623e7.js\\\\\",\\\\\"2054\\\\\",\\\\\"static/chunks/2054-4bbfe28b77f704be.js\\\\\",\\\\\"6768\\\\\",\\\\\"static/chunks/6768-2d893325a1130269.js\\\\\",\\\\\"1860\\\\\",\\\\\"static/chunks/1860-401ad57e11df8e75.js\\\\\",\\\\\"7716\\\\\",\\\\\"static/chunks/7716-e89daaa5e83533f1.js\\\\\",\\\\\"1260\\\\\",\\\\\"static/chunks/1260-498a2e8e6218b41f.js\\\\\",\\\\\"2773\\\\\",\\\\\"static/chunks/2773-af22dfd0a858e606.js\\\\\",\\\\\"1444\\\\\",\\\\\"static/chunks/1444-f22663a449629f69.js\\\\\",\\\\\"2615\\\\\",\\\\\"static/chunks/2615-0566baa5b78fa285.js\\\\\",\\\\\"870\\\\\",\\\\\"static/chunks/870-a745c1813d874972.js\\\\\",\\\\\"8584\\\\\",\\\\\"static/chunks/app/Search/layout-fab3d252416d6380.js\\\\\"],\\\\\"default\\\\\"]\\\\n35:I[6941,[\\\\\"9687\\\\\",\\\\\"static/chunks/9687-97741b7e8053c0d8.js\\\\\",\\\\\"9190\\\\\",\\\\\"static/chunks/9190-6f8022e2f2894042.js\\\\\",\\\\\"3957\\\\\",\\\\\"static/chunks/3957-b8d310888e9915c6.js\\\\\",\\\\\"7304\\\\\",\\\\\"static/chunks/7304-a24ea9b1ab76090e.js\\\\\",\\\\\"5849\\\\\",\\\\\"static/chunks/5849-11654964af4623e7.js\\\\\",\\\\\"2054\\\\\",\\\\\"static/chunks/2054-4bbfe28b77f704be.js\\\\\",\\\\\"6768\\\\\",\\\\\"static/chunks/6768-2d893325a1130269.js\\\\\",\\\\\"1860\\\\\",\\\\\"static/chunks/1860-401ad57e11df8e75.js\\\\\",\\\\\"7716\\\\\",\\\\\"static/chunks/7716-e89daaa5e83533f1.js\\\\\",\\\\\"1260\\\\\",\\\\\"static/chunks/1260-498a2e8e6218b41f.js\\\\\",\\\\\"2773\\\\\",\\\\\"static/chunks/2773-af22dfd0a858e606.js\\\\\",\\\\\"1444\\\\\",\\\\\"static/chunks/1444-f22663a449629f69.js\\\\\",\\\\\"2615\\\\\",\\\\\"static/chunks/2615-0566baa5b78fa285.js\\\\\",\\\\\"870\\\\\",\\\\\"static/chunks/870-a745c1813d874972.js\\\\\",\\\\\"8584\\\\\",\\\\\"static/chunks/app/Search/layout-fab3d252416d6380.js\\\\\"],\\\\\"default\\\\\"]\\\\n36:I[35434,[\\\\\"9687\\\\\",\\\\\"static/chunks/9687-97741b7e8053c0d8.js\\\\\",\\\\\"3957\\\\\",\\\\\"static/chunks/3957-b8d310888e9915c6.js\\\\\",\\\\\"5849\\\\\",\\\\\"static/chunks/5849-11654964af4623e7.js\\\\\",\\\\\"7716\\\\\",\\\\\"static/chunks/7716-e89daaa5e83533f1.js\\\\\",\\\\\"407\"])</script><script>self.__next_f.push([1,\"9\\\\\",\\\\\"static/chunks/4079-f37a394cf2180956.js\\\\\",\\\\\"5117\\\\\",\\\\\"static/chunks/app/Search/%40popularList/page-2c9aea10e0064dd5.js\\\\\"],\\\\\"default\\\\\"]\\\\n\"])</script><script>self.__next_f.push([1,\"3:[\\\\\"$\\\\\",\\\\\"$L31\\\\\",null,{\\\\\"state\\\\\":{\\\\\"mutations\\\\\":[],\\\\\"queries\\\\\":[{\\\\\"dehydratedAt\\\\\":1761192218694,\\\\\"state\\\\\":{\\\\\"data\\\\\":{\\\\\"id\\\\\":\\\\\"ANONYMOUS\\\\\",\\\\\"type\\\\\":\\\\\"ANONYMOUS\\\\\",\\\\\"name\\\\\":\\\\\"ANONYMOUS\\\\\",\\\\\"age\\\\\":null,\\\\\"gender\\\\\":null,\\\\\"systemNo\\\\\":null,\\\\\"isAuthenticated\\\\\":false},\\\\\"dataUpdateCount\\\\\":1,\\\\\"dataUpdatedAt\\\\\":1761192218694,\\\\\"error\\\\\":null,\\\\\"errorUpdateCount\\\\\":0,\\\\\"errorUpdatedAt\\\\\":0,\\\\\"fetchFailureCount\\\\\":0,\\\\\"fetchFailureReason\\\\\":null,\\\\\"fetchMeta\\\\\":null,\\\\\"isInvalidated\\\\\":false,\\\\\"status\\\\\":\\\\\"success\\\\\",\\\\\"fetchStatus\\\\\":\\\\\"idle\\\\\"},\\\\\"queryKey\\\\\":[\\\\\"AUTH_ME\\\\\"],\\\\\"queryHash\\\\\":\\\\\"[\\\\\\\\\\\\\"AUTH_ME\\\\\\\\\\\\\"]\\\\\"},{\\\\\"dehydratedAt\\\\\":1761192218694,\\\\\"state\\\\\":{\\\\\"data\\\\\":{\\\\\"area\\\\\":[{\\\\\"code\\\\\":\\\\\"I000\\\\\",\\\\\"parentCode\\\\\":\\\\\"\\\\\",\\\\\"originName\\\\\":\\\\\"서울특별시\\\\\",\\\\\"originCode\\\\\":\\\\\"ASKR1000000\\\\\",\\\\\"displayName\\\\\":\\\\\"서울\\\\\",\\\\\"items\\\\\":[],\\\\\"type\\\\\":\\\\\"area\\\\\",\\\\\"tagDisplayName\\\\\":\\\\\"서울\\\\\"},{\\\\\"code\\\\\":\\\\\"I000_\\\\\",\\\\\"parentCode\\\\\":\\\\\"I000\\\\\",\\\\\"originName\\\\\":\\\\\"서울 전지역\\\\\",\\\\\"originCode\\\\\":\\\\\"ASKR1001000\\\\\",\\\\\"displayName\\\\\":\\\\\"전지역\\\\\",\\\\\"items\\\\\":[],\\\\\"type\\\\\":\\\\\"area\\\\\",\\\\\"tagDisplayName\\\\\":\\\\\"서울\\\\u003e전지역\\\\\"},{\\\\\"code\\\\\":\\\\\"I010\\\\\",\\\\\"parentCode\\\\\":\\\\\"I000\\\\\",\\\\\"originName\\\\\":\\\\\"강남구\\\\\",\\\\\"originCode\\\\\":\\\\\"ASKR1002000\\\\\",\\\\\"displayName\\\\\":\\\\\"강남구\\\\\",\\\\\"items\\\\\":[],\\\\\"type\\\\\":\\\\\"area\\\\\",\\\\\"tagDisplayName\\\\\":\\\\\"서울\\\\u003e강남구\\\\\"},{\\\\\"code\\\\\":\\\\\"I020\\\\\",\\\\\"parentCode\\\\\":\\\\\"I000\\\\\",\\\\\"originName\\\\\":\\\\\"강동구\\\\\",\\\\\"originCode\\\\\":\\\\\"ASKR1003000\\\\\",\\\\\"displayName\\\\\":\\\\\"강동구\\\\\",\\\\\"items\\\\\":[],\\\\\"type\\\\\":\\\\\"area\\\\\",\\\\\"tagDisplayName\\\\\":\\\\\"서울\\\\u003e강동구\\\\\"},{\\\\\"code\\\\\":\\\\\"I030\\\\\",\\\\\"parentCode\\\\\":\\\\\"I000\\\\\",\\\\\"originName\\\\\":\\\\\"강북구\\\\\",\\\\\"originCode\\\\\":\\\\\"ASKR1004000\\\\\",\\\\\"displayName\\\\\":\\\\\"강북구\\\\\",\\\\\"items\\\\\":[],\\\\\"type\\\\\":\\\\\"area\\\\\",\\\\\"tagDisplayName\\\\\":\\\\\"서울\\\\u003e강북구\\\\\"},{\\\\\"code\\\\\":\\\\\"I040\\\\\",\\\\\"parentCode\\\\\":\\\\\"I000\\\\\",\\\\\"originName\\\\\":\\\\\"강서구\\\\\",\\\\\"originCode\\\\\":\\\\\"ASKR1005000\\\\\",\\\\\"displayName\\\\\":\\\\\"강서구\\\\\",\\\\\"items\\\\\":[],\\\\\"type\\\\\":\\\\\"area\\\\\",\\\\\"tagDisplayName\\\\\":\\\\\"서울\\\\u003e강서구\\\\\"},{\\\\\"code\\\\\":\\\\\"I050\\\\\",\\\\\"parentCode\\\\\":\\\\\"I000\\\\\",\\\\\"originName\\\\\":\\\\\"관악구\\\\\",\\\\\"originCode\\\\\":\\\\\"ASKR1006000\\\\\",\\\\\"displayName\\\\\":\\\\\"관악구\\\\\",\\\\\"items\\\\\":[],\\\\\"type\\\\\":\\\\\"area\\\\\",\\\\\"tagDisplayName\\\\\":\\\\\"서울\\\\u003e관악구\\\\\"},{\\\\\"code\\\\\":\\\\\"I060\\\\\",\\\\\"parentCode\\\\\":\\\\\"I000\\\\\",\\\\\"originName\\\\\":\\\\\"광진구\\\\\",\\\\\"originCode\\\\\":\\\\\"ASKR1007000\\\\\",\\\\\"displayName\\\\\":\\\\\"광진구\\\\\",\\\\\"items\\\\\":[],\\\\\"type\\\\\":\\\\\"area\\\\\",\\\\\"tagDisplayName\\\\\":\\\\\"서울\\\\u003e광진구\\\\\"},{\\\\\"code\\\\\":\\\\\"I070\\\\\",\\\\\"parentCode\\\\\":\\\\\"I000\\\\\",\\\\\"originName\\\\\":\\\\\"구로구\\\\\",\\\\\"originCode\\\\\":\\\\\"ASKR1008000\\\\\",\\\\\"displayName\\\\\":\\\\\"구로구\\\\\",\\\\\"items\\\\\":[],\\\\\"type\\\\\":\\\\\"area\\\\\",\\\\\"tagDisplayName\\\\\":\\\\\"서울\\\\u003e구로구\\\\\"},{\\\\\"code\\\\\":\\\\\"I080\\\\\",\\\\\"parentCode\\\\\":\\\\\"I000\\\\\",\\\\\"originName\\\\\":\\\\\"금천구\\\\\",\\\\\"originCode\\\\\":\\\\\"ASKR1009000\\\\\",\\\\\"displayName\\\\\":\\\\\"금천구\\\\\",\\\\\"items\\\\\":[],\\\\\"type\\\\\":\\\\\"area\\\\\",\\\\\"tagDisplayName\\\\\":\\\\\"서울\\\\u003e금천구\\\\\"},{\\\\\"code\\\\\":\\\\\"I090\\\\\",\\\\\"parentCode\\\\\":\\\\\"I000\\\\\",\\\\\"originName\\\\\":\\\\\"노원구\\\\\",\\\\\"originCode\\\\\":\\\\\"ASKR1010000\\\\\",\\\\\"displayName\\\\\":\\\\\"노원구\\\\\",\\\\\"items\\\\\":[],\\\\\"type\\\\\":\\\\\"area\\\\\",\\\\\"tagDisplayName\\\\\":\\\\\"서울\\\\u003e노원구\\\\\"},{\\\\\"code\\\\\":\\\\\"I100\\\\\",\\\\\"parentCode\\\\\":\\\\\"I000\\\\\",\\\\\"originName\\\\\":\\\\\"도봉구\\\\\",\\\\\"originCode\\\\\":\\\\\"ASKR1011000\\\\\",\\\\\"displayName\\\\\":\\\\\"도봉구\\\\\",\\\\\"items\\\\\":[],\\\\\"type\\\\\":\\\\\"area\\\\\",\\\\\"tagDisplayName\\\\\":\\\\\"서울\\\\u003e도봉구\\\\\"},{\\\\\"code\\\\\":\\\\\"I110\\\\\",\\\\\"parentCode\\\\\":\\\\\"I000\\\\\",\\\\\"originName\\\\\":\\\\\"동대문구\\\\\",\\\\\"originCode\\\\\":\\\\\"ASKR1012000\\\\\",\\\\\"displayName\\\\\":\\\\\"동대문구\\\\\",\\\\\"items\\\\\":[],\\\\\"type\\\\\":\\\\\"area\\\\\",\\\\\"tagDisplayName\\\\\":\\\\\"서울\\\\u003e동대문구\\\\\"},{\\\\\"code\\\\\":\\\\\"I120\\\\\",\\\\\"parentCode\\\\\":\\\\\"I000\\\\\",\\\\\"originName\\\\\":\\\\\"동작구\\\\\",\\\\\"originCode\\\\\":\\\\\"ASKR1013000\\\\\",\\\\\"displayName\\\\\":\\\\\"동작구\\\\\",\\\\\"items\\\\\":[],\\\\\"type\\\\\":\\\\\"area\\\\\",\\\\\"tagDisplayName\\\\\":\\\\\"서울\\\\u003e동작구\\\\\"},{\\\\\"code\\\\\":\\\\\"I130\\\\\",\\\\\"parentCode\\\\\":\\\\\"I000\\\\\",\\\\\"originName\\\\\":\\\\\"마포구\\\\\",\\\\\"originCode\\\\\":\\\\\"ASKR1014000\\\\\",\\\\\"displayName\\\\\":\\\\\"마포구\\\\\",\\\\\"items\\\\\":[],\\\\\"type\\\\\":\\\\\"area\\\\\",\\\\\"tagDisplayName\\\\\":\\\\\"서울\\\\u003e마포구\\\\\"},{\\\\\"code\\\\\":\\\\\"I140\\\\\",\\\\\"parentCode\\\\\":\\\\\"I000\\\\\",\\\\\"originName\\\\\":\\\\\"서대문구\\\\\",\\\\\"originCode\\\\\":\\\\\"ASKR1015000\\\\\",\\\\\"displayName\\\\\":\\\\\"서대문구\\\\\",\\\\\"items\\\\\":[],\\\\\"type\\\\\":\\\\\"area\\\\\",\\\\\"tagDisplayName\\\\\":\\\\\"서울\\\\u003e서대문구\\\\\"},{\\\\\"code\\\\\":\\\\\"I150\\\\\",\\\\\"parentCode\\\\\":\\\\\"I000\\\\\",\\\\\"originName\\\\\":\\\\\"서초구\\\\\",\\\\\"originCode\\\\\":\\\\\"ASKR1016000\\\\\",\\\\\"displayName\\\\\":\\\\\"서초구\\\\\",\\\\\"items\\\\\":[],\\\\\"type\\\\\":\\\\\"area\\\\\",\\\\\"tagDisplayName\\\\\":\\\\\"서울\\\\u003e서초구\\\\\"},{\\\\\"code\\\\\":\\\\\"I160\\\\\",\\\\\"parentCode\\\\\":\\\\\"I000\\\\\",\\\\\"originName\\\\\":\\\\\"성동구\\\\\",\\\\\"originCode\\\\\":\\\\\"ASKR1017000\\\\\",\\\\\"displayName\\\\\":\\\\\"성동구\\\\\",\\\\\"items\\\\\":[],\\\\\"type\\\\\":\\\\\"area\\\\\",\\\\\"tagDisplayName\\\\\":\\\\\"서울\\\\u003e성동구\\\\\"},{\\\\\"code\\\\\":\\\\\"I170\\\\\",\\\\\"parentCode\\\\\":\\\\\"I000\\\\\",\\\\\"originName\\\\\":\\\\\"성북구\\\\\",\\\\\"originCode\\\\\":\\\\\"ASKR1018000\\\\\",\\\\\"displayName\\\\\":\\\\\"성북구\\\\\",\\\\\"items\\\\\":[],\\\\\"type\\\\\":\\\\\"area\\\\\",\\\\\"tagDisplayName\\\\\":\\\\\"서울\\\\u003e성북구\\\\\"},{\\\\\"code\\\\\":\\\\\"I180\\\\\",\\\\\"parentCode\\\\\":\\\\\"I000\\\\\",\\\\\"originName\\\\\":\\\\\"송파구\\\\\",\\\\\"originCode\\\\\":\\\\\"ASKR1019000\\\\\",\\\\\"displayName\\\\\":\\\\\"송파구\\\\\",\\\\\"items\\\\\":[],\\\\\"type\\\\\":\\\\\"area\\\\\",\\\\\"tagDisplayName\\\\\":\\\\\"서울\\\\u003e송파구\\\\\"},{\\\\\"code\\\\\":\\\\\"I190\\\\\",\\\\\"parentCode\\\\\":\\\\\"I000\\\\\",\\\\\"originName\\\\\":\\\\\"양천구\\\\\",\\\\\"originCode\\\\\":\\\\\"ASKR1020000\\\\\",\\\\\"displayName\\\\\":\\\\\"양천구\\\\\",\\\\\"items\\\\\":[],\\\\\"type\\\\\":\\\\\"area\\\\\",\\\\\"tagDisplayName\\\\\":\\\\\"서울\\\\u003e양천구\\\\\"},{\\\\\"code\\\\\":\\\\\"I200\\\\\",\\\\\"parentCode\\\\\":\\\\\"I000\\\\\",\\\\\"originName\\\\\":\\\\\"영등포구\\\\\",\\\\\"originCode\\\\\":\\\\\"ASKR1021000\\\\\",\\\\\"displayName\\\\\":\\\\\"영등포구\\\\\",\\\\\"items\\\\\":[],\\\\\"type\\\\\":\\\\\"area\\\\\",\\\\\"tagDisplayName\\\\\":\\\\\"서울\\\\u003e영등포구\\\\\"},{\\\\\"code\\\\\":\\\\\"I210\\\\\",\\\\\"parentCode\\\\\":\\\\\"I000\\\\\",\\\\\"originName\\\\\":\\\\\"용산구\\\\\",\\\\\"originCode\\\\\":\\\\\"ASKR1022000\\\\\",\\\\\"displayName\\\\\":\\\\\"용산구\\\\\",\\\\\"items\\\\\":[],\\\\\"type\\\\\":\\\\\"area\\\\\",\\\\\"tagDisplayName\\\\\":\\\\\"서울\\\\u003e용산구\\\\\"},{\\\\\"code\\\\\":\\\\\"I220\\\\\",\\\\\"parentCode\\\\\":\\\\\"I000\\\\\",\\\\\"originName\\\\\":\\\\\"은평구\\\\\",\\\\\"originCode\\\\\":\\\\\"ASKR1023000\\\\\",\\\\\"displayName\\\\\":\\\\\"은평구\\\\\",\\\\\"items\\\\\":[],\\\\\"type\\\\\":\\\\\"area\\\\\",\\\\\"tagDisplayName\\\\\":\\\\\"서울\\\\u003e은평구\\\\\"},{\\\\\"code\\\\\":\\\\\"I230\\\\\",\\\\\"parentCode\\\\\":\\\\\"I000\\\\\",\\\\\"originName\\\\\":\\\\\"종로구\\\\\",\\\\\"originCode\\\\\":\\\\\"ASKR1024000\\\\\",\\\\\"displayName\\\\\":\\\\\"종로구\\\\\",\\\\\"items\\\\\":[],\\\\\"type\\\\\":\\\\\"area\\\\\",\\\\\"tagDisplayName\\\\\":\\\\\"서울\\\\u003e종로구\\\\\"},{\\\\\"code\\\\\":\\\\\"I240\\\\\",\\\\\"parentCode\\\\\":\\\\\"I000\\\\\",\\\\\"originName\\\\\":\\\\\"중구\\\\\",\\\\\"originCode\\\\\":\\\\\"ASKR1025000\\\\\",\\\\\"displayName\\\\\":\\\\\"중구\\\\\",\\\\\"items\\\\\":[],\\\\\"type\\\\\":\\\\\"area\\\\\",\\\\\"tagDisplayName\\\\\":\\\\\"서울\\\\u003e중구\\\\\"},{\\\\\"code\\\\\":\\\\\"I250\\\\\",\\\\\"parentCode\\\\\":\\\\\"I000\\\\\",\\\\\"originName\\\\\":\\\\\"중랑구\\\\\",\\\\\"originCode\\\\\":\\\\\"ASKR1028000\\\\\",\\\\\"displayName\\\\\":\\\\\"중랑구\\\\\",\\\\\"items\\\\\":[],\\\\\"type\\\\\":\\\\\"area\\\\\",\\\\\"tagDisplayName\\\\\":\\\\\"서울\\\\u003e중랑구\\\\\"},{\\\\\"code\\\\\":\\\\\"B000\\\\\",\\\\\"parentCode\\\\\":\\\\\"\\\\\",\\\\\"originName\\\\\":\\\\\"경기도\\\\\",\\\\\"originCode\\\\\":\\\\\"ASKR0300000\\\\\",\\\\\"displayName\\\\\":\\\\\"경기\\\\\",\\\\\"items\\\\\":[],\\\\\"type\\\\\":\\\\\"area\\\\\",\\\\\"tagDisplayName\\\\\":\\\\\"경기\\\\\"},{\\\\\"code\\\\\":\\\\\"B000_\\\\\",\\\\\"parentCode\\\\\":\\\\\"B000\\\\\",\\\\\"originName\\\\\":\\\\\"경기 전지역\\\\\",\\\\\"originCode\\\\\":\\\\\"ASKR0301000\\\\\",\\\\\"displayName\\\\\":\\\\\"전지역\\\\\",\\\\\"items\\\\\":[],\\\\\"type\\\\\":\\\\\"area\\\\\",\\\\\"tagDisplayName\\\\\":\\\\\"경기\\\\u003e전지역\\\\\"},{\\\\\"code\\\\\":\\\\\"B010\\\\\",\\\\\"parentCode\\\\\":\\\\\"B000\\\\\",\\\\\"originName\\\\\":\\\\\"가평군\\\\\",\\\\\"originCode\\\\\":\\\\\"ASKR0302000\\\\\",\\\\\"displayName\\\\\":\\\\\"가평군\\\\\",\\\\\"items\\\\\":[],\\\\\"type\\\\\":\\\\\"area\\\\\",\\\\\"tagDisplayName\\\\\":\\\\\"경기\\\\u003e가평군\\\\\"},{\\\\\"code\\\\\":\\\\\"B020\\\\\",\\\\\"parentCode\\\\\":\\\\\"B000\\\\\",\\\\\"originName\\\\\":\\\\\"고양시 덕양구\\\\\",\\\\\"originCode\\\\\":\\\\\"ASKR0303000\\\\\",\\\\\"displayName\\\\\":\\\\\"고양시 덕양구\\\\\",\\\\\"items\\\\\":[],\\\\\"type\\\\\":\\\\\"area\\\\\",\\\\\"tagDisplayName\\\\\":\\\\\"경기\\\\u003e고양시 덕양구\\\\\"},{\\\\\"code\\\\\":\\\\\"B030\\\\\",\\\\\"parentCode\\\\\":\\\\\"B000\\\\\",\\\\\"originName\\\\\":\\\\\"고양시 일산동구\\\\\",\\\\\"originCode\\\\\":\\\\\"ASKR0304000\\\\\",\\\\\"displayName\\\\\":\\\\\"고양시 일산동구\\\\\",\\\\\"items\\\\\":[],\\\\\"type\\\\\":\\\\\"area\\\\\",\\\\\"tagDisplayName\\\\\":\\\\\"경기\\\\u003e고양시 일산동구\\\\\"},{\\\\\"code\\\\\":\\\\\"B031\\\\\",\\\\\"parentCode\\\\\":\\\\\"B000\\\\\",\\\\\"originName\\\\\":\\\\\"고양시 일산서구\\\\\",\\\\\"originCode\\\\\":\\\\\"ASKR0305000\\\\\",\\\\\"displayName\\\\\":\\\\\"고양시 일산서구\\\\\",\\\\\"items\\\\\":[],\\\\\"type\\\\\":\\\\\"area\\\\\",\\\\\"tagDisplayName\\\\\":\\\\\"경기\\\\u003e고양시 일산서구\\\\\"},{\\\\\"code\\\\\":\\\\\"B040\\\\\",\\\\\"parentCode\\\\\":\\\\\"B000\\\\\",\\\\\"originName\\\\\":\\\\\"과천시\\\\\",\\\\\"originCode\\\\\":\\\\\"ASKR0306000\\\\\",\\\\\"displayName\\\\\":\\\\\"과천시\\\\\",\\\\\"items\\\\\":[],\\\\\"type\\\\\":\\\\\"area\\\\\",\\\\\"tagDisplayName\\\\\":\\\\\"경기\\\\u003e과천시\\\\\"},{\\\\\"code\\\\\":\\\\\"B050\\\\\",\\\\\"parentCode\\\\\":\\\\\"B000\\\\\",\\\\\"originName\\\\\":\\\\\"광명시\\\\\",\\\\\"originCode\\\\\":\\\\\"ASKR0307000\\\\\",\\\\\"displayName\\\\\":\\\\\"광명시\\\\\",\\\\\"items\\\\\":[],\\\\\"type\\\\\":\\\\\"area\\\\\",\\\\\"tagDisplayName\\\\\":\\\\\"경기\\\\u003e광명시\\\\\"},{\\\\\"code\\\\\":\\\\\"B060\\\\\",\\\\\"parentCode\\\\\":\\\\\"B000\\\\\",\\\\\"originName\\\\\":\\\\\"광주시\\\\\",\\\\\"originCode\\\\\":\\\\\"ASKR0308000\\\\\",\\\\\"displayName\\\\\":\\\\\"광주시\\\\\",\\\\\"items\\\\\":[],\\\\\"type\\\\\":\\\\\"area\\\\\",\\\\\"tagDisplayName\\\\\":\\\\\"경기\\\\u003e광주시\\\\\"},{\\\\\"code\\\\\":\\\\\"B070\\\\\",\\\\\"parentCode\\\\\":\\\\\"B000\\\\\",\\\\\"originName\\\\\":\\\\\"구리시\\\\\",\\\\\"originCode\\\\\":\\\\\"ASKR0309000\\\\\",\\\\\"displayName\\\\\":\\\\\"구리시\\\\\",\\\\\"items\\\\\":[],\\\\\"type\\\\\":\\\\\"area\\\\\",\\\\\"tagDisplayName\\\\\":\\\\\"경기\\\\u003e구리시\\\\\"},{\\\\\"code\\\\\":\\\\\"B080\\\\\",\\\\\"parentCode\\\\\":\\\\\"B000\\\\\",\\\\\"originName\\\\\":\\\\\"군포시\\\\\",\\\\\"originCode\\\\\":\\\\\"ASKR0310000\\\\\",\\\\\"displayName\\\\\":\\\\\"군포시\\\\\",\\\\\"items\\\\\":[],\\\\\"type\\\\\":\\\\\"area\\\\\",\\\\\"tagDisplayName\\\\\":\\\\\"경기\\\\u003e군포시\\\\\"},{\\\\\"code\\\\\":\\\\\"B090\\\\\",\\\\\"parentCode\\\\\":\\\\\"B000\\\\\",\\\\\"originName\\\\\":\\\\\"김포시\\\\\",\\\\\"originCode\\\\\":\\\\\"ASKR0311000\\\\\",\\\\\"displayName\\\\\":\\\\\"김포시\\\\\",\\\\\"items\\\\\":[],\\\\\"type\\\\\":\\\\\"area\\\\\",\\\\\"tagDisplayName\\\\\":\\\\\"경기\\\\u003e김포시\\\\\"},{\\\\\"code\\\\\":\\\\\"B100\\\\\",\\\\\"parentCode\\\\\":\\\\\"B000\\\\\",\\\\\"originName\\\\\":\\\\\"남양주시\\\\\",\\\\\"originCode\\\\\":\\\\\"ASKR0312000\\\\\",\\\\\"displayName\\\\\":\\\\\"남양주시\\\\\",\\\\\"items\\\\\":[],\\\\\"type\\\\\":\\\\\"area\\\\\",\\\\\"tagDisplayName\\\\\":\\\\\"경기\\\\u003e남양주시\\\\\"},{\\\\\"code\\\\\":\\\\\"B110\\\\\",\\\\\"parentCode\\\\\":\\\\\"B000\\\\\",\\\\\"originName\\\\\":\\\\\"동두천시\\\\\",\\\\\"originCode\\\\\":\\\\\"ASKR0313000\\\\\",\\\\\"displayName\\\\\":\\\\\"동두천시\\\\\",\\\\\"items\\\\\":[],\\\\\"type\\\\\":\\\\\"area\\\\\",\\\\\"tagDisplayName\\\\\":\\\\\"경기\\\\u003e동두천시\\\\\"},{\\\\\"code\\\\\":\\\\\"B125\\\\\",\\\\\"parentCode\\\\\":\\\\\"B000\\\\\",\\\\\"originName\\\\\":\\\\\"부천시\\\\\",\\\\\"originCode\\\\\":\\\\\"ASKR0314000\\\\\",\\\\\"displayName\\\\\":\\\\\"부천시\\\\\",\\\\\"items\\\\\":[],\\\\\"type\\\\\":\\\\\"area\\\\\",\\\\\"tagDisplayName\\\\\":\\\\\"경기\\\\u003e부천시\\\\\"},{\\\\\"code\\\\\":\\\\\"B150\\\\\",\\\\\"parentCode\\\\\":\\\\\"B000\\\\\",\\\\\"originName\\\\\":\\\\\"성남시 분당구\\\\\",\\\\\"originCode\\\\\":\\\\\"ASKR0315000\\\\\",\\\\\"displayName\\\\\":\\\\\"성남시 분당구\\\\\",\\\\\"items\\\\\":[],\\\\\"type\\\\\":\\\\\"area\\\\\",\\\\\"tagDisplayName\\\\\":\\\\\"경기\\\\u003e성남시 분당구\\\\\"},{\\\\\"code\\\\\":\\\\\"B160\\\\\",\\\\\"parentCode\\\\\":\\\\\"B000\\\\\",\\\\\"originName\\\\\":\\\\\"성남시 수정구\\\\\",\\\\\"originCode\\\\\":\\\\\"ASKR0316000\\\\\",\\\\\"displayName\\\\\":\\\\\"성남시 수정구\\\\\",\\\\\"items\\\\\":[],\\\\\"type\\\\\":\\\\\"area\\\\\",\\\\\"tagDisplayName\\\\\":\\\\\"경기\\\\u003e성남시 수정구\\\\\"},{\\\\\"code\\\\\":\\\\\"B170\\\\\",\\\\\"parentCode\\\\\":\\\\\"B000\\\\\",\\\\\"originName\\\\\":\\\\\"성남시 중원구\\\\\",\\\\\"originCode\\\\\":\\\\\"ASKR0317000\\\\\",\\\\\"displayName\\\\\":\\\\\"성남시 중원구\\\\\",\\\\\"items\\\\\":[],\\\\\"type\\\\\":\\\\\"area\\\\\",\\\\\"tagDisplayName\\\\\":\\\\\"경기\\\\u003e성남시 중원구\\\\\"},{\\\\\"code\\\\\":\\\\\"B180\\\\\",\\\\\"parentCode\\\\\":\\\\\"B000\\\\\",\\\\\"originName\\\\\":\\\\\"수원시 권선구\\\\\",\\\\\"originCode\\\\\":\\\\\"ASKR0318000\\\\\",\\\\\"displayName\\\\\":\\\\\"수원시 권선구\\\\\",\\\\\"items\\\\\":[],\\\\\"type\\\\\":\\\\\"area\\\\\",\\\\\"tagDisplayName\\\\\":\\\\\"경기\\\\u003e수원시 권선구\\\\\"},{\\\\\"code\\\\\":\\\\\"B190\\\\\",\\\\\"parentCode\\\\\":\\\\\"B000\\\\\",\\\\\"originName\\\\\":\\\\\"수원시 장안구\\\\\",\\\\\"originCode\\\\\":\\\\\"ASKR0320000\\\\\",\\\\\"displayName\\\\\":\\\\\"수원시 장안구\\\\\",\\\\\"items\\\\\":[],\\\\\"type\\\\\":\\\\\"area\\\\\",\\\\\"tagDisplayName\\\\\":\\\\\"경기\\\\u003e수원시 장안구\\\\\"},{\\\\\"code\\\\\":\\\\\"B200\\\\\",\\\\\"parentCode\\\\\":\\\\\"B000\\\\\",\\\\\"originName\\\\\":\\\\\"수원시 팔달구\\\\\",\\\\\"originCode\\\\\":\\\\\"ASKR0321000\\\\\",\\\\\"displayName\\\\\":\\\\\"수원시 팔달구\\\\\",\\\\\"items\\\\\":[],\\\\\"type\\\\\":\\\\\"area\\\\\",\\\\\"tagDisplayName\\\\\":\\\\\"경기\\\\u003e수원시 팔달구\\\\\"},{\\\\\"code\\\\\":\\\\\"B201\\\\\",\\\\\"parentCode\\\\\":\\\\\"B000\\\\\",\\\\\"originName\\\\\":\\\\\"수원시 영통구\\\\\",\\\\\"originCode\\\\\":\\\\\"ASKR0319000\\\\\",\\\\\"displayName\\\\\":\\\\\"수원시 영통구\\\\\",\\\\\"items\\\\\":[],\\\\\"type\\\\\":\\\\\"area\\\\\",\\\\\"tagDisplayName\\\\\":\\\\\"경기\\\\u003e수원시 영통구\\\\\"},{\\\\\"code\\\\\":\\\\\"B210\\\\\",\\\\\"parentCode\\\\\":\\\\\"B000\\\\\",\\\\\"originName\\\\\":\\\\\"시흥시\\\\\",\\\\\"originCode\\\\\":\\\\\"ASKR0322000\\\\\",\\\\\"displayName\\\\\":\\\\\"시흥시\\\\\",\\\\\"items\\\\\":[],\\\\\"type\\\\\":\\\\\"area\\\\\",\\\\\"tagDisplayName\\\\\":\\\\\"경기\\\\u003e시흥시\\\\\"},{\\\\\"code\\\\\":\\\\\"B220\\\\\",\\\\\"parentCode\\\\\":\\\\\"B000\\\\\",\\\\\"originName\\\\\":\\\\\"안산시 단원구\\\\\",\\\\\"originCode\\\\\":\\\\\"ASKR0323000\\\\\",\\\\\"displayName\\\\\":\\\\\"안산시 단원구\\\\\",\\\\\"items\\\\\":[],\\\\\"type\\\\\":\\\\\"area\\\\\",\\\\\"tagDisplayName\\\\\":\\\\\"경기\\\\u003e안산시 단원구\\\\\"},{\\\\\"code\\\\\":\\\\\"B221\\\\\",\\\\\"parentCode\\\\\":\\\\\"B000\\\\\",\\\\\"originName\\\\\":\\\\\"안산시 상록구\\\\\",\\\\\"originCode\\\\\":\\\\\"ASKR0324000\\\\\",\\\\\"displayName\\\\\":\\\\\"안산시 상록구\\\\\",\\\\\"items\\\\\":[],\\\\\"type\\\\\":\\\\\"area\\\\\",\\\\\"tagDisplayName\\\\\":\\\\\"경기\\\\u003e안산시 상록구\\\\\"},{\\\\\"code\\\\\":\\\\\"B230\\\\\",\\\\\"parentCode\\\\\":\\\\\"B000\\\\\",\\\\\"originName\\\\\":\\\\\"안성시\\\\\",\\\\\"originCode\\\\\":\\\\\"ASKR0325000\\\\\",\\\\\"displayName\\\\\":\\\\\"안성시\\\\\",\\\\\"items\\\\\":[],\\\\\"type\\\\\":\\\\\"area\\\\\",\\\\\"tagDisplayName\\\\\":\\\\\"경기\\\\u003e안성시\\\\\"},{\\\\\"code\\\\\":\\\\\"B240\\\\\",\\\\\"parentCode\\\\\":\\\\\"B000\\\\\",\\\\\"originName\\\\\":\\\\\"안양시 동안구\\\\\",\\\\\"originCode\\\\\":\\\\\"ASKR0326000\\\\\",\\\\\"displayName\\\\\":\\\\\"안양시 동안구\\\\\",\\\\\"items\\\\\":[],\\\\\"type\\\\\":\\\\\"area\\\\\",\\\\\"tagDisplayName\\\\\":\\\\\"경기\\\\u003e안양시 동안구\\\\\"},{\\\\\"code\\\\\":\\\\\"B250\\\\\",\\\\\"parentCode\\\\\":\\\\\"B000\\\\\",\\\\\"originName\\\\\":\\\\\"안양시 만안구\\\\\",\\\\\"originCode\\\\\":\\\\\"ASKR0327000\\\\\",\\\\\"displayName\\\\\":\\\\\"안양시 만안구\\\\\",\\\\\"items\\\\\":[],\\\\\"type\\\\\":\\\\\"area\\\\\",\\\\\"tagDisplayName\\\\\":\\\\\"경기\\\\u003e안양시 만안구\\\\\"},{\\\\\"code\\\\\":\\\\\"B260\\\\\",\\\\\"parentCode\\\\\":\\\\\"B000\\\\\",\\\\\"originName\\\\\":\\\\\"양주시\\\\\",\\\\\"originCode\\\\\":\\\\\"ASKR0328000\\\\\",\\\\\"displayName\\\\\":\\\\\"양주시\\\\\",\\\\\"items\\\\\":[],\\\\\"type\\\\\":\\\\\"area\\\\\",\\\\\"tagDisplayName\\\\\":\\\\\"경기\\\\u003e양주시\\\\\"},{\\\\\"code\\\\\":\\\\\"B270\\\\\",\\\\\"parentCode\\\\\":\\\\\"B000\\\\\",\\\\\"originName\\\\\":\\\\\"양평군\\\\\",\\\\\"originCode\\\\\":\\\\\"ASKR0329000\\\\\",\\\\\"displayName\\\\\":\\\\\"양평군\\\\\",\\\\\"items\\\\\":[],\\\\\"type\\\\\":\\\\\"area\\\\\",\\\\\"tagDisplayName\\\\\":\\\\\"경기\\\\u003e양평군\\\\\"},{\\\\\"code\\\\\":\\\\\"B280\\\\\",\\\\\"parentCode\\\\\":\\\\\"B000\\\\\",\\\\\"originName\\\\\":\\\\\"여주시\\\\\",\\\\\"originCode\\\\\":\\\\\"ASKR0330000\\\\\",\\\\\"displayName\\\\\":\\\\\"여주시\\\\\",\\\\\"items\\\\\":[],\\\\\"type\\\\\":\\\\\"area\\\\\",\\\\\"tagDisplayName\\\\\":\\\\\"경기\\\\u003e여주시\\\\\"},{\\\\\"code\\\\\":\\\\\"B290\\\\\",\\\\\"parentCode\\\\\":\\\\\"B000\\\\\",\\\\\"originName\\\\\":\\\\\"연천군\\\\\",\\\\\"originCode\\\\\":\\\\\"ASKR0331000\\\\\",\\\\\"displayName\\\\\":\\\\\"연천군\\\\\",\\\\\"items\\\\\":[],\\\\\"type\\\\\":\\\\\"area\\\\\",\\\\\"tagDisplayName\\\\\":\\\\\"경기\\\\u003e연천군\\\\\"},{\\\\\"code\\\\\":\\\\\"B300\\\\\",\\\\\"parentCode\\\\\":\\\\\"B000\\\\\",\\\\\"originName\\\\\":\\\\\"오산시\\\\\",\\\\\"originCode\\\\\":\\\\\"ASKR0332000\\\\\",\\\\\"displayName\\\\\":\\\\\"오산시\\\\\",\\\\\"items\\\\\":[],\\\\\"type\\\\\":\\\\\"area\\\\\",\\\\\"tagDisplayName\\\\\":\\\\\"경기\\\\u003e오산시\\\\\"},{\\\\\"code\\\\\":\\\\\"B310\\\\\",\\\\\"parentCode\\\\\":\\\\\"B000\\\\\",\\\\\"originName\\\\\":\\\\\"용인시 기흥구\\\\\",\\\\\"originCode\\\\\":\\\\\"ASKR0333000\\\\\",\\\\\"displayName\\\\\":\\\\\"용인시 기흥구\\\\\",\\\\\"items\\\\\":[],\\\\\"type\\\\\":\\\\\"area\\\\\",\\\\\"tagDisplayName\\\\\":\\\\\"경기\\\\u003e용인시 기흥구\\\\\"},{\\\\\"code\\\\\":\\\\\"B311\\\\\",\\\\\"parentCode\\\\\":\\\\\"B000\\\\\",\\\\\"originName\\\\\":\\\\\"용인시 수지구\\\\\",\\\\\"originCode\\\\\":\\\\\"ASKR0334000\\\\\",\\\\\"displayName\\\\\":\\\\\"용인시 수지구\\\\\",\\\\\"items\\\\\":[],\\\\\"type\\\\\":\\\\\"area\\\\\",\\\\\"tagDisplayName\\\\\":\\\\\"경기\\\\u003e용인시 수지구\\\\\"},{\\\\\"code\\\\\":\\\\\"B312\\\\\",\\\\\"parentCode\\\\\":\\\\\"B000\\\\\",\\\\\"originName\\\\\":\\\\\"용인시 처인구\\\\\",\\\\\"originCode\\\\\":\\\\\"ASKR0335000\\\\\",\\\\\"displayName\\\\\":\\\\\"용인시 처인구\\\\\",\\\\\"items\\\\\":[],\\\\\"type\\\\\":\\\\\"area\\\\\",\\\\\"tagDisplayName\\\\\":\\\\\"경기\\\\u003e용인시 처인구\\\\\"},{\\\\\"code\\\\\":\\\\\"B320\\\\\",\\\\\"parentCode\\\\\":\\\\\"B000\\\\\",\\\\\"originName\\\\\":\\\\\"의왕시\\\\\",\\\\\"originCode\\\\\":\\\\\"ASKR0336000\\\\\",\\\\\"displayName\\\\\":\\\\\"의왕시\\\\\",\\\\\"items\\\\\":[],\\\\\"type\\\\\":\\\\\"area\\\\\",\\\\\"tagDisplayName\\\\\":\\\\\"경기\\\\u003e의왕시\\\\\"},{\\\\\"code\\\\\":\\\\\"B330\\\\\",\\\\\"parentCode\\\\\":\\\\\"B000\\\\\",\\\\\"originName\\\\\":\\\\\"의정부시\\\\\",\\\\\"originCode\\\\\":\\\\\"ASKR0337000\\\\\",\\\\\"displayName\\\\\":\\\\\"의정부시\\\\\",\\\\\"items\\\\\":[],\\\\\"type\\\\\":\\\\\"area\\\\\",\\\\\"tagDisplayName\\\\\":\\\\\"경기\\\\u003e의정부시\\\\\"},{\\\\\"code\\\\\":\\\\\"B340\\\\\",\\\\\"parentCode\\\\\":\\\\\"B000\\\\\",\\\\\"originName\\\\\":\\\\\"이천시\\\\\",\\\\\"originCode\\\\\":\\\\\"ASKR0338000\\\\\",\\\\\"displayName\\\\\":\\\\\"이천시\\\\\",\\\\\"items\\\\\":[],\\\\\"type\\\\\":\\\\\"area\\\\\",\\\\\"tagDisplayName\\\\\":\\\\\"경기\\\\u003e이천시\\\\\"},{\\\\\"code\\\\\":\\\\\"B350\\\\\",\\\\\"parentCode\\\\\":\\\\\"B000\\\\\",\\\\\"originName\\\\\":\\\\\"파주시\\\\\",\\\\\"originCode\\\\\":\\\\\"ASKR0339000\\\\\",\\\\\"displayName\\\\\":\\\\\"파주시\\\\\",\\\\\"items\\\\\":[],\\\\\"type\\\\\":\\\\\"area\\\\\",\\\\\"tagDisplayName\\\\\":\\\\\"경기\\\\u003e파주시\\\\\"},{\\\\\"code\\\\\":\\\\\"B360\\\\\",\\\\\"parentCode\\\\\":\\\\\"B000\\\\\",\\\\\"originName\\\\\":\\\\\"평택시\\\\\",\\\\\"originCode\\\\\":\\\\\"ASKR0340000\\\\\",\\\\\"displayName\\\\\":\\\\\"평택시\\\\\",\\\\\"items\\\\\":[],\\\\\"type\\\\\":\\\\\"area\\\\\",\\\\\"tagDisplayName\\\\\":\\\\\"경기\\\\u003e평택시\\\\\"},{\\\\\"code\\\\\":\\\\\"B370\\\\\",\\\\\"parentCode\\\\\":\\\\\"B000\\\\\",\\\\\"originName\\\\\":\\\\\"포천시\\\\\",\\\\\"originCode\\\\\":\\\\\"ASKR0341000\\\\\",\\\\\"displayName\\\\\":\\\\\"포천시\\\\\",\\\\\"items\\\\\":[],\\\\\"type\\\\\":\\\\\"area\\\\\",\\\\\"tagDisplayName\\\\\":\\\\\"경기\\\\u003e포천시\\\\\"},{\\\\\"code\\\\\":\\\\\"B380\\\\\",\\\\\"parentCode\\\\\":\\\\\"B000\\\\\",\\\\\"originName\\\\\":\\\\\"하남시\\\\\",\\\\\"originCode\\\\\":\\\\\"ASKR0342000\\\\\",\\\\\"displayName\\\\\":\\\\\"하남시\\\\\",\\\\\"items\\\\\":[],\\\\\"type\\\\\":\\\\\"area\\\\\",\\\\\"tagDisplayName\\\\\":\\\\\"경기\\\\u003e하남시\\\\\"},{\\\\\"code\\\\\":\\\\\"B390\\\\\",\\\\\"parentCode\\\\\":\\\\\"B000\\\\\",\\\\\"originName\\\\\":\\\\\"화성시\\\\\",\\\\\"originCode\\\\\":\\\\\"ASKR0343000\\\\\",\\\\\"displayName\\\\\":\\\\\"화성시\\\\\",\\\\\"items\\\\\":[],\\\\\"type\\\\\":\\\\\"area\\\\\",\\\\\"tagDisplayName\\\\\":\\\\\"경기\\\\u003e화성시\\\\\"},{\\\\\"code\\\\\":\\\\\"K000\\\\\",\\\\\"parentCode\\\\\":\\\\\"\\\\\",\\\\\"originName\\\\\":\\\\\"인천광역시\\\\\",\\\\\"originCode\\\\\":\\\\\"ASKR1300000\\\\\",\\\\\"displayName\\\\\":\\\\\"인천\\\\\",\\\\\"items\\\\\":[],\\\\\"type\\\\\":\\\\\"area\\\\\",\\\\\"tagDisplayName\\\\\":\\\\\"인천\\\\\"},{\\\\\"code\\\\\":\\\\\"K000_\\\\\",\\\\\"parentCode\\\\\":\\\\\"K000\\\\\",\\\\\"originName\\\\\":\\\\\"인천 전지역\\\\\",\\\\\"originCode\\\\\":\\\\\"ASKR1301000\\\\\",\\\\\"displayName\\\\\":\\\\\"전지역\\\\\",\\\\\"items\\\\\":[],\\\\\"type\\\\\":\\\\\"area\\\\\",\\\\\"tagDisplayName\\\\\":\\\\\"인천\\\\u003e전지역\\\\\"},{\\\\\"code\\\\\":\\\\\"K010\\\\\",\\\\\"parentCode\\\\\":\\\\\"K000\\\\\",\\\\\"originName\\\\\":\\\\\"강화군\\\\\",\\\\\"originCode\\\\\":\\\\\"ASKR1302000\\\\\",\\\\\"displayName\\\\\":\\\\\"강화군\\\\\",\\\\\"items\\\\\":[],\\\\\"type\\\\\":\\\\\"area\\\\\",\\\\\"tagDisplayName\\\\\":\\\\\"인천\\\\u003e강화군\\\\\"},{\\\\\"code\\\\\":\\\\\"K020\\\\\",\\\\\"parentCode\\\\\":\\\\\"K000\\\\\",\\\\\"originName\\\\\":\\\\\"계양구\\\\\",\\\\\"originCode\\\\\":\\\\\"ASKR1303000\\\\\",\\\\\"displayName\\\\\":\\\\\"계양구\\\\\",\\\\\"items\\\\\":[],\\\\\"type\\\\\":\\\\\"area\\\\\",\\\\\"tagDisplayName\\\\\":\\\\\"인천\\\\u003e계양구\\\\\"},{\\\\\"code\\\\\":\\\\\"K030\\\\\",\\\\\"parentCode\\\\\":\\\\\"K000\\\\\",\\\\\"originName\\\\\":\\\\\"미추홀구\\\\\",\\\\\"originCode\\\\\":\\\\\"ASKR1306000\\\\\",\\\\\"displayName\\\\\":\\\\\"미추홀구\\\\\",\\\\\"items\\\\\":[],\\\\\"type\\\\\":\\\\\"area\\\\\",\\\\\"tagDisplayName\\\\\":\\\\\"인천\\\\u003e미추홀구\\\\\"},{\\\\\"code\\\\\":\\\\\"K040\\\\\",\\\\\"parentCode\\\\\":\\\\\"K000\\\\\",\\\\\"originName\\\\\":\\\\\"남동구\\\\\",\\\\\"originCode\\\\\":\\\\\"ASKR1304000\\\\\",\\\\\"displayName\\\\\":\\\\\"남동구\\\\\",\\\\\"items\\\\\":[],\\\\\"type\\\\\":\\\\\"area\\\\\",\\\\\"tagDisplayName\\\\\":\\\\\"인천\\\\u003e남동구\\\\\"},{\\\\\"code\\\\\":\\\\\"K050\\\\\",\\\\\"parentCode\\\\\":\\\\\"K000\\\\\",\\\\\"originName\\\\\":\\\\\"동구\\\\\",\\\\\"originCode\\\\\":\\\\\"ASKR1305000\\\\\",\\\\\"displayName\\\\\":\\\\\"동구\\\\\",\\\\\"items\\\\\":[],\\\\\"type\\\\\":\\\\\"area\\\\\",\\\\\"tagDisplayName\\\\\":\\\\\"인천\\\\u003e동구\\\\\"},{\\\\\"code\\\\\":\\\\\"K060\\\\\",\\\\\"parentCode\\\\\":\\\\\"K000\\\\\",\\\\\"originName\\\\\":\\\\\"부평구\\\\\",\\\\\"originCode\\\\\":\\\\\"ASKR1307000\\\\\",\\\\\"displayName\\\\\":\\\\\"부평구\\\\\",\\\\\"items\\\\\":[],\\\\\"type\\\\\":\\\\\"area\\\\\",\\\\\"tagDisplayName\\\\\":\\\\\"인천\\\\u003e부평구\\\\\"},{\\\\\"code\\\\\":\\\\\"K070\\\\\",\\\\\"parentCode\\\\\":\\\\\"K000\\\\\",\\\\\"originName\\\\\":\\\\\"서구\\\\\",\\\\\"originCode\\\\\":\\\\\"ASKR1308000\\\\\",\\\\\"displayName\\\\\":\\\\\"서구\\\\\",\\\\\"items\\\\\":[],\\\\\"type\\\\\":\\\\\"area\\\\\",\\\\\"tagDisplayName\\\\\":\\\\\"인천\\\\u003e서구\\\\\"},{\\\\\"code\\\\\":\\\\\"K080\\\\\",\\\\\"parentCode\\\\\":\\\\\"K000\\\\\",\\\\\"originName\\\\\":\\\\\"연수구\\\\\",\\\\\"originCode\\\\\":\\\\\"ASKR1309000\\\\\",\\\\\"displayName\\\\\":\\\\\"연수구\\\\\",\\\\\"items\\\\\":[],\\\\\"type\\\\\":\\\\\"area\\\\\",\\\\\"tagDisplayName\\\\\":\\\\\"인천\\\\u003e연수구\\\\\"},{\\\\\"code\\\\\":\\\\\"K090\\\\\",\\\\\"parentCode\\\\\":\\\\\"K000\\\\\",\\\\\"originName\\\\\":\\\\\"옹진군\\\\\",\\\\\"originCode\\\\\":\\\\\"ASKR1310000\\\\\",\\\\\"displayName\\\\\":\\\\\"옹진군\\\\\",\\\\\"items\\\\\":[],\\\\\"type\\\\\":\\\\\"area\\\\\",\\\\\"tagDisplayName\\\\\":\\\\\"인천\\\\u003e옹진군\\\\\"},{\\\\\"code\\\\\":\\\\\"K100\\\\\",\\\\\"parentCode\\\\\":\\\\\"K000\\\\\",\\\\\"originName\\\\\":\\\\\"중구\\\\\",\\\\\"originCode\\\\\":\\\\\"ASKR1311000\\\\\",\\\\\"displayName\\\\\":\\\\\"중구\\\\\",\\\\\"items\\\\\":[],\\\\\"type\\\\\":\\\\\"area\\\\\",\\\\\"tagDisplayName\\\\\":\\\\\"인천\\\\u003e중구\\\\\"},{\\\\\"code\\\\\":\\\\\"G000\\\\\",\\\\\"parentCode\\\\\":\\\\\"\\\\\",\\\\\"originName\\\\\":\\\\\"대전광역시\\\\\",\\\\\"originCode\\\\\":\\\\\"ASKR0800000\\\\\",\\\\\"displayName\\\\\":\\\\\"대전\\\\\",\\\\\"items\\\\\":[],\\\\\"type\\\\\":\\\\\"area\\\\\",\\\\\"tagDisplayName\\\\\":\\\\\"대전\\\\\"},{\\\\\"code\\\\\":\\\\\"G000_\\\\\",\\\\\"parentCode\\\\\":\\\\\"G000\\\\\",\\\\\"originName\\\\\":\\\\\"대전 전지역\\\\\",\\\\\"originCode\\\\\":\\\\\"ASKR0801000\\\\\",\\\\\"displayName\\\\\":\\\\\"전지역\\\\\",\\\\\"items\\\\\":[],\\\\\"type\\\\\":\\\\\"area\\\\\",\\\\\"tagDisplayName\\\\\":\\\\\"대전\\\\u003e전지역\\\\\"},{\\\\\"code\\\\\":\\\\\"G010\\\\\",\\\\\"parentCode\\\\\":\\\\\"G000\\\\\",\\\\\"originName\\\\\":\\\\\"대덕구\\\\\",\\\\\"originCode\\\\\":\\\\\"ASKR0802000\\\\\",\\\\\"displayName\\\\\":\\\\\"대덕구\\\\\",\\\\\"items\\\\\":[],\\\\\"type\\\\\":\\\\\"area\\\\\",\\\\\"tagDisplayName\\\\\":\\\\\"대전\\\\u003e대덕구\\\\\"},{\\\\\"code\\\\\":\\\\\"G020\\\\\",\\\\\"parentCode\\\\\":\\\\\"G000\\\\\",\\\\\"originName\\\\\":\\\\\"동구\\\\\",\\\\\"originCode\\\\\":\\\\\"ASKR0803000\\\\\",\\\\\"displayName\\\\\":\\\\\"동구\\\\\",\\\\\"items\\\\\":[],\\\\\"type\\\\\":\\\\\"area\\\\\",\\\\\"tagDisplayName\\\\\":\\\\\"대전\\\\u003e동구\\\\\"},{\\\\\"code\\\\\":\\\\\"G030\\\\\",\\\\\"parentCode\\\\\":\\\\\"G000\\\\\",\\\\\"originName\\\\\":\\\\\"서구\\\\\",\\\\\"originCode\\\\\":\\\\\"ASKR0804000\\\\\",\\\\\"displayName\\\\\":\\\\\"서구\\\\\",\\\\\"items\\\\\":[],\\\\\"type\\\\\":\\\\\"area\\\\\",\\\\\"tagDisplayName\\\\\":\\\\\"대전\\\\u003e서구\\\\\"},{\\\\\"code\\\\\":\\\\\"G040\\\\\",\\\\\"parentCode\\\\\":\\\\\"G000\\\\\",\\\\\"originName\\\\\":\\\\\"유성구\\\\\",\\\\\"originCode\\\\\":\\\\\"ASKR0805000\\\\\",\\\\\"displayName\\\\\":\\\\\"유성구\\\\\",\\\\\"items\\\\\":[],\\\\\"type\\\\\":\\\\\"area\\\\\",\\\\\"tagDisplayName\\\\\":\\\\\"대전\\\\u003e유성구\\\\\"},{\\\\\"code\\\\\":\\\\\"G050\\\\\",\\\\\"parentCode\\\\\":\\\\\"G000\\\\\",\\\\\"originName\\\\\":\\\\\"중구\\\\\",\\\\\"originCode\\\\\":\\\\\"ASKR0806000\\\\\",\\\\\"displayName\\\\\":\\\\\"중구\\\\\",\\\\\"items\\\\\":[],\\\\\"type\\\\\":\\\\\"area\\\\\",\\\\\"tagDisplayName\\\\\":\\\\\"대전\\\\u003e중구\\\\\"},{\\\\\"code\\\\\":\\\\\"1000\\\\\",\\\\\"parentCode\\\\\":\\\\\"\\\\\",\\\\\"originName\\\\\":\\\\\"세종특별자치시\\\\\",\\\\\"originCode\\\\\":\\\\\"ASKR1100000\\\\\",\\\\\"displayName\\\\\":\\\\\"세종\\\\\",\\\\\"items\\\\\":[],\\\\\"type\\\\\":\\\\\"area\\\\\",\\\\\"tagDisplayName\\\\\":\\\\\"세종\\\\\"},{\\\\\"code\\\\\":\\\\\"O000\\\\\",\\\\\"parentCode\\\\\":\\\\\"\\\\\",\\\\\"originName\\\\\":\\\\\"충청남도\\\\\",\\\\\"originCode\\\\\":\\\\\"ASKR1700000\\\\\",\\\\\"displayName\\\\\":\\\\\"충남\\\\\",\\\\\"items\\\\\":[],\\\\\"type\\\\\":\\\\\"area\\\\\",\\\\\"tagDisplayName\\\\\":\\\\\"충남\\\\\"},{\\\\\"code\\\\\":\\\\\"O000_\\\\\",\\\\\"parentCode\\\\\":\\\\\"O000\\\\\",\\\\\"originName\\\\\":\\\\\"충남 전지역\\\\\",\\\\\"originCode\\\\\":\\\\\"ASKR1701000\\\\\",\\\\\"displayName\\\\\":\\\\\"충남전지역\\\\\",\\\\\"items\\\\\":[],\\\\\"type\\\\\":\\\\\"area\\\\\",\\\\\"tagDisplayName\\\\\":\\\\\"충남\\\\u003e충남전지역\\\\\"},{\\\\\"code\\\\\":\\\\\"O010\\\\\",\\\\\"parentCode\\\\\":\\\\\"O000\\\\\",\\\\\"originName\\\\\":\\\\\"공주시\\\\\",\\\\\"originCode\\\\\":\\\\\"ASKR1703000\\\\\",\\\\\"displayName\\\\\":\\\\\"공주시\\\\\",\\\\\"items\\\\\":[],\\\\\"type\\\\\":\\\\\"area\\\\\",\\\\\"tagDisplayName\\\\\":\\\\\"충남\\\\u003e공주시\\\\\"},{\\\\\"code\\\\\":\\\\\"O020\\\\\",\\\\\"parentCode\\\\\":\\\\\"O000\\\\\",\\\\\"originName\\\\\":\\\\\"금산군\\\\\",\\\\\"originCode\\\\\":\\\\\"ASKR1704000\\\\\",\\\\\"displayName\\\\\":\\\\\"금산군\\\\\",\\\\\"items\\\\\":[],\\\\\"type\\\\\":\\\\\"area\\\\\",\\\\\"tagDisplayName\\\\\":\\\\\"충남\\\\u003e금산군\\\\\"},{\\\\\"code\\\\\":\\\\\"O030\\\\\",\\\\\"parentCode\\\\\":\\\\\"O000\\\\\",\\\\\"originName\\\\\":\\\\\"논산시\\\\\",\\\\\"originCode\\\\\":\\\\\"ASKR1705000\\\\\",\\\\\"displayName\\\\\":\\\\\"논산시\\\\\",\\\\\"items\\\\\":[],\\\\\"type\\\\\":\\\\\"area\\\\\",\\\\\"tagDisplayName\\\\\":\\\\\"충남\\\\u003e논산시\\\\\"},{\\\\\"code\\\\\":\\\\\"O040\\\\\",\\\\\"parentCode\\\\\":\\\\\"O000\\\\\",\\\\\"originName\\\\\":\\\\\"당진시\\\\\",\\\\\"originCode\\\\\":\\\\\"ASKR1706000\\\\\",\\\\\"displayName\\\\\":\\\\\"당진시\\\\\",\\\\\"items\\\\\":[],\\\\\"type\\\\\":\\\\\"area\\\\\",\\\\\"tagDisplayName\\\\\":\\\\\"충남\\\\u003e당진시\\\\\"},{\\\\\"code\\\\\":\\\\\"O050\\\\\",\\\\\"parentCode\\\\\":\\\\\"O000\\\\\",\\\\\"originName\\\\\":\\\\\"보령시\\\\\",\\\\\"originCode\\\\\":\\\\\"ASKR1707000\\\\\",\\\\\"displayName\\\\\":\\\\\"보령시\\\\\",\\\\\"items\\\\\":[],\\\\\"type\\\\\":\\\\\"area\\\\\",\\\\\"tagDisplayName\\\\\":\\\\\"충남\\\\u003e보령시\\\\\"},{\\\\\"code\\\\\":\\\\\"O060\\\\\",\\\\\"parentCode\\\\\":\\\\\"O000\\\\\",\\\\\"originName\\\\\":\\\\\"부여군\\\\\",\\\\\"originCode\\\\\":\\\\\"ASKR1708000\\\\\",\\\\\"displayName\\\\\":\\\\\"부여군\\\\\",\\\\\"items\\\\\":[],\\\\\"type\\\\\":\\\\\"area\\\\\",\\\\\"tagDisplayName\\\\\":\\\\\"충남\\\\u003e부여군\\\\\"},{\\\\\"code\\\\\":\\\\\"O070\\\\\",\\\\\"parentCode\\\\\":\\\\\"O000\\\\\",\\\\\"originName\\\\\":\\\\\"서산시\\\\\",\\\\\"originCode\\\\\":\\\\\"ASKR1709000\\\\\",\\\\\"displayName\\\\\":\\\\\"서산시\\\\\",\\\\\"items\\\\\":[],\\\\\"type\\\\\":\\\\\"area\\\\\",\\\\\"tagDisplayName\\\\\":\\\\\"충남\\\\u003e서산시\\\\\"},{\\\\\"code\\\\\":\\\\\"O080\\\\\",\\\\\"parentCode\\\\\":\\\\\"O000\\\\\",\\\\\"originName\\\\\":\\\\\"서천군\\\\\",\\\\\"originCode\\\\\":\\\\\"ASKR1710000\\\\\",\\\\\"displayName\\\\\":\\\\\"서천군\\\\\",\\\\\"items\\\\\":[],\\\\\"type\\\\\":\\\\\"area\\\\\",\\\\\"tagDisplayName\\\\\":\\\\\"충남\\\\u003e서천군\\\\\"},{\\\\\"code\\\\\":\\\\\"O090\\\\\",\\\\\"parentCode\\\\\":\\\\\"O000\\\\\",\\\\\"originName\\\\\":\\\\\"아산시\\\\\",\\\\\"originCode\\\\\":\\\\\"ASKR1711000\\\\\",\\\\\"displayName\\\\\":\\\\\"아산시\\\\\",\\\\\"items\\\\\":[],\\\\\"type\\\\\":\\\\\"area\\\\\",\\\\\"tagDisplayName\\\\\":\\\\\"충남\\\\u003e아산시\\\\\"},{\\\\\"code\\\\\":\\\\\"O110\\\\\",\\\\\"parentCode\\\\\":\\\\\"O000\\\\\",\\\\\"originName\\\\\":\\\\\"예산군\\\\\",\\\\\"originCode\\\\\":\\\\\"ASKR1712000\\\\\",\\\\\"displayName\\\\\":\\\\\"예산군\\\\\",\\\\\"items\\\\\":[],\\\\\"type\\\\\":\\\\\"area\\\\\",\\\\\"tagDisplayName\\\\\":\\\\\"충남\\\\u003e예산군\\\\\"},{\\\\\"code\\\\\":\\\\\"O120\\\\\",\\\\\"parentCode\\\\\":\\\\\"O000\\\\\",\\\\\"originName\\\\\":\\\\\"천안시 동남구\\\\\",\\\\\"originCode\\\\\":\\\\\"ASKR1713000\\\\\",\\\\\"displayName\\\\\":\\\\\"천안시 동남구\\\\\",\\\\\"items\\\\\":[],\\\\\"type\\\\\":\\\\\"area\\\\\",\\\\\"tagDisplayName\\\\\":\\\\\"충남\\\\u003e천안시 동남구\\\\\"},{\\\\\"code\\\\\":\\\\\"O121\\\\\",\\\\\"parentCode\\\\\":\\\\\"O000\\\\\",\\\\\"originName\\\\\":\\\\\"천안시 서북구\\\\\",\\\\\"originCode\\\\\":\\\\\"ASKR1714000\\\\\",\\\\\"displayName\\\\\":\\\\\"천안시 서북구\\\\\",\\\\\"items\\\\\":[],\\\\\"type\\\\\":\\\\\"area\\\\\",\\\\\"tagDisplayName\\\\\":\\\\\"충남\\\\u003e천안시 서북구\\\\\"},{\\\\\"code\\\\\":\\\\\"O130\\\\\",\\\\\"parentCode\\\\\":\\\\\"O000\\\\\",\\\\\"originName\\\\\":\\\\\"청양군\\\\\",\\\\\"originCode\\\\\":\\\\\"ASKR1715000\\\\\",\\\\\"displayName\\\\\":\\\\\"청양군\\\\\",\\\\\"items\\\\\":[],\\\\\"type\\\\\":\\\\\"area\\\\\",\\\\\"tagDisplayName\\\\\":\\\\\"충남\\\\u003e청양군\\\\\"},{\\\\\"code\\\\\":\\\\\"O140\\\\\",\\\\\"parentCode\\\\\":\\\\\"O000\\\\\",\\\\\"originName\\\\\":\\\\\"태안군\\\\\",\\\\\"originCode\\\\\":\\\\\"ASKR1716000\\\\\",\\\\\"displayName\\\\\":\\\\\"태안군\\\\\",\\\\\"items\\\\\":[],\\\\\"type\\\\\":\\\\\"area\\\\\",\\\\\"tagDisplayName\\\\\":\\\\\"충남\\\\u003e태안군\\\\\"},{\\\\\"code\\\\\":\\\\\"O150\\\\\",\\\\\"parentCode\\\\\":\\\\\"O000\\\\\",\\\\\"originName\\\\\":\\\\\"홍성군\\\\\",\\\\\"originCode\\\\\":\\\\\"ASKR1717000\\\\\",\\\\\"displayName\\\\\":\\\\\"홍성군\\\\\",\\\\\"items\\\\\":[],\\\\\"type\\\\\":\\\\\"area\\\\\",\\\\\"tagDisplayName\\\\\":\\\\\"충남\\\\u003e홍성군\\\\\"},{\\\\\"code\\\\\":\\\\\"O160\\\\\",\\\\\"parentCode\\\\\":\\\\\"O000\\\\\",\\\\\"originName\\\\\":\\\\\"계룡시\\\\\",\\\\\"originCode\\\\\":\\\\\"ASKR1702000\\\\\",\\\\\"displayName\\\\\":\\\\\"계룡시\\\\\",\\\\\"items\\\\\":[],\\\\\"type\\\\\":\\\\\"area\\\\\",\\\\\"tagDisplayName\\\\\":\\\\\"충남\\\\u003e계룡시\\\\\"},{\\\\\"code\\\\\":\\\\\"P000\\\\\",\\\\\"parentCode\\\\\":\\\\\"\\\\\",\\\\\"originName\\\\\":\\\\\"충청북도\\\\\",\\\\\"originCode\\\\\":\\\\\"ASKR1800000\\\\\",\\\\\"displayName\\\\\":\\\\\"충북\\\\\",\\\\\"items\\\\\":[],\\\\\"type\\\\\":\\\\\"area\\\\\",\\\\\"tagDisplayName\\\\\":\\\\\"충북\\\\\"},{\\\\\"code\\\\\":\\\\\"P000_\\\\\",\\\\\"parentCode\\\\\":\\\\\"P000\\\\\",\\\\\"originName\\\\\":\\\\\"충북 전지역\\\\\",\\\\\"originCode\\\\\":\\\\\"ASKR1801000\\\\\",\\\\\"displayName\\\\\":\\\\\"전지역\\\\\",\\\\\"items\\\\\":[],\\\\\"type\\\\\":\\\\\"area\\\\\",\\\\\"tagDisplayName\\\\\":\\\\\"충북\\\\u003e전지역\\\\\"},{\\\\\"code\\\\\":\\\\\"P010\\\\\",\\\\\"parentCode\\\\\":\\\\\"P000\\\\\",\\\\\"originName\\\\\":\\\\\"괴산군\\\\\",\\\\\"originCode\\\\\":\\\\\"ASKR1802000\\\\\",\\\\\"displayName\\\\\":\\\\\"괴산군\\\\\",\\\\\"items\\\\\":[],\\\\\"type\\\\\":\\\\\"area\\\\\",\\\\\"tagDisplayName\\\\\":\\\\\"충북\\\\u003e괴산군\\\\\"},{\\\\\"code\\\\\":\\\\\"P020\\\\\",\\\\\"parentCode\\\\\":\\\\\"P000\\\\\",\\\\\"originName\\\\\":\\\\\"단양군\\\\\",\\\\\"originCode\\\\\":\\\\\"ASKR1803000\\\\\",\\\\\"displayName\\\\\":\\\\\"단양군\\\\\",\\\\\"items\\\\\":[],\\\\\"type\\\\\":\\\\\"area\\\\\",\\\\\"tagDisplayName\\\\\":\\\\\"충북\\\\u003e단양군\\\\\"},{\\\\\"code\\\\\":\\\\\"P030\\\\\",\\\\\"parentCode\\\\\":\\\\\"P000\\\\\",\\\\\"originName\\\\\":\\\\\"보은군\\\\\",\\\\\"originCode\\\\\":\\\\\"ASKR1804000\\\\\",\\\\\"displayName\\\\\":\\\\\"보은군\\\\\",\\\\\"items\\\\\":[],\\\\\"type\\\\\":\\\\\"area\\\\\",\\\\\"tagDisplayName\\\\\":\\\\\"충북\\\\u003e보은군\\\\\"},{\\\\\"code\\\\\":\\\\\"P040\\\\\",\\\\\"parentCode\\\\\":\\\\\"P000\\\\\",\\\\\"originName\\\\\":\\\\\"영동군\\\\\",\\\\\"originCode\\\\\":\\\\\"ASKR1805000\\\\\",\\\\\"displayName\\\\\":\\\\\"영동군\\\\\",\\\\\"items\\\\\":[],\\\\\"type\\\\\":\\\\\"area\\\\\",\\\\\"tagDisplayName\\\\\":\\\\\"충북\\\\u003e영동군\\\\\"},{\\\\\"code\\\\\":\\\\\"P050\\\\\",\\\\\"parentCode\\\\\":\\\\\"P000\\\\\",\\\\\"originName\\\\\":\\\\\"옥천군\\\\\",\\\\\"originCode\\\\\":\\\\\"ASKR1806000\\\\\",\\\\\"displayName\\\\\":\\\\\"옥천군\\\\\",\\\\\"items\\\\\":[],\\\\\"type\\\\\":\\\\\"area\\\\\",\\\\\"tagDisplayName\\\\\":\\\\\"충북\\\\u003e옥천군\\\\\"},{\\\\\"code\\\\\":\\\\\"P060\\\\\",\\\\\"parentCode\\\\\":\\\\\"P000\\\\\",\\\\\"originName\\\\\":\\\\\"음성군\\\\\",\\\\\"originCode\\\\\":\\\\\"ASKR1807000\\\\\",\\\\\"displayName\\\\\":\\\\\"음성군\\\\\",\\\\\"items\\\\\":[],\\\\\"type\\\\\":\\\\\"area\\\\\",\\\\\"tagDisplayName\\\\\":\\\\\"충북\\\\u003e음성군\\\\\"},{\\\\\"code\\\\\":\\\\\"P070\\\\\",\\\\\"parentCode\\\\\":\\\\\"P000\\\\\",\\\\\"originName\\\\\":\\\\\"제천시\\\\\",\\\\\"originCode\\\\\":\\\\\"ASKR1808000\\\\\",\\\\\"displayName\\\\\":\\\\\"제천시\\\\\",\\\\\"items\\\\\":[],\\\\\"type\\\\\":\\\\\"area\\\\\",\\\\\"tagDisplayName\\\\\":\\\\\"충북\\\\u003e제천시\\\\\"},{\\\\\"code\\\\\":\\\\\"P080\\\\\",\\\\\"parentCode\\\\\":\\\\\"P000\\\\\",\\\\\"originName\\\\\":\\\\\"진천군\\\\\",\\\\\"originCode\\\\\":\\\\\"ASKR1810000\\\\\",\\\\\"displayName\\\\\":\\\\\"진천군\\\\\",\\\\\"items\\\\\":[],\\\\\"type\\\\\":\\\\\"area\\\\\",\\\\\"tagDisplayName\\\\\":\\\\\"충북\\\\u003e진천군\\\\\"},{\\\\\"code\\\\\":\\\\\"P090\\\\\",\\\\\"parentCode\\\\\":\\\\\"P000\\\\\",\\\\\"originName\\\\\":\\\\\"청주시 청원구\\\\\",\\\\\"originCode\\\\\":\\\\\"ASKR1813000\\\\\",\\\\\"displayName\\\\\":\\\\\"청주시 청원구\\\\\",\\\\\"items\\\\\":[],\\\\\"type\\\\\":\\\\\"area\\\\\",\\\\\"tagDisplayName\\\\\":\\\\\"충북\\\\u003e청주시 청원구\\\\\"},{\\\\\"code\\\\\":\\\\\"P100\\\\\",\\\\\"parentCode\\\\\":\\\\\"P000\\\\\",\\\\\"originName\\\\\":\\\\\"청주시 상당구\\\\\",\\\\\"originCode\\\\\":\\\\\"ASKR1811000\\\\\",\\\\\"displayName\\\\\":\\\\\"청주시 상당구\\\\\",\\\\\"items\\\\\":[],\\\\\"type\\\\\":\\\\\"area\\\\\",\\\\\"tagDisplayName\\\\\":\\\\\"충북\\\\u003e청주시 상당구\\\\\"},{\\\\\"code\\\\\":\\\\\"P101\\\\\",\\\\\"parentCode\\\\\":\\\\\"P000\\\\\",\\\\\"originName\\\\\":\\\\\"청주시 서원구\\\\\",\\\\\"originCode\\\\\":\\\\\"ASKR1812000\\\\\",\\\\\"displayName\\\\\":\\\\\"청주시 서원구\\\\\",\\\\\"items\\\\\":[],\\\\\"type\\\\\":\\\\\"area\\\\\",\\\\\"tagDisplayName\\\\\":\\\\\"충북\\\\u003e청주시 서원구\\\\\"},{\\\\\"code\\\\\":\\\\\"P110\\\\\",\\\\\"parentCode\\\\\":\\\\\"P000\\\\\",\\\\\"originName\\\\\":\\\\\"청주시 흥덕구\\\\\",\\\\\"originCode\\\\\":\\\\\"ASKR1814000\\\\\",\\\\\"displayName\\\\\":\\\\\"청주시 흥덕구\\\\\",\\\\\"items\\\\\":[],\\\\\"type\\\\\":\\\\\"area\\\\\",\\\\\"tagDisplayName\\\\\":\\\\\"충북\\\\u003e청주시 흥덕구\\\\\"},{\\\\\"code\\\\\":\\\\\"P120\\\\\",\\\\\"parentCode\\\\\":\\\\\"P000\\\\\",\\\\\"originName\\\\\":\\\\\"충주시\\\\\",\\\\\"originCode\\\\\":\\\\\"ASKR1815000\\\\\",\\\\\"displayName\\\\\":\\\\\"충주시\\\\\",\\\\\"items\\\\\":[],\\\\\"type\\\\\":\\\\\"area\\\\\",\\\\\"tagDisplayName\\\\\":\\\\\"충북\\\\u003e충주시\\\\\"},{\\\\\"code\\\\\":\\\\\"P130\\\\\",\\\\\"parentCode\\\\\":\\\\\"P000\\\\\",\\\\\"originName\\\\\":\\\\\"증평군\\\\\",\\\\\"originCode\\\\\":\\\\\"ASKR1809000\\\\\",\\\\\"displayName\\\\\":\\\\\"증평군\\\\\",\\\\\"items\\\\\":[],\\\\\"type\\\\\":\\\\\"area\\\\\",\\\\\"tagDisplayName\\\\\":\\\\\"충북\\\\u003e증평군\\\\\"},{\\\\\"code\\\\\":\\\\\"E000\\\\\",\\\\\"parentCode\\\\\":\\\\\"\\\\\",\\\\\"originName\\\\\":\\\\\"광주광역시\\\\\",\\\\\"originCode\\\\\":\\\\\"ASKR0600000\\\\\",\\\\\"displayName\\\\\":\\\\\"광주\\\\\",\\\\\"items\\\\\":[],\\\\\"type\\\\\":\\\\\"area\\\\\",\\\\\"tagDisplayName\\\\\":\\\\\"광주\\\\\"},{\\\\\"code\\\\\":\\\\\"E000_\\\\\",\\\\\"parentCode\\\\\":\\\\\"E000\\\\\",\\\\\"originName\\\\\":\\\\\"광주 전지역\\\\\",\\\\\"originCode\\\\\":\\\\\"ASKR0601000\\\\\",\\\\\"displayName\\\\\":\\\\\"전지역\\\\\",\\\\\"items\\\\\":[],\\\\\"type\\\\\":\\\\\"area\\\\\",\\\\\"tagDisplayName\\\\\":\\\\\"광주\\\\u003e전지역\\\\\"},{\\\\\"code\\\\\":\\\\\"E010\\\\\",\\\\\"parentCode\\\\\":\\\\\"E000\\\\\",\\\\\"originName\\\\\":\\\\\"광산구\\\\\",\\\\\"originCode\\\\\":\\\\\"ASKR0602000\\\\\",\\\\\"displayName\\\\\":\\\\\"광산구\\\\\",\\\\\"items\\\\\":[],\\\\\"type\\\\\":\\\\\"area\\\\\",\\\\\"tagDisplayName\\\\\":\\\\\"광주\\\\u003e광산구\\\\\"},{\\\\\"code\\\\\":\\\\\"E020\\\\\",\\\\\"parentCode\\\\\":\\\\\"E000\\\\\",\\\\\"originName\\\\\":\\\\\"남구\\\\\",\\\\\"originCode\\\\\":\\\\\"ASKR0603000\\\\\",\\\\\"displayName\\\\\":\\\\\"남구\\\\\",\\\\\"items\\\\\":[],\\\\\"type\\\\\":\\\\\"area\\\\\",\\\\\"tagDisplayName\\\\\":\\\\\"광주\\\\u003e남구\\\\\"},{\\\\\"code\\\\\":\\\\\"E030\\\\\",\\\\\"parentCode\\\\\":\\\\\"E000\\\\\",\\\\\"originName\\\\\":\\\\\"동구\\\\\",\\\\\"originCode\\\\\":\\\\\"ASKR0604000\\\\\",\\\\\"displayName\\\\\":\\\\\"동구\\\\\",\\\\\"items\\\\\":[],\\\\\"type\\\\\":\\\\\"area\\\\\",\\\\\"tagDisplayName\\\\\":\\\\\"광주\\\\u003e동구\\\\\"},{\\\\\"code\\\\\":\\\\\"E040\\\\\",\\\\\"parentCode\\\\\":\\\\\"E000\\\\\",\\\\\"originName\\\\\":\\\\\"북구\\\\\",\\\\\"originCode\\\\\":\\\\\"ASKR0605000\\\\\",\\\\\"displayName\\\\\":\\\\\"북구\\\\\",\\\\\"items\\\\\":[],\\\\\"type\\\\\":\\\\\"area\\\\\",\\\\\"tagDisplayName\\\\\":\\\\\"광주\\\\u003e북구\\\\\"},{\\\\\"code\\\\\":\\\\\"E050\\\\\",\\\\\"parentCode\\\\\":\\\\\"E000\\\\\",\\\\\"originName\\\\\":\\\\\"서구\\\\\",\\\\\"originCode\\\\\":\\\\\"ASKR0606000\\\\\",\\\\\"displayName\\\\\":\\\\\"서구\\\\\",\\\\\"items\\\\\":[],\\\\\"type\\\\\":\\\\\"area\\\\\",\\\\\"tagDisplayName\\\\\":\\\\\"광주\\\\u003e서구\\\\\"},{\\\\\"code\\\\\":\\\\\"L000\\\\\",\\\\\"parentCode\\\\\":\\\\\"\\\\\",\\\\\"originName\\\\\":\\\\\"전라남도\\\\\",\\\\\"originCode\\\\\":\\\\\"ASKR1400000\\\\\",\\\\\"displayName\\\\\":\\\\\"전남\\\\\",\\\\\"items\\\\\":[],\\\\\"type\\\\\":\\\\\"area\\\\\",\\\\\"tagDisplayName\\\\\":\\\\\"전남\\\\\"},{\\\\\"code\\\\\":\\\\\"L000_\\\\\",\\\\\"parentCode\\\\\":\\\\\"L000\\\\\",\\\\\"originName\\\\\":\\\\\"전남 전지역\\\\\",\\\\\"originCode\\\\\":\\\\\"ASKR1401000\\\\\",\\\\\"displayName\\\\\":\\\\\"전지역\\\\\",\\\\\"items\\\\\":[],\\\\\"type\\\\\":\\\\\"area\\\\\",\\\\\"tagDisplayName\\\\\":\\\\\"전남\\\\u003e전지역\\\\\"},{\\\\\"code\\\\\":\\\\\"L010\\\\\",\\\\\"parentCode\\\\\":\\\\\"L000\\\\\",\\\\\"originName\\\\\":\\\\\"강진군\\\\\",\\\\\"originCode\\\\\":\\\\\"ASKR1402000\\\\\",\\\\\"displayName\\\\\":\\\\\"강진군\\\\\",\\\\\"items\\\\\":[],\\\\\"type\\\\\":\\\\\"area\\\\\",\\\\\"tagDisplayName\\\\\":\\\\\"전남\\\\u003e강진군\\\\\"},{\\\\\"code\\\\\":\\\\\"L020\\\\\",\\\\\"parentCode\\\\\":\\\\\"L000\\\\\",\\\\\"originName\\\\\":\\\\\"고흥군\\\\\",\\\\\"originCode\\\\\":\\\\\"ASKR1403000\\\\\",\\\\\"displayName\\\\\":\\\\\"고흥군\\\\\",\\\\\"items\\\\\":[],\\\\\"type\\\\\":\\\\\"area\\\\\",\\\\\"tagDisplayName\\\\\":\\\\\"전남\\\\u003e고흥군\\\\\"},{\\\\\"code\\\\\":\\\\\"L030\\\\\",\\\\\"parentCode\\\\\":\\\\\"L000\\\\\",\\\\\"originName\\\\\":\\\\\"곡성군\\\\\",\\\\\"originCode\\\\\":\\\\\"ASKR1404000\\\\\",\\\\\"displayName\\\\\":\\\\\"곡성군\\\\\",\\\\\"items\\\\\":[],\\\\\"type\\\\\":\\\\\"area\\\\\",\\\\\"tagDisplayName\\\\\":\\\\\"전남\\\\u003e곡성군\\\\\"},{\\\\\"code\\\\\":\\\\\"L040\\\\\",\\\\\"parentCode\\\\\":\\\\\"L000\\\\\",\\\\\"originName\\\\\":\\\\\"광양시\\\\\",\\\\\"originCode\\\\\":\\\\\"ASKR1405000\\\\\",\\\\\"displayName\\\\\":\\\\\"광양시\\\\\",\\\\\"items\\\\\":[],\\\\\"type\\\\\":\\\\\"area\\\\\",\\\\\"tagDisplayName\\\\\":\\\\\"전남\\\\u003e광양시\\\\\"},{\\\\\"code\\\\\":\\\\\"L050\\\\\",\\\\\"parentCode\\\\\":\\\\\"L000\\\\\",\\\\\"originName\\\\\":\\\\\"구례군\\\\\",\\\\\"originCode\\\\\":\\\\\"ASKR1406000\\\\\",\\\\\"displayName\\\\\":\\\\\"구례군\\\\\",\\\\\"items\\\\\":[],\\\\\"type\\\\\":\\\\\"area\\\\\",\\\\\"tagDisplayName\\\\\":\\\\\"전남\\\\u003e구례군\\\\\"},{\\\\\"code\\\\\":\\\\\"L060\\\\\",\\\\\"parentCode\\\\\":\\\\\"L000\\\\\",\\\\\"originName\\\\\":\\\\\"나주시\\\\\",\\\\\"originCode\\\\\":\\\\\"ASKR1407000\\\\\",\\\\\"displayName\\\\\":\\\\\"나주시\\\\\",\\\\\"items\\\\\":[],\\\\\"type\\\\\":\\\\\"area\\\\\",\\\\\"tagDisplayName\\\\\":\\\\\"전남\\\\u003e나주시\\\\\"},{\\\\\"code\\\\\":\\\\\"L070\\\\\",\\\\\"parentCode\\\\\":\\\\\"L000\\\\\",\\\\\"originName\\\\\":\\\\\"담양군\\\\\",\\\\\"originCode\\\\\":\\\\\"ASKR1408000\\\\\",\\\\\"displayName\\\\\":\\\\\"담양군\\\\\",\\\\\"items\\\\\":[],\\\\\"type\\\\\":\\\\\"area\\\\\",\\\\\"tagDisplayName\\\\\":\\\\\"전남\\\\u003e담양군\\\\\"},{\\\\\"code\\\\\":\\\\\"L080\\\\\",\\\\\"parentCode\\\\\":\\\\\"L000\\\\\",\\\\\"originName\\\\\":\\\\\"목포시\\\\\",\\\\\"originCode\\\\\":\\\\\"ASKR1409000\\\\\",\\\\\"displayName\\\\\":\\\\\"목포시\\\\\",\\\\\"items\\\\\":[],\\\\\"type\\\\\":\\\\\"area\\\\\",\\\\\"tagDisplayName\\\\\":\\\\\"전남\\\\u003e목포시\\\\\"},{\\\\\"code\\\\\":\\\\\"L090\\\\\",\\\\\"parentCode\\\\\":\\\\\"L000\\\\\",\\\\\"originName\\\\\":\\\\\"무안군\\\\\",\\\\\"originCode\\\\\":\\\\\"ASKR1410000\\\\\",\\\\\"displayName\\\\\":\\\\\"무안군\\\\\",\\\\\"items\\\\\":[],\\\\\"type\\\\\":\\\\\"area\\\\\",\\\\\"tagDisplayName\\\\\":\\\\\"전남\\\\u003e무안군\\\\\"},{\\\\\"code\\\\\":\\\\\"L100\\\\\",\\\\\"parentCode\\\\\":\\\\\"L000\\\\\",\\\\\"originName\\\\\":\\\\\"보성군\\\\\",\\\\\"originCode\\\\\":\\\\\"ASKR1411000\\\\\",\\\\\"displayName\\\\\":\\\\\"보성군\\\\\",\\\\\"items\\\\\":[],\\\\\"type\\\\\":\\\\\"area\\\\\",\\\\\"tagDisplayName\\\\\":\\\\\"전남\\\\u003e보성군\\\\\"},{\\\\\"code\\\\\":\\\\\"L110\\\\\",\\\\\"parentCode\\\\\":\\\\\"L000\\\\\",\\\\\"originName\\\\\":\\\\\"순천시\\\\\",\\\\\"originCode\\\\\":\\\\\"ASKR1412000\\\\\",\\\\\"displayName\\\\\":\\\\\"순천시\\\\\",\\\\\"items\\\\\":[],\\\\\"type\\\\\":\\\\\"area\\\\\",\\\\\"tagDisplayName\\\\\":\\\\\"전남\\\\u003e순천시\\\\\"},{\\\\\"code\\\\\":\\\\\"L120\\\\\",\\\\\"parentCode\\\\\":\\\\\"L000\\\\\",\\\\\"originName\\\\\":\\\\\"신안군\\\\\",\\\\\"originCode\\\\\":\\\\\"ASKR1413000\\\\\",\\\\\"displayName\\\\\":\\\\\"신안군\\\\\",\\\\\"items\\\\\":[],\\\\\"type\\\\\":\\\\\"area\\\\\",\\\\\"tagDisplayName\\\\\":\\\\\"전남\\\\u003e신안군\\\\\"},{\\\\\"code\\\\\":\\\\\"L130\\\\\",\\\\\"parentCode\\\\\":\\\\\"L000\\\\\",\\\\\"originName\\\\\":\\\\\"여수시\\\\\",\\\\\"originCode\\\\\":\\\\\"ASKR1414000\\\\\",\\\\\"displayName\\\\\":\\\\\"여수시\\\\\",\\\\\"items\\\\\":[],\\\\\"type\\\\\":\\\\\"area\\\\\",\\\\\"tagDisplayName\\\\\":\\\\\"전남\\\\u003e여수시\\\\\"},{\\\\\"code\\\\\":\\\\\"L140\\\\\",\\\\\"parentCode\\\\\":\\\\\"L000\\\\\",\\\\\"originName\\\\\":\\\\\"영광군\\\\\",\\\\\"originCode\\\\\":\\\\\"ASKR1415000\\\\\",\\\\\"displayName\\\\\":\\\\\"영광군\\\\\",\\\\\"items\\\\\":[],\\\\\"type\\\\\":\\\\\"area\\\\\",\\\\\"tagDisplayName\\\\\":\\\\\"전남\\\\u003e영광군\\\\\"},{\\\\\"code\\\\\":\\\\\"L150\\\\\",\\\\\"parentCode\\\\\":\\\\\"L000\\\\\",\\\\\"originName\\\\\":\\\\\"영암군\\\\\",\\\\\"originCode\\\\\":\\\\\"ASKR1416000\\\\\",\\\\\"displayName\\\\\":\\\\\"영암군\\\\\",\\\\\"items\\\\\":[],\\\\\"type\\\\\":\\\\\"area\\\\\",\\\\\"tagDisplayName\\\\\":\\\\\"전남\\\\u003e영암군\\\\\"},{\\\\\"code\\\\\":\\\\\"L160\\\\\",\\\\\"parentCode\\\\\":\\\\\"L000\\\\\",\\\\\"originName\\\\\":\\\\\"완도군\\\\\",\\\\\"originCode\\\\\":\\\\\"ASKR1417000\\\\\",\\\\\"displayName\\\\\":\\\\\"완도군\\\\\",\\\\\"items\\\\\":[],\\\\\"type\\\\\":\\\\\"area\\\\\",\\\\\"tagDisplayName\\\\\":\\\\\"전남\\\\u003e완도군\\\\\"},{\\\\\"code\\\\\":\\\\\"L170\\\\\",\\\\\"parentCode\\\\\":\\\\\"L000\\\\\",\\\\\"originName\\\\\":\\\\\"장성군\\\\\",\\\\\"originCode\\\\\":\\\\\"ASKR1418000\\\\\",\\\\\"displayName\\\\\":\\\\\"장성군\\\\\",\\\\\"items\\\\\":[],\\\\\"type\\\\\":\\\\\"area\\\\\",\\\\\"tagDisplayName\\\\\":\\\\\"전남\\\\u003e장성군\\\\\"},{\\\\\"code\\\\\":\\\\\"L180\\\\\",\\\\\"parentCode\\\\\":\\\\\"L000\\\\\",\\\\\"originName\\\\\":\\\\\"장흥군\\\\\",\\\\\"originCode\\\\\":\\\\\"ASKR1419000\\\\\",\\\\\"displayName\\\\\":\\\\\"장흥군\\\\\",\\\\\"items\\\\\":[],\\\\\"type\\\\\":\\\\\"area\\\\\",\\\\\"tagDisplayName\\\\\":\\\\\"전남\\\\u003e장흥군\\\\\"},{\\\\\"code\\\\\":\\\\\"L190\\\\\",\\\\\"parentCode\\\\\":\\\\\"L000\\\\\",\\\\\"originName\\\\\":\\\\\"진도군\\\\\",\\\\\"originCode\\\\\":\\\\\"ASKR1420000\\\\\",\\\\\"displayName\\\\\":\\\\\"진도군\\\\\",\\\\\"items\\\\\":[],\\\\\"type\\\\\":\\\\\"area\\\\\",\\\\\"tagDisplayName\\\\\":\\\\\"전남\\\\u003e진도군\\\\\"},{\\\\\"code\\\\\":\\\\\"L200\\\\\",\\\\\"parentCode\\\\\":\\\\\"L000\\\\\",\\\\\"originName\\\\\":\\\\\"함평군\\\\\",\\\\\"originCode\\\\\":\\\\\"ASKR1421000\\\\\",\\\\\"displayName\\\\\":\\\\\"함평군\\\\\",\\\\\"items\\\\\":[],\\\\\"type\\\\\":\\\\\"area\\\\\",\\\\\"tagDisplayName\\\\\":\\\\\"전남\\\\u003e함평군\\\\\"},{\\\\\"code\\\\\":\\\\\"L210\\\\\",\\\\\"parentCode\\\\\":\\\\\"L000\\\\\",\\\\\"originName\\\\\":\\\\\"해남군\\\\\",\\\\\"originCode\\\\\":\\\\\"ASKR1422000\\\\\",\\\\\"displayName\\\\\":\\\\\"해남군\\\\\",\\\\\"items\\\\\":[],\\\\\"type\\\\\":\\\\\"area\\\\\",\\\\\"tagDisplayName\\\\\":\\\\\"전남\\\\u003e해남군\\\\\"},{\\\\\"code\\\\\":\\\\\"L220\\\\\",\\\\\"parentCode\\\\\":\\\\\"L000\\\\\",\\\\\"originName\\\\\":\\\\\"화순군\\\\\",\\\\\"originCode\\\\\":\\\\\"ASKR1423000\\\\\",\\\\\"displayName\\\\\":\\\\\"화순군\\\\\",\\\\\"items\\\\\":[],\\\\\"type\\\\\":\\\\\"area\\\\\",\\\\\"tagDisplayName\\\\\":\\\\\"전남\\\\u003e화순군\\\\\"},{\\\\\"code\\\\\":\\\\\"M000\\\\\",\\\\\"parentCode\\\\\":\\\\\"\\\\\",\\\\\"originName\\\\\":\\\\\"전북특별자치도\\\\\",\\\\\"originCode\\\\\":\\\\\"ASKR1500000\\\\\",\\\\\"displayName\\\\\":\\\\\"전북\\\\\",\\\\\"items\\\\\":[],\\\\\"type\\\\\":\\\\\"area\\\\\",\\\\\"tagDisplayName\\\\\":\\\\\"전북\\\\\"},{\\\\\"code\\\\\":\\\\\"M000_\\\\\",\\\\\"parentCode\\\\\":\\\\\"M000\\\\\",\\\\\"originName\\\\\":\\\\\"전북 전지역\\\\\",\\\\\"originCode\\\\\":\\\\\"ASKR1501000\\\\\",\\\\\"displayName\\\\\":\\\\\"전지역\\\\\",\\\\\"items\\\\\":[],\\\\\"type\\\\\":\\\\\"area\\\\\",\\\\\"tagDisplayName\\\\\":\\\\\"전북\\\\u003e전지역\\\\\"},{\\\\\"code\\\\\":\\\\\"M010\\\\\",\\\\\"parentCode\\\\\":\\\\\"M000\\\\\",\\\\\"originName\\\\\":\\\\\"고창군\\\\\",\\\\\"originCode\\\\\":\\\\\"ASKR1502000\\\\\",\\\\\"displayName\\\\\":\\\\\"고창군\\\\\",\\\\\"items\\\\\":[],\\\\\"type\\\\\":\\\\\"area\\\\\",\\\\\"tagDisplayName\\\\\":\\\\\"전북\\\\u003e고창군\\\\\"},{\\\\\"code\\\\\":\\\\\"M020\\\\\",\\\\\"parentCode\\\\\":\\\\\"M000\\\\\",\\\\\"originName\\\\\":\\\\\"군산시\\\\\",\\\\\"originCode\\\\\":\\\\\"ASKR1503000\\\\\",\\\\\"displayName\\\\\":\\\\\"군산시\\\\\",\\\\\"items\\\\\":[],\\\\\"type\\\\\":\\\\\"area\\\\\",\\\\\"tagDisplayName\\\\\":\\\\\"전북\\\\u003e군산시\\\\\"},{\\\\\"code\\\\\":\\\\\"M030\\\\\",\\\\\"parentCode\\\\\":\\\\\"M000\\\\\",\\\\\"originName\\\\\":\\\\\"김제시\\\\\",\\\\\"originCode\\\\\":\\\\\"ASKR1504000\\\\\",\\\\\"displayName\\\\\":\\\\\"김제시\\\\\",\\\\\"items\\\\\":[],\\\\\"type\\\\\":\\\\\"area\\\\\",\\\\\"tagDisplayName\\\\\":\\\\\"전북\\\\u003e김제시\\\\\"},{\\\\\"code\\\\\":\\\\\"M040\\\\\",\\\\\"parentCode\\\\\":\\\\\"M000\\\\\",\\\\\"originName\\\\\":\\\\\"남원시\\\\\",\\\\\"originCode\\\\\":\\\\\"ASKR1505000\\\\\",\\\\\"displayName\\\\\":\\\\\"남원시\\\\\",\\\\\"items\\\\\":[],\\\\\"type\\\\\":\\\\\"area\\\\\",\\\\\"tagDisplayName\\\\\":\\\\\"전북\\\\u003e남원시\\\\\"},{\\\\\"code\\\\\":\\\\\"M050\\\\\",\\\\\"parentCode\\\\\":\\\\\"M000\\\\\",\\\\\"originName\\\\\":\\\\\"무주군\\\\\",\\\\\"originCode\\\\\":\\\\\"ASKR1506000\\\\\",\\\\\"displayName\\\\\":\\\\\"무주군\\\\\",\\\\\"items\\\\\":[],\\\\\"type\\\\\":\\\\\"area\\\\\",\\\\\"tagDisplayName\\\\\":\\\\\"전북\\\\u003e무주군\\\\\"},{\\\\\"code\\\\\":\\\\\"M060\\\\\",\\\\\"parentCode\\\\\":\\\\\"M000\\\\\",\\\\\"originName\\\\\":\\\\\"부안군\\\\\",\\\\\"originCode\\\\\":\\\\\"ASKR1507000\\\\\",\\\\\"displayName\\\\\":\\\\\"부안군\\\\\",\\\\\"items\\\\\":[],\\\\\"type\\\\\":\\\\\"area\\\\\",\\\\\"tagDisplayName\\\\\":\\\\\"전북\\\\u003e부안군\\\\\"},{\\\\\"code\\\\\":\\\\\"M070\\\\\",\\\\\"parentCode\\\\\":\\\\\"M000\\\\\",\\\\\"originName\\\\\":\\\\\"순창군\\\\\",\\\\\"originCode\\\\\":\\\\\"ASKR1508000\\\\\",\\\\\"displayName\\\\\":\\\\\"순창군\\\\\",\\\\\"items\\\\\":[],\\\\\"type\\\\\":\\\\\"area\\\\\",\\\\\"tagDisplayName\\\\\":\\\\\"전북\\\\u003e순창군\\\\\"},{\\\\\"code\\\\\":\\\\\"M080\\\\\",\\\\\"parentCode\\\\\":\\\\\"M000\\\\\",\\\\\"originName\\\\\":\\\\\"완주군\\\\\",\\\\\"originCode\\\\\":\\\\\"ASKR1509000\\\\\",\\\\\"displayName\\\\\":\\\\\"완주군\\\\\",\\\\\"items\\\\\":[],\\\\\"type\\\\\":\\\\\"area\\\\\",\\\\\"tagDisplayName\\\\\":\\\\\"전북\\\\u003e완주군\\\\\"},{\\\\\"code\\\\\":\\\\\"M090\\\\\",\\\\\"parentCode\\\\\":\\\\\"M000\\\\\",\\\\\"originName\\\\\":\\\\\"익산시\\\\\",\\\\\"originCode\\\\\":\\\\\"ASKR1510000\\\\\",\\\\\"displayName\\\\\":\\\\\"익산시\\\\\",\\\\\"items\\\\\":[],\\\\\"type\\\\\":\\\\\"area\\\\\",\\\\\"tagDisplayName\\\\\":\\\\\"전북\\\\u003e익산시\\\\\"},{\\\\\"code\\\\\":\\\\\"M100\\\\\",\\\\\"parentCode\\\\\":\\\\\"M000\\\\\",\\\\\"originName\\\\\":\\\\\"임실군\\\\\",\\\\\"originCode\\\\\":\\\\\"ASKR1511000\\\\\",\\\\\"displayName\\\\\":\\\\\"임실군\\\\\",\\\\\"items\\\\\":[],\\\\\"type\\\\\":\\\\\"area\\\\\",\\\\\"tagDisplayName\\\\\":\\\\\"전북\\\\u003e임실군\\\\\"},{\\\\\"code\\\\\":\\\\\"M110\\\\\",\\\\\"parentCode\\\\\":\\\\\"M000\\\\\",\\\\\"originName\\\\\":\\\\\"장수군\\\\\",\\\\\"originCode\\\\\":\\\\\"ASKR1512000\\\\\",\\\\\"displayName\\\\\":\\\\\"장수군\\\\\",\\\\\"items\\\\\":[],\\\\\"type\\\\\":\\\\\"area\\\\\",\\\\\"tagDisplayName\\\\\":\\\\\"전북\\\\u003e장수군\\\\\"},{\\\\\"code\\\\\":\\\\\"M120\\\\\",\\\\\"parentCode\\\\\":\\\\\"M000\\\\\",\\\\\"originName\\\\\":\\\\\"전주시 덕진구\\\\\",\\\\\"originCode\\\\\":\\\\\"ASKR1513000\\\\\",\\\\\"displayName\\\\\":\\\\\"전주시 덕진구\\\\\",\\\\\"items\\\\\":[],\\\\\"type\\\\\":\\\\\"area\\\\\",\\\\\"tagDisplayName\\\\\":\\\\\"전북\\\\u003e전주시 덕진구\\\\\"},{\\\\\"code\\\\\":\\\\\"M130\\\\\",\\\\\"parentCode\\\\\":\\\\\"M000\\\\\",\\\\\"originName\\\\\":\\\\\"전주시 완산구\\\\\",\\\\\"originCode\\\\\":\\\\\"ASKR1514000\\\\\",\\\\\"displayName\\\\\":\\\\\"전주시 완산구\\\\\",\\\\\"items\\\\\":[],\\\\\"type\\\\\":\\\\\"area\\\\\",\\\\\"tagDisplayName\\\\\":\\\\\"전북\\\\u003e전주시 완산구\\\\\"},{\\\\\"code\\\\\":\\\\\"M140\\\\\",\\\\\"parentCode\\\\\":\\\\\"M000\\\\\",\\\\\"originName\\\\\":\\\\\"정읍시\\\\\",\\\\\"originCode\\\\\":\\\\\"ASKR1515000\\\\\",\\\\\"displayName\\\\\":\\\\\"정읍시\\\\\",\\\\\"items\\\\\":[],\\\\\"type\\\\\":\\\\\"area\\\\\",\\\\\"tagDisplayName\\\\\":\\\\\"전북\\\\u003e정읍시\\\\\"},{\\\\\"code\\\\\":\\\\\"M150\\\\\",\\\\\"parentCode\\\\\":\\\\\"M000\\\\\",\\\\\"originName\\\\\":\\\\\"진안군\\\\\",\\\\\"originCode\\\\\":\\\\\"ASKR1516000\\\\\",\\\\\"displayName\\\\\":\\\\\"진안군\\\\\",\\\\\"items\\\\\":[],\\\\\"type\\\\\":\\\\\"area\\\\\",\\\\\"tagDisplayName\\\\\":\\\\\"전북\\\\u003e진안군\\\\\"},{\\\\\"code\\\\\":\\\\\"F000\\\\\",\\\\\"parentCode\\\\\":\\\\\"\\\\\",\\\\\"originName\\\\\":\\\\\"대구광역시\\\\\",\\\\\"originCode\\\\\":\\\\\"ASKR0700000\\\\\",\\\\\"displayName\\\\\":\\\\\"대구\\\\\",\\\\\"items\\\\\":[],\\\\\"type\\\\\":\\\\\"area\\\\\",\\\\\"tagDisplayName\\\\\":\\\\\"대구\\\\\"},{\\\\\"code\\\\\":\\\\\"F000_\\\\\",\\\\\"parentCode\\\\\":\\\\\"F000\\\\\",\\\\\"originName\\\\\":\\\\\"대구 전지역\\\\\",\\\\\"originCode\\\\\":\\\\\"ASKR0701000\\\\\",\\\\\"displayName\\\\\":\\\\\"전지역\\\\\",\\\\\"items\\\\\":[],\\\\\"type\\\\\":\\\\\"area\\\\\",\\\\\"tagDisplayName\\\\\":\\\\\"대구\\\\u003e전지역\\\\\"},{\\\\\"code\\\\\":\\\\\"F090\\\\\",\\\\\"parentCode\\\\\":\\\\\"F000\\\\\",\\\\\"originName\\\\\":\\\\\"군위군\\\\\",\\\\\"originCode\\\\\":\\\\\"ASKR0702000\\\\\",\\\\\"displayName\\\\\":\\\\\"군위군\\\\\",\\\\\"items\\\\\":[],\\\\\"type\\\\\":\\\\\"area\\\\\",\\\\\"tagDisplayName\\\\\":\\\\\"대구\\\\u003e군위군\\\\\"},{\\\\\"code\\\\\":\\\\\"F010\\\\\",\\\\\"parentCode\\\\\":\\\\\"F000\\\\\",\\\\\"originName\\\\\":\\\\\"남구\\\\\",\\\\\"originCode\\\\\":\\\\\"ASKR0703000\\\\\",\\\\\"displayName\\\\\":\\\\\"남구\\\\\",\\\\\"items\\\\\":[],\\\\\"type\\\\\":\\\\\"area\\\\\",\\\\\"tagDisplayName\\\\\":\\\\\"대구\\\\u003e남구\\\\\"},{\\\\\"code\\\\\":\\\\\"F020\\\\\",\\\\\"parentCode\\\\\":\\\\\"F000\\\\\",\\\\\"originName\\\\\":\\\\\"달서구\\\\\",\\\\\"originCode\\\\\":\\\\\"ASKR0704000\\\\\",\\\\\"displayName\\\\\":\\\\\"달서구\\\\\",\\\\\"items\\\\\":[],\\\\\"type\\\\\":\\\\\"area\\\\\",\\\\\"tagDisplayName\\\\\":\\\\\"대구\\\\u003e달서구\\\\\"},{\\\\\"code\\\\\":\\\\\"F030\\\\\",\\\\\"parentCode\\\\\":\\\\\"F000\\\\\",\\\\\"originName\\\\\":\\\\\"달성군\\\\\",\\\\\"originCode\\\\\":\\\\\"ASKR0705000\\\\\",\\\\\"displayName\\\\\":\\\\\"달성군\\\\\",\\\\\"items\\\\\":[],\\\\\"type\\\\\":\\\\\"area\\\\\",\\\\\"tagDisplayName\\\\\":\\\\\"대구\\\\u003e달성군\\\\\"},{\\\\\"code\\\\\":\\\\\"F040\\\\\",\\\\\"parentCode\\\\\":\\\\\"F000\\\\\",\\\\\"originName\\\\\":\\\\\"동구\\\\\",\\\\\"originCode\\\\\":\\\\\"ASKR0706000\\\\\",\\\\\"displayName\\\\\":\\\\\"동구\\\\\",\\\\\"items\\\\\":[],\\\\\"type\\\\\":\\\\\"area\\\\\",\\\\\"tagDisplayName\\\\\":\\\\\"대구\\\\u003e동구\\\\\"},{\\\\\"code\\\\\":\\\\\"F050\\\\\",\\\\\"parentCode\\\\\":\\\\\"F000\\\\\",\\\\\"originName\\\\\":\\\\\"북구\\\\\",\\\\\"originCode\\\\\":\\\\\"ASKR0707000\\\\\",\\\\\"displayName\\\\\":\\\\\"북구\\\\\",\\\\\"items\\\\\":[],\\\\\"type\\\\\":\\\\\"area\\\\\",\\\\\"tagDisplayName\\\\\":\\\\\"대구\\\\u003e북구\\\\\"},{\\\\\"code\\\\\":\\\\\"F060\\\\\",\\\\\"parentCode\\\\\":\\\\\"F000\\\\\",\\\\\"originName\\\\\":\\\\\"서구\\\\\",\\\\\"originCode\\\\\":\\\\\"ASKR0708000\\\\\",\\\\\"displayName\\\\\":\\\\\"서구\\\\\",\\\\\"items\\\\\":[],\\\\\"type\\\\\":\\\\\"area\\\\\",\\\\\"tagDisplayName\\\\\":\\\\\"대구\\\\u003e서구\\\\\"},{\\\\\"code\\\\\":\\\\\"F070\\\\\",\\\\\"parentCode\\\\\":\\\\\"F000\\\\\",\\\\\"originName\\\\\":\\\\\"수성구\\\\\",\\\\\"originCode\\\\\":\\\\\"ASKR0709000\\\\\",\\\\\"displayName\\\\\":\\\\\"수성구\\\\\",\\\\\"items\\\\\":[],\\\\\"type\\\\\":\\\\\"area\\\\\",\\\\\"tagDisplayName\\\\\":\\\\\"대구\\\\u003e수성구\\\\\"},{\\\\\"code\\\\\":\\\\\"F080\\\\\",\\\\\"parentCode\\\\\":\\\\\"F000\\\\\",\\\\\"originName\\\\\":\\\\\"중구\\\\\",\\\\\"originCode\\\\\":\\\\\"ASKR0710000\\\\\",\\\\\"displayName\\\\\":\\\\\"중구\\\\\",\\\\\"items\\\\\":[],\\\\\"type\\\\\":\\\\\"area\\\\\",\\\\\"tagDisplayName\\\\\":\\\\\"대구\\\\u003e중구\\\\\"},{\\\\\"code\\\\\":\\\\\"D000\\\\\",\\\\\"parentCode\\\\\":\\\\\"\\\\\",\\\\\"originName\\\\\":\\\\\"경상북도\\\\\",\\\\\"originCode\\\\\":\\\\\"ASKR0500000\\\\\",\\\\\"displayName\\\\\":\\\\\"경북\\\\\",\\\\\"items\\\\\":[],\\\\\"type\\\\\":\\\\\"area\\\\\",\\\\\"tagDisplayName\\\\\":\\\\\"경북\\\\\"},{\\\\\"code\\\\\":\\\\\"D000_\\\\\",\\\\\"parentCode\\\\\":\\\\\"D000\\\\\",\\\\\"originName\\\\\":\\\\\"경북 전지역\\\\\",\\\\\"originCode\\\\\":\\\\\"ASKR0501000\\\\\",\\\\\"displayName\\\\\":\\\\\"전지역\\\\\",\\\\\"items\\\\\":[],\\\\\"type\\\\\":\\\\\"area\\\\\",\\\\\"tagDisplayName\\\\\":\\\\\"경북\\\\u003e전지역\\\\\"},{\\\\\"code\\\\\":\\\\\"D010\\\\\",\\\\\"parentCode\\\\\":\\\\\"D000\\\\\",\\\\\"originName\\\\\":\\\\\"경산시\\\\\",\\\\\"originCode\\\\\":\\\\\"ASKR0502000\\\\\",\\\\\"displayName\\\\\":\\\\\"경산시\\\\\",\\\\\"items\\\\\":[],\\\\\"type\\\\\":\\\\\"area\\\\\",\\\\\"tagDisplayName\\\\\":\\\\\"경북\\\\u003e경산시\\\\\"},{\\\\\"code\\\\\":\\\\\"D020\\\\\",\\\\\"parentCode\\\\\":\\\\\"D000\\\\\",\\\\\"originName\\\\\":\\\\\"경주시\\\\\",\\\\\"originCode\\\\\":\\\\\"ASKR0503000\\\\\",\\\\\"displayName\\\\\":\\\\\"경주시\\\\\",\\\\\"items\\\\\":[],\\\\\"type\\\\\":\\\\\"area\\\\\",\\\\\"tagDisplayName\\\\\":\\\\\"경북\\\\u003e경주시\\\\\"},{\\\\\"code\\\\\":\\\\\"D030\\\\\",\\\\\"parentCode\\\\\":\\\\\"D000\\\\\",\\\\\"originName\\\\\":\\\\\"고령군\\\\\",\\\\\"originCode\\\\\":\\\\\"ASKR0504000\\\\\",\\\\\"displayName\\\\\":\\\\\"고령군\\\\\",\\\\\"items\\\\\":[],\\\\\"type\\\\\":\\\\\"area\\\\\",\\\\\"tagDisplayName\\\\\":\\\\\"경북\\\\u003e고령군\\\\\"},{\\\\\"code\\\\\":\\\\\"D040\\\\\",\\\\\"parentCode\\\\\":\\\\\"D000\\\\\",\\\\\"originName\\\\\":\\\\\"구미시\\\\\",\\\\\"originCode\\\\\":\\\\\"ASKR0505000\\\\\",\\\\\"displayName\\\\\":\\\\\"구미시\\\\\",\\\\\"items\\\\\":[],\\\\\"type\\\\\":\\\\\"area\\\\\",\\\\\"tagDisplayName\\\\\":\\\\\"경북\\\\u003e구미시\\\\\"},{\\\\\"code\\\\\":\\\\\"D060\\\\\",\\\\\"parentCode\\\\\":\\\\\"D000\\\\\",\\\\\"originName\\\\\":\\\\\"김천시\\\\\",\\\\\"originCode\\\\\":\\\\\"ASKR0506000\\\\\",\\\\\"displayName\\\\\":\\\\\"김천시\\\\\",\\\\\"items\\\\\":[],\\\\\"type\\\\\":\\\\\"area\\\\\",\\\\\"tagDisplayName\\\\\":\\\\\"경북\\\\u003e김천시\\\\\"},{\\\\\"code\\\\\":\\\\\"D070\\\\\",\\\\\"parentCode\\\\\":\\\\\"D000\\\\\",\\\\\"originName\\\\\":\\\\\"문경시\\\\\",\\\\\"originCode\\\\\":\\\\\"ASKR0507000\\\\\",\\\\\"displayName\\\\\":\\\\\"문경시\\\\\",\\\\\"items\\\\\":[],\\\\\"type\\\\\":\\\\\"area\\\\\",\\\\\"tagDisplayName\\\\\":\\\\\"경북\\\\u003e문경시\\\\\"},{\\\\\"code\\\\\":\\\\\"D080\\\\\",\\\\\"parentCode\\\\\":\\\\\"D000\\\\\",\\\\\"originName\\\\\":\\\\\"봉화군\\\\\",\\\\\"originCode\\\\\":\\\\\"ASKR0508000\\\\\",\\\\\"displayName\\\\\":\\\\\"봉화군\\\\\",\\\\\"items\\\\\":[],\\\\\"type\\\\\":\\\\\"area\\\\\",\\\\\"tagDisplayName\\\\\":\\\\\"경북\\\\u003e봉화군\\\\\"},{\\\\\"code\\\\\":\\\\\"D090\\\\\",\\\\\"parentCode\\\\\":\\\\\"D000\\\\\",\\\\\"originName\\\\\":\\\\\"상주시\\\\\",\\\\\"originCode\\\\\":\\\\\"ASKR0509000\\\\\",\\\\\"displayName\\\\\":\\\\\"상주시\\\\\",\\\\\"items\\\\\":[],\\\\\"type\\\\\":\\\\\"area\\\\\",\\\\\"tagDisplayName\\\\\":\\\\\"경북\\\\u003e상주시\\\\\"},{\\\\\"code\\\\\":\\\\\"D100\\\\\",\\\\\"parentCode\\\\\":\\\\\"D000\\\\\",\\\\\"originName\\\\\":\\\\\"성주군\\\\\",\\\\\"originCode\\\\\":\\\\\"ASKR0510000\\\\\",\\\\\"displayName\\\\\":\\\\\"성주군\\\\\",\\\\\"items\\\\\":[],\\\\\"type\\\\\":\\\\\"area\\\\\",\\\\\"tagDisplayName\\\\\":\\\\\"경북\\\\u003e성주군\\\\\"},{\\\\\"code\\\\\":\\\\\"D110\\\\\",\\\\\"parentCode\\\\\":\\\\\"D000\\\\\",\\\\\"originName\\\\\":\\\\\"안동시\\\\\",\\\\\"originCode\\\\\":\\\\\"ASKR0511000\\\\\",\\\\\"displayName\\\\\":\\\\\"안동시\\\\\",\\\\\"items\\\\\":[],\\\\\"type\\\\\":\\\\\"area\\\\\",\\\\\"tagDisplayName\\\\\":\\\\\"경북\\\\u003e안동시\\\\\"},{\\\\\"code\\\\\":\\\\\"D120\\\\\",\\\\\"parentCode\\\\\":\\\\\"D000\\\\\",\\\\\"originName\\\\\":\\\\\"영덕군\\\\\",\\\\\"originCode\\\\\":\\\\\"ASKR0512000\\\\\",\\\\\"displayName\\\\\":\\\\\"영덕군\\\\\",\\\\\"items\\\\\":[],\\\\\"type\\\\\":\\\\\"area\\\\\",\\\\\"tagDisplayName\\\\\":\\\\\"경북\\\\u003e영덕군\\\\\"},{\\\\\"code\\\\\":\\\\\"D130\\\\\",\\\\\"parentCode\\\\\":\\\\\"D000\\\\\",\\\\\"originName\\\\\":\\\\\"영양군\\\\\",\\\\\"originCode\\\\\":\\\\\"ASKR0513000\\\\\",\\\\\"displayName\\\\\":\\\\\"영양군\\\\\",\\\\\"items\\\\\":[],\\\\\"type\\\\\":\\\\\"area\\\\\",\\\\\"tagDisplayName\\\\\":\\\\\"경북\\\\u003e영양군\\\\\"},{\\\\\"code\\\\\":\\\\\"D140\\\\\",\\\\\"parentCode\\\\\":\\\\\"D000\\\\\",\\\\\"originName\\\\\":\\\\\"영주시\\\\\",\\\\\"originCode\\\\\":\\\\\"ASKR0514000\\\\\",\\\\\"displayName\\\\\":\\\\\"영주시\\\\\",\\\\\"items\\\\\":[],\\\\\"type\\\\\":\\\\\"area\\\\\",\\\\\"tagDisplayName\\\\\":\\\\\"경북\\\\u003e영주시\\\\\"},{\\\\\"code\\\\\":\\\\\"D150\\\\\",\\\\\"parentCode\\\\\":\\\\\"D000\\\\\",\\\\\"originName\\\\\":\\\\\"영천시\\\\\",\\\\\"originCode\\\\\":\\\\\"ASKR0515000\\\\\",\\\\\"displayName\\\\\":\\\\\"영천시\\\\\",\\\\\"items\\\\\":[],\\\\\"type\\\\\":\\\\\"area\\\\\",\\\\\"tagDisplayName\\\\\":\\\\\"경북\\\\u003e영천시\\\\\"},{\\\\\"code\\\\\":\\\\\"D160\\\\\",\\\\\"parentCode\\\\\":\\\\\"D000\\\\\",\\\\\"originName\\\\\":\\\\\"예천군\\\\\",\\\\\"originCode\\\\\":\\\\\"ASKR0516000\\\\\",\\\\\"displayName\\\\\":\\\\\"예천군\\\\\",\\\\\"items\\\\\":[],\\\\\"type\\\\\":\\\\\"area\\\\\",\\\\\"tagDisplayName\\\\\":\\\\\"경북\\\\u003e예천군\\\\\"},{\\\\\"code\\\\\":\\\\\"D170\\\\\",\\\\\"parentCode\\\\\":\\\\\"D000\\\\\",\\\\\"originName\\\\\":\\\\\"울릉군\\\\\",\\\\\"originCode\\\\\":\\\\\"ASKR0517000\\\\\",\\\\\"displayName\\\\\":\\\\\"울릉군\\\\\",\\\\\"items\\\\\":[],\\\\\"type\\\\\":\\\\\"area\\\\\",\\\\\"tagDisplayName\\\\\":\\\\\"경북\\\\u003e울릉군\\\\\"},{\\\\\"code\\\\\":\\\\\"D180\\\\\",\\\\\"parentCode\\\\\":\\\\\"D000\\\\\",\\\\\"originName\\\\\":\\\\\"울진군\\\\\",\\\\\"originCode\\\\\":\\\\\"ASKR0518000\\\\\",\\\\\"displayName\\\\\":\\\\\"울진군\\\\\",\\\\\"items\\\\\":[],\\\\\"type\\\\\":\\\\\"area\\\\\",\\\\\"tagDisplayName\\\\\":\\\\\"경북\\\\u003e울진군\\\\\"},{\\\\\"code\\\\\":\\\\\"D190\\\\\",\\\\\"parentCode\\\\\":\\\\\"D000\\\\\",\\\\\"originName\\\\\":\\\\\"의성군\\\\\",\\\\\"originCode\\\\\":\\\\\"ASKR0519000\\\\\",\\\\\"displayName\\\\\":\\\\\"의성군\\\\\",\\\\\"items\\\\\":[],\\\\\"type\\\\\":\\\\\"area\\\\\",\\\\\"tagDisplayName\\\\\":\\\\\"경북\\\\u003e의성군\\\\\"},{\\\\\"code\\\\\":\\\\\"D200\\\\\",\\\\\"parentCode\\\\\":\\\\\"D000\\\\\",\\\\\"originName\\\\\":\\\\\"청도군\\\\\",\\\\\"originCode\\\\\":\\\\\"ASKR0520000\\\\\",\\\\\"displayName\\\\\":\\\\\"청도군\\\\\",\\\\\"items\\\\\":[],\\\\\"type\\\\\":\\\\\"area\\\\\",\\\\\"tagDisplayName\\\\\":\\\\\"경북\\\\u003e청도군\\\\\"},{\\\\\"code\\\\\":\\\\\"D210\\\\\",\\\\\"parentCode\\\\\":\\\\\"D000\\\\\",\\\\\"originName\\\\\":\\\\\"청송군\\\\\",\\\\\"originCode\\\\\":\\\\\"ASKR0521000\\\\\",\\\\\"displayName\\\\\":\\\\\"청송군\\\\\",\\\\\"items\\\\\":[],\\\\\"type\\\\\":\\\\\"area\\\\\",\\\\\"tagDisplayName\\\\\":\\\\\"경북\\\\u003e청송군\\\\\"},{\\\\\"code\\\\\":\\\\\"D220\\\\\",\\\\\"parentCode\\\\\":\\\\\"D000\\\\\",\\\\\"originName\\\\\":\\\\\"칠곡군\\\\\",\\\\\"originCode\\\\\":\\\\\"ASKR0522000\\\\\",\\\\\"displayName\\\\\":\\\\\"칠곡군\\\\\",\\\\\"items\\\\\":[],\\\\\"type\\\\\":\\\\\"area\\\\\",\\\\\"tagDisplayName\\\\\":\\\\\"경북\\\\u003e칠곡군\\\\\"},{\\\\\"code\\\\\":\\\\\"D230\\\\\",\\\\\"parentCode\\\\\":\\\\\"D000\\\\\",\\\\\"originName\\\\\":\\\\\"포항시 남구\\\\\",\\\\\"originCode\\\\\":\\\\\"ASKR0523000\\\\\",\\\\\"displayName\\\\\":\\\\\"포항시 남구\\\\\",\\\\\"items\\\\\":[],\\\\\"type\\\\\":\\\\\"area\\\\\",\\\\\"tagDisplayName\\\\\":\\\\\"경북\\\\u003e포항시 남구\\\\\"},{\\\\\"code\\\\\":\\\\\"D240\\\\\",\\\\\"parentCode\\\\\":\\\\\"D000\\\\\",\\\\\"originName\\\\\":\\\\\"포항시 북구\\\\\",\\\\\"originCode\\\\\":\\\\\"ASKR0524000\\\\\",\\\\\"displayName\\\\\":\\\\\"포항시 북구\\\\\",\\\\\"items\\\\\":[],\\\\\"type\\\\\":\\\\\"area\\\\\",\\\\\"tagDisplayName\\\\\":\\\\\"경북\\\\u003e포항시 북구\\\\\"},{\\\\\"code\\\\\":\\\\\"H000\\\\\",\\\\\"parentCode\\\\\":\\\\\"\\\\\",\\\\\"originName\\\\\":\\\\\"부산광역시\\\\\",\\\\\"originCode\\\\\":\\\\\"ASKR0900000\\\\\",\\\\\"displayName\\\\\":\\\\\"부산\\\\\",\\\\\"items\\\\\":[],\\\\\"type\\\\\":\\\\\"area\\\\\",\\\\\"tagDisplayName\\\\\":\\\\\"부산\\\\\"},{\\\\\"code\\\\\":\\\\\"H000_\\\\\",\\\\\"parentCode\\\\\":\\\\\"H000\\\\\",\\\\\"originName\\\\\":\\\\\"부산 전지역\\\\\",\\\\\"originCode\\\\\":\\\\\"ASKR0901000\\\\\",\\\\\"displayName\\\\\":\\\\\"전지역\\\\\",\\\\\"items\\\\\":[],\\\\\"type\\\\\":\\\\\"area\\\\\",\\\\\"tagDisplayName\\\\\":\\\\\"부산\\\\u003e전지역\\\\\"},{\\\\\"code\\\\\":\\\\\"H010\\\\\",\\\\\"parentCode\\\\\":\\\\\"H000\\\\\",\\\\\"originName\\\\\":\\\\\"강서구\\\\\",\\\\\"originCode\\\\\":\\\\\"ASKR0902000\\\\\",\\\\\"displayName\\\\\":\\\\\"강서구\\\\\",\\\\\"items\\\\\":[],\\\\\"type\\\\\":\\\\\"area\\\\\",\\\\\"tagDisplayName\\\\\":\\\\\"부산\\\\u003e강서구\\\\\"},{\\\\\"code\\\\\":\\\\\"H020\\\\\",\\\\\"parentCode\\\\\":\\\\\"H000\\\\\",\\\\\"originName\\\\\":\\\\\"금정구\\\\\",\\\\\"originCode\\\\\":\\\\\"ASKR0903000\\\\\",\\\\\"displayName\\\\\":\\\\\"금정구\\\\\",\\\\\"items\\\\\":[],\\\\\"type\\\\\":\\\\\"area\\\\\",\\\\\"tagDisplayName\\\\\":\\\\\"부산\\\\u003e금정구\\\\\"},{\\\\\"code\\\\\":\\\\\"H030\\\\\",\\\\\"parentCode\\\\\":\\\\\"H000\\\\\",\\\\\"originName\\\\\":\\\\\"기장군\\\\\",\\\\\"originCode\\\\\":\\\\\"ASKR0904000\\\\\",\\\\\"displayName\\\\\":\\\\\"기장군\\\\\",\\\\\"items\\\\\":[],\\\\\"type\\\\\":\\\\\"area\\\\\",\\\\\"tagDisplayName\\\\\":\\\\\"부산\\\\u003e기장군\\\\\"},{\\\\\"code\\\\\":\\\\\"H040\\\\\",\\\\\"parentCode\\\\\":\\\\\"H000\\\\\",\\\\\"originName\\\\\":\\\\\"남구\\\\\",\\\\\"originCode\\\\\":\\\\\"ASKR0905000\\\\\",\\\\\"displayName\\\\\":\\\\\"남구\\\\\",\\\\\"items\\\\\":[],\\\\\"type\\\\\":\\\\\"area\\\\\",\\\\\"tagDisplayName\\\\\":\\\\\"부산\\\\u003e남구\\\\\"},{\\\\\"code\\\\\":\\\\\"H050\\\\\",\\\\\"parentCode\\\\\":\\\\\"H000\\\\\",\\\\\"originName\\\\\":\\\\\"동구\\\\\",\\\\\"originCode\\\\\":\\\\\"ASKR0906000\\\\\",\\\\\"displayName\\\\\":\\\\\"동구\\\\\",\\\\\"items\\\\\":[],\\\\\"type\\\\\":\\\\\"area\\\\\",\\\\\"tagDisplayName\\\\\":\\\\\"부산\\\\u003e동구\\\\\"},{\\\\\"code\\\\\":\\\\\"H060\\\\\",\\\\\"parentCode\\\\\":\\\\\"H000\\\\\",\\\\\"originName\\\\\":\\\\\"동래구\\\\\",\\\\\"originCode\\\\\":\\\\\"ASKR0907000\\\\\",\\\\\"displayName\\\\\":\\\\\"동래구\\\\\",\\\\\"items\\\\\":[],\\\\\"type\\\\\":\\\\\"area\\\\\",\\\\\"tagDisplayName\\\\\":\\\\\"부산\\\\u003e동래구\\\\\"},{\\\\\"code\\\\\":\\\\\"H070\\\\\",\\\\\"parentCode\\\\\":\\\\\"H000\\\\\",\\\\\"originName\\\\\":\\\\\"부산진구\\\\\",\\\\\"originCode\\\\\":\\\\\"ASKR0908000\\\\\",\\\\\"displayName\\\\\":\\\\\"부산진구\\\\\",\\\\\"items\\\\\":[],\\\\\"type\\\\\":\\\\\"area\\\\\",\\\\\"tagDisplayName\\\\\":\\\\\"부산\\\\u003e부산진구\\\\\"},{\\\\\"code\\\\\":\\\\\"H080\\\\\",\\\\\"parentCode\\\\\":\\\\\"H000\\\\\",\\\\\"originName\\\\\":\\\\\"북구\\\\\",\\\\\"originCode\\\\\":\\\\\"ASKR0909000\\\\\",\\\\\"displayName\\\\\":\\\\\"북구\\\\\",\\\\\"items\\\\\":[],\\\\\"type\\\\\":\\\\\"area\\\\\",\\\\\"tagDisplayName\\\\\":\\\\\"부산\\\\u003e북구\\\\\"},{\\\\\"code\\\\\":\\\\\"H090\\\\\",\\\\\"parentCode\\\\\":\\\\\"H000\\\\\",\\\\\"originName\\\\\":\\\\\"사상구\\\\\",\\\\\"originCode\\\\\":\\\\\"ASKR0910000\\\\\",\\\\\"displayName\\\\\":\\\\\"사상구\\\\\",\\\\\"items\\\\\":[],\\\\\"type\\\\\":\\\\\"area\\\\\",\\\\\"tagDisplayName\\\\\":\\\\\"부산\\\\u003e사상구\\\\\"},{\\\\\"code\\\\\":\\\\\"H100\\\\\",\\\\\"parentCode\\\\\":\\\\\"H000\\\\\",\\\\\"originName\\\\\":\\\\\"사하구\\\\\",\\\\\"originCode\\\\\":\\\\\"ASKR0911000\\\\\",\\\\\"displayName\\\\\":\\\\\"사하구\\\\\",\\\\\"items\\\\\":[],\\\\\"type\\\\\":\\\\\"area\\\\\",\\\\\"tagDisplayName\\\\\":\\\\\"부산\\\\u003e사하구\\\\\"},{\\\\\"code\\\\\":\\\\\"H110\\\\\",\\\\\"parentCode\\\\\":\\\\\"H000\\\\\",\\\\\"originName\\\\\":\\\\\"서구\\\\\",\\\\\"originCode\\\\\":\\\\\"ASKR0912000\\\\\",\\\\\"displayName\\\\\":\\\\\"서구\\\\\",\\\\\"items\\\\\":[],\\\\\"type\\\\\":\\\\\"area\\\\\",\\\\\"tagDisplayName\\\\\":\\\\\"부산\\\\u003e서구\\\\\"},{\\\\\"code\\\\\":\\\\\"H120\\\\\",\\\\\"parentCode\\\\\":\\\\\"H000\\\\\",\\\\\"originName\\\\\":\\\\\"수영구\\\\\",\\\\\"originCode\\\\\":\\\\\"ASKR0913000\\\\\",\\\\\"displayName\\\\\":\\\\\"수영구\\\\\",\\\\\"items\\\\\":[],\\\\\"type\\\\\":\\\\\"area\\\\\",\\\\\"tagDisplayName\\\\\":\\\\\"부산\\\\u003e수영구\\\\\"},{\\\\\"code\\\\\":\\\\\"H130\\\\\",\\\\\"parentCode\\\\\":\\\\\"H000\\\\\",\\\\\"originName\\\\\":\\\\\"연제구\\\\\",\\\\\"originCode\\\\\":\\\\\"ASKR0914000\\\\\",\\\\\"displayName\\\\\":\\\\\"연제구\\\\\",\\\\\"items\\\\\":[],\\\\\"type\\\\\":\\\\\"area\\\\\",\\\\\"tagDisplayName\\\\\":\\\\\"부산\\\\u003e연제구\\\\\"},{\\\\\"code\\\\\":\\\\\"H140\\\\\",\\\\\"parentCode\\\\\":\\\\\"H000\\\\\",\\\\\"originName\\\\\":\\\\\"영도구\\\\\",\\\\\"originCode\\\\\":\\\\\"ASKR0915000\\\\\",\\\\\"displayName\\\\\":\\\\\"영도구\\\\\",\\\\\"items\\\\\":[],\\\\\"type\\\\\":\\\\\"area\\\\\",\\\\\"tagDisplayName\\\\\":\\\\\"부산\\\\u003e영도구\\\\\"},{\\\\\"code\\\\\":\\\\\"H150\\\\\",\\\\\"parentCode\\\\\":\\\\\"H000\\\\\",\\\\\"originName\\\\\":\\\\\"중구\\\\\",\\\\\"originCode\\\\\":\\\\\"ASKR0916000\\\\\",\\\\\"displayName\\\\\":\\\\\"중구\\\\\",\\\\\"items\\\\\":[],\\\\\"type\\\\\":\\\\\"area\\\\\",\\\\\"tagDisplayName\\\\\":\\\\\"부산\\\\u003e중구\\\\\"},{\\\\\"code\\\\\":\\\\\"H160\\\\\",\\\\\"parentCode\\\\\":\\\\\"H000\\\\\",\\\\\"originName\\\\\":\\\\\"해운대구\\\\\",\\\\\"originCode\\\\\":\\\\\"ASKR0917000\\\\\",\\\\\"displayName\\\\\":\\\\\"해운대구\\\\\",\\\\\"items\\\\\":[],\\\\\"type\\\\\":\\\\\"area\\\\\",\\\\\"tagDisplayName\\\\\":\\\\\"부산\\\\u003e해운대구\\\\\"},{\\\\\"code\\\\\":\\\\\"J000\\\\\",\\\\\"parentCode\\\\\":\\\\\"\\\\\",\\\\\"originName\\\\\":\\\\\"울산광역시\\\\\",\\\\\"originCode\\\\\":\\\\\"ASKR1200000\\\\\",\\\\\"displayName\\\\\":\\\\\"울산\\\\\",\\\\\"items\\\\\":[],\\\\\"type\\\\\":\\\\\"area\\\\\",\\\\\"tagDisplayName\\\\\":\\\\\"울산\\\\\"},{\\\\\"code\\\\\":\\\\\"J000_\\\\\",\\\\\"parentCode\\\\\":\\\\\"J000\\\\\",\\\\\"originName\\\\\":\\\\\"울산 전지역\\\\\",\\\\\"originCode\\\\\":\\\\\"ASKR1201000\\\\\",\\\\\"displayName\\\\\":\\\\\"전지역\\\\\",\\\\\"items\\\\\":[],\\\\\"type\\\\\":\\\\\"area\\\\\",\\\\\"tagDisplayName\\\\\":\\\\\"울산\\\\u003e전지역\\\\\"},{\\\\\"code\\\\\":\\\\\"J010\\\\\",\\\\\"parentCode\\\\\":\\\\\"J000\\\\\",\\\\\"originName\\\\\":\\\\\"남구\\\\\",\\\\\"originCode\\\\\":\\\\\"ASKR1202000\\\\\",\\\\\"displayName\\\\\":\\\\\"남구\\\\\",\\\\\"items\\\\\":[],\\\\\"type\\\\\":\\\\\"area\\\\\",\\\\\"tagDisplayName\\\\\":\\\\\"울산\\\\u003e남구\\\\\"},{\\\\\"code\\\\\":\\\\\"J020\\\\\",\\\\\"parentCode\\\\\":\\\\\"J000\\\\\",\\\\\"originName\\\\\":\\\\\"동구\\\\\",\\\\\"originCode\\\\\":\\\\\"ASKR1203000\\\\\",\\\\\"displayName\\\\\":\\\\\"동구\\\\\",\\\\\"items\\\\\":[],\\\\\"type\\\\\":\\\\\"area\\\\\",\\\\\"tagDisplayName\\\\\":\\\\\"울산\\\\u003e동구\\\\\"},{\\\\\"code\\\\\":\\\\\"J030\\\\\",\\\\\"parentCode\\\\\":\\\\\"J000\\\\\",\\\\\"originName\\\\\":\\\\\"북구\\\\\",\\\\\"originCode\\\\\":\\\\\"ASKR1204000\\\\\",\\\\\"displayName\\\\\":\\\\\"북구\\\\\",\\\\\"items\\\\\":[],\\\\\"type\\\\\":\\\\\"area\\\\\",\\\\\"tagDisplayName\\\\\":\\\\\"울산\\\\u003e북구\\\\\"},{\\\\\"code\\\\\":\\\\\"J040\\\\\",\\\\\"parentCode\\\\\":\\\\\"J000\\\\\",\\\\\"originName\\\\\":\\\\\"울주군\\\\\",\\\\\"originCode\\\\\":\\\\\"ASKR1205000\\\\\",\\\\\"displayName\\\\\":\\\\\"울주군\\\\\",\\\\\"items\\\\\":[],\\\\\"type\\\\\":\\\\\"area\\\\\",\\\\\"tagDisplayName\\\\\":\\\\\"울산\\\\u003e울주군\\\\\"},{\\\\\"code\\\\\":\\\\\"J050\\\\\",\\\\\"parentCode\\\\\":\\\\\"J000\\\\\",\\\\\"originName\\\\\":\\\\\"중구\\\\\",\\\\\"originCode\\\\\":\\\\\"ASKR1206000\\\\\",\\\\\"displayName\\\\\":\\\\\"중구\\\\\",\\\\\"items\\\\\":[],\\\\\"type\\\\\":\\\\\"area\\\\\",\\\\\"tagDisplayName\\\\\":\\\\\"울산\\\\u003e중구\\\\\"},{\\\\\"code\\\\\":\\\\\"C000\\\\\",\\\\\"parentCode\\\\\":\\\\\"\\\\\",\\\\\"originName\\\\\":\\\\\"경상남도\\\\\",\\\\\"originCode\\\\\":\\\\\"ASKR0400000\\\\\",\\\\\"displayName\\\\\":\\\\\"경남\\\\\",\\\\\"items\\\\\":[],\\\\\"type\\\\\":\\\\\"area\\\\\",\\\\\"tagDisplayName\\\\\":\\\\\"경남\\\\\"},{\\\\\"code\\\\\":\\\\\"C000_\\\\\",\\\\\"parentCode\\\\\":\\\\\"C000\\\\\",\\\\\"originName\\\\\":\\\\\"경남 전지역\\\\\",\\\\\"originCode\\\\\":\\\\\"ASKR0401000\\\\\",\\\\\"displayName\\\\\":\\\\\"전지역\\\\\",\\\\\"items\\\\\":[],\\\\\"type\\\\\":\\\\\"area\\\\\",\\\\\"tagDisplayName\\\\\":\\\\\"경남\\\\u003e전지역\\\\\"},{\\\\\"code\\\\\":\\\\\"C010\\\\\",\\\\\"parentCode\\\\\":\\\\\"C000\\\\\",\\\\\"originName\\\\\":\\\\\"거제시\\\\\",\\\\\"originCode\\\\\":\\\\\"ASKR0402000\\\\\",\\\\\"displayName\\\\\":\\\\\"거제시\\\\\",\\\\\"items\\\\\":[],\\\\\"type\\\\\":\\\\\"area\\\\\",\\\\\"tagDisplayName\\\\\":\\\\\"경남\\\\u003e거제시\\\\\"},{\\\\\"code\\\\\":\\\\\"C020\\\\\",\\\\\"parentCode\\\\\":\\\\\"C000\\\\\",\\\\\"originName\\\\\":\\\\\"거창군\\\\\",\\\\\"originCode\\\\\":\\\\\"ASKR0403000\\\\\",\\\\\"displayName\\\\\":\\\\\"거창군\\\\\",\\\\\"items\\\\\":[],\\\\\"type\\\\\":\\\\\"area\\\\\",\\\\\"tagDisplayName\\\\\":\\\\\"경남\\\\u003e거창군\\\\\"},{\\\\\"code\\\\\":\\\\\"C030\\\\\",\\\\\"parentCode\\\\\":\\\\\"C000\\\\\",\\\\\"originName\\\\\":\\\\\"고성군\\\\\",\\\\\"originCode\\\\\":\\\\\"ASKR0404000\\\\\",\\\\\"displayName\\\\\":\\\\\"고성군\\\\\",\\\\\"items\\\\\":[],\\\\\"type\\\\\":\\\\\"area\\\\\",\\\\\"tagDisplayName\\\\\":\\\\\"경남\\\\u003e고성군\\\\\"},{\\\\\"code\\\\\":\\\\\"C040\\\\\",\\\\\"parentCode\\\\\":\\\\\"C000\\\\\",\\\\\"originName\\\\\":\\\\\"김해시\\\\\",\\\\\"originCode\\\\\":\\\\\"ASKR0405000\\\\\",\\\\\"displayName\\\\\":\\\\\"김해시\\\\\",\\\\\"items\\\\\":[],\\\\\"type\\\\\":\\\\\"area\\\\\",\\\\\"tagDisplayName\\\\\":\\\\\"경남\\\\u003e김해시\\\\\"},{\\\\\"code\\\\\":\\\\\"C050\\\\\",\\\\\"parentCode\\\\\":\\\\\"C000\\\\\",\\\\\"originName\\\\\":\\\\\"남해군\\\\\",\\\\\"originCode\\\\\":\\\\\"ASKR0406000\\\\\",\\\\\"displayName\\\\\":\\\\\"남해군\\\\\",\\\\\"items\\\\\":[],\\\\\"type\\\\\":\\\\\"area\\\\\",\\\\\"tagDisplayName\\\\\":\\\\\"경남\\\\u003e남해군\\\\\"},{\\\\\"code\\\\\":\\\\\"C080\\\\\",\\\\\"parentCode\\\\\":\\\\\"C000\\\\\",\\\\\"originName\\\\\":\\\\\"밀양시\\\\\",\\\\\"originCode\\\\\":\\\\\"ASKR0407000\\\\\",\\\\\"displayName\\\\\":\\\\\"밀양시\\\\\",\\\\\"items\\\\\":[],\\\\\"type\\\\\":\\\\\"area\\\\\",\\\\\"tagDisplayName\\\\\":\\\\\"경남\\\\u003e밀양시\\\\\"},{\\\\\"code\\\\\":\\\\\"C090\\\\\",\\\\\"parentCode\\\\\":\\\\\"C000\\\\\",\\\\\"originName\\\\\":\\\\\"사천시\\\\\",\\\\\"originCode\\\\\":\\\\\"ASKR0408000\\\\\",\\\\\"displayName\\\\\":\\\\\"사천시\\\\\",\\\\\"items\\\\\":[],\\\\\"type\\\\\":\\\\\"area\\\\\",\\\\\"tagDisplayName\\\\\":\\\\\"경남\\\\u003e사천시\\\\\"},{\\\\\"code\\\\\":\\\\\"C100\\\\\",\\\\\"parentCode\\\\\":\\\\\"C000\\\\\",\\\\\"originName\\\\\":\\\\\"산청군\\\\\",\\\\\"originCode\\\\\":\\\\\"ASKR0409000\\\\\",\\\\\"displayName\\\\\":\\\\\"산청군\\\\\",\\\\\"items\\\\\":[],\\\\\"type\\\\\":\\\\\"area\\\\\",\\\\\"tagDisplayName\\\\\":\\\\\"경남\\\\u003e산청군\\\\\"},{\\\\\"code\\\\\":\\\\\"C110\\\\\",\\\\\"parentCode\\\\\":\\\\\"C000\\\\\",\\\\\"originName\\\\\":\\\\\"양산시\\\\\",\\\\\"originCode\\\\\":\\\\\"ASKR0410000\\\\\",\\\\\"displayName\\\\\":\\\\\"양산시\\\\\",\\\\\"items\\\\\":[],\\\\\"type\\\\\":\\\\\"area\\\\\",\\\\\"tagDisplayName\\\\\":\\\\\"경남\\\\u003e양산시\\\\\"},{\\\\\"code\\\\\":\\\\\"C120\\\\\",\\\\\"parentCode\\\\\":\\\\\"C000\\\\\",\\\\\"originName\\\\\":\\\\\"의령군\\\\\",\\\\\"originCode\\\\\":\\\\\"ASKR0411000\\\\\",\\\\\"displayName\\\\\":\\\\\"의령군\\\\\",\\\\\"items\\\\\":[],\\\\\"type\\\\\":\\\\\"area\\\\\",\\\\\"tagDisplayName\\\\\":\\\\\"경남\\\\u003e의령군\\\\\"},{\\\\\"code\\\\\":\\\\\"C130\\\\\",\\\\\"parentCode\\\\\":\\\\\"C000\\\\\",\\\\\"originName\\\\\":\\\\\"진주시\\\\\",\\\\\"originCode\\\\\":\\\\\"ASKR0412000\\\\\",\\\\\"displayName\\\\\":\\\\\"진주시\\\\\",\\\\\"items\\\\\":[],\\\\\"type\\\\\":\\\\\"area\\\\\",\\\\\"tagDisplayName\\\\\":\\\\\"경남\\\\u003e진주시\\\\\"},{\\\\\"code\\\\\":\\\\\"C150\\\\\",\\\\\"parentCode\\\\\":\\\\\"C000\\\\\",\\\\\"originName\\\\\":\\\\\"창녕군\\\\\",\\\\\"originCode\\\\\":\\\\\"ASKR0413000\\\\\",\\\\\"displayName\\\\\":\\\\\"창녕군\\\\\",\\\\\"items\\\\\":[],\\\\\"type\\\\\":\\\\\"area\\\\\",\\\\\"tagDisplayName\\\\\":\\\\\"경남\\\\u003e창녕군\\\\\"},{\\\\\"code\\\\\":\\\\\"C160\\\\\",\\\\\"parentCode\\\\\":\\\\\"C000\\\\\",\\\\\"originName\\\\\":\\\\\"창원시 마산합포구\\\\\",\\\\\"originCode\\\\\":\\\\\"ASKR0414000\\\\\",\\\\\"displayName\\\\\":\\\\\"창원시 마산합포구\\\\\",\\\\\"items\\\\\":[],\\\\\"type\\\\\":\\\\\"area\\\\\",\\\\\"tagDisplayName\\\\\":\\\\\"경남\\\\u003e창원시 마산합포구\\\\\"},{\\\\\"code\\\\\":\\\\\"C162\\\\\",\\\\\"parentCode\\\\\":\\\\\"C000\\\\\",\\\\\"originName\\\\\":\\\\\"창원시 마산회원구\\\\\",\\\\\"originCode\\\\\":\\\\\"ASKR0415000\\\\\",\\\\\"displayName\\\\\":\\\\\"창원시 마산회원구\\\\\",\\\\\"items\\\\\":[],\\\\\"type\\\\\":\\\\\"area\\\\\",\\\\\"tagDisplayName\\\\\":\\\\\"경남\\\\u003e창원시 마산회원구\\\\\"},{\\\\\"code\\\\\":\\\\\"C164\\\\\",\\\\\"parentCode\\\\\":\\\\\"C000\\\\\",\\\\\"originName\\\\\":\\\\\"창원시 성산구\\\\\",\\\\\"originCode\\\\\":\\\\\"ASKR0416000\\\\\",\\\\\"displayName\\\\\":\\\\\"창원시 성산구\\\\\",\\\\\"items\\\\\":[],\\\\\"type\\\\\":\\\\\"area\\\\\",\\\\\"tagDisplayName\\\\\":\\\\\"경남\\\\u003e창원시 성산구\\\\\"},{\\\\\"code\\\\\":\\\\\"C166\\\\\",\\\\\"parentCode\\\\\":\\\\\"C000\\\\\",\\\\\"originName\\\\\":\\\\\"창원시 의창구\\\\\",\\\\\"originCode\\\\\":\\\\\"ASKR0417000\\\\\",\\\\\"displayName\\\\\":\\\\\"창원시 의창구\\\\\",\\\\\"items\\\\\":[],\\\\\"type\\\\\":\\\\\"area\\\\\",\\\\\"tagDisplayName\\\\\":\\\\\"경남\\\\u003e창원시 의창구\\\\\"},{\\\\\"code\\\\\":\\\\\"C168\\\\\",\\\\\"parentCode\\\\\":\\\\\"C000\\\\\",\\\\\"originName\\\\\":\\\\\"창원시 진해구\\\\\",\\\\\"originCode\\\\\":\\\\\"ASKR0418000\\\\\",\\\\\"displayName\\\\\":\\\\\"창원시 진해구\\\\\",\\\\\"items\\\\\":[],\\\\\"type\\\\\":\\\\\"area\\\\\",\\\\\"tagDisplayName\\\\\":\\\\\"경남\\\\u003e창원시 진해구\\\\\"},{\\\\\"code\\\\\":\\\\\"C170\\\\\",\\\\\"parentCode\\\\\":\\\\\"C000\\\\\",\\\\\"originName\\\\\":\\\\\"통영시\\\\\",\\\\\"originCode\\\\\":\\\\\"ASKR0419000\\\\\",\\\\\"displayName\\\\\":\\\\\"통영시\\\\\",\\\\\"items\\\\\":[],\\\\\"type\\\\\":\\\\\"area\\\\\",\\\\\"tagDisplayName\\\\\":\\\\\"경남\\\\u003e통영시\\\\\"},{\\\\\"code\\\\\":\\\\\"C180\\\\\",\\\\\"parentCode\\\\\":\\\\\"C000\\\\\",\\\\\"originName\\\\\":\\\\\"하동군\\\\\",\\\\\"originCode\\\\\":\\\\\"ASKR0420000\\\\\",\\\\\"displayName\\\\\":\\\\\"하동군\\\\\",\\\\\"items\\\\\":[],\\\\\"type\\\\\":\\\\\"area\\\\\",\\\\\"tagDisplayName\\\\\":\\\\\"경남\\\\u003e하동군\\\\\"},{\\\\\"code\\\\\":\\\\\"C190\\\\\",\\\\\"parentCode\\\\\":\\\\\"C000\\\\\",\\\\\"originName\\\\\":\\\\\"함안군\\\\\",\\\\\"originCode\\\\\":\\\\\"ASKR0421000\\\\\",\\\\\"displayName\\\\\":\\\\\"함안군\\\\\",\\\\\"items\\\\\":[],\\\\\"type\\\\\":\\\\\"area\\\\\",\\\\\"tagDisplayName\\\\\":\\\\\"경남\\\\u003e함안군\\\\\"},{\\\\\"code\\\\\":\\\\\"C200\\\\\",\\\\\"parentCode\\\\\":\\\\\"C000\\\\\",\\\\\"originName\\\\\":\\\\\"함양군\\\\\",\\\\\"originCode\\\\\":\\\\\"ASKR0422000\\\\\",\\\\\"displayName\\\\\":\\\\\"함양군\\\\\",\\\\\"items\\\\\":[],\\\\\"type\\\\\":\\\\\"area\\\\\",\\\\\"tagDisplayName\\\\\":\\\\\"경남\\\\u003e함양군\\\\\"},{\\\\\"code\\\\\":\\\\\"C210\\\\\",\\\\\"parentCode\\\\\":\\\\\"C000\\\\\",\\\\\"originName\\\\\":\\\\\"합천군\\\\\",\\\\\"originCode\\\\\":\\\\\"ASKR0423000\\\\\",\\\\\"displayName\\\\\":\\\\\"합천군\\\\\",\\\\\"items\\\\\":[],\\\\\"type\\\\\":\\\\\"area\\\\\",\\\\\"tagDisplayName\\\\\":\\\\\"경남\\\\u003e합천군\\\\\"},{\\\\\"code\\\\\":\\\\\"A000\\\\\",\\\\\"parentCode\\\\\":\\\\\"\\\\\",\\\\\"originName\\\\\":\\\\\"강원특별자치도\\\\\",\\\\\"originCode\\\\\":\\\\\"ASKR0200000\\\\\",\\\\\"displayName\\\\\":\\\\\"강원\\\\\",\\\\\"items\\\\\":[],\\\\\"type\\\\\":\\\\\"area\\\\\",\\\\\"tagDisplayName\\\\\":\\\\\"강원\\\\\"},{\\\\\"code\\\\\":\\\\\"A000_\\\\\",\\\\\"parentCode\\\\\":\\\\\"A000\\\\\",\\\\\"originName\\\\\":\\\\\"강원 전지역\\\\\",\\\\\"originCode\\\\\":\\\\\"ASKR0201000\\\\\",\\\\\"displayName\\\\\":\\\\\"전지역\\\\\",\\\\\"items\\\\\":[],\\\\\"type\\\\\":\\\\\"area\\\\\",\\\\\"tagDisplayName\\\\\":\\\\\"강원\\\\u003e전지역\\\\\"},{\\\\\"code\\\\\":\\\\\"A010\\\\\",\\\\\"parentCode\\\\\":\\\\\"A000\\\\\",\\\\\"originName\\\\\":\\\\\"강릉시\\\\\",\\\\\"originCode\\\\\":\\\\\"ASKR0202000\\\\\",\\\\\"displayName\\\\\":\\\\\"강릉시\\\\\",\\\\\"items\\\\\":[],\\\\\"type\\\\\":\\\\\"area\\\\\",\\\\\"tagDisplayName\\\\\":\\\\\"강원\\\\u003e강릉시\\\\\"},{\\\\\"code\\\\\":\\\\\"A020\\\\\",\\\\\"parentCode\\\\\":\\\\\"A000\\\\\",\\\\\"originName\\\\\":\\\\\"고성군\\\\\",\\\\\"originCode\\\\\":\\\\\"ASKR0203000\\\\\",\\\\\"displayName\\\\\":\\\\\"고성군\\\\\",\\\\\"items\\\\\":[],\\\\\"type\\\\\":\\\\\"area\\\\\",\\\\\"tagDisplayName\\\\\":\\\\\"강원\\\\u003e고성군\\\\\"},{\\\\\"code\\\\\":\\\\\"A030\\\\\",\\\\\"parentCode\\\\\":\\\\\"A000\\\\\",\\\\\"originName\\\\\":\\\\\"동해시\\\\\",\\\\\"originCode\\\\\":\\\\\"ASKR0204000\\\\\",\\\\\"displayName\\\\\":\\\\\"동해시\\\\\",\\\\\"items\\\\\":[],\\\\\"type\\\\\":\\\\\"area\\\\\",\\\\\"tagDisplayName\\\\\":\\\\\"강원\\\\u003e동해시\\\\\"},{\\\\\"code\\\\\":\\\\\"A040\\\\\",\\\\\"parentCode\\\\\":\\\\\"A000\\\\\",\\\\\"originName\\\\\":\\\\\"삼척시\\\\\",\\\\\"originCode\\\\\":\\\\\"ASKR0205000\\\\\",\\\\\"displayName\\\\\":\\\\\"삼척시\\\\\",\\\\\"items\\\\\":[],\\\\\"type\\\\\":\\\\\"area\\\\\",\\\\\"tagDisplayName\\\\\":\\\\\"강원\\\\u003e삼척시\\\\\"},{\\\\\"code\\\\\":\\\\\"A050\\\\\",\\\\\"parentCode\\\\\":\\\\\"A000\\\\\",\\\\\"originName\\\\\":\\\\\"속초시\\\\\",\\\\\"originCode\\\\\":\\\\\"ASKR0206000\\\\\",\\\\\"displayName\\\\\":\\\\\"속초시\\\\\",\\\\\"items\\\\\":[],\\\\\"type\\\\\":\\\\\"area\\\\\",\\\\\"tagDisplayName\\\\\":\\\\\"강원\\\\u003e속초시\\\\\"},{\\\\\"code\\\\\":\\\\\"A060\\\\\",\\\\\"parentCode\\\\\":\\\\\"A000\\\\\",\\\\\"originName\\\\\":\\\\\"양구군\\\\\",\\\\\"originCode\\\\\":\\\\\"ASKR0207000\\\\\",\\\\\"displayName\\\\\":\\\\\"양구군\\\\\",\\\\\"items\\\\\":[],\\\\\"type\\\\\":\\\\\"area\\\\\",\\\\\"tagDisplayName\\\\\":\\\\\"강원\\\\u003e양구군\\\\\"},{\\\\\"code\\\\\":\\\\\"A070\\\\\",\\\\\"parentCode\\\\\":\\\\\"A000\\\\\",\\\\\"originName\\\\\":\\\\\"양양군\\\\\",\\\\\"originCode\\\\\":\\\\\"ASKR0208000\\\\\",\\\\\"displayName\\\\\":\\\\\"양양군\\\\\",\\\\\"items\\\\\":[],\\\\\"type\\\\\":\\\\\"area\\\\\",\\\\\"tagDisplayName\\\\\":\\\\\"강원\\\\u003e양양군\\\\\"},{\\\\\"code\\\\\":\\\\\"A080\\\\\",\\\\\"parentCode\\\\\":\\\\\"A000\\\\\",\\\\\"originName\\\\\":\\\\\"영월군\\\\\",\\\\\"originCode\\\\\":\\\\\"ASKR0209000\\\\\",\\\\\"displayName\\\\\":\\\\\"영월군\\\\\",\\\\\"items\\\\\":[],\\\\\"type\\\\\":\\\\\"area\\\\\",\\\\\"tagDisplayName\\\\\":\\\\\"강원\\\\u003e영월군\\\\\"},{\\\\\"code\\\\\":\\\\\"A090\\\\\",\\\\\"parentCode\\\\\":\\\\\"A000\\\\\",\\\\\"originName\\\\\":\\\\\"원주시\\\\\",\\\\\"originCode\\\\\":\\\\\"ASKR0210000\\\\\",\\\\\"displayName\\\\\":\\\\\"원주시\\\\\",\\\\\"items\\\\\":[],\\\\\"type\\\\\":\\\\\"area\\\\\",\\\\\"tagDisplayName\\\\\":\\\\\"강원\\\\u003e원주시\\\\\"},{\\\\\"code\\\\\":\\\\\"A100\\\\\",\\\\\"parentCode\\\\\":\\\\\"A000\\\\\",\\\\\"originName\\\\\":\\\\\"인제군\\\\\",\\\\\"originCode\\\\\":\\\\\"ASKR0211000\\\\\",\\\\\"displayName\\\\\":\\\\\"인제군\\\\\",\\\\\"items\\\\\":[],\\\\\"type\\\\\":\\\\\"area\\\\\",\\\\\"tagDisplayName\\\\\":\\\\\"강원\\\\u003e인제군\\\\\"},{\\\\\"code\\\\\":\\\\\"A110\\\\\",\\\\\"parentCode\\\\\":\\\\\"A000\\\\\",\\\\\"originName\\\\\":\\\\\"정선군\\\\\",\\\\\"originCode\\\\\":\\\\\"ASKR0212000\\\\\",\\\\\"displayName\\\\\":\\\\\"정선군\\\\\",\\\\\"items\\\\\":[],\\\\\"type\\\\\":\\\\\"area\\\\\",\\\\\"tagDisplayName\\\\\":\\\\\"강원\\\\u003e정선군\\\\\"},{\\\\\"code\\\\\":\\\\\"A120\\\\\",\\\\\"parentCode\\\\\":\\\\\"A000\\\\\",\\\\\"originName\\\\\":\\\\\"철원군\\\\\",\\\\\"originCode\\\\\":\\\\\"ASKR0213000\\\\\",\\\\\"displayName\\\\\":\\\\\"철원군\\\\\",\\\\\"items\\\\\":[],\\\\\"type\\\\\":\\\\\"area\\\\\",\\\\\"tagDisplayName\\\\\":\\\\\"강원\\\\u003e철원군\\\\\"},{\\\\\"code\\\\\":\\\\\"A130\\\\\",\\\\\"parentCode\\\\\":\\\\\"A000\\\\\",\\\\\"originName\\\\\":\\\\\"춘천시\\\\\",\\\\\"originCode\\\\\":\\\\\"ASKR0214000\\\\\",\\\\\"displayName\\\\\":\\\\\"춘천시\\\\\",\\\\\"items\\\\\":[],\\\\\"type\\\\\":\\\\\"area\\\\\",\\\\\"tagDisplayName\\\\\":\\\\\"강원\\\\u003e춘천시\\\\\"},{\\\\\"code\\\\\":\\\\\"A140\\\\\",\\\\\"parentCode\\\\\":\\\\\"A000\\\\\",\\\\\"originName\\\\\":\\\\\"태백시\\\\\",\\\\\"originCode\\\\\":\\\\\"ASKR0215000\\\\\",\\\\\"displayName\\\\\":\\\\\"태백시\\\\\",\\\\\"items\\\\\":[],\\\\\"type\\\\\":\\\\\"area\\\\\",\\\\\"tagDisplayName\\\\\":\\\\\"강원\\\\u003e태백시\\\\\"},{\\\\\"code\\\\\":\\\\\"A150\\\\\",\\\\\"parentCode\\\\\":\\\\\"A000\\\\\",\\\\\"originName\\\\\":\\\\\"평창군\\\\\",\\\\\"originCode\\\\\":\\\\\"ASKR0216000\\\\\",\\\\\"displayName\\\\\":\\\\\"평창군\\\\\",\\\\\"items\\\\\":[],\\\\\"type\\\\\":\\\\\"area\\\\\",\\\\\"tagDisplayName\\\\\":\\\\\"강원\\\\u003e평창군\\\\\"},{\\\\\"code\\\\\":\\\\\"A160\\\\\",\\\\\"parentCode\\\\\":\\\\\"A000\\\\\",\\\\\"originName\\\\\":\\\\\"홍천군\\\\\",\\\\\"originCode\\\\\":\\\\\"ASKR0217000\\\\\",\\\\\"displayName\\\\\":\\\\\"홍천군\\\\\",\\\\\"items\\\\\":[],\\\\\"type\\\\\":\\\\\"area\\\\\",\\\\\"tagDisplayName\\\\\":\\\\\"강원\\\\u003e홍천군\\\\\"},{\\\\\"code\\\\\":\\\\\"A170\\\\\",\\\\\"parentCode\\\\\":\\\\\"A000\\\\\",\\\\\"originName\\\\\":\\\\\"화천군\\\\\",\\\\\"originCode\\\\\":\\\\\"ASKR0218000\\\\\",\\\\\"displayName\\\\\":\\\\\"화천군\\\\\",\\\\\"items\\\\\":[],\\\\\"type\\\\\":\\\\\"area\\\\\",\\\\\"tagDisplayName\\\\\":\\\\\"강원\\\\u003e화천군\\\\\"},{\\\\\"code\\\\\":\\\\\"A180\\\\\",\\\\\"parentCode\\\\\":\\\\\"A000\\\\\",\\\\\"originName\\\\\":\\\\\"횡성군\\\\\",\\\\\"originCode\\\\\":\\\\\"ASKR0219000\\\\\",\\\\\"displayName\\\\\":\\\\\"횡성군\\\\\",\\\\\"items\\\\\":[],\\\\\"type\\\\\":\\\\\"area\\\\\",\\\\\"tagDisplayName\\\\\":\\\\\"강원\\\\u003e횡성군\\\\\"},{\\\\\"code\\\\\":\\\\\"N000\\\\\",\\\\\"parentCode\\\\\":\\\\\"\\\\\",\\\\\"originName\\\\\":\\\\\"제주특별자치도\\\\\",\\\\\"originCode\\\\\":\\\\\"ASKR1600000\\\\\",\\\\\"displayName\\\\\":\\\\\"제주\\\\\",\\\\\"items\\\\\":[],\\\\\"type\\\\\":\\\\\"area\\\\\",\\\\\"tagDisplayName\\\\\":\\\\\"제주\\\\\"},{\\\\\"code\\\\\":\\\\\"N000_\\\\\",\\\\\"parentCode\\\\\":\\\\\"N000\\\\\",\\\\\"originName\\\\\":\\\\\"제주 전지역\\\\\",\\\\\"originCode\\\\\":\\\\\"ASKR1601000\\\\\",\\\\\"displayName\\\\\":\\\\\"전지역\\\\\",\\\\\"items\\\\\":[],\\\\\"type\\\\\":\\\\\"area\\\\\",\\\\\"tagDisplayName\\\\\":\\\\\"제주\\\\u003e전지역\\\\\"},{\\\\\"code\\\\\":\\\\\"N030\\\\\",\\\\\"parentCode\\\\\":\\\\\"N000\\\\\",\\\\\"originName\\\\\":\\\\\"서귀포시\\\\\",\\\\\"originCode\\\\\":\\\\\"ASKR1602000\\\\\",\\\\\"displayName\\\\\":\\\\\"서귀포시\\\\\",\\\\\"items\\\\\":[],\\\\\"type\\\\\":\\\\\"area\\\\\",\\\\\"tagDisplayName\\\\\":\\\\\"제주\\\\u003e서귀포시\\\\\"},{\\\\\"code\\\\\":\\\\\"N040\\\\\",\\\\\"parentCode\\\\\":\\\\\"N000\\\\\",\\\\\"originName\\\\\":\\\\\"제주시\\\\\",\\\\\"originCode\\\\\":\\\\\"ASKR1603000\\\\\",\\\\\"displayName\\\\\":\\\\\"제주시\\\\\",\\\\\"items\\\\\":[],\\\\\"type\\\\\":\\\\\"area\\\\\",\\\\\"tagDisplayName\\\\\":\\\\\"제주\\\\u003e제주시\\\\\"},{\\\\\"code\\\\\":\\\\\"Q000\\\\\",\\\\\"parentCode\\\\\":\\\\\"\\\\\",\\\\\"originName\\\\\":\\\\\"전국\\\\\",\\\\\"originCode\\\\\":\\\\\"ASKR0100000\\\\\",\\\\\"displayName\\\\\":\\\\\"전국\\\\\",\\\\\"items\\\\\":[],\\\\\"type\\\\\":\\\\\"area\\\\\",\\\\\"tagDisplayName\\\\\":\\\\\"전국\\\\\"},{\\\\\"code\\\\\":\\\\\"R000\\\\\",\\\\\"parentCode\\\\\":\\\\\"\\\\\",\\\\\"originName\\\\\":\\\\\"아시아\\\\\",\\\\\"originCode\\\\\":\\\\\"AS000000000\\\\\",\\\\\"displayName\\\\\":\\\\\"아시아·중동\\\\\",\\\\\"items\\\\\":[],\\\\\"type\\\\\":\\\\\"area\\\\\",\\\\\"tagDisplayName\\\\\":\\\\\"아시아·중동\\\\\"},{\\\\\"code\\\\\":\\\\\"R000_\\\\\",\\\\\"parentCode\\\\\":\\\\\"R000\\\\\",\\\\\"originName\\\\\":\\\\\"아시아 전지역\\\\\",\\\\\"originCode\\\\\":\\\\\"ASZZ0000000\\\\\",\\\\\"displayName\\\\\":\\\\\"전지역\\\\\",\\\\\"items\\\\\":[],\\\\\"type\\\\\":\\\\\"area\\\\\",\\\\\"tagDisplayName\\\\\":\\\\\"아시아·중동\\\\u003e전지역\\\\\"},{\\\\\"code\\\\\":\\\\\"R010\\\\\",\\\\\"parentCode\\\\\":\\\\\"R000\\\\\",\\\\\"originName\\\\\":\\\\\"대만\\\\\",\\\\\"originCode\\\\\":\\\\\"ASTW0000000\\\\\",\\\\\"displayName\\\\\":\\\\\"대만\\\\\",\\\\\"items\\\\\":[],\\\\\"type\\\\\":\\\\\"area\\\\\",\\\\\"tagDisplayName\\\\\":\\\\\"아시아·중동\\\\u003e대만\\\\\"},{\\\\\"code\\\\\":\\\\\"R020\\\\\",\\\\\"parentCode\\\\\":\\\\\"R000\\\\\",\\\\\"originName\\\\\":\\\\\"말레이시아\\\\\",\\\\\"originCode\\\\\":\\\\\"ASMY0000000\\\\\",\\\\\"displayName\\\\\":\\\\\"말레이시아\\\\\",\\\\\"items\\\\\":[],\\\\\"type\\\\\":\\\\\"area\\\\\",\\\\\"tagDisplayName\\\\\":\\\\\"아시아·중동\\\\u003e말레이시아\\\\\"},{\\\\\"code\\\\\":\\\\\"R030\\\\\",\\\\\"parentCode\\\\\":\\\\\"R000\\\\\",\\\\\"originName\\\\\":\\\\\"몽골\\\\\",\\\\\"originCode\\\\\":\\\\\"ASMN0000000\\\\\",\\\\\"displayName\\\\\":\\\\\"몽골\\\\\",\\\\\"items\\\\\":[],\\\\\"type\\\\\":\\\\\"area\\\\\",\\\\\"tagDisplayName\\\\\":\\\\\"아시아·중동\\\\u003e몽골\\\\\"},{\\\\\"code\\\\\":\\\\\"R040\\\\\",\\\\\"parentCode\\\\\":\\\\\"R000\\\\\",\\\\\"originName\\\\\":\\\\\"미얀마\\\\\",\\\\\"originCode\\\\\":\\\\\"ASMM0000000\\\\\",\\\\\"displayName\\\\\":\\\\\"미얀마\\\\\",\\\\\"items\\\\\":[],\\\\\"type\\\\\":\\\\\"area\\\\\",\\\\\"tagDisplayName\\\\\":\\\\\"아시아·중동\\\\u003e미얀마\\\\\"},{\\\\\"code\\\\\":\\\\\"R050\\\\\",\\\\\"parentCode\\\\\":\\\\\"R000\\\\\",\\\\\"originName\\\\\":\\\\\"방글라데시\\\\\",\\\\\"originCode\\\\\":\\\\\"ASBD0000000\\\\\",\\\\\"displayName\\\\\":\\\\\"방글라데시\\\\\",\\\\\"items\\\\\":[],\\\\\"type\\\\\":\\\\\"area\\\\\",\\\\\"tagDisplayName\\\\\":\\\\\"아시아·중동\\\\u003e방글라데시\\\\\"},{\\\\\"code\\\\\":\\\\\"R060\\\\\",\\\\\"parentCode\\\\\":\\\\\"R000\\\\\",\\\\\"originName\\\\\":\\\\\"베트남\\\\\",\\\\\"originCode\\\\\":\\\\\"ASVN0000000\\\\\",\\\\\"displayName\\\\\":\\\\\"베트남\\\\\",\\\\\"items\\\\\":[],\\\\\"type\\\\\":\\\\\"area\\\\\",\\\\\"tagDisplayName\\\\\":\\\\\"아시아·중동\\\\u003e베트남\\\\\"},{\\\\\"code\\\\\":\\\\\"R070\\\\\",\\\\\"parentCode\\\\\":\\\\\"R000\\\\\",\\\\\"originName\\\\\":\\\\\"사우디아라비아\\\\\",\\\\\"originCode\\\\\":\\\\\"ASSA0000000\\\\\",\\\\\"displayName\\\\\":\\\\\"사우디아라비아\\\\\",\\\\\"items\\\\\":[],\\\\\"type\\\\\":\\\\\"area\\\\\",\\\\\"tagDisplayName\\\\\":\\\\\"아시아·중동\\\\u003e사우디아라비아\\\\\"},{\\\\\"code\\\\\":\\\\\"R080\\\\\",\\\\\"parentCode\\\\\":\\\\\"R000\\\\\",\\\\\"originName\\\\\":\\\\\"스리랑카\\\\\",\\\\\"originCode\\\\\":\\\\\"ASLK0000000\\\\\",\\\\\"displayName\\\\\":\\\\\"스리랑카\\\\\",\\\\\"items\\\\\":[],\\\\\"type\\\\\":\\\\\"area\\\\\",\\\\\"tagDisplayName\\\\\":\\\\\"아시아·중동\\\\u003e스리랑카\\\\\"},{\\\\\"code\\\\\":\\\\\"R090\\\\\",\\\\\"parentCode\\\\\":\\\\\"R000\\\\\",\\\\\"originName\\\\\":\\\\\"싱가포르\\\\\",\\\\\"originCode\\\\\":\\\\\"ASSG0000000\\\\\",\\\\\"displayName\\\\\":\\\\\"싱가포르\\\\\",\\\\\"items\\\\\":[],\\\\\"type\\\\\":\\\\\"area\\\\\",\\\\\"tagDisplayName\\\\\":\\\\\"아시아·중동\\\\u003e싱가포르\\\\\"},{\\\\\"code\\\\\":\\\\\"R100\\\\\",\\\\\"parentCode\\\\\":\\\\\"R000\\\\\",\\\\\"originName\\\\\":\\\\\"인도\\\\\",\\\\\"originCode\\\\\":\\\\\"ASIN0000000\\\\\",\\\\\"displayName\\\\\":\\\\\"인도\\\\\",\\\\\"items\\\\\":[],\\\\\"type\\\\\":\\\\\"area\\\\\",\\\\\"tagDisplayName\\\\\":\\\\\"아시아·중동\\\\u003e인도\\\\\"},{\\\\\"code\\\\\":\\\\\"R110\\\\\",\\\\\"parentCode\\\\\":\\\\\"R000\\\\\",\\\\\"originName\\\\\":\\\\\"인도네시아\\\\\",\\\\\"originCode\\\\\":\\\\\"ASID0000000\\\\\",\\\\\"displayName\\\\\":\\\\\"인도네시아\\\\\",\\\\\"items\\\\\":[],\\\\\"type\\\\\":\\\\\"area\\\\\",\\\\\"tagDisplayName\\\\\":\\\\\"아시아·중동\\\\u003e인도네시아\\\\\"},{\\\\\"code\\\\\":\\\\\"R120\\\\\",\\\\\"parentCode\\\\\":\\\\\"R000\\\\\",\\\\\"originName\\\\\":\\\\\"캄보디아\\\\\",\\\\\"originCode\\\\\":\\\\\"ASKH0000000\\\\\",\\\\\"displayName\\\\\":\\\\\"캄보디아\\\\\",\\\\\"items\\\\\":[],\\\\\"type\\\\\":\\\\\"area\\\\\",\\\\\"tagDisplayName\\\\\":\\\\\"아시아·중동\\\\u003e캄보디아\\\\\"},{\\\\\"code\\\\\":\\\\\"R130\\\\\",\\\\\"parentCode\\\\\":\\\\\"R000\\\\\",\\\\\"originName\\\\\":\\\\\"태국\\\\\",\\\\\"originCode\\\\\":\\\\\"ASTH0000000\\\\\",\\\\\"displayName\\\\\":\\\\\"태국\\\\\",\\\\\"items\\\\\":[],\\\\\"type\\\\\":\\\\\"area\\\\\",\\\\\"tagDisplayName\\\\\":\\\\\"아시아·중동\\\\u003e태국\\\\\"},{\\\\\"code\\\\\":\\\\\"R140\\\\\",\\\\\"parentCode\\\\\":\\\\\"R000\\\\\",\\\\\"originName\\\\\":\\\\\"필리핀\\\\\",\\\\\"originCode\\\\\":\\\\\"ASPH0000000\\\\\",\\\\\"displayName\\\\\":\\\\\"필리핀\\\\\",\\\\\"items\\\\\":[],\\\\\"type\\\\\":\\\\\"area\\\\\",\\\\\"tagDisplayName\\\\\":\\\\\"아시아·중동\\\\u003e필리핀\\\\\"},{\\\\\"code\\\\\":\\\\\"R160\\\\\",\\\\\"parentCode\\\\\":\\\\\"R000\\\\\",\\\\\"originName\\\\\":\\\\\"네팔\\\\\",\\\\\"originCode\\\\\":\\\\\"ASNP0000000\\\\\",\\\\\"displayName\\\\\":\\\\\"네팔\\\\\",\\\\\"items\\\\\":[],\\\\\"type\\\\\":\\\\\"area\\\\\",\\\\\"tagDisplayName\\\\\":\\\\\"아시아·중동\\\\u003e네팔\\\\\"},{\\\\\"code\\\\\":\\\\\"R170\\\\\",\\\\\"parentCode\\\\\":\\\\\"R000\\\\\",\\\\\"originName\\\\\":\\\\\"동티모르\\\\\",\\\\\"originCode\\\\\":\\\\\"ASTL0000000\\\\\",\\\\\"displayName\\\\\":\\\\\"동티모르\\\\\",\\\\\"items\\\\\":[],\\\\\"type\\\\\":\\\\\"area\\\\\",\\\\\"tagDisplayName\\\\\":\\\\\"아시아·중동\\\\u003e동티모르\\\\\"},{\\\\\"code\\\\\":\\\\\"R180\\\\\",\\\\\"parentCode\\\\\":\\\\\"R000\\\\\",\\\\\"originName\\\\\":\\\\\"라오스\\\\\",\\\\\"originCode\\\\\":\\\\\"ASLA0000000\\\\\",\\\\\"displayName\\\\\":\\\\\"라오스\\\\\",\\\\\"items\\\\\":[],\\\\\"type\\\\\":\\\\\"area\\\\\",\\\\\"tagDisplayName\\\\\":\\\\\"아시아·중동\\\\u003e라오스\\\\\"},{\\\\\"code\\\\\":\\\\\"R190\\\\\",\\\\\"parentCode\\\\\":\\\\\"R000\\\\\",\\\\\"originName\\\\\":\\\\\"레바논\\\\\",\\\\\"originCode\\\\\":\\\\\"ASLB0000000\\\\\",\\\\\"displayName\\\\\":\\\\\"레바논\\\\\",\\\\\"items\\\\\":[],\\\\\"type\\\\\":\\\\\"area\\\\\",\\\\\"tagDisplayName\\\\\":\\\\\"아시아·중동\\\\u003e레바논\\\\\"},{\\\\\"code\\\\\":\\\\\"R200\\\\\",\\\\\"parentCode\\\\\":\\\\\"R000\\\\\",\\\\\"originName\\\\\":\\\\\"몰디브\\\\\",\\\\\"originCode\\\\\":\\\\\"ASMV0000000\\\\\",\\\\\"displayName\\\\\":\\\\\"몰디브\\\\\",\\\\\"items\\\\\":[],\\\\\"type\\\\\":\\\\\"area\\\\\",\\\\\"tagDisplayName\\\\\":\\\\\"아시아·중동\\\\u003e몰디브\\\\\"},{\\\\\"code\\\\\":\\\\\"R210\\\\\",\\\\\"parentCode\\\\\":\\\\\"R000\\\\\",\\\\\"originName\\\\\":\\\\\"바레인\\\\\",\\\\\"originCode\\\\\":\\\\\"ASBH0000000\\\\\",\\\\\"displayName\\\\\":\\\\\"바레인\\\\\",\\\\\"items\\\\\":[],\\\\\"type\\\\\":\\\\\"area\\\\\",\\\\\"tagDisplayName\\\\\":\\\\\"아시아·중동\\\\u003e바레인\\\\\"},{\\\\\"code\\\\\":\\\\\"R220\\\\\",\\\\\"parentCode\\\\\":\\\\\"R000\\\\\",\\\\\"originName\\\\\":\\\\\"부탄\\\\\",\\\\\"originCode\\\\\":\\\\\"ASBT0000000\\\\\",\\\\\"displayName\\\\\":\\\\\"부탄\\\\\",\\\\\"items\\\\\":[],\\\\\"type\\\\\":\\\\\"area\\\\\",\\\\\"tagDisplayName\\\\\":\\\\\"아시아·중동\\\\u003e부탄\\\\\"},{\\\\\"code\\\\\":\\\\\"R230\\\\\",\\\\\"parentCode\\\\\":\\\\\"R000\\\\\",\\\\\"originName\\\\\":\\\\\"브루나이\\\\\",\\\\\"originCode\\\\\":\\\\\"ASBN0000000\\\\\",\\\\\"displayName\\\\\":\\\\\"브루나이\\\\\",\\\\\"items\\\\\":[],\\\\\"type\\\\\":\\\\\"area\\\\\",\\\\\"tagDisplayName\\\\\":\\\\\"아시아·중동\\\\u003e브루나이\\\\\"},{\\\\\"code\\\\\":\\\\\"R240\\\\\",\\\\\"parentCode\\\\\":\\\\\"R000\\\\\",\\\\\"originName\\\\\":\\\\\"시리아\\\\\",\\\\\"originCode\\\\\":\\\\\"ASSY0000000\\\\\",\\\\\"displayName\\\\\":\\\\\"시리아\\\\\",\\\\\"items\\\\\":[],\\\\\"type\\\\\":\\\\\"area\\\\\",\\\\\"tagDisplayName\\\\\":\\\\\"아시아·중동\\\\u003e시리아\\\\\"},{\\\\\"code\\\\\":\\\\\"R250\\\\\",\\\\\"parentCode\\\\\":\\\\\"R000\\\\\",\\\\\"originName\\\\\":\\\\\"아랍에미리트연합국\\\\\",\\\\\"originCode\\\\\":\\\\\"ASAE0000000\\\\\",\\\\\"displayName\\\\\":\\\\\"아랍에미리트연합국\\\\\",\\\\\"items\\\\\":[],\\\\\"type\\\\\":\\\\\"area\\\\\",\\\\\"tagDisplayName\\\\\":\\\\\"아시아·중동\\\\u003e아랍에미리트연합국\\\\\"},{\\\\\"code\\\\\":\\\\\"R260\\\\\",\\\\\"parentCode\\\\\":\\\\\"R000\\\\\",\\\\\"originName\\\\\":\\\\\"아프가니스탄\\\\\",\\\\\"originCode\\\\\":\\\\\"ASAF0000000\\\\\",\\\\\"displayName\\\\\":\\\\\"아프가니스탄\\\\\",\\\\\"items\\\\\":[],\\\\\"type\\\\\":\\\\\"area\\\\\",\\\\\"tagDisplayName\\\\\":\\\\\"아시아·중동\\\\u003e아프가니스탄\\\\\"},{\\\\\"code\\\\\":\\\\\"R270\\\\\",\\\\\"parentCode\\\\\":\\\\\"R000\\\\\",\\\\\"originName\\\\\":\\\\\"예멘\\\\\",\\\\\"originCode\\\\\":\\\\\"ASYE0000000\\\\\",\\\\\"displayName\\\\\":\\\\\"예멘\\\\\",\\\\\"items\\\\\":[],\\\\\"type\\\\\":\\\\\"area\\\\\",\\\\\"tagDisplayName\\\\\":\\\\\"아시아·중동\\\\u003e예멘\\\\\"},{\\\\\"code\\\\\":\\\\\"R280\\\\\",\\\\\"parentCode\\\\\":\\\\\"R000\\\\\",\\\\\"originName\\\\\":\\\\\"오만\\\\\",\\\\\"originCode\\\\\":\\\\\"ASOM0000000\\\\\",\\\\\"displayName\\\\\":\\\\\"오만\\\\\",\\\\\"items\\\\\":[],\\\\\"type\\\\\":\\\\\"area\\\\\",\\\\\"tagDisplayName\\\\\":\\\\\"아시아·중동\\\\u003e오만\\\\\"},{\\\\\"code\\\\\":\\\\\"R290\\\\\",\\\\\"parentCode\\\\\":\\\\\"R000\\\\\",\\\\\"originName\\\\\":\\\\\"요르단\\\\\",\\\\\"originCode\\\\\":\\\\\"ASJO0000000\\\\\",\\\\\"displayName\\\\\":\\\\\"요르단\\\\\",\\\\\"items\\\\\":[],\\\\\"type\\\\\":\\\\\"area\\\\\",\\\\\"tagDisplayName\\\\\":\\\\\"아시아·중동\\\\u003e요르단\\\\\"},{\\\\\"code\\\\\":\\\\\"R300\\\\\",\\\\\"parentCode\\\\\":\\\\\"R000\\\\\",\\\\\"originName\\\\\":\\\\\"이라크\\\\\",\\\\\"originCode\\\\\":\\\\\"ASIQ0000000\\\\\",\\\\\"displayName\\\\\":\\\\\"이라크\\\\\",\\\\\"items\\\\\":[],\\\\\"type\\\\\":\\\\\"area\\\\\",\\\\\"tagDisplayName\\\\\":\\\\\"아시아·중동\\\\u003e이라크\\\\\"},{\\\\\"code\\\\\":\\\\\"R310\\\\\",\\\\\"parentCode\\\\\":\\\\\"R000\\\\\",\\\\\"originName\\\\\":\\\\\"이란\\\\\",\\\\\"originCode\\\\\":\\\\\"ASIR0000000\\\\\",\\\\\"displayName\\\\\":\\\\\"이란\\\\\",\\\\\"items\\\\\":[],\\\\\"type\\\\\":\\\\\"area\\\\\",\\\\\"tagDisplayName\\\\\":\\\\\"아시아·중동\\\\u003e이란\\\\\"},{\\\\\"code\\\\\":\\\\\"R320\\\\\",\\\\\"parentCode\\\\\":\\\\\"R000\\\\\",\\\\\"originName\\\\\":\\\\\"이스라엘\\\\\",\\\\\"originCode\\\\\":\\\\\"ASIL0000000\\\\\",\\\\\"displayName\\\\\":\\\\\"이스라엘\\\\\",\\\\\"items\\\\\":[],\\\\\"type\\\\\":\\\\\"area\\\\\",\\\\\"tagDisplayName\\\\\":\\\\\"아시아·중동\\\\u003e이스라엘\\\\\"},{\\\\\"code\\\\\":\\\\\"R330\\\\\",\\\\\"parentCode\\\\\":\\\\\"R000\\\\\",\\\\\"originName\\\\\":\\\\\"카타르\\\\\",\\\\\"originCode\\\\\":\\\\\"ASQA0000000\\\\\",\\\\\"displayName\\\\\":\\\\\"카타르\\\\\",\\\\\"items\\\\\":[],\\\\\"type\\\\\":\\\\\"area\\\\\",\\\\\"tagDisplayName\\\\\":\\\\\"아시아·중동\\\\u003e카타르\\\\\"},{\\\\\"code\\\\\":\\\\\"R340\\\\\",\\\\\"parentCode\\\\\":\\\\\"R000\\\\\",\\\\\"originName\\\\\":\\\\\"쿠웨이트\\\\\",\\\\\"originCode\\\\\":\\\\\"ASKW0000000\\\\\",\\\\\"displayName\\\\\":\\\\\"쿠웨이트\\\\\",\\\\\"items\\\\\":[],\\\\\"type\\\\\":\\\\\"area\\\\\",\\\\\"tagDisplayName\\\\\":\\\\\"아시아·중동\\\\u003e쿠웨이트\\\\\"},{\\\\\"code\\\\\":\\\\\"R350\\\\\",\\\\\"parentCode\\\\\":\\\\\"R000\\\\\",\\\\\"originName\\\\\":\\\\\"파키스탄\\\\\",\\\\\"originCode\\\\\":\\\\\"ASPK0000000\\\\\",\\\\\"displayName\\\\\":\\\\\"파키스탄\\\\\",\\\\\"items\\\\\":[],\\\\\"type\\\\\":\\\\\"area\\\\\",\\\\\"tagDisplayName\\\\\":\\\\\"아시아·중동\\\\u003e파키스탄\\\\\"},{\\\\\"code\\\\\":\\\\\"R360\\\\\",\\\\\"parentCode\\\\\":\\\\\"R000\\\\\",\\\\\"originName\\\\\":\\\\\"조지아\\\\\",\\\\\"originCode\\\\\":\\\\\"ASGE0000000\\\\\",\\\\\"displayName\\\\\":\\\\\"조지아\\\\\",\\\\\"items\\\\\":[],\\\\\"type\\\\\":\\\\\"area\\\\\",\\\\\"tagDisplayName\\\\\":\\\\\"아시아·중동\\\\u003e조지아\\\\\"},{\\\\\"code\\\\\":\\\\\"R370\\\\\",\\\\\"parentCode\\\\\":\\\\\"R000\\\\\",\\\\\"originName\\\\\":\\\\\"우즈베키스탄\\\\\",\\\\\"originCode\\\\\":\\\\\"ASUZ0000000\\\\\",\\\\\"displayName\\\\\":\\\\\"우즈베키스탄\\\\\",\\\\\"items\\\\\":[],\\\\\"type\\\\\":\\\\\"area\\\\\",\\\\\"tagDisplayName\\\\\":\\\\\"아시아·중동\\\\u003e우즈베키스탄\\\\\"},{\\\\\"code\\\\\":\\\\\"R380\\\\\",\\\\\"parentCode\\\\\":\\\\\"R000\\\\\",\\\\\"originName\\\\\":\\\\\"카자흐스탄\\\\\",\\\\\"originCode\\\\\":\\\\\"ASKZ0000000\\\\\",\\\\\"displayName\\\\\":\\\\\"카자흐스탄\\\\\",\\\\\"items\\\\\":[],\\\\\"type\\\\\":\\\\\"area\\\\\",\\\\\"tagDisplayName\\\\\":\\\\\"아시아·중동\\\\u003e카자흐스탄\\\\\"},{\\\\\"code\\\\\":\\\\\"R390\\\\\",\\\\\"parentCode\\\\\":\\\\\"R000\\\\\",\\\\\"originName\\\\\":\\\\\"키르기즈스탄\\\\\",\\\\\"originCode\\\\\":\\\\\"ASKG0000000\\\\\",\\\\\"displayName\\\\\":\\\\\"키르기즈스탄\\\\\",\\\\\"items\\\\\":[],\\\\\"type\\\\\":\\\\\"area\\\\\",\\\\\"tagDisplayName\\\\\":\\\\\"아시아·중동\\\\u003e키르기즈스탄\\\\\"},{\\\\\"code\\\\\":\\\\\"R400\\\\\",\\\\\"parentCode\\\\\":\\\\\"R000\\\\\",\\\\\"originName\\\\\":\\\\\"타지키스탄\\\\\",\\\\\"originCode\\\\\":\\\\\"ASTJ0000000\\\\\",\\\\\"displayName\\\\\":\\\\\"타지키스탄\\\\\",\\\\\"items\\\\\":[],\\\\\"type\\\\\":\\\\\"area\\\\\",\\\\\"tagDisplayName\\\\\":\\\\\"아시아·중동\\\\u003e타지키스탄\\\\\"},{\\\\\"code\\\\\":\\\\\"R410\\\\\",\\\\\"parentCode\\\\\":\\\\\"R000\\\\\",\\\\\"originName\\\\\":\\\\\"투르크메니스탄\\\\\",\\\\\"originCode\\\\\":\\\\\"ASTM0000000\\\\\",\\\\\"displayName\\\\\":\\\\\"투르크메니스탄\\\\\",\\\\\"items\\\\\":[],\\\\\"type\\\\\":\\\\\"area\\\\\",\\\\\"tagDisplayName\\\\\":\\\\\"아시아·중동\\\\u003e투르크메니스탄\\\\\"},{\\\\\"code\\\\\":\\\\\"R150\\\\\",\\\\\"parentCode\\\\\":\\\\\"R000\\\\\",\\\\\"originName\\\\\":\\\\\"기타\\\\\",\\\\\"originCode\\\\\":\\\\\"ASZY0000000\\\\\",\\\\\"displayName\\\\\":\\\\\"기타\\\\\",\\\\\"items\\\\\":[],\\\\\"type\\\\\":\\\\\"area\\\\\",\\\\\"tagDisplayName\\\\\":\\\\\"아시아·중동\\\\u003e기타\\\\\"},{\\\\\"code\\\\\":\\\\\"X000\\\\\",\\\\\"parentCode\\\\\":\\\\\"\\\\\",\\\\\"originName\\\\\":\\\\\"중국\\\\\",\\\\\"originCode\\\\\":\\\\\"ASCN0000000\\\\\",\\\\\"displayName\\\\\":\\\\\"중국·홍콩\\\\\",\\\\\"items\\\\\":[],\\\\\"type\\\\\":\\\\\"area\\\\\",\\\\\"tagDisplayName\\\\\":\\\\\"중국·홍콩\\\\\"},{\\\\\"code\\\\\":\\\\\"X000_\\\\\",\\\\\"parentCode\\\\\":\\\\\"X000\\\\\",\\\\\"originName\\\\\":\\\\\"중국 전지역\\\\\",\\\\\"originCode\\\\\":\\\\\"ASCN0100000\\\\\",\\\\\"displayName\\\\\":\\\\\"전지역\\\\\",\\\\\"items\\\\\":[],\\\\\"type\\\\\":\\\\\"area\\\\\",\\\\\"tagDisplayName\\\\\":\\\\\"중국·홍콩\\\\u003e전지역\\\\\"},{\\\\\"code\\\\\":\\\\\"X010\\\\\",\\\\\"parentCode\\\\\":\\\\\"X000\\\\\",\\\\\"originName\\\\\":\\\\\"북경\\\\\",\\\\\"originCode\\\\\":\\\\\"ASCN1000000\\\\\",\\\\\"displayName\\\\\":\\\\\"북경\\\\\",\\\\\"items\\\\\":[],\\\\\"type\\\\\":\\\\\"area\\\\\",\\\\\"tagDisplayName\\\\\":\\\\\"중국·홍콩\\\\u003e북경\\\\\"},{\\\\\"code\\\\\":\\\\\"X020\\\\\",\\\\\"parentCode\\\\\":\\\\\"X000\\\\\",\\\\\"originName\\\\\":\\\\\"천진\\\\\",\\\\\"originCode\\\\\":\\\\\"ASCN2100000\\\\\",\\\\\"displayName\\\\\":\\\\\"천진\\\\\",\\\\\"items\\\\\":[],\\\\\"type\\\\\":\\\\\"area\\\\\",\\\\\"tagDisplayName\\\\\":\\\\\"중국·홍콩\\\\u003e천진\\\\\"},{\\\\\"code\\\\\":\\\\\"X030\\\\\",\\\\\"parentCode\\\\\":\\\\\"X000\\\\\",\\\\\"originName\\\\\":\\\\\"상해\\\\\",\\\\\"originCode\\\\\":\\\\\"ASCN1400000\\\\\",\\\\\"displayName\\\\\":\\\\\"상해\\\\\",\\\\\"items\\\\\":[],\\\\\"type\\\\\":\\\\\"area\\\\\",\\\\\"tagDisplayName\\\\\":\\\\\"중국·홍콩\\\\u003e상해\\\\\"},{\\\\\"code\\\\\":\\\\\"X040\\\\\",\\\\\"parentCode\\\\\":\\\\\"X000\\\\\",\\\\\"originName\\\\\":\\\\\"중경\\\\\",\\\\\"originCode\\\\\":\\\\\"ASCN2000000\\\\\",\\\\\"displayName\\\\\":\\\\\"중경\\\\\",\\\\\"items\\\\\":[],\\\\\"type\\\\\":\\\\\"area\\\\\",\\\\\"tagDisplayName\\\\\":\\\\\"중국·홍콩\\\\u003e중경\\\\\"},{\\\\\"code\\\\\":\\\\\"X070\\\\\",\\\\\"parentCode\\\\\":\\\\\"X000\\\\\",\\\\\"originName\\\\\":\\\\\"감숙성\\\\\",\\\\\"originCode\\\\\":\\\\\"ASCN0200000\\\\\",\\\\\"displayName\\\\\":\\\\\"감숙성\\\\\",\\\\\"items\\\\\":[],\\\\\"type\\\\\":\\\\\"area\\\\\",\\\\\"tagDisplayName\\\\\":\\\\\"중국·홍콩\\\\u003e감숙성\\\\\"},{\\\\\"code\\\\\":\\\\\"X080\\\\\",\\\\\"parentCode\\\\\":\\\\\"X000\\\\\",\\\\\"originName\\\\\":\\\\\"강서성\\\\\",\\\\\"originCode\\\\\":\\\\\"ASCN0300000\\\\\",\\\\\"displayName\\\\\":\\\\\"강서성\\\\\",\\\\\"items\\\\\":[],\\\\\"type\\\\\":\\\\\"area\\\\\",\\\\\"tagDisplayName\\\\\":\\\\\"중국·홍콩\\\\u003e강서성\\\\\"},{\\\\\"code\\\\\":\\\\\"X090\\\\\",\\\\\"parentCode\\\\\":\\\\\"X000\\\\\",\\\\\"originName\\\\\":\\\\\"강소성\\\\\",\\\\\"originCode\\\\\":\\\\\"ASCN0400000\\\\\",\\\\\"displayName\\\\\":\\\\\"강소성\\\\\",\\\\\"items\\\\\":[],\\\\\"type\\\\\":\\\\\"area\\\\\",\\\\\"tagDisplayName\\\\\":\\\\\"중국·홍콩\\\\u003e강소성\\\\\"},{\\\\\"code\\\\\":\\\\\"X100\\\\\",\\\\\"parentCode\\\\\":\\\\\"X000\\\\\",\\\\\"originName\\\\\":\\\\\"광동성\\\\\",\\\\\"originCode\\\\\":\\\\\"ASCN0500000\\\\\",\\\\\"displayName\\\\\":\\\\\"광동성\\\\\",\\\\\"items\\\\\":[],\\\\\"type\\\\\":\\\\\"area\\\\\",\\\\\"tagDisplayName\\\\\":\\\\\"중국·홍콩\\\\u003e광동성\\\\\"},{\\\\\"code\\\\\":\\\\\"X110\\\\\",\\\\\"parentCode\\\\\":\\\\\"X000\\\\\",\\\\\"originName\\\\\":\\\\\"귀주성\\\\\",\\\\\"originCode\\\\\":\\\\\"ASCN0600000\\\\\",\\\\\"displayName\\\\\":\\\\\"귀주성\\\\\",\\\\\"items\\\\\":[],\\\\\"type\\\\\":\\\\\"area\\\\\",\\\\\"tagDisplayName\\\\\":\\\\\"중국·홍콩\\\\u003e귀주성\\\\\"},{\\\\\"code\\\\\":\\\\\"X120\\\\\",\\\\\"parentCode\\\\\":\\\\\"X000\\\\\",\\\\\"originName\\\\\":\\\\\"길림성\\\\\",\\\\\"originCode\\\\\":\\\\\"ASCN0800000\\\\\",\\\\\"displayName\\\\\":\\\\\"길림성\\\\\",\\\\\"items\\\\\":[],\\\\\"type\\\\\":\\\\\"area\\\\\",\\\\\"tagDisplayName\\\\\":\\\\\"중국·홍콩\\\\u003e길림성\\\\\"},{\\\\\"code\\\\\":\\\\\"X130\\\\\",\\\\\"parentCode\\\\\":\\\\\"X000\\\\\",\\\\\"originName\\\\\":\\\\\"복건성\\\\\",\\\\\"originCode\\\\\":\\\\\"ASCN0900000\\\\\",\\\\\"displayName\\\\\":\\\\\"복건성\\\\\",\\\\\"items\\\\\":[],\\\\\"type\\\\\":\\\\\"area\\\\\",\\\\\"tagDisplayName\\\\\":\\\\\"중국·홍콩\\\\u003e복건성\\\\\"},{\\\\\"code\\\\\":\\\\\"X140\\\\\",\\\\\"parentCode\\\\\":\\\\\"X000\\\\\",\\\\\"originName\\\\\":\\\\\"사천성\\\\\",\\\\\"originCode\\\\\":\\\\\"ASCN1100000\\\\\",\\\\\"displayName\\\\\":\\\\\"사천성\\\\\",\\\\\"items\\\\\":[],\\\\\"type\\\\\":\\\\\"area\\\\\",\\\\\"tagDisplayName\\\\\":\\\\\"중국·홍콩\\\\u003e사천성\\\\\"},{\\\\\"code\\\\\":\\\\\"X150\\\\\",\\\\\"parentCode\\\\\":\\\\\"X000\\\\\",\\\\\"originName\\\\\":\\\\\"산동성\\\\\",\\\\\"originCode\\\\\":\\\\\"ASCN1200000\\\\\",\\\\\"displayName\\\\\":\\\\\"산동성\\\\\",\\\\\"items\\\\\":[],\\\\\"type\\\\\":\\\\\"area\\\\\",\\\\\"tagDisplayName\\\\\":\\\\\"중국·홍콩\\\\u003e산동성\\\\\"},{\\\\\"code\\\\\":\\\\\"X160\\\\\",\\\\\"parentCode\\\\\":\\\\\"X000\\\\\",\\\\\"originName\\\\\":\\\\\"산서성\\\\\",\\\\\"originCode\\\\\":\\\\\"ASCN1300000\\\\\",\\\\\"displayName\\\\\":\\\\\"산서성\\\\\",\\\\\"items\\\\\":[],\\\\\"type\\\\\":\\\\\"area\\\\\",\\\\\"tagDisplayName\\\\\":\\\\\"중국·홍콩\\\\u003e산서성\\\\\"},{\\\\\"code\\\\\":\\\\\"X170\\\\\",\\\\\"parentCode\\\\\":\\\\\"X000\\\\\",\\\\\"originName\\\\\":\\\\\"섬서성\\\\\",\\\\\"originCode\\\\\":\\\\\"ASCN1500000\\\\\",\\\\\"displayName\\\\\":\\\\\"섬서성\\\\\",\\\\\"items\\\\\":[],\\\\\"type\\\\\":\\\\\"area\\\\\",\\\\\"tagDisplayName\\\\\":\\\\\"중국·홍콩\\\\u003e섬서성\\\\\"},{\\\\\"code\\\\\":\\\\\"X180\\\\\",\\\\\"parentCode\\\\\":\\\\\"X000\\\\\",\\\\\"originName\\\\\":\\\\\"안휘성\\\\\",\\\\\"originCode\\\\\":\\\\\"ASCN1600000\\\\\",\\\\\"displayName\\\\\":\\\\\"안휘성\\\\\",\\\\\"items\\\\\":[],\\\\\"type\\\\\":\\\\\"area\\\\\",\\\\\"tagDisplayName\\\\\":\\\\\"중국·홍콩\\\\u003e안휘성\\\\\"},{\\\\\"code\\\\\":\\\\\"X190\\\\\",\\\\\"parentCode\\\\\":\\\\\"X000\\\\\",\\\\\"originName\\\\\":\\\\\"요녕성\\\\\",\\\\\"originCode\\\\\":\\\\\"ASCN1700000\\\\\",\\\\\"displayName\\\\\":\\\\\"요녕성\\\\\",\\\\\"items\\\\\":[],\\\\\"type\\\\\":\\\\\"area\\\\\",\\\\\"tagDisplayName\\\\\":\\\\\"중국·홍콩\\\\u003e요녕성\\\\\"},{\\\\\"code\\\\\":\\\\\"X200\\\\\",\\\\\"parentCode\\\\\":\\\\\"X000\\\\\",\\\\\"originName\\\\\":\\\\\"운남성\\\\\",\\\\\"originCode\\\\\":\\\\\"ASCN1800000\\\\\",\\\\\"displayName\\\\\":\\\\\"운남성\\\\\",\\\\\"items\\\\\":[],\\\\\"type\\\\\":\\\\\"area\\\\\",\\\\\"tagDisplayName\\\\\":\\\\\"중국·홍콩\\\\u003e운남성\\\\\"},{\\\\\"code\\\\\":\\\\\"X210\\\\\",\\\\\"parentCode\\\\\":\\\\\"X000\\\\\",\\\\\"originName\\\\\":\\\\\"절강성\\\\\",\\\\\"originCode\\\\\":\\\\\"ASCN1900000\\\\\",\\\\\"displayName\\\\\":\\\\\"절강성\\\\\",\\\\\"items\\\\\":[],\\\\\"type\\\\\":\\\\\"area\\\\\",\\\\\"tagDisplayName\\\\\":\\\\\"중국·홍콩\\\\u003e절강성\\\\\"},{\\\\\"code\\\\\":\\\\\"X220\\\\\",\\\\\"parentCode\\\\\":\\\\\"X000\\\\\",\\\\\"originName\\\\\":\\\\\"청해성\\\\\",\\\\\"originCode\\\\\":\\\\\"ASCN2200000\\\\\",\\\\\"displayName\\\\\":\\\\\"청해성\\\\\",\\\\\"items\\\\\":[],\\\\\"type\\\\\":\\\\\"area\\\\\",\\\\\"tagDisplayName\\\\\":\\\\\"중국·홍콩\\\\u003e청해성\\\\\"},{\\\\\"code\\\\\":\\\\\"X230\\\\\",\\\\\"parentCode\\\\\":\\\\\"X000\\\\\",\\\\\"originName\\\\\":\\\\\"하남성\\\\\",\\\\\"originCode\\\\\":\\\\\"ASCN2300000\\\\\",\\\\\"displayName\\\\\":\\\\\"하남성\\\\\",\\\\\"items\\\\\":[],\\\\\"type\\\\\":\\\\\"area\\\\\",\\\\\"tagDisplayName\\\\\":\\\\\"중국·홍콩\\\\u003e하남성\\\\\"},{\\\\\"code\\\\\":\\\\\"X240\\\\\",\\\\\"parentCode\\\\\":\\\\\"X000\\\\\",\\\\\"originName\\\\\":\\\\\"하북성\\\\\",\\\\\"originCode\\\\\":\\\\\"ASCN2400000\\\\\",\\\\\"displayName\\\\\":\\\\\"하북성\\\\\",\\\\\"items\\\\\":[],\\\\\"type\\\\\":\\\\\"area\\\\\",\\\\\"tagDisplayName\\\\\":\\\\\"중국·홍콩\\\\u003e하북성\\\\\"},{\\\\\"code\\\\\":\\\\\"X250\\\\\",\\\\\"parentCode\\\\\":\\\\\"X000\\\\\",\\\\\"originName\\\\\":\\\\\"해남성\\\\\",\\\\\"originCode\\\\\":\\\\\"ASCN2500000\\\\\",\\\\\"displayName\\\\\":\\\\\"해남성\\\\\",\\\\\"items\\\\\":[],\\\\\"type\\\\\":\\\\\"area\\\\\",\\\\\"tagDisplayName\\\\\":\\\\\"중국·홍콩\\\\u003e해남성\\\\\"},{\\\\\"code\\\\\":\\\\\"X260\\\\\",\\\\\"parentCode\\\\\":\\\\\"X000\\\\\",\\\\\"originName\\\\\":\\\\\"호남성\\\\\",\\\\\"originCode\\\\\":\\\\\"ASCN2600000\\\\\",\\\\\"displayName\\\\\":\\\\\"호남성\\\\\",\\\\\"items\\\\\":[],\\\\\"type\\\\\":\\\\\"area\\\\\",\\\\\"tagDisplayName\\\\\":\\\\\"중국·홍콩\\\\u003e호남성\\\\\"},{\\\\\"code\\\\\":\\\\\"X270\\\\\",\\\\\"parentCode\\\\\":\\\\\"X000\\\\\",\\\\\"originName\\\\\":\\\\\"호북성\\\\\",\\\\\"originCode\\\\\":\\\\\"ASCN2700000\\\\\",\\\\\"displayName\\\\\":\\\\\"호북성\\\\\",\\\\\"items\\\\\":[],\\\\\"type\\\\\":\\\\\"area\\\\\",\\\\\"tagDisplayName\\\\\":\\\\\"중국·홍콩\\\\u003e호북성\\\\\"},{\\\\\"code\\\\\":\\\\\"X280\\\\\",\\\\\"parentCode\\\\\":\\\\\"X000\\\\\",\\\\\"originName\\\\\":\\\\\"흑룡강성\\\\\",\\\\\"originCode\\\\\":\\\\\"ASCN2800000\\\\\",\\\\\"displayName\\\\\":\\\\\"흑룡강성\\\\\",\\\\\"items\\\\\":[],\\\\\"type\\\\\":\\\\\"area\\\\\",\\\\\"tagDisplayName\\\\\":\\\\\"중국·홍콩\\\\u003e흑룡강성\\\\\"},{\\\\\"code\\\\\":\\\\\"X290\\\\\",\\\\\"parentCode\\\\\":\\\\\"X000\\\\\",\\\\\"originName\\\\\":\\\\\"기타\\\\\",\\\\\"originCode\\\\\":\\\\\"ASCN0700000\\\\\",\\\\\"displayName\\\\\":\\\\\"기타\\\\\",\\\\\"items\\\\\":[],\\\\\"type\\\\\":\\\\\"area\\\\\",\\\\\"tagDisplayName\\\\\":\\\\\"중국·홍콩\\\\u003e기타\\\\\"},{\\\\\"code\\\\\":\\\\\"Z000\\\\\",\\\\\"parentCode\\\\\":\\\\\"\\\\\",\\\\\"originName\\\\\":\\\\\"일본\\\\\",\\\\\"originCode\\\\\":\\\\\"ASJP0000000\\\\\",\\\\\"displayName\\\\\":\\\\\"일본\\\\\",\\\\\"items\\\\\":[],\\\\\"type\\\\\":\\\\\"area\\\\\",\\\\\"tagDisplayName\\\\\":\\\\\"일본\\\\\"},{\\\\\"code\\\\\":\\\\\"Z000_\\\\\",\\\\\"parentCode\\\\\":\\\\\"Z000\\\\\",\\\\\"originName\\\\\":\\\\\"일본 전지역\\\\\",\\\\\"originCode\\\\\":\\\\\"ASJP0100000\\\\\",\\\\\"displayName\\\\\":\\\\\"전지역\\\\\",\\\\\"items\\\\\":[],\\\\\"type\\\\\":\\\\\"area\\\\\",\\\\\"tagDisplayName\\\\\":\\\\\"일본\\\\u003e전지역\\\\\"},{\\\\\"code\\\\\":\\\\\"Z010\\\\\",\\\\\"parentCode\\\\\":\\\\\"Z000\\\\\",\\\\\"originName\\\\\":\\\\\"도쿄\\\\\",\\\\\"originCode\\\\\":\\\\\"ASJP0800000\\\\\",\\\\\"displayName\\\\\":\\\\\"도쿄\\\\\",\\\\\"items\\\\\":[],\\\\\"type\\\\\":\\\\\"area\\\\\",\\\\\"tagDisplayName\\\\\":\\\\\"일본\\\\u003e도쿄\\\\\"},{\\\\\"code\\\\\":\\\\\"Z020\\\\\",\\\\\"parentCode\\\\\":\\\\\"Z000\\\\\",\\\\\"originName\\\\\":\\\\\"오사카\\\\\",\\\\\"originCode\\\\\":\\\\\"ASJP2400000\\\\\",\\\\\"displayName\\\\\":\\\\\"오사카\\\\\",\\\\\"items\\\\\":[],\\\\\"type\\\\\":\\\\\"area\\\\\",\\\\\"tagDisplayName\\\\\":\\\\\"일본\\\\u003e오사카\\\\\"},{\\\\\"code\\\\\":\\\\\"Z030\\\\\",\\\\\"parentCode\\\\\":\\\\\"Z000\\\\\",\\\\\"originName\\\\\":\\\\\"쿄토\\\\\",\\\\\"originCode\\\\\":\\\\\"ASJP3700000\\\\\",\\\\\"displayName\\\\\":\\\\\"쿄토\\\\\",\\\\\"items\\\\\":[],\\\\\"type\\\\\":\\\\\"area\\\\\",\\\\\"tagDisplayName\\\\\":\\\\\"일본\\\\u003e쿄토\\\\\"},{\\\\\"code\\\\\":\\\\\"Z040\\\\\",\\\\\"parentCode\\\\\":\\\\\"Z000\\\\\",\\\\\"originName\\\\\":\\\\\"카가와\\\\\",\\\\\"originCode\\\\\":\\\\\"ASJP3300000\\\\\",\\\\\"displayName\\\\\":\\\\\"카가와\\\\\",\\\\\"items\\\\\":[],\\\\\"type\\\\\":\\\\\"area\\\\\",\\\\\"tagDisplayName\\\\\":\\\\\"일본\\\\u003e카가와\\\\\"},{\\\\\"code\\\\\":\\\\\"Z050\\\\\",\\\\\"parentCode\\\\\":\\\\\"Z000\\\\\",\\\\\"originName\\\\\":\\\\\"카고시마\\\\\",\\\\\"originCode\\\\\":\\\\\"ASJP3400000\\\\\",\\\\\"displayName\\\\\":\\\\\"카고시마\\\\\",\\\\\"items\\\\\":[],\\\\\"type\\\\\":\\\\\"area\\\\\",\\\\\"tagDisplayName\\\\\":\\\\\"일본\\\\u003e카고시마\\\\\"},{\\\\\"code\\\\\":\\\\\"Z060\\\\\",\\\\\"parentCode\\\\\":\\\\\"Z000\\\\\",\\\\\"originName\\\\\":\\\\\"카나가와\\\\\",\\\\\"originCode\\\\\":\\\\\"ASJP3500000\\\\\",\\\\\"displayName\\\\\":\\\\\"카나가와\\\\\",\\\\\"items\\\\\":[],\\\\\"type\\\\\":\\\\\"area\\\\\",\\\\\"tagDisplayName\\\\\":\\\\\"일본\\\\u003e카나가와\\\\\"},{\\\\\"code\\\\\":\\\\\"Z070\\\\\",\\\\\"parentCode\\\\\":\\\\\"Z000\\\\\",\\\\\"originName\\\\\":\\\\\"코치\\\\\",\\\\\"originCode\\\\\":\\\\\"ASJP3600000\\\\\",\\\\\"displayName\\\\\":\\\\\"코치\\\\\",\\\\\"items\\\\\":[],\\\\\"type\\\\\":\\\\\"area\\\\\",\\\\\"tagDisplayName\\\\\":\\\\\"일본\\\\u003e코치\\\\\"},{\\\\\"code\\\\\":\\\\\"Z080\\\\\",\\\\\"parentCode\\\\\":\\\\\"Z000\\\\\",\\\\\"originName\\\\\":\\\\\"쿠마모토\\\\\",\\\\\"originCode\\\\\":\\\\\"ASJP3800000\\\\\",\\\\\"displayName\\\\\":\\\\\"쿠마모토\\\\\",\\\\\"items\\\\\":[],\\\\\"type\\\\\":\\\\\"area\\\\\",\\\\\"tagDisplayName\\\\\":\\\\\"일본\\\\u003e쿠마모토\\\\\"},{\\\\\"code\\\\\":\\\\\"Z090\\\\\",\\\\\"parentCode\\\\\":\\\\\"Z000\\\\\",\\\\\"originName\\\\\":\\\\\"군마\\\\\",\\\\\"originCode\\\\\":\\\\\"ASJP0200000\\\\\",\\\\\"displayName\\\\\":\\\\\"군마\\\\\",\\\\\"items\\\\\":[],\\\\\"type\\\\\":\\\\\"area\\\\\",\\\\\"tagDisplayName\\\\\":\\\\\"일본\\\\u003e군마\\\\\"},{\\\\\"code\\\\\":\\\\\"Z100\\\\\",\\\\\"parentCode\\\\\":\\\\\"Z000\\\\\",\\\\\"originName\\\\\":\\\\\"기후\\\\\",\\\\\"originCode\\\\\":\\\\\"ASJP0300000\\\\\",\\\\\"displayName\\\\\":\\\\\"기후\\\\\",\\\\\"items\\\\\":[],\\\\\"type\\\\\":\\\\\"area\\\\\",\\\\\"tagDisplayName\\\\\":\\\\\"일본\\\\u003e기후\\\\\"},{\\\\\"code\\\\\":\\\\\"Z110\\\\\",\\\\\"parentCode\\\\\":\\\\\"Z000\\\\\",\\\\\"originName\\\\\":\\\\\"나가노\\\\\",\\\\\"originCode\\\\\":\\\\\"ASJP0400000\\\\\",\\\\\"displayName\\\\\":\\\\\"나가노\\\\\",\\\\\"items\\\\\":[],\\\\\"type\\\\\":\\\\\"area\\\\\",\\\\\"tagDisplayName\\\\\":\\\\\"일본\\\\u003e나가노\\\\\"},{\\\\\"code\\\\\":\\\\\"Z120\\\\\",\\\\\"parentCode\\\\\":\\\\\"Z000\\\\\",\\\\\"originName\\\\\":\\\\\"나가사키\\\\\",\\\\\"originCode\\\\\":\\\\\"ASJP0500000\\\\\",\\\\\"displayName\\\\\":\\\\\"나가사키\\\\\",\\\\\"items\\\\\":[],\\\\\"type\\\\\":\\\\\"area\\\\\",\\\\\"tagDisplayName\\\\\":\\\\\"일본\\\\u003e나가사키\\\\\"},{\\\\\"code\\\\\":\\\\\"Z130\\\\\",\\\\\"parentCode\\\\\":\\\\\"Z000\\\\\",\\\\\"originName\\\\\":\\\\\"나라\\\\\",\\\\\"originCode\\\\\":\\\\\"ASJP0600000\\\\\",\\\\\"displayName\\\\\":\\\\\"나라\\\\\",\\\\\"items\\\\\":[],\\\\\"type\\\\\":\\\\\"area\\\\\",\\\\\"tagDisplayName\\\\\":\\\\\"일본\\\\u003e나라\\\\\"},{\\\\\"code\\\\\":\\\\\"Z140\\\\\",\\\\\"parentCode\\\\\":\\\\\"Z000\\\\\",\\\\\"originName\\\\\":\\\\\"니가타\\\\\",\\\\\"originCode\\\\\":\\\\\"ASJP0700000\\\\\",\\\\\"displayName\\\\\":\\\\\"니가타\\\\\",\\\\\"items\\\\\":[],\\\\\"type\\\\\":\\\\\"area\\\\\",\\\\\"tagDisplayName\\\\\":\\\\\"일본\\\\u003e니가타\\\\\"},{\\\\\"code\\\\\":\\\\\"Z150\\\\\",\\\\\"parentCode\\\\\":\\\\\"Z000\\\\\",\\\\\"originName\\\\\":\\\\\"토쿠시마\\\\\",\\\\\"originCode\\\\\":\\\\\"ASJP4100000\\\\\",\\\\\"displayName\\\\\":\\\\\"토쿠시마\\\\\",\\\\\"items\\\\\":[],\\\\\"type\\\\\":\\\\\"area\\\\\",\\\\\"tagDisplayName\\\\\":\\\\\"일본\\\\u003e토쿠시마\\\\\"},{\\\\\"code\\\\\":\\\\\"Z160\\\\\",\\\\\"parentCode\\\\\":\\\\\"Z000\\\\\",\\\\\"originName\\\\\":\\\\\"토야마\\\\\",\\\\\"originCode\\\\\":\\\\\"ASJP3900000\\\\\",\\\\\"displayName\\\\\":\\\\\"토야마\\\\\",\\\\\"items\\\\\":[],\\\\\"type\\\\\":\\\\\"area\\\\\",\\\\\"tagDisplayName\\\\\":\\\\\"일본\\\\u003e토야마\\\\\"},{\\\\\"code\\\\\":\\\\\"Z170\\\\\",\\\\\"parentCode\\\\\":\\\\\"Z000\\\\\",\\\\\"originName\\\\\":\\\\\"토치기\\\\\",\\\\\"originCode\\\\\":\\\\\"ASJP4000000\\\\\",\\\\\"displayName\\\\\":\\\\\"토치기\\\\\",\\\\\"items\\\\\":[],\\\\\"type\\\\\":\\\\\"area\\\\\",\\\\\"tagDisplayName\\\\\":\\\\\"일본\\\\u003e토치기\\\\\"},{\\\\\"code\\\\\":\\\\\"Z180\\\\\",\\\\\"parentCode\\\\\":\\\\\"Z000\\\\\",\\\\\"originName\\\\\":\\\\\"톳토리\\\\\",\\\\\"originCode\\\\\":\\\\\"ASJP4200000\\\\\",\\\\\"displayName\\\\\":\\\\\"톳토리\\\\\",\\\\\"items\\\\\":[],\\\\\"type\\\\\":\\\\\"area\\\\\",\\\\\"tagDisplayName\\\\\":\\\\\"일본\\\\u003e톳토리\\\\\"},{\\\\\"code\\\\\":\\\\\"Z190\\\\\",\\\\\"parentCode\\\\\":\\\\\"Z000\\\\\",\\\\\"originName\\\\\":\\\\\"미야기\\\\\",\\\\\"originCode\\\\\":\\\\\"ASJP0900000\\\\\",\\\\\"displayName\\\\\":\\\\\"미야기\\\\\",\\\\\"items\\\\\":[],\\\\\"type\\\\\":\\\\\"area\\\\\",\\\\\"tagDisplayName\\\\\":\\\\\"일본\\\\u003e미야기\\\\\"},{\\\\\"code\\\\\":\\\\\"Z200\\\\\",\\\\\"parentCode\\\\\":\\\\\"Z000\\\\\",\\\\\"originName\\\\\":\\\\\"미야자키\\\\\",\\\\\"originCode\\\\\":\\\\\"ASJP1000000\\\\\",\\\\\"displayName\\\\\":\\\\\"미야자키\\\\\",\\\\\"items\\\\\":[],\\\\\"type\\\\\":\\\\\"area\\\\\",\\\\\"tagDisplayName\\\\\":\\\\\"일본\\\\u003e미야자키\\\\\"},{\\\\\"code\\\\\":\\\\\"Z210\\\\\",\\\\\"parentCode\\\\\":\\\\\"Z000\\\\\",\\\\\"originName\\\\\":\\\\\"미에\\\\\",\\\\\"originCode\\\\\":\\\\\"ASJP1100000\\\\\",\\\\\"displayName\\\\\":\\\\\"미에\\\\\",\\\\\"items\\\\\":[],\\\\\"type\\\\\":\\\\\"area\\\\\",\\\\\"tagDisplayName\\\\\":\\\\\"일본\\\\u003e미에\\\\\"},{\\\\\"code\\\\\":\\\\\"Z220\\\\\",\\\\\"parentCode\\\\\":\\\\\"Z000\\\\\",\\\\\"originName\\\\\":\\\\\"사가\\\\\",\\\\\"originCode\\\\\":\\\\\"ASJP1200000\\\\\",\\\\\"displayName\\\\\":\\\\\"사가\\\\\",\\\\\"items\\\\\":[],\\\\\"type\\\\\":\\\\\"area\\\\\",\\\\\"tagDisplayName\\\\\":\\\\\"일본\\\\u003e사가\\\\\"},{\\\\\"code\\\\\":\\\\\"Z230\\\\\",\\\\\"parentCode\\\\\":\\\\\"Z000\\\\\",\\\\\"originName\\\\\":\\\\\"사이타마\\\\\",\\\\\"originCode\\\\\":\\\\\"ASJP1300000\\\\\",\\\\\"displayName\\\\\":\\\\\"사이타마\\\\\",\\\\\"items\\\\\":[],\\\\\"type\\\\\":\\\\\"area\\\\\",\\\\\"tagDisplayName\\\\\":\\\\\"일본\\\\u003e사이타마\\\\\"},{\\\\\"code\\\\\":\\\\\"Z240\\\\\",\\\\\"parentCode\\\\\":\\\\\"Z000\\\\\",\\\\\"originName\\\\\":\\\\\"시가\\\\\",\\\\\"originCode\\\\\":\\\\\"ASJP1400000\\\\\",\\\\\"displayName\\\\\":\\\\\"시가\\\\\",\\\\\"items\\\\\":[],\\\\\"type\\\\\":\\\\\"area\\\\\",\\\\\"tagDisplayName\\\\\":\\\\\"일본\\\\u003e시가\\\\\"},{\\\\\"code\\\\\":\\\\\"Z250\\\\\",\\\\\"parentCode\\\\\":\\\\\"Z000\\\\\",\\\\\"originName\\\\\":\\\\\"시마네\\\\\",\\\\\"originCode\\\\\":\\\\\"ASJP1500000\\\\\",\\\\\"displayName\\\\\":\\\\\"시마네\\\\\",\\\\\"items\\\\\":[],\\\\\"type\\\\\":\\\\\"area\\\\\",\\\\\"tagDisplayName\\\\\":\\\\\"일본\\\\u003e시마네\\\\\"},{\\\\\"code\\\\\":\\\\\"Z260\\\\\",\\\\\"parentCode\\\\\":\\\\\"Z000\\\\\",\\\\\"originName\\\\\":\\\\\"시즈오카\\\\\",\\\\\"originCode\\\\\":\\\\\"ASJP1600000\\\\\",\\\\\"displayName\\\\\":\\\\\"시즈오카\\\\\",\\\\\"items\\\\\":[],\\\\\"type\\\\\":\\\\\"area\\\\\",\\\\\"tagDisplayName\\\\\":\\\\\"일본\\\\u003e시즈오카\\\\\"},{\\\\\"code\\\\\":\\\\\"Z270\\\\\",\\\\\"parentCode\\\\\":\\\\\"Z000\\\\\",\\\\\"originName\\\\\":\\\\\"아키타\\\\\",\\\\\"originCode\\\\\":\\\\\"ASJP1900000\\\\\",\\\\\"displayName\\\\\":\\\\\"아키타\\\\\",\\\\\"items\\\\\":[],\\\\\"type\\\\\":\\\\\"area\\\\\",\\\\\"tagDisplayName\\\\\":\\\\\"일본\\\\u003e아키타\\\\\"},{\\\\\"code\\\\\":\\\\\"Z280\\\\\",\\\\\"parentCode\\\\\":\\\\\"Z000\\\\\",\\\\\"originName\\\\\":\\\\\"아오모리\\\\\",\\\\\"originCode\\\\\":\\\\\"ASJP1700000\\\\\",\\\\\"displayName\\\\\":\\\\\"아오모리\\\\\",\\\\\"items\\\\\":[],\\\\\"type\\\\\":\\\\\"area\\\\\",\\\\\"tagDisplayName\\\\\":\\\\\"일본\\\\u003e아오모리\\\\\"},{\\\\\"code\\\\\":\\\\\"Z290\\\\\",\\\\\"parentCode\\\\\":\\\\\"Z000\\\\\",\\\\\"originName\\\\\":\\\\\"아이치\\\\\",\\\\\"originCode\\\\\":\\\\\"ASJP1800000\\\\\",\\\\\"displayName\\\\\":\\\\\"아이치\\\\\",\\\\\"items\\\\\":[],\\\\\"type\\\\\":\\\\\"area\\\\\",\\\\\"tagDisplayName\\\\\":\\\\\"일본\\\\u003e아이치\\\\\"},{\\\\\"code\\\\\":\\\\\"Z300\\\\\",\\\\\"parentCode\\\\\":\\\\\"Z000\\\\\",\\\\\"originName\\\\\":\\\\\"야마가타\\\\\",\\\\\"originCode\\\\\":\\\\\"ASJP2000000\\\\\",\\\\\"displayName\\\\\":\\\\\"야마가타\\\\\",\\\\\"items\\\\\":[],\\\\\"type\\\\\":\\\\\"area\\\\\",\\\\\"tagDisplayName\\\\\":\\\\\"일본\\\\u003e야마가타\\\\\"},{\\\\\"code\\\\\":\\\\\"Z310\\\\\",\\\\\"parentCode\\\\\":\\\\\"Z000\\\\\",\\\\\"originName\\\\\":\\\\\"야마구치\\\\\",\\\\\"originCode\\\\\":\\\\\"ASJP2100000\\\\\",\\\\\"displayName\\\\\":\\\\\"야마구치\\\\\",\\\\\"items\\\\\":[],\\\\\"type\\\\\":\\\\\"area\\\\\",\\\\\"tagDisplayName\\\\\":\\\\\"일본\\\\u003e야마구치\\\\\"},{\\\\\"code\\\\\":\\\\\"Z320\\\\\",\\\\\"parentCode\\\\\":\\\\\"Z000\\\\\",\\\\\"originName\\\\\":\\\\\"야마나시\\\\\",\\\\\"originCode\\\\\":\\\\\"ASJP2200000\\\\\",\\\\\"displayName\\\\\":\\\\\"야마나시\\\\\",\\\\\"items\\\\\":[],\\\\\"type\\\\\":\\\\\"area\\\\\",\\\\\"tagDisplayName\\\\\":\\\\\"일본\\\\u003e야마나시\\\\\"},{\\\\\"code\\\\\":\\\\\"Z330\\\\\",\\\\\"parentCode\\\\\":\\\\\"Z000\\\\\",\\\\\"originName\\\\\":\\\\\"에히메\\\\\",\\\\\"originCode\\\\\":\\\\\"ASJP2300000\\\\\",\\\\\"displayName\\\\\":\\\\\"에히메\\\\\",\\\\\"items\\\\\":[],\\\\\"type\\\\\":\\\\\"area\\\\\",\\\\\"tagDisplayName\\\\\":\\\\\"일본\\\\u003e에히메\\\\\"},{\\\\\"code\\\\\":\\\\\"Z340\\\\\",\\\\\"parentCode\\\\\":\\\\\"Z000\\\\\",\\\\\"originName\\\\\":\\\\\"오카야마\\\\\",\\\\\"originCode\\\\\":\\\\\"ASJP2600000\\\\\",\\\\\"displayName\\\\\":\\\\\"오카야마\\\\\",\\\\\"items\\\\\":[],\\\\\"type\\\\\":\\\\\"area\\\\\",\\\\\"tagDisplayName\\\\\":\\\\\"일본\\\\u003e오카야마\\\\\"},{\\\\\"code\\\\\":\\\\\"Z350\\\\\",\\\\\"parentCode\\\\\":\\\\\"Z000\\\\\",\\\\\"originName\\\\\":\\\\\"오키나와\\\\\",\\\\\"originCode\\\\\":\\\\\"ASJP2700000\\\\\",\\\\\"displayName\\\\\":\\\\\"오키나와\\\\\",\\\\\"items\\\\\":[],\\\\\"type\\\\\":\\\\\"area\\\\\",\\\\\"tagDisplayName\\\\\":\\\\\"일본\\\\u003e오키나와\\\\\"},{\\\\\"code\\\\\":\\\\\"Z360\\\\\",\\\\\"parentCode\\\\\":\\\\\"Z000\\\\\",\\\\\"originName\\\\\":\\\\\"오이타\\\\\",\\\\\"originCode\\\\\":\\\\\"ASJP2500000\\\\\",\\\\\"displayName\\\\\":\\\\\"오이타\\\\\",\\\\\"items\\\\\":[],\\\\\"type\\\\\":\\\\\"area\\\\\",\\\\\"tagDisplayName\\\\\":\\\\\"일본\\\\u003e오이타\\\\\"},{\\\\\"code\\\\\":\\\\\"Z370\\\\\",\\\\\"parentCode\\\\\":\\\\\"Z000\\\\\",\\\\\"originName\\\\\":\\\\\"와카야마\\\\\",\\\\\"originCode\\\\\":\\\\\"ASJP2800000\\\\\",\\\\\"displayName\\\\\":\\\\\"와카야마\\\\\",\\\\\"items\\\\\":[],\\\\\"type\\\\\":\\\\\"area\\\\\",\\\\\"tagDisplayName\\\\\":\\\\\"일본\\\\u003e와카야마\\\\\"},{\\\\\"code\\\\\":\\\\\"Z380\\\\\",\\\\\"parentCode\\\\\":\\\\\"Z000\\\\\",\\\\\"originName\\\\\":\\\\\"이바라키\\\\\",\\\\\"originCode\\\\\":\\\\\"ASJP2900000\\\\\",\\\\\"displayName\\\\\":\\\\\"이바라키\\\\\",\\\\\"items\\\\\":[],\\\\\"type\\\\\":\\\\\"area\\\\\",\\\\\"tagDisplayName\\\\\":\\\\\"일본\\\\u003e이바라키\\\\\"},{\\\\\"code\\\\\":\\\\\"Z390\\\\\",\\\\\"parentCode\\\\\":\\\\\"Z000\\\\\",\\\\\"originName\\\\\":\\\\\"이시카와\\\\\",\\\\\"originCode\\\\\":\\\\\"ASJP3000000\\\\\",\\\\\"displayName\\\\\":\\\\\"이시카와\\\\\",\\\\\"items\\\\\":[],\\\\\"type\\\\\":\\\\\"area\\\\\",\\\\\"tagDisplayName\\\\\":\\\\\"일본\\\\u003e이시카와\\\\\"},{\\\\\"code\\\\\":\\\\\"Z400\\\\\",\\\\\"parentCode\\\\\":\\\\\"Z000\\\\\",\\\\\"originName\\\\\":\\\\\"이와테\\\\\",\\\\\"originCode\\\\\":\\\\\"ASJP3100000\\\\\",\\\\\"displayName\\\\\":\\\\\"이와테\\\\\",\\\\\"items\\\\\":[],\\\\\"type\\\\\":\\\\\"area\\\\\",\\\\\"tagDisplayName\\\\\":\\\\\"일본\\\\u003e이와테\\\\\"},{\\\\\"code\\\\\":\\\\\"Z410\\\\\",\\\\\"parentCode\\\\\":\\\\\"Z000\\\\\",\\\\\"originName\\\\\":\\\\\"치바\\\\\",\\\\\"originCode\\\\\":\\\\\"ASJP3200000\\\\\",\\\\\"displayName\\\\\":\\\\\"치바\\\\\",\\\\\"items\\\\\":[],\\\\\"type\\\\\":\\\\\"area\\\\\",\\\\\"tagDisplayName\\\\\":\\\\\"일본\\\\u003e치바\\\\\"},{\\\\\"code\\\\\":\\\\\"Z420\\\\\",\\\\\"parentCode\\\\\":\\\\\"Z000\\\\\",\\\\\"originName\\\\\":\\\\\"홋카이도\\\\\",\\\\\"originCode\\\\\":\\\\\"ASJP4300000\\\\\",\\\\\"displayName\\\\\":\\\\\"홋카이도\\\\\",\\\\\"items\\\\\":[],\\\\\"type\\\\\":\\\\\"area\\\\\",\\\\\"tagDisplayName\\\\\":\\\\\"일본\\\\u003e홋카이도\\\\\"},{\\\\\"code\\\\\":\\\\\"Z430\\\\\",\\\\\"parentCode\\\\\":\\\\\"Z000\\\\\",\\\\\"originName\\\\\":\\\\\"효고\\\\\",\\\\\"originCode\\\\\":\\\\\"ASJP4400000\\\\\",\\\\\"displayName\\\\\":\\\\\"효고\\\\\",\\\\\"items\\\\\":[],\\\\\"type\\\\\":\\\\\"area\\\\\",\\\\\"tagDisplayName\\\\\":\\\\\"일본\\\\u003e효고\\\\\"},{\\\\\"code\\\\\":\\\\\"Z440\\\\\",\\\\\"parentCode\\\\\":\\\\\"Z000\\\\\",\\\\\"originName\\\\\":\\\\\"후쿠시마\\\\\",\\\\\"originCode\\\\\":\\\\\"ASJP4500000\\\\\",\\\\\"displayName\\\\\":\\\\\"후쿠시마\\\\\",\\\\\"items\\\\\":[],\\\\\"type\\\\\":\\\\\"area\\\\\",\\\\\"tagDisplayName\\\\\":\\\\\"일본\\\\u003e후쿠시마\\\\\"},{\\\\\"code\\\\\":\\\\\"Z450\\\\\",\\\\\"parentCode\\\\\":\\\\\"Z000\\\\\",\\\\\"originName\\\\\":\\\\\"후쿠오카\\\\\",\\\\\"originCode\\\\\":\\\\\"ASJP4600000\\\\\",\\\\\"displayName\\\\\":\\\\\"후쿠오카\\\\\",\\\\\"items\\\\\":[],\\\\\"type\\\\\":\\\\\"area\\\\\",\\\\\"tagDisplayName\\\\\":\\\\\"일본\\\\u003e후쿠오카\\\\\"},{\\\\\"code\\\\\":\\\\\"Z460\\\\\",\\\\\"parentCode\\\\\":\\\\\"Z000\\\\\",\\\\\"originName\\\\\":\\\\\"후쿠이\\\\\",\\\\\"originCode\\\\\":\\\\\"ASJP4700000\\\\\",\\\\\"displayName\\\\\":\\\\\"후쿠이\\\\\",\\\\\"items\\\\\":[],\\\\\"type\\\\\":\\\\\"area\\\\\",\\\\\"tagDisplayName\\\\\":\\\\\"일본\\\\u003e후쿠이\\\\\"},{\\\\\"code\\\\\":\\\\\"Z470\\\\\",\\\\\"parentCode\\\\\":\\\\\"Z000\\\\\",\\\\\"originName\\\\\":\\\\\"히로시마\\\\\",\\\\\"originCode\\\\\":\\\\\"ASJP4800000\\\\\",\\\\\"displayName\\\\\":\\\\\"히로시마\\\\\",\\\\\"items\\\\\":[],\\\\\"type\\\\\":\\\\\"area\\\\\",\\\\\"tagDisplayName\\\\\":\\\\\"일본\\\\u003e히로시마\\\\\"},{\\\\\"code\\\\\":\\\\\"Y000\\\\\",\\\\\"parentCode\\\\\":\\\\\"\\\\\",\\\\\"originName\\\\\":\\\\\"미국\\\\\",\\\\\"originCode\\\\\":\\\\\"NAUS0000000\\\\\",\\\\\"displayName\\\\\":\\\\\"미국\\\\\",\\\\\"items\\\\\":[],\\\\\"type\\\\\":\\\\\"area\\\\\",\\\\\"tagDisplayName\\\\\":\\\\\"미국\\\\\"},{\\\\\"code\\\\\":\\\\\"Y000_\\\\\",\\\\\"parentCode\\\\\":\\\\\"Y000\\\\\",\\\\\"originName\\\\\":\\\\\"미국 전지역\\\\\",\\\\\"originCode\\\\\":\\\\\"NAUS0100000\\\\\",\\\\\"displayName\\\\\":\\\\\"전지역\\\\\",\\\\\"items\\\\\":[],\\\\\"type\\\\\":\\\\\"area\\\\\",\\\\\"tagDisplayName\\\\\":\\\\\"미국\\\\u003e전지역\\\\\"},{\\\\\"code\\\\\":\\\\\"Y010\\\\\",\\\\\"parentCode\\\\\":\\\\\"Y000\\\\\",\\\\\"originName\\\\\":\\\\\"보스턴\\\\\",\\\\\"originCode\\\\\":\\\\\"NAUS2500000\\\\\",\\\\\"displayName\\\\\":\\\\\"보스턴\\\\\",\\\\\"items\\\\\":[],\\\\\"type\\\\\":\\\\\"area\\\\\",\\\\\"tagDisplayName\\\\\":\\\\\"미국\\\\u003e보스턴\\\\\"},{\\\\\"code\\\\\":\\\\\"Y020\\\\\",\\\\\"parentCode\\\\\":\\\\\"Y000\\\\\",\\\\\"originName\\\\\":\\\\\"필라델피아\\\\\",\\\\\"originCode\\\\\":\\\\\"NAUS5600000\\\\\",\\\\\"displayName\\\\\":\\\\\"필라델피아\\\\\",\\\\\"items\\\\\":[],\\\\\"type\\\\\":\\\\\"area\\\\\",\\\\\"tagDisplayName\\\\\":\\\\\"미국\\\\u003e필라델피아\\\\\"},{\\\\\"code\\\\\":\\\\\"Y030\\\\\",\\\\\"parentCode\\\\\":\\\\\"Y000\\\\\",\\\\\"originName\\\\\":\\\\\"뉴욕\\\\\",\\\\\"originCode\\\\\":\\\\\"NAUS0700000\\\\\",\\\\\"displayName\\\\\":\\\\\"뉴욕\\\\\",\\\\\"items\\\\\":[],\\\\\"type\\\\\":\\\\\"area\\\\\",\\\\\"tagDisplayName\\\\\":\\\\\"미국\\\\u003e뉴욕\\\\\"},{\\\\\"code\\\\\":\\\\\"Y040\\\\\",\\\\\"parentCode\\\\\":\\\\\"Y000\\\\\",\\\\\"originName\\\\\":\\\\\"시카고\\\\\",\\\\\"originCode\\\\\":\\\\\"NAUS2800000\\\\\",\\\\\"displayName\\\\\":\\\\\"시카고\\\\\",\\\\\"items\\\\\":[],\\\\\"type\\\\\":\\\\\"area\\\\\",\\\\\"tagDisplayName\\\\\":\\\\\"미국\\\\u003e시카고\\\\\"},{\\\\\"code\\\\\":\\\\\"Y050\\\\\",\\\\\"parentCode\\\\\":\\\\\"Y000\\\\\",\\\\\"originName\\\\\":\\\\\"로스앤젤레스\\\\\",\\\\\"originCode\\\\\":\\\\\"NAUS1300000\\\\\",\\\\\"displayName\\\\\":\\\\\"로스앤젤레스\\\\\",\\\\\"items\\\\\":[],\\\\\"type\\\\\":\\\\\"area\\\\\",\\\\\"tagDisplayName\\\\\":\\\\\"미국\\\\u003e로스앤젤레스\\\\\"},{\\\\\"code\\\\\":\\\\\"Y060\\\\\",\\\\\"parentCode\\\\\":\\\\\"Y000\\\\\",\\\\\"originName\\\\\":\\\\\"워싱턴 D.C\\\\\",\\\\\"originCode\\\\\":\\\\\"NAUS3900000\\\\\",\\\\\"displayName\\\\\":\\\\\"워싱턴 D.C\\\\\",\\\\\"items\\\\\":[],\\\\\"type\\\\\":\\\\\"area\\\\\",\\\\\"tagDisplayName\\\\\":\\\\\"미국\\\\u003e워싱턴 D.C\\\\\"},{\\\\\"code\\\\\":\\\\\"Y070\\\\\",\\\\\"parentCode\\\\\":\\\\\"Y000\\\\\",\\\\\"originName\\\\\":\\\\\"네바다주\\\\\",\\\\\"originCode\\\\\":\\\\\"NAUS0200000\\\\\",\\\\\"displayName\\\\\":\\\\\"네바다주\\\\\",\\\\\"items\\\\\":[],\\\\\"type\\\\\":\\\\\"area\\\\\",\\\\\"tagDisplayName\\\\\":\\\\\"미국\\\\u003e네바다주\\\\\"},{\\\\\"code\\\\\":\\\\\"Y080\\\\\",\\\\\"parentCode\\\\\":\\\\\"Y000\\\\\",\\\\\"originName\\\\\":\\\\\"네브라스카주\\\\\",\\\\\"originCode\\\\\":\\\\\"NAUS0300000\\\\\",\\\\\"displayName\\\\\":\\\\\"네브라스카주\\\\\",\\\\\"items\\\\\":[],\\\\\"type\\\\\":\\\\\"area\\\\\",\\\\\"tagDisplayName\\\\\":\\\\\"미국\\\\u003e네브라스카주\\\\\"},{\\\\\"code\\\\\":\\\\\"Y090\\\\\",\\\\\"parentCode\\\\\":\\\\\"Y000\\\\\",\\\\\"originName\\\\\":\\\\\"노스다코타주\\\\\",\\\\\"originCode\\\\\":\\\\\"NAUS0400000\\\\\",\\\\\"displayName\\\\\":\\\\\"노스다코타주\\\\\",\\\\\"items\\\\\":[],\\\\\"type\\\\\":\\\\\"area\\\\\",\\\\\"tagDisplayName\\\\\":\\\\\"미국\\\\u003e노스다코타주\\\\\"},{\\\\\"code\\\\\":\\\\\"Y100\\\\\",\\\\\"parentCode\\\\\":\\\\\"Y000\\\\\",\\\\\"originName\\\\\":\\\\\"노스케롤라이나주\\\\\",\\\\\"originCode\\\\\":\\\\\"NAUS0500000\\\\\",\\\\\"displayName\\\\\":\\\\\"노스케롤라이나주\\\\\",\\\\\"items\\\\\":[],\\\\\"type\\\\\":\\\\\"area\\\\\",\\\\\"tagDisplayName\\\\\":\\\\\"미국\\\\u003e노스케롤라이나주\\\\\"},{\\\\\"code\\\\\":\\\\\"Y110\\\\\",\\\\\"parentCode\\\\\":\\\\\"Y000\\\\\",\\\\\"originName\\\\\":\\\\\"뉴멕시코주\\\\\",\\\\\"originCode\\\\\":\\\\\"NAUS0600000\\\\\",\\\\\"displayName\\\\\":\\\\\"뉴멕시코주\\\\\",\\\\\"items\\\\\":[],\\\\\"type\\\\\":\\\\\"area\\\\\",\\\\\"tagDisplayName\\\\\":\\\\\"미국\\\\u003e뉴멕시코주\\\\\"},{\\\\\"code\\\\\":\\\\\"Y120\\\\\",\\\\\"parentCode\\\\\":\\\\\"Y000\\\\\",\\\\\"originName\\\\\":\\\\\"뉴욕주\\\\\",\\\\\"originCode\\\\\":\\\\\"NAUS0800000\\\\\",\\\\\"displayName\\\\\":\\\\\"뉴욕주\\\\\",\\\\\"items\\\\\":[],\\\\\"type\\\\\":\\\\\"area\\\\\",\\\\\"tagDisplayName\\\\\":\\\\\"미국\\\\u003e뉴욕주\\\\\"},{\\\\\"code\\\\\":\\\\\"Y130\\\\\",\\\\\"parentCode\\\\\":\\\\\"Y000\\\\\",\\\\\"originName\\\\\":\\\\\"뉴저지주\\\\\",\\\\\"originCode\\\\\":\\\\\"NAUS0900000\\\\\",\\\\\"displayName\\\\\":\\\\\"뉴저지주\\\\\",\\\\\"items\\\\\":[],\\\\\"type\\\\\":\\\\\"area\\\\\",\\\\\"tagDisplayName\\\\\":\\\\\"미국\\\\u003e뉴저지주\\\\\"},{\\\\\"code\\\\\":\\\\\"Y140\\\\\",\\\\\"parentCode\\\\\":\\\\\"Y000\\\\\",\\\\\"originName\\\\\":\\\\\"뉴햄프셔주\\\\\",\\\\\"originCode\\\\\":\\\\\"NAUS1000000\\\\\",\\\\\"displayName\\\\\":\\\\\"뉴햄프셔주\\\\\",\\\\\"items\\\\\":[],\\\\\"type\\\\\":\\\\\"area\\\\\",\\\\\"tagDisplayName\\\\\":\\\\\"미국\\\\u003e뉴햄프셔주\\\\\"},{\\\\\"code\\\\\":\\\\\"Y150\\\\\",\\\\\"parentCode\\\\\":\\\\\"Y000\\\\\",\\\\\"originName\\\\\":\\\\\"델라웨어주\\\\\",\\\\\"originCode\\\\\":\\\\\"NAUS1100000\\\\\",\\\\\"displayName\\\\\":\\\\\"델라웨어주\\\\\",\\\\\"items\\\\\":[],\\\\\"type\\\\\":\\\\\"area\\\\\",\\\\\"tagDisplayName\\\\\":\\\\\"미국\\\\u003e델라웨어주\\\\\"},{\\\\\"code\\\\\":\\\\\"Y160\\\\\",\\\\\"parentCode\\\\\":\\\\\"Y000\\\\\",\\\\\"originName\\\\\":\\\\\"로드아일랜드주\\\\\",\\\\\"originCode\\\\\":\\\\\"NAUS1200000\\\\\",\\\\\"displayName\\\\\":\\\\\"로드아일랜드주\\\\\",\\\\\"items\\\\\":[],\\\\\"type\\\\\":\\\\\"area\\\\\",\\\\\"tagDisplayName\\\\\":\\\\\"미국\\\\u003e로드아일랜드주\\\\\"},{\\\\\"code\\\\\":\\\\\"Y170\\\\\",\\\\\"parentCode\\\\\":\\\\\"Y000\\\\\",\\\\\"originName\\\\\":\\\\\"루지애나주\\\\\",\\\\\"originCode\\\\\":\\\\\"NAUS1400000\\\\\",\\\\\"displayName\\\\\":\\\\\"루지애나주\\\\\",\\\\\"items\\\\\":[],\\\\\"type\\\\\":\\\\\"area\\\\\",\\\\\"tagDisplayName\\\\\":\\\\\"미국\\\\u003e루지애나주\\\\\"},{\\\\\"code\\\\\":\\\\\"Y180\\\\\",\\\\\"parentCode\\\\\":\\\\\"Y000\\\\\",\\\\\"originName\\\\\":\\\\\"메릴랜드주\\\\\",\\\\\"originCode\\\\\":\\\\\"NAUS1500000\\\\\",\\\\\"displayName\\\\\":\\\\\"메릴랜드주\\\\\",\\\\\"items\\\\\":[],\\\\\"type\\\\\":\\\\\"area\\\\\",\\\\\"tagDisplayName\\\\\":\\\\\"미국\\\\u003e메릴랜드주\\\\\"},{\\\\\"code\\\\\":\\\\\"Y190\\\\\",\\\\\"parentCode\\\\\":\\\\\"Y000\\\\\",\\\\\"originName\\\\\":\\\\\"메사추세츠주\\\\\",\\\\\"originCode\\\\\":\\\\\"NAUS1600000\\\\\",\\\\\"displayName\\\\\":\\\\\"메사추세츠주\\\\\",\\\\\"items\\\\\":[],\\\\\"type\\\\\":\\\\\"area\\\\\",\\\\\"tagDisplayName\\\\\":\\\\\"미국\\\\u003e메사추세츠주\\\\\"},{\\\\\"code\\\\\":\\\\\"Y200\\\\\",\\\\\"parentCode\\\\\":\\\\\"Y000\\\\\",\\\\\"originName\\\\\":\\\\\"메인주\\\\\",\\\\\"originCode\\\\\":\\\\\"NAUS1700000\\\\\",\\\\\"displayName\\\\\":\\\\\"메인주\\\\\",\\\\\"items\\\\\":[],\\\\\"type\\\\\":\\\\\"area\\\\\",\\\\\"tagDisplayName\\\\\":\\\\\"미국\\\\u003e메인주\\\\\"},{\\\\\"code\\\\\":\\\\\"Y210\\\\\",\\\\\"parentCode\\\\\":\\\\\"Y000\\\\\",\\\\\"originName\\\\\":\\\\\"몬타나주\\\\\",\\\\\"originCode\\\\\":\\\\\"NAUS1800000\\\\\",\\\\\"displayName\\\\\":\\\\\"몬타나주\\\\\",\\\\\"items\\\\\":[],\\\\\"type\\\\\":\\\\\"area\\\\\",\\\\\"tagDisplayName\\\\\":\\\\\"미국\\\\u003e몬타나주\\\\\"},{\\\\\"code\\\\\":\\\\\"Y220\\\\\",\\\\\"parentCode\\\\\":\\\\\"Y000\\\\\",\\\\\"originName\\\\\":\\\\\"미네소타주\\\\\",\\\\\"originCode\\\\\":\\\\\"NAUS1900000\\\\\",\\\\\"displayName\\\\\":\\\\\"미네소타주\\\\\",\\\\\"items\\\\\":[],\\\\\"type\\\\\":\\\\\"area\\\\\",\\\\\"tagDisplayName\\\\\":\\\\\"미국\\\\u003e미네소타주\\\\\"},{\\\\\"code\\\\\":\\\\\"Y230\\\\\",\\\\\"parentCode\\\\\":\\\\\"Y000\\\\\",\\\\\"originName\\\\\":\\\\\"미시건주\\\\\",\\\\\"originCode\\\\\":\\\\\"NAUS2000000\\\\\",\\\\\"displayName\\\\\":\\\\\"미시건주\\\\\",\\\\\"items\\\\\":[],\\\\\"type\\\\\":\\\\\"area\\\\\",\\\\\"tagDisplayName\\\\\":\\\\\"미국\\\\u003e미시건주\\\\\"},{\\\\\"code\\\\\":\\\\\"Y240\\\\\",\\\\\"parentCode\\\\\":\\\\\"Y000\\\\\",\\\\\"originName\\\\\":\\\\\"미시시피주\\\\\",\\\\\"originCode\\\\\":\\\\\"NAUS2100000\\\\\",\\\\\"displayName\\\\\":\\\\\"미시시피주\\\\\",\\\\\"items\\\\\":[],\\\\\"type\\\\\":\\\\\"area\\\\\",\\\\\"tagDisplayName\\\\\":\\\\\"미국\\\\u003e미시시피주\\\\\"},{\\\\\"code\\\\\":\\\\\"Y250\\\\\",\\\\\"parentCode\\\\\":\\\\\"Y000\\\\\",\\\\\"originName\\\\\":\\\\\"미주리주\\\\\",\\\\\"originCode\\\\\":\\\\\"NAUS2200000\\\\\",\\\\\"displayName\\\\\":\\\\\"미주리주\\\\\",\\\\\"items\\\\\":[],\\\\\"type\\\\\":\\\\\"area\\\\\",\\\\\"tagDisplayName\\\\\":\\\\\"미국\\\\u003e미주리주\\\\\"},{\\\\\"code\\\\\":\\\\\"Y260\\\\\",\\\\\"parentCode\\\\\":\\\\\"Y000\\\\\",\\\\\"originName\\\\\":\\\\\"버먼트주\\\\\",\\\\\"originCode\\\\\":\\\\\"NAUS2300000\\\\\",\\\\\"displayName\\\\\":\\\\\"버먼트주\\\\\",\\\\\"items\\\\\":[],\\\\\"type\\\\\":\\\\\"area\\\\\",\\\\\"tagDisplayName\\\\\":\\\\\"미국\\\\u003e버먼트주\\\\\"},{\\\\\"code\\\\\":\\\\\"Y270\\\\\",\\\\\"parentCode\\\\\":\\\\\"Y000\\\\\",\\\\\"originName\\\\\":\\\\\"버지니아주\\\\\",\\\\\"originCode\\\\\":\\\\\"NAUS2400000\\\\\",\\\\\"displayName\\\\\":\\\\\"버지니아주\\\\\",\\\\\"items\\\\\":[],\\\\\"type\\\\\":\\\\\"area\\\\\",\\\\\"tagDisplayName\\\\\":\\\\\"미국\\\\u003e버지니아주\\\\\"},{\\\\\"code\\\\\":\\\\\"Y280\\\\\",\\\\\"parentCode\\\\\":\\\\\"Y000\\\\\",\\\\\"originName\\\\\":\\\\\"웨스트버지니아주\\\\\",\\\\\"originCode\\\\\":\\\\\"NAUS4100000\\\\\",\\\\\"displayName\\\\\":\\\\\"웨스트버지니아주\\\\\",\\\\\"items\\\\\":[],\\\\\"type\\\\\":\\\\\"area\\\\\",\\\\\"tagDisplayName\\\\\":\\\\\"미국\\\\u003e웨스트버지니아주\\\\\"},{\\\\\"code\\\\\":\\\\\"Y290\\\\\",\\\\\"parentCode\\\\\":\\\\\"Y000\\\\\",\\\\\"originName\\\\\":\\\\\"사우스다코타주\\\\\",\\\\\"originCode\\\\\":\\\\\"NAUS2600000\\\\\",\\\\\"displayName\\\\\":\\\\\"사우스다코타주\\\\\",\\\\\"items\\\\\":[],\\\\\"type\\\\\":\\\\\"area\\\\\",\\\\\"tagDisplayName\\\\\":\\\\\"미국\\\\u003e사우스다코타주\\\\\"},{\\\\\"code\\\\\":\\\\\"Y300\\\\\",\\\\\"parentCode\\\\\":\\\\\"Y000\\\\\",\\\\\"originName\\\\\":\\\\\"사우스캐롤라이나주\\\\\",\\\\\"originCode\\\\\":\\\\\"NAUS2700000\\\\\",\\\\\"displayName\\\\\":\\\\\"사우스캐롤라이나주\\\\\",\\\\\"items\\\\\":[],\\\\\"type\\\\\":\\\\\"area\\\\\",\\\\\"tagDisplayName\\\\\":\\\\\"미국\\\\u003e사우스캐롤라이나주\\\\\"},{\\\\\"code\\\\\":\\\\\"Y310\\\\\",\\\\\"parentCode\\\\\":\\\\\"Y000\\\\\",\\\\\"originName\\\\\":\\\\\"아이다호주\\\\\",\\\\\"originCode\\\\\":\\\\\"NAUS2900000\\\\\",\\\\\"displayName\\\\\":\\\\\"아이다호주\\\\\",\\\\\"items\\\\\":[],\\\\\"type\\\\\":\\\\\"area\\\\\",\\\\\"tagDisplayName\\\\\":\\\\\"미국\\\\u003e아이다호주\\\\\"},{\\\\\"code\\\\\":\\\\\"Y320\\\\\",\\\\\"parentCode\\\\\":\\\\\"Y000\\\\\",\\\\\"originName\\\\\":\\\\\"아이오와주\\\\\",\\\\\"originCode\\\\\":\\\\\"NAUS3000000\\\\\",\\\\\"displayName\\\\\":\\\\\"아이오와주\\\\\",\\\\\"items\\\\\":[],\\\\\"type\\\\\":\\\\\"area\\\\\",\\\\\"tagDisplayName\\\\\":\\\\\"미국\\\\u003e아이오와주\\\\\"},{\\\\\"code\\\\\":\\\\\"Y330\\\\\",\\\\\"parentCode\\\\\":\\\\\"Y000\\\\\",\\\\\"originName\\\\\":\\\\\"알래스카주\\\\\",\\\\\"originCode\\\\\":\\\\\"NAUS3100000\\\\\",\\\\\"displayName\\\\\":\\\\\"알래스카주\\\\\",\\\\\"items\\\\\":[],\\\\\"type\\\\\":\\\\\"area\\\\\",\\\\\"tagDisplayName\\\\\":\\\\\"미국\\\\u003e알래스카주\\\\\"},{\\\\\"code\\\\\":\\\\\"Y340\\\\\",\\\\\"parentCode\\\\\":\\\\\"Y000\\\\\",\\\\\"originName\\\\\":\\\\\"알칸사주\\\\\",\\\\\"originCode\\\\\":\\\\\"NAUS3200000\\\\\",\\\\\"displayName\\\\\":\\\\\"알칸사주\\\\\",\\\\\"items\\\\\":[],\\\\\"type\\\\\":\\\\\"area\\\\\",\\\\\"tagDisplayName\\\\\":\\\\\"미국\\\\u003e알칸사주\\\\\"},{\\\\\"code\\\\\":\\\\\"Y350\\\\\",\\\\\"parentCode\\\\\":\\\\\"Y000\\\\\",\\\\\"originName\\\\\":\\\\\"애리조나주\\\\\",\\\\\"originCode\\\\\":\\\\\"NAUS3300000\\\\\",\\\\\"displayName\\\\\":\\\\\"애리조나주\\\\\",\\\\\"items\\\\\":[],\\\\\"type\\\\\":\\\\\"area\\\\\",\\\\\"tagDisplayName\\\\\":\\\\\"미국\\\\u003e애리조나주\\\\\"},{\\\\\"code\\\\\":\\\\\"Y360\\\\\",\\\\\"parentCode\\\\\":\\\\\"Y000\\\\\",\\\\\"originName\\\\\":\\\\\"앨라배마주\\\\\",\\\\\"originCode\\\\\":\\\\\"NAUS3400000\\\\\",\\\\\"displayName\\\\\":\\\\\"앨라배마주\\\\\",\\\\\"items\\\\\":[],\\\\\"type\\\\\":\\\\\"area\\\\\",\\\\\"tagDisplayName\\\\\":\\\\\"미국\\\\u003e앨라배마주\\\\\"},{\\\\\"code\\\\\":\\\\\"Y370\\\\\",\\\\\"parentCode\\\\\":\\\\\"Y000\\\\\",\\\\\"originName\\\\\":\\\\\"오레건주\\\\\",\\\\\"originCode\\\\\":\\\\\"NAUS3500000\\\\\",\\\\\"displayName\\\\\":\\\\\"오레건주\\\\\",\\\\\"items\\\\\":[],\\\\\"type\\\\\":\\\\\"area\\\\\",\\\\\"tagDisplayName\\\\\":\\\\\"미국\\\\u003e오레건주\\\\\"},{\\\\\"code\\\\\":\\\\\"Y380\\\\\",\\\\\"parentCode\\\\\":\\\\\"Y000\\\\\",\\\\\"originName\\\\\":\\\\\"오클라호마주\\\\\",\\\\\"originCode\\\\\":\\\\\"NAUS3600000\\\\\",\\\\\"displayName\\\\\":\\\\\"오클라호마주\\\\\",\\\\\"items\\\\\":[],\\\\\"type\\\\\":\\\\\"area\\\\\",\\\\\"tagDisplayName\\\\\":\\\\\"미국\\\\u003e오클라호마주\\\\\"},{\\\\\"code\\\\\":\\\\\"Y390\\\\\",\\\\\"parentCode\\\\\":\\\\\"Y000\\\\\",\\\\\"originName\\\\\":\\\\\"오하이오주\\\\\",\\\\\"originCode\\\\\":\\\\\"NAUS3700000\\\\\",\\\\\"displayName\\\\\":\\\\\"오하이오주\\\\\",\\\\\"items\\\\\":[],\\\\\"type\\\\\":\\\\\"area\\\\\",\\\\\"tagDisplayName\\\\\":\\\\\"미국\\\\u003e오하이오주\\\\\"},{\\\\\"code\\\\\":\\\\\"Y400\\\\\",\\\\\"parentCode\\\\\":\\\\\"Y000\\\\\",\\\\\"originName\\\\\":\\\\\"와이오밍주\\\\\",\\\\\"originCode\\\\\":\\\\\"NAUS3800000\\\\\",\\\\\"displayName\\\\\":\\\\\"와이오밍주\\\\\",\\\\\"items\\\\\":[],\\\\\"type\\\\\":\\\\\"area\\\\\",\\\\\"tagDisplayName\\\\\":\\\\\"미국\\\\u003e와이오밍주\\\\\"},{\\\\\"code\\\\\":\\\\\"Y410\\\\\",\\\\\"parentCode\\\\\":\\\\\"Y000\\\\\",\\\\\"originName\\\\\":\\\\\"워싱턴주\\\\\",\\\\\"originCode\\\\\":\\\\\"NAUS4000000\\\\\",\\\\\"displayName\\\\\":\\\\\"워싱턴주\\\\\",\\\\\"items\\\\\":[],\\\\\"type\\\\\":\\\\\"area\\\\\",\\\\\"tagDisplayName\\\\\":\\\\\"미국\\\\u003e워싱턴주\\\\\"},{\\\\\"code\\\\\":\\\\\"Y420\\\\\",\\\\\"parentCode\\\\\":\\\\\"Y000\\\\\",\\\\\"originName\\\\\":\\\\\"위스콘신주\\\\\",\\\\\"originCode\\\\\":\\\\\"NAUS4200000\\\\\",\\\\\"displayName\\\\\":\\\\\"위스콘신주\\\\\",\\\\\"items\\\\\":[],\\\\\"type\\\\\":\\\\\"area\\\\\",\\\\\"tagDisplayName\\\\\":\\\\\"미국\\\\u003e위스콘신주\\\\\"},{\\\\\"code\\\\\":\\\\\"Y430\\\\\",\\\\\"parentCode\\\\\":\\\\\"Y000\\\\\",\\\\\"originName\\\\\":\\\\\"유타주\\\\\",\\\\\"originCode\\\\\":\\\\\"NAUS4300000\\\\\",\\\\\"displayName\\\\\":\\\\\"유타주\\\\\",\\\\\"items\\\\\":[],\\\\\"type\\\\\":\\\\\"area\\\\\",\\\\\"tagDisplayName\\\\\":\\\\\"미국\\\\u003e유타주\\\\\"},{\\\\\"code\\\\\":\\\\\"Y440\\\\\",\\\\\"parentCode\\\\\":\\\\\"Y000\\\\\",\\\\\"originName\\\\\":\\\\\"인디애나주\\\\\",\\\\\"originCode\\\\\":\\\\\"NAUS4400000\\\\\",\\\\\"displayName\\\\\":\\\\\"인디애나주\\\\\",\\\\\"items\\\\\":[],\\\\\"type\\\\\":\\\\\"area\\\\\",\\\\\"tagDisplayName\\\\\":\\\\\"미국\\\\u003e인디애나주\\\\\"},{\\\\\"code\\\\\":\\\\\"Y450\\\\\",\\\\\"parentCode\\\\\":\\\\\"Y000\\\\\",\\\\\"originName\\\\\":\\\\\"일리노이주\\\\\",\\\\\"originCode\\\\\":\\\\\"NAUS4500000\\\\\",\\\\\"displayName\\\\\":\\\\\"일리노이주\\\\\",\\\\\"items\\\\\":[],\\\\\"type\\\\\":\\\\\"area\\\\\",\\\\\"tagDisplayName\\\\\":\\\\\"미국\\\\u003e일리노이주\\\\\"},{\\\\\"code\\\\\":\\\\\"Y460\\\\\",\\\\\"parentCode\\\\\":\\\\\"Y000\\\\\",\\\\\"originName\\\\\":\\\\\"조지아주\\\\\",\\\\\"originCode\\\\\":\\\\\"NAUS4600000\\\\\",\\\\\"displayName\\\\\":\\\\\"조지아주\\\\\",\\\\\"items\\\\\":[],\\\\\"type\\\\\":\\\\\"area\\\\\",\\\\\"tagDisplayName\\\\\":\\\\\"미국\\\\u003e조지아주\\\\\"},{\\\\\"code\\\\\":\\\\\"Y470\\\\\",\\\\\"parentCode\\\\\":\\\\\"Y000\\\\\",\\\\\"originName\\\\\":\\\\\"캔사스주\\\\\",\\\\\"originCode\\\\\":\\\\\"NAUS4700000\\\\\",\\\\\"displayName\\\\\":\\\\\"캔사스주\\\\\",\\\\\"items\\\\\":[],\\\\\"type\\\\\":\\\\\"area\\\\\",\\\\\"tagDisplayName\\\\\":\\\\\"미국\\\\u003e캔사스주\\\\\"},{\\\\\"code\\\\\":\\\\\"Y480\\\\\",\\\\\"parentCode\\\\\":\\\\\"Y000\\\\\",\\\\\"originName\\\\\":\\\\\"캘리포니아주\\\\\",\\\\\"originCode\\\\\":\\\\\"NAUS4800000\\\\\",\\\\\"displayName\\\\\":\\\\\"캘리포니아주\\\\\",\\\\\"items\\\\\":[],\\\\\"type\\\\\":\\\\\"area\\\\\",\\\\\"tagDisplayName\\\\\":\\\\\"미국\\\\u003e캘리포니아주\\\\\"},{\\\\\"code\\\\\":\\\\\"Y490\\\\\",\\\\\"parentCode\\\\\":\\\\\"Y000\\\\\",\\\\\"originName\\\\\":\\\\\"켄터키주\\\\\",\\\\\"originCode\\\\\":\\\\\"NAUS4900000\\\\\",\\\\\"displayName\\\\\":\\\\\"켄터키주\\\\\",\\\\\"items\\\\\":[],\\\\\"type\\\\\":\\\\\"area\\\\\",\\\\\"tagDisplayName\\\\\":\\\\\"미국\\\\u003e켄터키주\\\\\"},{\\\\\"code\\\\\":\\\\\"Y500\\\\\",\\\\\"parentCode\\\\\":\\\\\"Y000\\\\\",\\\\\"originName\\\\\":\\\\\"코네티컷주\\\\\",\\\\\"originCode\\\\\":\\\\\"NAUS5000000\\\\\",\\\\\"displayName\\\\\":\\\\\"코네티컷주\\\\\",\\\\\"items\\\\\":[],\\\\\"type\\\\\":\\\\\"area\\\\\",\\\\\"tagDisplayName\\\\\":\\\\\"미국\\\\u003e코네티컷주\\\\\"},{\\\\\"code\\\\\":\\\\\"Y510\\\\\",\\\\\"parentCode\\\\\":\\\\\"Y000\\\\\",\\\\\"originName\\\\\":\\\\\"콜로라도주\\\\\",\\\\\"originCode\\\\\":\\\\\"NAUS5100000\\\\\",\\\\\"displayName\\\\\":\\\\\"콜로라도주\\\\\",\\\\\"items\\\\\":[],\\\\\"type\\\\\":\\\\\"area\\\\\",\\\\\"tagDisplayName\\\\\":\\\\\"미국\\\\u003e콜로라도주\\\\\"},{\\\\\"code\\\\\":\\\\\"Y520\\\\\",\\\\\"parentCode\\\\\":\\\\\"Y000\\\\\",\\\\\"originName\\\\\":\\\\\"테네시주\\\\\",\\\\\"originCode\\\\\":\\\\\"NAUS5200000\\\\\",\\\\\"displayName\\\\\":\\\\\"테네시주\\\\\",\\\\\"items\\\\\":[],\\\\\"type\\\\\":\\\\\"area\\\\\",\\\\\"tagDisplayName\\\\\":\\\\\"미국\\\\u003e테네시주\\\\\"},{\\\\\"code\\\\\":\\\\\"Y530\\\\\",\\\\\"parentCode\\\\\":\\\\\"Y000\\\\\",\\\\\"originName\\\\\":\\\\\"텍사스주\\\\\",\\\\\"originCode\\\\\":\\\\\"NAUS5300000\\\\\",\\\\\"displayName\\\\\":\\\\\"텍사스주\\\\\",\\\\\"items\\\\\":[],\\\\\"type\\\\\":\\\\\"area\\\\\",\\\\\"tagDisplayName\\\\\":\\\\\"미국\\\\u003e텍사스주\\\\\"},{\\\\\"code\\\\\":\\\\\"Y540\\\\\",\\\\\"parentCode\\\\\":\\\\\"Y000\\\\\",\\\\\"originName\\\\\":\\\\\"펜실베니아주\\\\\",\\\\\"originCode\\\\\":\\\\\"NAUS5400000\\\\\",\\\\\"displayName\\\\\":\\\\\"펜실베니아주\\\\\",\\\\\"items\\\\\":[],\\\\\"type\\\\\":\\\\\"area\\\\\",\\\\\"tagDisplayName\\\\\":\\\\\"미국\\\\u003e펜실베니아주\\\\\"},{\\\\\"code\\\\\":\\\\\"Y550\\\\\",\\\\\"parentCode\\\\\":\\\\\"Y000\\\\\",\\\\\"originName\\\\\":\\\\\"플로리다주\\\\\",\\\\\"originCode\\\\\":\\\\\"NAUS5500000\\\\\",\\\\\"displayName\\\\\":\\\\\"플로리다주\\\\\",\\\\\"items\\\\\":[],\\\\\"type\\\\\":\\\\\"area\\\\\",\\\\\"tagDisplayName\\\\\":\\\\\"미국\\\\u003e플로리다주\\\\\"},{\\\\\"code\\\\\":\\\\\"Y560\\\\\",\\\\\"parentCode\\\\\":\\\\\"Y000\\\\\",\\\\\"originName\\\\\":\\\\\"하와이주\\\\\",\\\\\"originCode\\\\\":\\\\\"NAUS5700000\\\\\",\\\\\"displayName\\\\\":\\\\\"하와이주\\\\\",\\\\\"items\\\\\":[],\\\\\"type\\\\\":\\\\\"area\\\\\",\\\\\"tagDisplayName\\\\\":\\\\\"미국\\\\u003e하와이주\\\\\"},{\\\\\"code\\\\\":\\\\\"S000\\\\\",\\\\\"parentCode\\\\\":\\\\\"\\\\\",\\\\\"originName\\\\\":\\\\\"북아메리카\\\\\",\\\\\"originCode\\\\\":\\\\\"NA000000000\\\\\",\\\\\"displayName\\\\\":\\\\\"북아메리카\\\\\",\\\\\"items\\\\\":[],\\\\\"type\\\\\":\\\\\"area\\\\\",\\\\\"tagDisplayName\\\\\":\\\\\"북아메리카\\\\\"},{\\\\\"code\\\\\":\\\\\"S000_\\\\\",\\\\\"parentCode\\\\\":\\\\\"S000\\\\\",\\\\\"originName\\\\\":\\\\\"북아메리카 전지역\\\\\",\\\\\"originCode\\\\\":\\\\\"NAZZ0000000\\\\\",\\\\\"displayName\\\\\":\\\\\"전지역\\\\\",\\\\\"items\\\\\":[],\\\\\"type\\\\\":\\\\\"area\\\\\",\\\\\"tagDisplayName\\\\\":\\\\\"북아메리카\\\\u003e전지역\\\\\"},{\\\\\"code\\\\\":\\\\\"S010\\\\\",\\\\\"parentCode\\\\\":\\\\\"S000\\\\\",\\\\\"originName\\\\\":\\\\\"멕시코\\\\\",\\\\\"originCode\\\\\":\\\\\"NAMX0000000\\\\\",\\\\\"displayName\\\\\":\\\\\"멕시코\\\\\",\\\\\"items\\\\\":[],\\\\\"type\\\\\":\\\\\"area\\\\\",\\\\\"tagDisplayName\\\\\":\\\\\"북아메리카\\\\u003e멕시코\\\\\"},{\\\\\"code\\\\\":\\\\\"S020\\\\\",\\\\\"parentCode\\\\\":\\\\\"S000\\\\\",\\\\\"originName\\\\\":\\\\\"캐나다\\\\\",\\\\\"originCode\\\\\":\\\\\"NACA0000000\\\\\",\\\\\"displayName\\\\\":\\\\\"캐나다\\\\\",\\\\\"items\\\\\":[],\\\\\"type\\\\\":\\\\\"area\\\\\",\\\\\"tagDisplayName\\\\\":\\\\\"북아메리카\\\\u003e캐나다\\\\\"},{\\\\\"code\\\\\":\\\\\"S040\\\\\",\\\\\"parentCode\\\\\":\\\\\"S000\\\\\",\\\\\"originName\\\\\":\\\\\"그레나다\\\\\",\\\\\"originCode\\\\\":\\\\\"NAGD0000000\\\\\",\\\\\"displayName\\\\\":\\\\\"그레나다\\\\\",\\\\\"items\\\\\":[],\\\\\"type\\\\\":\\\\\"area\\\\\",\\\\\"tagDisplayName\\\\\":\\\\\"북아메리카\\\\u003e그레나다\\\\\"},{\\\\\"code\\\\\":\\\\\"S050\\\\\",\\\\\"parentCode\\\\\":\\\\\"S000\\\\\",\\\\\"originName\\\\\":\\\\\"그린란드\\\\\",\\\\\"originCode\\\\\":\\\\\"NAGL0000000\\\\\",\\\\\"displayName\\\\\":\\\\\"그린란드\\\\\",\\\\\"items\\\\\":[],\\\\\"type\\\\\":\\\\\"area\\\\\",\\\\\"tagDisplayName\\\\\":\\\\\"북아메리카\\\\u003e그린란드\\\\\"},{\\\\\"code\\\\\":\\\\\"S060\\\\\",\\\\\"parentCode\\\\\":\\\\\"S000\\\\\",\\\\\"originName\\\\\":\\\\\"도미니카공화국\\\\\",\\\\\"originCode\\\\\":\\\\\"NADO0000000\\\\\",\\\\\"displayName\\\\\":\\\\\"도미니카공화국\\\\\",\\\\\"items\\\\\":[],\\\\\"type\\\\\":\\\\\"area\\\\\",\\\\\"tagDisplayName\\\\\":\\\\\"북아메리카\\\\u003e도미니카공화국\\\\\"},{\\\\\"code\\\\\":\\\\\"S070\\\\\",\\\\\"parentCode\\\\\":\\\\\"S000\\\\\",\\\\\"originName\\\\\":\\\\\"바베이도스\\\\\",\\\\\"originCode\\\\\":\\\\\"NABB0000000\\\\\",\\\\\"displayName\\\\\":\\\\\"바베이도스\\\\\",\\\\\"items\\\\\":[],\\\\\"type\\\\\":\\\\\"area\\\\\",\\\\\"tagDisplayName\\\\\":\\\\\"북아메리카\\\\u003e바베이도스\\\\\"},{\\\\\"code\\\\\":\\\\\"S080\\\\\",\\\\\"parentCode\\\\\":\\\\\"S000\\\\\",\\\\\"originName\\\\\":\\\\\"바하마\\\\\",\\\\\"originCode\\\\\":\\\\\"NABS0000000\\\\\",\\\\\"displayName\\\\\":\\\\\"바하마\\\\\",\\\\\"items\\\\\":[],\\\\\"type\\\\\":\\\\\"area\\\\\",\\\\\"tagDisplayName\\\\\":\\\\\"북아메리카\\\\u003e바하마\\\\\"},{\\\\\"code\\\\\":\\\\\"S090\\\\\",\\\\\"parentCode\\\\\":\\\\\"S000\\\\\",\\\\\"originName\\\\\":\\\\\"세인트루시아\\\\\",\\\\\"originCode\\\\\":\\\\\"NALC0000000\\\\\",\\\\\"displayName\\\\\":\\\\\"세인트루시아\\\\\",\\\\\"items\\\\\":[],\\\\\"type\\\\\":\\\\\"area\\\\\",\\\\\"tagDisplayName\\\\\":\\\\\"북아메리카\\\\u003e세인트루시아\\\\\"},{\\\\\"code\\\\\":\\\\\"S100\\\\\",\\\\\"parentCode\\\\\":\\\\\"S000\\\\\",\\\\\"originName\\\\\":\\\\\"세인트빈센트그레나딘\\\\\",\\\\\"originCode\\\\\":\\\\\"NAVC0000000\\\\\",\\\\\"displayName\\\\\":\\\\\"세인트빈센트그레나딘\\\\\",\\\\\"items\\\\\":[],\\\\\"type\\\\\":\\\\\"area\\\\\",\\\\\"tagDisplayName\\\\\":\\\\\"북아메리카\\\\u003e세인트빈센트그레나딘\\\\\"},{\\\\\"code\\\\\":\\\\\"S110\\\\\",\\\\\"parentCode\\\\\":\\\\\"S000\\\\\",\\\\\"originName\\\\\":\\\\\"세인트키츠네비스\\\\\",\\\\\"originCode\\\\\":\\\\\"NAKN0000000\\\\\",\\\\\"displayName\\\\\":\\\\\"세인트키츠네비스\\\\\",\\\\\"items\\\\\":[],\\\\\"type\\\\\":\\\\\"area\\\\\",\\\\\"tagDisplayName\\\\\":\\\\\"북아메리카\\\\u003e세인트키츠네비스\\\\\"},{\\\\\"code\\\\\":\\\\\"S120\\\\\",\\\\\"parentCode\\\\\":\\\\\"S000\\\\\",\\\\\"originName\\\\\":\\\\\"코스타리카\\\\\",\\\\\"originCode\\\\\":\\\\\"NACR0000000\\\\\",\\\\\"displayName\\\\\":\\\\\"코스타리카\\\\\",\\\\\"items\\\\\":[],\\\\\"type\\\\\":\\\\\"area\\\\\",\\\\\"tagDisplayName\\\\\":\\\\\"북아메리카\\\\u003e코스타리카\\\\\"},{\\\\\"code\\\\\":\\\\\"S130\\\\\",\\\\\"parentCode\\\\\":\\\\\"S000\\\\\",\\\\\"originName\\\\\":\\\\\"푸에르토리코\\\\\",\\\\\"originCode\\\\\":\\\\\"NAPR0000000\\\\\",\\\\\"displayName\\\\\":\\\\\"푸에르토리코\\\\\",\\\\\"items\\\\\":[],\\\\\"type\\\\\":\\\\\"area\\\\\",\\\\\"tagDisplayName\\\\\":\\\\\"북아메리카\\\\u003e푸에르토리코\\\\\"},{\\\\\"code\\\\\":\\\\\"S030\\\\\",\\\\\"parentCode\\\\\":\\\\\"S000\\\\\",\\\\\"originName\\\\\":\\\\\"기타\\\\\",\\\\\"originCode\\\\\":\\\\\"NAZY0000000\\\\\",\\\\\"displayName\\\\\":\\\\\"기타\\\\\",\\\\\"items\\\\\":[],\\\\\"type\\\\\":\\\\\"area\\\\\",\\\\\"tagDisplayName\\\\\":\\\\\"북아메리카\\\\u003e기타\\\\\"},{\\\\\"code\\\\\":\\\\\"T000\\\\\",\\\\\"parentCode\\\\\":\\\\\"\\\\\",\\\\\"originName\\\\\":\\\\\"남아메리카\\\\\",\\\\\"originCode\\\\\":\\\\\"SA000000000\\\\\",\\\\\"displayName\\\\\":\\\\\"남아메리카\\\\\",\\\\\"items\\\\\":[],\\\\\"type\\\\\":\\\\\"area\\\\\",\\\\\"tagDisplayName\\\\\":\\\\\"남아메리카\\\\\"},{\\\\\"code\\\\\":\\\\\"T000_\\\\\",\\\\\"parentCode\\\\\":\\\\\"T000\\\\\",\\\\\"originName\\\\\":\\\\\"남아메리카 전지역\\\\\",\\\\\"originCode\\\\\":\\\\\"SAZZ0000000\\\\\",\\\\\"displayName\\\\\":\\\\\"전지역\\\\\",\\\\\"items\\\\\":[],\\\\\"type\\\\\":\\\\\"area\\\\\",\\\\\"tagDisplayName\\\\\":\\\\\"남아메리카\\\\u003e전지역\\\\\"},{\\\\\"code\\\\\":\\\\\"T010\\\\\",\\\\\"parentCode\\\\\":\\\\\"T000\\\\\",\\\\\"originName\\\\\":\\\\\"과테말라\\\\\",\\\\\"originCode\\\\\":\\\\\"SAGT0000000\\\\\",\\\\\"displayName\\\\\":\\\\\"과테말라\\\\\",\\\\\"items\\\\\":[],\\\\\"type\\\\\":\\\\\"area\\\\\",\\\\\"tagDisplayName\\\\\":\\\\\"남아메리카\\\\u003e과테말라\\\\\"},{\\\\\"code\\\\\":\\\\\"T020\\\\\",\\\\\"parentCode\\\\\":\\\\\"T000\\\\\",\\\\\"originName\\\\\":\\\\\"베네수엘라\\\\\",\\\\\"originCode\\\\\":\\\\\"SAVE0000000\\\\\",\\\\\"displayName\\\\\":\\\\\"베네수엘라\\\\\",\\\\\"items\\\\\":[],\\\\\"type\\\\\":\\\\\"area\\\\\",\\\\\"tagDisplayName\\\\\":\\\\\"남아메리카\\\\u003e베네수엘라\\\\\"},{\\\\\"code\\\\\":\\\\\"T030\\\\\",\\\\\"parentCode\\\\\":\\\\\"T000\\\\\",\\\\\"originName\\\\\":\\\\\"브라질\\\\\",\\\\\"originCode\\\\\":\\\\\"SABR0000000\\\\\",\\\\\"displayName\\\\\":\\\\\"브라질\\\\\",\\\\\"items\\\\\":[],\\\\\"type\\\\\":\\\\\"area\\\\\",\\\\\"tagDisplayName\\\\\":\\\\\"남아메리카\\\\u003e브라질\\\\\"},{\\\\\"code\\\\\":\\\\\"T040\\\\\",\\\\\"parentCode\\\\\":\\\\\"T000\\\\\",\\\\\"originName\\\\\":\\\\\"아르헨티나\\\\\",\\\\\"originCode\\\\\":\\\\\"SAAR0000000\\\\\",\\\\\"displayName\\\\\":\\\\\"아르헨티나\\\\\",\\\\\"items\\\\\":[],\\\\\"type\\\\\":\\\\\"area\\\\\",\\\\\"tagDisplayName\\\\\":\\\\\"남아메리카\\\\u003e아르헨티나\\\\\"},{\\\\\"code\\\\\":\\\\\"T050\\\\\",\\\\\"parentCode\\\\\":\\\\\"T000\\\\\",\\\\\"originName\\\\\":\\\\\"에콰도르\\\\\",\\\\\"originCode\\\\\":\\\\\"SAEC0000000\\\\\",\\\\\"displayName\\\\\":\\\\\"에콰도르\\\\\",\\\\\"items\\\\\":[],\\\\\"type\\\\\":\\\\\"area\\\\\",\\\\\"tagDisplayName\\\\\":\\\\\"남아메리카\\\\u003e에콰도르\\\\\"},{\\\\\"code\\\\\":\\\\\"T060\\\\\",\\\\\"parentCode\\\\\":\\\\\"T000\\\\\",\\\\\"originName\\\\\":\\\\\"온두라스\\\\\",\\\\\"originCode\\\\\":\\\\\"SAHN0000000\\\\\",\\\\\"displayName\\\\\":\\\\\"온두라스\\\\\",\\\\\"items\\\\\":[],\\\\\"type\\\\\":\\\\\"area\\\\\",\\\\\"tagDisplayName\\\\\":\\\\\"남아메리카\\\\u003e온두라스\\\\\"},{\\\\\"code\\\\\":\\\\\"T070\\\\\",\\\\\"parentCode\\\\\":\\\\\"T000\\\\\",\\\\\"originName\\\\\":\\\\\"우루과이\\\\\",\\\\\"originCode\\\\\":\\\\\"SAUY0000000\\\\\",\\\\\"displayName\\\\\":\\\\\"우루과이\\\\\",\\\\\"items\\\\\":[],\\\\\"type\\\\\":\\\\\"area\\\\\",\\\\\"tagDisplayName\\\\\":\\\\\"남아메리카\\\\u003e우루과이\\\\\"},{\\\\\"code\\\\\":\\\\\"T080\\\\\",\\\\\"parentCode\\\\\":\\\\\"T000\\\\\",\\\\\"originName\\\\\":\\\\\"칠레\\\\\",\\\\\"originCode\\\\\":\\\\\"SACL0000000\\\\\",\\\\\"displayName\\\\\":\\\\\"칠레\\\\\",\\\\\"items\\\\\":[],\\\\\"type\\\\\":\\\\\"area\\\\\",\\\\\"tagDisplayName\\\\\":\\\\\"남아메리카\\\\u003e칠레\\\\\"},{\\\\\"code\\\\\":\\\\\"T090\\\\\",\\\\\"parentCode\\\\\":\\\\\"T000\\\\\",\\\\\"originName\\\\\":\\\\\"콜롬비아\\\\\",\\\\\"originCode\\\\\":\\\\\"SACO0000000\\\\\",\\\\\"displayName\\\\\":\\\\\"콜롬비아\\\\\",\\\\\"items\\\\\":[],\\\\\"type\\\\\":\\\\\"area\\\\\",\\\\\"tagDisplayName\\\\\":\\\\\"남아메리카\\\\u003e콜롬비아\\\\\"},{\\\\\"code\\\\\":\\\\\"T100\\\\\",\\\\\"parentCode\\\\\":\\\\\"T000\\\\\",\\\\\"originName\\\\\":\\\\\"쿠바\\\\\",\\\\\"originCode\\\\\":\\\\\"SACU0000000\\\\\",\\\\\"displayName\\\\\":\\\\\"쿠바\\\\\",\\\\\"items\\\\\":[],\\\\\"type\\\\\":\\\\\"area\\\\\",\\\\\"tagDisplayName\\\\\":\\\\\"남아메리카\\\\u003e쿠바\\\\\"},{\\\\\"code\\\\\":\\\\\"T110\\\\\",\\\\\"parentCode\\\\\":\\\\\"T000\\\\\",\\\\\"originName\\\\\":\\\\\"파나마\\\\\",\\\\\"originCode\\\\\":\\\\\"SAPA0000000\\\\\",\\\\\"displayName\\\\\":\\\\\"파나마\\\\\",\\\\\"items\\\\\":[],\\\\\"type\\\\\":\\\\\"area\\\\\",\\\\\"tagDisplayName\\\\\":\\\\\"남아메리카\\\\u003e파나마\\\\\"},{\\\\\"code\\\\\":\\\\\"T120\\\\\",\\\\\"parentCode\\\\\":\\\\\"T000\\\\\",\\\\\"originName\\\\\":\\\\\"페루\\\\\",\\\\\"originCode\\\\\":\\\\\"SAPE0000000\\\\\",\\\\\"displayName\\\\\":\\\\\"페루\\\\\",\\\\\"items\\\\\":[],\\\\\"type\\\\\":\\\\\"area\\\\\",\\\\\"tagDisplayName\\\\\":\\\\\"남아메리카\\\\u003e페루\\\\\"},{\\\\\"code\\\\\":\\\\\"T140\\\\\",\\\\\"parentCode\\\\\":\\\\\"T000\\\\\",\\\\\"originName\\\\\":\\\\\"가이아나\\\\\",\\\\\"originCode\\\\\":\\\\\"SAGY0000000\\\\\",\\\\\"displayName\\\\\":\\\\\"가이아나\\\\\",\\\\\"items\\\\\":[],\\\\\"type\\\\\":\\\\\"area\\\\\",\\\\\"tagDisplayName\\\\\":\\\\\"남아메리카\\\\u003e가이아나\\\\\"},{\\\\\"code\\\\\":\\\\\"T150\\\\\",\\\\\"parentCode\\\\\":\\\\\"T000\\\\\",\\\\\"originName\\\\\":\\\\\"니카라과\\\\\",\\\\\"originCode\\\\\":\\\\\"SANI0000000\\\\\",\\\\\"displayName\\\\\":\\\\\"니카라과\\\\\",\\\\\"items\\\\\":[],\\\\\"type\\\\\":\\\\\"area\\\\\",\\\\\"tagDisplayName\\\\\":\\\\\"남아메리카\\\\u003e니카라과\\\\\"},{\\\\\"code\\\\\":\\\\\"T160\\\\\",\\\\\"parentCode\\\\\":\\\\\"T000\\\\\",\\\\\"originName\\\\\":\\\\\"도미니카연방\\\\\",\\\\\"originCode\\\\\":\\\\\"SADM0000000\\\\\",\\\\\"displayName\\\\\":\\\\\"도미니카연방\\\\\",\\\\\"items\\\\\":[],\\\\\"type\\\\\":\\\\\"area\\\\\",\\\\\"tagDisplayName\\\\\":\\\\\"남아메리카\\\\u003e도미니카연방\\\\\"},{\\\\\"code\\\\\":\\\\\"T170\\\\\",\\\\\"parentCode\\\\\":\\\\\"T000\\\\\",\\\\\"originName\\\\\":\\\\\"벨리즈\\\\\",\\\\\"originCode\\\\\":\\\\\"SABZ0000000\\\\\",\\\\\"displayName\\\\\":\\\\\"벨리즈\\\\\",\\\\\"items\\\\\":[],\\\\\"type\\\\\":\\\\\"area\\\\\",\\\\\"tagDisplayName\\\\\":\\\\\"남아메리카\\\\u003e벨리즈\\\\\"},{\\\\\"code\\\\\":\\\\\"T180\\\\\",\\\\\"parentCode\\\\\":\\\\\"T000\\\\\",\\\\\"originName\\\\\":\\\\\"볼리비아\\\\\",\\\\\"originCode\\\\\":\\\\\"SABO0000000\\\\\",\\\\\"displayName\\\\\":\\\\\"볼리비아\\\\\",\\\\\"items\\\\\":[],\\\\\"type\\\\\":\\\\\"area\\\\\",\\\\\"tagDisplayName\\\\\":\\\\\"남아메리카\\\\u003e볼리비아\\\\\"},{\\\\\"code\\\\\":\\\\\"T190\\\\\",\\\\\"parentCode\\\\\":\\\\\"T000\\\\\",\\\\\"originName\\\\\":\\\\\"수리남\\\\\",\\\\\"originCode\\\\\":\\\\\"SASR0000000\\\\\",\\\\\"displayName\\\\\":\\\\\"수리남\\\\\",\\\\\"items\\\\\":[],\\\\\"type\\\\\":\\\\\"area\\\\\",\\\\\"tagDisplayName\\\\\":\\\\\"남아메리카\\\\u003e수리남\\\\\"},{\\\\\"code\\\\\":\\\\\"T200\\\\\",\\\\\"parentCode\\\\\":\\\\\"T000\\\\\",\\\\\"originName\\\\\":\\\\\"아이티\\\\\",\\\\\"originCode\\\\\":\\\\\"SAHT0000000\\\\\",\\\\\"displayName\\\\\":\\\\\"아이티\\\\\",\\\\\"items\\\\\":[],\\\\\"type\\\\\":\\\\\"area\\\\\",\\\\\"tagDisplayName\\\\\":\\\\\"남아메리카\\\\u003e아이티\\\\\"},{\\\\\"code\\\\\":\\\\\"T210\\\\\",\\\\\"parentCode\\\\\":\\\\\"T000\\\\\",\\\\\"originName\\\\\":\\\\\"앤티가바부다\\\\\",\\\\\"originCode\\\\\":\\\\\"SAAG0000000\\\\\",\\\\\"displayName\\\\\":\\\\\"앤티가바부다\\\\\",\\\\\"items\\\\\":[],\\\\\"type\\\\\":\\\\\"area\\\\\",\\\\\"tagDisplayName\\\\\":\\\\\"남아메리카\\\\u003e앤티가바부다\\\\\"},{\\\\\"code\\\\\":\\\\\"T220\\\\\",\\\\\"parentCode\\\\\":\\\\\"T000\\\\\",\\\\\"originName\\\\\":\\\\\"엘살바도르\\\\\",\\\\\"originCode\\\\\":\\\\\"SASV0000000\\\\\",\\\\\"displayName\\\\\":\\\\\"엘살바도르\\\\\",\\\\\"items\\\\\":[],\\\\\"type\\\\\":\\\\\"area\\\\\",\\\\\"tagDisplayName\\\\\":\\\\\"남아메리카\\\\u003e엘살바도르\\\\\"},{\\\\\"code\\\\\":\\\\\"T230\\\\\",\\\\\"parentCode\\\\\":\\\\\"T000\\\\\",\\\\\"originName\\\\\":\\\\\"자메이카\\\\\",\\\\\"originCode\\\\\":\\\\\"SAJM0000000\\\\\",\\\\\"displayName\\\\\":\\\\\"자메이카\\\\\",\\\\\"items\\\\\":[],\\\\\"type\\\\\":\\\\\"area\\\\\",\\\\\"tagDisplayName\\\\\":\\\\\"남아메리카\\\\u003e자메이카\\\\\"},{\\\\\"code\\\\\":\\\\\"T240\\\\\",\\\\\"parentCode\\\\\":\\\\\"T000\\\\\",\\\\\"originName\\\\\":\\\\\"트리니다드토바고\\\\\",\\\\\"originCode\\\\\":\\\\\"SATT0000000\\\\\",\\\\\"displayName\\\\\":\\\\\"트리니다드토바고\\\\\",\\\\\"items\\\\\":[],\\\\\"type\\\\\":\\\\\"area\\\\\",\\\\\"tagDisplayName\\\\\":\\\\\"남아메리카\\\\u003e트리니다드토바고\\\\\"},{\\\\\"code\\\\\":\\\\\"T250\\\\\",\\\\\"parentCode\\\\\":\\\\\"T000\\\\\",\\\\\"originName\\\\\":\\\\\"파라과이\\\\\",\\\\\"originCode\\\\\":\\\\\"SAPY0000000\\\\\",\\\\\"displayName\\\\\":\\\\\"파라과이\\\\\",\\\\\"items\\\\\":[],\\\\\"type\\\\\":\\\\\"area\\\\\",\\\\\"tagDisplayName\\\\\":\\\\\"남아메리카\\\\u003e파라과이\\\\\"},{\\\\\"code\\\\\":\\\\\"T130\\\\\",\\\\\"parentCode\\\\\":\\\\\"T000\\\\\",\\\\\"originName\\\\\":\\\\\"기타\\\\\",\\\\\"originCode\\\\\":\\\\\"SAZY0000000\\\\\",\\\\\"displayName\\\\\":\\\\\"기타\\\\\",\\\\\"items\\\\\":[],\\\\\"type\\\\\":\\\\\"area\\\\\",\\\\\"tagDisplayName\\\\\":\\\\\"남아메리카\\\\u003e기타\\\\\"},{\\\\\"code\\\\\":\\\\\"U000\\\\\",\\\\\"parentCode\\\\\":\\\\\"\\\\\",\\\\\"originName\\\\\":\\\\\"유럽\\\\\",\\\\\"originCode\\\\\":\\\\\"EU000000000\\\\\",\\\\\"displayName\\\\\":\\\\\"유럽\\\\\",\\\\\"items\\\\\":[],\\\\\"type\\\\\":\\\\\"area\\\\\",\\\\\"tagDisplayName\\\\\":\\\\\"유럽\\\\\"},{\\\\\"code\\\\\":\\\\\"U000_\\\\\",\\\\\"parentCode\\\\\":\\\\\"U000\\\\\",\\\\\"originName\\\\\":\\\\\"유럽 전지역\\\\\",\\\\\"originCode\\\\\":\\\\\"EUZZ0000000\\\\\",\\\\\"displayName\\\\\":\\\\\"전지역\\\\\",\\\\\"items\\\\\":[],\\\\\"type\\\\\":\\\\\"area\\\\\",\\\\\"tagDisplayName\\\\\":\\\\\"유럽\\\\u003e전지역\\\\\"},{\\\\\"code\\\\\":\\\\\"U010\\\\\",\\\\\"parentCode\\\\\":\\\\\"U000\\\\\",\\\\\"originName\\\\\":\\\\\"그리스\\\\\",\\\\\"originCode\\\\\":\\\\\"EUGR0000000\\\\\",\\\\\"displayName\\\\\":\\\\\"그리스\\\\\",\\\\\"items\\\\\":[],\\\\\"type\\\\\":\\\\\"area\\\\\",\\\\\"tagDisplayName\\\\\":\\\\\"유럽\\\\u003e그리스\\\\\"},{\\\\\"code\\\\\":\\\\\"U020\\\\\",\\\\\"parentCode\\\\\":\\\\\"U000\\\\\",\\\\\"originName\\\\\":\\\\\"네덜란드\\\\\",\\\\\"originCode\\\\\":\\\\\"EUNL0000000\\\\\",\\\\\"displayName\\\\\":\\\\\"네덜란드\\\\\",\\\\\"items\\\\\":[],\\\\\"type\\\\\":\\\\\"area\\\\\",\\\\\"tagDisplayName\\\\\":\\\\\"유럽\\\\u003e네덜란드\\\\\"},{\\\\\"code\\\\\":\\\\\"U030\\\\\",\\\\\"parentCode\\\\\":\\\\\"U000\\\\\",\\\\\"originName\\\\\":\\\\\"노르웨이\\\\\",\\\\\"originCode\\\\\":\\\\\"EUNO0000000\\\\\",\\\\\"displayName\\\\\":\\\\\"노르웨이\\\\\",\\\\\"items\\\\\":[],\\\\\"type\\\\\":\\\\\"area\\\\\",\\\\\"tagDisplayName\\\\\":\\\\\"유럽\\\\u003e노르웨이\\\\\"},{\\\\\"code\\\\\":\\\\\"U040\\\\\",\\\\\"parentCode\\\\\":\\\\\"U000\\\\\",\\\\\"originName\\\\\":\\\\\"덴마크\\\\\",\\\\\"originCode\\\\\":\\\\\"EUDK0000000\\\\\",\\\\\"displayName\\\\\":\\\\\"덴마크\\\\\",\\\\\"items\\\\\":[],\\\\\"type\\\\\":\\\\\"area\\\\\",\\\\\"tagDisplayName\\\\\":\\\\\"유럽\\\\u003e덴마크\\\\\"},{\\\\\"code\\\\\":\\\\\"U050\\\\\",\\\\\"parentCode\\\\\":\\\\\"U000\\\\\",\\\\\"originName\\\\\":\\\\\"독일\\\\\",\\\\\"originCode\\\\\":\\\\\"EUDE0000000\\\\\",\\\\\"displayName\\\\\":\\\\\"독일\\\\\",\\\\\"items\\\\\":[],\\\\\"type\\\\\":\\\\\"area\\\\\",\\\\\"tagDisplayName\\\\\":\\\\\"유럽\\\\u003e독일\\\\\"},{\\\\\"code\\\\\":\\\\\"U060\\\\\",\\\\\"parentCode\\\\\":\\\\\"U000\\\\\",\\\\\"originName\\\\\":\\\\\"러시아\\\\\",\\\\\"originCode\\\\\":\\\\\"EURU0000000\\\\\",\\\\\"displayName\\\\\":\\\\\"러시아\\\\\",\\\\\"items\\\\\":[],\\\\\"type\\\\\":\\\\\"area\\\\\",\\\\\"tagDisplayName\\\\\":\\\\\"유럽\\\\u003e러시아\\\\\"},{\\\\\"code\\\\\":\\\\\"U070\\\\\",\\\\\"parentCode\\\\\":\\\\\"U000\\\\\",\\\\\"originName\\\\\":\\\\\"벨기에\\\\\",\\\\\"originCode\\\\\":\\\\\"EUBE0000000\\\\\",\\\\\"displayName\\\\\":\\\\\"벨기에\\\\\",\\\\\"items\\\\\":[],\\\\\"type\\\\\":\\\\\"area\\\\\",\\\\\"tagDisplayName\\\\\":\\\\\"유럽\\\\u003e벨기에\\\\\"},{\\\\\"code\\\\\":\\\\\"U080\\\\\",\\\\\"parentCode\\\\\":\\\\\"U000\\\\\",\\\\\"originName\\\\\":\\\\\"스웨덴\\\\\",\\\\\"originCode\\\\\":\\\\\"EUSE0000000\\\\\",\\\\\"displayName\\\\\":\\\\\"스웨덴\\\\\",\\\\\"items\\\\\":[],\\\\\"type\\\\\":\\\\\"area\\\\\",\\\\\"tagDisplayName\\\\\":\\\\\"유럽\\\\u003e스웨덴\\\\\"},{\\\\\"code\\\\\":\\\\\"U090\\\\\",\\\\\"parentCode\\\\\":\\\\\"U000\\\\\",\\\\\"originName\\\\\":\\\\\"스위스\\\\\",\\\\\"originCode\\\\\":\\\\\"EUCH0000000\\\\\",\\\\\"displayName\\\\\":\\\\\"스위스\\\\\",\\\\\"items\\\\\":[],\\\\\"type\\\\\":\\\\\"area\\\\\",\\\\\"tagDisplayName\\\\\":\\\\\"유럽\\\\u003e스위스\\\\\"},{\\\\\"code\\\\\":\\\\\"U100\\\\\",\\\\\"parentCode\\\\\":\\\\\"U000\\\\\",\\\\\"originName\\\\\":\\\\\"스페인\\\\\",\\\\\"originCode\\\\\":\\\\\"EUES0000000\\\\\",\\\\\"displayName\\\\\":\\\\\"스페인\\\\\",\\\\\"items\\\\\":[],\\\\\"type\\\\\":\\\\\"area\\\\\",\\\\\"tagDisplayName\\\\\":\\\\\"유럽\\\\u003e스페인\\\\\"},{\\\\\"code\\\\\":\\\\\"U110\\\\\",\\\\\"parentCode\\\\\":\\\\\"U000\\\\\",\\\\\"originName\\\\\":\\\\\"영국\\\\\",\\\\\"originCode\\\\\":\\\\\"EUGB0000000\\\\\",\\\\\"displayName\\\\\":\\\\\"영국\\\\\",\\\\\"items\\\\\":[],\\\\\"type\\\\\":\\\\\"area\\\\\",\\\\\"tagDisplayName\\\\\":\\\\\"유럽\\\\u003e영국\\\\\"},{\\\\\"code\\\\\":\\\\\"U120\\\\\",\\\\\"parentCode\\\\\":\\\\\"U000\\\\\",\\\\\"originName\\\\\":\\\\\"이탈리아\\\\\",\\\\\"originCode\\\\\":\\\\\"EUIT0000000\\\\\",\\\\\"displayName\\\\\":\\\\\"이탈리아\\\\\",\\\\\"items\\\\\":[],\\\\\"type\\\\\":\\\\\"area\\\\\",\\\\\"tagDisplayName\\\\\":\\\\\"유럽\\\\u003e이탈리아\\\\\"},{\\\\\"code\\\\\":\\\\\"U130\\\\\",\\\\\"parentCode\\\\\":\\\\\"U000\\\\\",\\\\\"originName\\\\\":\\\\\"체코\\\\\",\\\\\"originCode\\\\\":\\\\\"EUCZ0000000\\\\\",\\\\\"displayName\\\\\":\\\\\"체코\\\\\",\\\\\"items\\\\\":[],\\\\\"type\\\\\":\\\\\"area\\\\\",\\\\\"tagDisplayName\\\\\":\\\\\"유럽\\\\u003e체코\\\\\"},{\\\\\"code\\\\\":\\\\\"U140\\\\\",\\\\\"parentCode\\\\\":\\\\\"U000\\\\\",\\\\\"originName\\\\\":\\\\\"터키\\\\\",\\\\\"originCode\\\\\":\\\\\"EUTR0000000\\\\\",\\\\\"displayName\\\\\":\\\\\"터키\\\\\",\\\\\"items\\\\\":[],\\\\\"type\\\\\":\\\\\"area\\\\\",\\\\\"tagDisplayName\\\\\":\\\\\"유럽\\\\u003e터키\\\\\"},{\\\\\"code\\\\\":\\\\\"U150\\\\\",\\\\\"parentCode\\\\\":\\\\\"U000\\\\\",\\\\\"originName\\\\\":\\\\\"포르투갈\\\\\",\\\\\"originCode\\\\\":\\\\\"EUPT0000000\\\\\",\\\\\"displayName\\\\\":\\\\\"포르투갈\\\\\",\\\\\"items\\\\\":[],\\\\\"type\\\\\":\\\\\"area\\\\\",\\\\\"tagDisplayName\\\\\":\\\\\"유럽\\\\u003e포르투갈\\\\\"},{\\\\\"code\\\\\":\\\\\"U160\\\\\",\\\\\"parentCode\\\\\":\\\\\"U000\\\\\",\\\\\"originName\\\\\":\\\\\"폴란드\\\\\",\\\\\"originCode\\\\\":\\\\\"EUPL0000000\\\\\",\\\\\"displayName\\\\\":\\\\\"폴란드\\\\\",\\\\\"items\\\\\":[],\\\\\"type\\\\\":\\\\\"area\\\\\",\\\\\"tagDisplayName\\\\\":\\\\\"유럽\\\\u003e폴란드\\\\\"},{\\\\\"code\\\\\":\\\\\"U170\\\\\",\\\\\"parentCode\\\\\":\\\\\"U000\\\\\",\\\\\"originName\\\\\":\\\\\"프랑스\\\\\",\\\\\"originCode\\\\\":\\\\\"EUFR0000000\\\\\",\\\\\"displayName\\\\\":\\\\\"프랑스\\\\\",\\\\\"items\\\\\":[],\\\\\"type\\\\\":\\\\\"area\\\\\",\\\\\"tagDisplayName\\\\\":\\\\\"유럽\\\\u003e프랑스\\\\\"},{\\\\\"code\\\\\":\\\\\"U180\\\\\",\\\\\"parentCode\\\\\":\\\\\"U000\\\\\",\\\\\"originName\\\\\":\\\\\"핀란드\\\\\",\\\\\"originCode\\\\\":\\\\\"EUFI0000000\\\\\",\\\\\"displayName\\\\\":\\\\\"핀란드\\\\\",\\\\\"items\\\\\":[],\\\\\"type\\\\\":\\\\\"area\\\\\",\\\\\"tagDisplayName\\\\\":\\\\\"유럽\\\\u003e핀란드\\\\\"},{\\\\\"code\\\\\":\\\\\"U190\\\\\",\\\\\"parentCode\\\\\":\\\\\"U000\\\\\",\\\\\"originName\\\\\":\\\\\"헝가리\\\\\",\\\\\"originCode\\\\\":\\\\\"EUHU0000000\\\\\",\\\\\"displayName\\\\\":\\\\\"헝가리\\\\\",\\\\\"items\\\\\":[],\\\\\"type\\\\\":\\\\\"area\\\\\",\\\\\"tagDisplayName\\\\\":\\\\\"유럽\\\\u003e헝가리\\\\\"},{\\\\\"code\\\\\":\\\\\"U220\\\\\",\\\\\"parentCode\\\\\":\\\\\"U000\\\\\",\\\\\"originName\\\\\":\\\\\"라트비아\\\\\",\\\\\"originCode\\\\\":\\\\\"EULV0000000\\\\\",\\\\\"displayName\\\\\":\\\\\"라트비아\\\\\",\\\\\"items\\\\\":[],\\\\\"type\\\\\":\\\\\"area\\\\\",\\\\\"tagDisplayName\\\\\":\\\\\"유럽\\\\u003e라트비아\\\\\"},{\\\\\"code\\\\\":\\\\\"U230\\\\\",\\\\\"parentCode\\\\\":\\\\\"U000\\\\\",\\\\\"originName\\\\\":\\\\\"루마니아\\\\\",\\\\\"originCode\\\\\":\\\\\"EURO0000000\\\\\",\\\\\"displayName\\\\\":\\\\\"루마니아\\\\\",\\\\\"items\\\\\":[],\\\\\"type\\\\\":\\\\\"area\\\\\",\\\\\"tagDisplayName\\\\\":\\\\\"유럽\\\\u003e루마니아\\\\\"},{\\\\\"code\\\\\":\\\\\"U240\\\\\",\\\\\"parentCode\\\\\":\\\\\"U000\\\\\",\\\\\"originName\\\\\":\\\\\"룩셈부르크\\\\\",\\\\\"originCode\\\\\":\\\\\"EULU0000000\\\\\",\\\\\"displayName\\\\\":\\\\\"룩셈부르크\\\\\",\\\\\"items\\\\\":[],\\\\\"type\\\\\":\\\\\"area\\\\\",\\\\\"tagDisplayName\\\\\":\\\\\"유럽\\\\u003e룩셈부르크\\\\\"},{\\\\\"code\\\\\":\\\\\"U250\\\\\",\\\\\"parentCode\\\\\":\\\\\"U000\\\\\",\\\\\"originName\\\\\":\\\\\"리투아니아\\\\\",\\\\\"originCode\\\\\":\\\\\"EULT0000000\\\\\",\\\\\"displayName\\\\\":\\\\\"리투아니아\\\\\",\\\\\"items\\\\\":[],\\\\\"type\\\\\":\\\\\"area\\\\\",\\\\\"tagDisplayName\\\\\":\\\\\"유럽\\\\u003e리투아니아\\\\\"},{\\\\\"code\\\\\":\\\\\"U260\\\\\",\\\\\"parentCode\\\\\":\\\\\"U000\\\\\",\\\\\"originName\\\\\":\\\\\"리히텐슈타인\\\\\",\\\\\"originCode\\\\\":\\\\\"EULI0000000\\\\\",\\\\\"displayName\\\\\":\\\\\"리히텐슈타인\\\\\",\\\\\"items\\\\\":[],\\\\\"type\\\\\":\\\\\"area\\\\\",\\\\\"tagDisplayName\\\\\":\\\\\"유럽\\\\u003e리히텐슈타인\\\\\"},{\\\\\"code\\\\\":\\\\\"U270\\\\\",\\\\\"parentCode\\\\\":\\\\\"U000\\\\\",\\\\\"originName\\\\\":\\\\\"마케도니아\\\\\",\\\\\"originCode\\\\\":\\\\\"EUMK0000000\\\\\",\\\\\"displayName\\\\\":\\\\\"마케도니아\\\\\",\\\\\"items\\\\\":[],\\\\\"type\\\\\":\\\\\"area\\\\\",\\\\\"tagDisplayName\\\\\":\\\\\"유럽\\\\u003e마케도니아\\\\\"},{\\\\\"code\\\\\":\\\\\"U280\\\\\",\\\\\"parentCode\\\\\":\\\\\"U000\\\\\",\\\\\"originName\\\\\":\\\\\"모나코\\\\\",\\\\\"originCode\\\\\":\\\\\"EUMC0000000\\\\\",\\\\\"displayName\\\\\":\\\\\"모나코\\\\\",\\\\\"items\\\\\":[],\\\\\"type\\\\\":\\\\\"area\\\\\",\\\\\"tagDisplayName\\\\\":\\\\\"유럽\\\\u003e모나코\\\\\"},{\\\\\"code\\\\\":\\\\\"U290\\\\\",\\\\\"parentCode\\\\\":\\\\\"U000\\\\\",\\\\\"originName\\\\\":\\\\\"몰도바\\\\\",\\\\\"originCode\\\\\":\\\\\"EUMD0000000\\\\\",\\\\\"displayName\\\\\":\\\\\"몰도바\\\\\",\\\\\"items\\\\\":[],\\\\\"type\\\\\":\\\\\"area\\\\\",\\\\\"tagDisplayName\\\\\":\\\\\"유럽\\\\u003e몰도바\\\\\"},{\\\\\"code\\\\\":\\\\\"U300\\\\\",\\\\\"parentCode\\\\\":\\\\\"U000\\\\\",\\\\\"originName\\\\\":\\\\\"몰타\\\\\",\\\\\"originCode\\\\\":\\\\\"EUMT0000000\\\\\",\\\\\"displayName\\\\\":\\\\\"몰타\\\\\",\\\\\"items\\\\\":[],\\\\\"type\\\\\":\\\\\"area\\\\\",\\\\\"tagDisplayName\\\\\":\\\\\"유럽\\\\u003e몰타\\\\\"},{\\\\\"code\\\\\":\\\\\"U310\\\\\",\\\\\"parentCode\\\\\":\\\\\"U000\\\\\",\\\\\"originName\\\\\":\\\\\"바티칸시국\\\\\",\\\\\"originCode\\\\\":\\\\\"EUVA0000000\\\\\",\\\\\"displayName\\\\\":\\\\\"바티칸시국\\\\\",\\\\\"items\\\\\":[],\\\\\"type\\\\\":\\\\\"area\\\\\",\\\\\"tagDisplayName\\\\\":\\\\\"유럽\\\\u003e바티칸시국\\\\\"},{\\\\\"code\\\\\":\\\\\"U320\\\\\",\\\\\"parentCode\\\\\":\\\\\"U000\\\\\",\\\\\"originName\\\\\":\\\\\"벨라루스\\\\\",\\\\\"originCode\\\\\":\\\\\"EUBY0000000\\\\\",\\\\\"displayName\\\\\":\\\\\"벨라루스\\\\\",\\\\\"items\\\\\":[],\\\\\"type\\\\\":\\\\\"area\\\\\",\\\\\"tagDisplayName\\\\\":\\\\\"유럽\\\\u003e벨라루스\\\\\"},{\\\\\"code\\\\\":\\\\\"U330\\\\\",\\\\\"parentCode\\\\\":\\\\\"U000\\\\\",\\\\\"originName\\\\\":\\\\\"보스니아헤르체코비나\\\\\",\\\\\"originCode\\\\\":\\\\\"EUBA0000000\\\\\",\\\\\"displayName\\\\\":\\\\\"보스니아헤르체코비나\\\\\",\\\\\"items\\\\\":[],\\\\\"type\\\\\":\\\\\"area\\\\\",\\\\\"tagDisplayName\\\\\":\\\\\"유럽\\\\u003e보스니아헤르체코비나\\\\\"},{\\\\\"code\\\\\":\\\\\"U340\\\\\",\\\\\"parentCode\\\\\":\\\\\"U000\\\\\",\\\\\"originName\\\\\":\\\\\"불가리아\\\\\",\\\\\"originCode\\\\\":\\\\\"EUBG0000000\\\\\",\\\\\"displayName\\\\\":\\\\\"불가리아\\\\\",\\\\\"items\\\\\":[],\\\\\"type\\\\\":\\\\\"area\\\\\",\\\\\"tagDisplayName\\\\\":\\\\\"유럽\\\\u003e불가리아\\\\\"},{\\\\\"code\\\\\":\\\\\"U350\\\\\",\\\\\"parentCode\\\\\":\\\\\"U000\\\\\",\\\\\"originName\\\\\":\\\\\"사이프러스\\\\\",\\\\\"originCode\\\\\":\\\\\"EUCY0000000\\\\\",\\\\\"displayName\\\\\":\\\\\"사이프러스\\\\\",\\\\\"items\\\\\":[],\\\\\"type\\\\\":\\\\\"area\\\\\",\\\\\"tagDisplayName\\\\\":\\\\\"유럽\\\\u003e사이프러스\\\\\"},{\\\\\"code\\\\\":\\\\\"U360\\\\\",\\\\\"parentCode\\\\\":\\\\\"U000\\\\\",\\\\\"originName\\\\\":\\\\\"산마리노\\\\\",\\\\\"originCode\\\\\":\\\\\"EUSM0000000\\\\\",\\\\\"displayName\\\\\":\\\\\"산마리노\\\\\",\\\\\"items\\\\\":[],\\\\\"type\\\\\":\\\\\"area\\\\\",\\\\\"tagDisplayName\\\\\":\\\\\"유럽\\\\u003e산마리노\\\\\"},{\\\\\"code\\\\\":\\\\\"U370\\\\\",\\\\\"parentCode\\\\\":\\\\\"U000\\\\\",\\\\\"originName\\\\\":\\\\\"세르비아몬테네그로\\\\\",\\\\\"originCode\\\\\":\\\\\"EURS0000000\\\\\",\\\\\"displayName\\\\\":\\\\\"세르비아몬테네그로\\\\\",\\\\\"items\\\\\":[],\\\\\"type\\\\\":\\\\\"area\\\\\",\\\\\"tagDisplayName\\\\\":\\\\\"유럽\\\\u003e세르비아몬테네그로\\\\\"},{\\\\\"code\\\\\":\\\\\"U380\\\\\",\\\\\"parentCode\\\\\":\\\\\"U000\\\\\",\\\\\"originName\\\\\":\\\\\"슬로바키아\\\\\",\\\\\"originCode\\\\\":\\\\\"EUSK0000000\\\\\",\\\\\"displayName\\\\\":\\\\\"슬로바키아\\\\\",\\\\\"items\\\\\":[],\\\\\"type\\\\\":\\\\\"area\\\\\",\\\\\"tagDisplayName\\\\\":\\\\\"유럽\\\\u003e슬로바키아\\\\\"},{\\\\\"code\\\\\":\\\\\"U390\\\\\",\\\\\"parentCode\\\\\":\\\\\"U000\\\\\",\\\\\"originName\\\\\":\\\\\"슬로베니아\\\\\",\\\\\"originCode\\\\\":\\\\\"EUSI0000000\\\\\",\\\\\"displayName\\\\\":\\\\\"슬로베니아\\\\\",\\\\\"items\\\\\":[],\\\\\"type\\\\\":\\\\\"area\\\\\",\\\\\"tagDisplayName\\\\\":\\\\\"유럽\\\\u003e슬로베니아\\\\\"},{\\\\\"code\\\\\":\\\\\"U400\\\\\",\\\\\"parentCode\\\\\":\\\\\"U000\\\\\",\\\\\"originName\\\\\":\\\\\"아르메니아\\\\\",\\\\\"originCode\\\\\":\\\\\"EUAM0000000\\\\\",\\\\\"displayName\\\\\":\\\\\"아르메니아\\\\\",\\\\\"items\\\\\":[],\\\\\"type\\\\\":\\\\\"area\\\\\",\\\\\"tagDisplayName\\\\\":\\\\\"유럽\\\\u003e아르메니아\\\\\"},{\\\\\"code\\\\\":\\\\\"U410\\\\\",\\\\\"parentCode\\\\\":\\\\\"U000\\\\\",\\\\\"originName\\\\\":\\\\\"아이슬란드\\\\\",\\\\\"originCode\\\\\":\\\\\"EUIS0000000\\\\\",\\\\\"displayName\\\\\":\\\\\"아이슬란드\\\\\",\\\\\"items\\\\\":[],\\\\\"type\\\\\":\\\\\"area\\\\\",\\\\\"tagDisplayName\\\\\":\\\\\"유럽\\\\u003e아이슬란드\\\\\"},{\\\\\"code\\\\\":\\\\\"U420\\\\\",\\\\\"parentCode\\\\\":\\\\\"U000\\\\\",\\\\\"originName\\\\\":\\\\\"아일랜드\\\\\",\\\\\"originCode\\\\\":\\\\\"EUIE0000000\\\\\",\\\\\"displayName\\\\\":\\\\\"아일랜드\\\\\",\\\\\"items\\\\\":[],\\\\\"type\\\\\":\\\\\"area\\\\\",\\\\\"tagDisplayName\\\\\":\\\\\"유럽\\\\u003e아일랜드\\\\\"},{\\\\\"code\\\\\":\\\\\"U430\\\\\",\\\\\"parentCode\\\\\":\\\\\"U000\\\\\",\\\\\"originName\\\\\":\\\\\"아제르바이잔\\\\\",\\\\\"originCode\\\\\":\\\\\"EUAZ0000000\\\\\",\\\\\"displayName\\\\\":\\\\\"아제르바이잔\\\\\",\\\\\"items\\\\\":[],\\\\\"type\\\\\":\\\\\"area\\\\\",\\\\\"tagDisplayName\\\\\":\\\\\"유럽\\\\u003e아제르바이잔\\\\\"},{\\\\\"code\\\\\":\\\\\"U440\\\\\",\\\\\"parentCode\\\\\":\\\\\"U000\\\\\",\\\\\"originName\\\\\":\\\\\"안도라\\\\\",\\\\\"originCode\\\\\":\\\\\"EUAD0000000\\\\\",\\\\\"displayName\\\\\":\\\\\"안도라\\\\\",\\\\\"items\\\\\":[],\\\\\"type\\\\\":\\\\\"area\\\\\",\\\\\"tagDisplayName\\\\\":\\\\\"유럽\\\\u003e안도라\\\\\"},{\\\\\"code\\\\\":\\\\\"U450\\\\\",\\\\\"parentCode\\\\\":\\\\\"U000\\\\\",\\\\\"originName\\\\\":\\\\\"알바니아\\\\\",\\\\\"originCode\\\\\":\\\\\"EUAL0000000\\\\\",\\\\\"displayName\\\\\":\\\\\"알바니아\\\\\",\\\\\"items\\\\\":[],\\\\\"type\\\\\":\\\\\"area\\\\\",\\\\\"tagDisplayName\\\\\":\\\\\"유럽\\\\u003e알바니아\\\\\"},{\\\\\"code\\\\\":\\\\\"U460\\\\\",\\\\\"parentCode\\\\\":\\\\\"U000\\\\\",\\\\\"originName\\\\\":\\\\\"에스토니아\\\\\",\\\\\"originCode\\\\\":\\\\\"EUEE0000000\\\\\",\\\\\"displayName\\\\\":\\\\\"에스토니아\\\\\",\\\\\"items\\\\\":[],\\\\\"type\\\\\":\\\\\"area\\\\\",\\\\\"tagDisplayName\\\\\":\\\\\"유럽\\\\u003e에스토니아\\\\\"},{\\\\\"code\\\\\":\\\\\"U470\\\\\",\\\\\"parentCode\\\\\":\\\\\"U000\\\\\",\\\\\"originName\\\\\":\\\\\"오스트리아\\\\\",\\\\\"originCode\\\\\":\\\\\"EUAT0000000\\\\\",\\\\\"displayName\\\\\":\\\\\"오스트리아\\\\\",\\\\\"items\\\\\":[],\\\\\"type\\\\\":\\\\\"area\\\\\",\\\\\"tagDisplayName\\\\\":\\\\\"유럽\\\\u003e오스트리아\\\\\"},{\\\\\"code\\\\\":\\\\\"U490\\\\\",\\\\\"parentCode\\\\\":\\\\\"U000\\\\\",\\\\\"originName\\\\\":\\\\\"우크라이나\\\\\",\\\\\"originCode\\\\\":\\\\\"EUUA0000000\\\\\",\\\\\"displayName\\\\\":\\\\\"우크라이나\\\\\",\\\\\"items\\\\\":[],\\\\\"type\\\\\":\\\\\"area\\\\\",\\\\\"tagDisplayName\\\\\":\\\\\"유럽\\\\u003e우크라이나\\\\\"},{\\\\\"code\\\\\":\\\\\"U510\\\\\",\\\\\"parentCode\\\\\":\\\\\"U000\\\\\",\\\\\"originName\\\\\":\\\\\"크로아티아\\\\\",\\\\\"originCode\\\\\":\\\\\"EUHR0000000\\\\\",\\\\\"displayName\\\\\":\\\\\"크로아티아\\\\\",\\\\\"items\\\\\":[],\\\\\"type\\\\\":\\\\\"area\\\\\",\\\\\"tagDisplayName\\\\\":\\\\\"유럽\\\\u003e크로아티아\\\\\"},{\\\\\"code\\\\\":\\\\\"U200\\\\\",\\\\\"parentCode\\\\\":\\\\\"U000\\\\\",\\\\\"originName\\\\\":\\\\\"기타\\\\\",\\\\\"originCode\\\\\":\\\\\"EUZY0000000\\\\\",\\\\\"displayName\\\\\":\\\\\"기타\\\\\",\\\\\"items\\\\\":[],\\\\\"type\\\\\":\\\\\"area\\\\\",\\\\\"tagDisplayName\\\\\":\\\\\"유럽\\\\u003e기타\\\\\"},{\\\\\"code\\\\\":\\\\\"V000\\\\\",\\\\\"parentCode\\\\\":\\\\\"\\\\\",\\\\\"originName\\\\\":\\\\\"오세아니아\\\\\",\\\\\"originCode\\\\\":\\\\\"OC000000000\\\\\",\\\\\"displayName\\\\\":\\\\\"오세아니아\\\\\",\\\\\"items\\\\\":[],\\\\\"type\\\\\":\\\\\"area\\\\\",\\\\\"tagDisplayName\\\\\":\\\\\"오세아니아\\\\\"},{\\\\\"code\\\\\":\\\\\"V000_\\\\\",\\\\\"parentCode\\\\\":\\\\\"V000\\\\\",\\\\\"originName\\\\\":\\\\\"오세아니아전지역\\\\\",\\\\\"originCode\\\\\":\\\\\"OCZZ0000000\\\\\",\\\\\"displayName\\\\\":\\\\\"전지역\\\\\",\\\\\"items\\\\\":[],\\\\\"type\\\\\":\\\\\"area\\\\\",\\\\\"tagDisplayName\\\\\":\\\\\"오세아니아\\\\u003e전지역\\\\\"},{\\\\\"code\\\\\":\\\\\"V010\\\\\",\\\\\"parentCode\\\\\":\\\\\"V000\\\\\",\\\\\"originName\\\\\":\\\\\"괌\\\\\",\\\\\"originCode\\\\\":\\\\\"OCGU0000000\\\\\",\\\\\"displayName\\\\\":\\\\\"괌\\\\\",\\\\\"items\\\\\":[],\\\\\"type\\\\\":\\\\\"area\\\\\",\\\\\"tagDisplayName\\\\\":\\\\\"오세아니아\\\\u003e괌\\\\\"},{\\\\\"code\\\\\":\\\\\"V020\\\\\",\\\\\"parentCode\\\\\":\\\\\"V000\\\\\",\\\\\"originName\\\\\":\\\\\"뉴질랜드\\\\\",\\\\\"originCode\\\\\":\\\\\"OCNZ0000000\\\\\",\\\\\"displayName\\\\\":\\\\\"뉴질랜드\\\\\",\\\\\"items\\\\\":[],\\\\\"type\\\\\":\\\\\"area\\\\\",\\\\\"tagDisplayName\\\\\":\\\\\"오세아니아\\\\u003e뉴질랜드\\\\\"},{\\\\\"code\\\\\":\\\\\"V030\\\\\",\\\\\"parentCode\\\\\":\\\\\"V000\\\\\",\\\\\"originName\\\\\":\\\\\"파푸아뉴기니\\\\\",\\\\\"originCode\\\\\":\\\\\"OCPG0000000\\\\\",\\\\\"displayName\\\\\":\\\\\"파푸아뉴기니\\\\\",\\\\\"items\\\\\":[],\\\\\"type\\\\\":\\\\\"area\\\\\",\\\\\"tagDisplayName\\\\\":\\\\\"오세아니아\\\\u003e파푸아뉴기니\\\\\"},{\\\\\"code\\\\\":\\\\\"V040\\\\\",\\\\\"parentCode\\\\\":\\\\\"V000\\\\\",\\\\\"originName\\\\\":\\\\\"피지\\\\\",\\\\\"originCode\\\\\":\\\\\"OCFJ0000000\\\\\",\\\\\"displayName\\\\\":\\\\\"피지\\\\\",\\\\\"items\\\\\":[],\\\\\"type\\\\\":\\\\\"area\\\\\",\\\\\"tagDisplayName\\\\\":\\\\\"오세아니아\\\\u003e피지\\\\\"},{\\\\\"code\\\\\":\\\\\"V050\\\\\",\\\\\"parentCode\\\\\":\\\\\"V000\\\\\",\\\\\"originName\\\\\":\\\\\"호주\\\\\",\\\\\"originCode\\\\\":\\\\\"OCAU0000000\\\\\",\\\\\"displayName\\\\\":\\\\\"호주\\\\\",\\\\\"items\\\\\":[],\\\\\"type\\\\\":\\\\\"area\\\\\",\\\\\"tagDisplayName\\\\\":\\\\\"오세아니아\\\\u003e호주\\\\\"},{\\\\\"code\\\\\":\\\\\"V070\\\\\",\\\\\"parentCode\\\\\":\\\\\"V000\\\\\",\\\\\"originName\\\\\":\\\\\"나우루공화국\\\\\",\\\\\"originCode\\\\\":\\\\\"OCNR0000000\\\\\",\\\\\"displayName\\\\\":\\\\\"나우루공화국\\\\\",\\\\\"items\\\\\":[],\\\\\"type\\\\\":\\\\\"area\\\\\",\\\\\"tagDisplayName\\\\\":\\\\\"오세아니아\\\\u003e나우루공화국\\\\\"},{\\\\\"code\\\\\":\\\\\"V080\\\\\",\\\\\"parentCode\\\\\":\\\\\"V000\\\\\",\\\\\"originName\\\\\":\\\\\"마셜\\\\\",\\\\\"originCode\\\\\":\\\\\"OCMH0000000\\\\\",\\\\\"displayName\\\\\":\\\\\"마셜\\\\\",\\\\\"items\\\\\":[],\\\\\"type\\\\\":\\\\\"area\\\\\",\\\\\"tagDisplayName\\\\\":\\\\\"오세아니아\\\\u003e마셜\\\\\"},{\\\\\"code\\\\\":\\\\\"V090\\\\\",\\\\\"parentCode\\\\\":\\\\\"V000\\\\\",\\\\\"originName\\\\\":\\\\\"미크로네시아\\\\\",\\\\\"originCode\\\\\":\\\\\"OCFM0000000\\\\\",\\\\\"displayName\\\\\":\\\\\"미크로네시아\\\\\",\\\\\"items\\\\\":[],\\\\\"type\\\\\":\\\\\"area\\\\\",\\\\\"tagDisplayName\\\\\":\\\\\"오세아니아\\\\u003e미크로네시아\\\\\"},{\\\\\"code\\\\\":\\\\\"V100\\\\\",\\\\\"parentCode\\\\\":\\\\\"V000\\\\\",\\\\\"originName\\\\\":\\\\\"바누아투\\\\\",\\\\\"originCode\\\\\":\\\\\"OCVU0000000\\\\\",\\\\\"displayName\\\\\":\\\\\"바누아투\\\\\",\\\\\"items\\\\\":[],\\\\\"type\\\\\":\\\\\"area\\\\\",\\\\\"tagDisplayName\\\\\":\\\\\"오세아니아\\\\u003e바누아투\\\\\"},{\\\\\"code\\\\\":\\\\\"V110\\\\\",\\\\\"parentCode\\\\\":\\\\\"V000\\\\\",\\\\\"originName\\\\\":\\\\\"사모아\\\\\",\\\\\"originCode\\\\\":\\\\\"OCWS0000000\\\\\",\\\\\"displayName\\\\\":\\\\\"사모아\\\\\",\\\\\"items\\\\\":[],\\\\\"type\\\\\":\\\\\"area\\\\\",\\\\\"tagDisplayName\\\\\":\\\\\"오세아니아\\\\u003e사모아\\\\\"},{\\\\\"code\\\\\":\\\\\"V120\\\\\",\\\\\"parentCode\\\\\":\\\\\"V000\\\\\",\\\\\"originName\\\\\":\\\\\"솔로몬제도\\\\\",\\\\\"originCode\\\\\":\\\\\"OCSB0000000\\\\\",\\\\\"displayName\\\\\":\\\\\"솔로몬제도\\\\\",\\\\\"items\\\\\":[],\\\\\"type\\\\\":\\\\\"area\\\\\",\\\\\"tagDisplayName\\\\\":\\\\\"오세아니아\\\\u003e솔로몬제도\\\\\"},{\\\\\"code\\\\\":\\\\\"V130\\\\\",\\\\\"parentCode\\\\\":\\\\\"V000\\\\\",\\\\\"originName\\\\\":\\\\\"키리바시\\\\\",\\\\\"originCode\\\\\":\\\\\"OCKI0000000\\\\\",\\\\\"displayName\\\\\":\\\\\"키리바시\\\\\",\\\\\"items\\\\\":[],\\\\\"type\\\\\":\\\\\"area\\\\\",\\\\\"tagDisplayName\\\\\":\\\\\"오세아니아\\\\u003e키리바시\\\\\"},{\\\\\"code\\\\\":\\\\\"V140\\\\\",\\\\\"parentCode\\\\\":\\\\\"V000\\\\\",\\\\\"originName\\\\\":\\\\\"통가\\\\\",\\\\\"originCode\\\\\":\\\\\"OCTO0000000\\\\\",\\\\\"displayName\\\\\":\\\\\"통가\\\\\",\\\\\"items\\\\\":[],\\\\\"type\\\\\":\\\\\"area\\\\\",\\\\\"tagDisplayName\\\\\":\\\\\"오세아니아\\\\u003e통가\\\\\"},{\\\\\"code\\\\\":\\\\\"V150\\\\\",\\\\\"parentCode\\\\\":\\\\\"V000\\\\\",\\\\\"originName\\\\\":\\\\\"투발루\\\\\",\\\\\"originCode\\\\\":\\\\\"OCTV0000000\\\\\",\\\\\"displayName\\\\\":\\\\\"투발루\\\\\",\\\\\"items\\\\\":[],\\\\\"type\\\\\":\\\\\"area\\\\\",\\\\\"tagDisplayName\\\\\":\\\\\"오세아니아\\\\u003e투발루\\\\\"},{\\\\\"code\\\\\":\\\\\"V160\\\\\",\\\\\"parentCode\\\\\":\\\\\"V000\\\\\",\\\\\"originName\\\\\":\\\\\"팔라우\\\\\",\\\\\"originCode\\\\\":\\\\\"OCPW0000000\\\\\",\\\\\"displayName\\\\\":\\\\\"팔라우\\\\\",\\\\\"items\\\\\":[],\\\\\"type\\\\\":\\\\\"area\\\\\",\\\\\"tagDisplayName\\\\\":\\\\\"오세아니아\\\\u003e팔라우\\\\\"},{\\\\\"code\\\\\":\\\\\"V060\\\\\",\\\\\"parentCode\\\\\":\\\\\"V000\\\\\",\\\\\"originName\\\\\":\\\\\"기타\\\\\",\\\\\"originCode\\\\\":\\\\\"OCZY0000000\\\\\",\\\\\"displayName\\\\\":\\\\\"기타\\\\\",\\\\\"items\\\\\":[],\\\\\"type\\\\\":\\\\\"area\\\\\",\\\\\"tagDisplayName\\\\\":\\\\\"오세아니아\\\\u003e기타\\\\\"},{\\\\\"code\\\\\":\\\\\"W000\\\\\",\\\\\"parentCode\\\\\":\\\\\"\\\\\",\\\\\"originName\\\\\":\\\\\"아프리카\\\\\",\\\\\"originCode\\\\\":\\\\\"AF000000000\\\\\",\\\\\"displayName\\\\\":\\\\\"아프리카\\\\\",\\\\\"items\\\\\":[],\\\\\"type\\\\\":\\\\\"area\\\\\",\\\\\"tagDisplayName\\\\\":\\\\\"아프리카\\\\\"},{\\\\\"code\\\\\":\\\\\"W000_\\\\\",\\\\\"parentCode\\\\\":\\\\\"W000\\\\\",\\\\\"originName\\\\\":\\\\\"아프리카 전지역\\\\\",\\\\\"originCode\\\\\":\\\\\"AFZZ0000000\\\\\",\\\\\"displayName\\\\\":\\\\\"전지역\\\\\",\\\\\"items\\\\\":[],\\\\\"type\\\\\":\\\\\"area\\\\\",\\\\\"tagDisplayName\\\\\":\\\\\"아프리카\\\\u003e전지역\\\\\"},{\\\\\"code\\\\\":\\\\\"W010\\\\\",\\\\\"parentCode\\\\\":\\\\\"W000\\\\\",\\\\\"originName\\\\\":\\\\\"가나\\\\\",\\\\\"originCode\\\\\":\\\\\"AFGH0000000\\\\\",\\\\\"displayName\\\\\":\\\\\"가나\\\\\",\\\\\"items\\\\\":[],\\\\\"type\\\\\":\\\\\"area\\\\\",\\\\\"tagDisplayName\\\\\":\\\\\"아프리카\\\\u003e가나\\\\\"},{\\\\\"code\\\\\":\\\\\"W020\\\\\",\\\\\"parentCode\\\\\":\\\\\"W000\\\\\",\\\\\"originName\\\\\":\\\\\"가봉\\\\\",\\\\\"originCode\\\\\":\\\\\"AFGA0000000\\\\\",\\\\\"displayName\\\\\":\\\\\"가봉\\\\\",\\\\\"items\\\\\":[],\\\\\"type\\\\\":\\\\\"area\\\\\",\\\\\"tagDisplayName\\\\\":\\\\\"아프리카\\\\u003e가봉\\\\\"},{\\\\\"code\\\\\":\\\\\"W030\\\\\",\\\\\"parentCode\\\\\":\\\\\"W000\\\\\",\\\\\"originName\\\\\":\\\\\"나이지리아\\\\\",\\\\\"originCode\\\\\":\\\\\"AFNG0000000\\\\\",\\\\\"displayName\\\\\":\\\\\"나이지리아\\\\\",\\\\\"items\\\\\":[],\\\\\"type\\\\\":\\\\\"area\\\\\",\\\\\"tagDisplayName\\\\\":\\\\\"아프리카\\\\u003e나이지리아\\\\\"},{\\\\\"code\\\\\":\\\\\"W040\\\\\",\\\\\"parentCode\\\\\":\\\\\"W000\\\\\",\\\\\"originName\\\\\":\\\\\"남아프리카공화국\\\\\",\\\\\"originCode\\\\\":\\\\\"AFZA0000000\\\\\",\\\\\"displayName\\\\\":\\\\\"남아프리카공화국\\\\\",\\\\\"items\\\\\":[],\\\\\"type\\\\\":\\\\\"area\\\\\",\\\\\"tagDisplayName\\\\\":\\\\\"아프리카\\\\u003e남아프리카공화국\\\\\"},{\\\\\"code\\\\\":\\\\\"W050\\\\\",\\\\\"parentCode\\\\\":\\\\\"W000\\\\\",\\\\\"originName\\\\\":\\\\\"리비아\\\\\",\\\\\"originCode\\\\\":\\\\\"AFLY0000000\\\\\",\\\\\"displayName\\\\\":\\\\\"리비아\\\\\",\\\\\"items\\\\\":[],\\\\\"type\\\\\":\\\\\"area\\\\\",\\\\\"tagDisplayName\\\\\":\\\\\"아프리카\\\\u003e리비아\\\\\"},{\\\\\"code\\\\\":\\\\\"W060\\\\\",\\\\\"parentCode\\\\\":\\\\\"W000\\\\\",\\\\\"originName\\\\\":\\\\\"모로코\\\\\",\\\\\"originCode\\\\\":\\\\\"AFMA0000000\\\\\",\\\\\"displayName\\\\\":\\\\\"모로코\\\\\",\\\\\"items\\\\\":[],\\\\\"type\\\\\":\\\\\"area\\\\\",\\\\\"tagDisplayName\\\\\":\\\\\"아프리카\\\\u003e모로코\\\\\"},{\\\\\"code\\\\\":\\\\\"W070\\\\\",\\\\\"parentCode\\\\\":\\\\\"W000\\\\\",\\\\\"originName\\\\\":\\\\\"수단\\\\\",\\\\\"originCode\\\\\":\\\\\"AFSD0000000\\\\\",\\\\\"displayName\\\\\":\\\\\"수단\\\\\",\\\\\"items\\\\\":[],\\\\\"type\\\\\":\\\\\"area\\\\\",\\\\\"tagDisplayName\\\\\":\\\\\"아프리카\\\\u003e수단\\\\\"},{\\\\\"code\\\\\":\\\\\"W080\\\\\",\\\\\"parentCode\\\\\":\\\\\"W000\\\\\",\\\\\"originName\\\\\":\\\\\"알제리\\\\\",\\\\\"originCode\\\\\":\\\\\"AFDZ0000000\\\\\",\\\\\"displayName\\\\\":\\\\\"알제리\\\\\",\\\\\"items\\\\\":[],\\\\\"type\\\\\":\\\\\"area\\\\\",\\\\\"tagDisplayName\\\\\":\\\\\"아프리카\\\\u003e알제리\\\\\"},{\\\\\"code\\\\\":\\\\\"W090\\\\\",\\\\\"parentCode\\\\\":\\\\\"W000\\\\\",\\\\\"originName\\\\\":\\\\\"에티오피아\\\\\",\\\\\"originCode\\\\\":\\\\\"AFET0000000\\\\\",\\\\\"displayName\\\\\":\\\\\"에티오피아\\\\\",\\\\\"items\\\\\":[],\\\\\"type\\\\\":\\\\\"area\\\\\",\\\\\"tagDisplayName\\\\\":\\\\\"아프리카\\\\u003e에티오피아\\\\\"},{\\\\\"code\\\\\":\\\\\"W100\\\\\",\\\\\"parentCode\\\\\":\\\\\"W000\\\\\",\\\\\"originName\\\\\":\\\\\"우간다\\\\\",\\\\\"originCode\\\\\":\\\\\"AFUG0000000\\\\\",\\\\\"displayName\\\\\":\\\\\"우간다\\\\\",\\\\\"items\\\\\":[],\\\\\"type\\\\\":\\\\\"area\\\\\",\\\\\"tagDisplayName\\\\\":\\\\\"아프리카\\\\u003e우간다\\\\\"},{\\\\\"code\\\\\":\\\\\"W110\\\\\",\\\\\"parentCode\\\\\":\\\\\"W000\\\\\",\\\\\"originName\\\\\":\\\\\"이집트\\\\\",\\\\\"originCode\\\\\":\\\\\"AFEG0000000\\\\\",\\\\\"displayName\\\\\":\\\\\"이집트\\\\\",\\\\\"items\\\\\":[],\\\\\"type\\\\\":\\\\\"area\\\\\",\\\\\"tagDisplayName\\\\\":\\\\\"아프리카\\\\u003e이집트\\\\\"},{\\\\\"code\\\\\":\\\\\"W120\\\\\",\\\\\"parentCode\\\\\":\\\\\"W000\\\\\",\\\\\"originName\\\\\":\\\\\"케냐\\\\\",\\\\\"originCode\\\\\":\\\\\"AFKE0000000\\\\\",\\\\\"displayName\\\\\":\\\\\"케냐\\\\\",\\\\\"items\\\\\":[],\\\\\"type\\\\\":\\\\\"area\\\\\",\\\\\"tagDisplayName\\\\\":\\\\\"아프리카\\\\u003e케냐\\\\\"},{\\\\\"code\\\\\":\\\\\"W130\\\\\",\\\\\"parentCode\\\\\":\\\\\"W000\\\\\",\\\\\"originName\\\\\":\\\\\"탄자니아\\\\\",\\\\\"originCode\\\\\":\\\\\"AFTZ0000000\\\\\",\\\\\"displayName\\\\\":\\\\\"탄자니아\\\\\",\\\\\"items\\\\\":[],\\\\\"type\\\\\":\\\\\"area\\\\\",\\\\\"tagDisplayName\\\\\":\\\\\"아프리카\\\\u003e탄자니아\\\\\"},{\\\\\"code\\\\\":\\\\\"W140\\\\\",\\\\\"parentCode\\\\\":\\\\\"W000\\\\\",\\\\\"originName\\\\\":\\\\\"튀니지\\\\\",\\\\\"originCode\\\\\":\\\\\"AFTN0000000\\\\\",\\\\\"displayName\\\\\":\\\\\"튀니지\\\\\",\\\\\"items\\\\\":[],\\\\\"type\\\\\":\\\\\"area\\\\\",\\\\\"tagDisplayName\\\\\":\\\\\"아프리카\\\\u003e튀니지\\\\\"},{\\\\\"code\\\\\":\\\\\"W160\\\\\",\\\\\"parentCode\\\\\":\\\\\"W000\\\\\",\\\\\"originName\\\\\":\\\\\"감비아\\\\\",\\\\\"originCode\\\\\":\\\\\"AFGM0000000\\\\\",\\\\\"displayName\\\\\":\\\\\"감비아\\\\\",\\\\\"items\\\\\":[],\\\\\"type\\\\\":\\\\\"area\\\\\",\\\\\"tagDisplayName\\\\\":\\\\\"아프리카\\\\u003e감비아\\\\\"},{\\\\\"code\\\\\":\\\\\"W170\\\\\",\\\\\"parentCode\\\\\":\\\\\"W000\\\\\",\\\\\"originName\\\\\":\\\\\"기니\\\\\",\\\\\"originCode\\\\\":\\\\\"AFGN0000000\\\\\",\\\\\"displayName\\\\\":\\\\\"기니\\\\\",\\\\\"items\\\\\":[],\\\\\"type\\\\\":\\\\\"area\\\\\",\\\\\"tagDisplayName\\\\\":\\\\\"아프리카\\\\u003e기니\\\\\"},{\\\\\"code\\\\\":\\\\\"W180\\\\\",\\\\\"parentCode\\\\\":\\\\\"W000\\\\\",\\\\\"originName\\\\\":\\\\\"기니비사우\\\\\",\\\\\"originCode\\\\\":\\\\\"AFGW0000000\\\\\",\\\\\"displayName\\\\\":\\\\\"기니비사우\\\\\",\\\\\"items\\\\\":[],\\\\\"type\\\\\":\\\\\"area\\\\\",\\\\\"tagDisplayName\\\\\":\\\\\"아프리카\\\\u003e기니비사우\\\\\"},{\\\\\"code\\\\\":\\\\\"W190\\\\\",\\\\\"parentCode\\\\\":\\\\\"W000\\\\\",\\\\\"originName\\\\\":\\\\\"나미비아\\\\\",\\\\\"originCode\\\\\":\\\\\"AFNA0000000\\\\\",\\\\\"displayName\\\\\":\\\\\"나미비아\\\\\",\\\\\"items\\\\\":[],\\\\\"type\\\\\":\\\\\"area\\\\\",\\\\\"tagDisplayName\\\\\":\\\\\"아프리카\\\\u003e나미비아\\\\\"},{\\\\\"code\\\\\":\\\\\"W200\\\\\",\\\\\"parentCode\\\\\":\\\\\"W000\\\\\",\\\\\"originName\\\\\":\\\\\"니제르\\\\\",\\\\\"originCode\\\\\":\\\\\"AFNE0000000\\\\\",\\\\\"displayName\\\\\":\\\\\"니제르\\\\\",\\\\\"items\\\\\":[],\\\\\"type\\\\\":\\\\\"area\\\\\",\\\\\"tagDisplayName\\\\\":\\\\\"아프리카\\\\u003e니제르\\\\\"},{\\\\\"code\\\\\":\\\\\"W210\\\\\",\\\\\"parentCode\\\\\":\\\\\"W000\\\\\",\\\\\"originName\\\\\":\\\\\"라이베리아\\\\\",\\\\\"originCode\\\\\":\\\\\"AFLR0000000\\\\\",\\\\\"displayName\\\\\":\\\\\"라이베리아\\\\\",\\\\\"items\\\\\":[],\\\\\"type\\\\\":\\\\\"area\\\\\",\\\\\"tagDisplayName\\\\\":\\\\\"아프리카\\\\u003e라이베리아\\\\\"},{\\\\\"code\\\\\":\\\\\"W220\\\\\",\\\\\"parentCode\\\\\":\\\\\"W000\\\\\",\\\\\"originName\\\\\":\\\\\"레소토\\\\\",\\\\\"originCode\\\\\":\\\\\"AFLS0000000\\\\\",\\\\\"displayName\\\\\":\\\\\"레소토\\\\\",\\\\\"items\\\\\":[],\\\\\"type\\\\\":\\\\\"area\\\\\",\\\\\"tagDisplayName\\\\\":\\\\\"아프리카\\\\u003e레소토\\\\\"},{\\\\\"code\\\\\":\\\\\"W230\\\\\",\\\\\"parentCode\\\\\":\\\\\"W000\\\\\",\\\\\"originName\\\\\":\\\\\"르완다\\\\\",\\\\\"originCode\\\\\":\\\\\"AFRW0000000\\\\\",\\\\\"displayName\\\\\":\\\\\"르완다\\\\\",\\\\\"items\\\\\":[],\\\\\"type\\\\\":\\\\\"area\\\\\",\\\\\"tagDisplayName\\\\\":\\\\\"아프리카\\\\u003e르완다\\\\\"},{\\\\\"code\\\\\":\\\\\"W240\\\\\",\\\\\"parentCode\\\\\":\\\\\"W000\\\\\",\\\\\"originName\\\\\":\\\\\"마다가스카르\\\\\",\\\\\"originCode\\\\\":\\\\\"AFMG0000000\\\\\",\\\\\"displayName\\\\\":\\\\\"마다가스카르\\\\\",\\\\\"items\\\\\":[],\\\\\"type\\\\\":\\\\\"area\\\\\",\\\\\"tagDisplayName\\\\\":\\\\\"아프리카\\\\u003e마다가스카르\\\\\"},{\\\\\"code\\\\\":\\\\\"W250\\\\\",\\\\\"parentCode\\\\\":\\\\\"W000\\\\\",\\\\\"originName\\\\\":\\\\\"말라위\\\\\",\\\\\"originCode\\\\\":\\\\\"AFMW0000000\\\\\",\\\\\"displayName\\\\\":\\\\\"말라위\\\\\",\\\\\"items\\\\\":[],\\\\\"type\\\\\":\\\\\"area\\\\\",\\\\\"tagDisplayName\\\\\":\\\\\"아프리카\\\\u003e말라위\\\\\"},{\\\\\"code\\\\\":\\\\\"W260\\\\\",\\\\\"parentCode\\\\\":\\\\\"W000\\\\\",\\\\\"originName\\\\\":\\\\\"말리\\\\\",\\\\\"originCode\\\\\":\\\\\"AFML0000000\\\\\",\\\\\"displayName\\\\\":\\\\\"말리\\\\\",\\\\\"items\\\\\":[],\\\\\"type\\\\\":\\\\\"area\\\\\",\\\\\"tagDisplayName\\\\\":\\\\\"아프리카\\\\u003e말리\\\\\"},{\\\\\"code\\\\\":\\\\\"W270\\\\\",\\\\\"parentCode\\\\\":\\\\\"W000\\\\\",\\\\\"originName\\\\\":\\\\\"모리셔스\\\\\",\\\\\"originCode\\\\\":\\\\\"AFMU0000000\\\\\",\\\\\"displayName\\\\\":\\\\\"모리셔스\\\\\",\\\\\"items\\\\\":[],\\\\\"type\\\\\":\\\\\"area\\\\\",\\\\\"tagDisplayName\\\\\":\\\\\"아프리카\\\\u003e모리셔스\\\\\"},{\\\\\"code\\\\\":\\\\\"W280\\\\\",\\\\\"parentCode\\\\\":\\\\\"W000\\\\\",\\\\\"originName\\\\\":\\\\\"모리타니아\\\\\",\\\\\"originCode\\\\\":\\\\\"AFMR0000000\\\\\",\\\\\"displayName\\\\\":\\\\\"모리타니아\\\\\",\\\\\"items\\\\\":[],\\\\\"type\\\\\":\\\\\"area\\\\\",\\\\\"tagDisplayName\\\\\":\\\\\"아프리카\\\\u003e모리타니아\\\\\"},{\\\\\"code\\\\\":\\\\\"W290\\\\\",\\\\\"parentCode\\\\\":\\\\\"W000\\\\\",\\\\\"originName\\\\\":\\\\\"모잠비크\\\\\",\\\\\"originCode\\\\\":\\\\\"AFMZ0000000\\\\\",\\\\\"displayName\\\\\":\\\\\"모잠비크\\\\\",\\\\\"items\\\\\":[],\\\\\"type\\\\\":\\\\\"area\\\\\",\\\\\"tagDisplayName\\\\\":\\\\\"아프리카\\\\u003e모잠비크\\\\\"},{\\\\\"code\\\\\":\\\\\"W300\\\\\",\\\\\"parentCode\\\\\":\\\\\"W000\\\\\",\\\\\"originName\\\\\":\\\\\"베냉\\\\\",\\\\\"originCode\\\\\":\\\\\"AFBJ0000000\\\\\",\\\\\"displayName\\\\\":\\\\\"베냉\\\\\",\\\\\"items\\\\\":[],\\\\\"type\\\\\":\\\\\"area\\\\\",\\\\\"tagDisplayName\\\\\":\\\\\"아프리카\\\\u003e베냉\\\\\"},{\\\\\"code\\\\\":\\\\\"W310\\\\\",\\\\\"parentCode\\\\\":\\\\\"W000\\\\\",\\\\\"originName\\\\\":\\\\\"보츠와나\\\\\",\\\\\"originCode\\\\\":\\\\\"AFBW0000000\\\\\",\\\\\"displayName\\\\\":\\\\\"보츠와나\\\\\",\\\\\"items\\\\\":[],\\\\\"type\\\\\":\\\\\"area\\\\\",\\\\\"tagDisplayName\\\\\":\\\\\"아프리카\\\\u003e보츠와나\\\\\"},{\\\\\"code\\\\\":\\\\\"W320\\\\\",\\\\\"parentCode\\\\\":\\\\\"W000\\\\\",\\\\\"originName\\\\\":\\\\\"부룬디\\\\\",\\\\\"originCode\\\\\":\\\\\"AFBI0000000\\\\\",\\\\\"displayName\\\\\":\\\\\"부룬디\\\\\",\\\\\"items\\\\\":[],\\\\\"type\\\\\":\\\\\"area\\\\\",\\\\\"tagDisplayName\\\\\":\\\\\"아프리카\\\\u003e부룬디\\\\\"},{\\\\\"code\\\\\":\\\\\"W330\\\\\",\\\\\"parentCode\\\\\":\\\\\"W000\\\\\",\\\\\"originName\\\\\":\\\\\"부르키나파소\\\\\",\\\\\"originCode\\\\\":\\\\\"AFBF0000000\\\\\",\\\\\"displayName\\\\\":\\\\\"부르키나파소\\\\\",\\\\\"items\\\\\":[],\\\\\"type\\\\\":\\\\\"area\\\\\",\\\\\"tagDisplayName\\\\\":\\\\\"아프리카\\\\u003e부르키나파소\\\\\"},{\\\\\"code\\\\\":\\\\\"W340\\\\\",\\\\\"parentCode\\\\\":\\\\\"W000\\\\\",\\\\\"originName\\\\\":\\\\\"상투메프린시페\\\\\",\\\\\"originCode\\\\\":\\\\\"AFST0000000\\\\\",\\\\\"displayName\\\\\":\\\\\"상투메프린시페\\\\\",\\\\\"items\\\\\":[],\\\\\"type\\\\\":\\\\\"area\\\\\",\\\\\"tagDisplayName\\\\\":\\\\\"아프리카\\\\u003e상투메프린시페\\\\\"},{\\\\\"code\\\\\":\\\\\"W350\\\\\",\\\\\"parentCode\\\\\":\\\\\"W000\\\\\",\\\\\"originName\\\\\":\\\\\"세네갈\\\\\",\\\\\"originCode\\\\\":\\\\\"AFSN0000000\\\\\",\\\\\"displayName\\\\\":\\\\\"세네갈\\\\\",\\\\\"items\\\\\":[],\\\\\"type\\\\\":\\\\\"area\\\\\",\\\\\"tagDisplayName\\\\\":\\\\\"아프리카\\\\u003e세네갈\\\\\"},{\\\\\"code\\\\\":\\\\\"W360\\\\\",\\\\\"parentCode\\\\\":\\\\\"W000\\\\\",\\\\\"originName\\\\\":\\\\\"세이셸\\\\\",\\\\\"originCode\\\\\":\\\\\"AFSC0000000\\\\\",\\\\\"displayName\\\\\":\\\\\"세이셸\\\\\",\\\\\"items\\\\\":[],\\\\\"type\\\\\":\\\\\"area\\\\\",\\\\\"tagDisplayName\\\\\":\\\\\"아프리카\\\\u003e세이셸\\\\\"},{\\\\\"code\\\\\":\\\\\"W370\\\\\",\\\\\"parentCode\\\\\":\\\\\"W000\\\\\",\\\\\"originName\\\\\":\\\\\"소말리아\\\\\",\\\\\"originCode\\\\\":\\\\\"AFSO0000000\\\\\",\\\\\"displayName\\\\\":\\\\\"소말리아\\\\\",\\\\\"items\\\\\":[],\\\\\"type\\\\\":\\\\\"area\\\\\",\\\\\"tagDisplayName\\\\\":\\\\\"아프리카\\\\u003e소말리아\\\\\"},{\\\\\"code\\\\\":\\\\\"W380\\\\\",\\\\\"parentCode\\\\\":\\\\\"W000\\\\\",\\\\\"originName\\\\\":\\\\\"스와질란드\\\\\",\\\\\"originCode\\\\\":\\\\\"AFSZ0000000\\\\\",\\\\\"displayName\\\\\":\\\\\"스와질란드\\\\\",\\\\\"items\\\\\":[],\\\\\"type\\\\\":\\\\\"area\\\\\",\\\\\"tagDisplayName\\\\\":\\\\\"아프리카\\\\u003e스와질란드\\\\\"},{\\\\\"code\\\\\":\\\\\"W390\\\\\",\\\\\"parentCode\\\\\":\\\\\"W000\\\\\",\\\\\"originName\\\\\":\\\\\"시에라리온\\\\\",\\\\\"originCode\\\\\":\\\\\"AFSL0000000\\\\\",\\\\\"displayName\\\\\":\\\\\"시에라리온\\\\\",\\\\\"items\\\\\":[],\\\\\"type\\\\\":\\\\\"area\\\\\",\\\\\"tagDisplayName\\\\\":\\\\\"아프리카\\\\u003e시에라리온\\\\\"},{\\\\\"code\\\\\":\\\\\"W400\\\\\",\\\\\"parentCode\\\\\":\\\\\"W000\\\\\",\\\\\"originName\\\\\":\\\\\"앙골라\\\\\",\\\\\"originCode\\\\\":\\\\\"AFAO0000000\\\\\",\\\\\"displayName\\\\\":\\\\\"앙골라\\\\\",\\\\\"items\\\\\":[],\\\\\"type\\\\\":\\\\\"area\\\\\",\\\\\"tagDisplayName\\\\\":\\\\\"아프리카\\\\u003e앙골라\\\\\"},{\\\\\"code\\\\\":\\\\\"W410\\\\\",\\\\\"parentCode\\\\\":\\\\\"W000\\\\\",\\\\\"originName\\\\\":\\\\\"에리트레아\\\\\",\\\\\"originCode\\\\\":\\\\\"AFER0000000\\\\\",\\\\\"displayName\\\\\":\\\\\"에리트레아\\\\\",\\\\\"items\\\\\":[],\\\\\"type\\\\\":\\\\\"area\\\\\",\\\\\"tagDisplayName\\\\\":\\\\\"아프리카\\\\u003e에리트레아\\\\\"},{\\\\\"code\\\\\":\\\\\"W420\\\\\",\\\\\"parentCode\\\\\":\\\\\"W000\\\\\",\\\\\"originName\\\\\":\\\\\"잠비아\\\\\",\\\\\"originCode\\\\\":\\\\\"AFZM0000000\\\\\",\\\\\"displayName\\\\\":\\\\\"잠비아\\\\\",\\\\\"items\\\\\":[],\\\\\"type\\\\\":\\\\\"area\\\\\",\\\\\"tagDisplayName\\\\\":\\\\\"아프리카\\\\u003e잠비아\\\\\"},{\\\\\"code\\\\\":\\\\\"W430\\\\\",\\\\\"parentCode\\\\\":\\\\\"W000\\\\\",\\\\\"originName\\\\\":\\\\\"적도기니\\\\\",\\\\\"originCode\\\\\":\\\\\"AFGQ0000000\\\\\",\\\\\"displayName\\\\\":\\\\\"적도기니\\\\\",\\\\\"items\\\\\":[],\\\\\"type\\\\\":\\\\\"area\\\\\",\\\\\"tagDisplayName\\\\\":\\\\\"아프리카\\\\u003e적도기니\\\\\"},{\\\\\"code\\\\\":\\\\\"W440\\\\\",\\\\\"parentCode\\\\\":\\\\\"W000\\\\\",\\\\\"originName\\\\\":\\\\\"중앙아프리카공화국\\\\\",\\\\\"originCode\\\\\":\\\\\"AFCF0000000\\\\\",\\\\\"displayName\\\\\":\\\\\"중앙아프리카공화국\\\\\",\\\\\"items\\\\\":[],\\\\\"type\\\\\":\\\\\"area\\\\\",\\\\\"tagDisplayName\\\\\":\\\\\"아프리카\\\\u003e중앙아프리카공화국\\\\\"},{\\\\\"code\\\\\":\\\\\"W450\\\\\",\\\\\"parentCode\\\\\":\\\\\"W000\\\\\",\\\\\"originName\\\\\":\\\\\"지부티\\\\\",\\\\\"originCode\\\\\":\\\\\"AFDJ0000000\\\\\",\\\\\"displayName\\\\\":\\\\\"지부티\\\\\",\\\\\"items\\\\\":[],\\\\\"type\\\\\":\\\\\"area\\\\\",\\\\\"tagDisplayName\\\\\":\\\\\"아프리카\\\\u003e지부티\\\\\"},{\\\\\"code\\\\\":\\\\\"W460\\\\\",\\\\\"parentCode\\\\\":\\\\\"W000\\\\\",\\\\\"originName\\\\\":\\\\\"짐바브웨\\\\\",\\\\\"originCode\\\\\":\\\\\"AFZW0000000\\\\\",\\\\\"displayName\\\\\":\\\\\"짐바브웨\\\\\",\\\\\"items\\\\\":[],\\\\\"type\\\\\":\\\\\"area\\\\\",\\\\\"tagDisplayName\\\\\":\\\\\"아프리카\\\\u003e짐바브웨\\\\\"},{\\\\\"code\\\\\":\\\\\"W470\\\\\",\\\\\"parentCode\\\\\":\\\\\"W000\\\\\",\\\\\"originName\\\\\":\\\\\"차드\\\\\",\\\\\"originCode\\\\\":\\\\\"AFTD0000000\\\\\",\\\\\"displayName\\\\\":\\\\\"차드\\\\\",\\\\\"items\\\\\":[],\\\\\"type\\\\\":\\\\\"area\\\\\",\\\\\"tagDisplayName\\\\\":\\\\\"아프리카\\\\u003e차드\\\\\"},{\\\\\"code\\\\\":\\\\\"W480\\\\\",\\\\\"parentCode\\\\\":\\\\\"W000\\\\\",\\\\\"originName\\\\\":\\\\\"카메룬\\\\\",\\\\\"originCode\\\\\":\\\\\"AFCM0000000\\\\\",\\\\\"displayName\\\\\":\\\\\"카메룬\\\\\",\\\\\"items\\\\\":[],\\\\\"type\\\\\":\\\\\"area\\\\\",\\\\\"tagDisplayName\\\\\":\\\\\"아프리카\\\\u003e카메룬\\\\\"},{\\\\\"code\\\\\":\\\\\"W490\\\\\",\\\\\"parentCode\\\\\":\\\\\"W000\\\\\",\\\\\"originName\\\\\":\\\\\"카보베르데\\\\\",\\\\\"originCode\\\\\":\\\\\"AFCV0000000\\\\\",\\\\\"displayName\\\\\":\\\\\"카보베르데\\\\\",\\\\\"items\\\\\":[],\\\\\"type\\\\\":\\\\\"area\\\\\",\\\\\"tagDisplayName\\\\\":\\\\\"아프리카\\\\u003e카보베르데\\\\\"},{\\\\\"code\\\\\":\\\\\"W500\\\\\",\\\\\"parentCode\\\\\":\\\\\"W000\\\\\",\\\\\"originName\\\\\":\\\\\"코모로\\\\\",\\\\\"originCode\\\\\":\\\\\"AFKM0000000\\\\\",\\\\\"displayName\\\\\":\\\\\"코모로\\\\\",\\\\\"items\\\\\":[],\\\\\"type\\\\\":\\\\\"area\\\\\",\\\\\"tagDisplayName\\\\\":\\\\\"아프리카\\\\u003e코모로\\\\\"},{\\\\\"code\\\\\":\\\\\"W510\\\\\",\\\\\"parentCode\\\\\":\\\\\"W000\\\\\",\\\\\"originName\\\\\":\\\\\"코트디부아르\\\\\",\\\\\"originCode\\\\\":\\\\\"AFCI0000000\\\\\",\\\\\"displayName\\\\\":\\\\\"코트디부아르\\\\\",\\\\\"items\\\\\":[],\\\\\"type\\\\\":\\\\\"area\\\\\",\\\\\"tagDisplayName\\\\\":\\\\\"아프리카\\\\u003e코트디부아르\\\\\"},{\\\\\"code\\\\\":\\\\\"W520\\\\\",\\\\\"parentCode\\\\\":\\\\\"W000\\\\\",\\\\\"originName\\\\\":\\\\\"콩고\\\\\",\\\\\"originCode\\\\\":\\\\\"AFCG0000000\\\\\",\\\\\"displayName\\\\\":\\\\\"콩고\\\\\",\\\\\"items\\\\\":[],\\\\\"type\\\\\":\\\\\"area\\\\\",\\\\\"tagDisplayName\\\\\":\\\\\"아프리카\\\\u003e콩고\\\\\"},{\\\\\"code\\\\\":\\\\\"W530\\\\\",\\\\\"parentCode\\\\\":\\\\\"W000\\\\\",\\\\\"originName\\\\\":\\\\\"콩고민주공화국\\\\\",\\\\\"originCode\\\\\":\\\\\"AFCD0000000\\\\\",\\\\\"displayName\\\\\":\\\\\"콩고민주공화국\\\\\",\\\\\"items\\\\\":[],\\\\\"type\\\\\":\\\\\"area\\\\\",\\\\\"tagDisplayName\\\\\":\\\\\"아프리카\\\\u003e콩고민주공화국\\\\\"},{\\\\\"code\\\\\":\\\\\"W540\\\\\",\\\\\"parentCode\\\\\":\\\\\"W000\\\\\",\\\\\"originName\\\\\":\\\\\"토고\\\\\",\\\\\"originCode\\\\\":\\\\\"AFTG0000000\\\\\",\\\\\"displayName\\\\\":\\\\\"토고\\\\\",\\\\\"items\\\\\":[],\\\\\"type\\\\\":\\\\\"area\\\\\",\\\\\"tagDisplayName\\\\\":\\\\\"아프리카\\\\u003e토고\\\\\"},{\\\\\"code\\\\\":\\\\\"W150\\\\\",\\\\\"parentCode\\\\\":\\\\\"W000\\\\\",\\\\\"originName\\\\\":\\\\\"기타\\\\\",\\\\\"originCode\\\\\":\\\\\"AFZY0000000\\\\\",\\\\\"displayName\\\\\":\\\\\"기타\\\\\",\\\\\"items\\\\\":[],\\\\\"type\\\\\":\\\\\"area\\\\\",\\\\\"tagDisplayName\\\\\":\\\\\"아프리카\\\\u003e기타\\\\\"}],\\\\\"career\\\\\":[{\\\\\"code\\\\\":\\\\\"1\\\\\",\\\\\"displayName\\\\\":\\\\\"신입\\\\\",\\\\\"parentCode\\\\\":\\\\\"\\\\\",\\\\\"originCode\\\\\":\\\\\"NEWBIE\\\\\",\\\\\"originName\\\\\":\\\\\"신입\\\\\",\\\\\"items\\\\\":[],\\\\\"type\\\\\":\\\\\"career\\\\\",\\\\\"tagDisplayName\\\\\":\\\\\"\\\\\"},{\\\\\"code\\\\\":\\\\\"2\\\\\",\\\\\"displayName\\\\\":\\\\\"경력\\\\\",\\\\\"originName\\\\\":\\\\\"경력\\\\\",\\\\\"originCode\\\\\":\\\\\"EXPERIENCED\\\\\",\\\\\"parentCode\\\\\":\\\\\"\\\\\",\\\\\"items\\\\\":[],\\\\\"type\\\\\":\\\\\"career\\\\\",\\\\\"tagDisplayName\\\\\":\\\\\"\\\\\"},{\\\\\"code\\\\\":\\\\\"4\\\\\",\\\\\"displayName\\\\\":\\\\\"경력무관\\\\\",\\\\\"originName\\\\\":\\\\\"경력무관\\\\\",\\\\\"originCode\\\\\":\\\\\"ANY\\\\\",\\\\\"parentCode\\\\\":\\\\\"\\\\\",\\\\\"items\\\\\":[],\\\\\"type\\\\\":\\\\\"career\\\\\",\\\\\"tagDisplayName\\\\\":\\\\\"\\\\\"}],\\\\\"corporate\\\\\":[{\\\\\"code\\\\\":\\\\\"1\\\\\",\\\\\"displayName\\\\\":\\\\\"대기업\\\\\",\\\\\"parentCode\\\\\":\\\\\"\\\\\",\\\\\"originCode\\\\\":\\\\\"MAJOR\\\\\",\\\\\"originName\\\\\":\\\\\"대기업\\\\\",\\\\\"items\\\\\":[],\\\\\"type\\\\\":\\\\\"corporate\\\\\",\\\\\"tagDisplayName\\\\\":\\\\\"\\\\\"},{\\\\\"code\\\\\":\\\\\"2\\\\\",\\\\\"displayName\\\\\":\\\\\"30대그룹사\\\\\",\\\\\"parentCode\\\\\":\\\\\"\\\\\",\\\\\"originCode\\\\\":\\\\\"GROUP_30\\\\\",\\\\\"originName\\\\\":\\\\\"30대그룹사\\\\\",\\\\\"items\\\\\":[],\\\\\"type\\\\\":\\\\\"corporate\\\\\",\\\\\"tagDisplayName\\\\\":\\\\\"\\\\\"},{\\\\\"code\\\\\":\\\\\"3\\\\\",\\\\\"displayName\\\\\":\\\\\"매출1000대기업\\\\\",\\\\\"parentCode\\\\\":\\\\\"\\\\\",\\\\\"originCode\\\\\":\\\\\"TOP_1000\\\\\",\\\\\"originName\\\\\":\\\\\"매출1000대기업\\\\\",\\\\\"items\\\\\":[],\\\\\"type\\\\\":\\\\\"corporate\\\\\",\\\\\"tagDisplayName\\\\\":\\\\\"\\\\\"},{\\\\\"code\\\\\":\\\\\"4\\\\\",\\\\\"displayName\\\\\":\\\\\"중견기업\\\\\",\\\\\"parentCode\\\\\":\\\\\"\\\\\",\\\\\"originCode\\\\\":\\\\\"MEDIUM\\\\\",\\\\\"originName\\\\\":\\\\\"중견기업\\\\\",\\\\\"items\\\\\":[],\\\\\"type\\\\\":\\\\\"corporate\\\\\",\\\\\"tagDisplayName\\\\\":\\\\\"\\\\\"},{\\\\\"code\\\\\":\\\\\"5\\\\\",\\\\\"displayName\\\\\":\\\\\"강소기업\\\\\",\\\\\"parentCode\\\\\":\\\\\"\\\\\",\\\\\"originCode\\\\\":\\\\\"SMALL_HIDDEN_CHAMPION\\\\\",\\\\\"originName\\\\\":\\\\\"강소기업\\\\\",\\\\\"items\\\\\":[],\\\\\"type\\\\\":\\\\\"corporate\\\\\",\\\\\"tagDisplayName\\\\\":\\\\\"\\\\\"},{\\\\\"code\\\\\":\\\\\"6\\\\\",\\\\\"displayName\\\\\":\\\\\"외국계기업\\\\\",\\\\\"parentCode\\\\\":\\\\\"\\\\\",\\\\\"originCode\\\\\":\\\\\"FOREIGN\\\\\",\\\\\"originName\\\\\":\\\\\"외국계기업\\\\\",\\\\\"items\\\\\":[],\\\\\"type\\\\\":\\\\\"corporate\\\\\",\\\\\"tagDisplayName\\\\\":\\\\\"\\\\\"},{\\\\\"code\\\\\":\\\\\"15\\\\\",\\\\\"displayName\\\\\":\\\\\"중소기업\\\\\",\\\\\"parentCode\\\\\":\\\\\"\\\\\",\\\\\"originCode\\\\\":\\\\\"MEDIUM_SAMLL\\\\\",\\\\\"originName\\\\\":\\\\\"중소기업\\\\\",\\\\\"items\\\\\":[],\\\\\"type\\\\\":\\\\\"corporate\\\\\",\\\\\"tagDisplayName\\\\\":\\\\\"\\\\\"},{\\\\\"code\\\\\":\\\\\"7\\\\\",\\\\\"displayName\\\\\":\\\\\"벤처기업\\\\\",\\\\\"parentCode\\\\\":\\\\\"\\\\\",\\\\\"originCode\\\\\":\\\\\"VENTURE\\\\\",\\\\\"originName\\\\\":\\\\\"벤처기업\\\\\",\\\\\"items\\\\\":[],\\\\\"type\\\\\":\\\\\"corporate\\\\\",\\\\\"tagDisplayName\\\\\":\\\\\"\\\\\"},{\\\\\"code\\\\\":\\\\\"8\\\\\",\\\\\"displayName\\\\\":\\\\\"공공기관·공기업\\\\\",\\\\\"parentCode\\\\\":\\\\\"\\\\\",\\\\\"originCode\\\\\":\\\\\"PUBLIC\\\\\",\\\\\"originName\\\\\":\\\\\"공공기관·공기업\\\\\",\\\\\"items\\\\\":[],\\\\\"type\\\\\":\\\\\"corporate\\\\\",\\\\\"tagDisplayName\\\\\":\\\\\"\\\\\"},{\\\\\"code\\\\\":\\\\\"9\\\\\",\\\\\"displayName\\\\\":\\\\\"비영리단체·협회재단\\\\\",\\\\\"parentCode\\\\\":\\\\\"\\\\\",\\\\\"originCode\\\\\":\\\\\"NON_PROFIT\\\\\",\\\\\"originName\\\\\":\\\\\"비영리단체·협회재단\\\\\",\\\\\"items\\\\\":[],\\\\\"type\\\\\":\\\\\"corporate\\\\\",\\\\\"tagDisplayName\\\\\":\\\\\"\\\\\"},{\\\\\"code\\\\\":\\\\\"10\\\\\",\\\\\"displayName\\\\\":\\\\\"외국기관·단체\\\\\",\\\\\"parentCode\\\\\":\\\\\"\\\\\",\\\\\"originCode\\\\\":\\\\\"FOREIGN_ORG\\\\\",\\\\\"originName\\\\\":\\\\\"외국기관·단체\\\\\",\\\\\"items\\\\\":[],\\\\\"type\\\\\":\\\\\"corporate\\\\\",\\\\\"tagDisplayName\\\\\":\\\\\"\\\\\"},{\\\\\"code\\\\\":\\\\\"11\\\\\",\\\\\"displayName\\\\\":\\\\\"코스피상장\\\\\",\\\\\"parentCode\\\\\":\\\\\"\\\\\",\\\\\"originCode\\\\\":\\\\\"KOSPI\\\\\",\\\\\"originName\\\\\":\\\\\"코스피상장\\\\\",\\\\\"items\\\\\":[],\\\\\"type\\\\\":\\\\\"corporate\\\\\",\\\\\"tagDisplayName\\\\\":\\\\\"\\\\\"},{\\\\\"code\\\\\":\\\\\"12\\\\\",\\\\\"displayName\\\\\":\\\\\"코스닥상장\\\\\",\\\\\"parentCode\\\\\":\\\\\"\\\\\",\\\\\"originCode\\\\\":\\\\\"KOSDAQ\\\\\",\\\\\"originName\\\\\":\\\\\"코스닥상장\\\\\",\\\\\"items\\\\\":[],\\\\\"type\\\\\":\\\\\"corporate\\\\\",\\\\\"tagDisplayName\\\\\":\\\\\"\\\\\"},{\\\\\"code\\\\\":\\\\\"13\\\\\",\\\\\"displayName\\\\\":\\\\\"코넥스상장\\\\\",\\\\\"parentCode\\\\\":\\\\\"\\\\\",\\\\\"originCode\\\\\":\\\\\"KONEX\\\\\",\\\\\"originName\\\\\":\\\\\"코넥스상장\\\\\",\\\\\"items\\\\\":[],\\\\\"type\\\\\":\\\\\"corporate\\\\\",\\\\\"tagDisplayName\\\\\":\\\\\"\\\\\"},{\\\\\"code\\\\\":\\\\\"14\\\\\",\\\\\"displayName\\\\\":\\\\\"해외상장\\\\\",\\\\\"parentCode\\\\\":\\\\\"\\\\\",\\\\\"originCode\\\\\":\\\\\"OVERSEAS\\\\\",\\\\\"originName\\\\\":\\\\\"해외상장\\\\\",\\\\\"items\\\\\":[],\\\\\"type\\\\\":\\\\\"corporate\\\\\",\\\\\"tagDisplayName\\\\\":\\\\\"\\\\\"}],\\\\\"employment\\\\\":[{\\\\\"code\\\\\":\\\\\"1\\\\\",\\\\\"displayName\\\\\":\\\\\"정규직\\\\\",\\\\\"parentCode\\\\\":\\\\\"\\\\\",\\\\\"originCode\\\\\":\\\\\"PERMANENT\\\\\",\\\\\"originName\\\\\":\\\\\"정규직\\\\\",\\\\\"items\\\\\":[],\\\\\"type\\\\\":\\\\\"employment\\\\\",\\\\\"tagDisplayName\\\\\":\\\\\"\\\\\"},{\\\\\"code\\\\\":\\\\\"2\\\\\",\\\\\"displayName\\\\\":\\\\\"계약직\\\\\",\\\\\"parentCode\\\\\":\\\\\"\\\\\",\\\\\"originCode\\\\\":\\\\\"CONTRACT\\\\\",\\\\\"originName\\\\\":\\\\\"계약직\\\\\",\\\\\"items\\\\\":[],\\\\\"type\\\\\":\\\\\"employment\\\\\",\\\\\"tagDisplayName\\\\\":\\\\\"\\\\\"},{\\\\\"code\\\\\":\\\\\"3\\\\\",\\\\\"displayName\\\\\":\\\\\"인턴\\\\\",\\\\\"parentCode\\\\\":\\\\\"\\\\\",\\\\\"originCode\\\\\":\\\\\"INTERN\\\\\",\\\\\"originName\\\\\":\\\\\"인턴\\\\\",\\\\\"items\\\\\":[],\\\\\"type\\\\\":\\\\\"employment\\\\\",\\\\\"tagDisplayName\\\\\":\\\\\"\\\\\"},{\\\\\"code\\\\\":\\\\\"4\\\\\",\\\\\"displayName\\\\\":\\\\\"파견직\\\\\",\\\\\"parentCode\\\\\":\\\\\"\\\\\",\\\\\"originCode\\\\\":\\\\\"DISPATCH\\\\\",\\\\\"originName\\\\\":\\\\\"파견직\\\\\",\\\\\"items\\\\\":[],\\\\\"type\\\\\":\\\\\"employment\\\\\",\\\\\"tagDisplayName\\\\\":\\\\\"\\\\\"},{\\\\\"code\\\\\":\\\\\"5\\\\\",\\\\\"displayName\\\\\":\\\\\"도급\\\\\",\\\\\"parentCode\\\\\":\\\\\"\\\\\",\\\\\"originCode\\\\\":\\\\\"SUBCONTRACT\\\\\",\\\\\"originName\\\\\":\\\\\"도급\\\\\",\\\\\"items\\\\\":[],\\\\\"type\\\\\":\\\\\"employment\\\\\",\\\\\"tagDisplayName\\\\\":\\\\\"\\\\\"},{\\\\\"code\\\\\":\\\\\"6\\\\\",\\\\\"displayName\\\\\":\\\\\"프리랜서\\\\\",\\\\\"parentCode\\\\\":\\\\\"\\\\\",\\\\\"originCode\\\\\":\\\\\"FREELANCER\\\\\",\\\\\"originName\\\\\":\\\\\"프리랜서\\\\\",\\\\\"items\\\\\":[],\\\\\"type\\\\\":\\\\\"employment\\\\\",\\\\\"tagDisplayName\\\\\":\\\\\"\\\\\"},{\\\\\"code\\\\\":\\\\\"7\\\\\",\\\\\"displayName\\\\\":\\\\\"아르바이트\\\\\",\\\\\"parentCode\\\\\":\\\\\"\\\\\",\\\\\"originCode\\\\\":\\\\\"PART_TIME\\\\\",\\\\\"originName\\\\\":\\\\\"아르바이트\\\\\",\\\\\"items\\\\\":[],\\\\\"type\\\\\":\\\\\"employment\\\\\",\\\\\"tagDisplayName\\\\\":\\\\\"\\\\\"},{\\\\\"code\\\\\":\\\\\"8\\\\\",\\\\\"displayName\\\\\":\\\\\"연수생/교육생\\\\\",\\\\\"parentCode\\\\\":\\\\\"\\\\\",\\\\\"originCode\\\\\":\\\\\"TRAINEE\\\\\",\\\\\"originName\\\\\":\\\\\"연수생/교육생\\\\\",\\\\\"items\\\\\":[],\\\\\"type\\\\\":\\\\\"employment\\\\\",\\\\\"tagDisplayName\\\\\":\\\\\"\\\\\"},{\\\\\"code\\\\\":\\\\\"9\\\\\",\\\\\"displayName\\\\\":\\\\\"병역특례\\\\\",\\\\\"parentCode\\\\\":\\\\\"\\\\\",\\\\\"originCode\\\\\":\\\\\"MILITARY\\\\\",\\\\\"originName\\\\\":\\\\\"병역특례\\\\\",\\\\\"items\\\\\":[],\\\\\"type\\\\\":\\\\\"employment\\\\\",\\\\\"tagDisplayName\\\\\":\\\\\"\\\\\"},{\\\\\"code\\\\\":\\\\\"10\\\\\",\\\\\"displayName\\\\\":\\\\\"위촉직/개인사업자\\\\\",\\\\\"parentCode\\\\\":\\\\\"\\\\\",\\\\\"originCode\\\\\":\\\\\"COMMISSION\\\\\",\\\\\"originName\\\\\":\\\\\"위촉직/개인사업자\\\\\",\\\\\"items\\\\\":[],\\\\\"type\\\\\":\\\\\"employment\\\\\",\\\\\"tagDisplayName\\\\\":\\\\\"\\\\\"}],\\\\\"filter\\\\\":[{\\\\\"code\\\\\":\\\\\"1\\\\\",\\\\\"displayName\\\\\":\\\\\"확인한 공고 제외\\\\\",\\\\\"parentCode\\\\\":\\\\\"\\\\\",\\\\\"originCode\\\\\":\\\\\"EXCLUDE_CONFIRMED\\\\\",\\\\\"originName\\\\\":\\\\\"확인한 공고 제외\\\\\",\\\\\"items\\\\\":[],\\\\\"type\\\\\":\\\\\"filter\\\\\",\\\\\"tagDisplayName\\\\\":\\\\\"확인한 공고 제외\\\\\"},{\\\\\"code\\\\\":\\\\\"2\\\\\",\\\\\"displayName\\\\\":\\\\\"즉시지원\\\\\",\\\\\"parentCode\\\\\":\\\\\"\\\\\",\\\\\"originCode\\\\\":\\\\\"CONFIRM\\\\\",\\\\\"originName\\\\\":\\\\\"즉시지원만 보기\\\\\",\\\\\"items\\\\\":[],\\\\\"type\\\\\":\\\\\"filter\\\\\",\\\\\"tagDisplayName\\\\\":\\\\\"즉시지원\\\\\"},{\\\\\"code\\\\\":\\\\\"3\\\\\",\\\\\"displayName\\\\\":\\\\\"지원한 공고 제외\\\\\",\\\\\"parentCode\\\\\":\\\\\"\\\\\",\\\\\"originCode\\\\\":\\\\\"EXCLUDE_APPLIED\\\\\",\\\\\"originName\\\\\":\\\\\"지원한 공고 제외\\\\\",\\\\\"items\\\\\":[],\\\\\"type\\\\\":\\\\\"filter\\\\\",\\\\\"tagDisplayName\\\\\":\\\\\"지원한 공고 제외\\\\\"},{\\\\\"code\\\\\":\\\\\"4\\\\\",\\\\\"displayName\\\\\":\\\\\"헤드헌팅 공고\\\\\",\\\\\"parentCode\\\\\":\\\\\"\\\\\",\\\\\"originCode\\\\\":\\\\\"ONLY_HEADHUNTING\\\\\",\\\\\"originName\\\\\":\\\\\"헤드헌팅 공고만 보기\\\\\",\\\\\"items\\\\\":[],\\\\\"type\\\\\":\\\\\"filter\\\\\",\\\\\"tagDisplayName\\\\\":\\\\\"헤드헌팅 공고\\\\\"}],\\\\\"pay\\\\\":[{\\\\\"code\\\\\":\\\\\"1\\\\\",\\\\\"displayName\\\\\":\\\\\"연봉\\\\\",\\\\\"parentCode\\\\\":\\\\\"\\\\\",\\\\\"originCode\\\\\":\\\\\"SALARY\\\\\",\\\\\"originName\\\\\":\\\\\"연봉\\\\\",\\\\\"items\\\\\":[],\\\\\"type\\\\\":\\\\\"pay\\\\\",\\\\\"tagDisplayName\\\\\":\\\\\"\\\\\"},{\\\\\"code\\\\\":\\\\\"2\\\\\",\\\\\"displayName\\\\\":\\\\\"월급\\\\\",\\\\\"parentCode\\\\\":\\\\\"\\\\\",\\\\\"originCode\\\\\":\\\\\"MONTHLY\\\\\",\\\\\"originName\\\\\":\\\\\"월급\\\\\",\\\\\"items\\\\\":[],\\\\\"type\\\\\":\\\\\"pay\\\\\",\\\\\"tagDisplayName\\\\\":\\\\\"\\\\\"},{\\\\\"code\\\\\":\\\\\"3\\\\\",\\\\\"displayName\\\\\":\\\\\"주급\\\\\",\\\\\"parentCode\\\\\":\\\\\"\\\\\",\\\\\"originCode\\\\\":\\\\\"WEEKLY\\\\\",\\\\\"originName\\\\\":\\\\\"주급\\\\\",\\\\\"items\\\\\":[],\\\\\"type\\\\\":\\\\\"pay\\\\\",\\\\\"tagDisplayName\\\\\":\\\\\"\\\\\"},{\\\\\"code\\\\\":\\\\\"4\\\\\",\\\\\"displayName\\\\\":\\\\\"일급\\\\\",\\\\\"parentCode\\\\\":\\\\\"\\\\\",\\\\\"originCode\\\\\":\\\\\"DAILY\\\\\",\\\\\"originName\\\\\":\\\\\"일급\\\\\",\\\\\"items\\\\\":[],\\\\\"type\\\\\":\\\\\"pay\\\\\",\\\\\"tagDisplayName\\\\\":\\\\\"\\\\\"},{\\\\\"code\\\\\":\\\\\"5\\\\\",\\\\\"displayName\\\\\":\\\\\"시급\\\\\",\\\\\"parentCode\\\\\":\\\\\"\\\\\",\\\\\"originCode\\\\\":\\\\\"HOURLY\\\\\",\\\\\"originName\\\\\":\\\\\"시급\\\\\",\\\\\"items\\\\\":[],\\\\\"type\\\\\":\\\\\"pay\\\\\",\\\\\"tagDisplayName\\\\\":\\\\\"\\\\\"},{\\\\\"code\\\\\":\\\\\"6\\\\\",\\\\\"displayName\\\\\":\\\\\"건별\\\\\",\\\\\"parentCode\\\\\":\\\\\"\\\\\",\\\\\"originCode\\\\\":\\\\\"BY_CASE\\\\\",\\\\\"originName\\\\\":\\\\\"건별\\\\\",\\\\\"items\\\\\":[],\\\\\"type\\\\\":\\\\\"pay\\\\\",\\\\\"tagDisplayName\\\\\":\\\\\"\\\\\"}],\\\\\"period\\\\\":[{\\\\\"code\\\\\":\\\\\"1\\\\\",\\\\\"displayName\\\\\":\\\\\"전체\\\\\",\\\\\"parentCode\\\\\":\\\\\"\\\\\",\\\\\"originCode\\\\\":\\\\\"ALL\\\\\",\\\\\"originName\\\\\":\\\\\"전체\\\\\",\\\\\"items\\\\\":[],\\\\\"type\\\\\":\\\\\"period\\\\\",\\\\\"tagDisplayName\\\\\":\\\\\"\\\\\"},{\\\\\"code\\\\\":\\\\\"2\\\\\",\\\\\"displayName\\\\\":\\\\\"오늘\\\\\",\\\\\"parentCode\\\\\":\\\\\"\\\\\",\\\\\"originCode\\\\\":\\\\\"TODAY\\\\\",\\\\\"originName\\\\\":\\\\\"오늘\\\\\",\\\\\"items\\\\\":[],\\\\\"type\\\\\":\\\\\"period\\\\\",\\\\\"tagDisplayName\\\\\":\\\\\"오늘\\\\\"},{\\\\\"code\\\\\":\\\\\"3\\\\\",\\\\\"displayName\\\\\":\\\\\"최근3일\\\\\",\\\\\"parentCode\\\\\":\\\\\"\\\\\",\\\\\"originCode\\\\\":\\\\\"LAST_THREE_DAY\\\\\",\\\\\"originName\\\\\":\\\\\"최근3일\\\\\",\\\\\"items\\\\\":[],\\\\\"type\\\\\":\\\\\"period\\\\\",\\\\\"tagDisplayName\\\\\":\\\\\"최근3일\\\\\"},{\\\\\"code\\\\\":\\\\\"4\\\\\",\\\\\"displayName\\\\\":\\\\\"최근1주일\\\\\",\\\\\"parentCode\\\\\":\\\\\"\\\\\",\\\\\"originCode\\\\\":\\\\\"LAST_ONE_WEEK\\\\\",\\\\\"originName\\\\\":\\\\\"최근1주일\\\\\",\\\\\"items\\\\\":[],\\\\\"type\\\\\":\\\\\"period\\\\\",\\\\\"tagDisplayName\\\\\":\\\\\"최근1주일\\\\\"},{\\\\\"code\\\\\":\\\\\"5\\\\\",\\\\\"displayName\\\\\":\\\\\"최근1개월\\\\\",\\\\\"parentCode\\\\\":\\\\\"\\\\\",\\\\\"originCode\\\\\":\\\\\"LAST_ONE_MONTH\\\\\",\\\\\"originName\\\\\":\\\\\"최근1개월\\\\\",\\\\\"items\\\\\":[],\\\\\"type\\\\\":\\\\\"period\\\\\",\\\\\"tagDisplayName\\\\\":\\\\\"최근1개월\\\\\"}]},\\\\\"dataUpdateCount\\\\\":1,\\\\\"dataUpdatedAt\\\\\":1761192218694,\\\\\"error\\\\\":null,\\\\\"errorUpdateCount\\\\\":0,\\\\\"errorUpdatedAt\\\\\":0,\\\\\"fetchFailureCount\\\\\":0,\\\\\"fetchFailureReason\\\\\":null,\\\\\"fetchMeta\\\\\":null,\\\\\"isInvalidated\\\\\":false,\\\\\"status\\\\\":\\\\\"success\\\\\",\\\\\"fetchStatus\\\\\":\\\\\"idle\\\\\"},\\\\\"queryKey\\\\\":[\\\\\"CODES\\\\\"],\\\\\"queryHash\\\\\":\\\\\"[\\\\\\\\\\\\\"CODES\\\\\\\\\\\\\"]\\\\\"}]},\\\\\"data-sentry-element\\\\\":\\\\\"HydrationBoundary\\\\\",\\\\\"data-sentry-component\\\\\":\\\\\"Hydration\\\\\",\\\\\"data-sentry-source-file\\\\\":\\\\\"index.tsx\\\\\",\\\\\"children\\\\\":[\\\\\"$\\\\\",\\\\\"$L32\\\\\",null,{\\\\\"jkat\\\\\":\\\\\"$undefined\\\\\",\\\\\"jkrt\\\\\":\\\\\"$undefined\\\\\",\\\\\"data-sentry-element\\\\\":\\\\\"TokenUpdateProvider\\\\\",\\\\\"data-sentry-source-file\\\\\":\\\\\"index.tsx\\\\\",\\\\\"children\\\\\":[\\\\\"$\\\\\",\\\\\"$L33\\\\\",null,{\\\\\"data-sentry-element\\\\\":\\\\\"SearchParamsProvider\\\\\",\\\\\"data-sentry-source-file\\\\\":\\\\\"layout.tsx\\\\\",\\\\\"children\\\\\":[\\\\\"$\\\\\",\\\\\"$L34\\\\\",null,{\\\\\"data-sentry-element\\\\\":\\\\\"TabProvider\\\\\",\\\\\"data-sentry-source-file\\\\\":\\\\\"layout.tsx\\\\\",\\\\\"children\\\\\":[\\\\\"$\\\\\",\\\\\"$L35\\\\\",null,{\\\\\"autoComplete\\\\\":[\\\\\"$\\\\\",\\\\\"$L4\\\\\",null,{\\\\\"parallelRouterKey\\\\\":\\\\\"autoComplete\\\\\",\\\\\"error\\\\\":\\\\\"$undefined\\\\\",\\\\\"errorStyles\\\\\":\\\\\"$undefined\\\\\",\\\\\"errorScripts\\\\\":\\\\\"$undefined\\\\\",\\\\\"template\\\\\":[\\\\\"$\\\\\",\\\\\"$L5\\\\\",null,{}],\\\\\"templateStyles\\\\\":\\\\\"$undefined\\\\\",\\\\\"templateScripts\\\\\":\\\\\"$undefined\\\\\",\\\\\"notFound\\\\\":\\\\\"$undefined\\\\\",\\\\\"forbidden\\\\\":\\\\\"$undefined\\\\\",\\\\\"unauthorized\\\\\":\\\\\"$undefined\\\\\"}],\\\\\"filter\\\\\":[\\\\\"$\\\\\",\\\\\"$L4\\\\\",null,{\\\\\"parallelRouterKey\\\\\":\\\\\"filter\\\\\",\\\\\"error\\\\\":\\\\\"$undefined\\\\\",\\\\\"errorStyles\\\\\":\\\\\"$undefined\\\\\",\\\\\"errorScripts\\\\\":\\\\\"$undefined\\\\\",\\\\\"template\\\\\":[\\\\\"$\\\\\",\\\\\"$L5\\\\\",null,{}],\\\\\"templateStyles\\\\\":\\\\\"$undefined\\\\\",\\\\\"templateScripts\\\\\":\\\\\"$undefined\\\\\",\\\\\"notFound\\\\\":\\\\\"$undefined\\\\\",\\\\\"forbidden\\\\\":\\\\\"$undefined\\\\\",\\\\\"unauthorized\\\\\":\\\\\"$undefined\\\\\"}],\\\\\"keywordBanner\\\\\":[\\\\\"$\\\\\",\\\\\"$L4\\\\\",null,{\\\\\"parallelRouterKey\\\\\":\\\\\"keywordBanner\\\\\",\\\\\"error\\\\\":\\\\\"$undefined\\\\\",\\\\\"errorStyles\\\\\":\\\\\"$undefined\\\\\",\\\\\"errorScripts\\\\\":\\\\\"$undefined\\\\\",\\\\\"template\\\\\":[\\\\\"$\\\\\",\\\\\"$L5\\\\\",null,{}],\\\\\"templateStyles\\\\\":\\\\\"$undefined\\\\\",\\\\\"templateScripts\\\\\":\\\\\"$undefined\\\\\",\\\\\"notFound\\\\\":\\\\\"$undefined\\\\\",\\\\\"forbidden\\\\\":\\\\\"$undefined\\\\\",\\\\\"unauthorized\\\\\":\\\\\"$undefined\\\\\"}],\\\\\"mySearch\\\\\":[\\\\\"$\\\\\",\\\\\"$L4\\\\\",null,{\\\\\"parallelRouterKey\\\\\":\\\\\"mySearch\\\\\",\\\\\"error\\\\\":\\\\\"$undefined\\\\\",\\\\\"errorStyles\\\\\":\\\\\"$undefined\\\\\",\\\\\"errorScripts\\\\\":\\\\\"$undefined\\\\\",\\\\\"template\\\\\":[\\\\\"$\\\\\",\\\\\"$L5\\\\\",null,{}],\\\\\"templateStyles\\\\\":\\\\\"$undefined\\\\\",\\\\\"templateScripts\\\\\":\\\\\"$undefined\\\\\",\\\\\"notFound\\\\\":\\\\\"$undefined\\\\\",\\\\\"forbidden\\\\\":\\\\\"$undefined\\\\\",\\\\\"unauthorized\\\\\":\\\\\"$undefined\\\\\"}],\\\\\"popularList\\\\\":[\\\\\"$\\\\\",\\\\\"$L4\\\\\",null,{\\\\\"parallelRouterKey\\\\\":\\\\\"popularList\\\\\",\\\\\"error\\\\\":\\\\\"$undefined\\\\\",\\\\\"errorStyles\\\\\":\\\\\"$undefined\\\\\",\\\\\"errorScripts\\\\\":\\\\\"$undefined\\\\\",\\\\\"template\\\\\":[\\\\\"$\\\\\",\\\\\"$L5\\\\\",null,{}],\\\\\"templateStyles\\\\\":\\\\\"$undefined\\\\\",\\\\\"templateScripts\\\\\":\\\\\"$undefined\\\\\",\\\\\"notFound\\\\\":\\\\\"$undefined\\\\\",\\\\\"forbidden\\\\\":\\\\\"$undefined\\\\\",\\\\\"unauthorized\\\\\":\\\\\"$undefined\\\\\"}],\\\\\"quickMenu\\\\\":[\\\\\"$\\\\\",\\\\\"$L4\\\\\",null,{\\\\\"parallelRouterKey\\\\\":\\\\\"quickMenu\\\\\",\\\\\"error\\\\\":\\\\\"$undefined\\\\\",\\\\\"errorStyles\\\\\":\\\\\"$undefined\\\\\",\\\\\"errorScripts\\\\\":\\\\\"$undefined\\\\\",\\\\\"template\\\\\":[\\\\\"$\\\\\",\\\\\"$L5\\\\\",null,{}],\\\\\"templateStyles\\\\\":\\\\\"$undefined\\\\\",\\\\\"templateScripts\\\\\":\\\\\"$undefined\\\\\",\\\\\"notFound\\\\\":\\\\\"$undefined\\\\\",\\\\\"forbidden\\\\\":\\\\\"$undefined\\\\\",\\\\\"unauthorized\\\\\":\\\\\"$undefined\\\\\"}],\\\\\"data-sentry-element\\\\\":\\\\\"DefaultLayout\\\\\",\\\\\"data-sentry-source-file\\\\\":\\\\\"layout.tsx\\\\\",\\\\\"children\\\\\":[\\\\\"$\\\\\",\\\\\"$L4\\\\\",null,{\\\\\"parallelRouterKey\\\\\":\\\\\"children\\\\\",\\\\\"error\\\\\":\\\\\"$undefined\\\\\",\\\\\"errorStyles\\\\\":\\\\\"$undefined\\\\\",\\\\\"errorScripts\\\\\":\\\\\"$undefined\\\\\",\\\\\"template\\\\\":[\\\\\"$\\\\\",\\\\\"$L5\\\\\",null,{}],\\\\\"templateStyles\\\\\":\\\\\"$undefined\\\\\",\\\\\"templateScripts\\\\\":\\\\\"$undefined\\\\\",\\\\\"notFound\\\\\":\\\\\"$undefined\\\\\",\\\\\"forbidden\\\\\":\\\\\"$undefined\\\\\",\\\\\"unauthorized\\\\\":\\\\\"$undefined\\\\\"}]}]}]}]}]}]\\\\n\"])</script><script>self.__next_f.push([1,\"13:[\\\\\"$\\\\\",\\\\\"$L31\\\\\",null,{\\\\\"state\\\\\":{\\\\\"mutations\\\\\":[],\\\\\"queries\\\\\":[{\\\\\"dehydratedAt\\\\\":1761192218723,\\\\\"state\\\\\":{\\\\\"data\\\\\":{\\\\\"content\\\\\":[{\\\\\"order\\\\\":1,\\\\\"keyword\\\\\":\\\\\"사무\\\\\"},{\\\\\"order\\\\\":2,\\\\\"keyword\\\\\":\\\\\"영업관리\\\\\"},{\\\\\"order\\\\\":3,\\\\\"keyword\\\\\":\\\\\"회계\\\\\"},{\\\\\"order\\\\\":4,\\\\\"keyword\\\\\":\\\\\"디자인\\\\\"},{\\\\\"order\\\\\":5,\\\\\"keyword\\\\\":\\\\\"마케팅\\\\\"},{\\\\\"order\\\\\":6,\\\\\"keyword\\\\\":\\\\\"java\\\\\"},{\\\\\"order\\\\\":7,\\\\\"keyword\\\\\":\\\\\"영업지원\\\\\"},{\\\\\"order\\\\\":8,\\\\\"keyword\\\\\":\\\\\"안전관리자\\\\\"},{\\\\\"order\\\\\":9,\\\\\"keyword\\\\\":\\\\\"총무\\\\\"},{\\\\\"order\\\\\":10,\\\\\"keyword\\\\\":\\\\\"전기기사\\\\\"}]},\\\\\"dataUpdateCount\\\\\":1,\\\\\"dataUpdatedAt\\\\\":1761192218722,\\\\\"error\\\\\":null,\\\\\"errorUpdateCount\\\\\":0,\\\\\"errorUpdatedAt\\\\\":0,\\\\\"fetchFailureCount\\\\\":0,\\\\\"fetchFailureReason\\\\\":null,\\\\\"fetchMeta\\\\\":null,\\\\\"isInvalidated\\\\\":false,\\\\\"status\\\\\":\\\\\"success\\\\\",\\\\\"fetchStatus\\\\\":\\\\\"idle\\\\\"},\\\\\"queryKey\\\\\":[\\\\\"POPULAR_LIST\\\\\"],\\\\\"queryHash\\\\\":\\\\\"[\\\\\\\\\\\\\"POPULAR_LIST\\\\\\\\\\\\\"]\\\\\"}]},\\\\\"data-sentry-element\\\\\":\\\\\"HydrationBoundary\\\\\",\\\\\"data-sentry-component\\\\\":\\\\\"PopularList\\\\\",\\\\\"data-sentry-source-file\\\\\":\\\\\"page.tsx\\\\\",\\\\\"children\\\\\":[\\\\\"$\\\\\",\\\\\"$L36\\\\\",null,{\\\\\"data-sentry-element\\\\\":\\\\\"Popular\\\\\",\\\\\"data-sentry-source-file\\\\\":\\\\\"page.tsx\\\\\"}]}]\\\\n\"])</script><script>self.__next_f.push([1,\"37:I[28800,[\\\\\"9687\\\\\",\\\\\"static/chunks/9687-97741b7e8053c0d8.js\\\\\",\\\\\"9190\\\\\",\\\\\"static/chunks/9190-6f8022e2f2894042.js\\\\\",\\\\\"3957\\\\\",\\\\\"static/chunks/3957-b8d310888e9915c6.js\\\\\",\\\\\"7304\\\\\",\\\\\"static/chunks/7304-a24ea9b1ab76090e.js\\\\\",\\\\\"5849\\\\\",\\\\\"static/chunks/5849-11654964af4623e7.js\\\\\",\\\\\"2054\\\\\",\\\\\"static/chunks/2054-4bbfe28b77f704be.js\\\\\",\\\\\"6768\\\\\",\\\\\"static/chunks/6768-2d893325a1130269.js\\\\\",\\\\\"1860\\\\\",\\\\\"static/chunks/1860-401ad57e11df8e75.js\\\\\",\\\\\"7716\\\\\",\\\\\"static/chunks/7716-e89daaa5e83533f1.js\\\\\",\\\\\"1260\\\\\",\\\\\"static/chunks/1260-498a2e8e6218b41f.js\\\\\",\\\\\"773\\\\\",\\\\\"static/chunks/773-5951fff8e76120c6.js\\\\\",\\\\\"2773\\\\\",\\\\\"static/chunks/2773-af22dfd0a858e606.js\\\\\",\\\\\"1444\\\\\",\\\\\"static/chunks/1444-f22663a449629f69.js\\\\\",\\\\\"1035\\\\\",\\\\\"static/chunks/1035-f83c44f8912df683.js\\\\\",\\\\\"870\\\\\",\\\\\"static/chunks/870-a745c1813d874972.js\\\\\",\\\\\"8340\\\\\",\\\\\"static/chunks/8340-f468737cebbeaa23.js\\\\\",\\\\\"4335\\\\\",\\\\\"static/chunks/app/Search/page-58ba16635c459222.js\\\\\"],\\\\\"Flex\\\\\"]\\\\n38:I[33023,[\\\\\"9687\\\\\",\\\\\"static/chunks/9687-97741b7e8053c0d8.js\\\\\",\\\\\"9190\\\\\",\\\\\"static/chunks/9190-6f8022e2f2894042.js\\\\\",\\\\\"3957\\\\\",\\\\\"static/chunks/3957-b8d310888e9915c6.js\\\\\",\\\\\"7304\\\\\",\\\\\"static/chunks/7304-a24ea9b1ab76090e.js\\\\\",\\\\\"5849\\\\\",\\\\\"static/chunks/5849-11654964af4623e7.js\\\\\",\\\\\"1860\\\\\",\\\\\"static/chunks/1860-401ad57e11df8e75.js\\\\\",\\\\\"7716\\\\\",\\\\\"static/chunks/7716-e89daaa5e83533f1.js\\\\\",\\\\\"9338\\\\\",\\\\\"static/chunks/9338-37d82827a592addc.js\\\\\",\\\\\"870\\\\\",\\\\\"static/chunks/870-a745c1813d874972.js\\\\\",\\\\\"4164\\\\\",\\\\\"static/chunks/app/Search/%40quickMenu/page-d3cfa46bb7ffde20.js\\\\\"],\\\\\"default\\\\\"]\\\\n39:I[86769,[\\\\\"9687\\\\\",\\\\\"static/chunks/9687-97741b7e8053c0d8.js\\\\\",\\\\\"9190\\\\\",\\\\\"static/chunks/9190-6f8022e2f2894042.js\\\\\",\\\\\"3957\\\\\",\\\\\"static/chunks/3957-b8d310888e9915c6.js\\\\\",\\\\\"7304\\\\\",\\\\\"static/chunks/7304-a24ea9b1ab76090e.js\\\\\",\\\\\"5849\\\\\",\\\\\"static/chunks/5849-11654964af4623e7.js\\\\\",\\\\\"1860\\\\\",\\\\\"static/chunks/1860-401ad57e11df8e75.js\\\\\",\\\\\"7716\\\\\",\\\\\"static/chunks/7716-e89daaa5e83533f1.js\\\\\",\\\\\"9338\\\\\",\\\\\"static/chunks/9338-37d82827a592addc.js\\\\\",\\\\\"870\\\\\",\\\\\"static/chunks/870-a745c1813d874972.js\\\\\",\\\\\"4164\\\\\",\\\\\"static/chunks/app/Search/%40quickMenu/page-d3cfa46bb7ffde20.js\\\\\"],\\\\\"Shadow\\\\\"]\\\\n3a:I[18368,[\\\\\"9687\\\\\",\\\\\"static/chunks/9687-97741b7e8053c0d8.js\\\\\",\\\\\"9190\\\\\",\\\\\"static/chunks/9190-6f8022e2f2894042.js\\\\\",\\\\\"3957\\\\\",\\\\\"static/chunks/3957-b8d310888e9915c6.j\"])</script><script>self.__next_f.push([1,\"s\\\\\",\\\\\"7304\\\\\",\\\\\"static/chunks/7304-a24ea9b1ab76090e.js\\\\\",\\\\\"5849\\\\\",\\\\\"static/chunks/5849-11654964af4623e7.js\\\\\",\\\\\"1860\\\\\",\\\\\"static/chunks/1860-401ad57e11df8e75.js\\\\\",\\\\\"7716\\\\\",\\\\\"static/chunks/7716-e89daaa5e83533f1.js\\\\\",\\\\\"9338\\\\\",\\\\\"static/chunks/9338-37d82827a592addc.js\\\\\",\\\\\"870\\\\\",\\\\\"static/chunks/870-a745c1813d874972.js\\\\\",\\\\\"4164\\\\\",\\\\\"static/chunks/app/Search/%40quickMenu/page-d3cfa46bb7ffde20.js\\\\\"],\\\\\"Box\\\\\"]\\\\n3b:I[61408,[\\\\\"9687\\\\\",\\\\\"static/chunks/9687-97741b7e8053c0d8.js\\\\\",\\\\\"9190\\\\\",\\\\\"static/chunks/9190-6f8022e2f2894042.js\\\\\",\\\\\"3957\\\\\",\\\\\"static/chunks/3957-b8d310888e9915c6.js\\\\\",\\\\\"7304\\\\\",\\\\\"static/chunks/7304-a24ea9b1ab76090e.js\\\\\",\\\\\"5849\\\\\",\\\\\"static/chunks/5849-11654964af4623e7.js\\\\\",\\\\\"1860\\\\\",\\\\\"static/chunks/1860-401ad57e11df8e75.js\\\\\",\\\\\"7716\\\\\",\\\\\"static/chunks/7716-e89daaa5e83533f1.js\\\\\",\\\\\"9338\\\\\",\\\\\"static/chunks/9338-37d82827a592addc.js\\\\\",\\\\\"870\\\\\",\\\\\"static/chunks/870-a745c1813d874972.js\\\\\",\\\\\"4164\\\\\",\\\\\"static/chunks/app/Search/%40quickMenu/page-d3cfa46bb7ffde20.js\\\\\"],\\\\\"ProfessionalRecruitment\\\\\"]\\\\n3c:I[97897,[\\\\\"9687\\\\\",\\\\\"static/chunks/9687-97741b7e8053c0d8.js\\\\\",\\\\\"9190\\\\\",\\\\\"static/chunks/9190-6f8022e2f2894042.js\\\\\",\\\\\"3957\\\\\",\\\\\"static/chunks/3957-b8d310888e9915c6.js\\\\\",\\\\\"7304\\\\\",\\\\\"static/chunks/7304-a24ea9b1ab76090e.js\\\\\",\\\\\"5849\\\\\",\\\\\"static/chunks/5849-11654964af4623e7.js\\\\\",\\\\\"1860\\\\\",\\\\\"static/chunks/1860-401ad57e11df8e75.js\\\\\",\\\\\"7716\\\\\",\\\\\"static/chunks/7716-e89daaa5e83533f1.js\\\\\",\\\\\"9338\\\\\",\\\\\"static/chunks/9338-37d82827a592addc.js\\\\\",\\\\\"870\\\\\",\\\\\"static/chunks/870-a745c1813d874972.js\\\\\",\\\\\"4164\\\\\",\\\\\"static/chunks/app/Search/%40quickMenu/page-d3cfa46bb7ffde20.js\\\\\"],\\\\\"default\\\\\"]\\\\n3d:I[54904,[\\\\\"9687\\\\\",\\\\\"static/chunks/9687-97741b7e8053c0d8.js\\\\\",\\\\\"9190\\\\\",\\\\\"static/chunks/9190-6f8022e2f2894042.js\\\\\",\\\\\"3957\\\\\",\\\\\"static/chunks/3957-b8d310888e9915c6.js\\\\\",\\\\\"7304\\\\\",\\\\\"static/chunks/7304-a24ea9b1ab76090e.js\\\\\",\\\\\"5849\\\\\",\\\\\"static/chunks/5849-11654964af4623e7.js\\\\\",\\\\\"1860\\\\\",\\\\\"static/chunks/1860-401ad57e11df8e75.js\\\\\",\\\\\"7716\\\\\",\\\\\"static/chunks/7716-e89daaa5e83533f1.js\\\\\",\\\\\"9338\\\\\",\\\\\"static/chunks/9338-37d82827a592addc.js\\\\\",\\\\\"870\\\\\",\\\\\"static/chunks/870-a745c1813d874972.js\\\\\",\\\\\"4164\\\\\",\\\\\"static/chunks/app/Search/%40quickMenu/page-d3cfa46bb7ffde20.js\\\\\"],\\\\\"default\\\\\"]\\\\n3e:I[20231,[\\\\\"9687\\\\\",\\\\\"static/chunks/9687-97741b7e8053c0d8.js\\\\\",\\\\\"9190\\\\\",\\\\\"static/chunks/919\"])</script><script>self.__next_f.push([1,\"0-6f8022e2f2894042.js\\\\\",\\\\\"3957\\\\\",\\\\\"static/chunks/3957-b8d310888e9915c6.js\\\\\",\\\\\"7304\\\\\",\\\\\"static/chunks/7304-a24ea9b1ab76090e.js\\\\\",\\\\\"5849\\\\\",\\\\\"static/chunks/5849-11654964af4623e7.js\\\\\",\\\\\"1860\\\\\",\\\\\"static/chunks/1860-401ad57e11df8e75.js\\\\\",\\\\\"7716\\\\\",\\\\\"static/chunks/7716-e89daaa5e83533f1.js\\\\\",\\\\\"9338\\\\\",\\\\\"static/chunks/9338-37d82827a592addc.js\\\\\",\\\\\"870\\\\\",\\\\\"static/chunks/870-a745c1813d874972.js\\\\\",\\\\\"4164\\\\\",\\\\\"static/chunks/app/Search/%40quickMenu/page-d3cfa46bb7ffde20.js\\\\\"],\\\\\"default\\\\\"]\\\\n\"])</script><script>self.__next_f.push([1,\"16:[\\\\\"$\\\\\",\\\\\"$L31\\\\\",null,{\\\\\"state\\\\\":{\\\\\"mutations\\\\\":[],\\\\\"queries\\\\\":[{\\\\\"dehydratedAt\\\\\":1761192218807,\\\\\"state\\\\\":{\\\\\"data\\\\\":{\\\\\"pageSize\\\\\":3,\\\\\"pageNumber\\\\\":0,\\\\\"totalElements\\\\\":3,\\\\\"totalPages\\\\\":1,\\\\\"content\\\\\":[{\\\\\"id\\\\\":\\\\\"72\\\\\",\\\\\"name\\\\\":\\\\\"외식 직무채용관\\\\\",\\\\\"subPath\\\\\":\\\\\"Food\\\\\",\\\\\"description\\\\\":\\\\\"외식·프랜차이즈 등 외식 전문가를 채용합니다\\\\\",\\\\\"gateImage\\\\\":\\\\\"Food\\\\\\\\\\\\\\\\Food_Service_pc.png\\\\\",\\\\\"gateImageAlt\\\\\":\\\\\"외식 전문관\\\\\"},{\\\\\"id\\\\\":\\\\\"197\\\\\",\\\\\"name\\\\\":\\\\\"삼성물산 건설부문 파트너사 온라인 채용관\\\\\",\\\\\"subPath\\\\\":\\\\\"secc-partners\\\\\",\\\\\"description\\\\\":\\\\\"건설산업을 선도하는 삼성물산 파트너사의 채용정보\\\\\",\\\\\"gateImage\\\\\":\\\\\"secc-partners\\\\\\\\\\\\\\\\PC_M_Thumb.png\\\\\",\\\\\"gateImageAlt\\\\\":\\\\\"삼성물산 건설부문 파트너사 온라인 채용관\\\\\"},{\\\\\"id\\\\\":\\\\\"175\\\\\",\\\\\"name\\\\\":\\\\\"비수도권 우수기업 온라인채용관\\\\\",\\\\\"subPath\\\\\":\\\\\"diva\\\\\",\\\\\"description\\\\\":\\\\\"비수도권 우수 중소벤처기업 신입·경력 대규모 채용\\\\\",\\\\\"gateImage\\\\\":\\\\\"diva\\\\\\\\\\\\\\\\diva_gate.png\\\\\",\\\\\"gateImageAlt\\\\\":\\\\\"비수도권 우수 중소벤처기업 온라인 채용관\\\\\"}]},\\\\\"dataUpdateCount\\\\\":1,\\\\\"dataUpdatedAt\\\\\":1761192218737,\\\\\"error\\\\\":null,\\\\\"errorUpdateCount\\\\\":0,\\\\\"errorUpdatedAt\\\\\":0,\\\\\"fetchFailureCount\\\\\":0,\\\\\"fetchFailureReason\\\\\":null,\\\\\"fetchMeta\\\\\":null,\\\\\"isInvalidated\\\\\":false,\\\\\"status\\\\\":\\\\\"success\\\\\",\\\\\"fetchStatus\\\\\":\\\\\"idle\\\\\"},\\\\\"queryKey\\\\\":[\\\\\"THEME_BANNER_RANDOM\\\\\",1],\\\\\"queryHash\\\\\":\\\\\"[\\\\\\\\\\\\\"THEME_BANNER_RANDOM\\\\\\\\\\\\\",1]\\\\\"},{\\\\\"dehydratedAt\\\\\":1761192218807,\\\\\"state\\\\\":{\\\\\"data\\\\\":{\\\\\"content\\\\\":[]},\\\\\"dataUpdateCount\\\\\":1,\\\\\"dataUpdatedAt\\\\\":1761192218807,\\\\\"error\\\\\":null,\\\\\"errorUpdateCount\\\\\":0,\\\\\"errorUpdatedAt\\\\\":0,\\\\\"fetchFailureCount\\\\\":0,\\\\\"fetchFailureReason\\\\\":null,\\\\\"fetchMeta\\\\\":null,\\\\\"isInvalidated\\\\\":false,\\\\\"status\\\\\":\\\\\"success\\\\\",\\\\\"fetchStatus\\\\\":\\\\\"idle\\\\\"},\\\\\"queryKey\\\\\":[\\\\\"RELATED_LIST\\\\\",\\\\\"data scientist\\\\\",8],\\\\\"queryHash\\\\\":\\\\\"[\\\\\\\\\\\\\"RELATED_LIST\\\\\\\\\\\\\",\\\\\\\\\\\\\"data scientist\\\\\\\\\\\\\",8]\\\\\"}]},\\\\\"data-sentry-element\\\\\":\\\\\"HydrationBoundary\\\\\",\\\\\"data-sentry-component\\\\\":\\\\\"QuickMenu\\\\\",\\\\\"data-sentry-source-file\\\\\":\\\\\"page.tsx\\\\\",\\\\\"children\\\\\":[\\\\\"$\\\\\",\\\\\"$L37\\\\\",null,{\\\\\"direction\\\\\":\\\\\"column\\\\\",\\\\\"flex\\\\\":\\\\\"none\\\\\",\\\\\"gap\\\\\":\\\\\"space20\\\\\",\\\\\"mt\\\\\":\\\\\"space40\\\\\",\\\\\"width\\\\\":320,\\\\\"asChild\\\\\":true,\\\\\"data-sentry-element\\\\\":\\\\\"Flex\\\\\",\\\\\"data-sentry-source-file\\\\\":\\\\\"page.tsx\\\\\",\\\\\"children\\\\\":[\\\\\"$\\\\\",\\\\\"aside\\\\\",null,{\\\\\"children\\\\\":[[\\\\\"$\\\\\",\\\\\"$L38\\\\\",null,{\\\\\"keyword\\\\\":\\\\\"data scientist\\\\\",\\\\\"data-sentry-element\\\\\":\\\\\"RelatedSearchList\\\\\",\\\\\"data-sentry-source-file\\\\\":\\\\\"page.tsx\\\\\"}],[\\\\\"$\\\\\",\\\\\"$L39\\\\\",null,{\\\\\"shadow\\\\\":\\\\\"list\\\\\",\\\\\"data-sentry-element\\\\\":\\\\\"Shadow\\\\\",\\\\\"data-sentry-source-file\\\\\":\\\\\"page.tsx\\\\\",\\\\\"children\\\\\":[\\\\\"$\\\\\",\\\\\"$L3a\\\\\",null,{\\\\\"bgColor\\\\\":\\\\\"white\\\\\",\\\\\"p\\\\\":\\\\\"space0\\\\\",\\\\\"radius\\\\\":\\\\\"radius16\\\\\",\\\\\"style\\\\\":{\\\\\"overflow\\\\\":\\\\\"hidden\\\\\",\\\\\"borderWidth\\\\\":0},\\\\\"width\\\\\":\\\\\"100%\\\\\",\\\\\"data-sentry-element\\\\\":\\\\\"Box\\\\\",\\\\\"data-sentry-source-file\\\\\":\\\\\"page.tsx\\\\\",\\\\\"children\\\\\":[[\\\\\"$\\\\\",\\\\\"$L3b\\\\\",null,{\\\\\"data-sentry-element\\\\\":\\\\\"ProfessionalRecruitment\\\\\",\\\\\"data-sentry-source-file\\\\\":\\\\\"page.tsx\\\\\"}],[\\\\\"$\\\\\",\\\\\"$L3c\\\\\",\\\\\"ads-1\\\\\",{\\\\\"data-sentry-element\\\\\":\\\\\"AdsBanner\\\\\",\\\\\"data-sentry-source-file\\\\\":\\\\\"page.tsx\\\\\"}],[\\\\\"$\\\\\",\\\\\"$L3d\\\\\",null,{\\\\\"keyword\\\\\":\\\\\"data scientist\\\\\",\\\\\"data-sentry-element\\\\\":\\\\\"PowerLink\\\\\",\\\\\"data-sentry-source-file\\\\\":\\\\\"page.tsx\\\\\"}]]}]}],[\\\\\"$\\\\\",\\\\\"$L3e\\\\\",null,{\\\\\"data-sentry-element\\\\\":\\\\\"RecentTags\\\\\",\\\\\"data-sentry-source-file\\\\\":\\\\\"page.tsx\\\\\"}]]}]}]}]\\\\n\"])</script><script>self.__next_f.push([1,\"3f:I[36191,[\\\\\"9687\\\\\",\\\\\"static/chunks/9687-97741b7e8053c0d8.js\\\\\",\\\\\"9190\\\\\",\\\\\"static/chunks/9190-6f8022e2f2894042.js\\\\\",\\\\\"3957\\\\\",\\\\\"static/chunks/3957-b8d310888e9915c6.js\\\\\",\\\\\"7304\\\\\",\\\\\"static/chunks/7304-a24ea9b1ab76090e.js\\\\\",\\\\\"5849\\\\\",\\\\\"static/chunks/5849-11654964af4623e7.js\\\\\",\\\\\"2054\\\\\",\\\\\"static/chunks/2054-4bbfe28b77f704be.js\\\\\",\\\\\"6768\\\\\",\\\\\"static/chunks/6768-2d893325a1130269.js\\\\\",\\\\\"1860\\\\\",\\\\\"static/chunks/1860-401ad57e11df8e75.js\\\\\",\\\\\"7716\\\\\",\\\\\"static/chunks/7716-e89daaa5e83533f1.js\\\\\",\\\\\"1260\\\\\",\\\\\"static/chunks/1260-498a2e8e6218b41f.js\\\\\",\\\\\"773\\\\\",\\\\\"static/chunks/773-5951fff8e76120c6.js\\\\\",\\\\\"2773\\\\\",\\\\\"static/chunks/2773-af22dfd0a858e606.js\\\\\",\\\\\"1444\\\\\",\\\\\"static/chunks/1444-f22663a449629f69.js\\\\\",\\\\\"1035\\\\\",\\\\\"static/chunks/1035-f83c44f8912df683.js\\\\\",\\\\\"870\\\\\",\\\\\"static/chunks/870-a745c1813d874972.js\\\\\",\\\\\"8340\\\\\",\\\\\"static/chunks/8340-f468737cebbeaa23.js\\\\\",\\\\\"4335\\\\\",\\\\\"static/chunks/app/Search/page-58ba16635c459222.js\\\\\"],\\\\\"default\\\\\"]\\\\n40:I[35490,[\\\\\"9687\\\\\",\\\\\"static/chunks/9687-97741b7e8053c0d8.js\\\\\",\\\\\"9190\\\\\",\\\\\"static/chunks/9190-6f8022e2f2894042.js\\\\\",\\\\\"3957\\\\\",\\\\\"static/chunks/3957-b8d310888e9915c6.js\\\\\",\\\\\"7304\\\\\",\\\\\"static/chunks/7304-a24ea9b1ab76090e.js\\\\\",\\\\\"5849\\\\\",\\\\\"static/chunks/5849-11654964af4623e7.js\\\\\",\\\\\"2054\\\\\",\\\\\"static/chunks/2054-4bbfe28b77f704be.js\\\\\",\\\\\"6768\\\\\",\\\\\"static/chunks/6768-2d893325a1130269.js\\\\\",\\\\\"1860\\\\\",\\\\\"static/chunks/1860-401ad57e11df8e75.js\\\\\",\\\\\"7716\\\\\",\\\\\"static/chunks/7716-e89daaa5e83533f1.js\\\\\",\\\\\"1260\\\\\",\\\\\"static/chunks/1260-498a2e8e6218b41f.js\\\\\",\\\\\"773\\\\\",\\\\\"static/chunks/773-5951fff8e76120c6.js\\\\\",\\\\\"2773\\\\\",\\\\\"static/chunks/2773-af22dfd0a858e606.js\\\\\",\\\\\"1444\\\\\",\\\\\"static/chunks/1444-f22663a449629f69.js\\\\\",\\\\\"1035\\\\\",\\\\\"static/chunks/1035-f83c44f8912df683.js\\\\\",\\\\\"870\\\\\",\\\\\"static/chunks/870-a745c1813d874972.js\\\\\",\\\\\"8340\\\\\",\\\\\"static/chunks/8340-f468737cebbeaa23.js\\\\\",\\\\\"4335\\\\\",\\\\\"static/chunks/app/Search/page-58ba16635c459222.js\\\\\"],\\\\\"default\\\\\"]\\\\n41:I[25572,[\\\\\"9687\\\\\",\\\\\"static/chunks/9687-97741b7e8053c0d8.js\\\\\",\\\\\"9190\\\\\",\\\\\"static/chunks/9190-6f8022e2f2894042.js\\\\\",\\\\\"3957\\\\\",\\\\\"static/chunks/3957-b8d310888e9915c6.js\\\\\",\\\\\"7304\\\\\",\\\\\"static/chunks/7304-a24ea9b1ab76090e.js\\\\\",\\\\\"5849\\\\\",\\\\\"static/chunks/5849-11654964af4623e7.js\\\\\",\\\\\"2054\\\\\",\\\\\"static/chunks/2054-4bbfe28b77f704be.js\\\\\",\\\\\"6768\\\\\",\\\\\"static/chunks/6768-2d893325a1130269.js\\\\\",\\\\\"1860\\\\\"\"])</script><script>self.__next_f.push([1,\",\\\\\"static/chunks/1860-401ad57e11df8e75.js\\\\\",\\\\\"7716\\\\\",\\\\\"static/chunks/7716-e89daaa5e83533f1.js\\\\\",\\\\\"1260\\\\\",\\\\\"static/chunks/1260-498a2e8e6218b41f.js\\\\\",\\\\\"773\\\\\",\\\\\"static/chunks/773-5951fff8e76120c6.js\\\\\",\\\\\"2773\\\\\",\\\\\"static/chunks/2773-af22dfd0a858e606.js\\\\\",\\\\\"1444\\\\\",\\\\\"static/chunks/1444-f22663a449629f69.js\\\\\",\\\\\"1035\\\\\",\\\\\"static/chunks/1035-f83c44f8912df683.js\\\\\",\\\\\"870\\\\\",\\\\\"static/chunks/870-a745c1813d874972.js\\\\\",\\\\\"8340\\\\\",\\\\\"static/chunks/8340-f468737cebbeaa23.js\\\\\",\\\\\"4335\\\\\",\\\\\"static/chunks/app/Search/page-58ba16635c459222.js\\\\\"],\\\\\"default\\\\\"]\\\\n42:I[911,[\\\\\"9687\\\\\",\\\\\"static/chunks/9687-97741b7e8053c0d8.js\\\\\",\\\\\"9190\\\\\",\\\\\"static/chunks/9190-6f8022e2f2894042.js\\\\\",\\\\\"3957\\\\\",\\\\\"static/chunks/3957-b8d310888e9915c6.js\\\\\",\\\\\"7304\\\\\",\\\\\"static/chunks/7304-a24ea9b1ab76090e.js\\\\\",\\\\\"5849\\\\\",\\\\\"static/chunks/5849-11654964af4623e7.js\\\\\",\\\\\"2054\\\\\",\\\\\"static/chunks/2054-4bbfe28b77f704be.js\\\\\",\\\\\"6768\\\\\",\\\\\"static/chunks/6768-2d893325a1130269.js\\\\\",\\\\\"1860\\\\\",\\\\\"static/chunks/1860-401ad57e11df8e75.js\\\\\",\\\\\"7716\\\\\",\\\\\"static/chunks/7716-e89daaa5e83533f1.js\\\\\",\\\\\"1260\\\\\",\\\\\"static/chunks/1260-498a2e8e6218b41f.js\\\\\",\\\\\"773\\\\\",\\\\\"static/chunks/773-5951fff8e76120c6.js\\\\\",\\\\\"2773\\\\\",\\\\\"static/chunks/2773-af22dfd0a858e606.js\\\\\",\\\\\"1444\\\\\",\\\\\"static/chunks/1444-f22663a449629f69.js\\\\\",\\\\\"1035\\\\\",\\\\\"static/chunks/1035-f83c44f8912df683.js\\\\\",\\\\\"870\\\\\",\\\\\"static/chunks/870-a745c1813d874972.js\\\\\",\\\\\"8340\\\\\",\\\\\"static/chunks/8340-f468737cebbeaa23.js\\\\\",\\\\\"4335\\\\\",\\\\\"static/chunks/app/Search/page-58ba16635c459222.js\\\\\"],\\\\\"UuidSetter\\\\\"]\\\\n\"])</script><script>self.__next_f.push([1,\"19:[[\\\\\"$\\\\\",\\\\\"$L31\\\\\",null,{\\\\\"state\\\\\":{\\\\\"mutations\\\\\":[],\\\\\"queries\\\\\":[{\\\\\"dehydratedAt\\\\\":1761192218919,\\\\\"state\\\\\":{\\\\\"data\\\\\":{\\\\\"pageSize\\\\\":20,\\\\\"pageNumber\\\\\":0,\\\\\"totalElements\\\\\":266,\\\\\"totalPages\\\\\":14,\\\\\"content\\\\\":[{\\\\\"id\\\\\":\\\\\"47797902\\\\\",\\\\\"legacyJobNo\\\\\":\\\\\"49685855\\\\\",\\\\\"title\\\\\":\\\\\"데이터 사이언티스트\\\\\",\\\\\"createdAt\\\\\":\\\\\"2025-10-01T00:00:00+09:00\\\\\",\\\\\"postingCompanyName\\\\\":\\\\\"핀다\\\\\",\\\\\"userRefType\\\\\":\\\\\"C\\\\\",\\\\\"memberSystemNo\\\\\":\\\\\"24009613\\\\\",\\\\\"jobOrIndustryCodeList\\\\\":[\\\\\"1000011\\\\\",\\\\\"1000237\\\\\"],\\\\\"employmentTypeCodeList\\\\\":[\\\\\"1/0\\\\\"],\\\\\"areaCodeList\\\\\":[\\\\\"I010\\\\\"],\\\\\"careerType\\\\\":\\\\\"2\\\\\",\\\\\"careerRange\\\\\":7,\\\\\"educationCode\\\\\":\\\\\"5\\\\\",\\\\\"benefitNameList\\\\\":[\\\\\"워케이션\\\\\",\\\\\"성과급\\\\\"],\\\\\"companyName\\\\\":\\\\\"핀다\\\\\",\\\\\"companyType\\\\\":\\\\\"0\\\\\",\\\\\"isExposeWorkCompany\\\\\":false,\\\\\"receptionOptionType\\\\\":\\\\\"100000\\\\\",\\\\\"applicationPeriod\\\\\":{\\\\\"start\\\\\":\\\\\"2025-10-01T00:00:00+09:00\\\\\",\\\\\"end\\\\\":\\\\\"2025-10-31T23:00:00+09:00\\\\\"},\\\\\"isSubcontract\\\\\":false,\\\\\"isNewcomerJob\\\\\":false,\\\\\"jobTypeCode\\\\\":\\\\\"J\\\\\",\\\\\"isExistProductLogo\\\\\":true,\\\\\"stockTypeCode\\\\\":\\\\\"0\\\\\",\\\\\"companyRank\\\\\":0,\\\\\"companySubsidiary\\\\\":null,\\\\\"smallGiantCompanyTypeCode\\\\\":\\\\\"0\\\\\",\\\\\"excellentSmallCompanyTypeCode\\\\\":0,\\\\\"awardInfo\\\\\":\\\\\"0\\\\\",\\\\\"goodWorkCompanyCodeList\\\\\":null,\\\\\"productStatus\\\\\":0,\\\\\"companyLogoPath\\\\\":\\\\\"/Images/Logo/128/f/i/2973g00grcjpnkgukfe_3020abfaidqgrolkg2ga.gif?p=y\\\\u0026hash=c\\\\\",\\\\\"textLogoPath\\\\\":null,\\\\\"oemNo\\\\\":\\\\\"1\\\\\",\\\\\"rewardAmount\\\\\":500000,\\\\\"readCount\\\\\":477,\\\\\"badges\\\\\":[{\\\\\"code\\\\\":\\\\\"WAITING_FOR_APPLICANTS\\\\\",\\\\\"attributes\\\\\":{}}],\\\\\"badgesV2\\\\\":[{\\\\\"code\\\\\":\\\\\"ONEPICK_REWARD_50\\\\\",\\\\\"attributes\\\\\":{}}],\\\\\"_internal_score\\\\\":10118.478,\\\\\"_internal_weightValue\\\\\":10,\\\\\"_internal_keywordList\\\\\":[\\\\\"데이터시각화\\\\\",\\\\\"BI\\\\\",\\\\\"데이터분석\\\\\",\\\\\"분석모델링\\\\\"],\\\\\"_internal_featureWorkCode\\\\\":\\\\\"데이터사이언티스트,기획자,데이터 사이언티스트\\\\\",\\\\\"_internal_featureIndustryCode\\\\\":\\\\\"금융,은행,금융\\\\\",\\\\\"_internal_featureToolCode\\\\\":\\\\\"\\\\\",\\\\\"_internal_featureSkillCode\\\\\":\\\\\"데이터,사이언티스트,모델링,데이터분석,데이터사이언스,배포,분석,예측,비즈니스분석\\\\\",\\\\\"_internal_featureCompanyCode\\\\\":\\\\\"핀다\\\\\",\\\\\"_internal_featureLocationCode\\\\\":\\\\\"강남구\\\\\",\\\\\"_internal_featureTotalCode\\\\\":\\\\\"pytorch,모델링,데이터,사이언티스트,spark,금융,핀다,성과급,데이터 사이언티스트,데이터사이언티스트,배포,은행,python,강남구,비즈니스분석,기획자,데이터분석,airflow,데이터사이언스,워케이션,분석,예측,sql\\\\\",\\\\\"popularityScore\\\\\":212,\\\\\"payRange\\\\\":{\\\\\"start\\\\\":\\\\\"0\\\\\",\\\\\"end\\\\\":\\\\\"0\\\\\"},\\\\\"isAppliedJob\\\\\":false,\\\\\"jobClassificationOrIndustry\\\\\":\\\\\",은행·금융,데이터사이언티스트,\\\\\",\\\\\"memberId\\\\\":\\\\\"findaforyou\\\\\",\\\\\"payTypeCode\\\\\":0,\\\\\"isStarter\\\\\":null,\\\\\"urlName\\\\\":null,\\\\\"companyTypeCode\\\\\":1},{\\\\\"id\\\\\":\\\\\"47839083\\\\\",\\\\\"legacyJobNo\\\\\":\\\\\"49720329\\\\\",\\\\\"title\\\\\":\\\\\"LLM \\\\u0026 RAG 데이터 사이언티스트\\\\\",\\\\\"createdAt\\\\\":\\\\\"2025-10-13T00:00:00+09:00\\\\\",\\\\\"postingCompanyName\\\\\":\\\\\"㈜이자(eZar Inc.)\\\\\",\\\\\"userRefType\\\\\":\\\\\"C\\\\\",\\\\\"memberSystemNo\\\\\":\\\\\"38761226\\\\\",\\\\\"jobOrIndustryCodeList\\\\\":[\\\\\"1000038\\\\\",\\\\\"1000237\\\\\"],\\\\\"employmentTypeCodeList\\\\\":[\\\\\"1/0\\\\\"],\\\\\"areaCodeList\\\\\":[\\\\\"I200\\\\\"],\\\\\"careerType\\\\\":\\\\\"2\\\\\",\\\\\"careerRange\\\\\":2,\\\\\"educationCode\\\\\":\\\\\"6\\\\\",\\\\\"benefitNameList\\\\\":[\\\\\"재택근무\\\\\"],\\\\\"companyName\\\\\":\\\\\"㈜이자(eZar Inc.)\\\\\",\\\\\"companyType\\\\\":\\\\\"0\\\\\",\\\\\"isExposeWorkCompany\\\\\":false,\\\\\"receptionOptionType\\\\\":\\\\\"100000\\\\\",\\\\\"applicationPeriod\\\\\":{\\\\\"start\\\\\":\\\\\"2025-10-13T00:00:00+09:00\\\\\",\\\\\"end\\\\\":\\\\\"2025-12-12T23:00:00+09:00\\\\\"},\\\\\"isSubcontract\\\\\":false,\\\\\"isNewcomerJob\\\\\":false,\\\\\"jobTypeCode\\\\\":null,\\\\\"isExistProductLogo\\\\\":false,\\\\\"stockTypeCode\\\\\":\\\\\"0\\\\\",\\\\\"companyRank\\\\\":0,\\\\\"companySubsidiary\\\\\":null,\\\\\"smallGiantCompanyTypeCode\\\\\":\\\\\"0\\\\\",\\\\\"excellentSmallCompanyTypeCode\\\\\":0,\\\\\"awardInfo\\\\\":\\\\\"0\\\\\",\\\\\"goodWorkCompanyCodeList\\\\\":null,\\\\\"productStatus\\\\\":0,\\\\\"companyLogoPath\\\\\":\\\\\"//img1/_whitebg/200X80/Co_Logo/Logo/2023/9/08/JK_CO_maeagc23090815423223.png?v=202510231303\\\\\",\\\\\"textLogoPath\\\\\":null,\\\\\"oemNo\\\\\":\\\\\"1\\\\\",\\\\\"rewardAmount\\\\\":0,\\\\\"readCount\\\\\":269,\\\\\"badges\\\\\":[{\\\\\"code\\\\\":\\\\\"WAITING_FOR_APPLICANTS\\\\\",\\\\\"attributes\\\\\":{}}],\\\\\"badgesV2\\\\\":[{\\\\\"code\\\\\":\\\\\"AVAILABLE_REMOTE_WORK\\\\\",\\\\\"attributes\\\\\":{}}],\\\\\"_internal_score\\\\\":9851.7705,\\\\\"_internal_weightValue\\\\\":10,\\\\\"_internal_keywordList\\\\\":[\\\\\"소프트웨어개발\\\\\"],\\\\\"_internal_featureWorkCode\\\\\":\\\\\"데이터사이언티스트,데이터 사이언티스트\\\\\",\\\\\"_internal_featureIndustryCode\\\\\":\\\\\"CRM,SI,ERP,솔루션,연구\\\\\",\\\\\"_internal_featureToolCode\\\\\":\\\\\"\\\\\",\\\\\"_internal_featureSkillCode\\\\\":\\\\\"데이터,사이언티스트,RAG,LLM,\\\\u0026,연구,시각화,구현,분석,application개발\\\\\",\\\\\"_internal_featureCompanyCode\\\\\":\\\\\"이자\\\\\",\\\\\"_internal_featureLocationCode\\\\\":\\\\\"영등포구,신길,여의도,샛강\\\\\",\\\\\"_internal_featureTotalCode\\\\\":\\\\\"CRM,영등포구,데이터,사이언티스트,RAG,이자,재택근무,데이터사이언티스트,데이터 사이언티스트,샛강,application개발,SI,연구,신길,시각화,ERP,구현,여의도,분석,LLM,\\\\u0026,솔루션\\\\\",\\\\\"popularityScore\\\\\":188,\\\\\"payRange\\\\\":{\\\\\"start\\\\\":\\\\\"0\\\\\",\\\\\"end\\\\\":\\\\\"0\\\\\"},\\\\\"isAppliedJob\\\\\":false,\\\\\"jobClassificationOrIndustry\\\\\":\\\\\",솔루션·SI·CRM·ERP,데이터사이언티스트,\\\\\",\\\\\"memberId\\\\\":\\\\\"helpezar\\\\\",\\\\\"payTypeCode\\\\\":0,\\\\\"isStarter\\\\\":\\\\\"0\\\\\",\\\\\"urlName\\\\\":\\\\\"\\\\\",\\\\\"companyTypeCode\\\\\":1},{\\\\\"id\\\\\":\\\\\"47870425\\\\\",\\\\\"legacyJobNo\\\\\":\\\\\"49748406\\\\\",\\\\\"title\\\\\":\\\\\"(주)미래엔 데이터 사이언티스트 채용\\\\\",\\\\\"createdAt\\\\\":\\\\\"2025-10-17T00:00:00+09:00\\\\\",\\\\\"postingCompanyName\\\\\":\\\\\"㈜미래엔\\\\\",\\\\\"userRefType\\\\\":\\\\\"C\\\\\",\\\\\"memberSystemNo\\\\\":\\\\\"14102\\\\\",\\\\\"jobOrIndustryCodeList\\\\\":[\\\\\"1000035\\\\\",\\\\\"1000237\\\\\"],\\\\\"employmentTypeCodeList\\\\\":[\\\\\"1/0\\\\\"],\\\\\"areaCodeList\\\\\":[\\\\\"I150\\\\\"],\\\\\"careerType\\\\\":\\\\\"2\\\\\",\\\\\"careerRange\\\\\":8,\\\\\"educationCode\\\\\":\\\\\"5\\\\\",\\\\\"benefitNameList\\\\\":[],\\\\\"companyName\\\\\":\\\\\"㈜미래엔\\\\\",\\\\\"companyType\\\\\":\\\\\"0\\\\\",\\\\\"isExposeWorkCompany\\\\\":false,\\\\\"receptionOptionType\\\\\":\\\\\"000010\\\\\",\\\\\"applicationPeriod\\\\\":{\\\\\"start\\\\\":\\\\\"2025-10-17T00:00:00+09:00\\\\\",\\\\\"end\\\\\":\\\\\"2025-11-16T23:00:00+09:00\\\\\"},\\\\\"isSubcontract\\\\\":false,\\\\\"isNewcomerJob\\\\\":false,\\\\\"jobTypeCode\\\\\":null,\\\\\"isExistProductLogo\\\\\":true,\\\\\"stockTypeCode\\\\\":\\\\\"0\\\\\",\\\\\"companyRank\\\\\":0,\\\\\"companySubsidiary\\\\\":null,\\\\\"smallGiantCompanyTypeCode\\\\\":\\\\\"0\\\\\",\\\\\"excellentSmallCompanyTypeCode\\\\\":0,\\\\\"awardInfo\\\\\":\\\\\"0\\\\\",\\\\\"goodWorkCompanyCodeList\\\\\":null,\\\\\"productStatus\\\\\":0,\\\\\"companyLogoPath\\\\\":\\\\\"/Images/Logo/128/d/h/2453q00qjtltl_2520m59mvjd2qm.gif?p=y\\\\u0026hash=c\\\\\",\\\\\"textLogoPath\\\\\":null,\\\\\"oemNo\\\\\":\\\\\"1\\\\\",\\\\\"rewardAmount\\\\\":0,\\\\\"readCount\\\\\":108,\\\\\"badges\\\\\":[{\\\\\"code\\\\\":\\\\\"WAITING_FOR_APPLICANTS\\\\\",\\\\\"attributes\\\\\":{}}],\\\\\"badgesV2\\\\\":[{\\\\\"code\\\\\":\\\\\"FROM_MID_SIZED_ENTERPRISE\\\\\",\\\\\"attributes\\\\\":{}}],\\\\\"_internal_score\\\\\":9669.426,\\\\\"_internal_weightValue\\\\\":10,\\\\\"_internal_keywordList\\\\\":[\\\\\"편집\\\\\",\\\\\"데이터시각화\\\\\",\\\\\"BI\\\\\",\\\\\"교재제작\\\\\",\\\\\"교열\\\\\",\\\\\"출판\\\\\",\\\\\"데이터분석\\\\\",\\\\\"분석모델링\\\\\",\\\\\"출판기획\\\\\"],\\\\\"_internal_featureWorkCode\\\\\":\\\\\"데이터사이언티스트,데이터 사이언티스트\\\\\",\\\\\"_internal_featureIndustryCode\\\\\":\\\\\"인쇄,출판,사진\\\\\",\\\\\"_internal_featureToolCode\\\\\":\\\\\"\\\\\",\\\\\"_internal_featureSkillCode\\\\\":\\\\\"데이터,사이언티스트,운영,학습코칭,데이터사이언스,분석,프로그래밍,데이터모델링,개발,자연어처리\\\\\",\\\\\"_internal_featureCompanyCode\\\\\":\\\\\"미래엔,미래엔\\\\\",\\\\\"_internal_featureLocationCode\\\\\":\\\\\"서초구,논현,신사\\\\\",\\\\\"_internal_featureTotalCode\\\\\":\\\\\"데이터,운영,사이언티스트,인쇄,학습코칭,출판,데이터사이언티스트,데이터 사이언티스트,개발,자연어처리,미래엔,python,서초구,논현,데이터사이언스,신사,분석,프로그래밍,데이터모델링,사진\\\\\",\\\\\"popularityScore\\\\\":109,\\\\\"payRange\\\\\":{\\\\\"start\\\\\":\\\\\"0\\\\\",\\\\\"end\\\\\":\\\\\"0\\\\\"},\\\\\"isAppliedJob\\\\\":false,\\\\\"jobClassificationOrIndustry\\\\\":\\\\\",출판·인쇄·사진,데이터사이언티스트,\\\\\",\\\\\"memberId\\\\\":\\\\\"dhpnp\\\\\",\\\\\"payTypeCode\\\\\":0,\\\\\"isStarter\\\\\":null,\\\\\"urlName\\\\\":null,\\\\\"companyTypeCode\\\\\":2},{\\\\\"id\\\\\":\\\\\"47876727\\\\\",\\\\\"legacyJobNo\\\\\":\\\\\"49754128\\\\\",\\\\\"title\\\\\":\\\\\"[HYBE] 데이터 사이언티스트 (Data Scientist)\\\\\",\\\\\"createdAt\\\\\":\\\\\"2025-10-17T00:00:00+09:00\\\\\",\\\\\"postingCompanyName\\\\\":\\\\\"㈜하이브\\\\\",\\\\\"userRefType\\\\\":\\\\\"C\\\\\",\\\\\"memberSystemNo\\\\\":\\\\\"29369775\\\\\",\\\\\"jobOrIndustryCodeList\\\\\":[\\\\\"1000034\\\\\",\\\\\"1000237\\\\\"],\\\\\"employmentTypeCodeList\\\\\":[\\\\\"1/0\\\\\"],\\\\\"areaCodeList\\\\\":[\\\\\"I210\\\\\"],\\\\\"careerType\\\\\":\\\\\"2\\\\\",\\\\\"careerRange\\\\\":3,\\\\\"educationCode\\\\\":\\\\\"5\\\\\",\\\\\"benefitNameList\\\\\":[],\\\\\"companyName\\\\\":\\\\\"㈜하이브\\\\\",\\\\\"companyType\\\\\":\\\\\"0\\\\\",\\\\\"isExposeWorkCompany\\\\\":false,\\\\\"receptionOptionType\\\\\":\\\\\"000010\\\\\",\\\\\"applicationPeriod\\\\\":{\\\\\"start\\\\\":\\\\\"2025-10-17T00:00:00+09:00\\\\\",\\\\\"end\\\\\":\\\\\"2070-01-01T00:00:00+09:00\\\\\"},\\\\\"isSubcontract\\\\\":false,\\\\\"isNewcomerJob\\\\\":false,\\\\\"jobTypeCode\\\\\":null,\\\\\"isExistProductLogo\\\\\":false,\\\\\"stockTypeCode\\\\\":\\\\\"1\\\\\",\\\\\"companyRank\\\\\":0,\\\\\"companySubsidiary\\\\\":null,\\\\\"smallGiantCompanyTypeCode\\\\\":\\\\\"0\\\\\",\\\\\"excellentSmallCompanyTypeCode\\\\\":0,\\\\\"awardInfo\\\\\":\\\\\"0\\\\\",\\\\\"goodWorkCompanyCodeList\\\\\":null,\\\\\"productStatus\\\\\":0,\\\\\"companyLogoPath\\\\\":\\\\\"//img1/_whitebg/200X80/Co_Logo/Logo/2021/4/12/2a3vf008Rr_aXkejbv3s2qr0efYvUr_aa2fr.png?v=202510231303\\\\u0026hash=r\\\\\",\\\\\"textLogoPath\\\\\":null,\\\\\"oemNo\\\\\":\\\\\"1\\\\\",\\\\\"rewardAmount\\\\\":0,\\\\\"readCount\\\\\":426,\\\\\"badges\\\\\":[{\\\\\"code\\\\\":\\\\\"WAITING_FOR_APPLICANTS\\\\\",\\\\\"attributes\\\\\":{}}],\\\\\"badgesV2\\\\\":[{\\\\\"code\\\\\":\\\\\"FROM_ENTERPRISE\\\\\",\\\\\"attributes\\\\\":{}}],\\\\\"_internal_score\\\\\":9637.987,\\\\\"_internal_weightValue\\\\\":40,\\\\\"_internal_keywordList\\\\\":null,\\\\\"_internal_featureWorkCode\\\\\":\\\\\"데이터사이언티스트,데이터 사이언티스트\\\\\",\\\\\"_internal_featureIndustryCode\\\\\":\\\\\"엔터테인먼트,연예,음성인식,ai,엔터\\\\\",\\\\\"_internal_featureToolCode\\\\\":\\\\\"\\\\\",\\\\\"_internal_featureSkillCode\\\\\":\\\\\"데이터,사이언티스트,모델링,컴퓨터공학,수학,데이터핸들링,머신러닝,데이터품질관리,통계학,데이터분석,대용량데이터처리,텍스트마이닝,모니터링,데이터사이언스,분석,데이터정제\\\\\",\\\\\"_internal_featureCompanyCode\\\\\":\\\\\"하이브,엔터,하이브\\\\\",\\\\\"_internal_featureLocationCode\\\\\":\\\\\"용산,용산구\\\\\",\\\\\"_internal_featureTotalCode\\\\\":\\\\\"용산,음성인식,ai,사이언티스트,수학,데이터사이언티스트,데이터핸들링,머신러닝,데이터품질관리,엔터테인먼트,데이터분석,영어,모니터링,데이터사이언스,엔터,tableau,하이브,모델링,컴퓨터공학,데이터,데이터 사이언티스트,연예,python,r,통계학,용산구,대용량데이터처리,텍스트마이닝,분석,데이터정제,bigquery,sql,gcp\\\\\",\\\\\"popularityScore\\\\\":443,\\\\\"payRange\\\\\":{\\\\\"start\\\\\":\\\\\"0\\\\\",\\\\\"end\\\\\":\\\\\"0\\\\\"},\\\\\"isAppliedJob\\\\\":false,\\\\\"jobClassificationOrIndustry\\\\\":\\\\\",연예·엔터테인먼트,데이터사이언티스트,\\\\\",\\\\\"memberId\\\\\":\\\\\"bighithr\\\\\",\\\\\"payTypeCode\\\\\":0,\\\\\"isStarter\\\\\":\\\\\"1\\\\\",\\\\\"urlName\\\\\":\\\\\"43704918\\\\\",\\\\\"companyTypeCode\\\\\":3},{\\\\\"id\\\\\":\\\\\"47683570\\\\\",\\\\\"legacyJobNo\\\\\":\\\\\"49586587\\\\\",\\\\\"title\\\\\":\\\\\" [Tech] Data Scientist (추천 모델링, 7년 이상)\\\\\",\\\\\"createdAt\\\\\":\\\\\"2025-10-05T00:00:00+09:00\\\\\",\\\\\"postingCompanyName\\\\\":\\\\\"㈜위대한상상\\\\\",\\\\\"userRefType\\\\\":\\\\\"C\\\\\",\\\\\"memberSystemNo\\\\\":\\\\\"13745549\\\\\",\\\\\"jobOrIndustryCodeList\\\\\":[\\\\\"1000040\\\\\",\\\\\"1000237\\\\\"],\\\\\"employmentTypeCodeList\\\\\":[\\\\\"1\\\\\"],\\\\\"areaCodeList\\\\\":[\\\\\"I010\\\\\"],\\\\\"careerType\\\\\":\\\\\"2\\\\\",\\\\\"careerRange\\\\\":7,\\\\\"educationCode\\\\\":\\\\\"0\\\\\",\\\\\"benefitNameList\\\\\":[],\\\\\"companyName\\\\\":\\\\\"㈜위대한상상\\\\\",\\\\\"companyType\\\\\":\\\\\"0\\\\\",\\\\\"isExposeWorkCompany\\\\\":false,\\\\\"receptionOptionType\\\\\":\\\\\"000010\\\\\",\\\\\"applicationPeriod\\\\\":{\\\\\"start\\\\\":\\\\\"2025-10-02T11:00:00+09:00\\\\\",\\\\\"end\\\\\":\\\\\"2025-11-10T23:00:00+09:00\\\\\"},\\\\\"isSubcontract\\\\\":false,\\\\\"isNewcomerJob\\\\\":false,\\\\\"jobTypeCode\\\\\":null,\\\\\"isExistProductLogo\\\\\":true,\\\\\"stockTypeCode\\\\\":\\\\\"0\\\\\",\\\\\"companyRank\\\\\":0,\\\\\"companySubsidiary\\\\\":null,\\\\\"smallGiantCompanyTypeCode\\\\\":\\\\\"0\\\\\",\\\\\"excellentSmallCompanyTypeCode\\\\\":0,\\\\\"awardInfo\\\\\":\\\\\"0\\\\\",\\\\\"goodWorkCompanyCodeList\\\\\":null,\\\\\"productStatus\\\\\":0,\\\\\"companyLogoPath\\\\\":\\\\\"/Images/Logo/128/r/g/2331q00qjlexwcd59_3920b9dbvymqjwq2qb.gif?p=y\\\\u0026hash=c\\\\\",\\\\\"textLogoPath\\\\\":null,\\\\\"oemNo\\\\\":\\\\\"700\\\\\",\\\\\"rewardAmount\\\\\":0,\\\\\"readCount\\\\\":204,\\\\\"badges\\\\\":[{\\\\\"code\\\\\":\\\\\"WAITING_FOR_APPLICANTS\\\\\",\\\\\"attributes\\\\\":{}}],\\\\\"badgesV2\\\\\":[{\\\\\"code\\\\\":\\\\\"FROM_MID_SIZED_ENTERPRISE\\\\\",\\\\\"attributes\\\\\":{}}],\\\\\"_internal_score\\\\\":9525.4375,\\\\\"_internal_weightValue\\\\\":40,\\\\\"_internal_keywordList\\\\\":[\\\\\"전자상거래\\\\\"],\\\\\"_internal_featureWorkCode\\\\\":\\\\\"데이터사이언티스트,데이터 사이언티스트\\\\\",\\\\\"_internal_featureIndustryCode\\\\\":\\\\\"오픈마켓,쇼핑몰,소셜커머스,연구,ai\\\\\",\\\\\"_internal_featureToolCode\\\\\":\\\\\"\\\\\",\\\\\"_internal_featureSkillCode\\\\\":\\\\\"Scientist,Data,모델링,연구,검증,성능개선,개발,설계,실험,ml\\\\\",\\\\\"_internal_featureCompanyCode\\\\\":\\\\\"위대한상상,요기요\\\\\",\\\\\"_internal_featureLocationCode\\\\\":\\\\\"강남구\\\\\",\\\\\"_internal_featureTotalCode\\\\\":\\\\\"모델링,pytorch,오픈마켓,Scientist,ai,검증,github,데이터사이언티스트,성능개선,데이터 사이언티스트,mlflow,개발,tensorflow,Data,python,강남구,실험,ml,연구,airflow,쇼핑몰,소셜커머스,요기요,위대한상상,설계,sql\\\\\",\\\\\"popularityScore\\\\\":91,\\\\\"payRange\\\\\":{\\\\\"start\\\\\":\\\\\"0\\\\\",\\\\\"end\\\\\":\\\\\"0\\\\\"},\\\\\"isAppliedJob\\\\\":false,\\\\\"jobClassificationOrIndustry\\\\\":\\\\\",쇼핑몰·오픈마켓·소셜커머스,데이터사이언티스트,\\\\\",\\\\\"memberId\\\\\":\\\\\"rgpkorea2\\\\\",\\\\\"payTypeCode\\\\\":0,\\\\\"isStarter\\\\\":\\\\\"1\\\\\",\\\\\"urlName\\\\\":\\\\\"1816096\\\\\",\\\\\"companyTypeCode\\\\\":2},{\\\\\"id\\\\\":\\\\\"47800093\\\\\",\\\\\"legacyJobNo\\\\\":\\\\\"49687778\\\\\",\\\\\"title\\\\\":\\\\\"데이터 사이언티스트 특별 채용 [경력-1년이상 모집]\\\\\",\\\\\"createdAt\\\\\":\\\\\"2025-10-01T00:00:00+09:00\\\\\",\\\\\"postingCompanyName\\\\\":\\\\\"㈜애드이피션시\\\\\",\\\\\"userRefType\\\\\":\\\\\"C\\\\\",\\\\\"memberSystemNo\\\\\":\\\\\"17892798\\\\\",\\\\\"jobOrIndustryCodeList\\\\\":[\\\\\"1000032\\\\\",\\\\\"1000237\\\\\"],\\\\\"employmentTypeCodeList\\\\\":[\\\\\"1/0\\\\\"],\\\\\"areaCodeList\\\\\":[\\\\\"I150\\\\\"],\\\\\"careerType\\\\\":\\\\\"2\\\\\",\\\\\"careerRange\\\\\":2,\\\\\"educationCode\\\\\":\\\\\"5\\\\\",\\\\\"benefitNameList\\\\\":[],\\\\\"companyName\\\\\":\\\\\"㈜애드이피션시\\\\\",\\\\\"companyType\\\\\":\\\\\"0\\\\\",\\\\\"isExposeWorkCompany\\\\\":false,\\\\\"receptionOptionType\\\\\":\\\\\"100000\\\\\",\\\\\"applicationPeriod\\\\\":{\\\\\"start\\\\\":\\\\\"2025-10-01T00:00:00+09:00\\\\\",\\\\\"end\\\\\":\\\\\"2025-10-31T23:00:00+09:00\\\\\"},\\\\\"isSubcontract\\\\\":false,\\\\\"isNewcomerJob\\\\\":false,\\\\\"jobTypeCode\\\\\":null,\\\\\"isExistProductLogo\\\\\":true,\\\\\"stockTypeCode\\\\\":\\\\\"0\\\\\",\\\\\"companyRank\\\\\":0,\\\\\"companySubsidiary\\\\\":null,\\\\\"smallGiantCompanyTypeCode\\\\\":\\\\\"0\\\\\",\\\\\"excellentSmallCompanyTypeCode\\\\\":0,\\\\\"awardInfo\\\\\":\\\\\"0\\\\\",\\\\\"goodWorkCompanyCodeList\\\\\":null,\\\\\"productStatus\\\\\":0,\\\\\"companyLogoPath\\\\\":\\\\\"/Images/Logo/128/a/d/2617q00qqdm98432_3820z8czpxf8517qz.gif?p=y\\\\u0026hash=c\\\\\",\\\\\"textLogoPath\\\\\":null,\\\\\"oemNo\\\\\":\\\\\"1\\\\\",\\\\\"rewardAmount\\\\\":0,\\\\\"readCount\\\\\":534,\\\\\"badges\\\\\":[{\\\\\"code\\\\\":\\\\\"LUCKY_JOB_OPPORTUNITY\\\\\",\\\\\"attributes\\\\\":{}}],\\\\\"badgesV2\\\\\":[{\\\\\"code\\\\\":\\\\\"FROM_MID_SIZED_ENTERPRISE\\\\\",\\\\\"attributes\\\\\":{}}],\\\\\"_internal_score\\\\\":9237.966,\\\\\"_internal_weightValue\\\\\":40,\\\\\"_internal_keywordList\\\\\":[\\\\\"광고대행\\\\\",\\\\\"데이터시각화\\\\\",\\\\\"BI\\\\\",\\\\\"온라인광고\\\\\",\\\\\"데이터분석\\\\\",\\\\\"광고기획\\\\\",\\\\\"분석모델링\\\\\"],\\\\\"_internal_featureWorkCode\\\\\":\\\\\"데이터사이언티스트,데이터 사이언티스트\\\\\",\\\\\"_internal_featureIndustryCode\\\\\":\\\\\"홍보,광고,전시,디지털\\\\\",\\\\\"_internal_featureToolCode\\\\\":\\\\\"\\\\\",\\\\\"_internal_featureSkillCode\\\\\":\\\\\"데이터분석,디지털마케팅,데이터분석,광고데이터분석,브랜딩마케팅,sa,bi리포트,인사이트도출\\\\\",\\\\\"_internal_featureCompanyCode\\\\\":\\\\\"애드이피션시\\\\\",\\\\\"_internal_featureLocationCode\\\\\":\\\\\"서초구,강남\\\\\",\\\\\"_internal_featureTotalCode\\\\\":\\\\\"디지털마케팅,홍보,전시,브랜딩마케팅,sa,데이터사이언티스트,데이터 사이언티스트,강남,디지털,애드이피션시,서초구,광고,데이터분석,광고데이터분석,bi리포트,인사이트도출\\\\\",\\\\\"popularityScore\\\\\":239,\\\\\"payRange\\\\\":{\\\\\"start\\\\\":\\\\\"0\\\\\",\\\\\"end\\\\\":\\\\\"0\\\\\"},\\\\\"isAppliedJob\\\\\":false,\\\\\"jobClassificationOrIndustry\\\\\":\\\\\",광고·홍보·전시,데이터사이언티스트,\\\\\",\\\\\"memberId\\\\\":\\\\\"adef2038\\\\\",\\\\\"payTypeCode\\\\\":0,\\\\\"isStarter\\\\\":\\\\\"1\\\\\",\\\\\"urlName\\\\\":\\\\\"16151777\\\\\",\\\\\"companyTypeCode\\\\\":2},{\\\\\"id\\\\\":\\\\\"47846951\\\\\",\\\\\"legacyJobNo\\\\\":\\\\\"49727550\\\\\",\\\\\"title\\\\\":\\\\\"[GS리테일] DX본부 플랫폼데이터분석팀/홈쇼핑데이터분석팀 데이터 사이언티스트 채용\\\\\",\\\\\"createdAt\\\\\":\\\\\"2025-10-14T00:00:00+09:00\\\\\",\\\\\"postingCompanyName\\\\\":\\\\\"GS리테일\\\\\",\\\\\"userRefType\\\\\":\\\\\"C\\\\\",\\\\\"memberSystemNo\\\\\":\\\\\"242684\\\\\",\\\\\"jobOrIndustryCodeList\\\\\":[\\\\\"1000016\\\\\",\\\\\"1000229\\\\\",\\\\\"1000236\\\\\",\\\\\"1000242\\\\\",\\\\\"1000237\\\\\"],\\\\\"employmentTypeCodeList\\\\\":[\\\\\"1/0\\\\\"],\\\\\"areaCodeList\\\\\":[\\\\\"I200\\\\\",\\\\\"I130\\\\\",\\\\\"I210\\\\\",\\\\\"I070\\\\\",\\\\\"I080\\\\\",\\\\\"I050\\\\\",\\\\\"I000\\\\\"],\\\\\"careerType\\\\\":\\\\\"2\\\\\",\\\\\"careerRange\\\\\":100,\\\\\"educationCode\\\\\":\\\\\"5\\\\\",\\\\\"benefitNameList\\\\\":[\\\\\"사내 어린이집\\\\\",\\\\\"휴양시설 지원\\\\\",\\\\\"경조사 지원 \\\\\",\\\\\"업무활동비 지원\\\\\",\\\\\"의료비 지원\\\\\",\\\\\"유연근무\\\\\",\\\\\"임직원 할인\\\\\",\\\\\"각종 교육비 지원\\\\\"],\\\\\"companyName\\\\\":\\\\\"GS리테일\\\\\",\\\\\"companyType\\\\\":\\\\\"0\\\\\",\\\\\"isExposeWorkCompany\\\\\":false,\\\\\"receptionOptionType\\\\\":\\\\\"000010\\\\\",\\\\\"applicationPeriod\\\\\":{\\\\\"start\\\\\":\\\\\"2025-10-14T00:00:00+09:00\\\\\",\\\\\"end\\\\\":\\\\\"2025-10-24T23:00:00+09:00\\\\\"},\\\\\"isSubcontract\\\\\":false,\\\\\"isNewcomerJob\\\\\":false,\\\\\"jobTypeCode\\\\\":null,\\\\\"isExistProductLogo\\\\\":true,\\\\\"stockTypeCode\\\\\":\\\\\"1\\\\\",\\\\\"companyRank\\\\\":84,\\\\\"companySubsidiary\\\\\":\\\\\"GS그룹\\\\\",\\\\\"smallGiantCompanyTypeCode\\\\\":\\\\\"0\\\\\",\\\\\"excellentSmallCompanyTypeCode\\\\\":0,\\\\\"awardInfo\\\\\":\\\\\"2015/Web\\\\\",\\\\\"goodWorkCompanyCodeList\\\\\":[\\\\\"1\\\\\",\\\\\"2\\\\\",\\\\\"3\\\\\",\\\\\"5\\\\\"],\\\\\"productStatus\\\\\":1,\\\\\"companyLogoPath\\\\\":\\\\\"/Images/Logo/128/l/g/2973l00lswzol2_2020t6atppnvvlt.gif?p=y\\\\u0026hash=c\\\\\",\\\\\"textLogoPath\\\\\":null,\\\\\"oemNo\\\\\":\\\\\"1\\\\\",\\\\\"rewardAmount\\\\\":0,\\\\\"readCount\\\\\":5322,\\\\\"badges\\\\\":[{\\\\\"code\\\\\":\\\\\"VIEWS_OVER_1000\\\\\",\\\\\"attributes\\\\\":{}}],\\\\\"badgesV2\\\\\":[{\\\\\"code\\\\\":\\\\\"FLEXIBLE_WORK\\\\\",\\\\\"attributes\\\\\":{}}],\\\\\"_internal_score\\\\\":9189.789,\\\\\"_internal_weightValue\\\\\":90,\\\\\"_internal_keywordList\\\\\":[\\\\\"마트\\\\\",\\\\\"유통\\\\\",\\\\\"편의점\\\\\",\\\\\"서버관리\\\\\",\\\\\"클라이언트\\\\\",\\\\\"핀테크\\\\\",\\\\\"HTTP\\\\\",\\\\\"SI개발\\\\\",\\\\\"빅데이터\\\\\",\\\\\"데이터레이크\\\\\",\\\\\"ETL\\\\\",\\\\\"데이터파이프라인\\\\\",\\\\\"BI\\\\\",\\\\\"데이터분석\\\\\",\\\\\"데이터시각화\\\\\",\\\\\"분석모델링\\\\\",\\\\\"모델링\\\\\",\\\\\"딥러닝\\\\\",\\\\\"자연어처리(NLP)\\\\\",\\\\\"음성인식\\\\\",\\\\\"이미지프로세싱\\\\\",\\\\\"인공지능\\\\\",\\\\\"챗봇\\\\\"],\\\\\"_internal_featureWorkCode\\\\\":\\\\\"백엔드개발자,데이터엔지니어,데이터사이언티스트,AI/ML엔지니어,데이터 사이언티스트\\\\\",\\\\\"_internal_featureIndustryCode\\\\\":\\\\\"백화점,유통,도소매,리테일,유통\\\\\",\\\\\"_internal_featureToolCode\\\\\":\\\\\"\\\\\",\\\\\"_internal_featureSkillCode\\\\\":\\\\\"지원,홈페이지,운영,데이터분석,리테일,원인분석,전략수립,수요예측,실행지원,머신러닝,예측,인사이트도출\\\\\",\\\\\"_internal_featureCompanyCode\\\\\":\\\\\"GS리테일,gs리테일\\\\\",\\\\\"_internal_featureLocationCode\\\\\":\\\\\"영등포구,문래,구로구,용산구,관악구,서울전지역,양평,금천구,마포구,영등포구청\\\\\",\\\\\"_internal_featureTotalCode\\\\\":\\\\\"문래,유통,관악구,양평,업무활동비 지원,데이터사이언티스트,의료비 지원,aws,영등포구청,머신러닝,데이터분석,서울전지역,데이터엔지니어,전략수립,금천구,유연근무,예측,임직원 할인,인사이트도출,GS리테일,gs리테일,영등포구,휴양시설 지원,리테일,운영,백엔드개발자,경조사 지원 ,지원,데이터 사이언티스트,수요예측,python,각종 교육비 지원,r,백화점,사내 어린이집,구로구,용산구,원인분석,도소매,홈페이지,마포구,실행지원,AI/ML엔지니어,sql\\\\\",\\\\\"popularityScore\\\\\":2925,\\\\\"payRange\\\\\":{\\\\\"start\\\\\":\\\\\"0\\\\\",\\\\\"end\\\\\":\\\\\"0\\\\\"},\\\\\"isAppliedJob\\\\\":false,\\\\\"jobClassificationOrIndustry\\\\\":\\\\\",백화점·유통·도소매,백엔드개발자,데이터엔지니어,데이터사이언티스트,AI/ML엔지니어,\\\\\",\\\\\"memberId\\\\\":\\\\\"lgmart\\\\\",\\\\\"payTypeCode\\\\\":0,\\\\\"isStarter\\\\\":\\\\\"1\\\\\",\\\\\"urlName\\\\\":\\\\\"1453517\\\\\",\\\\\"companyTypeCode\\\\\":3},{\\\\\"id\\\\\":\\\\\"47864720\\\\\",\\\\\"legacyJobNo\\\\\":\\\\\"49743439\\\\\",\\\\\"title\\\\\":\\\\\"디지털 헬스케어 / 데이터 사이언티스트\\\\\",\\\\\"createdAt\\\\\":\\\\\"2025-10-16T00:00:00+09:00\\\\\",\\\\\"postingCompanyName\\\\\":\\\\\"렉스소프트㈜\\\\\",\\\\\"userRefType\\\\\":\\\\\"C\\\\\",\\\\\"memberSystemNo\\\\\":\\\\\"30501562\\\\\",\\\\\"jobOrIndustryCodeList\\\\\":[\\\\\"1000038\\\\\",\\\\\"1000237\\\\\",\\\\\"1000236\\\\\",\\\\\"1000337\\\\\"],\\\\\"employmentTypeCodeList\\\\\":[\\\\\"1/0\\\\\"],\\\\\"areaCodeList\\\\\":[\\\\\"I050\\\\\"],\\\\\"careerType\\\\\":\\\\\"3\\\\\",\\\\\"careerRange\\\\\":2,\\\\\"educationCode\\\\\":\\\\\"5\\\\\",\\\\\"benefitNameList\\\\\":[\\\\\"건강보험\\\\\"],\\\\\"companyName\\\\\":\\\\\"렉스소프트㈜\\\\\",\\\\\"companyType\\\\\":\\\\\"0\\\\\",\\\\\"isExposeWorkCompany\\\\\":false,\\\\\"receptionOptionType\\\\\":\\\\\"100000\\\\\",\\\\\"applicationPeriod\\\\\":{\\\\\"start\\\\\":\\\\\"2025-10-16T00:00:00+09:00\\\\\",\\\\\"end\\\\\":\\\\\"2025-11-15T23:00:00+09:00\\\\\"},\\\\\"isSubcontract\\\\\":false,\\\\\"isNewcomerJob\\\\\":false,\\\\\"jobTypeCode\\\\\":null,\\\\\"isExistProductLogo\\\\\":true,\\\\\"stockTypeCode\\\\\":\\\\\"0\\\\\",\\\\\"companyRank\\\\\":0,\\\\\"companySubsidiary\\\\\":null,\\\\\"smallGiantCompanyTypeCode\\\\\":\\\\\"0\\\\\",\\\\\"excellentSmallCompanyTypeCode\\\\\":0,\\\\\"awardInfo\\\\\":\\\\\"0\\\\\",\\\\\"goodWorkCompanyCodeList\\\\\":null,\\\\\"productStatus\\\\\":0,\\\\\"companyLogoPath\\\\\":\\\\\"/Images/Logo/128/w/o/2453w00wmjdnwxfez2_3520gaegxsghejd94wg.gif?p=y\\\\u0026hash=c\\\\\",\\\\\"textLogoPath\\\\\":null,\\\\\"oemNo\\\\\":\\\\\"1\\\\\",\\\\\"rewardAmount\\\\\":0,\\\\\"readCount\\\\\":275,\\\\\"badges\\\\\":[{\\\\\"code\\\\\":\\\\\"LUCKY_JOB_OPPORTUNITY\\\\\",\\\\\"attributes\\\\\":{}}],\\\\\"badgesV2\\\\\":[{\\\\\"code\\\\\":\\\\\"ENTRY_NEWBIE\\\\\",\\\\\"attributes\\\\\":{}}],\\\\\"_internal_score\\\\\":9144.661,\\\\\"_internal_weightValue\\\\\":10,\\\\\"_internal_keywordList\\\\\":[\\\\\"보건의학통계\\\\\",\\\\\"데이터분석\\\\\",\\\\\"소프트웨어개발\\\\\"],\\\\\"_internal_featureWorkCode\\\\\":\\\\\"연구원,데이터엔지니어,데이터사이언티스트,R\\\\u0026D,데이터 분석가,데이터 사이언티스트\\\\\",\\\\\"_internal_featureIndustryCode\\\\\":\\\\\"CRM,SI,ERP,솔루션,디지털헬스케어\\\\\",\\\\\"_internal_featureToolCode\\\\\":\\\\\"\\\\\",\\\\\"_internal_featureSkillCode\\\\\":\\\\\"헬스케어,데이터사이언티스트,디지털,모델링,구조설계,데이터품질관리,버전관리,데이터전처리,문서화,코드리뷰,기술지원,데이터정제,해석,qc\\\\\",\\\\\"_internal_featureCompanyCode\\\\\":\\\\\"렉스소프트\\\\\",\\\\\"_internal_featureLocationCode\\\\\":\\\\\"관악구\\\\\",\\\\\"_internal_featureTotalCode\\\\\":\\\\\"데이터 분석가,관악구,건강보험,데이터사이언티스트,디지털,데이터품질관리,데이터엔지니어,ERP,git,R\\\\u0026D,렉스소프트,해석,qc,솔루션,모델링,구조설계,CRM,헬스케어,버전관리,데이터 사이언티스트,디지털헬스케어,코드리뷰,r,SI,연구원,데이터전처리,문서화,기술지원,데이터정제\\\\\",\\\\\"popularityScore\\\\\":294,\\\\\"payRange\\\\\":{\\\\\"start\\\\\":\\\\\"0\\\\\",\\\\\"end\\\\\":\\\\\"0\\\\\"},\\\\\"isAppliedJob\\\\\":false,\\\\\"jobClassificationOrIndustry\\\\\":\\\\\",솔루션·SI·CRM·ERP,데이터엔지니어,데이터사이언티스트,R\\\\u0026amp;D·연구원,\\\\\",\\\\\"memberId\\\\\":\\\\\"wonlabsnu1\\\\\",\\\\\"payTypeCode\\\\\":0,\\\\\"isStarter\\\\\":\\\\\"0\\\\\",\\\\\"urlName\\\\\":\\\\\"\\\\\",\\\\\"companyTypeCode\\\\\":5},{\\\\\"id\\\\\":\\\\\"47855747\\\\\",\\\\\"legacyJobNo\\\\\":\\\\\"49735462\\\\\",\\\\\"title\\\\\":\\\\\"데이터 사이언티스트 영입\\\\\",\\\\\"createdAt\\\\\":\\\\\"2025-10-15T00:00:00+09:00\\\\\",\\\\\"postingCompanyName\\\\\":\\\\\"㈜아이티아이즈\\\\\",\\\\\"userRefType\\\\\":\\\\\"C\\\\\",\\\\\"memberSystemNo\\\\\":\\\\\"35717821\\\\\",\\\\\"jobOrIndustryCodeList\\\\\":[\\\\\"1000038\\\\\",\\\\\"1000188\\\\\",\\\\\"1000239\\\\\"],\\\\\"employmentTypeCodeList\\\\\":[\\\\\"1/0\\\\\"],\\\\\"areaCodeList\\\\\":[\\\\\"I200\\\\\"],\\\\\"careerType\\\\\":\\\\\"2\\\\\",\\\\\"careerRange\\\\\":100,\\\\\"educationCode\\\\\":\\\\\"4\\\\\",\\\\\"benefitNameList\\\\\":[],\\\\\"companyName\\\\\":\\\\\"㈜아이티아이즈\\\\\",\\\\\"companyType\\\\\":\\\\\"0\\\\\",\\\\\"isExposeWorkCompany\\\\\":false,\\\\\"receptionOptionType\\\\\":\\\\\"100000\\\\\",\\\\\"applicationPeriod\\\\\":{\\\\\"start\\\\\":\\\\\"2025-10-15T00:00:00+09:00\\\\\",\\\\\"end\\\\\":\\\\\"2070-01-01T00:00:00+09:00\\\\\"},\\\\\"isSubcontract\\\\\":false,\\\\\"isNewcomerJob\\\\\":false,\\\\\"jobTypeCode\\\\\":null,\\\\\"isExistProductLogo\\\\\":false,\\\\\"stockTypeCode\\\\\":\\\\\"2\\\\\",\\\\\"companyRank\\\\\":0,\\\\\"companySubsidiary\\\\\":null,\\\\\"smallGiantCompanyTypeCode\\\\\":\\\\\"0\\\\\",\\\\\"excellentSmallCompanyTypeCode\\\\\":0,\\\\\"awardInfo\\\\\":\\\\\"0\\\\\",\\\\\"goodWorkCompanyCodeList\\\\\":null,\\\\\"productStatus\\\\\":0,\\\\\"companyLogoPath\\\\\":\\\\\"//img1/_whitebg/200X80/Co_Logo/Logo/2023/10/11/JK_CO_yPHnEtf23101115493123.png?v=202510231303\\\\\",\\\\\"textLogoPath\\\\\":null,\\\\\"oemNo\\\\\":\\\\\"1\\\\\",\\\\\"rewardAmount\\\\\":0,\\\\\"readCount\\\\\":192,\\\\\"badges\\\\\":[{\\\\\"code\\\\\":\\\\\"LUCKY_JOB_OPPORTUNITY\\\\\",\\\\\"attributes\\\\\":{}}],\\\\\"badgesV2\\\\\":[],\\\\\"_internal_score\\\\\":8906.002,\\\\\"_internal_weightValue\\\\\":10,\\\\\"_internal_keywordList\\\\\":[\\\\\"솔루션\\\\\",\\\\\"PM\\\\\",\\\\\"SI\\\\\",\\\\\"SI개발\\\\\",\\\\\"소프트웨어개발\\\\\"],\\\\\"_internal_featureWorkCode\\\\\":\\\\\"PL,PO,PM,소프트웨어개발자,데이터 사이언티스트\\\\\",\\\\\"_internal_featureIndustryCode\\\\\":\\\\\"CRM,SI,ERP,솔루션,솔루션개발,ai,자산운용,신용평가\\\\\",\\\\\"_internal_featureToolCode\\\\\":\\\\\"\\\\\",\\\\\"_internal_featureSkillCode\\\\\":\\\\\"에너지,개발자,영입,솔루션,솔루션개발,리스크관리,데이터분석,자산운용,데이터전처리,머신러닝모델개발,분석,최적화\\\\\",\\\\\"_internal_featureCompanyCode\\\\\":\\\\\"아이티아이즈\\\\\",\\\\\"_internal_featureLocationCode\\\\\":\\\\\"영등포구,여의도,국회의사당\\\\\",\\\\\"_internal_featureTotalCode\\\\\":\\\\\"에너지,솔루션개발,PL,영등포구,PO,CRM,아이티아이즈,ai,영입,머신러닝모델개발,데이터 사이언티스트,python,최적화,소프트웨어개발자,국회의사당,신용평가,리스크관리,SI,개발자,데이터분석,자산운용,ERP,PM,데이터전처리,여의도,분석,솔루션\\\\\",\\\\\"popularityScore\\\\\":173,\\\\\"payRange\\\\\":{\\\\\"start\\\\\":\\\\\"0\\\\\",\\\\\"end\\\\\":\\\\\"0\\\\\"},\\\\\"isAppliedJob\\\\\":false,\\\\\"jobClassificationOrIndustry\\\\\":\\\\\",솔루션·SI·CRM·ERP,PL·PM·PO,소프트웨어개발자,\\\\\",\\\\\"memberId\\\\\":\\\\\"iteyes6710\\\\\",\\\\\"payTypeCode\\\\\":0,\\\\\"isStarter\\\\\":null,\\\\\"urlName\\\\\":null,\\\\\"companyTypeCode\\\\\":1},{\\\\\"id\\\\\":\\\\\"47845534\\\\\",\\\\\"legacyJobNo\\\\\":\\\\\"49726246\\\\\",\\\\\"title\\\\\":\\\\\"(주)세스코 DS(Data Scientist) 모집\\\\\",\\\\\"createdAt\\\\\":\\\\\"2025-10-14T00:00:00+09:00\\\\\",\\\\\"postingCompanyName\\\\\":\\\\\"㈜세스코\\\\\",\\\\\"userRefType\\\\\":\\\\\"C\\\\\",\\\\\"memberSystemNo\\\\\":\\\\\"109963\\\\\",\\\\\"jobOrIndustryCodeList\\\\\":[\\\\\"1000028\\\\\",\\\\\"1000235\\\\\",\\\\\"1000236\\\\\",\\\\\"1000237\\\\\"],\\\\\"employmentTypeCodeList\\\\\":[\\\\\"1/0\\\\\"],\\\\\"areaCodeList\\\\\":[\\\\\"I020\\\\\"],\\\\\"careerType\\\\\":\\\\\"2\\\\\",\\\\\"careerRange\\\\\":10,\\\\\"educationCode\\\\\":\\\\\"5\\\\\",\\\\\"benefitNameList\\\\\":[\\\\\"저녁 식사 지원\\\\\",\\\\\"4대보험\\\\\",\\\\\"휴양시설 지원\\\\\",\\\\\"카페테리아\\\\\",\\\\\"자녀 교육비 지원 \\\\\",\\\\\"임직원 할인\\\\\"],\\\\\"companyName\\\\\":\\\\\"㈜세스코\\\\\",\\\\\"companyType\\\\\":\\\\\"0\\\\\",\\\\\"isExposeWorkCompany\\\\\":false,\\\\\"receptionOptionType\\\\\":\\\\\"000010\\\\\",\\\\\"applicationPeriod\\\\\":{\\\\\"start\\\\\":\\\\\"2025-10-14T00:00:00+09:00\\\\\",\\\\\"end\\\\\":\\\\\"2025-10-28T23:00:00+09:00\\\\\"},\\\\\"isSubcontract\\\\\":false,\\\\\"isNewcomerJob\\\\\":false,\\\\\"jobTypeCode\\\\\":null,\\\\\"isExistProductLogo\\\\\":true,\\\\\"stockTypeCode\\\\\":\\\\\"0\\\\\",\\\\\"companyRank\\\\\":0,\\\\\"companySubsidiary\\\\\":null,\\\\\"smallGiantCompanyTypeCode\\\\\":\\\\\"0\\\\\",\\\\\"excellentSmallCompanyTypeCode\\\\\":0,\\\\\"awardInfo\\\\\":\\\\\"0\\\\\",\\\\\"goodWorkCompanyCodeList\\\\\":null,\\\\\"productStatus\\\\\":0,\\\\\"companyLogoPath\\\\\":\\\\\"/Images/Logo/128/k/i/2973y00yfwzyf2_2020a6aaixxukya.gif?p=y\\\\u0026hash=c\\\\\",\\\\\"textLogoPath\\\\\":null,\\\\\"oemNo\\\\\":\\\\\"1\\\\\",\\\\\"rewardAmount\\\\\":0,\\\\\"readCount\\\\\":183,\\\\\"badges\\\\\":[{\\\\\"code\\\\\":\\\\\"RECOMMENDED_JOB_CHANGE\\\\\",\\\\\"attributes\\\\\":{}}],\\\\\"badgesV2\\\\\":[{\\\\\"code\\\\\":\\\\\"FROM_MID_SIZED_ENTERPRISE\\\\\",\\\\\"attributes\\\\\":{}}],\\\\\"_internal_score\\\\\":8875.957,\\\\\"_internal_weightValue\\\\\":40,\\\\\"_internal_keywordList\\\\\":[\\\\\"빅데이터\\\\\",\\\\\"데이터관리\\\\\",\\\\\"데이터레이크\\\\\",\\\\\"DBMS\\\\\",\\\\\"데이터시각화\\\\\",\\\\\"ETL\\\\\",\\\\\"BI\\\\\",\\\\\"모델링\\\\\",\\\\\"데이터분석\\\\\",\\\\\"분석모델링\\\\\",\\\\\"데이터마이닝\\\\\",\\\\\"DW모델러\\\\\",\\\\\"데이터파이프라인\\\\\"],\\\\\"_internal_featureWorkCode\\\\\":\\\\\"데이터엔지니어,데이터사이언티스트,DBA,데이터 사이언티스트,영업\\\\\",\\\\\"_internal_featureIndustryCode\\\\\":\\\\\"바이오,제약,보건,ai\\\\\",\\\\\"_internal_featureToolCode\\\\\":\\\\\"\\\\\",\\\\\"_internal_featureSkillCode\\\\\":\\\\\"Scientist,Data,리포팅,데이터시각화,컴퓨터공학,통계학,데이터분석,수학,보고서작성,분류,분석,모델개발,머신러닝,예측,ml\\\\\",\\\\\"_internal_featureCompanyCode\\\\\":\\\\\"세스코,세스코\\\\\",\\\\\"_internal_featureLocationCode\\\\\":\\\\\"상일동,강동구\\\\\",\\\\\"_internal_featureTotalCode\\\\\":\\\\\"리포팅,ai,수학,데이터사이언티스트,분류,강동구,머신러닝,ml,세스코,데이터시각화,데이터분석,데이터엔지니어,자녀 교육비 지원 ,제약,모델개발,예측,보건,임직원 할인,Scientist,컴퓨터공학,휴양시설 지원,상일동,보고서작성,바이오,ds,데이터 사이언티스트,Data,python,영업,r,저녁 식사 지원,4대보험,카페테리아,통계학,DBA,분석,sql\\\\\",\\\\\"popularityScore\\\\\":120,\\\\\"payRange\\\\\":{\\\\\"start\\\\\":\\\\\"0\\\\\",\\\\\"end\\\\\":\\\\\"0\\\\\"},\\\\\"isAppliedJob\\\\\":false,\\\\\"jobClassificationOrIndustry\\\\\":\\\\\",제약·보건·바이오,DBA,데이터엔지니어,데이터사이언티스트,\\\\\",\\\\\"memberId\\\\\":\\\\\"kimsky\\\\\",\\\\\"payTypeCode\\\\\":0,\\\\\"isStarter\\\\\":\\\\\"1\\\\\",\\\\\"urlName\\\\\":\\\\\"1384599\\\\\",\\\\\"companyTypeCode\\\\\":2},{\\\\\"id\\\\\":\\\\\"47841788\\\\\",\\\\\"legacyJobNo\\\\\":\\\\\"49722851\\\\\",\\\\\"title\\\\\":\\\\\"AI 소재 데이터사이언티스트 (AI Materials Data Scientist)\\\\\",\\\\\"createdAt\\\\\":\\\\\"2025-10-13T00:00:00+09:00\\\\\",\\\\\"postingCompanyName\\\\\":\\\\\"㈜에이아이스타\\\\\",\\\\\"userRefType\\\\\":\\\\\"C\\\\\",\\\\\"memberSystemNo\\\\\":\\\\\"37821611\\\\\",\\\\\"jobOrIndustryCodeList\\\\\":[\\\\\"1000038\\\\\",\\\\\"1000242\\\\\"],\\\\\"employmentTypeCodeList\\\\\":[\\\\\"1/0\\\\\"],\\\\\"areaCodeList\\\\\":[\\\\\"I150\\\\\"],\\\\\"careerType\\\\\":\\\\\"2\\\\\",\\\\\"careerRange\\\\\":2,\\\\\"educationCode\\\\\":\\\\\"5\\\\\",\\\\\"benefitNameList\\\\\":[\\\\\"교육/세미나/스터디\\\\\",\\\\\"유연근무\\\\\"],\\\\\"companyName\\\\\":\\\\\"㈜에이아이스타\\\\\",\\\\\"companyType\\\\\":\\\\\"0\\\\\",\\\\\"isExposeWorkCompany\\\\\":false,\\\\\"receptionOptionType\\\\\":\\\\\"100000\\\\\",\\\\\"applicationPeriod\\\\\":{\\\\\"start\\\\\":\\\\\"2025-10-13T00:00:00+09:00\\\\\",\\\\\"end\\\\\":\\\\\"2025-12-12T23:00:00+09:00\\\\\"},\\\\\"isSubcontract\\\\\":false,\\\\\"isNewcomerJob\\\\\":false,\\\\\"jobTypeCode\\\\\":null,\\\\\"isExistProductLogo\\\\\":false,\\\\\"stockTypeCode\\\\\":\\\\\"0\\\\\",\\\\\"companyRank\\\\\":0,\\\\\"companySubsidiary\\\\\":null,\\\\\"smallGiantCompanyTypeCode\\\\\":\\\\\"0\\\\\",\\\\\"excellentSmallCompanyTypeCode\\\\\":0,\\\\\"awardInfo\\\\\":\\\\\"0\\\\\",\\\\\"goodWorkCompanyCodeList\\\\\":null,\\\\\"productStatus\\\\\":0,\\\\\"companyLogoPath\\\\\":\\\\\"//img1/_whitebg/200X80/Co_Logo/Logo/2025/4/24/JK_CO_ZhASimw25042409305604.jpg?v=202510231303\\\\\",\\\\\"textLogoPath\\\\\":null,\\\\\"oemNo\\\\\":\\\\\"1\\\\\",\\\\\"rewardAmount\\\\\":0,\\\\\"readCount\\\\\":134,\\\\\"badges\\\\\":[{\\\\\"code\\\\\":\\\\\"RECOMMENDED_JOB_CHANGE\\\\\",\\\\\"attributes\\\\\":{}}],\\\\\"badgesV2\\\\\":[{\\\\\"code\\\\\":\\\\\"FLEXIBLE_WORK\\\\\",\\\\\"attributes\\\\\":{}}],\\\\\"_internal_score\\\\\":8721.868,\\\\\"_internal_weightValue\\\\\":10,\\\\\"_internal_keywordList\\\\\":[\\\\\"BigData\\\\\",\\\\\"딥러닝\\\\\",\\\\\"인공지능\\\\\",\\\\\"자연어처리(NLP)\\\\\",\\\\\"챗봇\\\\\",\\\\\"SI\\\\\",\\\\\"DataMining\\\\\",\\\\\"모델링\\\\\"],\\\\\"_internal_featureWorkCode\\\\\":\\\\\"AI/ML엔지니어,데이터 사이언티스트\\\\\",\\\\\"_internal_featureIndustryCode\\\\\":\\\\\"CRM,SI,ERP,솔루션,에너지,ai,바이오,인공지능\\\\\",\\\\\"_internal_featureToolCode\\\\\":\\\\\"\\\\\",\\\\\"_internal_featureSkillCode\\\\\":\\\\\"AI,소재,데이터사이언티스트,딥러닝,백엔드개발,신소재개발,개발관리,개발,신소재,머신러닝\\\\\",\\\\\"_internal_featureCompanyCode\\\\\":\\\\\"에이아이스타\\\\\",\\\\\"_internal_featureLocationCode\\\\\":\\\\\"서초구,양재시민의 숲\\\\\",\\\\\"_internal_featureTotalCode\\\\\":\\\\\"에너지,CRM,ai,AI,교육/세미나/스터디,소재,바이오,데이터사이언티스트,데이터 사이언티스트,개발관리,개발,머신러닝,에이아이스타,서초구,딥러닝,SI,백엔드개발,신소재개발,양재시민의 숲,ERP,유연근무,신소재,AI/ML엔지니어,인공지능,솔루션\\\\\",\\\\\"popularityScore\\\\\":98,\\\\\"payRange\\\\\":{\\\\\"start\\\\\":\\\\\"0\\\\\",\\\\\"end\\\\\":\\\\\"0\\\\\"},\\\\\"isAppliedJob\\\\\":false,\\\\\"jobClassificationOrIndustry\\\\\":\\\\\",솔루션·SI·CRM·ERP,AI/ML엔지니어,\\\\\",\\\\\"memberId\\\\\":\\\\\"bioai77\\\\\",\\\\\"payTypeCode\\\\\":0,\\\\\"isStarter\\\\\":null,\\\\\"urlName\\\\\":null,\\\\\"companyTypeCode\\\\\":1},{\\\\\"id\\\\\":\\\\\"47886371\\\\\",\\\\\"legacyJobNo\\\\\":\\\\\"49762210\\\\\",\\\\\"title\\\\\":\\\\\"디지털 헬스케어/데이터 사이언티스트\\\\\",\\\\\"createdAt\\\\\":\\\\\"2025-10-20T00:00:00+09:00\\\\\",\\\\\"postingCompanyName\\\\\":\\\\\"렉스소프트㈜\\\\\",\\\\\"userRefType\\\\\":\\\\\"C\\\\\",\\\\\"memberSystemNo\\\\\":\\\\\"30501562\\\\\",\\\\\"jobOrIndustryCodeList\\\\\":[\\\\\"1000038\\\\\",\\\\\"1000237\\\\\"],\\\\\"employmentTypeCodeList\\\\\":[\\\\\"1/0\\\\\"],\\\\\"areaCodeList\\\\\":[\\\\\"I050\\\\\"],\\\\\"careerType\\\\\":\\\\\"2\\\\\",\\\\\"careerRange\\\\\":0,\\\\\"educationCode\\\\\":\\\\\"5\\\\\",\\\\\"benefitNameList\\\\\":[\\\\\"4대보험\\\\\",\\\\\"퇴직연금\\\\\",\\\\\"명절선물/명절상여 지원\\\\\",\\\\\"건강보험\\\\\",\\\\\"경조사 지원 \\\\\",\\\\\"점심 식사 지원\\\\\",\\\\\"유연근무\\\\\",\\\\\"주5일제\\\\\",\\\\\"자율복장\\\\\",\\\\\"연차제도\\\\\"],\\\\\"companyName\\\\\":\\\\\"렉스소프트㈜\\\\\",\\\\\"companyType\\\\\":\\\\\"0\\\\\",\\\\\"isExposeWorkCompany\\\\\":false,\\\\\"receptionOptionType\\\\\":\\\\\"100000\\\\\",\\\\\"applicationPeriod\\\\\":{\\\\\"start\\\\\":\\\\\"2025-10-20T00:00:00+09:00\\\\\",\\\\\"end\\\\\":\\\\\"2025-11-19T23:00:00+09:00\\\\\"},\\\\\"isSubcontract\\\\\":false,\\\\\"isNewcomerJob\\\\\":false,\\\\\"jobTypeCode\\\\\":\\\\\"J\\\\\",\\\\\"isExistProductLogo\\\\\":true,\\\\\"stockTypeCode\\\\\":\\\\\"0\\\\\",\\\\\"companyRank\\\\\":0,\\\\\"companySubsidiary\\\\\":null,\\\\\"smallGiantCompanyTypeCode\\\\\":\\\\\"0\\\\\",\\\\\"excellentSmallCompanyTypeCode\\\\\":0,\\\\\"awardInfo\\\\\":\\\\\"0\\\\\",\\\\\"goodWorkCompanyCodeList\\\\\":null,\\\\\"productStatus\\\\\":0,\\\\\"companyLogoPath\\\\\":\\\\\"/Images/Logo/128/w/o/2453w00wmjdnwxfez2_3520gaegxsghejd94wg.gif?p=y\\\\u0026hash=c\\\\\",\\\\\"textLogoPath\\\\\":null,\\\\\"oemNo\\\\\":\\\\\"1\\\\\",\\\\\"rewardAmount\\\\\":1000000,\\\\\"readCount\\\\\":243,\\\\\"badges\\\\\":[{\\\\\"code\\\\\":\\\\\"RECOMMENDED_JOB_CHANGE\\\\\",\\\\\"attributes\\\\\":{}}],\\\\\"badgesV2\\\\\":[{\\\\\"code\\\\\":\\\\\"ONEPICK_REWARD_100\\\\\",\\\\\"attributes\\\\\":{}}],\\\\\"_internal_score\\\\\":8509.625,\\\\\"_internal_weightValue\\\\\":10,\\\\\"_internal_keywordList\\\\\":[\\\\\"데이터시각화\\\\\",\\\\\"데이터분석\\\\\",\\\\\"분석모델링\\\\\",\\\\\"소프트웨어개발\\\\\"],\\\\\"_internal_featureWorkCode\\\\\":\\\\\"데이터사이언티스트,데이터 분석가,데이터 사이언티스트\\\\\",\\\\\"_internal_featureIndustryCode\\\\\":\\\\\"CRM,SI,ERP,솔루션,디지털헬스케어\\\\\",\\\\\"_internal_featureToolCode\\\\\":\\\\\"\\\\\",\\\\\"_internal_featureSkillCode\\\\\":\\\\\"데이터,헬스케어,사이언티스트,디지털,모델링,구조설계,데이터품질관리,버전관리,데이터전처리,프로젝트관리,문서화,코드리뷰,기술지원,분석,데이터정제,qc\\\\\",\\\\\"_internal_featureCompanyCode\\\\\":\\\\\"렉스소프트,서울대학교\\\\\",\\\\\"_internal_featureLocationCode\\\\\":\\\\\"관악구\\\\\",\\\\\"_internal_featureTotalCode\\\\\":\\\\\"데이터 분석가,사이언티스트,퇴직연금,관악구,건강보험,데이터사이언티스트,디지털,데이터품질관리,서울대학교,ERP,git,렉스소프트,유연근무,주5일제,qc,솔루션,모델링,구조설계,CRM,데이터,헬스케어,명절선물/명절상여 지원,버전관리,경조사 지원 ,데이터 사이언티스트,코드리뷰,디지털헬스케어,자율복장,r,SI,4대보험,데이터전처리,프로젝트관리,점심 식사 지원,문서화,분석,기술지원,데이터정제,연차제도\\\\\",\\\\\"popularityScore\\\\\":258,\\\\\"payRange\\\\\":{\\\\\"start\\\\\":\\\\\"0\\\\\",\\\\\"end\\\\\":\\\\\"0\\\\\"},\\\\\"isAppliedJob\\\\\":false,\\\\\"jobClassificationOrIndustry\\\\\":\\\\\",솔루션·SI·CRM·ERP,데이터사이언티스트,\\\\\",\\\\\"memberId\\\\\":\\\\\"wonlabsnu1\\\\\",\\\\\"payTypeCode\\\\\":0,\\\\\"isStarter\\\\\":\\\\\"0\\\\\",\\\\\"urlName\\\\\":\\\\\"\\\\\",\\\\\"companyTypeCode\\\\\":5},{\\\\\"id\\\\\":\\\\\"47759722\\\\\",\\\\\"legacyJobNo\\\\\":\\\\\"49652796\\\\\",\\\\\"title\\\\\":\\\\\"데이터사이언티스트(실무 경력 2년 이상)\\\\\",\\\\\"createdAt\\\\\":\\\\\"2025-09-24T00:00:00+09:00\\\\\",\\\\\"postingCompanyName\\\\\":\\\\\"에이드리븐㈜\\\\\",\\\\\"userRefType\\\\\":\\\\\"C\\\\\",\\\\\"memberSystemNo\\\\\":\\\\\"39642672\\\\\",\\\\\"jobOrIndustryCodeList\\\\\":[\\\\\"1000032\\\\\",\\\\\"1000237\\\\\"],\\\\\"employmentTypeCodeList\\\\\":[\\\\\"1/0\\\\\"],\\\\\"areaCodeList\\\\\":[\\\\\"I010\\\\\"],\\\\\"careerType\\\\\":\\\\\"2\\\\\",\\\\\"careerRange\\\\\":2,\\\\\"educationCode\\\\\":\\\\\"0\\\\\",\\\\\"benefitNameList\\\\\":[],\\\\\"companyName\\\\\":\\\\\"에이드리븐㈜\\\\\",\\\\\"companyType\\\\\":\\\\\"0\\\\\",\\\\\"isExposeWorkCompany\\\\\":false,\\\\\"receptionOptionType\\\\\":\\\\\"100000\\\\\",\\\\\"applicationPeriod\\\\\":{\\\\\"start\\\\\":\\\\\"2025-09-24T00:00:00+09:00\\\\\",\\\\\"end\\\\\":\\\\\"2070-01-01T00:00:00+09:00\\\\\"},\\\\\"isSubcontract\\\\\":false,\\\\\"isNewcomerJob\\\\\":false,\\\\\"jobTypeCode\\\\\":null,\\\\\"isExistProductLogo\\\\\":true,\\\\\"stockTypeCode\\\\\":\\\\\"0\\\\\",\\\\\"companyRank\\\\\":0,\\\\\"companySubsidiary\\\\\":null,\\\\\"smallGiantCompanyTypeCode\\\\\":\\\\\"0\\\\\",\\\\\"excellentSmallCompanyTypeCode\\\\\":0,\\\\\"awardInfo\\\\\":\\\\\"0\\\\\",\\\\\"goodWorkCompanyCodeList\\\\\":null,\\\\\"productStatus\\\\\":0,\\\\\"companyLogoPath\\\\\":\\\\\"/Images/Logo/128/a/d/2290q00qploisjc_2620p7bpddamj2qp.gif?p=y\\\\u0026hash=c\\\\\",\\\\\"textLogoPath\\\\\":null,\\\\\"oemNo\\\\\":\\\\\"1\\\\\",\\\\\"rewardAmount\\\\\":0,\\\\\"readCount\\\\\":307,\\\\\"badges\\\\\":[{\\\\\"code\\\\\":\\\\\"LUCKY_JOB_OPPORTUNITY\\\\\",\\\\\"attributes\\\\\":{}}],\\\\\"badgesV2\\\\\":[],\\\\\"_internal_score\\\\\":6366.926,\\\\\"_internal_weightValue\\\\\":10,\\\\\"_internal_keywordList\\\\\":[\\\\\"온라인광고\\\\\",\\\\\"데이터시각화\\\\\",\\\\\"데이터분석\\\\\",\\\\\"광고기획\\\\\",\\\\\"분석모델링\\\\\",\\\\\"광고대행\\\\\"],\\\\\"_internal_featureWorkCode\\\\\":\\\\\"데이터사이언티스트,데이터 사이언티스트\\\\\",\\\\\"_internal_featureIndustryCode\\\\\":\\\\\"홍보,광고,전시,광고대행,머신\\\\\",\\\\\"_internal_featureToolCode\\\\\":\\\\\"\\\\\",\\\\\"_internal_featureSkillCode\\\\\":\\\\\"실무경력,데이터,사이언티스트,2년,이상,모델링,데이터시각화,데이터분석,앱서비스운영,사용자,효과분석,성과분석,개발,인사이트도출\\\\\",\\\\\"_internal_featureCompanyCode\\\\\":\\\\\"에이드리븐\\\\\",\\\\\"_internal_featureLocationCode\\\\\":\\\\\"강남,역삼,언주,강남구\\\\\",\\\\\"_internal_featureTotalCode\\\\\":\\\\\"홍보,사이언티스트,전시,데이터사이언티스트,numpy,개발,강남구,데이터시각화,광고,2년,광고대행,데이터분석,이상,사용자,에이드리븐,git,머신,인사이트도출,모델링,실무경력,데이터,pandas,효과분석,데이터 사이언티스트,강남,역삼,언주,python,앱서비스운영,성과분석,bigquery,sql\\\\\",\\\\\"popularityScore\\\\\":79,\\\\\"payRange\\\\\":{\\\\\"start\\\\\":\\\\\"5000\\\\\",\\\\\"end\\\\\":\\\\\"8000\\\\\"},\\\\\"isAppliedJob\\\\\":false,\\\\\"jobClassificationOrIndustry\\\\\":\\\\\",광고·홍보·전시,데이터사이언티스트,\\\\\",\\\\\"memberId\\\\\":\\\\\"adriven\\\\\",\\\\\"payTypeCode\\\\\":1,\\\\\"isStarter\\\\\":null,\\\\\"urlName\\\\\":null,\\\\\"companyTypeCode\\\\\":5},{\\\\\"id\\\\\":\\\\\"47847896\\\\\",\\\\\"legacyJobNo\\\\\":\\\\\"49728437\\\\\",\\\\\"title\\\\\":\\\\\"Data Scientist\\\\\",\\\\\"createdAt\\\\\":\\\\\"2025-10-14T00:00:00+09:00\\\\\",\\\\\"postingCompanyName\\\\\":\\\\\"㈜휴톰\\\\\",\\\\\"userRefType\\\\\":\\\\\"C\\\\\",\\\\\"memberSystemNo\\\\\":\\\\\"22696011\\\\\",\\\\\"jobOrIndustryCodeList\\\\\":[\\\\\"1000028\\\\\",\\\\\"1000237\\\\\"],\\\\\"employmentTypeCodeList\\\\\":[\\\\\"1/0\\\\\"],\\\\\"areaCodeList\\\\\":[\\\\\"I130\\\\\"],\\\\\"careerType\\\\\":\\\\\"2\\\\\",\\\\\"careerRange\\\\\":3,\\\\\"educationCode\\\\\":\\\\\"5\\\\\",\\\\\"benefitNameList\\\\\":[\\\\\"명절선물/명절상여 지원\\\\\",\\\\\"복지포인트\\\\\",\\\\\"생일 이벤트\\\\\",\\\\\"연차제도\\\\\"],\\\\\"companyName\\\\\":\\\\\"㈜휴톰\\\\\",\\\\\"companyType\\\\\":\\\\\"0\\\\\",\\\\\"isExposeWorkCompany\\\\\":false,\\\\\"receptionOptionType\\\\\":\\\\\"100000\\\\\",\\\\\"applicationPeriod\\\\\":{\\\\\"start\\\\\":\\\\\"2025-10-14T00:00:00+09:00\\\\\",\\\\\"end\\\\\":\\\\\"2025-11-13T23:00:00+09:00\\\\\"},\\\\\"isSubcontract\\\\\":false,\\\\\"isNewcomerJob\\\\\":false,\\\\\"jobTypeCode\\\\\":\\\\\"J\\\\\",\\\\\"isExistProductLogo\\\\\":false,\\\\\"stockTypeCode\\\\\":\\\\\"0\\\\\",\\\\\"companyRank\\\\\":0,\\\\\"companySubsidiary\\\\\":null,\\\\\"smallGiantCompanyTypeCode\\\\\":\\\\\"0\\\\\",\\\\\"excellentSmallCompanyTypeCode\\\\\":0,\\\\\"awardInfo\\\\\":\\\\\"0\\\\\",\\\\\"goodWorkCompanyCodeList\\\\\":null,\\\\\"productStatus\\\\\":0,\\\\\"companyLogoPath\\\\\":\\\\\"//img1/_whitebg/200X80/Co_Logo/Logo/2022/6/21/JK_CO_gbqkjc22062115163037.png?v=202510231303\\\\\",\\\\\"textLogoPath\\\\\":null,\\\\\"oemNo\\\\\":\\\\\"1\\\\\",\\\\\"rewardAmount\\\\\":500000,\\\\\"readCount\\\\\":223,\\\\\"badges\\\\\":[{\\\\\"code\\\\\":\\\\\"RECOMMENDED_JOB_CHANGE\\\\\",\\\\\"attributes\\\\\":{}}],\\\\\"badgesV2\\\\\":[{\\\\\"code\\\\\":\\\\\"ONEPICK_REWARD_50\\\\\",\\\\\"attributes\\\\\":{}}],\\\\\"_internal_score\\\\\":5578.148,\\\\\"_internal_weightValue\\\\\":10,\\\\\"_internal_keywordList\\\\\":[\\\\\"바이오\\\\\",\\\\\"데이터시각화\\\\\",\\\\\"BI\\\\\",\\\\\"건강\\\\\",\\\\\"생명공학\\\\\",\\\\\"데이터분석\\\\\",\\\\\"분석모델링\\\\\"],\\\\\"_internal_featureWorkCode\\\\\":\\\\\"데이터사이언티스트\\\\\",\\\\\"_internal_featureIndustryCode\\\\\":\\\\\"바이오,제약,보건,통계분석\\\\\",\\\\\"_internal_featureToolCode\\\\\":\\\\\"\\\\\",\\\\\"_internal_featureSkillCode\\\\\":\\\\\"Scientist,Data,가설설정,회귀분석,모델설계,머신러닝,딥러닝,통계학,시각화,전처리,결과보고서작성,데이터통계분석,통계,설계,해석,인사이트도출\\\\\",\\\\\"_internal_featureCompanyCode\\\\\":\\\\\"휴톰\\\\\",\\\\\"_internal_featureLocationCode\\\\\":\\\\\"마포구\\\\\",\\\\\"_internal_featureTotalCode\\\\\":\\\\\"가설설정,회귀분석,데이터사이언티스트,모델설계,머신러닝,딥러닝,시각화,휴톰,제약,설계,해석,인사이트도출,보건,pytorch,Scientist,명절선물/명절상여 지원,바이오,tensorflow,생일 이벤트,Data,python,r,통계학,통계분석,전처리,결과보고서작성,데이터통계분석,통계,복지포인트,마포구,연차제도\\\\\",\\\\\"popularityScore\\\\\":200,\\\\\"payRange\\\\\":{\\\\\"start\\\\\":\\\\\"0\\\\\",\\\\\"end\\\\\":\\\\\"0\\\\\"},\\\\\"isAppliedJob\\\\\":false,\\\\\"jobClassificationOrIndustry\\\\\":\\\\\",제약·보건·바이오,데이터사이언티스트,\\\\\",\\\\\"memberId\\\\\":\\\\\"hutomhr\\\\\",\\\\\"payTypeCode\\\\\":0,\\\\\"isStarter\\\\\":null,\\\\\"urlName\\\\\":null,\\\\\"companyTypeCode\\\\\":1},{\\\\\"id\\\\\":\\\\\"47838777\\\\\",\\\\\"legacyJobNo\\\\\":\\\\\"49720043\\\\\",\\\\\"title\\\\\":\\\\\"Data Scientist\\\\\",\\\\\"createdAt\\\\\":\\\\\"2025-10-13T00:00:00+09:00\\\\\",\\\\\"postingCompanyName\\\\\":\\\\\"㈜앰버로드\\\\\",\\\\\"userRefType\\\\\":\\\\\"C\\\\\",\\\\\"memberSystemNo\\\\\":\\\\\"45679904\\\\\",\\\\\"jobOrIndustryCodeList\\\\\":[\\\\\"1000038\\\\\",\\\\\"1000237\\\\\"],\\\\\"employmentTypeCodeList\\\\\":[\\\\\"1/0\\\\\"],\\\\\"areaCodeList\\\\\":[\\\\\"I010\\\\\",\\\\\"I000\\\\\"],\\\\\"careerType\\\\\":\\\\\"2\\\\\",\\\\\"careerRange\\\\\":2,\\\\\"educationCode\\\\\":\\\\\"0\\\\\",\\\\\"benefitNameList\\\\\":[\\\\\"반반차 제도\\\\\",\\\\\"장비 지원\\\\\",\\\\\"생일 이벤트\\\\\"],\\\\\"companyName\\\\\":\\\\\"㈜앰버로드\\\\\",\\\\\"companyType\\\\\":\\\\\"0\\\\\",\\\\\"isExposeWorkCompany\\\\\":false,\\\\\"receptionOptionType\\\\\":\\\\\"100000\\\\\",\\\\\"applicationPeriod\\\\\":{\\\\\"start\\\\\":\\\\\"2025-10-13T00:00:00+09:00\\\\\",\\\\\"end\\\\\":\\\\\"2025-11-12T23:00:00+09:00\\\\\"},\\\\\"isSubcontract\\\\\":false,\\\\\"isNewcomerJob\\\\\":false,\\\\\"jobTypeCode\\\\\":\\\\\"J\\\\\",\\\\\"isExistProductLogo\\\\\":true,\\\\\"stockTypeCode\\\\\":\\\\\"0\\\\\",\\\\\"companyRank\\\\\":0,\\\\\"companySubsidiary\\\\\":null,\\\\\"smallGiantCompanyTypeCode\\\\\":\\\\\"0\\\\\",\\\\\"excellentSmallCompanyTypeCode\\\\\":0,\\\\\"awardInfo\\\\\":\\\\\"0\\\\\",\\\\\"goodWorkCompanyCodeList\\\\\":null,\\\\\"productStatus\\\\\":0,\\\\\"companyLogoPath\\\\\":\\\\\"/Images/Logo/128/a/m/2331w00wqefqjxwjz_3920t9dtocdqjwq2wt.gif?p=y\\\\u0026hash=c\\\\\",\\\\\"textLogoPath\\\\\":null,\\\\\"oemNo\\\\\":\\\\\"1\\\\\",\\\\\"rewardAmount\\\\\":1000000,\\\\\"readCount\\\\\":251,\\\\\"badges\\\\\":[{\\\\\"code\\\\\":\\\\\"RECOMMENDED_JOB_CHANGE\\\\\",\\\\\"attributes\\\\\":{}}],\\\\\"badgesV2\\\\\":[{\\\\\"code\\\\\":\\\\\"ONEPICK_REWARD_100\\\\\",\\\\\"attributes\\\\\":{}}],\\\\\"_internal_score\\\\\":5576.974,\\\\\"_internal_weightValue\\\\\":10,\\\\\"_internal_keywordList\\\\\":[\\\\\"솔루션\\\\\",\\\\\"BI\\\\\",\\\\\"데이터분석\\\\\",\\\\\"데이터시각화\\\\\",\\\\\"분석모델링\\\\\"],\\\\\"_internal_featureWorkCode\\\\\":\\\\\"데이터사이언티스트\\\\\",\\\\\"_internal_featureIndustryCode\\\\\":\\\\\"CRM,SI,ERP,솔루션\\\\\",\\\\\"_internal_featureToolCode\\\\\":\\\\\"\\\\\",\\\\\"_internal_featureSkillCode\\\\\":\\\\\"Scientist,Data,데이터분석,am,ux\\\\\",\\\\\"_internal_featureCompanyCode\\\\\":\\\\\"앰버로드\\\\\",\\\\\"_internal_featureLocationCode\\\\\":\\\\\"서울전지역,강남구\\\\\",\\\\\"_internal_featureTotalCode\\\\\":\\\\\"Scientist,CRM,데이터사이언티스트,반반차 제도,생일 이벤트,am,Data,ux,강남구,SI,데이터분석,서울전지역,ERP,장비 지원,앰버로드,솔루션\\\\\",\\\\\"popularityScore\\\\\":140,\\\\\"payRange\\\\\":{\\\\\"start\\\\\":\\\\\"0\\\\\",\\\\\"end\\\\\":\\\\\"0\\\\\"},\\\\\"isAppliedJob\\\\\":false,\\\\\"jobClassificationOrIndustry\\\\\":\\\\\",솔루션·SI·CRM·ERP,데이터사이언티스트,\\\\\",\\\\\"memberId\\\\\":\\\\\"amberroad\\\\\",\\\\\"payTypeCode\\\\\":0,\\\\\"isStarter\\\\\":null,\\\\\"urlName\\\\\":null,\\\\\"companyTypeCode\\\\\":5},{\\\\\"id\\\\\":\\\\\"47853961\\\\\",\\\\\"legacyJobNo\\\\\":\\\\\"49733832\\\\\",\\\\\"title\\\\\":\\\\\"[뮤직테크 스타트업] Data Scientist 채용\\\\\",\\\\\"createdAt\\\\\":\\\\\"2025-10-15T00:00:00+09:00\\\\\",\\\\\"postingCompanyName\\\\\":\\\\\"㈜페이블랩\\\\\",\\\\\"userRefType\\\\\":\\\\\"C\\\\\",\\\\\"memberSystemNo\\\\\":\\\\\"44180979\\\\\",\\\\\"jobOrIndustryCodeList\\\\\":[\\\\\"1000041\\\\\",\\\\\"1000237\\\\\"],\\\\\"employmentTypeCodeList\\\\\":[\\\\\"1/0\\\\\"],\\\\\"areaCodeList\\\\\":[\\\\\"I130\\\\\"],\\\\\"careerType\\\\\":\\\\\"2\\\\\",\\\\\"careerRange\\\\\":4,\\\\\"educationCode\\\\\":\\\\\"5\\\\\",\\\\\"benefitNameList\\\\\":[],\\\\\"companyName\\\\\":\\\\\"㈜페이블랩\\\\\",\\\\\"companyType\\\\\":\\\\\"0\\\\\",\\\\\"isExposeWorkCompany\\\\\":false,\\\\\"receptionOptionType\\\\\":\\\\\"100000\\\\\",\\\\\"applicationPeriod\\\\\":{\\\\\"start\\\\\":\\\\\"2025-10-15T00:00:00+09:00\\\\\",\\\\\"end\\\\\":\\\\\"2025-11-14T23:00:00+09:00\\\\\"},\\\\\"isSubcontract\\\\\":false,\\\\\"isNewcomerJob\\\\\":false,\\\\\"jobTypeCode\\\\\":null,\\\\\"isExistProductLogo\\\\\":false,\\\\\"stockTypeCode\\\\\":\\\\\"0\\\\\",\\\\\"companyRank\\\\\":0,\\\\\"companySubsidiary\\\\\":null,\\\\\"smallGiantCompanyTypeCode\\\\\":\\\\\"0\\\\\",\\\\\"excellentSmallCompanyTypeCode\\\\\":0,\\\\\"awardInfo\\\\\":\\\\\"0\\\\\",\\\\\"goodWorkCompanyCodeList\\\\\":null,\\\\\"productStatus\\\\\":0,\\\\\"companyLogoPath\\\\\":\\\\\"//img1/_whitebg/200X80/Co_Logo/Logo/2024/9/02/JK_CO_Yk9SOKp24090215293617.png?v=202510231303\\\\\",\\\\\"textLogoPath\\\\\":null,\\\\\"oemNo\\\\\":\\\\\"1\\\\\",\\\\\"rewardAmount\\\\\":0,\\\\\"readCount\\\\\":112,\\\\\"badges\\\\\":[{\\\\\"code\\\\\":\\\\\"RECOMMENDED_JOB_CHANGE\\\\\",\\\\\"attributes\\\\\":{}}],\\\\\"badgesV2\\\\\":[],\\\\\"_internal_score\\\\\":5415.2026,\\\\\"_internal_weightValue\\\\\":10,\\\\\"_internal_keywordList\\\\\":[\\\\\"컨텐츠\\\\\",\\\\\"소셜네트워크서비스(SNS)\\\\\",\\\\\"커뮤니티\\\\\",\\\\\"포털\\\\\"],\\\\\"_internal_featureWorkCode\\\\\":\\\\\"데이터사이언티스트,QA\\\\\",\\\\\"_internal_featureIndustryCode\\\\\":\\\\\"포털,커뮤니티,컨텐츠,ai\\\\\",\\\\\"_internal_featureToolCode\\\\\":\\\\\"\\\\\",\\\\\"_internal_featureSkillCode\\\\\":\\\\\"Scientist,Data,데이터시각화,데이터설계,데이터수집,qa,통계,분석,개발,데이터모니터링\\\\\",\\\\\"_internal_featureCompanyCode\\\\\":\\\\\"페이블랩\\\\\",\\\\\"_internal_featureLocationCode\\\\\":\\\\\"마포,대흥,공덕,마포구\\\\\",\\\\\"_internal_featureTotalCode\\\\\":\\\\\"Scientist,ai,qa,데이터사이언티스트,공덕,개발,데이터모니터링,Data,python,마포,데이터시각화,대흥,페이블랩,QA,포털,데이터설계,데이터수집,통계,분석,커뮤니티,컨텐츠,마포구,sql\\\\\",\\\\\"popularityScore\\\\\":99,\\\\\"payRange\\\\\":{\\\\\"start\\\\\":\\\\\"0\\\\\",\\\\\"end\\\\\":\\\\\"0\\\\\"},\\\\\"isAppliedJob\\\\\":false,\\\\\"jobClassificationOrIndustry\\\\\":\\\\\",포털·컨텐츠·커뮤니티,데이터사이언티스트,\\\\\",\\\\\"memberId\\\\\":\\\\\"fablelab\\\\\",\\\\\"payTypeCode\\\\\":0,\\\\\"isStarter\\\\\":\\\\\"0\\\\\",\\\\\"urlName\\\\\":\\\\\"\\\\\",\\\\\"companyTypeCode\\\\\":5},{\\\\\"id\\\\\":\\\\\"47710823\\\\\",\\\\\"legacyJobNo\\\\\":\\\\\"49610258\\\\\",\\\\\"title\\\\\":\\\\\"[데이터컨설턴트] 고객 문제 정의부터 분석까지 리딩할 인재 모집\\\\\",\\\\\"createdAt\\\\\":\\\\\"2025-09-16T00:00:00+09:00\\\\\",\\\\\"postingCompanyName\\\\\":\\\\\"㈜데이터마케팅코리아\\\\\",\\\\\"userRefType\\\\\":\\\\\"C\\\\\",\\\\\"memberSystemNo\\\\\":\\\\\"25407994\\\\\",\\\\\"jobOrIndustryCodeList\\\\\":[\\\\\"1000038\\\\\",\\\\\"1000185\\\\\",\\\\\"1000236\\\\\",\\\\\"1000237\\\\\"],\\\\\"employmentTypeCodeList\\\\\":[\\\\\"1/0\\\\\"],\\\\\"areaCodeList\\\\\":[\\\\\"I010\\\\\"],\\\\\"careerType\\\\\":\\\\\"2\\\\\",\\\\\"careerRange\\\\\":3,\\\\\"educationCode\\\\\":\\\\\"5\\\\\",\\\\\"benefitNameList\\\\\":[],\\\\\"companyName\\\\\":\\\\\"㈜데이터마케팅코리아\\\\\",\\\\\"companyType\\\\\":\\\\\"0\\\\\",\\\\\"isExposeWorkCompany\\\\\":false,\\\\\"receptionOptionType\\\\\":\\\\\"100000\\\\\",\\\\\"applicationPeriod\\\\\":{\\\\\"start\\\\\":\\\\\"2025-09-16T00:00:00+09:00\\\\\",\\\\\"end\\\\\":\\\\\"2070-01-01T00:00:00+09:00\\\\\"},\\\\\"isSubcontract\\\\\":false,\\\\\"isNewcomerJob\\\\\":false,\\\\\"jobTypeCode\\\\\":null,\\\\\"isExistProductLogo\\\\\":true,\\\\\"stockTypeCode\\\\\":\\\\\"0\\\\\",\\\\\"companyRank\\\\\":0,\\\\\"companySubsidiary\\\\\":null,\\\\\"smallGiantCompanyTypeCode\\\\\":\\\\\"0\\\\\",\\\\\"excellentSmallCompanyTypeCode\\\\\":0,\\\\\"awardInfo\\\\\":\\\\\"0\\\\\",\\\\\"goodWorkCompanyCodeList\\\\\":null,\\\\\"productStatus\\\\\":0,\\\\\"companyLogoPath\\\\\":\\\\\"/Images/Logo/128/d/a/2290p00pdhvuwhvgkmj2_3620qcgqpqpvyvyloqppq.gif?p=y\\\\u0026hash=c\\\\\",\\\\\"textLogoPath\\\\\":null,\\\\\"oemNo\\\\\":\\\\\"1\\\\\",\\\\\"rewardAmount\\\\\":0,\\\\\"readCount\\\\\":354,\\\\\"badges\\\\\":[{\\\\\"code\\\\\":\\\\\"LUCKY_JOB_OPPORTUNITY\\\\\",\\\\\"attributes\\\\\":{}}],\\\\\"badgesV2\\\\\":[],\\\\\"_internal_score\\\\\":5396.4844,\\\\\"_internal_weightValue\\\\\":10,\\\\\"_internal_keywordList\\\\\":[\\\\\"BigData\\\\\",\\\\\"빅데이터\\\\\",\\\\\"솔루션\\\\\",\\\\\"BI\\\\\",\\\\\"데이터분석\\\\\",\\\\\"데이터분석\\\\\",\\\\\"DataMining\\\\\",\\\\\"소프트웨어개발\\\\\"],\\\\\"_internal_featureWorkCode\\\\\":\\\\\"경영,데이터엔지니어,비즈니스기획,데이터사이언티스트,서비스 기획,프로젝트 매니저,경영 기획,사업 기획\\\\\",\\\\\"_internal_featureIndustryCode\\\\\":\\\\\"CRM,SI,ERP,솔루션,데이터\\\\\",\\\\\"_internal_featureToolCode\\\\\":\\\\\"\\\\\",\\\\\"_internal_featureSkillCode\\\\\":\\\\\"데이터,사이언티스트,데이터분석가,데이터,데이터분석컨설팅,보고서작성,pm,분석,인사이트도출,dm\\\\\",\\\\\"_internal_featureCompanyCode\\\\\":\\\\\"데이터마케팅코리아\\\\\",\\\\\"_internal_featureLocationCode\\\\\":\\\\\"선정릉,강남구\\\\\",\\\\\"_internal_featureTotalCode\\\\\":\\\\\"솔루션,CRM,데이터,사이언티스트,보고서작성,선정릉,데이터분석가,비즈니스기획,데이터사이언티스트,경영 기획,python,강남구,사업 기획,dm,SI,데이터분석컨설팅,경영,서비스 기획,pm,프로젝트 매니저,데이터엔지니어,ERP,분석,인사이트도출,sql,데이터마케팅코리아\\\\\",\\\\\"popularityScore\\\\\":67,\\\\\"payRange\\\\\":{\\\\\"start\\\\\":\\\\\"0\\\\\",\\\\\"end\\\\\":\\\\\"0\\\\\"},\\\\\"isAppliedJob\\\\\":false,\\\\\"jobClassificationOrIndustry\\\\\":\\\\\",솔루션·SI·CRM·ERP,경영·비즈니스기획,데이터엔지니어,데이터사이언티스트,\\\\\",\\\\\"memberId\\\\\":\\\\\"datamktkorea\\\\\",\\\\\"payTypeCode\\\\\":0,\\\\\"isStarter\\\\\":null,\\\\\"urlName\\\\\":null,\\\\\"companyTypeCode\\\\\":1},{\\\\\"id\\\\\":\\\\\"47855743\\\\\",\\\\\"legacyJobNo\\\\\":\\\\\"49735458\\\\\",\\\\\"title\\\\\":\\\\\"데이터 분석 (Data Scientist) 채용\\\\\",\\\\\"createdAt\\\\\":\\\\\"2025-10-15T00:00:00+09:00\\\\\",\\\\\"postingCompanyName\\\\\":\\\\\"㈜에이브랩스\\\\\",\\\\\"userRefType\\\\\":\\\\\"C\\\\\",\\\\\"memberSystemNo\\\\\":\\\\\"32056944\\\\\",\\\\\"jobOrIndustryCodeList\\\\\":[\\\\\"1000038\\\\\",\\\\\"1000236\\\\\",\\\\\"1000237\\\\\",\\\\\"1000242\\\\\"],\\\\\"employmentTypeCodeList\\\\\":[\\\\\"1/0\\\\\"],\\\\\"areaCodeList\\\\\":[\\\\\"I210\\\\\"],\\\\\"careerType\\\\\":\\\\\"3\\\\\",\\\\\"careerRange\\\\\":100,\\\\\"educationCode\\\\\":\\\\\"0\\\\\",\\\\\"benefitNameList\\\\\":[],\\\\\"companyName\\\\\":\\\\\"㈜에이브랩스\\\\\",\\\\\"companyType\\\\\":\\\\\"0\\\\\",\\\\\"isExposeWorkCompany\\\\\":false,\\\\\"receptionOptionType\\\\\":\\\\\"110000\\\\\",\\\\\"applicationPeriod\\\\\":{\\\\\"start\\\\\":\\\\\"2025-10-15T00:00:00+09:00\\\\\",\\\\\"end\\\\\":\\\\\"2025-12-14T23:00:00+09:00\\\\\"},\\\\\"isSubcontract\\\\\":false,\\\\\"isNewcomerJob\\\\\":false,\\\\\"jobTypeCode\\\\\":null,\\\\\"isExistProductLogo\\\\\":true,\\\\\"stockTypeCode\\\\\":\\\\\"0\\\\\",\\\\\"companyRank\\\\\":0,\\\\\"companySubsidiary\\\\\":null,\\\\\"smallGiantCompanyTypeCode\\\\\":\\\\\"0\\\\\",\\\\\"excellentSmallCompanyTypeCode\\\\\":0,\\\\\"awardInfo\\\\\":\\\\\"0\\\\\",\\\\\"goodWorkCompanyCodeList\\\\\":null,\\\\\"productStatus\\\\\":0,\\\\\"companyLogoPath\\\\\":\\\\\"/Images/Logo/128/a/i/2617q00qqgihefa2_3820r8crddmqqcnqr.gif?p=y\\\\u0026hash=c\\\\\",\\\\\"textLogoPath\\\\\":null,\\\\\"oemNo\\\\\":\\\\\"1\\\\\",\\\\\"rewardAmount\\\\\":0,\\\\\"readCount\\\\\":980,\\\\\"badges\\\\\":[{\\\\\"code\\\\\":\\\\\"RECOMMENDED_JOB_CHANGE\\\\\",\\\\\"attributes\\\\\":{}}],\\\\\"badgesV2\\\\\":[{\\\\\"code\\\\\":\\\\\"ENTRY_NEWBIE\\\\\",\\\\\"attributes\\\\\":{}}],\\\\\"_internal_score\\\\\":5328.8184,\\\\\"_internal_weightValue\\\\\":10,\\\\\"_internal_keywordList\\\\\":[\\\\\"BigData\\\\\",\\\\\"빅데이터\\\\\",\\\\\"인공지능\\\\\",\\\\\"데이터분석\\\\\",\\\\\"딥러닝\\\\\"],\\\\\"_internal_featureWorkCode\\\\\":\\\\\"데이터엔지니어,데이터사이언티스트,AI/ML엔지니어\\\\\",\\\\\"_internal_featureIndustryCode\\\\\":\\\\\"CRM,SI,ERP,솔루션,데이터,ai,컨설팅\\\\\",\\\\\"_internal_featureToolCode\\\\\":\\\\\"\\\\\",\\\\\"_internal_featureSkillCode\\\\\":\\\\\"데이터,분석가,데이터,데이터분석,모델설계\\\\\",\\\\\"_internal_featureCompanyCode\\\\\":\\\\\"에이브랩스\\\\\",\\\\\"_internal_featureLocationCode\\\\\":\\\\\"신용산,용산,용산구,이촌,삼각지\\\\\",\\\\\"_internal_featureTotalCode\\\\\":\\\\\"신용산,용산,CRM,데이터,ai,컨설팅,에이브랩스,분석가,데이터사이언티스트,모델설계,python,SI,데이터분석,용산구,데이터엔지니어,ERP,이촌,삼각지,AI/ML엔지니어,솔루션,sql\\\\\",\\\\\"popularityScore\\\\\":1012,\\\\\"payRange\\\\\":{\\\\\"start\\\\\":\\\\\"3800\\\\\",\\\\\"end\\\\\":\\\\\"9000\\\\\"},\\\\\"isAppliedJob\\\\\":false,\\\\\"jobClassificationOrIndustry\\\\\":\\\\\",솔루션·SI·CRM·ERP,데이터엔지니어,데이터사이언티스트,AI/ML엔지니어,\\\\\",\\\\\"memberId\\\\\":\\\\\"aivelabs\\\\\",\\\\\"payTypeCode\\\\\":1,\\\\\"isStarter\\\\\":\\\\\"0\\\\\",\\\\\"urlName\\\\\":\\\\\"\\\\\",\\\\\"companyTypeCode\\\\\":5},{\\\\\"id\\\\\":\\\\\"47808171\\\\\",\\\\\"legacyJobNo\\\\\":\\\\\"49694906\\\\\",\\\\\"title\\\\\":\\\\\"DATA SCIENTIST (AI 기반)\\\\\",\\\\\"createdAt\\\\\":\\\\\"2025-10-02T00:00:00+09:00\\\\\",\\\\\"postingCompanyName\\\\\":\\\\\"㈜트라이얼인포매틱스\\\\\",\\\\\"userRefType\\\\\":\\\\\"C\\\\\",\\\\\"memberSystemNo\\\\\":\\\\\"43724203\\\\\",\\\\\"jobOrIndustryCodeList\\\\\":[\\\\\"1000038\\\\\",\\\\\"1000237\\\\\",\\\\\"1000233\\\\\"],\\\\\"employmentTypeCodeList\\\\\":[\\\\\"1/0\\\\\"],\\\\\"areaCodeList\\\\\":[\\\\\"I180\\\\\"],\\\\\"careerType\\\\\":\\\\\"3\\\\\",\\\\\"careerRange\\\\\":1,\\\\\"educationCode\\\\\":\\\\\"5\\\\\",\\\\\"benefitNameList\\\\\":[\\\\\"식사 지원\\\\\",\\\\\"퇴직연금\\\\\",\\\\\"명절선물/명절상여 지원\\\\\",\\\\\"회식비 지원\\\\\",\\\\\"재택근무\\\\\",\\\\\"자격증 취득 지원\\\\\",\\\\\"유연근무\\\\\",\\\\\"생일 이벤트\\\\\"],\\\\\"companyName\\\\\":\\\\\"㈜트라이얼인포매틱스\\\\\",\\\\\"companyType\\\\\":\\\\\"0\\\\\",\\\\\"isExposeWorkCompany\\\\\":false,\\\\\"receptionOptionType\\\\\":\\\\\"100000\\\\\",\\\\\"applicationPeriod\\\\\":{\\\\\"start\\\\\":\\\\\"2025-10-02T00:00:00+09:00\\\\\",\\\\\"end\\\\\":\\\\\"2070-01-01T00:00:00+09:00\\\\\"},\\\\\"isSubcontract\\\\\":false,\\\\\"isNewcomerJob\\\\\":false,\\\\\"jobTypeCode\\\\\":null,\\\\\"isExistProductLogo\\\\\":false,\\\\\"stockTypeCode\\\\\":\\\\\"0\\\\\",\\\\\"companyRank\\\\\":0,\\\\\"companySubsidiary\\\\\":null,\\\\\"smallGiantCompanyTypeCode\\\\\":\\\\\"0\\\\\",\\\\\"excellentSmallCompanyTypeCode\\\\\":0,\\\\\"awardInfo\\\\\":\\\\\"0\\\\\",\\\\\"goodWorkCompanyCodeList\\\\\":null,\\\\\"productStatus\\\\\":0,\\\\\"companyLogoPath\\\\\":\\\\\"\\\\\",\\\\\"textLogoPath\\\\\":null,\\\\\"oemNo\\\\\":\\\\\"1\\\\\",\\\\\"rewardAmount\\\\\":0,\\\\\"readCount\\\\\":734,\\\\\"badges\\\\\":[{\\\\\"code\\\\\":\\\\\"LUCKY_JOB_OPPORTUNITY\\\\\",\\\\\"attributes\\\\\":{}}],\\\\\"badgesV2\\\\\":[{\\\\\"code\\\\\":\\\\\"ENTRY_NEWBIE\\\\\",\\\\\"attributes\\\\\":{}}],\\\\\"_internal_score\\\\\":5303.892,\\\\\"_internal_weightValue\\\\\":10,\\\\\"_internal_keywordList\\\\\":[\\\\\"DRM\\\\\",\\\\\"DataWarehouse\\\\\",\\\\\"솔루션\\\\\",\\\\\"데이터시각화\\\\\",\\\\\"LLM\\\\\",\\\\\"BI\\\\\",\\\\\"시스템분석\\\\\",\\\\\"데이터분석\\\\\",\\\\\"분석모델링\\\\\",\\\\\"소프트웨어개발\\\\\",\\\\\"API\\\\\",\\\\\"AI\\\\\",\\\\\"prompt\\\\\"],\\\\\"_internal_featureWorkCode\\\\\":\\\\\"시스템엔지니어,데이터사이언티스트,서비스 기획\\\\\",\\\\\"_internal_featureIndustryCode\\\\\":\\\\\"CRM,SI,ERP,솔루션,화학,ai,제약\\\\\",\\\\\"_internal_featureToolCode\\\\\":\\\\\"\\\\\",\\\\\"_internal_featureSkillCode\\\\\":\\\\\"Scientist,Data,데이터관리,운영,화학,생물학,문서작성,개발\\\\\",\\\\\"_internal_featureCompanyCode\\\\\":\\\\\"트라이얼인포매틱스\\\\\",\\\\\"_internal_featureLocationCode\\\\\":\\\\\"몽촌토성,송파구,잠실나루\\\\\",\\\\\"_internal_featureTotalCode\\\\\":\\\\\"데이터관리,ai,몽촌토성,퇴직연금,회식비 지원,데이터사이언티스트,자격증 취득 지원,개발,송파구,서비스 기획,트라이얼인포매틱스,data,ERP,유연근무,제약,솔루션,Scientist,CRM,운영,식사 지원,명절선물/명절상여 지원,생물학,재택근무,생일 이벤트,Data,python,r,SI,화학,시스템엔지니어,문서작성,sas,잠실나루\\\\\",\\\\\"popularityScore\\\\\":304,\\\\\"payRange\\\\\":{\\\\\"start\\\\\":\\\\\"0\\\\\",\\\\\"end\\\\\":\\\\\"0\\\\\"},\\\\\"isAppliedJob\\\\\":false,\\\\\"jobClassificationOrIndustry\\\\\":\\\\\",솔루션·SI·CRM·ERP,시스템엔지니어,데이터사이언티스트,\\\\\",\\\\\"memberId\\\\\":\\\\\"tihrpeople\\\\\",\\\\\"payTypeCode\\\\\":0,\\\\\"isStarter\\\\\":\\\\\"0\\\\\",\\\\\"urlName\\\\\":\\\\\"\\\\\",\\\\\"companyTypeCode\\\\\":1},{\\\\\"id\\\\\":\\\\\"47763585\\\\\",\\\\\"legacyJobNo\\\\\":\\\\\"49656077\\\\\",\\\\\"title\\\\\":\\\\\"[디지털플랫폼] Data Scientist 경력사원 모집\\\\\",\\\\\"createdAt\\\\\":\\\\\"2025-09-25T00:00:00+09:00\\\\\",\\\\\"postingCompanyName\\\\\":\\\\\"CJ대한통운㈜\\\\\\\\t\\\\\",\\\\\"userRefType\\\\\":\\\\\"C\\\\\",\\\\\"memberSystemNo\\\\\":\\\\\"30046536\\\\\",\\\\\"jobOrIndustryCodeList\\\\\":[\\\\\"1000014\\\\\",\\\\\"1000237\\\\\",\\\\\"1000236\\\\\"],\\\\\"employmentTypeCodeList\\\\\":[\\\\\"1/0\\\\\"],\\\\\"areaCodeList\\\\\":[\\\\\"I230\\\\\"],\\\\\"careerType\\\\\":\\\\\"2\\\\\",\\\\\"careerRange\\\\\":100,\\\\\"educationCode\\\\\":\\\\\"6\\\\\",\\\\\"benefitNameList\\\\\":[],\\\\\"companyName\\\\\":\\\\\"CJ대한통운㈜\\\\\\\\t\\\\\",\\\\\"companyType\\\\\":\\\\\"0\\\\\",\\\\\"isExposeWorkCompany\\\\\":false,\\\\\"receptionOptionType\\\\\":\\\\\"000010\\\\\",\\\\\"applicationPeriod\\\\\":{\\\\\"start\\\\\":\\\\\"2025-08-26T00:00:00+09:00\\\\\",\\\\\"end\\\\\":\\\\\"2025-10-25T23:00:00+09:00\\\\\"},\\\\\"isSubcontract\\\\\":false,\\\\\"isNewcomerJob\\\\\":false,\\\\\"jobTypeCode\\\\\":null,\\\\\"isExistProductLogo\\\\\":true,\\\\\"stockTypeCode\\\\\":\\\\\"0\\\\\",\\\\\"companyRank\\\\\":119,\\\\\"companySubsidiary\\\\\":\\\\\"CJ그룹\\\\\",\\\\\"smallGiantCompanyTypeCode\\\\\":\\\\\"0\\\\\",\\\\\"excellentSmallCompanyTypeCode\\\\\":0,\\\\\"awardInfo\\\\\":\\\\\"0\\\\\",\\\\\"goodWorkCompanyCodeList\\\\\":null,\\\\\"productStatus\\\\\":0,\\\\\"companyLogoPath\\\\\":\\\\\"/Images/Logo/128/c/etc/2617s00sr8585602_3820-8c--222274s-.gif?p=y\\\\u0026hash=c\\\\\",\\\\\"textLogoPath\\\\\":null,\\\\\"oemNo\\\\\":\\\\\"1\\\\\",\\\\\"rewardAmount\\\\\":0,\\\\\"readCount\\\\\":518,\\\\\"badges\\\\\":[{\\\\\"code\\\\\":\\\\\"WAITING_FOR_APPLICANTS\\\\\",\\\\\"attributes\\\\\":{}}],\\\\\"badgesV2\\\\\":[],\\\\\"_internal_score\\\\\":5223.5015,\\\\\"_internal_weightValue\\\\\":40,\\\\\"_internal_keywordList\\\\\":[\\\\\"데이터파이프라인\\\\\",\\\\\"데이터분석\\\\\",\\\\\"데이터시각화\\\\\",\\\\\"분석모델링\\\\\"],\\\\\"_internal_featureWorkCode\\\\\":\\\\\"데이터엔지니어,데이터사이언티스트\\\\\",\\\\\"_internal_featureIndustryCode\\\\\":\\\\\"배송,물류,운송\\\\\",\\\\\"_internal_featureToolCode\\\\\":\\\\\"\\\\\",\\\\\"_internal_featureSkillCode\\\\\":\\\\\"Science,Data,실험설계,데이터분석,데이터수집,모니터링,알고리즘개발,분석,머신러닝\\\\\",\\\\\"_internal_featureCompanyCode\\\\\":\\\\\"CJ대한통운,cj대한통운\\\\\",\\\\\"_internal_featureLocationCode\\\\\":\\\\\"종로구,을지로입구,종각,광화문,안국,시청\\\\\",\\\\\"_internal_featureTotalCode\\\\\":\\\\\"을지로입구,종로구,종각,cj대한통운,데이터사이언티스트,CJ대한통운,Science,시청,python,Data,머신러닝,배송,실험설계,데이터분석,데이터수집,데이터엔지니어,모니터링,알고리즘개발,광화문,물류,운송,안국,분석,tableau,sql\\\\\",\\\\\"popularityScore\\\\\":165,\\\\\"payRange\\\\\":{\\\\\"start\\\\\":\\\\\"0\\\\\",\\\\\"end\\\\\":\\\\\"0\\\\\"},\\\\\"isAppliedJob\\\\\":false,\\\\\"jobClassificationOrIndustry\\\\\":\\\\\",물류·운송·배송,데이터엔지니어,데이터사이언티스트,\\\\\",\\\\\"memberId\\\\\":\\\\\"c-040469\\\\\",\\\\\"payTypeCode\\\\\":0,\\\\\"isStarter\\\\\":null,\\\\\"urlName\\\\\":null,\\\\\"companyTypeCode\\\\\":1}]},\\\\\"dataUpdateCount\\\\\":1,\\\\\"dataUpdatedAt\\\\\":1761192218919,\\\\\"error\\\\\":null,\\\\\"errorUpdateCount\\\\\":0,\\\\\"errorUpdatedAt\\\\\":0,\\\\\"fetchFailureCount\\\\\":0,\\\\\"fetchFailureReason\\\\\":null,\\\\\"fetchMeta\\\\\":null,\\\\\"isInvalidated\\\\\":false,\\\\\"status\\\\\":\\\\\"success\\\\\",\\\\\"fetchStatus\\\\\":\\\\\"idle\\\\\"},\\\\\"queryKey\\\\\":[\\\\\"JOB_LIST\\\\\",20,0,\\\\\"1\\\\\",\\\\\"DESC\\\\\",\\\\\"data scientist\\\\\",[],[],[],[],[\\\\\"I000\\\\\"],[],\\\\\"\\\\\",\\\\\"\\\\\",[],[],[],[],[],[],[],\\\\\"\\\\\",0,0,\\\\\"\\\\\",\\\\\"\\\\\",\\\\\"\\\\\",\\\\\"PC\\\\\"],\\\\\"queryHash\\\\\":\\\\\"[\\\\\\\\\\\\\"JOB_LIST\\\\\\\\\\\\\",20,0,\\\\\\\\\\\\\"1\\\\\\\\\\\\\",\\\\\\\\\\\\\"DESC\\\\\\\\\\\\\",\\\\\\\\\\\\\"data scientist\\\\\\\\\\\\\",[],[],[],[],[\\\\\\\\\\\\\"I000\\\\\\\\\\\\\"],[],\\\\\\\\\\\\\"\\\\\\\\\\\\\",\\\\\\\\\\\\\"\\\\\\\\\\\\\",[],[],[],[],[],[],[],\\\\\\\\\\\\\"\\\\\\\\\\\\\",0,0,\\\\\\\\\\\\\"\\\\\\\\\\\\\",\\\\\\\\\\\\\"\\\\\\\\\\\\\",\\\\\\\\\\\\\"\\\\\\\\\\\\\",\\\\\\\\\\\\\"PC\\\\\\\\\\\\\"]\\\\\"},{\\\\\"dehydratedAt\\\\\":1761192218919,\\\\\"state\\\\\":{\\\\\"data\\\\\":{\\\\\"pageSize\\\\\":10,\\\\\"pageNumber\\\\\":0,\\\\\"totalElements\\\\\":0,\\\\\"totalPages\\\\\":0,\\\\\"content\\\\\":[]},\\\\\"dataUpdateCount\\\\\":1,\\\\\"dataUpdatedAt\\\\\":1761192218739,\\\\\"error\\\\\":null,\\\\\"errorUpdateCount\\\\\":0,\\\\\"errorUpdatedAt\\\\\":0,\\\\\"fetchFailureCount\\\\\":0,\\\\\"fetchFailureReason\\\\\":null,\\\\\"fetchMeta\\\\\":null,\\\\\"isInvalidated\\\\\":false,\\\\\"status\\\\\":\\\\\"success\\\\\",\\\\\"fetchStatus\\\\\":\\\\\"idle\\\\\"},\\\\\"queryKey\\\\\":[\\\\\"COMPANY_LIST\\\\\",\\\\\"$undefined\\\\\",0,10,\\\\\"data scientist\\\\\"],\\\\\"queryHash\\\\\":\\\\\"[\\\\\\\\\\\\\"COMPANY_LIST\\\\\\\\\\\\\",null,0,10,\\\\\\\\\\\\\"data scientist\\\\\\\\\\\\\"]\\\\\"},{\\\\\"dehydratedAt\\\\\":1761192218919,\\\\\"state\\\\\":{\\\\\"data\\\\\":{\\\\\"pageSize\\\\\":0,\\\\\"pageNumber\\\\\":0,\\\\\"totalElements\\\\\":0,\\\\\"totalPages\\\\\":0,\\\\\"content\\\\\":[]},\\\\\"dataUpdateCount\\\\\":1,\\\\\"dataUpdatedAt\\\\\":1761192218749,\\\\\"error\\\\\":null,\\\\\"errorUpdateCount\\\\\":0,\\\\\"errorUpdatedAt\\\\\":0,\\\\\"fetchFailureCount\\\\\":0,\\\\\"fetchFailureReason\\\\\":null,\\\\\"fetchMeta\\\\\":null,\\\\\"isInvalidated\\\\\":false,\\\\\"status\\\\\":\\\\\"success\\\\\",\\\\\"fetchStatus\\\\\":\\\\\"idle\\\\\"},\\\\\"queryKey\\\\\":[\\\\\"ALBAMON_JOB_LIST\\\\\",\\\\\"data scientist\\\\\",0,20],\\\\\"queryHash\\\\\":\\\\\"[\\\\\\\\\\\\\"ALBAMON_JOB_LIST\\\\\\\\\\\\\",\\\\\\\\\\\\\"data scientist\\\\\\\\\\\\\",0,20]\\\\\"},{\\\\\"dehydratedAt\\\\\":1761192218919,\\\\\"state\\\\\":{\\\\\"data\\\\\":{\\\\\"content\\\\\":[]},\\\\\"dataUpdateCount\\\\\":1,\\\\\"dataUpdatedAt\\\\\":1761192218748,\\\\\"error\\\\\":null,\\\\\"errorUpdateCount\\\\\":0,\\\\\"errorUpdatedAt\\\\\":0,\\\\\"fetchFailureCount\\\\\":0,\\\\\"fetchFailureReason\\\\\":null,\\\\\"fetchMeta\\\\\":null,\\\\\"isInvalidated\\\\\":false,\\\\\"status\\\\\":\\\\\"success\\\\\",\\\\\"fetchStatus\\\\\":\\\\\"idle\\\\\"},\\\\\"queryKey\\\\\":[\\\\\"JOB_PRODUCT_LIST\\\\\",\\\\\"data scientist\\\\\",[\\\\\"JOB_CLASSIFICATION\\\\\",\\\\\"AREA\\\\\"],[\\\\\"JOB_CLASSIFICATION_SUBCATEGORY\\\\\",\\\\\"COUNTY\\\\\"],\\\\\"searchPlatformType\\\\\",0,10],\\\\\"queryHash\\\\\":\\\\\"[\\\\\\\\\\\\\"JOB_PRODUCT_LIST\\\\\\\\\\\\\",\\\\\\\\\\\\\"data scientist\\\\\\\\\\\\\",[\\\\\\\\\\\\\"JOB_CLASSIFICATION\\\\\\\\\\\\\",\\\\\\\\\\\\\"AREA\\\\\\\\\\\\\"],[\\\\\\\\\\\\\"JOB_CLASSIFICATION_SUBCATEGORY\\\\\\\\\\\\\",\\\\\\\\\\\\\"COUNTY\\\\\\\\\\\\\"],\\\\\\\\\\\\\"searchPlatformType\\\\\\\\\\\\\",0,10]\\\\\"}]},\\\\\"data-sentry-element\\\\\":\\\\\"HydrationBoundary\\\\\",\\\\\"data-sentry-source-file\\\\\":\\\\\"page.tsx\\\\\",\\\\\"children\\\\\":[[\\\\\"$\\\\\",\\\\\"script\\\\\",null,{\\\\\"dangerouslySetInnerHTML\\\\\":{\\\\\"__html\\\\\":\\\\\"{\\\\\\\\\\\\\"@context\\\\\\\\\\\\\":\\\\\\\\\\\\\"https://schema.org\\\\\\\\\\\\\",\\\\\\\\\\\\\"@type\\\\\\\\\\\\\":\\\\\\\\\\\\\"BreadcrumbList\\\\\\\\\\\\\",\\\\\\\\\\\\\"itemListElement\\\\\\\\\\\\\":[{\\\\\\\\\\\\\"@type\\\\\\\\\\\\\":\\\\\\\\\\\\\"ListItem\\\\\\\\\\\\\",\\\\\\\\\\\\\"position\\\\\\\\\\\\\":1,\\\\\\\\\\\\\"name\\\\\\\\\\\\\":\\\\\\\\\\\\\"채용 검색\\\\\\\\\\\\\",\\\\\\\\\\\\\"item\\\\\\\\\\\\\":\\\\\\\\\\\\\"https://www.jobkorea.co.kr/Search\\\\\\\\\\\\\"},{\\\\\\\\\\\\\"@type\\\\\\\\\\\\\":\\\\\\\\\\\\\"ListItem\\\\\\\\\\\\\",\\\\\\\\\\\\\"position\\\\\\\\\\\\\":2,\\\\\\\\\\\\\"name\\\\\\\\\\\\\":\\\\\\\\\\\\\"data scientist\\\\\\\\\\\\\",\\\\\\\\\\\\\"item\\\\\\\\\\\\\":\\\\\\\\\\\\\"https://www.jobkorea.co.kr/Search?stext=data scientist\\\\\\\\\\\\\"}]}\\\\\"},\\\\\"type\\\\\":\\\\\"application/ld+json\\\\\",\\\\\"data-sentry-component\\\\\":\\\\\"JsonLdScript\\\\\",\\\\\"data-sentry-source-file\\\\\":\\\\\"index.tsx\\\\\"}],[\\\\\"$\\\\\",\\\\\"$L3f\\\\\",null,{\\\\\"jobsLength\\\\\":266,\\\\\"referer\\\\\":null,\\\\\"data-sentry-element\\\\\":\\\\\"GoogleAnalytics\\\\\",\\\\\"data-sentry-source-file\\\\\":\\\\\"page.tsx\\\\\"}],[\\\\\"$\\\\\",\\\\\"$L40\\\\\",null,{\\\\\"analyzedKeywords\\\\\":null,\\\\\"resultCount\\\\\":266,\\\\\"tabType\\\\\":\\\\\"recruit\\\\\",\\\\\"data-sentry-element\\\\\":\\\\\"DmpSearchConditionProvider\\\\\",\\\\\"data-sentry-source-file\\\\\":\\\\\"page.tsx\\\\\"}],[\\\\\"$\\\\\",\\\\\"$L37\\\\\",null,{\\\\\"direction\\\\\":\\\\\"column\\\\\",\\\\\"gap\\\\\":\\\\\"space40\\\\\",\\\\\"data-sentry-element\\\\\":\\\\\"Flex\\\\\",\\\\\"data-sentry-source-file\\\\\":\\\\\"page.tsx\\\\\",\\\\\"children\\\\\":[\\\\\"$\\\\\",\\\\\"$L41\\\\\",null,{\\\\\"albamonLength\\\\\":0,\\\\\"companiesLength\\\\\":0,\\\\\"jobsLength\\\\\":266,\\\\\"productList\\\\\":\\\\\"$19:0:props:state:queries:3:state:data:content\\\\\",\\\\\"tab\\\\\":\\\\\"recruit\\\\\",\\\\\"data-sentry-element\\\\\":\\\\\"SearchChildrenClient\\\\\",\\\\\"data-sentry-source-file\\\\\":\\\\\"page.tsx\\\\\"}]}]]}],[\\\\\"$\\\\\",\\\\\"$L42\\\\\",null,{\\\\\"isNewUuid\\\\\":true,\\\\\"uuid\\\\\":\\\\\"4f0bc96b-7024-4e56-9181-90e7010de490\\\\\",\\\\\"data-sentry-element\\\\\":\\\\\"UuidSetter\\\\\",\\\\\"data-sentry-source-file\\\\\":\\\\\"page.tsx\\\\\"}]]\\\\n\"])</script><script>self.__next_f.push([1,\"25:{\\\\\"metadata\\\\\":[[\\\\\"$\\\\\",\\\\\"title\\\\\",\\\\\"0\\\\\",{\\\\\"children\\\\\":\\\\\"\\'data scientist\\' 관련 📢 채용공고 | 총 266건의 검색결과\\\\\"}],[\\\\\"$\\\\\",\\\\\"meta\\\\\",\\\\\"1\\\\\",{\\\\\"name\\\\\":\\\\\"description\\\\\",\\\\\"content\\\\\":\\\\\"\\'data scientist\\' 검색결과 총 266건- 2025 data scientist 채용정보가 더 알고 싶다면? 기업정보, 취업정보를 No.1 커리어 플랫폼 잡코리아에서 확인해보세요.\\\\\"}],[\\\\\"$\\\\\",\\\\\"meta\\\\\",\\\\\"2\\\\\",{\\\\\"name\\\\\":\\\\\"author\\\\\",\\\\\"content\\\\\":\\\\\"잡코리아\\\\\"}],[\\\\\"$\\\\\",\\\\\"meta\\\\\",\\\\\"3\\\\\",{\\\\\"name\\\\\":\\\\\"robots\\\\\",\\\\\"content\\\\\":\\\\\"index, nofollow\\\\\"}],[\\\\\"$\\\\\",\\\\\"link\\\\\",\\\\\"4\\\\\",{\\\\\"rel\\\\\":\\\\\"canonical\\\\\",\\\\\"href\\\\\":\\\\\"https://www.jobkorea.co.kr/Search/?stext=data scientist\\\\\"}],[\\\\\"$\\\\\",\\\\\"link\\\\\",\\\\\"5\\\\\",{\\\\\"rel\\\\\":\\\\\"alternate\\\\\",\\\\\"media\\\\\":\\\\\"only screen and (max-width: 640px)\\\\\",\\\\\"href\\\\\":\\\\\"https://m.jobkorea.co.kr/Search/Adv?Keyword=data scientist\\\\\"}],[\\\\\"$\\\\\",\\\\\"meta\\\\\",\\\\\"6\\\\\",{\\\\\"property\\\\\":\\\\\"og:title\\\\\",\\\\\"content\\\\\":\\\\\"통합검색 | 잡코리아\\\\\"}],[\\\\\"$\\\\\",\\\\\"meta\\\\\",\\\\\"7\\\\\",{\\\\\"property\\\\\":\\\\\"og:description\\\\\",\\\\\"content\\\\\":\\\\\"잡코리아 통합검색으로 채용정보를 쉽고 빠르게 검색해보세요.\\\\\"}],[\\\\\"$\\\\\",\\\\\"meta\\\\\",\\\\\"8\\\\\",{\\\\\"property\\\\\":\\\\\"og:url\\\\\",\\\\\"content\\\\\":\\\\\"https://www.jobkorea.co.kr/Search?stext=data scientist\\\\\"}],[\\\\\"$\\\\\",\\\\\"meta\\\\\",\\\\\"9\\\\\",{\\\\\"property\\\\\":\\\\\"og:site_name\\\\\",\\\\\"content\\\\\":\\\\\"잡코리아\\\\\"}],[\\\\\"$\\\\\",\\\\\"meta\\\\\",\\\\\"10\\\\\",{\\\\\"property\\\\\":\\\\\"og:locale\\\\\",\\\\\"content\\\\\":\\\\\"ko_KR\\\\\"}],[\\\\\"$\\\\\",\\\\\"meta\\\\\",\\\\\"11\\\\\",{\\\\\"property\\\\\":\\\\\"og:image\\\\\",\\\\\"content\\\\\":\\\\\"https://file1.jobkorea.co.kr/banner/share/share_img_01.png\\\\\"}],[\\\\\"$\\\\\",\\\\\"meta\\\\\",\\\\\"12\\\\\",{\\\\\"property\\\\\":\\\\\"og:image:width\\\\\",\\\\\"content\\\\\":\\\\\"200\\\\\"}],[\\\\\"$\\\\\",\\\\\"meta\\\\\",\\\\\"13\\\\\",{\\\\\"property\\\\\":\\\\\"og:image:height\\\\\",\\\\\"content\\\\\":\\\\\"200\\\\\"}],[\\\\\"$\\\\\",\\\\\"meta\\\\\",\\\\\"14\\\\\",{\\\\\"property\\\\\":\\\\\"og:type\\\\\",\\\\\"content\\\\\":\\\\\"website\\\\\"}],[\\\\\"$\\\\\",\\\\\"meta\\\\\",\\\\\"15\\\\\",{\\\\\"name\\\\\":\\\\\"twitter:card\\\\\",\\\\\"content\\\\\":\\\\\"summary_large_image\\\\\"}],[\\\\\"$\\\\\",\\\\\"meta\\\\\",\\\\\"16\\\\\",{\\\\\"name\\\\\":\\\\\"twitter:title\\\\\",\\\\\"content\\\\\":\\\\\"통합검색 | 잡코리아\\\\\"}],[\\\\\"$\\\\\",\\\\\"meta\\\\\",\\\\\"17\\\\\",{\\\\\"name\\\\\":\\\\\"twitter:description\\\\\",\\\\\"content\\\\\":\\\\\"잡코리아 통합검색으로 채용정보를 쉽고 빠르게 검색해보세요.\\\\\"}],[\\\\\"$\\\\\",\\\\\"meta\\\\\",\\\\\"18\\\\\",{\\\\\"name\\\\\":\\\\\"twitter:image\\\\\",\\\\\"content\\\\\":\\\\\"https://file1.jobkorea.co.kr/banner/share/share_img_01.png\\\\\"}],[\\\\\"$\\\\\",\\\\\"meta\\\\\",\\\\\"19\\\\\",{\\\\\"name\\\\\":\\\\\"twitter:image:width\\\\\",\\\\\"content\\\\\":\\\\\"200\\\\\"}],[\\\\\"$\\\\\",\\\\\"meta\\\\\",\\\\\"20\\\\\",{\\\\\"name\\\\\":\\\\\"twitter:image:height\\\\\",\\\\\"content\\\\\":\\\\\"200\\\\\"}],[\\\\\"$\\\\\",\\\\\"link\\\\\",\\\\\"21\\\\\",{\\\\\"rel\\\\\":\\\\\"alternate\\\\\",\\\\\"href\\\\\":\\\\\"ios-app://569092652/https/m.jobkorea.co.kr/Search/Adv?Keyword=data scientist\\\\\"}],[\\\\\"$\\\\\",\\\\\"link\\\\\",\\\\\"22\\\\\",{\\\\\"rel\\\\\":\\\\\"alternate\\\\\",\\\\\"href\\\\\":\\\\\"android-app://com.jobkorea.android/https/m.jobkorea.co.kr/Search/Adv?Keyword=data scientist\\\\\"}]],\\\\\"error\\\\\":null,\\\\\"digest\\\\\":\\\\\"$undefined\\\\\"}\\\\n\"])</script><script>self.__next_f.push([1,\"1f:{\\\\\"metadata\\\\\":\\\\\"$25:metadata\\\\\",\\\\\"error\\\\\":null,\\\\\"digest\\\\\":\\\\\"$undefined\\\\\"}\\\\n\"])</script></body></html>'"
            ],
            "application/vnd.google.colaboratory.intrinsic+json": {
              "type": "string"
            }
          },
          "metadata": {},
          "execution_count": 80
        }
      ]
    },
    {
      "cell_type": "code",
      "source": [
        "soup.select('div .styles_mb_space2__dk46ts4t')[0]"
      ],
      "metadata": {
        "colab": {
          "base_uri": "https://localhost:8080/"
        },
        "id": "hL0rIovQy2cD",
        "outputId": "ff13184e-a703-4084-c56a-621f7e0011a4"
      },
      "execution_count": null,
      "outputs": [
        {
          "output_type": "execute_result",
          "data": {
            "text/plain": [
              "<div class=\"styles_mb_space2__dk46ts4t\" data-sentry-element=\"Block\" data-sentry-source-file=\"index.tsx\"><a class=\"Flex_display_flex__i0l0hl2 Flex_gap_space6__i0l0hl1g Flex_align_center__i0l0hl8 styles_mb_space2__dk46ts4t\" data-interactive=\"true\" data-sentry-element=\"BaseLink\" data-sentry-source-file=\"index.tsx\" href=\"https://www.jobkorea.co.kr/Recruit/GI_Read/47797902?Oem_Code=C1&amp;logpath=1&amp;stext=data+scientist&amp;listno=1&amp;sc=630\" rel=\"noopener noreferrer\" style=\"max-width:700px\" target=\"_blank\"><span class=\"Typography_variant_size18__344nw25 Typography_weight_medium__344nw2d Typography_color_gray900__344nw2m Typography_truncate__344nw2y\" data-accent-color=\"gray900\" data-sentry-element=\"Typography\" data-sentry-source-file=\"index.tsx\">데이터 사이언티스트</span></a></div>"
            ]
          },
          "metadata": {},
          "execution_count": 81
        }
      ]
    },
    {
      "cell_type": "code",
      "source": [
        "ss0 = soup.select('div .styles_mb_space2__dk46ts4t')[0]\n",
        "ss0.find_all('a')[0].text"
      ],
      "metadata": {
        "colab": {
          "base_uri": "https://localhost:8080/",
          "height": 35
        },
        "id": "7f47d5CX05Kb",
        "outputId": "c9cd08b4-5705-47e7-9037-e188f94c5146"
      },
      "execution_count": null,
      "outputs": [
        {
          "output_type": "execute_result",
          "data": {
            "text/plain": [
              "'데이터 사이언티스트'"
            ],
            "application/vnd.google.colaboratory.intrinsic+json": {
              "type": "string"
            }
          },
          "metadata": {},
          "execution_count": 82
        }
      ]
    },
    {
      "cell_type": "markdown",
      "source": [
        "# ------- 다음부터는 여러분의 숙제 입니다. ----------"
      ],
      "metadata": {
        "id": "F1lcybi2BMDO"
      }
    },
    {
      "cell_type": "markdown",
      "source": [
        "# Exercise"
      ],
      "metadata": {
        "id": "sgrfleoayF72"
      }
    },
    {
      "cell_type": "code",
      "source": [
        "import pandas as pd\n",
        "\n",
        "d = {\"col1\": [10, 20, 30]}\n",
        "pd.Series(d)\n"
      ],
      "metadata": {
        "colab": {
          "base_uri": "https://localhost:8080/",
          "height": 115
        },
        "id": "Ck6vGfVuyIrN",
        "outputId": "bab614a1-f59f-483d-c751-558b6928d629"
      },
      "execution_count": null,
      "outputs": [
        {
          "output_type": "execute_result",
          "data": {
            "text/plain": [
              "col1    [10, 20, 30]\n",
              "dtype: object"
            ],
            "text/html": [
              "<div>\n",
              "<style scoped>\n",
              "    .dataframe tbody tr th:only-of-type {\n",
              "        vertical-align: middle;\n",
              "    }\n",
              "\n",
              "    .dataframe tbody tr th {\n",
              "        vertical-align: top;\n",
              "    }\n",
              "\n",
              "    .dataframe thead th {\n",
              "        text-align: right;\n",
              "    }\n",
              "</style>\n",
              "<table border=\"1\" class=\"dataframe\">\n",
              "  <thead>\n",
              "    <tr style=\"text-align: right;\">\n",
              "      <th></th>\n",
              "      <th>0</th>\n",
              "    </tr>\n",
              "  </thead>\n",
              "  <tbody>\n",
              "    <tr>\n",
              "      <th>col1</th>\n",
              "      <td>[10, 20, 30]</td>\n",
              "    </tr>\n",
              "  </tbody>\n",
              "</table>\n",
              "</div><br><label><b>dtype:</b> object</label>"
            ]
          },
          "metadata": {},
          "execution_count": 83
        }
      ]
    },
    {
      "cell_type": "code",
      "source": [
        "pd.DataFrame(d)"
      ],
      "metadata": {
        "colab": {
          "base_uri": "https://localhost:8080/",
          "height": 143
        },
        "id": "ksOxKjwpyiyD",
        "outputId": "ff7f138f-34a4-43a3-9dae-dbd388f2e8a9"
      },
      "execution_count": null,
      "outputs": [
        {
          "output_type": "execute_result",
          "data": {
            "text/plain": [
              "   col1\n",
              "0    10\n",
              "1    20\n",
              "2    30"
            ],
            "text/html": [
              "\n",
              "  <div id=\"df-a06591d0-b78d-41b8-935a-0bd739800236\" class=\"colab-df-container\">\n",
              "    <div>\n",
              "<style scoped>\n",
              "    .dataframe tbody tr th:only-of-type {\n",
              "        vertical-align: middle;\n",
              "    }\n",
              "\n",
              "    .dataframe tbody tr th {\n",
              "        vertical-align: top;\n",
              "    }\n",
              "\n",
              "    .dataframe thead th {\n",
              "        text-align: right;\n",
              "    }\n",
              "</style>\n",
              "<table border=\"1\" class=\"dataframe\">\n",
              "  <thead>\n",
              "    <tr style=\"text-align: right;\">\n",
              "      <th></th>\n",
              "      <th>col1</th>\n",
              "    </tr>\n",
              "  </thead>\n",
              "  <tbody>\n",
              "    <tr>\n",
              "      <th>0</th>\n",
              "      <td>10</td>\n",
              "    </tr>\n",
              "    <tr>\n",
              "      <th>1</th>\n",
              "      <td>20</td>\n",
              "    </tr>\n",
              "    <tr>\n",
              "      <th>2</th>\n",
              "      <td>30</td>\n",
              "    </tr>\n",
              "  </tbody>\n",
              "</table>\n",
              "</div>\n",
              "    <div class=\"colab-df-buttons\">\n",
              "\n",
              "  <div class=\"colab-df-container\">\n",
              "    <button class=\"colab-df-convert\" onclick=\"convertToInteractive('df-a06591d0-b78d-41b8-935a-0bd739800236')\"\n",
              "            title=\"Convert this dataframe to an interactive table.\"\n",
              "            style=\"display:none;\">\n",
              "\n",
              "  <svg xmlns=\"http://www.w3.org/2000/svg\" height=\"24px\" viewBox=\"0 -960 960 960\">\n",
              "    <path d=\"M120-120v-720h720v720H120Zm60-500h600v-160H180v160Zm220 220h160v-160H400v160Zm0 220h160v-160H400v160ZM180-400h160v-160H180v160Zm440 0h160v-160H620v160ZM180-180h160v-160H180v160Zm440 0h160v-160H620v160Z\"/>\n",
              "  </svg>\n",
              "    </button>\n",
              "\n",
              "  <style>\n",
              "    .colab-df-container {\n",
              "      display:flex;\n",
              "      gap: 12px;\n",
              "    }\n",
              "\n",
              "    .colab-df-convert {\n",
              "      background-color: #E8F0FE;\n",
              "      border: none;\n",
              "      border-radius: 50%;\n",
              "      cursor: pointer;\n",
              "      display: none;\n",
              "      fill: #1967D2;\n",
              "      height: 32px;\n",
              "      padding: 0 0 0 0;\n",
              "      width: 32px;\n",
              "    }\n",
              "\n",
              "    .colab-df-convert:hover {\n",
              "      background-color: #E2EBFA;\n",
              "      box-shadow: 0px 1px 2px rgba(60, 64, 67, 0.3), 0px 1px 3px 1px rgba(60, 64, 67, 0.15);\n",
              "      fill: #174EA6;\n",
              "    }\n",
              "\n",
              "    .colab-df-buttons div {\n",
              "      margin-bottom: 4px;\n",
              "    }\n",
              "\n",
              "    [theme=dark] .colab-df-convert {\n",
              "      background-color: #3B4455;\n",
              "      fill: #D2E3FC;\n",
              "    }\n",
              "\n",
              "    [theme=dark] .colab-df-convert:hover {\n",
              "      background-color: #434B5C;\n",
              "      box-shadow: 0px 1px 3px 1px rgba(0, 0, 0, 0.15);\n",
              "      filter: drop-shadow(0px 1px 2px rgba(0, 0, 0, 0.3));\n",
              "      fill: #FFFFFF;\n",
              "    }\n",
              "  </style>\n",
              "\n",
              "    <script>\n",
              "      const buttonEl =\n",
              "        document.querySelector('#df-a06591d0-b78d-41b8-935a-0bd739800236 button.colab-df-convert');\n",
              "      buttonEl.style.display =\n",
              "        google.colab.kernel.accessAllowed ? 'block' : 'none';\n",
              "\n",
              "      async function convertToInteractive(key) {\n",
              "        const element = document.querySelector('#df-a06591d0-b78d-41b8-935a-0bd739800236');\n",
              "        const dataTable =\n",
              "          await google.colab.kernel.invokeFunction('convertToInteractive',\n",
              "                                                    [key], {});\n",
              "        if (!dataTable) return;\n",
              "\n",
              "        const docLinkHtml = 'Like what you see? Visit the ' +\n",
              "          '<a target=\"_blank\" href=https://colab.research.google.com/notebooks/data_table.ipynb>data table notebook</a>'\n",
              "          + ' to learn more about interactive tables.';\n",
              "        element.innerHTML = '';\n",
              "        dataTable['output_type'] = 'display_data';\n",
              "        await google.colab.output.renderOutput(dataTable, element);\n",
              "        const docLink = document.createElement('div');\n",
              "        docLink.innerHTML = docLinkHtml;\n",
              "        element.appendChild(docLink);\n",
              "      }\n",
              "    </script>\n",
              "  </div>\n",
              "\n",
              "\n",
              "    <div id=\"df-4cae381d-a829-4b05-a552-48ecd826bfa4\">\n",
              "      <button class=\"colab-df-quickchart\" onclick=\"quickchart('df-4cae381d-a829-4b05-a552-48ecd826bfa4')\"\n",
              "                title=\"Suggest charts\"\n",
              "                style=\"display:none;\">\n",
              "\n",
              "<svg xmlns=\"http://www.w3.org/2000/svg\" height=\"24px\"viewBox=\"0 0 24 24\"\n",
              "     width=\"24px\">\n",
              "    <g>\n",
              "        <path d=\"M19 3H5c-1.1 0-2 .9-2 2v14c0 1.1.9 2 2 2h14c1.1 0 2-.9 2-2V5c0-1.1-.9-2-2-2zM9 17H7v-7h2v7zm4 0h-2V7h2v10zm4 0h-2v-4h2v4z\"/>\n",
              "    </g>\n",
              "</svg>\n",
              "      </button>\n",
              "\n",
              "<style>\n",
              "  .colab-df-quickchart {\n",
              "      --bg-color: #E8F0FE;\n",
              "      --fill-color: #1967D2;\n",
              "      --hover-bg-color: #E2EBFA;\n",
              "      --hover-fill-color: #174EA6;\n",
              "      --disabled-fill-color: #AAA;\n",
              "      --disabled-bg-color: #DDD;\n",
              "  }\n",
              "\n",
              "  [theme=dark] .colab-df-quickchart {\n",
              "      --bg-color: #3B4455;\n",
              "      --fill-color: #D2E3FC;\n",
              "      --hover-bg-color: #434B5C;\n",
              "      --hover-fill-color: #FFFFFF;\n",
              "      --disabled-bg-color: #3B4455;\n",
              "      --disabled-fill-color: #666;\n",
              "  }\n",
              "\n",
              "  .colab-df-quickchart {\n",
              "    background-color: var(--bg-color);\n",
              "    border: none;\n",
              "    border-radius: 50%;\n",
              "    cursor: pointer;\n",
              "    display: none;\n",
              "    fill: var(--fill-color);\n",
              "    height: 32px;\n",
              "    padding: 0;\n",
              "    width: 32px;\n",
              "  }\n",
              "\n",
              "  .colab-df-quickchart:hover {\n",
              "    background-color: var(--hover-bg-color);\n",
              "    box-shadow: 0 1px 2px rgba(60, 64, 67, 0.3), 0 1px 3px 1px rgba(60, 64, 67, 0.15);\n",
              "    fill: var(--button-hover-fill-color);\n",
              "  }\n",
              "\n",
              "  .colab-df-quickchart-complete:disabled,\n",
              "  .colab-df-quickchart-complete:disabled:hover {\n",
              "    background-color: var(--disabled-bg-color);\n",
              "    fill: var(--disabled-fill-color);\n",
              "    box-shadow: none;\n",
              "  }\n",
              "\n",
              "  .colab-df-spinner {\n",
              "    border: 2px solid var(--fill-color);\n",
              "    border-color: transparent;\n",
              "    border-bottom-color: var(--fill-color);\n",
              "    animation:\n",
              "      spin 1s steps(1) infinite;\n",
              "  }\n",
              "\n",
              "  @keyframes spin {\n",
              "    0% {\n",
              "      border-color: transparent;\n",
              "      border-bottom-color: var(--fill-color);\n",
              "      border-left-color: var(--fill-color);\n",
              "    }\n",
              "    20% {\n",
              "      border-color: transparent;\n",
              "      border-left-color: var(--fill-color);\n",
              "      border-top-color: var(--fill-color);\n",
              "    }\n",
              "    30% {\n",
              "      border-color: transparent;\n",
              "      border-left-color: var(--fill-color);\n",
              "      border-top-color: var(--fill-color);\n",
              "      border-right-color: var(--fill-color);\n",
              "    }\n",
              "    40% {\n",
              "      border-color: transparent;\n",
              "      border-right-color: var(--fill-color);\n",
              "      border-top-color: var(--fill-color);\n",
              "    }\n",
              "    60% {\n",
              "      border-color: transparent;\n",
              "      border-right-color: var(--fill-color);\n",
              "    }\n",
              "    80% {\n",
              "      border-color: transparent;\n",
              "      border-right-color: var(--fill-color);\n",
              "      border-bottom-color: var(--fill-color);\n",
              "    }\n",
              "    90% {\n",
              "      border-color: transparent;\n",
              "      border-bottom-color: var(--fill-color);\n",
              "    }\n",
              "  }\n",
              "</style>\n",
              "\n",
              "      <script>\n",
              "        async function quickchart(key) {\n",
              "          const quickchartButtonEl =\n",
              "            document.querySelector('#' + key + ' button');\n",
              "          quickchartButtonEl.disabled = true;  // To prevent multiple clicks.\n",
              "          quickchartButtonEl.classList.add('colab-df-spinner');\n",
              "          try {\n",
              "            const charts = await google.colab.kernel.invokeFunction(\n",
              "                'suggestCharts', [key], {});\n",
              "          } catch (error) {\n",
              "            console.error('Error during call to suggestCharts:', error);\n",
              "          }\n",
              "          quickchartButtonEl.classList.remove('colab-df-spinner');\n",
              "          quickchartButtonEl.classList.add('colab-df-quickchart-complete');\n",
              "        }\n",
              "        (() => {\n",
              "          let quickchartButtonEl =\n",
              "            document.querySelector('#df-4cae381d-a829-4b05-a552-48ecd826bfa4 button');\n",
              "          quickchartButtonEl.style.display =\n",
              "            google.colab.kernel.accessAllowed ? 'block' : 'none';\n",
              "        })();\n",
              "      </script>\n",
              "    </div>\n",
              "\n",
              "    </div>\n",
              "  </div>\n"
            ],
            "application/vnd.google.colaboratory.intrinsic+json": {
              "type": "dataframe",
              "summary": "{\n  \"name\": \"pd\",\n  \"rows\": 3,\n  \"fields\": [\n    {\n      \"column\": \"col1\",\n      \"properties\": {\n        \"dtype\": \"number\",\n        \"std\": 10,\n        \"min\": 10,\n        \"max\": 30,\n        \"num_unique_values\": 3,\n        \"samples\": [\n          10,\n          20,\n          30\n        ],\n        \"semantic_type\": \"\",\n        \"description\": \"\"\n      }\n    }\n  ]\n}"
            }
          },
          "metadata": {},
          "execution_count": 21
        }
      ]
    }
  ],
  "metadata": {
    "colab": {
      "provenance": [],
      "toc_visible": true,
      "include_colab_link": true
    },
    "kernelspec": {
      "display_name": "Python 3",
      "language": "python",
      "name": "python3"
    },
    "language_info": {
      "codemirror_mode": {
        "name": "ipython",
        "version": 3
      },
      "file_extension": ".py",
      "mimetype": "text/x-python",
      "name": "python",
      "nbconvert_exporter": "python",
      "pygments_lexer": "ipython3",
      "version": "3.8.5"
    }
  },
  "nbformat": 4,
  "nbformat_minor": 0
}