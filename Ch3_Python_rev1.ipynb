{
  "nbformat": 4,
  "nbformat_minor": 0,
  "metadata": {
    "colab": {
      "provenance": [],
      "toc_visible": true,
      "authorship_tag": "ABX9TyNWq9lTtvTi6gr390YyW5Mg",
      "include_colab_link": true
    },
    "kernelspec": {
      "name": "python3",
      "display_name": "Python 3"
    },
    "language_info": {
      "name": "python"
    }
  },
  "cells": [
    {
      "cell_type": "markdown",
      "metadata": {
        "id": "view-in-github",
        "colab_type": "text"
      },
      "source": [
        "<a href=\"https://colab.research.google.com/github/rtajeong/M1_2025/blob/main/Ch3_Python_rev1.ipynb\" target=\"_parent\"><img src=\"https://colab.research.google.com/assets/colab-badge.svg\" alt=\"Open In Colab\"/></a>"
      ]
    },
    {
      "cell_type": "markdown",
      "source": [
        "# Python"
      ],
      "metadata": {
        "id": "5n6DDjXFMBfX"
      }
    },
    {
      "cell_type": "code",
      "source": [
        "list( range(1,5))"
      ],
      "metadata": {
        "colab": {
          "base_uri": "https://localhost:8080/"
        },
        "id": "sOIiOX2ZE7P8",
        "outputId": "6ed90cde-034b-42c7-fc06-c572e1ffce4a"
      },
      "execution_count": null,
      "outputs": [
        {
          "output_type": "execute_result",
          "data": {
            "text/plain": [
              "[1, 2, 3, 4]"
            ]
          },
          "metadata": {},
          "execution_count": 1
        }
      ]
    },
    {
      "cell_type": "code",
      "source": [
        "import numpy as np\n",
        "np.arange(1,5)"
      ],
      "metadata": {
        "colab": {
          "base_uri": "https://localhost:8080/"
        },
        "id": "YRM_L1QWFNeg",
        "outputId": "e63c12ce-f1b5-4fb1-8396-ebc0fdae29b9"
      },
      "execution_count": null,
      "outputs": [
        {
          "output_type": "execute_result",
          "data": {
            "text/plain": [
              "array([1, 2, 3, 4])"
            ]
          },
          "metadata": {},
          "execution_count": 2
        }
      ]
    },
    {
      "cell_type": "markdown",
      "source": [
        "## 파이썬 스타일 코딩 예\n",
        "- 같은 기능이라도 더 간결하고 효율적으로 작성하는 방법"
      ],
      "metadata": {
        "id": "EOJJ-hLN2kQ5"
      }
    },
    {
      "cell_type": "markdown",
      "source": [
        "- 반복문: 인덱스 대신 직접 순회"
      ],
      "metadata": {
        "id": "DqdAC7Em2zuo"
      }
    },
    {
      "cell_type": "code",
      "execution_count": null,
      "metadata": {
        "colab": {
          "base_uri": "https://localhost:8080/"
        },
        "id": "syTLfXeGL8mL",
        "outputId": "68c4c482-1ce8-4a5b-9e30-48c62f103931"
      },
      "outputs": [
        {
          "output_type": "stream",
          "name": "stdout",
          "text": [
            "10\n",
            "20\n",
            "30\n",
            "10\n",
            "20\n",
            "30\n"
          ]
        }
      ],
      "source": [
        "# 일반 방식 (리스트의 인덱스를 이용해 각 항목에 접근)\n",
        "my_list = [10, 20, 30]\n",
        "for i in range(len(my_list)):\n",
        "    print(my_list[i])\n",
        "\n",
        "# 파이썬 스타일 (항목 자체를 직접 순회)\n",
        "my_list = [10, 20, 30]\n",
        "for item in my_list:\n",
        "    print(item)"
      ]
    },
    {
      "cell_type": "markdown",
      "source": [
        "- 리스트 컴프리헨션: 간결한 리스트 생성"
      ],
      "metadata": {
        "id": "eFCiixI23H8j"
      }
    },
    {
      "cell_type": "code",
      "source": [
        "# 일반 방식\n",
        "squares1 = []\n",
        "for i in range(1, 6):\n",
        "    squares1.append(i * i)\n",
        "\n",
        "print(squares1)\n",
        "\n",
        "# 파이썬 방식\n",
        "squares2 = [i * i for i in range(1, 6)]\n",
        "print(squares2)"
      ],
      "metadata": {
        "colab": {
          "base_uri": "https://localhost:8080/"
        },
        "id": "TfKrx7nB3Lkp",
        "outputId": "71fe96ce-f76a-4773-8a18-96dfa5cbab3f"
      },
      "execution_count": null,
      "outputs": [
        {
          "output_type": "stream",
          "name": "stdout",
          "text": [
            "[1, 4, 9, 16, 25]\n",
            "[1, 4, 9, 16, 25]\n"
          ]
        }
      ]
    },
    {
      "cell_type": "markdown",
      "source": [
        "- 튜플 언패킹: 임시 변수 없이 두 변수 값 교환"
      ],
      "metadata": {
        "id": "qDKd3SyU3jT3"
      }
    },
    {
      "cell_type": "code",
      "source": [
        "a, b = 100, 200\n",
        "\n",
        "a, b = b, a"
      ],
      "metadata": {
        "id": "5NxSoorD3rvf"
      },
      "execution_count": null,
      "outputs": []
    },
    {
      "cell_type": "markdown",
      "source": [
        "- 조건 표현: 명시적인 것이 암시적인 것보다 낫다"
      ],
      "metadata": {
        "id": "z4UjcrVN3n5u"
      }
    },
    {
      "cell_type": "code",
      "source": [
        "# 'in' 키워드로 의도를 명확히 드러낸다.\n",
        "my_fruits = ['apple', 'pear', 'persimmon']\n",
        "\n",
        "if 'apple' in my_fruits:\n",
        "    print(\"사과가 있습니다.\")"
      ],
      "metadata": {
        "colab": {
          "base_uri": "https://localhost:8080/"
        },
        "id": "Z0l2VYDC36Wp",
        "outputId": "999feb18-0e3a-4a88-f8b5-55501ae0ef42"
      },
      "execution_count": null,
      "outputs": [
        {
          "output_type": "stream",
          "name": "stdout",
          "text": [
            "사과가 있습니다.\n"
          ]
        }
      ]
    },
    {
      "cell_type": "markdown",
      "source": [
        "- 딕셔너리 값 안전하게 가져오기:\n",
        "  - .get() 활용 딕셔너리에서 특정 키(key)의 값(value)을 가져올 때, 해당 키가 존재하지 않으면 오류가 발생한다. 이를 피하기 위해 보통 if문으로 키가 있는지 먼저 확인한다. 하지만 .get() 메서드를 사용하면 이 과정을 한 줄로 줄이고, 키가 없을 때 반환할 기본값까지 설정할 수 있어 훨씬 안전하고 깔끔하다."
      ],
      "metadata": {
        "id": "tvBka90B4dSL"
      }
    },
    {
      "cell_type": "code",
      "source": [
        "# 일반 방식\n",
        "user_profile = {'name': '앨리스', 'age': 25}\n",
        "\n",
        "if 'email' in user_profile:\n",
        "    email = user_profile['email']\n",
        "else:\n",
        "    email = '이메일 정보 없음'\n",
        "\n",
        "print(email)\n",
        "\n",
        "# 파이썬 방식\n",
        "user_profile = {'name': '앨리스', 'age': 25}\n",
        "\n",
        "# .get()을 사용해 'email' 키를 찾고, 없으면 기본값으로 '이메일 정보 없음'을 사용한다.\n",
        "email = user_profile.get('email', '이메일 정보 없음')\n",
        "\n",
        "print(email)"
      ],
      "metadata": {
        "colab": {
          "base_uri": "https://localhost:8080/"
        },
        "id": "kVgtiXbO4pmv",
        "outputId": "17480310-67a3-4814-a4b7-193ccc10bcf4"
      },
      "execution_count": null,
      "outputs": [
        {
          "output_type": "stream",
          "name": "stdout",
          "text": [
            "이메일 정보 없음\n",
            "이메일 정보 없음\n"
          ]
        }
      ]
    },
    {
      "cell_type": "markdown",
      "source": [
        "- 조건부 값 할당: 조건부 표현식 (Ternary Operator)\n",
        "  - 조건에 따라 변수에 다른 값을 할당할 때 if-else 블록을 길게 작성하는 대신, 파이썬의 조건부 표현식을 사용하면 한 줄로 간결하게 표현"
      ],
      "metadata": {
        "id": "nyYA352v45qx"
      }
    },
    {
      "cell_type": "code",
      "source": [
        "# 일반 방식\n",
        "age = 20\n",
        "\n",
        "if age >= 19:\n",
        "    status = '성인'\n",
        "else:\n",
        "    status = '미성년자'\n",
        "print(status)\n",
        "\n",
        "# [True일 때 값] if [조건] else [False일 때 값]\n",
        "status = '성인' if age >= 19 else '미성년자'\n",
        "print(status)"
      ],
      "metadata": {
        "colab": {
          "base_uri": "https://localhost:8080/"
        },
        "id": "RNwYCTcI4-zh",
        "outputId": "7883bf45-4e1a-4136-94ae-f412f7085b70"
      },
      "execution_count": null,
      "outputs": [
        {
          "output_type": "stream",
          "name": "stdout",
          "text": [
            "성인\n",
            "성인\n"
          ]
        }
      ]
    },
    {
      "cell_type": "markdown",
      "source": [
        "- 문자열 리스트 합치기: str.join()\n",
        "  - 리스트에 담긴 여러 문자열을 하나로 합칠 때, for 루프 안에서 + 연산자를 반복적으로 사용하는 것은 매우 비효율적이다. 매번 새로운 문자열 객체가 메모리에 생성되기 때문이다. 구분자(separator) 문자열의 .join() 메서드를 사용하는 것이 훨씬 빠르고 파이썬다운 방법이다."
      ],
      "metadata": {
        "id": "KzEVO3B65jTW"
      }
    },
    {
      "cell_type": "code",
      "source": [
        "# 일반 방식\n",
        "words = ['데이터', '사이언스는', '재미있다']\n",
        "sentence = ''\n",
        "for word in words:\n",
        "    sentence += word + ' ' # 루프가 돌 때마다 새로운 문자열이 생성됨\n",
        "\n",
        "print(sentence.strip()) # 마지막 공백 제거 필요\n",
        "# 퍼이썬 방식\n",
        "words = ['데이터', '사이언스는', '재미있다']\n",
        "\n",
        "# ' '(공백)을 기준으로 words 리스트의 항목들을 합친다.\n",
        "sentence = ' '.join(words)\n",
        "print(sentence)"
      ],
      "metadata": {
        "colab": {
          "base_uri": "https://localhost:8080/"
        },
        "id": "7bPZd6pc5nxE",
        "outputId": "083eb5d1-ed77-4efc-9974-38b7294638c1"
      },
      "execution_count": null,
      "outputs": [
        {
          "output_type": "stream",
          "name": "stdout",
          "text": [
            "데이터 사이언스는 재미있다\n",
            "데이터 사이언스는 재미있다\n"
          ]
        }
      ]
    },
    {
      "cell_type": "markdown",
      "source": [
        "- 파일 처리: with 구문 사용\n",
        "  - with 구문을 사용하면, 해당 블록이 끝나거나 중간에 오류가 발생하더라도 파이썬이 자동으로 파일을 닫아주므로 코드가 훨씬 안전하고 간결"
      ],
      "metadata": {
        "id": "_SCMBwfG58wv"
      }
    },
    {
      "cell_type": "code",
      "source": [
        "# 일반 방법\n",
        "f = open('my_file1.txt', 'w')\n",
        "try:\n",
        "    f.write('파이썬은 편리하다.')\n",
        "finally:\n",
        "    f.close() # 에러가 발생해도 반드시 실행됨\n",
        "\n",
        "# 파이썬 권장 방식\n",
        "# with 블록이 끝나면 f.close()가 자동으로 호출된다.\n",
        "with open('my_file2.txt', 'w') as f:\n",
        "    f.write('파이썬은 편리하다.')"
      ],
      "metadata": {
        "id": "pXfw1uDF6FNv"
      },
      "execution_count": null,
      "outputs": []
    },
    {
      "cell_type": "markdown",
      "source": [
        "## 기본 자료형 (Basic Variables)"
      ],
      "metadata": {
        "id": "wNwp4W9h09Ly"
      }
    },
    {
      "cell_type": "code",
      "source": [
        "student_count = 75      # int (정수형)\n",
        "average_score = 85.5    # float (실수형)\n",
        "is_registered = True    # bool (불리언)\n",
        "has_permission = False  # bool (불리언)"
      ],
      "metadata": {
        "id": "Ab4b7-mP1Iz7"
      },
      "execution_count": null,
      "outputs": []
    },
    {
      "cell_type": "code",
      "source": [
        "# 문자열 (string type) - 현대적인 문자열 처리 (f-string)\n",
        "\n",
        "user_name = \"홍길동\"\n",
        "user_age = 28\n",
        "\n",
        "# f-string을 사용하여 변수와 문자열을 조합한다.\n",
        "profile_message = f\"사용자 이름은 {user_name}이고, 나이는 {user_age}세입니다.\"\n",
        "\n",
        "print(profile_message)\n",
        "# 출력 결과: 사용자 이름은 홍길동이고, 나이는 28세입니다."
      ],
      "metadata": {
        "colab": {
          "base_uri": "https://localhost:8080/"
        },
        "id": "aEL91m8y1XjC",
        "outputId": "c0334c37-e173-4ae2-bf59-05d134d92979"
      },
      "execution_count": null,
      "outputs": [
        {
          "output_type": "stream",
          "name": "stdout",
          "text": [
            "사용자 이름은 홍길동이고, 나이는 28세입니다.\n"
          ]
        }
      ]
    },
    {
      "cell_type": "markdown",
      "source": [
        "- int (arbitrary-precision, 임의 정밀도): 메모리가 허용하는 한, 얼마든지 큰 정수를 저장 가능\n",
        "- float (ieee-754 double) 64-bit"
      ],
      "metadata": {
        "id": "sqTRFeR-aUF5"
      }
    },
    {
      "cell_type": "code",
      "source": [
        "# 일반적인 크기의 정수\n",
        "small_int = 100\n",
        "print(f\"작은 정수 타입: {type(small_int)}\")\n",
        "\n",
        "# 64비트 범위를 훨씬 넘어서는 매우 큰 정수\n",
        "large_int = 2 ** 1000\n",
        "print(large_int) # 매우 긴 숫자가 출력됨\n",
        "print(f\"큰 정수 타입: {type(large_int)}\")"
      ],
      "metadata": {
        "colab": {
          "base_uri": "https://localhost:8080/"
        },
        "id": "wYB9e-rdaTun",
        "outputId": "a212eb64-9489-4cbd-8279-27491571a318"
      },
      "execution_count": null,
      "outputs": [
        {
          "output_type": "stream",
          "name": "stdout",
          "text": [
            "작은 정수 타입: <class 'int'>\n",
            "10715086071862673209484250490600018105614048117055336074437503883703510511249361224931983788156958581275946729175531468251871452856923140435984577574698574803934567774824230985421074605062371141877954182153046474983581941267398767559165543946077062914571196477686542167660429831652624386837205668069376\n",
            "큰 정수 타입: <class 'int'>\n"
          ]
        }
      ]
    },
    {
      "cell_type": "markdown",
      "source": [
        "- Numpy int 는 기본 64-bit (in 64-bit OS) 이지만 명시적으로 타입 지정 가능\n",
        "- Numpy float : 64-bit"
      ],
      "metadata": {
        "id": "nqoh84PHa-hE"
      }
    },
    {
      "cell_type": "code",
      "source": [
        "import numpy as np\n",
        "\n",
        "# 64비트 OS에서 실행 시, 기본적으로 int64로 생성됨\n",
        "arr_default = np.array([10, 20, 30])\n",
        "print(f\"기본 정수 타입: {arr_default.dtype}\")\n",
        "\n",
        "# 타입을 32비트로 명시적으로 지정\n",
        "arr_32 = np.array([10, 20, 30], dtype=np.int32)\n",
        "print(f\"32비트 정수 타입: {arr_32.dtype}\")\n",
        "\n",
        "# 타입을 8비트로 명시적으로 지정\n",
        "arr_8 = np.array([10, 20, 30], dtype=np.int8)\n",
        "print(f\"8비트 정수 타입: {arr_8.dtype}\")\n",
        "\n",
        "# float\n",
        "arr_default2 = np.array([10., 20., 30.])\n",
        "print(f\"기본 실수 타입: {arr_default2.dtype}\")"
      ],
      "metadata": {
        "colab": {
          "base_uri": "https://localhost:8080/"
        },
        "id": "cB0EEfJSax6e",
        "outputId": "f2da2d3e-4812-4c2d-8fd1-c2a2bf651222"
      },
      "execution_count": null,
      "outputs": [
        {
          "output_type": "stream",
          "name": "stdout",
          "text": [
            "기본 정수 타입: int64\n",
            "32비트 정수 타입: int32\n",
            "8비트 정수 타입: int8\n",
            "기본 실수 타입: float64\n"
          ]
        }
      ]
    },
    {
      "cell_type": "markdown",
      "source": [
        "## 자료구조(Container Type Variables))"
      ],
      "metadata": {
        "id": "0AtBrTNU4qHy"
      }
    },
    {
      "cell_type": "markdown",
      "source": [
        "### String (문자열)"
      ],
      "metadata": {
        "id": "J9k2HPnCwVpR"
      }
    },
    {
      "cell_type": "code",
      "source": [
        "my_string = \"Hello\"\n",
        "\n",
        "# 인덱싱: 0번 위치의 문자에 접근\n",
        "print(my_string[0])\n",
        "\n",
        "# 슬라이싱: 1번부터 3번 전까지의 부분 문자열 추출\n",
        "print(my_string[1:3]) # 출력: el"
      ],
      "metadata": {
        "colab": {
          "base_uri": "https://localhost:8080/"
        },
        "id": "d5zi349FwYlK",
        "outputId": "393491c6-edf8-4006-c27e-ed41aeffd00d"
      },
      "execution_count": null,
      "outputs": [
        {
          "output_type": "stream",
          "name": "stdout",
          "text": [
            "H\n",
            "el\n"
          ]
        }
      ]
    },
    {
      "cell_type": "markdown",
      "source": [
        "#### 문자열 형식 저장 방법 (print())"
      ],
      "metadata": {
        "id": "4X4DLkRXw2xZ"
      }
    },
    {
      "cell_type": "code",
      "source": [
        "\"a\" + \"b\", 1 + 3"
      ],
      "metadata": {
        "colab": {
          "base_uri": "https://localhost:8080/"
        },
        "id": "Br2uLWQk_BLd",
        "outputId": "e36697ed-934c-49d4-dced-bb01213ab5fc"
      },
      "execution_count": null,
      "outputs": [
        {
          "output_type": "execute_result",
          "data": {
            "text/plain": [
              "('ab', 4)"
            ]
          },
          "metadata": {},
          "execution_count": 8
        }
      ]
    },
    {
      "cell_type": "code",
      "source": [
        "# 참고: 문자열 형식 지정 방법 (String Formatting), print() 에도 적용\n",
        "name = \"Alice\"\n",
        "age = 30\n",
        "\n",
        "# 방법 1: + 연산자를 이용한 연결 (구식)\n",
        "print(\"Name: \" + name + \", Age: \" + str(age))\n",
        "\n",
        "# 방법 2: % 포맷팅 (C언어 스타일)\n",
        "print(\"Name: %s, Age: %d\" % (name, age))\n",
        "\n",
        "# 방법 3: str.format() 메서드\n",
        "print(\"Name: {}, Age: {}\".format(name, age))\n",
        "\n",
        "# *** 방법 4: f-string (Formatted String Literals) 가장 권장되는 방법 ***\n",
        "# 변수를 직접 삽입\n",
        "print(f\"Name: {name}, Age: {age}\")\n",
        "\n",
        "# 표현식도 바로 사용 가능\n",
        "print(f\"In 5 years, she will be {age + 5} years old.\")"
      ],
      "metadata": {
        "id": "WU4LDYeBwvF5",
        "colab": {
          "base_uri": "https://localhost:8080/"
        },
        "outputId": "d86c796b-548f-4d28-f939-f6998bfb508e"
      },
      "execution_count": null,
      "outputs": [
        {
          "output_type": "stream",
          "name": "stdout",
          "text": [
            "Name: Alice, Age: 30\n",
            "Name: Alice, Age: 30\n",
            "Name: Alice, Age: 30\n",
            "Name: Alice, Age: 30\n",
            "In 5 years, she will be 35 years old.\n"
          ]
        }
      ]
    },
    {
      "cell_type": "markdown",
      "source": [
        "\n",
        "### 리스트"
      ],
      "metadata": {
        "id": "CICr1O74Fscb"
      }
    },
    {
      "cell_type": "code",
      "source": [
        "# 학생들의 시험 점수를 담은 리스트\n",
        "scores = [85, 92, 78, 100, 88]\n",
        "\n",
        "# 인덱싱: 0부터 시작하므로, 첫 번째 학생의 점수를 가져온다.\n",
        "first_student_score = scores[0]\n",
        "print(f\"첫 번째 학생의 점수: {first_student_score}\") # 출력: 85\n",
        "\n",
        "# 슬라이싱: 1번 인덱스부터 3번 인덱스 전까지(1, 2)의 데이터를 가져온다.\n",
        "middle_scores = scores[1:3]\n",
        "print(f\"중간 그룹 점수: {middle_scores}\") # 출력: [92, 78]\n",
        "\n",
        "# 값 변경: 3번째 학생(인덱스 2)의 점수를 80점으로 변경한다.\n",
        "scores[2] = 80\n",
        "print(f\"수정된 점수 리스트: {scores}\") # 출력: [85, 92, 80, 100, 88]"
      ],
      "metadata": {
        "colab": {
          "base_uri": "https://localhost:8080/"
        },
        "id": "uuXnoP1k4rrw",
        "outputId": "82a7d9ee-e4d0-412a-b4fb-c705639776f2"
      },
      "execution_count": null,
      "outputs": [
        {
          "output_type": "stream",
          "name": "stdout",
          "text": [
            "첫 번째 학생의 점수: 85\n",
            "중간 그룹 점수: [92, 78]\n",
            "수정된 점수 리스트: [85, 92, 80, 100, 88]\n"
          ]
        }
      ]
    },
    {
      "cell_type": "code",
      "source": [
        "# 리스트 끝에 새로운 점수 추가하기\n",
        "scores.append(95)\n",
        "print(f\"점수 추가 후: {scores}\") # 출력: [85, 92, 80, 100, 88, 95]\n",
        "\n",
        "# 리스트에 담긴 데이터의 개수 확인하기\n",
        "num_students = len(scores)\n",
        "print(f\"전체 학생 수: {num_students}\") # 출력: 6"
      ],
      "metadata": {
        "colab": {
          "base_uri": "https://localhost:8080/"
        },
        "id": "5aKJ5pGK4vT7",
        "outputId": "8b3c2447-7547-4c92-bda9-84ede6c406eb"
      },
      "execution_count": null,
      "outputs": [
        {
          "output_type": "stream",
          "name": "stdout",
          "text": [
            "점수 추가 후: [85, 92, 80, 100, 88, 95]\n",
            "전체 학생 수: 6\n"
          ]
        }
      ]
    },
    {
      "cell_type": "markdown",
      "source": [
        "### 딕셔너리"
      ],
      "metadata": {
        "id": "wtoRTCo27ZyN"
      }
    },
    {
      "cell_type": "code",
      "source": [
        "# 한 학생의 정보를 담은 딕셔너리\n",
        "student = {\n",
        "    'name': '김데이터',\n",
        "    'score': 92,\n",
        "    'major': '컴퓨터공학'\n",
        "}\n",
        "\n",
        "# 키를 이용해 값에 접근하기\n",
        "student_name = student['name']\n",
        "print(f\"학생 이름: {student_name}\") # 출력: 김데이터\n",
        "\n",
        "# 새로운 키-값 쌍 추가 또는 수정하기\n",
        "student['age'] = 21   # 'age' 키가 없으면 새로 추가\n",
        "student['score'] = 95 # 'score' 키가 이미 있으면 값을 수정\n",
        "print(f\"수정된 학생 정보: {student}\")"
      ],
      "metadata": {
        "colab": {
          "base_uri": "https://localhost:8080/"
        },
        "id": "z9aayOIT6dnn",
        "outputId": "05d003fa-67b3-4755-dced-f0cf82680e6c"
      },
      "execution_count": null,
      "outputs": [
        {
          "output_type": "stream",
          "name": "stdout",
          "text": [
            "학생 이름: 김데이터\n",
            "수정된 학생 정보: {'name': '김데이터', 'score': 95, 'major': '컴퓨터공학', 'age': 21}\n"
          ]
        }
      ]
    },
    {
      "cell_type": "markdown",
      "source": [
        "- .get() 메서드를 사용하면 오류 없이 안전하게 값을 가져오고, 키가 없을 때 사용할 기본값도 지정할 수 있다"
      ],
      "metadata": {
        "id": "cslTnLzk8uqH"
      }
    },
    {
      "cell_type": "code",
      "source": [
        "# 'email' 키는 없으므로 기본값 '정보 없음'이 반환된다.\n",
        "email = student.get('email', '정보 없음')\n",
        "print(f\"학생 이메일: {email}\") # 출력: 정보 없음"
      ],
      "metadata": {
        "colab": {
          "base_uri": "https://localhost:8080/"
        },
        "id": "KbajC93f8rR-",
        "outputId": "dd3a16c7-08b3-460c-ade9-d52b3ec5ee17"
      },
      "execution_count": null,
      "outputs": [
        {
          "output_type": "stream",
          "name": "stdout",
          "text": [
            "학생 이메일: 정보 없음\n"
          ]
        }
      ]
    },
    {
      "cell_type": "markdown",
      "source": [
        "### 튜플(Tuple) and 세트 (Set)"
      ],
      "metadata": {
        "id": "RYNGr_ij-TaA"
      }
    },
    {
      "cell_type": "code",
      "source": [
        "# 튜플: 위도, 경도 정보 (변경되면 안 됨)\n",
        "position = (37.5665, 126.9780)\n",
        "\n",
        "# 세트: 중복된 과일 이름은 자동으로 하나만 남는다.\n",
        "fruits = {'apple', 'banana', 'apple', 'orange'}\n",
        "print(fruits)"
      ],
      "metadata": {
        "colab": {
          "base_uri": "https://localhost:8080/"
        },
        "id": "ByK2WaV2-dep",
        "outputId": "af8c42b8-6fa4-470c-b411-60ed9fb920ce"
      },
      "execution_count": null,
      "outputs": [
        {
          "output_type": "stream",
          "name": "stdout",
          "text": [
            "{'orange', 'apple', 'banana'}\n"
          ]
        }
      ]
    },
    {
      "cell_type": "markdown",
      "source": [
        "## 연산자\n",
        "- 산술 연산자: +: 덧셈, -: 뺄셈, *: 곱셈, /: 나눗셈, **: 거듭제곱, //: 나눗셈의 몫, %: 나눗셈의 나머지 (모듈로 연산)\n",
        "- 비교 연산자: ==, !=, >, <, >=, <=\n",
        "- 논리 연산자: and, or, not\n",
        "- (복합) 할당 연산자: =, +=, -=, *=, /="
      ],
      "metadata": {
        "id": "Y4HtsNyKDVOw"
      }
    },
    {
      "cell_type": "code",
      "source": [
        "a, b = 21, 5\n",
        "print(a/b, a//b, a%b)  # division, integer division, remainder\n",
        "a += 2   # a = a+2\n",
        "print(a)"
      ],
      "metadata": {
        "colab": {
          "base_uri": "https://localhost:8080/"
        },
        "id": "ATSu3yy9D1Ty",
        "outputId": "d43fbe90-aedd-422a-ea3b-b48714727278"
      },
      "execution_count": null,
      "outputs": [
        {
          "output_type": "stream",
          "name": "stdout",
          "text": [
            "4.2 4 1\n",
            "23\n"
          ]
        }
      ]
    },
    {
      "cell_type": "markdown",
      "source": [
        "## Control Flow"
      ],
      "metadata": {
        "id": "57q9XGovFzuH"
      }
    },
    {
      "cell_type": "markdown",
      "source": [
        "- if, elif, else"
      ],
      "metadata": {
        "id": "GJa-uXF9F8rr"
      }
    },
    {
      "cell_type": "code",
      "source": [
        "# 점수에 따라 학점을 부여하는 프로그램\n",
        "score = 85\n",
        "\n",
        "if score >= 90:\n",
        "    grade = 'A'\n",
        "elif score >= 80:\n",
        "    grade = 'B'\n",
        "elif score >= 70:\n",
        "    grade = 'C'\n",
        "else: # 70점 미만인 모든 경우\n",
        "    grade = 'F'\n",
        "\n",
        "print(f\"당신의 점수는 {score}점이고, 학점은 '{grade}'입니다.\")\n",
        "# 출력: 당신의 점수는 85점이고, 학점은 'B'입니다."
      ],
      "metadata": {
        "colab": {
          "base_uri": "https://localhost:8080/"
        },
        "id": "rSXynTabF_6b",
        "outputId": "1dd6eb4b-c78c-4fd3-f8ab-008755bbd212"
      },
      "execution_count": null,
      "outputs": [
        {
          "output_type": "stream",
          "name": "stdout",
          "text": [
            "당신의 점수는 85점이고, 학점은 'B'입니다.\n"
          ]
        }
      ]
    },
    {
      "cell_type": "markdown",
      "source": [
        "- match-case (Python 3.10+의 새로운 기능)"
      ],
      "metadata": {
        "id": "qoHVPAAFGGk1"
      }
    },
    {
      "cell_type": "code",
      "source": [
        "# 상태 코드에 따른 메시지 처리\n",
        "status_code = 404\n",
        "\n",
        "match status_code:\n",
        "    case 200:\n",
        "        message = \"요청 성공\"\n",
        "    case 404:\n",
        "        message = \"페이지를 찾을 수 없습니다.\"\n",
        "    case 500:\n",
        "        message = \"서버 내부 오류\"\n",
        "    case _: # 위의 어떤 case와도 일치하지 않는 경우 (if문의 else와 유사)\n",
        "        message = \"알 수 없는 상태\"\n",
        "\n",
        "print(message)"
      ],
      "metadata": {
        "colab": {
          "base_uri": "https://localhost:8080/"
        },
        "id": "-oQrTCuaESBJ",
        "outputId": "5a4494d2-127b-4ce4-fcfc-5572b7b52693"
      },
      "execution_count": null,
      "outputs": [
        {
          "output_type": "stream",
          "name": "stdout",
          "text": [
            "페이지를 찾을 수 없습니다.\n"
          ]
        }
      ]
    },
    {
      "cell_type": "markdown",
      "source": [
        "- for, while"
      ],
      "metadata": {
        "id": "PTV7RclHGY9w"
      }
    },
    {
      "cell_type": "code",
      "source": [
        "# 학생 점수 리스트의 총합과 평균 계산하기\n",
        "scores = [85, 92, 80, 100, 88]\n",
        "total_score = 0\n",
        "\n",
        "# scores 리스트에서 점수를 하나씩 꺼내 score 변수에 담아 반복한다.\n",
        "for score in scores:\n",
        "    total_score += score # 꺼낸 점수를 total_score에 누적\n",
        "\n",
        "average_score = total_score / len(scores)\n",
        "\n",
        "print(f\"총점: {total_score}, 평균: {average_score}\")"
      ],
      "metadata": {
        "colab": {
          "base_uri": "https://localhost:8080/"
        },
        "id": "F7fgRtz8GX9U",
        "outputId": "4df2f067-277f-4913-d770-1ae18e17f9e7"
      },
      "execution_count": null,
      "outputs": [
        {
          "output_type": "stream",
          "name": "stdout",
          "text": [
            "총점: 445, 평균: 89.0\n"
          ]
        }
      ]
    },
    {
      "cell_type": "markdown",
      "source": [
        "- range()"
      ],
      "metadata": {
        "id": "zpMWhGOXGmfe"
      }
    },
    {
      "cell_type": "code",
      "source": [
        "# \"Hello\"를 3번 출력하기\n",
        "for i in range(3):  # 0, 1, 2 세 번 반복\n",
        "    print(f\"{i+1}번째 Hello\")"
      ],
      "metadata": {
        "colab": {
          "base_uri": "https://localhost:8080/"
        },
        "id": "rjTDVsDQGizm",
        "outputId": "044489c9-f71b-4924-f8e5-82fc3e541164"
      },
      "execution_count": null,
      "outputs": [
        {
          "output_type": "stream",
          "name": "stdout",
          "text": [
            "1번째 Hello\n",
            "2번째 Hello\n",
            "3번째 Hello\n"
          ]
        }
      ]
    },
    {
      "cell_type": "code",
      "source": [
        "# 숫자가 1이 될 때까지 계속 2로 나누는 과정\n",
        "n = 100\n",
        "count = 0\n",
        "\n",
        "while n > 1:\n",
        "    n = n // 2\n",
        "    count += 1\n",
        "    print(f\"{count}번 나눈 결과: {n}\")\n",
        "\n",
        "print(f\"1보다 커서 총 {count}번 반복했습니다.\")"
      ],
      "metadata": {
        "colab": {
          "base_uri": "https://localhost:8080/"
        },
        "id": "ka8aZeDqGsHV",
        "outputId": "084cc7c5-ca2d-4c7f-dd2c-85a043a93c2d"
      },
      "execution_count": null,
      "outputs": [
        {
          "output_type": "stream",
          "name": "stdout",
          "text": [
            "1번 나눈 결과: 50\n",
            "2번 나눈 결과: 25\n",
            "3번 나눈 결과: 12\n",
            "4번 나눈 결과: 6\n",
            "5번 나눈 결과: 3\n",
            "6번 나눈 결과: 1\n",
            "1보다 커서 총 6번 반복했습니다.\n"
          ]
        }
      ]
    },
    {
      "cell_type": "markdown",
      "source": [
        "## List comprehension"
      ],
      "metadata": {
        "id": "FOG3LZtRuruI"
      }
    },
    {
      "cell_type": "markdown",
      "source": [
        "- for 루프를 한 줄에"
      ],
      "metadata": {
        "id": "eivT42rQyXfy"
      }
    },
    {
      "cell_type": "code",
      "source": [
        "# 일반적인 방식\n",
        "numbers = [1, 2, 3, 4, 5]\n",
        "squares1 = []\n",
        "for num in numbers:\n",
        "    squares1.append(num ** 2)\n",
        "print(f\"제곱 리스트: {squares1}\")\n"
      ],
      "metadata": {
        "colab": {
          "base_uri": "https://localhost:8080/"
        },
        "id": "1vHoaSe_uvVJ",
        "outputId": "fd2492f2-1956-4d0f-8327-f49c1c152f92"
      },
      "execution_count": null,
      "outputs": [
        {
          "output_type": "stream",
          "name": "stdout",
          "text": [
            "제곱 리스트: [1, 4, 9, 16, 25]\n"
          ]
        }
      ]
    },
    {
      "cell_type": "code",
      "source": [
        "# List comprehension\n",
        "# numbers 리스트에서 num을 하나씩 꺼내 num ** 2 로 만들어 새 리스트를 만든다.\n",
        "squares2 = [num ** 2 for num in numbers]\n",
        "\n",
        "print(f\"제곱 리스트 (컴프리헨션): {squares2}\")"
      ],
      "metadata": {
        "colab": {
          "base_uri": "https://localhost:8080/"
        },
        "id": "3jsO6Oj8DhN0",
        "outputId": "12d2157f-eccc-4f06-b96f-5f477b0da701"
      },
      "execution_count": null,
      "outputs": [
        {
          "output_type": "stream",
          "name": "stdout",
          "text": [
            "제곱 리스트 (컴프리헨션): [1, 4, 9, 16, 25]\n"
          ]
        }
      ]
    },
    {
      "cell_type": "markdown",
      "source": [
        "- 조건문 추가"
      ],
      "metadata": {
        "id": "6KoxFA2syVY-"
      }
    },
    {
      "cell_type": "code",
      "source": [
        "# 일반적인 방식\n",
        "even_squares = []\n",
        "for i in range(1, 11):\n",
        "    if i % 2 == 0: # 짝수인지 확인하는 조건문\n",
        "        even_squares.append(i * i)\n",
        "\n",
        "print(f\"짝수의 제곱 리스트: {even_squares}\")\n",
        "\n",
        "# List comprehension\n",
        "# 1부터 10까지의 i 중에서, i가 짝수일 경우에만 i * i 를 수행한다.\n",
        "even_squares = [i **2 for i in range(1, 11) if i % 2 == 0]\n",
        "\n",
        "print(f\"짝수의 제곱 리스트 (컴프리헨션): {even_squares}\")"
      ],
      "metadata": {
        "colab": {
          "base_uri": "https://localhost:8080/"
        },
        "id": "7BVpqlXpvpGq",
        "outputId": "818639dd-f9cb-41d0-e46c-e41d532de514"
      },
      "execution_count": null,
      "outputs": [
        {
          "output_type": "stream",
          "name": "stdout",
          "text": [
            "짝수의 제곱 리스트: [4, 16, 36, 64, 100]\n",
            "짝수의 제곱 리스트 (컴프리헨션): [4, 16, 36, 64, 100]\n"
          ]
        }
      ]
    },
    {
      "cell_type": "markdown",
      "source": [
        "- 다양한 형태 응용"
      ],
      "metadata": {
        "id": "kih3VSW2yc0o"
      }
    },
    {
      "cell_type": "code",
      "source": [
        "A = range(6); B = ['a','b','c']; C = [(3,4),(7,24)]\n",
        "\n",
        "print([(x, x**2) for x in A if x % 2 == 0])\n",
        "print([(x, y) for x in A for y in B if x == 3])\n",
        "\n",
        "import math\n",
        "print([math.sqrt(x*x + y*y) for x, y in C])\n",
        "\n",
        "print({val:i for i, val in enumerate(B)})\n",
        "print([x if x < 2 else -1 for x in A])"
      ],
      "metadata": {
        "colab": {
          "base_uri": "https://localhost:8080/"
        },
        "id": "A2RPzD23xjR2",
        "outputId": "07823179-17d5-4034-c87f-3f6d9b88d48c"
      },
      "execution_count": null,
      "outputs": [
        {
          "output_type": "stream",
          "name": "stdout",
          "text": [
            "[(0, 0), (2, 4), (4, 16)]\n",
            "[(3, 'a'), (3, 'b'), (3, 'c')]\n",
            "[5.0, 25.0]\n",
            "{'a': 0, 'b': 1, 'c': 2}\n",
            "[0, 1, -1, -1, -1, -1]\n"
          ]
        }
      ]
    },
    {
      "cell_type": "code",
      "source": [
        "import numpy as np\n",
        "[np.sqrt(x*x + y*y) for x, y in C]  # 벡터 연산, 리스트 반환"
      ],
      "metadata": {
        "colab": {
          "base_uri": "https://localhost:8080/"
        },
        "id": "rR1cHFQfzZCt",
        "outputId": "21a43727-ba03-4a80-a811-7661373ca7bd"
      },
      "execution_count": null,
      "outputs": [
        {
          "output_type": "execute_result",
          "data": {
            "text/plain": [
              "[np.float64(5.0), np.float64(25.0)]"
            ]
          },
          "metadata": {},
          "execution_count": 12
        }
      ]
    },
    {
      "cell_type": "code",
      "source": [
        "import math\n",
        "type([math.sqrt(x*x + y*y) for x, y in C][0])  # 스칼라 연산, float 반환"
      ],
      "metadata": {
        "colab": {
          "base_uri": "https://localhost:8080/"
        },
        "id": "kW5I6rk90Xm9",
        "outputId": "a98f9b6b-3619-4166-c2cf-f7fbc29feb7d"
      },
      "execution_count": null,
      "outputs": [
        {
          "output_type": "execute_result",
          "data": {
            "text/plain": [
              "float"
            ]
          },
          "metadata": {},
          "execution_count": 13
        }
      ]
    },
    {
      "cell_type": "markdown",
      "source": [
        "- np.sqrt(): 벡터 연산 가능\n",
        "- math.sqrt(): (단일숫자) 연산"
      ],
      "metadata": {
        "id": "n4YJSya10xtJ"
      }
    },
    {
      "cell_type": "code",
      "source": [
        "x, y =np.array([1, 2, 3]), np.array([4, 5, 6])\n",
        "print(np.sqrt(x**2 + y**2))    # 벡터 연산\n",
        "\n",
        "try:\n",
        "    math.sqrt(x**2 + y**2)     # only 스칼라 연산\n",
        "except:\n",
        "    print (\"error: only length-1 arrays can be converted to Python scalars\")"
      ],
      "metadata": {
        "colab": {
          "base_uri": "https://localhost:8080/"
        },
        "id": "UW8O2UJ7zfBr",
        "outputId": "9d64f877-583a-46e0-b6ad-c39ebc6338cd"
      },
      "execution_count": null,
      "outputs": [
        {
          "output_type": "stream",
          "name": "stdout",
          "text": [
            "[4.12310563 5.38516481 6.70820393]\n",
            "error: only length-1 arrays can be converted to Python scalars\n"
          ]
        }
      ]
    },
    {
      "cell_type": "markdown",
      "source": [
        "## 함수(Function)"
      ],
      "metadata": {
        "id": "Ba0DEYso5X9r"
      }
    },
    {
      "cell_type": "markdown",
      "source": [
        "- 기본 함수 정의 및 호출"
      ],
      "metadata": {
        "id": "SZUBclCn9Q_1"
      }
    },
    {
      "cell_type": "code",
      "source": [
        "# 점수 리스트를 입력받아 평균을 계산하고 반환하는 함수\n",
        "def calculate_average(scores_list):\n",
        "    # 만약 리스트가 비어있으면 0을 반환 (오류 방지)\n",
        "    if not scores_list:\n",
        "        return 0\n",
        "\n",
        "    total = sum(scores_list)\n",
        "    average = total / len(scores_list)\n",
        "    return average\n",
        "\n",
        "# 위에서 정의한 함수를 실제로 호출하여 사용한다.\n",
        "my_math_scores = [88, 95, 100, 72, 85]\n",
        "my_eng_scores = [92, 89, 91, 78, 88]\n",
        "\n",
        "# 함수 호출 시 전달하는 실제 값을 '인자(argument)'라고 한다.\n",
        "math_avg = calculate_average(my_math_scores)\n",
        "eng_avg = calculate_average(my_eng_scores)\n",
        "\n",
        "print(f\"나의 수학 평균 점수: {math_avg:.2f}\")\n",
        "print(f\"나의 영어 평균 점수: {eng_avg:.2f}\")"
      ],
      "metadata": {
        "colab": {
          "base_uri": "https://localhost:8080/"
        },
        "id": "OGLv_jWb9ErW",
        "outputId": "131a076f-477f-44e2-f1f4-1169f03fa2a1"
      },
      "execution_count": null,
      "outputs": [
        {
          "output_type": "stream",
          "name": "stdout",
          "text": [
            "나의 수학 평균 점수: 88.00\n",
            "나의 영어 평균 점수: 87.60\n"
          ]
        }
      ]
    },
    {
      "cell_type": "markdown",
      "source": [
        "- 더 유연한 호출 방식"
      ],
      "metadata": {
        "id": "FnOKQy8S9PWO"
      }
    },
    {
      "cell_type": "code",
      "source": [
        "def get_final_price(original_price, discount_rate):\n",
        "    final_price = original_price * (1 - discount_rate)\n",
        "    return final_price\n",
        "\n",
        "# 순서대로 전달 (위치 인자)\n",
        "price1 = get_final_price(50000, 0.2)\n",
        "\n",
        "# 순서가 바뀌었지만, 키워드로 명시했기 때문에 정확히 작동 (키워드 인자)\n",
        "price2 = get_final_price(discount_rate=0.2, original_price=50000)\n",
        "\n",
        "print(f\"결과1: {price1}, 결과2: {price2}\")"
      ],
      "metadata": {
        "colab": {
          "base_uri": "https://localhost:8080/"
        },
        "id": "HCZh4FfY9YiG",
        "outputId": "735e0a9d-7d43-4a4a-a9b4-a7d63ce2bc69"
      },
      "execution_count": null,
      "outputs": [
        {
          "output_type": "stream",
          "name": "stdout",
          "text": [
            "결과1: 40000.0, 결과2: 40000.0\n"
          ]
        }
      ]
    },
    {
      "cell_type": "code",
      "source": [
        "# discount_rate의 기본값을 0.1 (10%)로 설정 (기본값 파라미터는 마지막에)\n",
        "def get_final_price_default(original_price, discount_rate=0.1):\n",
        "    final_price = original_price * (1 - discount_rate)\n",
        "    return final_price\n",
        "\n",
        "# 할인율을 생략 -> 기본값 0.1이 적용됨\n",
        "default_discounted = get_final_price_default(50000)\n",
        "print(f\"기본 할인 적용가: {default_discounted:,.0f}원\")\n",
        "\n",
        "# 할인율을 직접 지정 -> 지정한 값 0.25가 적용됨\n",
        "special_discounted = get_final_price_default(50000, 0.25)\n",
        "print(f\"특별 할인 적용가: {special_discounted:,.0f}원\")"
      ],
      "metadata": {
        "colab": {
          "base_uri": "https://localhost:8080/"
        },
        "id": "XlokaC159azb",
        "outputId": "d5c322c8-1035-4195-d329-9c4eb453a44c"
      },
      "execution_count": null,
      "outputs": [
        {
          "output_type": "stream",
          "name": "stdout",
          "text": [
            "기본 할인 적용가: 45,000원\n",
            "특별 할인 적용가: 37,500원\n"
          ]
        }
      ]
    },
    {
      "cell_type": "code",
      "source": [
        "# *args: 받은 모든 숫자의 합계를 구하는 함수\n",
        "\n",
        "def sum_all(*numbers):\n",
        "    total = 0\n",
        "    print(f\"받은 숫자들(튜플): {numbers}\")\n",
        "    for num in numbers:\n",
        "        total += num\n",
        "    return total\n",
        "\n",
        "result_sum = sum_all(10, 20, 30, 40, 50, 60)\n",
        "print(f\"총합: {result_sum}\")\n"
      ],
      "metadata": {
        "colab": {
          "base_uri": "https://localhost:8080/"
        },
        "id": "m-C398Qt9d6F",
        "outputId": "49ff2762-5ae6-4a62-a0da-2d2a4539aac2"
      },
      "execution_count": null,
      "outputs": [
        {
          "output_type": "stream",
          "name": "stdout",
          "text": [
            "받은 숫자들(튜플): (10, 20, 30, 40, 50, 60)\n",
            "총합: 210\n",
            "--------------------\n"
          ]
        }
      ]
    },
    {
      "cell_type": "code",
      "source": [
        "sum_all(1,2,3)"
      ],
      "metadata": {
        "colab": {
          "base_uri": "https://localhost:8080/"
        },
        "id": "NNWbGB1xGWId",
        "outputId": "0b0273cf-fb90-497a-9d71-2a14a29ba444"
      },
      "execution_count": null,
      "outputs": [
        {
          "output_type": "stream",
          "name": "stdout",
          "text": [
            "받은 숫자들(튜플): (1, 2, 3)\n"
          ]
        },
        {
          "output_type": "execute_result",
          "data": {
            "text/plain": [
              "6"
            ]
          },
          "metadata": {},
          "execution_count": 44
        }
      ]
    },
    {
      "cell_type": "code",
      "source": [
        "# **kwargs: 받은 모든 정보를 출력하는 함수 (key-value pairs)\n",
        "\n",
        "def print_profile(**user_info):\n",
        "    print(f\"받은 정보(딕셔너리): {user_info}\")\n",
        "\n",
        "    for key, value in user_info.items():\n",
        "        print(f\"- {key}: {value}\")\n",
        "\n",
        "print_profile(name=\"김파이\", age=30, city=\"서울\", status=\"재직중\", score=\"100\")"
      ],
      "metadata": {
        "colab": {
          "base_uri": "https://localhost:8080/"
        },
        "id": "EjrEDjKG19bC",
        "outputId": "8f136e90-9bd7-45f9-9694-deced4dd7dae"
      },
      "execution_count": null,
      "outputs": [
        {
          "output_type": "stream",
          "name": "stdout",
          "text": [
            "받은 정보(딕셔너리): {'name': '김파이', 'age': 30, 'city': '서울', 'status': '재직중', 'score': '100'}\n",
            "- name: 김파이\n",
            "- age: 30\n",
            "- city: 서울\n",
            "- status: 재직중\n",
            "- score: 100\n"
          ]
        }
      ]
    },
    {
      "cell_type": "markdown",
      "source": [
        "## 모듈과 패키지\n",
        "- mymath 라는 수학 패키지 만들기"
      ],
      "metadata": {
        "id": "9y2yGzhlOqdR"
      }
    },
    {
      "cell_type": "code",
      "source": [
        "!pwd"
      ],
      "metadata": {
        "colab": {
          "base_uri": "https://localhost:8080/"
        },
        "id": "Yy9zasUjHCv1",
        "outputId": "7a3b5824-57ee-449f-9263-73411fd97977"
      },
      "execution_count": null,
      "outputs": [
        {
          "output_type": "stream",
          "name": "stdout",
          "text": [
            "/content\n"
          ]
        }
      ]
    },
    {
      "cell_type": "code",
      "source": [
        "%pwd"
      ],
      "metadata": {
        "colab": {
          "base_uri": "https://localhost:8080/",
          "height": 36
        },
        "id": "bPRZcWJhOMGj",
        "outputId": "43c58737-86f6-4d22-d7d1-4a70e362921c"
      },
      "execution_count": null,
      "outputs": [
        {
          "output_type": "execute_result",
          "data": {
            "text/plain": [
              "'/content'"
            ],
            "application/vnd.google.colaboratory.intrinsic+json": {
              "type": "string"
            }
          },
          "metadata": {},
          "execution_count": 47
        }
      ]
    },
    {
      "cell_type": "code",
      "source": [
        "!ls -l"
      ],
      "metadata": {
        "colab": {
          "base_uri": "https://localhost:8080/"
        },
        "id": "w4izpeJQOMDM",
        "outputId": "9c18a539-4e63-4c42-ca6d-011be5ca3aea"
      },
      "execution_count": null,
      "outputs": [
        {
          "output_type": "stream",
          "name": "stdout",
          "text": [
            "total 4\n",
            "drwxr-xr-x 1 root root 4096 Oct 23 13:40 sample_data\n"
          ]
        }
      ]
    },
    {
      "cell_type": "code",
      "source": [
        "!mkdir mymath\n",
        "%cd mymath"
      ],
      "metadata": {
        "colab": {
          "base_uri": "https://localhost:8080/"
        },
        "id": "dpxodYEhOtcM",
        "outputId": "488adbac-e772-4142-881f-bc59ab1633e6"
      },
      "execution_count": null,
      "outputs": [
        {
          "output_type": "stream",
          "name": "stdout",
          "text": [
            "/content/mymath\n"
          ]
        }
      ]
    },
    {
      "cell_type": "code",
      "source": [
        "%%writefile operations.py\n",
        "def add(a, b):\n",
        "    \"\"\" add two numbers \"\"\"\n",
        "    return a + b\n",
        "\n",
        "def subtract(a, b):\n",
        "    \"\"\" subtract two numbers \"\"\"\n",
        "    return a - b"
      ],
      "metadata": {
        "colab": {
          "base_uri": "https://localhost:8080/"
        },
        "id": "6SPXjaNRPHfJ",
        "outputId": "83ff9ea4-2706-43eb-f5c6-b85399f6fc00"
      },
      "execution_count": null,
      "outputs": [
        {
          "output_type": "stream",
          "name": "stdout",
          "text": [
            "Writing operations.py\n"
          ]
        }
      ]
    },
    {
      "cell_type": "code",
      "source": [
        "%%writefile geometry.py\n",
        "PI = 3.14159\n",
        "\n",
        "def circle_area(radius):\n",
        "    \"\"\" calculate area of the circle \"\"\"\n",
        "    return PI * (radius ** 2)"
      ],
      "metadata": {
        "colab": {
          "base_uri": "https://localhost:8080/"
        },
        "id": "I3J_rIEePecX",
        "outputId": "e4e7de4a-bb7b-4747-a765-72ee59a23a25"
      },
      "execution_count": null,
      "outputs": [
        {
          "output_type": "stream",
          "name": "stdout",
          "text": [
            "Writing geometry.py\n"
          ]
        }
      ]
    },
    {
      "cell_type": "code",
      "source": [
        "%%writefile __init__.py\n",
        "\"\"\" this is my own temporary package. it can be empty. \"\"\""
      ],
      "metadata": {
        "colab": {
          "base_uri": "https://localhost:8080/"
        },
        "id": "0lg-3dTUP4lI",
        "outputId": "e8349808-f733-496e-8747-578835eb3bac"
      },
      "execution_count": null,
      "outputs": [
        {
          "output_type": "stream",
          "name": "stdout",
          "text": [
            "Writing __init__.py\n"
          ]
        }
      ]
    },
    {
      "cell_type": "code",
      "source": [
        "%cd .."
      ],
      "metadata": {
        "colab": {
          "base_uri": "https://localhost:8080/"
        },
        "id": "fqVwGWmpQP4n",
        "outputId": "2aefe3a7-df90-4da9-b155-14b68caf4198"
      },
      "execution_count": null,
      "outputs": [
        {
          "output_type": "stream",
          "name": "stdout",
          "text": [
            "/content\n"
          ]
        }
      ]
    },
    {
      "cell_type": "code",
      "source": [
        "!ls mymath"
      ],
      "metadata": {
        "colab": {
          "base_uri": "https://localhost:8080/"
        },
        "id": "ndnLLRGVzpvK",
        "outputId": "5e310f48-ab60-4dd6-bdb8-70355534cabd"
      },
      "execution_count": null,
      "outputs": [
        {
          "output_type": "stream",
          "name": "stdout",
          "text": [
            "geometry.py  __init__.py  operations.py\n"
          ]
        }
      ]
    },
    {
      "cell_type": "code",
      "source": [
        "# main.py\n",
        "\n",
        "# 방법 1: '패키지.모듈' 형태로 불러오기\n",
        "import mymath.operations\n",
        "import mymath.geometry\n",
        "\n",
        "result1 = mymath.operations.add(10, 5)\n",
        "result2 = mymath.geometry.circle_area(10)\n",
        "\n",
        "print(f\"방법 1) 10 + 5 = {result1}\")\n",
        "print(f\"방법 1) 반지름 10인 원의 넓이: {result2}\")\n",
        "print(\"-\" * 20)\n",
        "\n",
        "# 방법 2: 'from 패키지.모듈 import 함수' 형태로 특정 기능만 불러오기\n",
        "from mymath.operations import subtract\n",
        "from mymath.geometry import PI\n",
        "\n",
        "result3 = subtract(10, 5)\n",
        "\n",
        "print(f\"방법 2) 10 - 5 = {result3}\")\n",
        "print(f\"방법 2) 파이(PI) 값: {PI}\")\n",
        "print(\"-\" * 20)\n",
        "\n",
        "# 방법 3: 모듈에 별명(alias)을 붙여 사용하기\n",
        "import mymath.geometry as geo\n",
        "\n",
        "result4 = geo.circle_area(5)\n",
        "print(f\"방법 3) 반지름 5인 원의 넓이: {result4}\")"
      ],
      "metadata": {
        "colab": {
          "base_uri": "https://localhost:8080/"
        },
        "id": "HpAYg_tuQEyv",
        "outputId": "0fc5a417-3842-478f-fbfd-8a500241b707"
      },
      "execution_count": null,
      "outputs": [
        {
          "output_type": "stream",
          "name": "stdout",
          "text": [
            "방법 1) 10 + 5 = 15\n",
            "방법 1) 반지름 10인 원의 넓이: 314.159\n",
            "--------------------\n",
            "방법 2) 10 - 5 = 5\n",
            "방법 2) 파이(PI) 값: 3.14159\n",
            "--------------------\n",
            "방법 3) 반지름 5인 원의 넓이: 78.53975\n"
          ]
        }
      ]
    },
    {
      "cell_type": "markdown",
      "source": [
        "## 모듈의 import (\\_\\_name__ 특별 변수로 확인)\n",
        "- 파이썬 파일이 직접 실행될 때만 특정 코드 블록을 실행하도록 만드는, 매우 중요한 구문.\n",
        "- 파일이 직접 실행될 때: 터미널에서 python my_script.py처럼 직접 파일을 실행하면, 파이썬 인터프리터는 그 파일의 \\_\\_name__ 변수에 \"\\_\\_main__\"이라는 문자열을 할당\n",
        "- 파일이 모듈로서 임포트될 때: 다른 파일에서 import my_script와 같이 파일을 불러와서 사용하면, 인터프리터는 그 파일의 __name__ 변수에 모듈 이름(파일 이름)이 할당."
      ],
      "metadata": {
        "id": "QjG2jJUHXBRy"
      }
    },
    {
      "cell_type": "code",
      "source": [
        "%%writefile calculator.py\n",
        "\n",
        "# 이 파일의 __name__ 변수가 무엇인지 항상 출력\n",
        "print(f\"[calculator.py] 모듈의 __name__:\", __name__)\n",
        "\n",
        "def add(a, b):\n",
        "    return a + b\n",
        "\n",
        "def main():\n",
        "    # 이 파일이 직접 실행될 때만 보여줄 예시 코드\n",
        "    print(\"계산기 모듈을 직접 실행.\")\n",
        "    result = add(5, 3)\n",
        "    print(f\"테스트 결과: 5 + 3 = {result}\")\n",
        "\n",
        "# 이 파일이 직접 실행될 때만 main() 함수를 호출\n",
        "if __name__ == \"__main__\":\n",
        "    main()"
      ],
      "metadata": {
        "colab": {
          "base_uri": "https://localhost:8080/"
        },
        "id": "EKzrPqXSZskv",
        "outputId": "6226a6c9-8a26-4b26-8f78-6ab381cc60f1"
      },
      "execution_count": null,
      "outputs": [
        {
          "output_type": "stream",
          "name": "stdout",
          "text": [
            "Overwriting calculator.py\n"
          ]
        }
      ]
    },
    {
      "cell_type": "code",
      "source": [
        "%%writefile main_program.py\n",
        "\n",
        "# calculator 모듈을 불러와서 add 함수만 사용\n",
        "import calculator\n",
        "\n",
        "final_result = calculator.add(10, 20)\n",
        "print(final_result)"
      ],
      "metadata": {
        "colab": {
          "base_uri": "https://localhost:8080/"
        },
        "id": "GraxOQVYYaDM",
        "outputId": "27be0536-a50c-4488-88d2-fb79a094d415"
      },
      "execution_count": null,
      "outputs": [
        {
          "output_type": "stream",
          "name": "stdout",
          "text": [
            "Writing main_program.py\n"
          ]
        }
      ]
    },
    {
      "cell_type": "markdown",
      "source": [
        "- import 과정: 파이썬에서 모듈을 '메모리로 로드'하는 과정에는 그 모듈의 코드를 처음부터 끝까지 실행하는 단계가 포함된다. (실제로 실행되는 건 top-level 코드이고, 함수/클래스 내부는 정의만 등록됨). 이것이 다른 컴파일 언어의 '라이브러리 로딩'과 다른 핵심적인 차이점이다.\n",
        "- import 과정:\n",
        "  - 모듈 검색: sys.modules라는 캐시(cache) 영역을 먼저 확인하여 my_module이 이미 로드되었는지 본다. (이미 로드되었다면 캐시에 저장된 모듈 객체를 즉시 반환하고 모든 과정을 종료한다.(이 때문에 모듈 코드는 단 한 번만 실행된다)\n",
        "  - 모듈 객체 생성: my_module이라는 이름으로 비어있는 모듈 객체를 만든다.\n",
        "  - 모듈 코드 실행: my_module.py 파일의 코드를 첫 줄부터 마지막 줄까지 실행한다.(def나 class 구문을 만나면, 함수나 클래스 객체를 생성하여 모듈 객체의 속성으로 추가한다)\n",
        "  - 캐시에 저장: 실행이 완료되어 모든 변수와 함수가 채워진 모듈 객체를 sys.modules에 저장하여, 다음 import 시 재사용할 수 있도록 한다.\n",
        "\n"
      ],
      "metadata": {
        "id": "iEtzNnsUaFZH"
      }
    },
    {
      "cell_type": "code",
      "source": [
        "# 직접 실행\n",
        "!python calculator.py"
      ],
      "metadata": {
        "colab": {
          "base_uri": "https://localhost:8080/"
        },
        "id": "fWqoH7YFZypd",
        "outputId": "f314ed29-2d5d-40ae-b6aa-170c94bcbade"
      },
      "execution_count": null,
      "outputs": [
        {
          "output_type": "stream",
          "name": "stdout",
          "text": [
            "[calculator.py] 모듈의 __name__: __main__\n",
            "계산기 모듈을 직접 실행.\n",
            "테스트 결과: 5 + 3 = 8\n"
          ]
        }
      ]
    },
    {
      "cell_type": "code",
      "source": [
        "!python main_program.py"
      ],
      "metadata": {
        "colab": {
          "base_uri": "https://localhost:8080/"
        },
        "id": "fmcnjGHjZ26M",
        "outputId": "c031a676-4692-4c17-ef6b-f82abd174fc1"
      },
      "execution_count": null,
      "outputs": [
        {
          "output_type": "stream",
          "name": "stdout",
          "text": [
            "[calculator.py] 모듈의 __name__: calculator\n",
            "30\n"
          ]
        }
      ]
    },
    {
      "cell_type": "markdown",
      "source": [
        "# 파이썬 실습"
      ],
      "metadata": {
        "id": "IqY3TrVAY-UW"
      }
    },
    {
      "cell_type": "markdown",
      "source": [
        "- 학생들의 이름과 점수가 담긴 데이터(딕셔너리 리스트)를\n",
        "분석하여, 유의미한 통계 정보를 계산하고 출력한다.\n",
        "- 전체 학생 평균, (2) 최고 득점자, (3) A 학점(90점 이상) 학생 목록 생성을 구현."
      ],
      "metadata": {
        "id": "NIEF9CuNZM1B"
      }
    },
    {
      "cell_type": "code",
      "source": [
        "students = [\n",
        "    {'name': '김철수', 'score': 92},\n",
        "    {'name': '이영희', 'score': 85},\n",
        "    {'name': '박민준', 'score': 78},\n",
        "    {'name': '최유리', 'score': 100},\n",
        "    {'name': '정다혜', 'score': 88},\n",
        "    {'name': '홍길동', 'score': 95}\n",
        "]\n",
        "\n",
        "def calculate_average(student_list):\n",
        "    if not student_list:\n",
        "        return 0\n",
        "\n",
        "    total_score = sum(student['score'] for student in student_list)\n",
        "    return total_score / len(student_list)\n",
        "\n",
        "def find_top_student(student_list):\n",
        "    if not student_list:\n",
        "        return None\n",
        "\n",
        "    return max(student_list, key=lambda student: student['score'])\n",
        "\n",
        "#####\n",
        "def get_score(student):\n",
        "    return student['score']\n",
        "\n",
        "\n",
        "def find_top_student2(student_list):\n",
        "    if not student_list:\n",
        "        return None\n",
        "\n",
        "    return max(student_list, key=get_score)\n",
        "#####\n",
        "\n",
        "def get_high_scorers(student_list, cutoff_score):\n",
        "    return [student['name'] for student in student_list if student['score'] >= cutoff_score]\n",
        "\n",
        "avg_score = calculate_average(students)\n",
        "top_student_info = find_top_student(students)\n",
        "top_student_info = find_top_student2(students)\n",
        "A_graders = get_high_scorers(students, 90)\n",
        "\n",
        "print(\"--- 학생 성적 분석 결과 ---\")\n",
        "print(f\"| 전체 학생 평균 점수: {avg_score:.2f}점\")\n",
        "if top_student_info:\n",
        "    print(f\"| 최고 득점자: {top_student_info['name']} ({top_student_info['score']}점)\")\n",
        "print(f\"| A학점(90점 이상) 학생: {', '.join(A_graders)}\")\n",
        "print(\"--------------------------\")"
      ],
      "metadata": {
        "colab": {
          "base_uri": "https://localhost:8080/"
        },
        "id": "a13AWQ0aE9ny",
        "outputId": "10a300c6-15b4-41ce-ae58-2f624442cc5d"
      },
      "execution_count": null,
      "outputs": [
        {
          "output_type": "stream",
          "name": "stdout",
          "text": [
            "--- 학생 성적 분석 결과 ---\n",
            "| 전체 학생 평균 점수: 89.67점\n",
            "| 최고 득점자: 최유리 (100점)\n",
            "| A학점(90점 이상) 학생: 김철수, 최유리, 홍길동\n",
            "--------------------------\n"
          ]
        }
      ]
    },
    {
      "cell_type": "markdown",
      "source": [
        "# Advanced Features"
      ],
      "metadata": {
        "id": "hpQ9i51BLYm8"
      }
    },
    {
      "cell_type": "markdown",
      "source": [
        "## Call by Object Reference"
      ],
      "metadata": {
        "id": "3B0ZvJnQI6U5"
      }
    },
    {
      "cell_type": "code",
      "source": [
        "# 1. 변경 불가능한(Immutable) 객체를 전달한 경우\n",
        "\n",
        "def modify_immutable(num):\n",
        "    print(num, id(num))\n",
        "    num += 1\n",
        "    print(num, id(num))  # 새로운 숫자 객체가 생성되고 num이 그 객체를 가리킴\n",
        "\n",
        "my_number = 10\n",
        "print(f\"호출 전: {my_number}, {id(my_number)}\")\n",
        "modify_immutable(my_number)\n",
        "print(f\"호출 후: {my_number}, {id(my_number)}\") # 원본 값은 변하지 않음\n"
      ],
      "metadata": {
        "colab": {
          "base_uri": "https://localhost:8080/"
        },
        "id": "eCWDj9dUJA4c",
        "outputId": "a128348d-00d2-47c0-e4e2-26ad1fe6ff23"
      },
      "execution_count": null,
      "outputs": [
        {
          "output_type": "stream",
          "name": "stdout",
          "text": [
            "호출 전: 10, 11654664\n",
            "10 11654664\n",
            "11 11654696\n",
            "호출 후: 10, 11654664\n"
          ]
        }
      ]
    },
    {
      "cell_type": "code",
      "source": [
        "# 2. 변경 가능한(Mutable) 객체를 전달한 경우\n",
        "\n",
        "def modify_mutable(a_list):\n",
        "    print(a_list, id(a_list))\n",
        "    a_list.append(4)\n",
        "    print(a_list, id(a_list))  # 원본 객체 자체의 내용을 변경\n",
        "\n",
        "my_list = [1, 2, 3]\n",
        "print(f\"호출 전: {my_list}, {id(my_list)}\")\n",
        "modify_mutable(my_list)\n",
        "print(f\"호출 후: {my_list}, {id(my_list)}\") # 원본 리스트의 내용이 변경됨"
      ],
      "metadata": {
        "colab": {
          "base_uri": "https://localhost:8080/"
        },
        "id": "t1n-6BTr36EF",
        "outputId": "b2364452-9549-48c4-c21d-c6dc607eac88"
      },
      "execution_count": null,
      "outputs": [
        {
          "output_type": "stream",
          "name": "stdout",
          "text": [
            "호출 전: [1, 2, 3], 134442955742592\n",
            "[1, 2, 3] 134442955742592\n",
            "[1, 2, 3, 4] 134442955742592\n",
            "호출 후: [1, 2, 3, 4], 134442955742592\n"
          ]
        }
      ]
    },
    {
      "cell_type": "markdown",
      "source": [
        "## Class and Object"
      ],
      "metadata": {
        "id": "OZI4u_5YNryJ"
      }
    },
    {
      "cell_type": "code",
      "source": [
        "class Student:\n",
        "    # __init__ 메서드: 객체가 생성될 때 실행되는 초기 설정 함수\n",
        "    def __init__(self, name, score):\n",
        "        self.name = name\n",
        "        self.score = score\n",
        "\n",
        "    # 객체의 기능을 정의하는 메서드(클래스 안의 함수)\n",
        "    def get_info(self):\n",
        "        return f\"이름: {self.name}, 점수: {self.score}점\"\n",
        "\n",
        "# 'Student' 클래스(설계도)로 실제 학생 객체를 생성\n",
        "student1 = Student(\"김철수\", 92)\n",
        "student2 = Student(\"이영희\", 85)\n",
        "\n",
        "# 객체의 메서드 호출\n",
        "print(student1.get_info())\n",
        "print(student2.get_info())"
      ],
      "metadata": {
        "colab": {
          "base_uri": "https://localhost:8080/"
        },
        "id": "kqffouqgNrJm",
        "outputId": "f1e3ac06-2428-404b-e2df-3e40c771b616"
      },
      "execution_count": null,
      "outputs": [
        {
          "output_type": "stream",
          "name": "stdout",
          "text": [
            "이름: 김철수, 점수: 92점\n",
            "이름: 이영희, 점수: 85점\n"
          ]
        }
      ]
    },
    {
      "cell_type": "markdown",
      "source": [
        "## Decorator:\n",
        "- 기존 함수의 코드를 전혀 수정하지 않으면서, 새로운 기능을 덧붙일 수 있게 해주는 방법을 제공"
      ],
      "metadata": {
        "id": "9FdUX9XyOway"
      }
    },
    {
      "cell_type": "code",
      "source": [
        "import time\n",
        "\n",
        "def timing_decorator(func):\n",
        "    def wrapper(*args, **kwargs):\n",
        "        start_time = time.time()\n",
        "        result = func(*args, **kwargs) # 원래 함수 실행\n",
        "        end_time = time.time()\n",
        "        print(f\"'{func.__name__}' 함수 실행 시간: {end_time - start_time:.4f}초\")\n",
        "        return result\n",
        "    return wrapper\n",
        "\n",
        "@timing_decorator\n",
        "def complex_task1():\n",
        "    time.sleep(1.5) # 시간이 걸리는 작업을 시뮬레이션\n",
        "    print(\"복잡한 작업 완료!\")\n",
        "\n",
        "def complex_task2():\n",
        "    time.sleep(1.5) # 시간이 걸리는 작업을 시뮬레이션\n",
        "    print(\"복잡한 작업 완료!\")\n",
        "\n",
        "complex_task2()\n",
        "complex_task1()"
      ],
      "metadata": {
        "colab": {
          "base_uri": "https://localhost:8080/"
        },
        "id": "YNDUnXMHOvZ9",
        "outputId": "ba8d3f09-4cf0-417d-a268-217e8b9bbcc5"
      },
      "execution_count": null,
      "outputs": [
        {
          "output_type": "stream",
          "name": "stdout",
          "text": [
            "복잡한 작업 완료!\n",
            "복잡한 작업 완료!\n",
            "'complex_task1' 함수 실행 시간: 1.5004초\n"
          ]
        }
      ]
    },
    {
      "cell_type": "markdown",
      "source": [
        "## Generators:\n",
        "- 제너레이터는 대량의 데이터를 한 번에 메모리에 저장하는 대신, 필요할 때마다 데이터를 하나씩 만들어내는 특별한 객체이다. 함수 안에서 return 대신 yield 키워드를 사용해 만들며, 데이터가 대용량이거나 무한한 스트림일 때 메모리를 매우 효율적으로 사용할 수 있게 해준다."
      ],
      "metadata": {
        "id": "Ksey6A6cQkH4"
      }
    },
    {
      "cell_type": "code",
      "source": [
        "def number_generator(n):\n",
        "    for i in range(n):\n",
        "        yield i # 값을 하나 생성하고 잠시 멈춤\n",
        "\n",
        "# for 루프가 제너레이터에게 값을 하나씩 요청한다.\n",
        "for number in number_generator(5):\n",
        "    print(number)"
      ],
      "metadata": {
        "colab": {
          "base_uri": "https://localhost:8080/"
        },
        "id": "qCtxS4Y6QpM_",
        "outputId": "64b253cc-a944-497c-faab-5649ca8acb65"
      },
      "execution_count": null,
      "outputs": [
        {
          "output_type": "stream",
          "name": "stdout",
          "text": [
            "0\n",
            "1\n",
            "2\n",
            "3\n",
            "4\n"
          ]
        }
      ]
    },
    {
      "cell_type": "markdown",
      "source": [
        "- genertors: index  접근 불가 (no indexing)"
      ],
      "metadata": {
        "id": "SAx6zTnEU-OU"
      }
    },
    {
      "cell_type": "code",
      "source": [
        "def my_gen(n):\n",
        "    for i in range(n):\n",
        "        yield i\n",
        "\n",
        "gen_obj = my_gen(5)\n",
        "gen_obj\n",
        "\n",
        "# 아래 코드는 TypeError를 발생시킨다.\n",
        "# 'generator' object is not subscriptable (제너레이터 객체는 인덱싱할 수 없다)\n",
        "# print(gen_obj[0])"
      ],
      "metadata": {
        "id": "7R5O9JcbU2xA",
        "colab": {
          "base_uri": "https://localhost:8080/"
        },
        "outputId": "305cd7c5-bd87-4e75-b8c2-fcd57df5275c"
      },
      "execution_count": null,
      "outputs": [
        {
          "output_type": "execute_result",
          "data": {
            "text/plain": [
              "<generator object my_gen at 0x7a46709b3780>"
            ]
          },
          "metadata": {},
          "execution_count": 48
        }
      ]
    },
    {
      "cell_type": "markdown",
      "source": [
        "- 단 한 번의 순회만 가능 (One-time Iteration Only)"
      ],
      "metadata": {
        "id": "UdD0F_Y_VKKn"
      }
    },
    {
      "cell_type": "code",
      "source": [
        "gen_obj = my_gen(3)\n",
        "\n",
        "print(\"첫 번째 순회:\")\n",
        "for item in gen_obj:\n",
        "    print(item)\n",
        "\n",
        "print(\"\\n두 번째 순회:\")\n",
        "# gen_obj는 이미 소진되었으므로, 이 루프는 아무것도 실행하지 않는다.\n",
        "for item in gen_obj:\n",
        "    print(item)\n",
        "print(\"-> 아무것도 출력되지 않음\")"
      ],
      "metadata": {
        "colab": {
          "base_uri": "https://localhost:8080/"
        },
        "id": "qJf-AFYuVOwO",
        "outputId": "c974aeb8-3c0e-498f-855a-76369151217a"
      },
      "execution_count": null,
      "outputs": [
        {
          "output_type": "stream",
          "name": "stdout",
          "text": [
            "첫 번째 순회:\n",
            "0\n",
            "1\n",
            "2\n",
            "\n",
            "두 번째 순회:\n",
            "-> 아무것도 출력되지 않음\n"
          ]
        }
      ]
    },
    {
      "cell_type": "markdown",
      "source": [
        "- generators: 데이터에 여러 번 접근해야 하거나 인덱스를 사용해야 한다면, 제너레이터를 리스트로 변환해야 한다. (여러번 접근이 필요하면 다시 함수를 호출하면 됨)"
      ],
      "metadata": {
        "id": "kkcISMVFVd8q"
      }
    },
    {
      "cell_type": "code",
      "source": [
        "gen_obj = my_gen(5)\n",
        "data_list = list(gen_obj) # 제너레이터를 리스트로 변환\n",
        "\n",
        "print(data_list)      # 출력: [0, 1, 2, 3, 4]\n",
        "print(data_list[0])   # 이제 인덱스 접근이 가능"
      ],
      "metadata": {
        "colab": {
          "base_uri": "https://localhost:8080/"
        },
        "id": "0HHI6CYlVt_h",
        "outputId": "1783f15d-fae8-4e83-d31e-1b74f53198a3"
      },
      "execution_count": null,
      "outputs": [
        {
          "output_type": "stream",
          "name": "stdout",
          "text": [
            "[0, 1, 2, 3, 4]\n",
            "0\n"
          ]
        }
      ]
    },
    {
      "cell_type": "markdown",
      "source": [
        "# 코드 예제"
      ],
      "metadata": {
        "id": "qsPNF8h8ZPmu"
      }
    },
    {
      "cell_type": "markdown",
      "source": [
        "- monte carlo simulation"
      ],
      "metadata": {
        "id": "gZ7QRaXqZVog"
      }
    },
    {
      "cell_type": "code",
      "source": [
        "import random\n",
        "\n",
        "def estimate_pi(n):\n",
        "    inside = 0\n",
        "    for _ in range(n):\n",
        "        x = random.random()\n",
        "        y = random.random()\n",
        "        if x**2 + y**2 <= 1:\n",
        "            inside += 1\n",
        "    return (4 * inside) / n\n",
        "\n",
        "estimate_pi(100000)\n"
      ],
      "metadata": {
        "colab": {
          "base_uri": "https://localhost:8080/"
        },
        "id": "acMccKjhZSrr",
        "outputId": "bd9a7fe8-6384-4490-c931-f216215d6627"
      },
      "execution_count": null,
      "outputs": [
        {
          "output_type": "execute_result",
          "data": {
            "text/plain": [
              "3.1276"
            ]
          },
          "metadata": {},
          "execution_count": 51
        }
      ]
    },
    {
      "cell_type": "code",
      "source": [
        "# numpy array 의 벡터 연산 이용\n",
        "n = 100000\n",
        "x, y = np.random.rand(n), np.random.rand(n)\n",
        "((x**2 + y**2) < 1.0).sum() * 4 /n"
      ],
      "metadata": {
        "colab": {
          "base_uri": "https://localhost:8080/"
        },
        "id": "Jv6NBKjM_Mt2",
        "outputId": "6f9cc076-38a8-4306-a784-a299240bb69e"
      },
      "execution_count": null,
      "outputs": [
        {
          "output_type": "execute_result",
          "data": {
            "text/plain": [
              "np.float64(3.1444)"
            ]
          },
          "metadata": {},
          "execution_count": 52
        }
      ]
    },
    {
      "cell_type": "markdown",
      "source": [
        "- 바빌로니안 방법으로 제곱근 계산 (결과적으로는 뉴튼 방법과 동일)"
      ],
      "metadata": {
        "id": "UozQy1hvZg_R"
      }
    },
    {
      "cell_type": "code",
      "source": [
        "def sqrt_newton(x, tolerance=1e-10):\n",
        "    guess = x / 2\n",
        "    while abs(guess**2 - x) > tolerance:\n",
        "        guess = (guess + x / guess) / 2\n",
        "    return guess\n",
        "\n",
        "print(\"sqrt(2):\", sqrt_newton(2))\n"
      ],
      "metadata": {
        "colab": {
          "base_uri": "https://localhost:8080/"
        },
        "id": "Hdfdv0uCZjfd",
        "outputId": "3df5b00b-9cde-4bc7-a8de-ca4a26b1999b"
      },
      "execution_count": null,
      "outputs": [
        {
          "output_type": "stream",
          "name": "stdout",
          "text": [
            "sqrt(2): 1.4142135623746899\n"
          ]
        }
      ]
    },
    {
      "cell_type": "markdown",
      "source": [
        "- 뉴턴 방법으로 제곱근 계산\n"
      ],
      "metadata": {
        "id": "P7U99CLoJeUR"
      }
    },
    {
      "cell_type": "code",
      "source": [
        "def sqrt_newton2(c, tolerance=1e-10):\n",
        "    guess = c / 2\n",
        "    while abs(guess**2 - c) > tolerance:\n",
        "        guess = guess - (guess**2 - c) / (2 * guess)\n",
        "    return guess\n",
        "\n",
        "print(\"sqrt(2):\", sqrt_newton2(2))"
      ],
      "metadata": {
        "colab": {
          "base_uri": "https://localhost:8080/"
        },
        "id": "JLoOi5sJKUgm",
        "outputId": "be44d307-885d-4679-902a-d27683e3cbb1"
      },
      "execution_count": null,
      "outputs": [
        {
          "output_type": "stream",
          "name": "stdout",
          "text": [
            "sqrt(2): 1.4142135623746899\n"
          ]
        }
      ]
    },
    {
      "cell_type": "markdown",
      "source": [
        "- 문자열 회문 검사 (Palindrome Check)"
      ],
      "metadata": {
        "id": "yhrLh2o1Zs6f"
      }
    },
    {
      "cell_type": "code",
      "source": [
        "def is_palindrome(s):\n",
        "    s = s.lower().replace(\" \", \"\")\n",
        "    return s == s[::-1]\n",
        "\n",
        "print(is_palindrome(\"A man a plan a canal Panama\"))  # True\n",
        "print(is_palindrome(\"기러기\"))  # True\n",
        "print(is_palindrome(\"nomen\"))"
      ],
      "metadata": {
        "colab": {
          "base_uri": "https://localhost:8080/"
        },
        "id": "EEpa6ZbNZvt2",
        "outputId": "7f09e80f-6e36-458f-c73b-f339b5e09492"
      },
      "execution_count": null,
      "outputs": [
        {
          "output_type": "stream",
          "name": "stdout",
          "text": [
            "True\n",
            "True\n",
            "False\n"
          ]
        }
      ]
    },
    {
      "cell_type": "markdown",
      "source": [
        "- 단어별 빈도수 세기 (텍스트 분석 기초)"
      ],
      "metadata": {
        "id": "kuK9iW6MaOzS"
      }
    },
    {
      "cell_type": "code",
      "source": [
        "def word_count(text):\n",
        "    words = text.lower().split()\n",
        "    counts = {}\n",
        "    for word in words:\n",
        "        counts[word] = counts.get(word, 0) + 1  # my_dict.get(key, default_value)\n",
        "    return counts\n",
        "\n",
        "sample = \"Python is easy and powerful. Python is fun.\"\n",
        "print(word_count(sample))"
      ],
      "metadata": {
        "colab": {
          "base_uri": "https://localhost:8080/"
        },
        "id": "6AaM3O8vaHgl",
        "outputId": "c4d1767c-e2d9-4b38-94d8-2f8a01bb87df"
      },
      "execution_count": null,
      "outputs": [
        {
          "output_type": "stream",
          "name": "stdout",
          "text": [
            "{'python': 2, 'is': 2, 'easy': 1, 'and': 1, 'powerful.': 1, 'fun.': 1}\n"
          ]
        }
      ]
    },
    {
      "cell_type": "markdown",
      "source": [
        "- 권장 코드 스타일"
      ],
      "metadata": {
        "id": "065W4Fwsd1a-"
      }
    },
    {
      "cell_type": "code",
      "source": [
        "import random\n",
        "\n",
        "def generate_lotto_numbers(count=6, min_number=1, max_number=45):\n",
        "    \"\"\"\n",
        "    로또 번호를 생성하는 함수.\n",
        "\n",
        "    Parameters:\n",
        "        count (int): 생성할 번호 개수 (기본값: 6)\n",
        "        min_number (int): 번호의 최소값 (기본값: 1)\n",
        "        max_number (int): 번호의 최대값 (기본값: 45)\n",
        "\n",
        "    Returns:\n",
        "        list: 정렬된 로또 번호 리스트\n",
        "    \"\"\"\n",
        "    if count > (max_number - min_number + 1):\n",
        "        raise ValueError(\"번호 범위보다 많은 숫자를 뽑을 수 없습니다.\") # 의도적으로 예외 발생 (실행 중단)\n",
        "\n",
        "    numbers = random.sample(range(min_number, max_number + 1), count)\n",
        "    return sorted(numbers)\n",
        "\n",
        "def main():\n",
        "    try:\n",
        "        lotto = generate_lotto_numbers()\n",
        "        print(\"이번 주 로또 번호:\", lotto)\n",
        "    except ValueError as e:\n",
        "        print(\"오류:\", e)\n",
        "\n",
        "# 이 파일이 프로그램의 시작점으로서 직접 실행되었는지 모듈로서 임포트되었는지 구분.\n",
        "if __name__ == \"__main__\":\n",
        "    main()\n"
      ],
      "metadata": {
        "colab": {
          "base_uri": "https://localhost:8080/"
        },
        "id": "af5dyoJvd45u",
        "outputId": "35c3e5e9-8e9a-46fe-c1b4-9cc80b72e139"
      },
      "execution_count": null,
      "outputs": [
        {
          "output_type": "stream",
          "name": "stdout",
          "text": [
            "이번 주 로또 번호: [15, 22, 24, 30, 34, 36]\n"
          ]
        }
      ]
    },
    {
      "cell_type": "markdown",
      "source": [
        "# Exercise"
      ],
      "metadata": {
        "id": "9r-u9AzDc_LK"
      }
    },
    {
      "cell_type": "markdown",
      "source": [
        "## Iterator and Generator\n",
        "  - Iterator = \"값을 하나씩 꺼낼 수 있는 객체\"\n",
        "  - Generator = \"yield로 쉽게 만드는 iterator\""
      ],
      "metadata": {
        "id": "-zVKwunygoJK"
      }
    },
    {
      "cell_type": "markdown",
      "source": [
        "- iterator:\n",
        "  - 특징: 모든 iterator는 한 번에 하나씩 값을 꺼낼 수 있음.\n",
        "  - iter() 함수로 리스트를 iterator로 바꿨고, next()로 하나씩 꺼낼 수 있다."
      ],
      "metadata": {
        "id": "yQa00XtDdEeI"
      }
    },
    {
      "cell_type": "code",
      "source": [
        "# 리스트를 iterator로 변환\n",
        "numbers = [1, 2, 3]\n",
        "it = iter(numbers)   # iterator 생성"
      ],
      "metadata": {
        "id": "8jX3vbR2dCL4"
      },
      "execution_count": 50,
      "outputs": []
    },
    {
      "cell_type": "code",
      "source": [
        "it[0]   # indexing 안됨"
      ],
      "metadata": {
        "colab": {
          "base_uri": "https://localhost:8080/",
          "height": 141
        },
        "id": "o1aeiTPLdjDQ",
        "outputId": "29b2e8f5-b612-4f18-a533-bab4565e0a01"
      },
      "execution_count": 52,
      "outputs": [
        {
          "output_type": "error",
          "ename": "TypeError",
          "evalue": "'list_iterator' object is not subscriptable",
          "traceback": [
            "\u001b[0;31m---------------------------------------------------------------------------\u001b[0m",
            "\u001b[0;31mTypeError\u001b[0m                                 Traceback (most recent call last)",
            "\u001b[0;32m/tmp/ipython-input-4134968702.py\u001b[0m in \u001b[0;36m<cell line: 0>\u001b[0;34m()\u001b[0m\n\u001b[0;32m----> 1\u001b[0;31m \u001b[0mit\u001b[0m\u001b[0;34m[\u001b[0m\u001b[0;36m0\u001b[0m\u001b[0;34m]\u001b[0m   \u001b[0;31m# indexing 안됨\u001b[0m\u001b[0;34m\u001b[0m\u001b[0;34m\u001b[0m\u001b[0m\n\u001b[0m",
            "\u001b[0;31mTypeError\u001b[0m: 'list_iterator' object is not subscriptable"
          ]
        }
      ]
    },
    {
      "cell_type": "code",
      "source": [
        "for i in it:   # 한번만 실행됨\n",
        "    print(i)"
      ],
      "metadata": {
        "id": "XoUgGfm0dzhp"
      },
      "execution_count": 54,
      "outputs": []
    },
    {
      "cell_type": "code",
      "source": [
        "for i in iter(numbers):  # 정상적인 사용방법\n",
        "    print(i)"
      ],
      "metadata": {
        "colab": {
          "base_uri": "https://localhost:8080/"
        },
        "id": "h6ZhkEfFdkYR",
        "outputId": "f0dfe9a6-5f0b-4954-94db-d731ca5571e0"
      },
      "execution_count": 55,
      "outputs": [
        {
          "output_type": "stream",
          "name": "stdout",
          "text": [
            "1\n",
            "2\n",
            "3\n"
          ]
        }
      ]
    },
    {
      "cell_type": "code",
      "source": [
        "it = iter(numbers)"
      ],
      "metadata": {
        "id": "-rThWMdnfFC6"
      },
      "execution_count": 56,
      "outputs": []
    },
    {
      "cell_type": "code",
      "source": [
        "next(it)  # 한 번에 하나씩 , 그리고 모두 바닥나면 에러"
      ],
      "metadata": {
        "colab": {
          "base_uri": "https://localhost:8080/"
        },
        "id": "9n00aTAlfKth",
        "outputId": "4db5a651-8ed4-4897-d7de-1c7ced87ecae"
      },
      "execution_count": 58,
      "outputs": [
        {
          "output_type": "execute_result",
          "data": {
            "text/plain": [
              "2"
            ]
          },
          "metadata": {},
          "execution_count": 58
        }
      ]
    },
    {
      "cell_type": "markdown",
      "source": [
        "- Generator\n",
        "  - 정의: yield 키워드를 사용해 iterator를 자동으로 만들어주는 함수.\n",
        "  - 특징: 메모리를 절약 (필요할 때 값 생성)\n",
        "  - \\_\\_iter\\_\\_()와 \\_\\_next__()를 자동으로 구현"
      ],
      "metadata": {
        "id": "CVFrUloNf8Vk"
      }
    },
    {
      "cell_type": "markdown",
      "source": [
        "- generator는 함수 안에서 yield를 만나면 실행을 멈추고, 다음 next() 호출 시 멈춘 지점부터 다시 실행."
      ],
      "metadata": {
        "id": "M32rsw6HetH5"
      }
    },
    {
      "cell_type": "code",
      "source": [
        "def my_generator():\n",
        "    yield 1\n",
        "    yield 2\n",
        "    yield 3\n",
        "\n",
        "gen = my_generator()"
      ],
      "metadata": {
        "id": "ZHiTO5kQeKL4"
      },
      "execution_count": 64,
      "outputs": []
    },
    {
      "cell_type": "code",
      "source": [
        "next(gen)   # 한 번에 하나씩 , 그리고 모두 바닥나면 에러"
      ],
      "metadata": {
        "colab": {
          "base_uri": "https://localhost:8080/"
        },
        "id": "T6OROHK5enko",
        "outputId": "961952f7-6a99-4b8e-fd47-8b8ea61ea534"
      },
      "execution_count": 65,
      "outputs": [
        {
          "output_type": "execute_result",
          "data": {
            "text/plain": [
              "1"
            ]
          },
          "metadata": {},
          "execution_count": 65
        }
      ]
    },
    {
      "cell_type": "code",
      "source": [
        "gen = my_generator()\n",
        "\n",
        "for i in gen:\n",
        "    print(i)"
      ],
      "metadata": {
        "colab": {
          "base_uri": "https://localhost:8080/"
        },
        "id": "MAIRcY3mgW0Q",
        "outputId": "d2c1c0d1-3a6e-438d-d45b-2bae7873f69c"
      },
      "execution_count": 67,
      "outputs": [
        {
          "output_type": "stream",
          "name": "stdout",
          "text": [
            "1\n",
            "2\n",
            "3\n"
          ]
        }
      ]
    },
    {
      "cell_type": "code",
      "source": [
        "my_generator()"
      ],
      "metadata": {
        "colab": {
          "base_uri": "https://localhost:8080/"
        },
        "id": "rUU5FanbgbrQ",
        "outputId": "b79d4462-64e2-453b-f50e-e201312fcfe7"
      },
      "execution_count": 68,
      "outputs": [
        {
          "output_type": "execute_result",
          "data": {
            "text/plain": [
              "<generator object my_generator at 0x7acc4eb03740>"
            ]
          },
          "metadata": {},
          "execution_count": 68
        }
      ]
    }
  ]
}